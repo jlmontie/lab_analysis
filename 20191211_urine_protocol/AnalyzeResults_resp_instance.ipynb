{
 "cells": [
  {
   "cell_type": "markdown",
   "metadata": {},
   "source": [
    "## Imports"
   ]
  },
  {
   "cell_type": "code",
   "execution_count": 8,
   "metadata": {},
   "outputs": [],
   "source": [
    "import pandas as pd\n",
    "import plotly.graph_objects as go\n",
    "import plotly.express as px"
   ]
  },
  {
   "cell_type": "markdown",
   "metadata": {},
   "source": [
    "## Load data"
   ]
  },
  {
   "cell_type": "code",
   "execution_count": 9,
   "metadata": {},
   "outputs": [
    {
     "data": {
      "text/html": [
       "<div>\n",
       "<style scoped>\n",
       "    .dataframe tbody tr th:only-of-type {\n",
       "        vertical-align: middle;\n",
       "    }\n",
       "\n",
       "    .dataframe tbody tr th {\n",
       "        vertical-align: top;\n",
       "    }\n",
       "\n",
       "    .dataframe thead th {\n",
       "        text-align: right;\n",
       "    }\n",
       "</style>\n",
       "<table border=\"1\" class=\"dataframe\">\n",
       "  <thead>\n",
       "    <tr style=\"text-align: right;\">\n",
       "      <th></th>\n",
       "      <th>Accession</th>\n",
       "      <th>total_reads</th>\n",
       "      <th>t7_reads</th>\n",
       "      <th>t7_normalized_reads</th>\n",
       "      <th>ecoli_reads</th>\n",
       "      <th>ecoli_normalized_reads</th>\n",
       "      <th>Human</th>\n",
       "      <th>Bacteria</th>\n",
       "      <th>Virus</th>\n",
       "      <th>Parasite</th>\n",
       "      <th>Fungus</th>\n",
       "      <th>Unclassified</th>\n",
       "      <th>Pool</th>\n",
       "      <th>Pool replicate</th>\n",
       "      <th>sample</th>\n",
       "      <th>centrifugation</th>\n",
       "      <th>Description</th>\n",
       "    </tr>\n",
       "  </thead>\n",
       "  <tbody>\n",
       "    <tr>\n",
       "      <th>0</th>\n",
       "      <td>IDBD-D100970</td>\n",
       "      <td>3487466</td>\n",
       "      <td>683</td>\n",
       "      <td>1958.442032</td>\n",
       "      <td>21294</td>\n",
       "      <td>61058.659783</td>\n",
       "      <td>2.070661e+06</td>\n",
       "      <td>5706.148820</td>\n",
       "      <td>246843.983569</td>\n",
       "      <td>197.851391</td>\n",
       "      <td>48.745995</td>\n",
       "      <td>7.676542e+06</td>\n",
       "      <td>3</td>\n",
       "      <td>3A</td>\n",
       "      <td>No DNAse</td>\n",
       "      <td>No Spin</td>\n",
       "      <td>No Spin, No DNAse, Pool 3A</td>\n",
       "    </tr>\n",
       "    <tr>\n",
       "      <th>1</th>\n",
       "      <td>IDBD-D100971</td>\n",
       "      <td>3879592</td>\n",
       "      <td>707</td>\n",
       "      <td>1822.356578</td>\n",
       "      <td>23181</td>\n",
       "      <td>59751.128469</td>\n",
       "      <td>2.075589e+06</td>\n",
       "      <td>5263.440073</td>\n",
       "      <td>240605.197660</td>\n",
       "      <td>213.940023</td>\n",
       "      <td>28.353497</td>\n",
       "      <td>7.678300e+06</td>\n",
       "      <td>3</td>\n",
       "      <td>3B</td>\n",
       "      <td>No DNAse</td>\n",
       "      <td>No Spin</td>\n",
       "      <td>No Spin, No DNAse, Pool 3B</td>\n",
       "    </tr>\n",
       "    <tr>\n",
       "      <th>2</th>\n",
       "      <td>IDBD-D100972</td>\n",
       "      <td>4178284</td>\n",
       "      <td>805</td>\n",
       "      <td>1926.628252</td>\n",
       "      <td>35726</td>\n",
       "      <td>85504.001164</td>\n",
       "      <td>2.008813e+06</td>\n",
       "      <td>6117.343867</td>\n",
       "      <td>274734.795433</td>\n",
       "      <td>244.119356</td>\n",
       "      <td>19.146616</td>\n",
       "      <td>7.710072e+06</td>\n",
       "      <td>4</td>\n",
       "      <td>4A</td>\n",
       "      <td>No DNAse</td>\n",
       "      <td>No Spin</td>\n",
       "      <td>No Spin, No DNAse, Pool 4A</td>\n",
       "    </tr>\n",
       "    <tr>\n",
       "      <th>3</th>\n",
       "      <td>IDBD-D100973</td>\n",
       "      <td>2849723</td>\n",
       "      <td>484</td>\n",
       "      <td>1698.410688</td>\n",
       "      <td>22530</td>\n",
       "      <td>79060.315687</td>\n",
       "      <td>2.084146e+06</td>\n",
       "      <td>5733.890627</td>\n",
       "      <td>262888.708832</td>\n",
       "      <td>245.637909</td>\n",
       "      <td>17.545565</td>\n",
       "      <td>7.646968e+06</td>\n",
       "      <td>4</td>\n",
       "      <td>4B</td>\n",
       "      <td>No DNAse</td>\n",
       "      <td>No Spin</td>\n",
       "      <td>No Spin, No DNAse, Pool 4B</td>\n",
       "    </tr>\n",
       "    <tr>\n",
       "      <th>4</th>\n",
       "      <td>IDBD-D100974</td>\n",
       "      <td>2732588</td>\n",
       "      <td>2433</td>\n",
       "      <td>8903.647385</td>\n",
       "      <td>60304</td>\n",
       "      <td>220684.567158</td>\n",
       "      <td>3.310634e+05</td>\n",
       "      <td>13895.252413</td>\n",
       "      <td>642079.962292</td>\n",
       "      <td>21.957207</td>\n",
       "      <td>76.850224</td>\n",
       "      <td>9.012863e+06</td>\n",
       "      <td>3</td>\n",
       "      <td>3A</td>\n",
       "      <td>DNAse</td>\n",
       "      <td>No Spin</td>\n",
       "      <td>No Spin, DNAse, Pool 3A</td>\n",
       "    </tr>\n",
       "  </tbody>\n",
       "</table>\n",
       "</div>"
      ],
      "text/plain": [
       "      Accession  total_reads  t7_reads  t7_normalized_reads  ecoli_reads  \\\n",
       "0  IDBD-D100970      3487466       683          1958.442032        21294   \n",
       "1  IDBD-D100971      3879592       707          1822.356578        23181   \n",
       "2  IDBD-D100972      4178284       805          1926.628252        35726   \n",
       "3  IDBD-D100973      2849723       484          1698.410688        22530   \n",
       "4  IDBD-D100974      2732588      2433          8903.647385        60304   \n",
       "\n",
       "   ecoli_normalized_reads         Human      Bacteria          Virus  \\\n",
       "0            61058.659783  2.070661e+06   5706.148820  246843.983569   \n",
       "1            59751.128469  2.075589e+06   5263.440073  240605.197660   \n",
       "2            85504.001164  2.008813e+06   6117.343867  274734.795433   \n",
       "3            79060.315687  2.084146e+06   5733.890627  262888.708832   \n",
       "4           220684.567158  3.310634e+05  13895.252413  642079.962292   \n",
       "\n",
       "     Parasite     Fungus  Unclassified  Pool Pool replicate    sample  \\\n",
       "0  197.851391  48.745995  7.676542e+06     3             3A  No DNAse   \n",
       "1  213.940023  28.353497  7.678300e+06     3             3B  No DNAse   \n",
       "2  244.119356  19.146616  7.710072e+06     4             4A  No DNAse   \n",
       "3  245.637909  17.545565  7.646968e+06     4             4B  No DNAse   \n",
       "4   21.957207  76.850224  9.012863e+06     3             3A     DNAse   \n",
       "\n",
       "  centrifugation                 Description  \n",
       "0        No Spin  No Spin, No DNAse, Pool 3A  \n",
       "1        No Spin  No Spin, No DNAse, Pool 3B  \n",
       "2        No Spin  No Spin, No DNAse, Pool 4A  \n",
       "3        No Spin  No Spin, No DNAse, Pool 4B  \n",
       "4        No Spin     No Spin, DNAse, Pool 3A  "
      ]
     },
     "execution_count": 9,
     "metadata": {},
     "output_type": "execute_result"
    }
   ],
   "source": [
    "data = pd.read_csv('191209-2-1_results.csv')\n",
    "info = pd.read_csv('sample_info.csv')\n",
    "merged = data.merge(info, on='Accession')\n",
    "merged = merged.replace({'None': 'No Spin'})\n",
    "merged['Description'] =  merged['centrifugation'] + \", \" + merged['sample'] + \", \" + 'Pool ' + merged['Pool replicate'].astype(str)\n",
    "merged.head()"
   ]
  },
  {
   "cell_type": "code",
   "execution_count": 10,
   "metadata": {},
   "outputs": [
    {
     "data": {
      "application/vnd.plotly.v1+json": {
       "config": {
        "plotlyServerURL": "https://plot.ly"
       },
       "data": [
        {
         "alignmentgroup": "True",
         "hoverlabel": {
          "namelength": 0
         },
         "hovertemplate": "sample=No DNAse<br>centrifugation=%{x}<br>T7 Normalized Reads=%{y}",
         "legendgroup": "sample=No DNAse",
         "marker": {
          "color": "#636efa"
         },
         "name": "sample=No DNAse",
         "notched": false,
         "offsetgroup": "sample=No DNAse",
         "orientation": "v",
         "showlegend": true,
         "type": "box",
         "x": [
          "No Spin",
          "No Spin",
          "No Spin",
          "No Spin"
         ],
         "x0": " ",
         "xaxis": "x",
         "y": [
          1958.442032123037,
          1822.3565777019849,
          1926.6282521724231,
          1698.4106876352546
         ],
         "y0": " ",
         "yaxis": "y"
        },
        {
         "alignmentgroup": "True",
         "hoverlabel": {
          "namelength": 0
         },
         "hovertemplate": "sample=DNAse<br>centrifugation=%{x}<br>T7 Normalized Reads=%{y}",
         "legendgroup": "sample=DNAse",
         "marker": {
          "color": "#EF553B"
         },
         "name": "sample=DNAse",
         "notched": false,
         "offsetgroup": "sample=DNAse",
         "orientation": "v",
         "showlegend": true,
         "type": "box",
         "x": [
          "No Spin",
          "No Spin",
          "No Spin",
          "No Spin"
         ],
         "x0": " ",
         "xaxis": "x",
         "y": [
          8903.647384823471,
          8825.500266248851,
          7210.459213310418,
          7421.681546919138
         ],
         "y0": " ",
         "yaxis": "y"
        },
        {
         "alignmentgroup": "True",
         "hoverlabel": {
          "namelength": 0
         },
         "hovertemplate": "sample=pellet<br>centrifugation=%{x}<br>T7 Normalized Reads=%{y}",
         "legendgroup": "sample=pellet",
         "marker": {
          "color": "#00cc96"
         },
         "name": "sample=pellet",
         "notched": false,
         "offsetgroup": "sample=pellet",
         "orientation": "v",
         "showlegend": true,
         "type": "box",
         "x": [
          "200g",
          "200g",
          "200g",
          "200g",
          "400g",
          "400g",
          "400g",
          "400g",
          "1000g",
          "1000g",
          "1000g",
          "1000g",
          "2000g",
          "2000g",
          "2000g",
          "2000g"
         ],
         "x0": " ",
         "xaxis": "x",
         "y": [
          2684.9340310345665,
          3051.718945298861,
          2567.5156655284713,
          2717.8776479904973,
          2855.7717723214696,
          2939.9958550878114,
          2354.673959558304,
          2285.919771515596,
          3238.4353839614173,
          3141.38815110538,
          2194.749086494904,
          2514.025797877806,
          3496.547456711961,
          2555.665283071273,
          2223.1686240787644,
          2249.6168152691325
         ],
         "y0": " ",
         "yaxis": "y"
        },
        {
         "alignmentgroup": "True",
         "hoverlabel": {
          "namelength": 0
         },
         "hovertemplate": "sample=supernatant<br>centrifugation=%{x}<br>T7 Normalized Reads=%{y}",
         "legendgroup": "sample=supernatant",
         "marker": {
          "color": "#ab63fa"
         },
         "name": "sample=supernatant",
         "notched": false,
         "offsetgroup": "sample=supernatant",
         "orientation": "v",
         "showlegend": true,
         "type": "box",
         "x": [
          "200g",
          "200g",
          "200g",
          "200g",
          "400g",
          "400g",
          "400g",
          "400g",
          "1000g",
          "1000g",
          "1000g",
          "1000g",
          "2000g",
          "2000g",
          "2000g",
          "2000g"
         ],
         "x0": " ",
         "xaxis": "x",
         "y": [
          6566.951980168434,
          5200.696407749932,
          6304.801807776062,
          6622.635716147215,
          6311.616474151362,
          5514.657861326339,
          8310.287172458186,
          9209.233976098029,
          7595.171829739176,
          7854.342152460821,
          11658.294227661228,
          12119.78688038572,
          8225.357345687322,
          7851.232942971154,
          12445.131223335158,
          13924.162286111443
         ],
         "y0": " ",
         "yaxis": "y"
        }
       ],
       "layout": {
        "autosize": true,
        "boxmode": "group",
        "legend": {
         "tracegroupgap": 0
        },
        "margin": {
         "t": 60
        },
        "template": {
         "data": {
          "bar": [
           {
            "error_x": {
             "color": "#2a3f5f"
            },
            "error_y": {
             "color": "#2a3f5f"
            },
            "marker": {
             "line": {
              "color": "#E5ECF6",
              "width": 0.5
             }
            },
            "type": "bar"
           }
          ],
          "barpolar": [
           {
            "marker": {
             "line": {
              "color": "#E5ECF6",
              "width": 0.5
             }
            },
            "type": "barpolar"
           }
          ],
          "carpet": [
           {
            "aaxis": {
             "endlinecolor": "#2a3f5f",
             "gridcolor": "white",
             "linecolor": "white",
             "minorgridcolor": "white",
             "startlinecolor": "#2a3f5f"
            },
            "baxis": {
             "endlinecolor": "#2a3f5f",
             "gridcolor": "white",
             "linecolor": "white",
             "minorgridcolor": "white",
             "startlinecolor": "#2a3f5f"
            },
            "type": "carpet"
           }
          ],
          "choropleth": [
           {
            "colorbar": {
             "outlinewidth": 0,
             "ticks": ""
            },
            "type": "choropleth"
           }
          ],
          "contour": [
           {
            "colorbar": {
             "outlinewidth": 0,
             "ticks": ""
            },
            "colorscale": [
             [
              0,
              "#0d0887"
             ],
             [
              0.1111111111111111,
              "#46039f"
             ],
             [
              0.2222222222222222,
              "#7201a8"
             ],
             [
              0.3333333333333333,
              "#9c179e"
             ],
             [
              0.4444444444444444,
              "#bd3786"
             ],
             [
              0.5555555555555556,
              "#d8576b"
             ],
             [
              0.6666666666666666,
              "#ed7953"
             ],
             [
              0.7777777777777778,
              "#fb9f3a"
             ],
             [
              0.8888888888888888,
              "#fdca26"
             ],
             [
              1,
              "#f0f921"
             ]
            ],
            "type": "contour"
           }
          ],
          "contourcarpet": [
           {
            "colorbar": {
             "outlinewidth": 0,
             "ticks": ""
            },
            "type": "contourcarpet"
           }
          ],
          "heatmap": [
           {
            "colorbar": {
             "outlinewidth": 0,
             "ticks": ""
            },
            "colorscale": [
             [
              0,
              "#0d0887"
             ],
             [
              0.1111111111111111,
              "#46039f"
             ],
             [
              0.2222222222222222,
              "#7201a8"
             ],
             [
              0.3333333333333333,
              "#9c179e"
             ],
             [
              0.4444444444444444,
              "#bd3786"
             ],
             [
              0.5555555555555556,
              "#d8576b"
             ],
             [
              0.6666666666666666,
              "#ed7953"
             ],
             [
              0.7777777777777778,
              "#fb9f3a"
             ],
             [
              0.8888888888888888,
              "#fdca26"
             ],
             [
              1,
              "#f0f921"
             ]
            ],
            "type": "heatmap"
           }
          ],
          "heatmapgl": [
           {
            "colorbar": {
             "outlinewidth": 0,
             "ticks": ""
            },
            "colorscale": [
             [
              0,
              "#0d0887"
             ],
             [
              0.1111111111111111,
              "#46039f"
             ],
             [
              0.2222222222222222,
              "#7201a8"
             ],
             [
              0.3333333333333333,
              "#9c179e"
             ],
             [
              0.4444444444444444,
              "#bd3786"
             ],
             [
              0.5555555555555556,
              "#d8576b"
             ],
             [
              0.6666666666666666,
              "#ed7953"
             ],
             [
              0.7777777777777778,
              "#fb9f3a"
             ],
             [
              0.8888888888888888,
              "#fdca26"
             ],
             [
              1,
              "#f0f921"
             ]
            ],
            "type": "heatmapgl"
           }
          ],
          "histogram": [
           {
            "marker": {
             "colorbar": {
              "outlinewidth": 0,
              "ticks": ""
             }
            },
            "type": "histogram"
           }
          ],
          "histogram2d": [
           {
            "colorbar": {
             "outlinewidth": 0,
             "ticks": ""
            },
            "colorscale": [
             [
              0,
              "#0d0887"
             ],
             [
              0.1111111111111111,
              "#46039f"
             ],
             [
              0.2222222222222222,
              "#7201a8"
             ],
             [
              0.3333333333333333,
              "#9c179e"
             ],
             [
              0.4444444444444444,
              "#bd3786"
             ],
             [
              0.5555555555555556,
              "#d8576b"
             ],
             [
              0.6666666666666666,
              "#ed7953"
             ],
             [
              0.7777777777777778,
              "#fb9f3a"
             ],
             [
              0.8888888888888888,
              "#fdca26"
             ],
             [
              1,
              "#f0f921"
             ]
            ],
            "type": "histogram2d"
           }
          ],
          "histogram2dcontour": [
           {
            "colorbar": {
             "outlinewidth": 0,
             "ticks": ""
            },
            "colorscale": [
             [
              0,
              "#0d0887"
             ],
             [
              0.1111111111111111,
              "#46039f"
             ],
             [
              0.2222222222222222,
              "#7201a8"
             ],
             [
              0.3333333333333333,
              "#9c179e"
             ],
             [
              0.4444444444444444,
              "#bd3786"
             ],
             [
              0.5555555555555556,
              "#d8576b"
             ],
             [
              0.6666666666666666,
              "#ed7953"
             ],
             [
              0.7777777777777778,
              "#fb9f3a"
             ],
             [
              0.8888888888888888,
              "#fdca26"
             ],
             [
              1,
              "#f0f921"
             ]
            ],
            "type": "histogram2dcontour"
           }
          ],
          "mesh3d": [
           {
            "colorbar": {
             "outlinewidth": 0,
             "ticks": ""
            },
            "type": "mesh3d"
           }
          ],
          "parcoords": [
           {
            "line": {
             "colorbar": {
              "outlinewidth": 0,
              "ticks": ""
             }
            },
            "type": "parcoords"
           }
          ],
          "pie": [
           {
            "automargin": true,
            "type": "pie"
           }
          ],
          "scatter": [
           {
            "marker": {
             "colorbar": {
              "outlinewidth": 0,
              "ticks": ""
             }
            },
            "type": "scatter"
           }
          ],
          "scatter3d": [
           {
            "line": {
             "colorbar": {
              "outlinewidth": 0,
              "ticks": ""
             }
            },
            "marker": {
             "colorbar": {
              "outlinewidth": 0,
              "ticks": ""
             }
            },
            "type": "scatter3d"
           }
          ],
          "scattercarpet": [
           {
            "marker": {
             "colorbar": {
              "outlinewidth": 0,
              "ticks": ""
             }
            },
            "type": "scattercarpet"
           }
          ],
          "scattergeo": [
           {
            "marker": {
             "colorbar": {
              "outlinewidth": 0,
              "ticks": ""
             }
            },
            "type": "scattergeo"
           }
          ],
          "scattergl": [
           {
            "marker": {
             "colorbar": {
              "outlinewidth": 0,
              "ticks": ""
             }
            },
            "type": "scattergl"
           }
          ],
          "scattermapbox": [
           {
            "marker": {
             "colorbar": {
              "outlinewidth": 0,
              "ticks": ""
             }
            },
            "type": "scattermapbox"
           }
          ],
          "scatterpolar": [
           {
            "marker": {
             "colorbar": {
              "outlinewidth": 0,
              "ticks": ""
             }
            },
            "type": "scatterpolar"
           }
          ],
          "scatterpolargl": [
           {
            "marker": {
             "colorbar": {
              "outlinewidth": 0,
              "ticks": ""
             }
            },
            "type": "scatterpolargl"
           }
          ],
          "scatterternary": [
           {
            "marker": {
             "colorbar": {
              "outlinewidth": 0,
              "ticks": ""
             }
            },
            "type": "scatterternary"
           }
          ],
          "surface": [
           {
            "colorbar": {
             "outlinewidth": 0,
             "ticks": ""
            },
            "colorscale": [
             [
              0,
              "#0d0887"
             ],
             [
              0.1111111111111111,
              "#46039f"
             ],
             [
              0.2222222222222222,
              "#7201a8"
             ],
             [
              0.3333333333333333,
              "#9c179e"
             ],
             [
              0.4444444444444444,
              "#bd3786"
             ],
             [
              0.5555555555555556,
              "#d8576b"
             ],
             [
              0.6666666666666666,
              "#ed7953"
             ],
             [
              0.7777777777777778,
              "#fb9f3a"
             ],
             [
              0.8888888888888888,
              "#fdca26"
             ],
             [
              1,
              "#f0f921"
             ]
            ],
            "type": "surface"
           }
          ],
          "table": [
           {
            "cells": {
             "fill": {
              "color": "#EBF0F8"
             },
             "line": {
              "color": "white"
             }
            },
            "header": {
             "fill": {
              "color": "#C8D4E3"
             },
             "line": {
              "color": "white"
             }
            },
            "type": "table"
           }
          ]
         },
         "layout": {
          "annotationdefaults": {
           "arrowcolor": "#2a3f5f",
           "arrowhead": 0,
           "arrowwidth": 1
          },
          "coloraxis": {
           "colorbar": {
            "outlinewidth": 0,
            "ticks": ""
           }
          },
          "colorscale": {
           "diverging": [
            [
             0,
             "#8e0152"
            ],
            [
             0.1,
             "#c51b7d"
            ],
            [
             0.2,
             "#de77ae"
            ],
            [
             0.3,
             "#f1b6da"
            ],
            [
             0.4,
             "#fde0ef"
            ],
            [
             0.5,
             "#f7f7f7"
            ],
            [
             0.6,
             "#e6f5d0"
            ],
            [
             0.7,
             "#b8e186"
            ],
            [
             0.8,
             "#7fbc41"
            ],
            [
             0.9,
             "#4d9221"
            ],
            [
             1,
             "#276419"
            ]
           ],
           "sequential": [
            [
             0,
             "#0d0887"
            ],
            [
             0.1111111111111111,
             "#46039f"
            ],
            [
             0.2222222222222222,
             "#7201a8"
            ],
            [
             0.3333333333333333,
             "#9c179e"
            ],
            [
             0.4444444444444444,
             "#bd3786"
            ],
            [
             0.5555555555555556,
             "#d8576b"
            ],
            [
             0.6666666666666666,
             "#ed7953"
            ],
            [
             0.7777777777777778,
             "#fb9f3a"
            ],
            [
             0.8888888888888888,
             "#fdca26"
            ],
            [
             1,
             "#f0f921"
            ]
           ],
           "sequentialminus": [
            [
             0,
             "#0d0887"
            ],
            [
             0.1111111111111111,
             "#46039f"
            ],
            [
             0.2222222222222222,
             "#7201a8"
            ],
            [
             0.3333333333333333,
             "#9c179e"
            ],
            [
             0.4444444444444444,
             "#bd3786"
            ],
            [
             0.5555555555555556,
             "#d8576b"
            ],
            [
             0.6666666666666666,
             "#ed7953"
            ],
            [
             0.7777777777777778,
             "#fb9f3a"
            ],
            [
             0.8888888888888888,
             "#fdca26"
            ],
            [
             1,
             "#f0f921"
            ]
           ]
          },
          "colorway": [
           "#636efa",
           "#EF553B",
           "#00cc96",
           "#ab63fa",
           "#FFA15A",
           "#19d3f3",
           "#FF6692",
           "#B6E880",
           "#FF97FF",
           "#FECB52"
          ],
          "font": {
           "color": "#2a3f5f"
          },
          "geo": {
           "bgcolor": "white",
           "lakecolor": "white",
           "landcolor": "#E5ECF6",
           "showlakes": true,
           "showland": true,
           "subunitcolor": "white"
          },
          "hoverlabel": {
           "align": "left"
          },
          "hovermode": "closest",
          "mapbox": {
           "style": "light"
          },
          "paper_bgcolor": "white",
          "plot_bgcolor": "#E5ECF6",
          "polar": {
           "angularaxis": {
            "gridcolor": "white",
            "linecolor": "white",
            "ticks": ""
           },
           "bgcolor": "#E5ECF6",
           "radialaxis": {
            "gridcolor": "white",
            "linecolor": "white",
            "ticks": ""
           }
          },
          "scene": {
           "xaxis": {
            "backgroundcolor": "#E5ECF6",
            "gridcolor": "white",
            "gridwidth": 2,
            "linecolor": "white",
            "showbackground": true,
            "ticks": "",
            "zerolinecolor": "white"
           },
           "yaxis": {
            "backgroundcolor": "#E5ECF6",
            "gridcolor": "white",
            "gridwidth": 2,
            "linecolor": "white",
            "showbackground": true,
            "ticks": "",
            "zerolinecolor": "white"
           },
           "zaxis": {
            "backgroundcolor": "#E5ECF6",
            "gridcolor": "white",
            "gridwidth": 2,
            "linecolor": "white",
            "showbackground": true,
            "ticks": "",
            "zerolinecolor": "white"
           }
          },
          "shapedefaults": {
           "line": {
            "color": "#2a3f5f"
           }
          },
          "ternary": {
           "aaxis": {
            "gridcolor": "white",
            "linecolor": "white",
            "ticks": ""
           },
           "baxis": {
            "gridcolor": "white",
            "linecolor": "white",
            "ticks": ""
           },
           "bgcolor": "#E5ECF6",
           "caxis": {
            "gridcolor": "white",
            "linecolor": "white",
            "ticks": ""
           }
          },
          "title": {
           "x": 0.05
          },
          "xaxis": {
           "automargin": true,
           "gridcolor": "white",
           "linecolor": "white",
           "ticks": "",
           "title": {
            "standoff": 15
           },
           "zerolinecolor": "white",
           "zerolinewidth": 2
          },
          "yaxis": {
           "automargin": true,
           "gridcolor": "white",
           "linecolor": "white",
           "ticks": "",
           "title": {
            "standoff": 15
           },
           "zerolinecolor": "white",
           "zerolinewidth": 2
          }
         }
        },
        "title": {
         "text": "T7 and Centrifugation"
        },
        "xaxis": {
         "anchor": "y",
         "autorange": true,
         "domain": [
          0,
          1
         ],
         "range": [
          -0.5,
          4.5
         ],
         "title": {
          "text": "centrifugation"
         },
         "type": "category"
        },
        "yaxis": {
         "anchor": "x",
         "autorange": true,
         "domain": [
          0,
          1
         ],
         "range": [
          1019.2022654976886,
          14603.37070824901
         ],
         "title": {
          "text": "T7 Normalized Reads"
         },
         "type": "linear"
        }
       }
      },
      "image/png": "[encoded data removed]",
      "text/html": [
       "<div>\n",
       "        \n",
       "        \n",
       "            <div id=\"31cd4da3-dda9-4046-a63f-683bbd4a93a9\" class=\"plotly-graph-div\" style=\"height:700px; width:100%;\"></div>\n",
       "            <script type=\"text/javascript\">\n",
       "                require([\"plotly\"], function(Plotly) {\n",
       "                    window.PLOTLYENV=window.PLOTLYENV || {};\n",
       "                    \n",
       "                if (document.getElementById(\"31cd4da3-dda9-4046-a63f-683bbd4a93a9\")) {\n",
       "                    Plotly.newPlot(\n",
       "                        '31cd4da3-dda9-4046-a63f-683bbd4a93a9',\n",
       "                        [{\"alignmentgroup\": \"True\", \"hoverlabel\": {\"namelength\": 0}, \"hovertemplate\": \"sample=No DNAse<br>centrifugation=%{x}<br>T7 Normalized Reads=%{y}\", \"legendgroup\": \"sample=No DNAse\", \"marker\": {\"color\": \"#636efa\"}, \"name\": \"sample=No DNAse\", \"notched\": false, \"offsetgroup\": \"sample=No DNAse\", \"orientation\": \"v\", \"showlegend\": true, \"type\": \"box\", \"x\": [\"No Spin\", \"No Spin\", \"No Spin\", \"No Spin\"], \"x0\": \" \", \"xaxis\": \"x\", \"y\": [1958.442032123037, 1822.3565777019849, 1926.6282521724231, 1698.4106876352546], \"y0\": \" \", \"yaxis\": \"y\"}, {\"alignmentgroup\": \"True\", \"hoverlabel\": {\"namelength\": 0}, \"hovertemplate\": \"sample=DNAse<br>centrifugation=%{x}<br>T7 Normalized Reads=%{y}\", \"legendgroup\": \"sample=DNAse\", \"marker\": {\"color\": \"#EF553B\"}, \"name\": \"sample=DNAse\", \"notched\": false, \"offsetgroup\": \"sample=DNAse\", \"orientation\": \"v\", \"showlegend\": true, \"type\": \"box\", \"x\": [\"No Spin\", \"No Spin\", \"No Spin\", \"No Spin\"], \"x0\": \" \", \"xaxis\": \"x\", \"y\": [8903.647384823471, 8825.500266248851, 7210.459213310418, 7421.681546919138], \"y0\": \" \", \"yaxis\": \"y\"}, {\"alignmentgroup\": \"True\", \"hoverlabel\": {\"namelength\": 0}, \"hovertemplate\": \"sample=pellet<br>centrifugation=%{x}<br>T7 Normalized Reads=%{y}\", \"legendgroup\": \"sample=pellet\", \"marker\": {\"color\": \"#00cc96\"}, \"name\": \"sample=pellet\", \"notched\": false, \"offsetgroup\": \"sample=pellet\", \"orientation\": \"v\", \"showlegend\": true, \"type\": \"box\", \"x\": [\"200g\", \"200g\", \"200g\", \"200g\", \"400g\", \"400g\", \"400g\", \"400g\", \"1000g\", \"1000g\", \"1000g\", \"1000g\", \"2000g\", \"2000g\", \"2000g\", \"2000g\"], \"x0\": \" \", \"xaxis\": \"x\", \"y\": [2684.9340310345665, 3051.718945298861, 2567.5156655284713, 2717.8776479904973, 2855.7717723214696, 2939.9958550878114, 2354.673959558304, 2285.919771515596, 3238.4353839614173, 3141.38815110538, 2194.749086494904, 2514.025797877806, 3496.547456711961, 2555.665283071273, 2223.1686240787644, 2249.6168152691325], \"y0\": \" \", \"yaxis\": \"y\"}, {\"alignmentgroup\": \"True\", \"hoverlabel\": {\"namelength\": 0}, \"hovertemplate\": \"sample=supernatant<br>centrifugation=%{x}<br>T7 Normalized Reads=%{y}\", \"legendgroup\": \"sample=supernatant\", \"marker\": {\"color\": \"#ab63fa\"}, \"name\": \"sample=supernatant\", \"notched\": false, \"offsetgroup\": \"sample=supernatant\", \"orientation\": \"v\", \"showlegend\": true, \"type\": \"box\", \"x\": [\"200g\", \"200g\", \"200g\", \"200g\", \"400g\", \"400g\", \"400g\", \"400g\", \"1000g\", \"1000g\", \"1000g\", \"1000g\", \"2000g\", \"2000g\", \"2000g\", \"2000g\"], \"x0\": \" \", \"xaxis\": \"x\", \"y\": [6566.951980168434, 5200.696407749932, 6304.801807776062, 6622.635716147215, 6311.616474151362, 5514.657861326339, 8310.287172458186, 9209.233976098029, 7595.171829739176, 7854.342152460821, 11658.294227661228, 12119.78688038572, 8225.357345687322, 7851.232942971154, 12445.131223335158, 13924.162286111443], \"y0\": \" \", \"yaxis\": \"y\"}],\n",
       "                        {\"boxmode\": \"group\", \"height\": 700, \"legend\": {\"tracegroupgap\": 0}, \"margin\": {\"t\": 60}, \"template\": {\"data\": {\"bar\": [{\"error_x\": {\"color\": \"#2a3f5f\"}, \"error_y\": {\"color\": \"#2a3f5f\"}, \"marker\": {\"line\": {\"color\": \"#E5ECF6\", \"width\": 0.5}}, \"type\": \"bar\"}], \"barpolar\": [{\"marker\": {\"line\": {\"color\": \"#E5ECF6\", \"width\": 0.5}}, \"type\": \"barpolar\"}], \"carpet\": [{\"aaxis\": {\"endlinecolor\": \"#2a3f5f\", \"gridcolor\": \"white\", \"linecolor\": \"white\", \"minorgridcolor\": \"white\", \"startlinecolor\": \"#2a3f5f\"}, \"baxis\": {\"endlinecolor\": \"#2a3f5f\", \"gridcolor\": \"white\", \"linecolor\": \"white\", \"minorgridcolor\": \"white\", \"startlinecolor\": \"#2a3f5f\"}, \"type\": \"carpet\"}], \"choropleth\": [{\"colorbar\": {\"outlinewidth\": 0, \"ticks\": \"\"}, \"type\": \"choropleth\"}], \"contour\": [{\"colorbar\": {\"outlinewidth\": 0, \"ticks\": \"\"}, \"colorscale\": [[0.0, \"#0d0887\"], [0.1111111111111111, \"#46039f\"], [0.2222222222222222, \"#7201a8\"], [0.3333333333333333, \"#9c179e\"], [0.4444444444444444, \"#bd3786\"], [0.5555555555555556, \"#d8576b\"], [0.6666666666666666, \"#ed7953\"], [0.7777777777777778, \"#fb9f3a\"], [0.8888888888888888, \"#fdca26\"], [1.0, \"#f0f921\"]], \"type\": \"contour\"}], \"contourcarpet\": [{\"colorbar\": {\"outlinewidth\": 0, \"ticks\": \"\"}, \"type\": \"contourcarpet\"}], \"heatmap\": [{\"colorbar\": {\"outlinewidth\": 0, \"ticks\": \"\"}, \"colorscale\": [[0.0, \"#0d0887\"], [0.1111111111111111, \"#46039f\"], [0.2222222222222222, \"#7201a8\"], [0.3333333333333333, \"#9c179e\"], [0.4444444444444444, \"#bd3786\"], [0.5555555555555556, \"#d8576b\"], [0.6666666666666666, \"#ed7953\"], [0.7777777777777778, \"#fb9f3a\"], [0.8888888888888888, \"#fdca26\"], [1.0, \"#f0f921\"]], \"type\": \"heatmap\"}], \"heatmapgl\": [{\"colorbar\": {\"outlinewidth\": 0, \"ticks\": \"\"}, \"colorscale\": [[0.0, \"#0d0887\"], [0.1111111111111111, \"#46039f\"], [0.2222222222222222, \"#7201a8\"], [0.3333333333333333, \"#9c179e\"], [0.4444444444444444, \"#bd3786\"], [0.5555555555555556, \"#d8576b\"], [0.6666666666666666, \"#ed7953\"], [0.7777777777777778, \"#fb9f3a\"], [0.8888888888888888, \"#fdca26\"], [1.0, \"#f0f921\"]], \"type\": \"heatmapgl\"}], \"histogram\": [{\"marker\": {\"colorbar\": {\"outlinewidth\": 0, \"ticks\": \"\"}}, \"type\": \"histogram\"}], \"histogram2d\": [{\"colorbar\": {\"outlinewidth\": 0, \"ticks\": \"\"}, \"colorscale\": [[0.0, \"#0d0887\"], [0.1111111111111111, \"#46039f\"], [0.2222222222222222, \"#7201a8\"], [0.3333333333333333, \"#9c179e\"], [0.4444444444444444, \"#bd3786\"], [0.5555555555555556, \"#d8576b\"], [0.6666666666666666, \"#ed7953\"], [0.7777777777777778, \"#fb9f3a\"], [0.8888888888888888, \"#fdca26\"], [1.0, \"#f0f921\"]], \"type\": \"histogram2d\"}], \"histogram2dcontour\": [{\"colorbar\": {\"outlinewidth\": 0, \"ticks\": \"\"}, \"colorscale\": [[0.0, \"#0d0887\"], [0.1111111111111111, \"#46039f\"], [0.2222222222222222, \"#7201a8\"], [0.3333333333333333, \"#9c179e\"], [0.4444444444444444, \"#bd3786\"], [0.5555555555555556, \"#d8576b\"], [0.6666666666666666, \"#ed7953\"], [0.7777777777777778, \"#fb9f3a\"], [0.8888888888888888, \"#fdca26\"], [1.0, \"#f0f921\"]], \"type\": \"histogram2dcontour\"}], \"mesh3d\": [{\"colorbar\": {\"outlinewidth\": 0, \"ticks\": \"\"}, \"type\": \"mesh3d\"}], \"parcoords\": [{\"line\": {\"colorbar\": {\"outlinewidth\": 0, \"ticks\": \"\"}}, \"type\": \"parcoords\"}], \"pie\": [{\"automargin\": true, \"type\": \"pie\"}], \"scatter\": [{\"marker\": {\"colorbar\": {\"outlinewidth\": 0, \"ticks\": \"\"}}, \"type\": \"scatter\"}], \"scatter3d\": [{\"line\": {\"colorbar\": {\"outlinewidth\": 0, \"ticks\": \"\"}}, \"marker\": {\"colorbar\": {\"outlinewidth\": 0, \"ticks\": \"\"}}, \"type\": \"scatter3d\"}], \"scattercarpet\": [{\"marker\": {\"colorbar\": {\"outlinewidth\": 0, \"ticks\": \"\"}}, \"type\": \"scattercarpet\"}], \"scattergeo\": [{\"marker\": {\"colorbar\": {\"outlinewidth\": 0, \"ticks\": \"\"}}, \"type\": \"scattergeo\"}], \"scattergl\": [{\"marker\": {\"colorbar\": {\"outlinewidth\": 0, \"ticks\": \"\"}}, \"type\": \"scattergl\"}], \"scattermapbox\": [{\"marker\": {\"colorbar\": {\"outlinewidth\": 0, \"ticks\": \"\"}}, \"type\": \"scattermapbox\"}], \"scatterpolar\": [{\"marker\": {\"colorbar\": {\"outlinewidth\": 0, \"ticks\": \"\"}}, \"type\": \"scatterpolar\"}], \"scatterpolargl\": [{\"marker\": {\"colorbar\": {\"outlinewidth\": 0, \"ticks\": \"\"}}, \"type\": \"scatterpolargl\"}], \"scatterternary\": [{\"marker\": {\"colorbar\": {\"outlinewidth\": 0, \"ticks\": \"\"}}, \"type\": \"scatterternary\"}], \"surface\": [{\"colorbar\": {\"outlinewidth\": 0, \"ticks\": \"\"}, \"colorscale\": [[0.0, \"#0d0887\"], [0.1111111111111111, \"#46039f\"], [0.2222222222222222, \"#7201a8\"], [0.3333333333333333, \"#9c179e\"], [0.4444444444444444, \"#bd3786\"], [0.5555555555555556, \"#d8576b\"], [0.6666666666666666, \"#ed7953\"], [0.7777777777777778, \"#fb9f3a\"], [0.8888888888888888, \"#fdca26\"], [1.0, \"#f0f921\"]], \"type\": \"surface\"}], \"table\": [{\"cells\": {\"fill\": {\"color\": \"#EBF0F8\"}, \"line\": {\"color\": \"white\"}}, \"header\": {\"fill\": {\"color\": \"#C8D4E3\"}, \"line\": {\"color\": \"white\"}}, \"type\": \"table\"}]}, \"layout\": {\"annotationdefaults\": {\"arrowcolor\": \"#2a3f5f\", \"arrowhead\": 0, \"arrowwidth\": 1}, \"coloraxis\": {\"colorbar\": {\"outlinewidth\": 0, \"ticks\": \"\"}}, \"colorscale\": {\"diverging\": [[0, \"#8e0152\"], [0.1, \"#c51b7d\"], [0.2, \"#de77ae\"], [0.3, \"#f1b6da\"], [0.4, \"#fde0ef\"], [0.5, \"#f7f7f7\"], [0.6, \"#e6f5d0\"], [0.7, \"#b8e186\"], [0.8, \"#7fbc41\"], [0.9, \"#4d9221\"], [1, \"#276419\"]], \"sequential\": [[0.0, \"#0d0887\"], [0.1111111111111111, \"#46039f\"], [0.2222222222222222, \"#7201a8\"], [0.3333333333333333, \"#9c179e\"], [0.4444444444444444, \"#bd3786\"], [0.5555555555555556, \"#d8576b\"], [0.6666666666666666, \"#ed7953\"], [0.7777777777777778, \"#fb9f3a\"], [0.8888888888888888, \"#fdca26\"], [1.0, \"#f0f921\"]], \"sequentialminus\": [[0.0, \"#0d0887\"], [0.1111111111111111, \"#46039f\"], [0.2222222222222222, \"#7201a8\"], [0.3333333333333333, \"#9c179e\"], [0.4444444444444444, \"#bd3786\"], [0.5555555555555556, \"#d8576b\"], [0.6666666666666666, \"#ed7953\"], [0.7777777777777778, \"#fb9f3a\"], [0.8888888888888888, \"#fdca26\"], [1.0, \"#f0f921\"]]}, \"colorway\": [\"#636efa\", \"#EF553B\", \"#00cc96\", \"#ab63fa\", \"#FFA15A\", \"#19d3f3\", \"#FF6692\", \"#B6E880\", \"#FF97FF\", \"#FECB52\"], \"font\": {\"color\": \"#2a3f5f\"}, \"geo\": {\"bgcolor\": \"white\", \"lakecolor\": \"white\", \"landcolor\": \"#E5ECF6\", \"showlakes\": true, \"showland\": true, \"subunitcolor\": \"white\"}, \"hoverlabel\": {\"align\": \"left\"}, \"hovermode\": \"closest\", \"mapbox\": {\"style\": \"light\"}, \"paper_bgcolor\": \"white\", \"plot_bgcolor\": \"#E5ECF6\", \"polar\": {\"angularaxis\": {\"gridcolor\": \"white\", \"linecolor\": \"white\", \"ticks\": \"\"}, \"bgcolor\": \"#E5ECF6\", \"radialaxis\": {\"gridcolor\": \"white\", \"linecolor\": \"white\", \"ticks\": \"\"}}, \"scene\": {\"xaxis\": {\"backgroundcolor\": \"#E5ECF6\", \"gridcolor\": \"white\", \"gridwidth\": 2, \"linecolor\": \"white\", \"showbackground\": true, \"ticks\": \"\", \"zerolinecolor\": \"white\"}, \"yaxis\": {\"backgroundcolor\": \"#E5ECF6\", \"gridcolor\": \"white\", \"gridwidth\": 2, \"linecolor\": \"white\", \"showbackground\": true, \"ticks\": \"\", \"zerolinecolor\": \"white\"}, \"zaxis\": {\"backgroundcolor\": \"#E5ECF6\", \"gridcolor\": \"white\", \"gridwidth\": 2, \"linecolor\": \"white\", \"showbackground\": true, \"ticks\": \"\", \"zerolinecolor\": \"white\"}}, \"shapedefaults\": {\"line\": {\"color\": \"#2a3f5f\"}}, \"ternary\": {\"aaxis\": {\"gridcolor\": \"white\", \"linecolor\": \"white\", \"ticks\": \"\"}, \"baxis\": {\"gridcolor\": \"white\", \"linecolor\": \"white\", \"ticks\": \"\"}, \"bgcolor\": \"#E5ECF6\", \"caxis\": {\"gridcolor\": \"white\", \"linecolor\": \"white\", \"ticks\": \"\"}}, \"title\": {\"x\": 0.05}, \"xaxis\": {\"automargin\": true, \"gridcolor\": \"white\", \"linecolor\": \"white\", \"ticks\": \"\", \"title\": {\"standoff\": 15}, \"zerolinecolor\": \"white\", \"zerolinewidth\": 2}, \"yaxis\": {\"automargin\": true, \"gridcolor\": \"white\", \"linecolor\": \"white\", \"ticks\": \"\", \"title\": {\"standoff\": 15}, \"zerolinecolor\": \"white\", \"zerolinewidth\": 2}}}, \"title\": {\"text\": \"T7 and Centrifugation\"}, \"xaxis\": {\"anchor\": \"y\", \"domain\": [0.0, 1.0], \"title\": {\"text\": \"centrifugation\"}}, \"yaxis\": {\"anchor\": \"x\", \"domain\": [0.0, 1.0], \"title\": {\"text\": \"T7 Normalized Reads\"}}},\n",
       "                        {\"responsive\": true}\n",
       "                    ).then(function(){\n",
       "                            \n",
       "var gd = document.getElementById('31cd4da3-dda9-4046-a63f-683bbd4a93a9');\n",
       "var x = new MutationObserver(function (mutations, observer) {{\n",
       "        var display = window.getComputedStyle(gd).display;\n",
       "        if (!display || display === 'none') {{\n",
       "            console.log([gd, 'removed!']);\n",
       "            Plotly.purge(gd);\n",
       "            observer.disconnect();\n",
       "        }}\n",
       "}});\n",
       "\n",
       "// Listen for the removal of the full notebook cells\n",
       "var notebookContainer = gd.closest('#notebook-container');\n",
       "if (notebookContainer) {{\n",
       "    x.observe(notebookContainer, {childList: true});\n",
       "}}\n",
       "\n",
       "// Listen for the clearing of the current output cell\n",
       "var outputEl = gd.closest('.output');\n",
       "if (outputEl) {{\n",
       "    x.observe(outputEl, {childList: true});\n",
       "}}\n",
       "\n",
       "                        })\n",
       "                };\n",
       "                });\n",
       "            </script>\n",
       "        </div>"
      ]
     },
     "metadata": {},
     "output_type": "display_data"
    }
   ],
   "source": [
    "fig_t7 = px.box(merged, x='centrifugation', y='t7_normalized_reads', color='sample', labels={'t7_normalized_reads': 'T7 Normalized Reads'})\n",
    "fig_t7.update_layout(height=700, title='T7 and Centrifugation')\n",
    "fig_t7.show()"
   ]
  },
  {
   "cell_type": "code",
   "execution_count": 14,
   "metadata": {},
   "outputs": [
    {
     "data": {
      "text/plain": [
       "Index(['Accession', 'total_reads', 't7_reads', 't7_normalized_reads',\n",
       "       'ecoli_reads', 'ecoli_normalized_reads', 'Human', 'Bacteria', 'Virus',\n",
       "       'Parasite', 'Fungus', 'Unclassified', 'Pool', 'Pool replicate',\n",
       "       'sample', 'centrifugation', 'Description'],\n",
       "      dtype='object')"
      ]
     },
     "execution_count": 14,
     "metadata": {},
     "output_type": "execute_result"
    }
   ],
   "source": [
    "merged.columns"
   ]
  },
  {
   "cell_type": "code",
   "execution_count": 76,
   "metadata": {},
   "outputs": [
    {
     "data": {
      "application/vnd.plotly.v1+json": {
       "config": {
        "plotlyServerURL": "https://plot.ly"
       },
       "data": [
        {
         "alignmentgroup": "True",
         "boxpoints": "all",
         "customdata": [
          [
           "IDBD-D100970"
          ],
          [
           "IDBD-D100971"
          ],
          [
           "IDBD-D100972"
          ],
          [
           "IDBD-D100973"
          ]
         ],
         "hoverlabel": {
          "namelength": 0
         },
         "hovertemplate": "sample=No DNAse<br>Organism=T7<br>Pool=%{x}<br>Normalized Reads=%{y}<br>Accession=%{customdata[0]}",
         "legendgroup": "sample=No DNAse",
         "marker": {
          "color": "#636efa"
         },
         "name": "sample=No DNAse",
         "notched": false,
         "offsetgroup": "sample=No DNAse",
         "orientation": "v",
         "showlegend": true,
         "type": "box",
         "x": [
          "A",
          "A",
          "B",
          "B"
         ],
         "x0": " ",
         "xaxis": "x",
         "y": [
          1958.442032123037,
          1822.3565777019849,
          1926.6282521724231,
          1698.4106876352546
         ],
         "y0": " ",
         "yaxis": "y"
        },
        {
         "alignmentgroup": "True",
         "boxpoints": "all",
         "customdata": [
          [
           "IDBD-D100970"
          ],
          [
           "IDBD-D100971"
          ],
          [
           "IDBD-D100972"
          ],
          [
           "IDBD-D100973"
          ]
         ],
         "hoverlabel": {
          "namelength": 0
         },
         "hovertemplate": "sample=No DNAse<br>Organism=Human<br>Pool=%{x}<br>Normalized Reads=%{y}<br>Accession=%{customdata[0]}",
         "legendgroup": "sample=No DNAse",
         "marker": {
          "color": "#636efa"
         },
         "name": "sample=No DNAse",
         "notched": false,
         "offsetgroup": "sample=No DNAse",
         "orientation": "v",
         "showlegend": false,
         "type": "box",
         "x": [
          "A",
          "A",
          "B",
          "B"
         ],
         "x0": " ",
         "xaxis": "x2",
         "y": [
          2070661.047304834,
          2075589.391874197,
          2008812.708757949,
          2084146.4240559519
         ],
         "y0": " ",
         "yaxis": "y2"
        },
        {
         "alignmentgroup": "True",
         "boxpoints": "all",
         "customdata": [
          [
           "IDBD-D100970"
          ],
          [
           "IDBD-D100971"
          ],
          [
           "IDBD-D100972"
          ],
          [
           "IDBD-D100973"
          ]
         ],
         "hoverlabel": {
          "namelength": 0
         },
         "hovertemplate": "sample=No DNAse<br>Organism=E.coli<br>Pool=%{x}<br>Normalized Reads=%{y}<br>Accession=%{customdata[0]}",
         "legendgroup": "sample=No DNAse",
         "marker": {
          "color": "#636efa"
         },
         "name": "sample=No DNAse",
         "notched": false,
         "offsetgroup": "sample=No DNAse",
         "orientation": "v",
         "showlegend": false,
         "type": "box",
         "x": [
          "A",
          "A",
          "B",
          "B"
         ],
         "x0": " ",
         "xaxis": "x3",
         "y": [
          61058.65978334986,
          59751.12846917923,
          85504.00116411426,
          79060.3156868229
         ],
         "y0": " ",
         "yaxis": "y3"
        },
        {
         "alignmentgroup": "True",
         "boxpoints": "all",
         "customdata": [
          [
           "IDBD-D100974"
          ],
          [
           "IDBD-D100975"
          ],
          [
           "IDBD-D100976"
          ],
          [
           "IDBD-D100977"
          ]
         ],
         "hoverlabel": {
          "namelength": 0
         },
         "hovertemplate": "sample=DNAse<br>Organism=T7<br>Pool=%{x}<br>Normalized Reads=%{y}<br>Accession=%{customdata[0]}",
         "legendgroup": "sample=DNAse",
         "marker": {
          "color": "#EF553B"
         },
         "name": "sample=DNAse",
         "notched": false,
         "offsetgroup": "sample=DNAse",
         "orientation": "v",
         "showlegend": true,
         "type": "box",
         "x": [
          "A",
          "A",
          "B",
          "B"
         ],
         "x0": " ",
         "xaxis": "x",
         "y": [
          8903.647384823471,
          8825.500266248851,
          7210.459213310418,
          7421.681546919138
         ],
         "y0": " ",
         "yaxis": "y"
        },
        {
         "alignmentgroup": "True",
         "boxpoints": "all",
         "customdata": [
          [
           "IDBD-D100974"
          ],
          [
           "IDBD-D100975"
          ],
          [
           "IDBD-D100976"
          ],
          [
           "IDBD-D100977"
          ]
         ],
         "hoverlabel": {
          "namelength": 0
         },
         "hovertemplate": "sample=DNAse<br>Organism=Human<br>Pool=%{x}<br>Normalized Reads=%{y}<br>Accession=%{customdata[0]}",
         "legendgroup": "sample=DNAse",
         "marker": {
          "color": "#EF553B"
         },
         "name": "sample=DNAse",
         "notched": false,
         "offsetgroup": "sample=DNAse",
         "orientation": "v",
         "showlegend": false,
         "type": "box",
         "x": [
          "A",
          "A",
          "B",
          "B"
         ],
         "x0": " ",
         "xaxis": "x2",
         "y": [
          331063.4460811509,
          361228.3666484446,
          729163.3094059016,
          764619.9518040287
         ],
         "y0": " ",
         "yaxis": "y2"
        },
        {
         "alignmentgroup": "True",
         "boxpoints": "all",
         "customdata": [
          [
           "IDBD-D100974"
          ],
          [
           "IDBD-D100975"
          ],
          [
           "IDBD-D100976"
          ],
          [
           "IDBD-D100977"
          ]
         ],
         "hoverlabel": {
          "namelength": 0
         },
         "hovertemplate": "sample=DNAse<br>Organism=E.coli<br>Pool=%{x}<br>Normalized Reads=%{y}<br>Accession=%{customdata[0]}",
         "legendgroup": "sample=DNAse",
         "marker": {
          "color": "#EF553B"
         },
         "name": "sample=DNAse",
         "notched": false,
         "offsetgroup": "sample=DNAse",
         "orientation": "v",
         "showlegend": false,
         "type": "box",
         "x": [
          "A",
          "A",
          "B",
          "B"
         ],
         "x0": " ",
         "xaxis": "x3",
         "y": [
          220684.567157581,
          221403.03533808546,
          242296.16399072684,
          242221.4137300417
         ],
         "y0": " ",
         "yaxis": "y3"
        }
       ],
       "layout": {
        "annotations": [
         {
          "font": {},
          "showarrow": false,
          "text": "Organism=T7",
          "x": 0.15999999999999998,
          "xanchor": "center",
          "xref": "paper",
          "y": 1,
          "yanchor": "bottom",
          "yref": "paper"
         },
         {
          "font": {},
          "showarrow": false,
          "text": "Organism=Human",
          "x": 0.49999999999999994,
          "xanchor": "center",
          "xref": "paper",
          "y": 1,
          "yanchor": "bottom",
          "yref": "paper"
         },
         {
          "font": {},
          "showarrow": false,
          "text": "Organism=E.coli",
          "x": 0.8399999999999999,
          "xanchor": "center",
          "xref": "paper",
          "y": 1,
          "yanchor": "bottom",
          "yref": "paper"
         }
        ],
        "autosize": true,
        "boxmode": "group",
        "font": {
         "size": 18
        },
        "legend": {
         "orientation": "h",
         "tracegroupgap": 0
        },
        "margin": {
         "t": 60
        },
        "template": {
         "data": {
          "bar": [
           {
            "error_x": {
             "color": "#2a3f5f"
            },
            "error_y": {
             "color": "#2a3f5f"
            },
            "marker": {
             "line": {
              "color": "#E5ECF6",
              "width": 0.5
             }
            },
            "type": "bar"
           }
          ],
          "barpolar": [
           {
            "marker": {
             "line": {
              "color": "#E5ECF6",
              "width": 0.5
             }
            },
            "type": "barpolar"
           }
          ],
          "carpet": [
           {
            "aaxis": {
             "endlinecolor": "#2a3f5f",
             "gridcolor": "white",
             "linecolor": "white",
             "minorgridcolor": "white",
             "startlinecolor": "#2a3f5f"
            },
            "baxis": {
             "endlinecolor": "#2a3f5f",
             "gridcolor": "white",
             "linecolor": "white",
             "minorgridcolor": "white",
             "startlinecolor": "#2a3f5f"
            },
            "type": "carpet"
           }
          ],
          "choropleth": [
           {
            "colorbar": {
             "outlinewidth": 0,
             "ticks": ""
            },
            "type": "choropleth"
           }
          ],
          "contour": [
           {
            "colorbar": {
             "outlinewidth": 0,
             "ticks": ""
            },
            "colorscale": [
             [
              0,
              "#0d0887"
             ],
             [
              0.1111111111111111,
              "#46039f"
             ],
             [
              0.2222222222222222,
              "#7201a8"
             ],
             [
              0.3333333333333333,
              "#9c179e"
             ],
             [
              0.4444444444444444,
              "#bd3786"
             ],
             [
              0.5555555555555556,
              "#d8576b"
             ],
             [
              0.6666666666666666,
              "#ed7953"
             ],
             [
              0.7777777777777778,
              "#fb9f3a"
             ],
             [
              0.8888888888888888,
              "#fdca26"
             ],
             [
              1,
              "#f0f921"
             ]
            ],
            "type": "contour"
           }
          ],
          "contourcarpet": [
           {
            "colorbar": {
             "outlinewidth": 0,
             "ticks": ""
            },
            "type": "contourcarpet"
           }
          ],
          "heatmap": [
           {
            "colorbar": {
             "outlinewidth": 0,
             "ticks": ""
            },
            "colorscale": [
             [
              0,
              "#0d0887"
             ],
             [
              0.1111111111111111,
              "#46039f"
             ],
             [
              0.2222222222222222,
              "#7201a8"
             ],
             [
              0.3333333333333333,
              "#9c179e"
             ],
             [
              0.4444444444444444,
              "#bd3786"
             ],
             [
              0.5555555555555556,
              "#d8576b"
             ],
             [
              0.6666666666666666,
              "#ed7953"
             ],
             [
              0.7777777777777778,
              "#fb9f3a"
             ],
             [
              0.8888888888888888,
              "#fdca26"
             ],
             [
              1,
              "#f0f921"
             ]
            ],
            "type": "heatmap"
           }
          ],
          "heatmapgl": [
           {
            "colorbar": {
             "outlinewidth": 0,
             "ticks": ""
            },
            "colorscale": [
             [
              0,
              "#0d0887"
             ],
             [
              0.1111111111111111,
              "#46039f"
             ],
             [
              0.2222222222222222,
              "#7201a8"
             ],
             [
              0.3333333333333333,
              "#9c179e"
             ],
             [
              0.4444444444444444,
              "#bd3786"
             ],
             [
              0.5555555555555556,
              "#d8576b"
             ],
             [
              0.6666666666666666,
              "#ed7953"
             ],
             [
              0.7777777777777778,
              "#fb9f3a"
             ],
             [
              0.8888888888888888,
              "#fdca26"
             ],
             [
              1,
              "#f0f921"
             ]
            ],
            "type": "heatmapgl"
           }
          ],
          "histogram": [
           {
            "marker": {
             "colorbar": {
              "outlinewidth": 0,
              "ticks": ""
             }
            },
            "type": "histogram"
           }
          ],
          "histogram2d": [
           {
            "colorbar": {
             "outlinewidth": 0,
             "ticks": ""
            },
            "colorscale": [
             [
              0,
              "#0d0887"
             ],
             [
              0.1111111111111111,
              "#46039f"
             ],
             [
              0.2222222222222222,
              "#7201a8"
             ],
             [
              0.3333333333333333,
              "#9c179e"
             ],
             [
              0.4444444444444444,
              "#bd3786"
             ],
             [
              0.5555555555555556,
              "#d8576b"
             ],
             [
              0.6666666666666666,
              "#ed7953"
             ],
             [
              0.7777777777777778,
              "#fb9f3a"
             ],
             [
              0.8888888888888888,
              "#fdca26"
             ],
             [
              1,
              "#f0f921"
             ]
            ],
            "type": "histogram2d"
           }
          ],
          "histogram2dcontour": [
           {
            "colorbar": {
             "outlinewidth": 0,
             "ticks": ""
            },
            "colorscale": [
             [
              0,
              "#0d0887"
             ],
             [
              0.1111111111111111,
              "#46039f"
             ],
             [
              0.2222222222222222,
              "#7201a8"
             ],
             [
              0.3333333333333333,
              "#9c179e"
             ],
             [
              0.4444444444444444,
              "#bd3786"
             ],
             [
              0.5555555555555556,
              "#d8576b"
             ],
             [
              0.6666666666666666,
              "#ed7953"
             ],
             [
              0.7777777777777778,
              "#fb9f3a"
             ],
             [
              0.8888888888888888,
              "#fdca26"
             ],
             [
              1,
              "#f0f921"
             ]
            ],
            "type": "histogram2dcontour"
           }
          ],
          "mesh3d": [
           {
            "colorbar": {
             "outlinewidth": 0,
             "ticks": ""
            },
            "type": "mesh3d"
           }
          ],
          "parcoords": [
           {
            "line": {
             "colorbar": {
              "outlinewidth": 0,
              "ticks": ""
             }
            },
            "type": "parcoords"
           }
          ],
          "pie": [
           {
            "automargin": true,
            "type": "pie"
           }
          ],
          "scatter": [
           {
            "marker": {
             "colorbar": {
              "outlinewidth": 0,
              "ticks": ""
             }
            },
            "type": "scatter"
           }
          ],
          "scatter3d": [
           {
            "line": {
             "colorbar": {
              "outlinewidth": 0,
              "ticks": ""
             }
            },
            "marker": {
             "colorbar": {
              "outlinewidth": 0,
              "ticks": ""
             }
            },
            "type": "scatter3d"
           }
          ],
          "scattercarpet": [
           {
            "marker": {
             "colorbar": {
              "outlinewidth": 0,
              "ticks": ""
             }
            },
            "type": "scattercarpet"
           }
          ],
          "scattergeo": [
           {
            "marker": {
             "colorbar": {
              "outlinewidth": 0,
              "ticks": ""
             }
            },
            "type": "scattergeo"
           }
          ],
          "scattergl": [
           {
            "marker": {
             "colorbar": {
              "outlinewidth": 0,
              "ticks": ""
             }
            },
            "type": "scattergl"
           }
          ],
          "scattermapbox": [
           {
            "marker": {
             "colorbar": {
              "outlinewidth": 0,
              "ticks": ""
             }
            },
            "type": "scattermapbox"
           }
          ],
          "scatterpolar": [
           {
            "marker": {
             "colorbar": {
              "outlinewidth": 0,
              "ticks": ""
             }
            },
            "type": "scatterpolar"
           }
          ],
          "scatterpolargl": [
           {
            "marker": {
             "colorbar": {
              "outlinewidth": 0,
              "ticks": ""
             }
            },
            "type": "scatterpolargl"
           }
          ],
          "scatterternary": [
           {
            "marker": {
             "colorbar": {
              "outlinewidth": 0,
              "ticks": ""
             }
            },
            "type": "scatterternary"
           }
          ],
          "surface": [
           {
            "colorbar": {
             "outlinewidth": 0,
             "ticks": ""
            },
            "colorscale": [
             [
              0,
              "#0d0887"
             ],
             [
              0.1111111111111111,
              "#46039f"
             ],
             [
              0.2222222222222222,
              "#7201a8"
             ],
             [
              0.3333333333333333,
              "#9c179e"
             ],
             [
              0.4444444444444444,
              "#bd3786"
             ],
             [
              0.5555555555555556,
              "#d8576b"
             ],
             [
              0.6666666666666666,
              "#ed7953"
             ],
             [
              0.7777777777777778,
              "#fb9f3a"
             ],
             [
              0.8888888888888888,
              "#fdca26"
             ],
             [
              1,
              "#f0f921"
             ]
            ],
            "type": "surface"
           }
          ],
          "table": [
           {
            "cells": {
             "fill": {
              "color": "#EBF0F8"
             },
             "line": {
              "color": "white"
             }
            },
            "header": {
             "fill": {
              "color": "#C8D4E3"
             },
             "line": {
              "color": "white"
             }
            },
            "type": "table"
           }
          ]
         },
         "layout": {
          "annotationdefaults": {
           "arrowcolor": "#2a3f5f",
           "arrowhead": 0,
           "arrowwidth": 1
          },
          "coloraxis": {
           "colorbar": {
            "outlinewidth": 0,
            "ticks": ""
           }
          },
          "colorscale": {
           "diverging": [
            [
             0,
             "#8e0152"
            ],
            [
             0.1,
             "#c51b7d"
            ],
            [
             0.2,
             "#de77ae"
            ],
            [
             0.3,
             "#f1b6da"
            ],
            [
             0.4,
             "#fde0ef"
            ],
            [
             0.5,
             "#f7f7f7"
            ],
            [
             0.6,
             "#e6f5d0"
            ],
            [
             0.7,
             "#b8e186"
            ],
            [
             0.8,
             "#7fbc41"
            ],
            [
             0.9,
             "#4d9221"
            ],
            [
             1,
             "#276419"
            ]
           ],
           "sequential": [
            [
             0,
             "#0d0887"
            ],
            [
             0.1111111111111111,
             "#46039f"
            ],
            [
             0.2222222222222222,
             "#7201a8"
            ],
            [
             0.3333333333333333,
             "#9c179e"
            ],
            [
             0.4444444444444444,
             "#bd3786"
            ],
            [
             0.5555555555555556,
             "#d8576b"
            ],
            [
             0.6666666666666666,
             "#ed7953"
            ],
            [
             0.7777777777777778,
             "#fb9f3a"
            ],
            [
             0.8888888888888888,
             "#fdca26"
            ],
            [
             1,
             "#f0f921"
            ]
           ],
           "sequentialminus": [
            [
             0,
             "#0d0887"
            ],
            [
             0.1111111111111111,
             "#46039f"
            ],
            [
             0.2222222222222222,
             "#7201a8"
            ],
            [
             0.3333333333333333,
             "#9c179e"
            ],
            [
             0.4444444444444444,
             "#bd3786"
            ],
            [
             0.5555555555555556,
             "#d8576b"
            ],
            [
             0.6666666666666666,
             "#ed7953"
            ],
            [
             0.7777777777777778,
             "#fb9f3a"
            ],
            [
             0.8888888888888888,
             "#fdca26"
            ],
            [
             1,
             "#f0f921"
            ]
           ]
          },
          "colorway": [
           "#636efa",
           "#EF553B",
           "#00cc96",
           "#ab63fa",
           "#FFA15A",
           "#19d3f3",
           "#FF6692",
           "#B6E880",
           "#FF97FF",
           "#FECB52"
          ],
          "font": {
           "color": "#2a3f5f"
          },
          "geo": {
           "bgcolor": "white",
           "lakecolor": "white",
           "landcolor": "#E5ECF6",
           "showlakes": true,
           "showland": true,
           "subunitcolor": "white"
          },
          "hoverlabel": {
           "align": "left"
          },
          "hovermode": "closest",
          "mapbox": {
           "style": "light"
          },
          "paper_bgcolor": "white",
          "plot_bgcolor": "#E5ECF6",
          "polar": {
           "angularaxis": {
            "gridcolor": "white",
            "linecolor": "white",
            "ticks": ""
           },
           "bgcolor": "#E5ECF6",
           "radialaxis": {
            "gridcolor": "white",
            "linecolor": "white",
            "ticks": ""
           }
          },
          "scene": {
           "xaxis": {
            "backgroundcolor": "#E5ECF6",
            "gridcolor": "white",
            "gridwidth": 2,
            "linecolor": "white",
            "showbackground": true,
            "ticks": "",
            "zerolinecolor": "white"
           },
           "yaxis": {
            "backgroundcolor": "#E5ECF6",
            "gridcolor": "white",
            "gridwidth": 2,
            "linecolor": "white",
            "showbackground": true,
            "ticks": "",
            "zerolinecolor": "white"
           },
           "zaxis": {
            "backgroundcolor": "#E5ECF6",
            "gridcolor": "white",
            "gridwidth": 2,
            "linecolor": "white",
            "showbackground": true,
            "ticks": "",
            "zerolinecolor": "white"
           }
          },
          "shapedefaults": {
           "line": {
            "color": "#2a3f5f"
           }
          },
          "ternary": {
           "aaxis": {
            "gridcolor": "white",
            "linecolor": "white",
            "ticks": ""
           },
           "baxis": {
            "gridcolor": "white",
            "linecolor": "white",
            "ticks": ""
           },
           "bgcolor": "#E5ECF6",
           "caxis": {
            "gridcolor": "white",
            "linecolor": "white",
            "ticks": ""
           }
          },
          "title": {
           "x": 0.05
          },
          "xaxis": {
           "automargin": true,
           "gridcolor": "white",
           "linecolor": "white",
           "ticks": "",
           "title": {
            "standoff": 15
           },
           "zerolinecolor": "white",
           "zerolinewidth": 2
          },
          "yaxis": {
           "automargin": true,
           "gridcolor": "white",
           "linecolor": "white",
           "ticks": "",
           "title": {
            "standoff": 15
           },
           "zerolinecolor": "white",
           "zerolinewidth": 2
          }
         }
        },
        "xaxis": {
         "anchor": "y",
         "autorange": true,
         "domain": [
          0,
          0.293
         ],
         "range": [
          -0.6674059540600443,
          1.6140739975821077
         ],
         "title": {
          "text": "Pool"
         },
         "type": "category"
        },
        "xaxis2": {
         "anchor": "y2",
         "autorange": true,
         "domain": [
          0.333,
          0.626
         ],
         "matches": "x",
         "range": [
          -0.6674059540600443,
          1.6140739975821077
         ],
         "title": {
          "text": "Pool"
         },
         "type": "category"
        },
        "xaxis3": {
         "anchor": "y3",
         "autorange": true,
         "domain": [
          0.666,
          0.98
         ],
         "matches": "x",
         "range": [
          -0.6674059540600443,
          1.6140739975821077
         ],
         "title": {
          "text": "Pool"
         },
         "type": "category"
        },
        "yaxis": {
         "anchor": "x",
         "autorange": true,
         "domain": [
          0,
          1
         ],
         "dtick": 2000,
         "range": [
          1298.119760013687,
          9303.938312445038
         ],
         "tick0": 2000,
         "title": {
          "text": "Normalized Reads"
         },
         "type": "linear"
        },
        "yaxis2": {
         "anchor": "x2",
         "autorange": true,
         "domain": [
          0,
          1
         ],
         "dtick": 500000,
         "range": [
          233669.9473047731,
          2181539.9228323298
         ],
         "showticklabels": true,
         "tick0": 500000,
         "type": "linear"
        },
        "yaxis3": {
         "anchor": "x3",
         "autorange": true,
         "domain": [
          0,
          1
         ],
         "dtick": 40000,
         "range": [
          49609.73760687103,
          252437.55485303505
         ],
         "showticklabels": true,
         "tick0": 80000,
         "type": "linear"
        }
       }
      },
      "image/png": "[encoded data removed]",
      "text/html": [
       "<div>\n",
       "        \n",
       "        \n",
       "            <div id=\"3967907d-2b89-4866-b2e9-bb76648d6132\" class=\"plotly-graph-div\" style=\"height:700px; width:100%;\"></div>\n",
       "            <script type=\"text/javascript\">\n",
       "                require([\"plotly\"], function(Plotly) {\n",
       "                    window.PLOTLYENV=window.PLOTLYENV || {};\n",
       "                    \n",
       "                if (document.getElementById(\"3967907d-2b89-4866-b2e9-bb76648d6132\")) {\n",
       "                    Plotly.newPlot(\n",
       "                        '3967907d-2b89-4866-b2e9-bb76648d6132',\n",
       "                        [{\"alignmentgroup\": \"True\", \"boxpoints\": \"all\", \"customdata\": [[\"IDBD-D100970\"], [\"IDBD-D100971\"], [\"IDBD-D100972\"], [\"IDBD-D100973\"]], \"hoverlabel\": {\"namelength\": 0}, \"hovertemplate\": \"sample=No DNAse<br>Organism=T7<br>Pool=%{x}<br>Normalized Reads=%{y}<br>Accession=%{customdata[0]}\", \"legendgroup\": \"sample=No DNAse\", \"marker\": {\"color\": \"#636efa\"}, \"name\": \"sample=No DNAse\", \"notched\": false, \"offsetgroup\": \"sample=No DNAse\", \"orientation\": \"v\", \"showlegend\": true, \"type\": \"box\", \"x\": [\"A\", \"A\", \"B\", \"B\"], \"x0\": \" \", \"xaxis\": \"x\", \"y\": [1958.442032123037, 1822.3565777019849, 1926.6282521724231, 1698.4106876352546], \"y0\": \" \", \"yaxis\": \"y\"}, {\"alignmentgroup\": \"True\", \"boxpoints\": \"all\", \"customdata\": [[\"IDBD-D100970\"], [\"IDBD-D100971\"], [\"IDBD-D100972\"], [\"IDBD-D100973\"]], \"hoverlabel\": {\"namelength\": 0}, \"hovertemplate\": \"sample=No DNAse<br>Organism=Human<br>Pool=%{x}<br>Normalized Reads=%{y}<br>Accession=%{customdata[0]}\", \"legendgroup\": \"sample=No DNAse\", \"marker\": {\"color\": \"#636efa\"}, \"name\": \"sample=No DNAse\", \"notched\": false, \"offsetgroup\": \"sample=No DNAse\", \"orientation\": \"v\", \"showlegend\": false, \"type\": \"box\", \"x\": [\"A\", \"A\", \"B\", \"B\"], \"x0\": \" \", \"xaxis\": \"x2\", \"y\": [2070661.047304834, 2075589.391874197, 2008812.708757949, 2084146.4240559519], \"y0\": \" \", \"yaxis\": \"y2\"}, {\"alignmentgroup\": \"True\", \"boxpoints\": \"all\", \"customdata\": [[\"IDBD-D100970\"], [\"IDBD-D100971\"], [\"IDBD-D100972\"], [\"IDBD-D100973\"]], \"hoverlabel\": {\"namelength\": 0}, \"hovertemplate\": \"sample=No DNAse<br>Organism=E.coli<br>Pool=%{x}<br>Normalized Reads=%{y}<br>Accession=%{customdata[0]}\", \"legendgroup\": \"sample=No DNAse\", \"marker\": {\"color\": \"#636efa\"}, \"name\": \"sample=No DNAse\", \"notched\": false, \"offsetgroup\": \"sample=No DNAse\", \"orientation\": \"v\", \"showlegend\": false, \"type\": \"box\", \"x\": [\"A\", \"A\", \"B\", \"B\"], \"x0\": \" \", \"xaxis\": \"x3\", \"y\": [61058.65978334986, 59751.12846917923, 85504.00116411426, 79060.3156868229], \"y0\": \" \", \"yaxis\": \"y3\"}, {\"alignmentgroup\": \"True\", \"boxpoints\": \"all\", \"customdata\": [[\"IDBD-D100974\"], [\"IDBD-D100975\"], [\"IDBD-D100976\"], [\"IDBD-D100977\"]], \"hoverlabel\": {\"namelength\": 0}, \"hovertemplate\": \"sample=DNAse<br>Organism=T7<br>Pool=%{x}<br>Normalized Reads=%{y}<br>Accession=%{customdata[0]}\", \"legendgroup\": \"sample=DNAse\", \"marker\": {\"color\": \"#EF553B\"}, \"name\": \"sample=DNAse\", \"notched\": false, \"offsetgroup\": \"sample=DNAse\", \"orientation\": \"v\", \"showlegend\": true, \"type\": \"box\", \"x\": [\"A\", \"A\", \"B\", \"B\"], \"x0\": \" \", \"xaxis\": \"x\", \"y\": [8903.647384823471, 8825.500266248851, 7210.459213310418, 7421.681546919138], \"y0\": \" \", \"yaxis\": \"y\"}, {\"alignmentgroup\": \"True\", \"boxpoints\": \"all\", \"customdata\": [[\"IDBD-D100974\"], [\"IDBD-D100975\"], [\"IDBD-D100976\"], [\"IDBD-D100977\"]], \"hoverlabel\": {\"namelength\": 0}, \"hovertemplate\": \"sample=DNAse<br>Organism=Human<br>Pool=%{x}<br>Normalized Reads=%{y}<br>Accession=%{customdata[0]}\", \"legendgroup\": \"sample=DNAse\", \"marker\": {\"color\": \"#EF553B\"}, \"name\": \"sample=DNAse\", \"notched\": false, \"offsetgroup\": \"sample=DNAse\", \"orientation\": \"v\", \"showlegend\": false, \"type\": \"box\", \"x\": [\"A\", \"A\", \"B\", \"B\"], \"x0\": \" \", \"xaxis\": \"x2\", \"y\": [331063.4460811509, 361228.3666484446, 729163.3094059016, 764619.9518040287], \"y0\": \" \", \"yaxis\": \"y2\"}, {\"alignmentgroup\": \"True\", \"boxpoints\": \"all\", \"customdata\": [[\"IDBD-D100974\"], [\"IDBD-D100975\"], [\"IDBD-D100976\"], [\"IDBD-D100977\"]], \"hoverlabel\": {\"namelength\": 0}, \"hovertemplate\": \"sample=DNAse<br>Organism=E.coli<br>Pool=%{x}<br>Normalized Reads=%{y}<br>Accession=%{customdata[0]}\", \"legendgroup\": \"sample=DNAse\", \"marker\": {\"color\": \"#EF553B\"}, \"name\": \"sample=DNAse\", \"notched\": false, \"offsetgroup\": \"sample=DNAse\", \"orientation\": \"v\", \"showlegend\": false, \"type\": \"box\", \"x\": [\"A\", \"A\", \"B\", \"B\"], \"x0\": \" \", \"xaxis\": \"x3\", \"y\": [220684.567157581, 221403.03533808546, 242296.16399072684, 242221.4137300417], \"y0\": \" \", \"yaxis\": \"y3\"}],\n",
       "                        {\"annotations\": [{\"font\": {}, \"showarrow\": false, \"text\": \"Organism=T7\", \"x\": 0.15999999999999998, \"xanchor\": \"center\", \"xref\": \"paper\", \"y\": 1.0, \"yanchor\": \"bottom\", \"yref\": \"paper\"}, {\"font\": {}, \"showarrow\": false, \"text\": \"Organism=Human\", \"x\": 0.49999999999999994, \"xanchor\": \"center\", \"xref\": \"paper\", \"y\": 1.0, \"yanchor\": \"bottom\", \"yref\": \"paper\"}, {\"font\": {}, \"showarrow\": false, \"text\": \"Organism=E.coli\", \"x\": 0.8399999999999999, \"xanchor\": \"center\", \"xref\": \"paper\", \"y\": 1.0, \"yanchor\": \"bottom\", \"yref\": \"paper\"}], \"boxmode\": \"group\", \"font\": {\"size\": 18}, \"height\": 700, \"legend\": {\"orientation\": \"h\", \"tracegroupgap\": 0}, \"margin\": {\"t\": 60}, \"template\": {\"data\": {\"bar\": [{\"error_x\": {\"color\": \"#2a3f5f\"}, \"error_y\": {\"color\": \"#2a3f5f\"}, \"marker\": {\"line\": {\"color\": \"#E5ECF6\", \"width\": 0.5}}, \"type\": \"bar\"}], \"barpolar\": [{\"marker\": {\"line\": {\"color\": \"#E5ECF6\", \"width\": 0.5}}, \"type\": \"barpolar\"}], \"carpet\": [{\"aaxis\": {\"endlinecolor\": \"#2a3f5f\", \"gridcolor\": \"white\", \"linecolor\": \"white\", \"minorgridcolor\": \"white\", \"startlinecolor\": \"#2a3f5f\"}, \"baxis\": {\"endlinecolor\": \"#2a3f5f\", \"gridcolor\": \"white\", \"linecolor\": \"white\", \"minorgridcolor\": \"white\", \"startlinecolor\": \"#2a3f5f\"}, \"type\": \"carpet\"}], \"choropleth\": [{\"colorbar\": {\"outlinewidth\": 0, \"ticks\": \"\"}, \"type\": \"choropleth\"}], \"contour\": [{\"colorbar\": {\"outlinewidth\": 0, \"ticks\": \"\"}, \"colorscale\": [[0.0, \"#0d0887\"], [0.1111111111111111, \"#46039f\"], [0.2222222222222222, \"#7201a8\"], [0.3333333333333333, \"#9c179e\"], [0.4444444444444444, \"#bd3786\"], [0.5555555555555556, \"#d8576b\"], [0.6666666666666666, \"#ed7953\"], [0.7777777777777778, \"#fb9f3a\"], [0.8888888888888888, \"#fdca26\"], [1.0, \"#f0f921\"]], \"type\": \"contour\"}], \"contourcarpet\": [{\"colorbar\": {\"outlinewidth\": 0, \"ticks\": \"\"}, \"type\": \"contourcarpet\"}], \"heatmap\": [{\"colorbar\": {\"outlinewidth\": 0, \"ticks\": \"\"}, \"colorscale\": [[0.0, \"#0d0887\"], [0.1111111111111111, \"#46039f\"], [0.2222222222222222, \"#7201a8\"], [0.3333333333333333, \"#9c179e\"], [0.4444444444444444, \"#bd3786\"], [0.5555555555555556, \"#d8576b\"], [0.6666666666666666, \"#ed7953\"], [0.7777777777777778, \"#fb9f3a\"], [0.8888888888888888, \"#fdca26\"], [1.0, \"#f0f921\"]], \"type\": \"heatmap\"}], \"heatmapgl\": [{\"colorbar\": {\"outlinewidth\": 0, \"ticks\": \"\"}, \"colorscale\": [[0.0, \"#0d0887\"], [0.1111111111111111, \"#46039f\"], [0.2222222222222222, \"#7201a8\"], [0.3333333333333333, \"#9c179e\"], [0.4444444444444444, \"#bd3786\"], [0.5555555555555556, \"#d8576b\"], [0.6666666666666666, \"#ed7953\"], [0.7777777777777778, \"#fb9f3a\"], [0.8888888888888888, \"#fdca26\"], [1.0, \"#f0f921\"]], \"type\": \"heatmapgl\"}], \"histogram\": [{\"marker\": {\"colorbar\": {\"outlinewidth\": 0, \"ticks\": \"\"}}, \"type\": \"histogram\"}], \"histogram2d\": [{\"colorbar\": {\"outlinewidth\": 0, \"ticks\": \"\"}, \"colorscale\": [[0.0, \"#0d0887\"], [0.1111111111111111, \"#46039f\"], [0.2222222222222222, \"#7201a8\"], [0.3333333333333333, \"#9c179e\"], [0.4444444444444444, \"#bd3786\"], [0.5555555555555556, \"#d8576b\"], [0.6666666666666666, \"#ed7953\"], [0.7777777777777778, \"#fb9f3a\"], [0.8888888888888888, \"#fdca26\"], [1.0, \"#f0f921\"]], \"type\": \"histogram2d\"}], \"histogram2dcontour\": [{\"colorbar\": {\"outlinewidth\": 0, \"ticks\": \"\"}, \"colorscale\": [[0.0, \"#0d0887\"], [0.1111111111111111, \"#46039f\"], [0.2222222222222222, \"#7201a8\"], [0.3333333333333333, \"#9c179e\"], [0.4444444444444444, \"#bd3786\"], [0.5555555555555556, \"#d8576b\"], [0.6666666666666666, \"#ed7953\"], [0.7777777777777778, \"#fb9f3a\"], [0.8888888888888888, \"#fdca26\"], [1.0, \"#f0f921\"]], \"type\": \"histogram2dcontour\"}], \"mesh3d\": [{\"colorbar\": {\"outlinewidth\": 0, \"ticks\": \"\"}, \"type\": \"mesh3d\"}], \"parcoords\": [{\"line\": {\"colorbar\": {\"outlinewidth\": 0, \"ticks\": \"\"}}, \"type\": \"parcoords\"}], \"pie\": [{\"automargin\": true, \"type\": \"pie\"}], \"scatter\": [{\"marker\": {\"colorbar\": {\"outlinewidth\": 0, \"ticks\": \"\"}}, \"type\": \"scatter\"}], \"scatter3d\": [{\"line\": {\"colorbar\": {\"outlinewidth\": 0, \"ticks\": \"\"}}, \"marker\": {\"colorbar\": {\"outlinewidth\": 0, \"ticks\": \"\"}}, \"type\": \"scatter3d\"}], \"scattercarpet\": [{\"marker\": {\"colorbar\": {\"outlinewidth\": 0, \"ticks\": \"\"}}, \"type\": \"scattercarpet\"}], \"scattergeo\": [{\"marker\": {\"colorbar\": {\"outlinewidth\": 0, \"ticks\": \"\"}}, \"type\": \"scattergeo\"}], \"scattergl\": [{\"marker\": {\"colorbar\": {\"outlinewidth\": 0, \"ticks\": \"\"}}, \"type\": \"scattergl\"}], \"scattermapbox\": [{\"marker\": {\"colorbar\": {\"outlinewidth\": 0, \"ticks\": \"\"}}, \"type\": \"scattermapbox\"}], \"scatterpolar\": [{\"marker\": {\"colorbar\": {\"outlinewidth\": 0, \"ticks\": \"\"}}, \"type\": \"scatterpolar\"}], \"scatterpolargl\": [{\"marker\": {\"colorbar\": {\"outlinewidth\": 0, \"ticks\": \"\"}}, \"type\": \"scatterpolargl\"}], \"scatterternary\": [{\"marker\": {\"colorbar\": {\"outlinewidth\": 0, \"ticks\": \"\"}}, \"type\": \"scatterternary\"}], \"surface\": [{\"colorbar\": {\"outlinewidth\": 0, \"ticks\": \"\"}, \"colorscale\": [[0.0, \"#0d0887\"], [0.1111111111111111, \"#46039f\"], [0.2222222222222222, \"#7201a8\"], [0.3333333333333333, \"#9c179e\"], [0.4444444444444444, \"#bd3786\"], [0.5555555555555556, \"#d8576b\"], [0.6666666666666666, \"#ed7953\"], [0.7777777777777778, \"#fb9f3a\"], [0.8888888888888888, \"#fdca26\"], [1.0, \"#f0f921\"]], \"type\": \"surface\"}], \"table\": [{\"cells\": {\"fill\": {\"color\": \"#EBF0F8\"}, \"line\": {\"color\": \"white\"}}, \"header\": {\"fill\": {\"color\": \"#C8D4E3\"}, \"line\": {\"color\": \"white\"}}, \"type\": \"table\"}]}, \"layout\": {\"annotationdefaults\": {\"arrowcolor\": \"#2a3f5f\", \"arrowhead\": 0, \"arrowwidth\": 1}, \"coloraxis\": {\"colorbar\": {\"outlinewidth\": 0, \"ticks\": \"\"}}, \"colorscale\": {\"diverging\": [[0, \"#8e0152\"], [0.1, \"#c51b7d\"], [0.2, \"#de77ae\"], [0.3, \"#f1b6da\"], [0.4, \"#fde0ef\"], [0.5, \"#f7f7f7\"], [0.6, \"#e6f5d0\"], [0.7, \"#b8e186\"], [0.8, \"#7fbc41\"], [0.9, \"#4d9221\"], [1, \"#276419\"]], \"sequential\": [[0.0, \"#0d0887\"], [0.1111111111111111, \"#46039f\"], [0.2222222222222222, \"#7201a8\"], [0.3333333333333333, \"#9c179e\"], [0.4444444444444444, \"#bd3786\"], [0.5555555555555556, \"#d8576b\"], [0.6666666666666666, \"#ed7953\"], [0.7777777777777778, \"#fb9f3a\"], [0.8888888888888888, \"#fdca26\"], [1.0, \"#f0f921\"]], \"sequentialminus\": [[0.0, \"#0d0887\"], [0.1111111111111111, \"#46039f\"], [0.2222222222222222, \"#7201a8\"], [0.3333333333333333, \"#9c179e\"], [0.4444444444444444, \"#bd3786\"], [0.5555555555555556, \"#d8576b\"], [0.6666666666666666, \"#ed7953\"], [0.7777777777777778, \"#fb9f3a\"], [0.8888888888888888, \"#fdca26\"], [1.0, \"#f0f921\"]]}, \"colorway\": [\"#636efa\", \"#EF553B\", \"#00cc96\", \"#ab63fa\", \"#FFA15A\", \"#19d3f3\", \"#FF6692\", \"#B6E880\", \"#FF97FF\", \"#FECB52\"], \"font\": {\"color\": \"#2a3f5f\"}, \"geo\": {\"bgcolor\": \"white\", \"lakecolor\": \"white\", \"landcolor\": \"#E5ECF6\", \"showlakes\": true, \"showland\": true, \"subunitcolor\": \"white\"}, \"hoverlabel\": {\"align\": \"left\"}, \"hovermode\": \"closest\", \"mapbox\": {\"style\": \"light\"}, \"paper_bgcolor\": \"white\", \"plot_bgcolor\": \"#E5ECF6\", \"polar\": {\"angularaxis\": {\"gridcolor\": \"white\", \"linecolor\": \"white\", \"ticks\": \"\"}, \"bgcolor\": \"#E5ECF6\", \"radialaxis\": {\"gridcolor\": \"white\", \"linecolor\": \"white\", \"ticks\": \"\"}}, \"scene\": {\"xaxis\": {\"backgroundcolor\": \"#E5ECF6\", \"gridcolor\": \"white\", \"gridwidth\": 2, \"linecolor\": \"white\", \"showbackground\": true, \"ticks\": \"\", \"zerolinecolor\": \"white\"}, \"yaxis\": {\"backgroundcolor\": \"#E5ECF6\", \"gridcolor\": \"white\", \"gridwidth\": 2, \"linecolor\": \"white\", \"showbackground\": true, \"ticks\": \"\", \"zerolinecolor\": \"white\"}, \"zaxis\": {\"backgroundcolor\": \"#E5ECF6\", \"gridcolor\": \"white\", \"gridwidth\": 2, \"linecolor\": \"white\", \"showbackground\": true, \"ticks\": \"\", \"zerolinecolor\": \"white\"}}, \"shapedefaults\": {\"line\": {\"color\": \"#2a3f5f\"}}, \"ternary\": {\"aaxis\": {\"gridcolor\": \"white\", \"linecolor\": \"white\", \"ticks\": \"\"}, \"baxis\": {\"gridcolor\": \"white\", \"linecolor\": \"white\", \"ticks\": \"\"}, \"bgcolor\": \"#E5ECF6\", \"caxis\": {\"gridcolor\": \"white\", \"linecolor\": \"white\", \"ticks\": \"\"}}, \"title\": {\"x\": 0.05}, \"xaxis\": {\"automargin\": true, \"gridcolor\": \"white\", \"linecolor\": \"white\", \"ticks\": \"\", \"title\": {\"standoff\": 15}, \"zerolinecolor\": \"white\", \"zerolinewidth\": 2}, \"yaxis\": {\"automargin\": true, \"gridcolor\": \"white\", \"linecolor\": \"white\", \"ticks\": \"\", \"title\": {\"standoff\": 15}, \"zerolinecolor\": \"white\", \"zerolinewidth\": 2}}}, \"xaxis\": {\"anchor\": \"y\", \"domain\": [0, 0.293], \"title\": {\"text\": \"Pool\"}}, \"xaxis2\": {\"anchor\": \"y2\", \"domain\": [0.333, 0.626], \"matches\": \"x\", \"title\": {\"text\": \"Pool\"}}, \"xaxis3\": {\"anchor\": \"y3\", \"domain\": [0.666, 0.98], \"matches\": \"x\", \"title\": {\"text\": \"Pool\"}}, \"yaxis\": {\"anchor\": \"x\", \"domain\": [0.0, 1.0], \"dtick\": 2000.0, \"tick0\": 2000.0, \"title\": {\"text\": \"Normalized Reads\"}}, \"yaxis2\": {\"anchor\": \"x2\", \"domain\": [0.0, 1.0], \"dtick\": 500000.0, \"showticklabels\": true, \"tick0\": 500000.0}, \"yaxis3\": {\"anchor\": \"x3\", \"domain\": [0.0, 1.0], \"dtick\": 40000.0, \"showticklabels\": true, \"tick0\": 80000.0}},\n",
       "                        {\"responsive\": true}\n",
       "                    ).then(function(){\n",
       "                            \n",
       "var gd = document.getElementById('3967907d-2b89-4866-b2e9-bb76648d6132');\n",
       "var x = new MutationObserver(function (mutations, observer) {{\n",
       "        var display = window.getComputedStyle(gd).display;\n",
       "        if (!display || display === 'none') {{\n",
       "            console.log([gd, 'removed!']);\n",
       "            Plotly.purge(gd);\n",
       "            observer.disconnect();\n",
       "        }}\n",
       "}});\n",
       "\n",
       "// Listen for the removal of the full notebook cells\n",
       "var notebookContainer = gd.closest('#notebook-container');\n",
       "if (notebookContainer) {{\n",
       "    x.observe(notebookContainer, {childList: true});\n",
       "}}\n",
       "\n",
       "// Listen for the clearing of the current output cell\n",
       "var outputEl = gd.closest('.output');\n",
       "if (outputEl) {{\n",
       "    x.observe(outputEl, {childList: true});\n",
       "}}\n",
       "\n",
       "                        })\n",
       "                };\n",
       "                });\n",
       "            </script>\n",
       "        </div>"
      ]
     },
     "metadata": {},
     "output_type": "display_data"
    }
   ],
   "source": [
    "melt = pd.melt(\n",
    "    merged[merged['sample'].isin(['No DNAse', 'DNAse'])],\n",
    "    value_vars=['t7_normalized_reads', 'Human', 'ecoli_normalized_reads'],\n",
    "    id_vars=['Accession', 'sample', 'Pool'],\n",
    "    value_name='Normalized Reads',\n",
    "    var_name='Organism'\n",
    ")\n",
    "melt = melt.replace({\n",
    "    't7_normalized_reads': 'T7',\n",
    "    'ecoli_normalized_reads': 'E.coli'\n",
    "})\n",
    "melt['Pool'] = melt['Pool'].replace({3: 'A', 4: 'B'})\n",
    "fig = px.box(melt, facet_col='Organism', x='Pool', y='Normalized Reads', color='sample', points='all', hover_data=['Accession'],\n",
    "             labels={3: 'A', 4: 'B'})\n",
    "fig.update_layout(height=700, font=dict(size=18), legend_orientation='h')\n",
    "fig.layout.yaxis1.update(matches=None, tick0=2e3, dtick=2e3)\n",
    "fig.layout.yaxis2.update(matches=None, showticklabels=True, tick0=5e5, dtick=0.5e6)\n",
    "fig.layout.yaxis3.update(matches=None, showticklabels=True, tick0=80e3, dtick=40e3)\n",
    "fig.layout.xaxis.update(domain=[0, 0.293])\n",
    "fig.layout.xaxis2.update(domain=[0.333, 0.626])\n",
    "fig.layout.xaxis3.update(domain=[0.666, 0.98])\n",
    "fig.show()"
   ]
  },
  {
   "cell_type": "code",
   "execution_count": 42,
   "metadata": {},
   "outputs": [
    {
     "data": {
      "text/plain": [
       "array(['IDBD-D100970', 'IDBD-D100971', 'IDBD-D100972', 'IDBD-D100973',\n",
       "       'IDBD-D100974', 'IDBD-D100975', 'IDBD-D100976', 'IDBD-D100977',\n",
       "       'IDBD-D100978', 'IDBD-D100979', 'IDBD-D100980', 'IDBD-D100981',\n",
       "       'IDBD-D100982', 'IDBD-D100983', 'IDBD-D100984', 'IDBD-D100985',\n",
       "       'IDBD-D100986', 'IDBD-D100987', 'IDBD-D100988', 'IDBD-D100989',\n",
       "       'IDBD-D100990', 'IDBD-D100991', 'IDBD-D100992', 'IDBD-D100993',\n",
       "       'IDBD-D100994', 'IDBD-D100995', 'IDBD-D100996', 'IDBD-D100997',\n",
       "       'IDBD-D100998', 'IDBD-D100999', 'IDBD-D101000', 'IDBD-D101001',\n",
       "       'IDBD-D101002', 'IDBD-D101003', 'IDBD-D101004', 'IDBD-D101005',\n",
       "       'IDBD-D101006', 'IDBD-D101007', 'IDBD-D101008', 'IDBD-D101009'],\n",
       "      dtype=object)"
      ]
     },
     "execution_count": 42,
     "metadata": {},
     "output_type": "execute_result"
    }
   ],
   "source": [
    "merged['Accession'].unique()"
   ]
  },
  {
   "cell_type": "code",
   "execution_count": 41,
   "metadata": {},
   "outputs": [
    {
     "data": {
      "text/plain": [
       "Index(['Accession', 'total_reads', 't7_reads', 't7_normalized_reads',\n",
       "       'ecoli_reads', 'ecoli_normalized_reads', 'Human', 'Bacteria', 'Virus',\n",
       "       'Parasite', 'Fungus', 'Unclassified', 'Pool', 'Pool replicate',\n",
       "       'sample', 'centrifugation', 'Description'],\n",
       "      dtype='object')"
      ]
     },
     "execution_count": 41,
     "metadata": {},
     "output_type": "execute_result"
    }
   ],
   "source": [
    "merged.columns"
   ]
  },
  {
   "cell_type": "code",
   "execution_count": null,
   "metadata": {},
   "outputs": [],
   "source": [
    "merged['sample'].uique()"
   ]
  },
  {
   "cell_type": "code",
   "execution_count": 89,
   "metadata": {},
   "outputs": [
    {
     "data": {
      "application/vnd.plotly.v1+json": {
       "config": {
        "plotlyServerURL": "https://plot.ly"
       },
       "data": [
        {
         "alignmentgroup": "True",
         "boxpoints": "all",
         "customdata": [
          [
           "IDBD-D100970"
          ],
          [
           "IDBD-D100971"
          ],
          [
           "IDBD-D100982"
          ],
          [
           "IDBD-D100983"
          ],
          [
           "IDBD-D100990"
          ],
          [
           "IDBD-D100991"
          ],
          [
           "IDBD-D100998"
          ],
          [
           "IDBD-D100999"
          ],
          [
           "IDBD-D101006"
          ],
          [
           "IDBD-D101007"
          ]
         ],
         "hoverlabel": {
          "namelength": 0
         },
         "hovertemplate": "Pool=L<br>Organism=T7<br>centrifugation=%{x}<br>Normalized Reads=%{y}<br>Accession=%{customdata[0]}",
         "legendgroup": "Pool=L",
         "marker": {
          "color": "#636efa"
         },
         "name": "Pool=L",
         "notched": false,
         "offsetgroup": "Pool=L",
         "orientation": "v",
         "showlegend": true,
         "type": "box",
         "x": [
          "No Spin",
          "No Spin",
          "200g",
          "200g",
          "400g",
          "400g",
          "1000g",
          "1000g",
          "2000g",
          "2000g"
         ],
         "x0": " ",
         "xaxis": "x",
         "y": [
          1958.442032123037,
          1822.3565777019849,
          6566.951980168434,
          5200.696407749932,
          6311.616474151362,
          5514.657861326339,
          7595.171829739176,
          7854.342152460821,
          8225.357345687322,
          7851.232942971154
         ],
         "y0": " ",
         "yaxis": "y"
        },
        {
         "alignmentgroup": "True",
         "boxpoints": "all",
         "customdata": [
          [
           "IDBD-D100970"
          ],
          [
           "IDBD-D100971"
          ],
          [
           "IDBD-D100982"
          ],
          [
           "IDBD-D100983"
          ],
          [
           "IDBD-D100990"
          ],
          [
           "IDBD-D100991"
          ],
          [
           "IDBD-D100998"
          ],
          [
           "IDBD-D100999"
          ],
          [
           "IDBD-D101006"
          ],
          [
           "IDBD-D101007"
          ]
         ],
         "hoverlabel": {
          "namelength": 0
         },
         "hovertemplate": "Pool=L<br>Organism=Human<br>centrifugation=%{x}<br>Normalized Reads=%{y}<br>Accession=%{customdata[0]}",
         "legendgroup": "Pool=L",
         "marker": {
          "color": "#636efa"
         },
         "name": "Pool=L",
         "notched": false,
         "offsetgroup": "Pool=L",
         "orientation": "v",
         "showlegend": false,
         "type": "box",
         "x": [
          "No Spin",
          "No Spin",
          "200g",
          "200g",
          "400g",
          "400g",
          "1000g",
          "1000g",
          "2000g",
          "2000g"
         ],
         "x0": " ",
         "xaxis": "x2",
         "y": [
          2070661.047304834,
          2075589.391874197,
          1604171.1154067544,
          1833277.4290414809,
          2152777.8575061453,
          2189786.780495196,
          2459157.3493070784,
          2446225.586601853,
          2594853.882620921,
          2612890.9047782933
         ],
         "y0": " ",
         "yaxis": "y2"
        },
        {
         "alignmentgroup": "True",
         "boxpoints": "all",
         "customdata": [
          [
           "IDBD-D100970"
          ],
          [
           "IDBD-D100971"
          ],
          [
           "IDBD-D100982"
          ],
          [
           "IDBD-D100983"
          ],
          [
           "IDBD-D100990"
          ],
          [
           "IDBD-D100991"
          ],
          [
           "IDBD-D100998"
          ],
          [
           "IDBD-D100999"
          ],
          [
           "IDBD-D101006"
          ],
          [
           "IDBD-D101007"
          ]
         ],
         "hoverlabel": {
          "namelength": 0
         },
         "hovertemplate": "Pool=L<br>Organism=E.coli<br>centrifugation=%{x}<br>Normalized Reads=%{y}<br>Accession=%{customdata[0]}",
         "legendgroup": "Pool=L",
         "marker": {
          "color": "#636efa"
         },
         "name": "Pool=L",
         "notched": false,
         "offsetgroup": "Pool=L",
         "orientation": "v",
         "showlegend": false,
         "type": "box",
         "x": [
          "No Spin",
          "No Spin",
          "200g",
          "200g",
          "400g",
          "400g",
          "1000g",
          "1000g",
          "2000g",
          "2000g"
         ],
         "x0": " ",
         "xaxis": "x3",
         "y": [
          61058.65978334986,
          59751.12846917923,
          105015.31298568445,
          81198.58801731435,
          50421.17626258161,
          45891.04436282321,
          22212.294973765518,
          24377.769926124547,
          9993.490910968343,
          11275.42857674384
         ],
         "y0": " ",
         "yaxis": "y3"
        },
        {
         "alignmentgroup": "True",
         "boxpoints": "all",
         "customdata": [
          [
           "IDBD-D100972"
          ],
          [
           "IDBD-D100973"
          ],
          [
           "IDBD-D100984"
          ],
          [
           "IDBD-D100985"
          ],
          [
           "IDBD-D100992"
          ],
          [
           "IDBD-D100993"
          ],
          [
           "IDBD-D101000"
          ],
          [
           "IDBD-D101001"
          ],
          [
           "IDBD-D101008"
          ],
          [
           "IDBD-D101009"
          ]
         ],
         "hoverlabel": {
          "namelength": 0
         },
         "hovertemplate": "Pool=M<br>Organism=T7<br>centrifugation=%{x}<br>Normalized Reads=%{y}<br>Accession=%{customdata[0]}",
         "legendgroup": "Pool=M",
         "marker": {
          "color": "#EF553B"
         },
         "name": "Pool=M",
         "notched": false,
         "offsetgroup": "Pool=M",
         "orientation": "v",
         "showlegend": true,
         "type": "box",
         "x": [
          "No Spin",
          "No Spin",
          "200g",
          "200g",
          "400g",
          "400g",
          "1000g",
          "1000g",
          "2000g",
          "2000g"
         ],
         "x0": " ",
         "xaxis": "x",
         "y": [
          1926.6282521724231,
          1698.4106876352546,
          6304.801807776062,
          6622.635716147215,
          8310.287172458186,
          9209.233976098029,
          11658.294227661228,
          12119.78688038572,
          12445.131223335158,
          13924.162286111443
         ],
         "y0": " ",
         "yaxis": "y"
        },
        {
         "alignmentgroup": "True",
         "boxpoints": "all",
         "customdata": [
          [
           "IDBD-D100972"
          ],
          [
           "IDBD-D100973"
          ],
          [
           "IDBD-D100984"
          ],
          [
           "IDBD-D100985"
          ],
          [
           "IDBD-D100992"
          ],
          [
           "IDBD-D100993"
          ],
          [
           "IDBD-D101000"
          ],
          [
           "IDBD-D101001"
          ],
          [
           "IDBD-D101008"
          ],
          [
           "IDBD-D101009"
          ]
         ],
         "hoverlabel": {
          "namelength": 0
         },
         "hovertemplate": "Pool=M<br>Organism=Human<br>centrifugation=%{x}<br>Normalized Reads=%{y}<br>Accession=%{customdata[0]}",
         "legendgroup": "Pool=M",
         "marker": {
          "color": "#EF553B"
         },
         "name": "Pool=M",
         "notched": false,
         "offsetgroup": "Pool=M",
         "orientation": "v",
         "showlegend": false,
         "type": "box",
         "x": [
          "No Spin",
          "No Spin",
          "200g",
          "200g",
          "400g",
          "400g",
          "1000g",
          "1000g",
          "2000g",
          "2000g"
         ],
         "x0": " ",
         "xaxis": "x2",
         "y": [
          2008812.708757949,
          2084146.4240559519,
          1526789.8640122572,
          1569309.2782487918,
          2019315.903373262,
          1961692.9496662968,
          2370504.84518828,
          2368646.5043296404,
          2579220.35546964,
          2608562.0027901423
         ],
         "y0": " ",
         "yaxis": "y2"
        },
        {
         "alignmentgroup": "True",
         "boxpoints": "all",
         "customdata": [
          [
           "IDBD-D100972"
          ],
          [
           "IDBD-D100973"
          ],
          [
           "IDBD-D100984"
          ],
          [
           "IDBD-D100985"
          ],
          [
           "IDBD-D100992"
          ],
          [
           "IDBD-D100993"
          ],
          [
           "IDBD-D101000"
          ],
          [
           "IDBD-D101001"
          ],
          [
           "IDBD-D101008"
          ],
          [
           "IDBD-D101009"
          ]
         ],
         "hoverlabel": {
          "namelength": 0
         },
         "hovertemplate": "Pool=M<br>Organism=E.coli<br>centrifugation=%{x}<br>Normalized Reads=%{y}<br>Accession=%{customdata[0]}",
         "legendgroup": "Pool=M",
         "marker": {
          "color": "#EF553B"
         },
         "name": "Pool=M",
         "notched": false,
         "offsetgroup": "Pool=M",
         "orientation": "v",
         "showlegend": false,
         "type": "box",
         "x": [
          "No Spin",
          "No Spin",
          "200g",
          "200g",
          "400g",
          "400g",
          "1000g",
          "1000g",
          "2000g",
          "2000g"
         ],
         "x0": " ",
         "xaxis": "x3",
         "y": [
          85504.00116411426,
          79060.3156868229,
          149268.58006214304,
          149308.22187745047,
          91180.16019127019,
          96914.65138980762,
          52245.09803334074,
          47133.552506029235,
          19266.405225539147,
          19588.228300800845
         ],
         "y0": " ",
         "yaxis": "y3"
        }
       ],
       "layout": {
        "annotations": [
         {
          "font": {},
          "showarrow": false,
          "text": "Organism=T7",
          "x": 0.15999999999999998,
          "xanchor": "center",
          "xref": "paper",
          "y": 1,
          "yanchor": "bottom",
          "yref": "paper"
         },
         {
          "font": {},
          "showarrow": false,
          "text": "Organism=Human",
          "x": 0.49999999999999994,
          "xanchor": "center",
          "xref": "paper",
          "y": 1,
          "yanchor": "bottom",
          "yref": "paper"
         },
         {
          "font": {},
          "showarrow": false,
          "text": "Organism=E.coli",
          "x": 0.8399999999999999,
          "xanchor": "center",
          "xref": "paper",
          "y": 1,
          "yanchor": "bottom",
          "yref": "paper"
         }
        ],
        "autosize": true,
        "boxmode": "group",
        "font": {
         "size": 18
        },
        "legend": {
         "orientation": "h",
         "tracegroupgap": 0
        },
        "margin": {
         "t": 60
        },
        "template": {
         "data": {
          "bar": [
           {
            "error_x": {
             "color": "#2a3f5f"
            },
            "error_y": {
             "color": "#2a3f5f"
            },
            "marker": {
             "line": {
              "color": "#E5ECF6",
              "width": 0.5
             }
            },
            "type": "bar"
           }
          ],
          "barpolar": [
           {
            "marker": {
             "line": {
              "color": "#E5ECF6",
              "width": 0.5
             }
            },
            "type": "barpolar"
           }
          ],
          "carpet": [
           {
            "aaxis": {
             "endlinecolor": "#2a3f5f",
             "gridcolor": "white",
             "linecolor": "white",
             "minorgridcolor": "white",
             "startlinecolor": "#2a3f5f"
            },
            "baxis": {
             "endlinecolor": "#2a3f5f",
             "gridcolor": "white",
             "linecolor": "white",
             "minorgridcolor": "white",
             "startlinecolor": "#2a3f5f"
            },
            "type": "carpet"
           }
          ],
          "choropleth": [
           {
            "colorbar": {
             "outlinewidth": 0,
             "ticks": ""
            },
            "type": "choropleth"
           }
          ],
          "contour": [
           {
            "colorbar": {
             "outlinewidth": 0,
             "ticks": ""
            },
            "colorscale": [
             [
              0,
              "#0d0887"
             ],
             [
              0.1111111111111111,
              "#46039f"
             ],
             [
              0.2222222222222222,
              "#7201a8"
             ],
             [
              0.3333333333333333,
              "#9c179e"
             ],
             [
              0.4444444444444444,
              "#bd3786"
             ],
             [
              0.5555555555555556,
              "#d8576b"
             ],
             [
              0.6666666666666666,
              "#ed7953"
             ],
             [
              0.7777777777777778,
              "#fb9f3a"
             ],
             [
              0.8888888888888888,
              "#fdca26"
             ],
             [
              1,
              "#f0f921"
             ]
            ],
            "type": "contour"
           }
          ],
          "contourcarpet": [
           {
            "colorbar": {
             "outlinewidth": 0,
             "ticks": ""
            },
            "type": "contourcarpet"
           }
          ],
          "heatmap": [
           {
            "colorbar": {
             "outlinewidth": 0,
             "ticks": ""
            },
            "colorscale": [
             [
              0,
              "#0d0887"
             ],
             [
              0.1111111111111111,
              "#46039f"
             ],
             [
              0.2222222222222222,
              "#7201a8"
             ],
             [
              0.3333333333333333,
              "#9c179e"
             ],
             [
              0.4444444444444444,
              "#bd3786"
             ],
             [
              0.5555555555555556,
              "#d8576b"
             ],
             [
              0.6666666666666666,
              "#ed7953"
             ],
             [
              0.7777777777777778,
              "#fb9f3a"
             ],
             [
              0.8888888888888888,
              "#fdca26"
             ],
             [
              1,
              "#f0f921"
             ]
            ],
            "type": "heatmap"
           }
          ],
          "heatmapgl": [
           {
            "colorbar": {
             "outlinewidth": 0,
             "ticks": ""
            },
            "colorscale": [
             [
              0,
              "#0d0887"
             ],
             [
              0.1111111111111111,
              "#46039f"
             ],
             [
              0.2222222222222222,
              "#7201a8"
             ],
             [
              0.3333333333333333,
              "#9c179e"
             ],
             [
              0.4444444444444444,
              "#bd3786"
             ],
             [
              0.5555555555555556,
              "#d8576b"
             ],
             [
              0.6666666666666666,
              "#ed7953"
             ],
             [
              0.7777777777777778,
              "#fb9f3a"
             ],
             [
              0.8888888888888888,
              "#fdca26"
             ],
             [
              1,
              "#f0f921"
             ]
            ],
            "type": "heatmapgl"
           }
          ],
          "histogram": [
           {
            "marker": {
             "colorbar": {
              "outlinewidth": 0,
              "ticks": ""
             }
            },
            "type": "histogram"
           }
          ],
          "histogram2d": [
           {
            "colorbar": {
             "outlinewidth": 0,
             "ticks": ""
            },
            "colorscale": [
             [
              0,
              "#0d0887"
             ],
             [
              0.1111111111111111,
              "#46039f"
             ],
             [
              0.2222222222222222,
              "#7201a8"
             ],
             [
              0.3333333333333333,
              "#9c179e"
             ],
             [
              0.4444444444444444,
              "#bd3786"
             ],
             [
              0.5555555555555556,
              "#d8576b"
             ],
             [
              0.6666666666666666,
              "#ed7953"
             ],
             [
              0.7777777777777778,
              "#fb9f3a"
             ],
             [
              0.8888888888888888,
              "#fdca26"
             ],
             [
              1,
              "#f0f921"
             ]
            ],
            "type": "histogram2d"
           }
          ],
          "histogram2dcontour": [
           {
            "colorbar": {
             "outlinewidth": 0,
             "ticks": ""
            },
            "colorscale": [
             [
              0,
              "#0d0887"
             ],
             [
              0.1111111111111111,
              "#46039f"
             ],
             [
              0.2222222222222222,
              "#7201a8"
             ],
             [
              0.3333333333333333,
              "#9c179e"
             ],
             [
              0.4444444444444444,
              "#bd3786"
             ],
             [
              0.5555555555555556,
              "#d8576b"
             ],
             [
              0.6666666666666666,
              "#ed7953"
             ],
             [
              0.7777777777777778,
              "#fb9f3a"
             ],
             [
              0.8888888888888888,
              "#fdca26"
             ],
             [
              1,
              "#f0f921"
             ]
            ],
            "type": "histogram2dcontour"
           }
          ],
          "mesh3d": [
           {
            "colorbar": {
             "outlinewidth": 0,
             "ticks": ""
            },
            "type": "mesh3d"
           }
          ],
          "parcoords": [
           {
            "line": {
             "colorbar": {
              "outlinewidth": 0,
              "ticks": ""
             }
            },
            "type": "parcoords"
           }
          ],
          "pie": [
           {
            "automargin": true,
            "type": "pie"
           }
          ],
          "scatter": [
           {
            "marker": {
             "colorbar": {
              "outlinewidth": 0,
              "ticks": ""
             }
            },
            "type": "scatter"
           }
          ],
          "scatter3d": [
           {
            "line": {
             "colorbar": {
              "outlinewidth": 0,
              "ticks": ""
             }
            },
            "marker": {
             "colorbar": {
              "outlinewidth": 0,
              "ticks": ""
             }
            },
            "type": "scatter3d"
           }
          ],
          "scattercarpet": [
           {
            "marker": {
             "colorbar": {
              "outlinewidth": 0,
              "ticks": ""
             }
            },
            "type": "scattercarpet"
           }
          ],
          "scattergeo": [
           {
            "marker": {
             "colorbar": {
              "outlinewidth": 0,
              "ticks": ""
             }
            },
            "type": "scattergeo"
           }
          ],
          "scattergl": [
           {
            "marker": {
             "colorbar": {
              "outlinewidth": 0,
              "ticks": ""
             }
            },
            "type": "scattergl"
           }
          ],
          "scattermapbox": [
           {
            "marker": {
             "colorbar": {
              "outlinewidth": 0,
              "ticks": ""
             }
            },
            "type": "scattermapbox"
           }
          ],
          "scatterpolar": [
           {
            "marker": {
             "colorbar": {
              "outlinewidth": 0,
              "ticks": ""
             }
            },
            "type": "scatterpolar"
           }
          ],
          "scatterpolargl": [
           {
            "marker": {
             "colorbar": {
              "outlinewidth": 0,
              "ticks": ""
             }
            },
            "type": "scatterpolargl"
           }
          ],
          "scatterternary": [
           {
            "marker": {
             "colorbar": {
              "outlinewidth": 0,
              "ticks": ""
             }
            },
            "type": "scatterternary"
           }
          ],
          "surface": [
           {
            "colorbar": {
             "outlinewidth": 0,
             "ticks": ""
            },
            "colorscale": [
             [
              0,
              "#0d0887"
             ],
             [
              0.1111111111111111,
              "#46039f"
             ],
             [
              0.2222222222222222,
              "#7201a8"
             ],
             [
              0.3333333333333333,
              "#9c179e"
             ],
             [
              0.4444444444444444,
              "#bd3786"
             ],
             [
              0.5555555555555556,
              "#d8576b"
             ],
             [
              0.6666666666666666,
              "#ed7953"
             ],
             [
              0.7777777777777778,
              "#fb9f3a"
             ],
             [
              0.8888888888888888,
              "#fdca26"
             ],
             [
              1,
              "#f0f921"
             ]
            ],
            "type": "surface"
           }
          ],
          "table": [
           {
            "cells": {
             "fill": {
              "color": "#EBF0F8"
             },
             "line": {
              "color": "white"
             }
            },
            "header": {
             "fill": {
              "color": "#C8D4E3"
             },
             "line": {
              "color": "white"
             }
            },
            "type": "table"
           }
          ]
         },
         "layout": {
          "annotationdefaults": {
           "arrowcolor": "#2a3f5f",
           "arrowhead": 0,
           "arrowwidth": 1
          },
          "coloraxis": {
           "colorbar": {
            "outlinewidth": 0,
            "ticks": ""
           }
          },
          "colorscale": {
           "diverging": [
            [
             0,
             "#8e0152"
            ],
            [
             0.1,
             "#c51b7d"
            ],
            [
             0.2,
             "#de77ae"
            ],
            [
             0.3,
             "#f1b6da"
            ],
            [
             0.4,
             "#fde0ef"
            ],
            [
             0.5,
             "#f7f7f7"
            ],
            [
             0.6,
             "#e6f5d0"
            ],
            [
             0.7,
             "#b8e186"
            ],
            [
             0.8,
             "#7fbc41"
            ],
            [
             0.9,
             "#4d9221"
            ],
            [
             1,
             "#276419"
            ]
           ],
           "sequential": [
            [
             0,
             "#0d0887"
            ],
            [
             0.1111111111111111,
             "#46039f"
            ],
            [
             0.2222222222222222,
             "#7201a8"
            ],
            [
             0.3333333333333333,
             "#9c179e"
            ],
            [
             0.4444444444444444,
             "#bd3786"
            ],
            [
             0.5555555555555556,
             "#d8576b"
            ],
            [
             0.6666666666666666,
             "#ed7953"
            ],
            [
             0.7777777777777778,
             "#fb9f3a"
            ],
            [
             0.8888888888888888,
             "#fdca26"
            ],
            [
             1,
             "#f0f921"
            ]
           ],
           "sequentialminus": [
            [
             0,
             "#0d0887"
            ],
            [
             0.1111111111111111,
             "#46039f"
            ],
            [
             0.2222222222222222,
             "#7201a8"
            ],
            [
             0.3333333333333333,
             "#9c179e"
            ],
            [
             0.4444444444444444,
             "#bd3786"
            ],
            [
             0.5555555555555556,
             "#d8576b"
            ],
            [
             0.6666666666666666,
             "#ed7953"
            ],
            [
             0.7777777777777778,
             "#fb9f3a"
            ],
            [
             0.8888888888888888,
             "#fdca26"
            ],
            [
             1,
             "#f0f921"
            ]
           ]
          },
          "colorway": [
           "#636efa",
           "#EF553B",
           "#00cc96",
           "#ab63fa",
           "#FFA15A",
           "#19d3f3",
           "#FF6692",
           "#B6E880",
           "#FF97FF",
           "#FECB52"
          ],
          "font": {
           "color": "#2a3f5f"
          },
          "geo": {
           "bgcolor": "white",
           "lakecolor": "white",
           "landcolor": "#E5ECF6",
           "showlakes": true,
           "showland": true,
           "subunitcolor": "white"
          },
          "hoverlabel": {
           "align": "left"
          },
          "hovermode": "closest",
          "mapbox": {
           "style": "light"
          },
          "paper_bgcolor": "white",
          "plot_bgcolor": "#E5ECF6",
          "polar": {
           "angularaxis": {
            "gridcolor": "white",
            "linecolor": "white",
            "ticks": ""
           },
           "bgcolor": "#E5ECF6",
           "radialaxis": {
            "gridcolor": "white",
            "linecolor": "white",
            "ticks": ""
           }
          },
          "scene": {
           "xaxis": {
            "backgroundcolor": "#E5ECF6",
            "gridcolor": "white",
            "gridwidth": 2,
            "linecolor": "white",
            "showbackground": true,
            "ticks": "",
            "zerolinecolor": "white"
           },
           "yaxis": {
            "backgroundcolor": "#E5ECF6",
            "gridcolor": "white",
            "gridwidth": 2,
            "linecolor": "white",
            "showbackground": true,
            "ticks": "",
            "zerolinecolor": "white"
           },
           "zaxis": {
            "backgroundcolor": "#E5ECF6",
            "gridcolor": "white",
            "gridwidth": 2,
            "linecolor": "white",
            "showbackground": true,
            "ticks": "",
            "zerolinecolor": "white"
           }
          },
          "shapedefaults": {
           "line": {
            "color": "#2a3f5f"
           }
          },
          "ternary": {
           "aaxis": {
            "gridcolor": "white",
            "linecolor": "white",
            "ticks": ""
           },
           "baxis": {
            "gridcolor": "white",
            "linecolor": "white",
            "ticks": ""
           },
           "bgcolor": "#E5ECF6",
           "caxis": {
            "gridcolor": "white",
            "linecolor": "white",
            "ticks": ""
           }
          },
          "title": {
           "x": 0.05
          },
          "xaxis": {
           "automargin": true,
           "gridcolor": "white",
           "linecolor": "white",
           "ticks": "",
           "title": {
            "standoff": 15
           },
           "zerolinecolor": "white",
           "zerolinewidth": 2
          },
          "yaxis": {
           "automargin": true,
           "gridcolor": "white",
           "linecolor": "white",
           "ticks": "",
           "title": {
            "standoff": 15
           },
           "zerolinecolor": "white",
           "zerolinewidth": 2
          }
         }
        },
        "xaxis": {
         "anchor": "y",
         "autorange": true,
         "domain": [
          0,
          0.293
         ],
         "range": [
          -0.8619580091460789,
          4.782208316270847
         ],
         "title": {},
         "type": "category"
        },
        "xaxis2": {
         "anchor": "y2",
         "autorange": true,
         "domain": [
          0.333,
          0.626
         ],
         "matches": "x",
         "range": [
          -0.8619580091460789,
          4.782208316270847
         ],
         "title": {},
         "type": "category"
        },
        "xaxis3": {
         "anchor": "y3",
         "autorange": true,
         "domain": [
          0.666,
          0.98
         ],
         "matches": "x",
         "range": [
          -0.8619580091460789,
          4.782208316270847
         ],
         "title": {},
         "type": "category"
        },
        "yaxis": {
         "anchor": "x",
         "autorange": true,
         "domain": [
          0,
          1
         ],
         "dtick": 2500,
         "range": [
          1019.2022654976885,
          14603.37070824901
         ],
         "tick0": 1000,
         "title": {
          "text": "Normalized Reads"
         },
         "type": "linear"
        },
        "yaxis2": {
         "anchor": "x2",
         "autorange": true,
         "domain": [
          0,
          1
         ],
         "dtick": 250000,
         "range": [
          1466450.917303033,
          2673229.8514875174
         ],
         "showticklabels": true,
         "tick0": 1500000,
         "type": "linear"
        },
        "yaxis3": {
         "anchor": "x3",
         "autorange": true,
         "domain": [
          0,
          1
         ],
         "dtick": 20000,
         "range": [
          2253.7836350526677,
          157047.92915336616
         ],
         "showticklabels": true,
         "tick0": 60000,
         "type": "linear"
        }
       }
      },
      "image/png": "[encoded data removed]",
      "text/html": [
       "<div>\n",
       "        \n",
       "        \n",
       "            <div id=\"0dacddc6-8b75-4d12-ad5c-866369c1a905\" class=\"plotly-graph-div\" style=\"height:700px; width:100%;\"></div>\n",
       "            <script type=\"text/javascript\">\n",
       "                require([\"plotly\"], function(Plotly) {\n",
       "                    window.PLOTLYENV=window.PLOTLYENV || {};\n",
       "                    \n",
       "                if (document.getElementById(\"0dacddc6-8b75-4d12-ad5c-866369c1a905\")) {\n",
       "                    Plotly.newPlot(\n",
       "                        '0dacddc6-8b75-4d12-ad5c-866369c1a905',\n",
       "                        [{\"alignmentgroup\": \"True\", \"boxpoints\": \"all\", \"customdata\": [[\"IDBD-D100970\"], [\"IDBD-D100971\"], [\"IDBD-D100982\"], [\"IDBD-D100983\"], [\"IDBD-D100990\"], [\"IDBD-D100991\"], [\"IDBD-D100998\"], [\"IDBD-D100999\"], [\"IDBD-D101006\"], [\"IDBD-D101007\"]], \"hoverlabel\": {\"namelength\": 0}, \"hovertemplate\": \"Pool=L<br>Organism=T7<br>centrifugation=%{x}<br>Normalized Reads=%{y}<br>Accession=%{customdata[0]}\", \"legendgroup\": \"Pool=L\", \"marker\": {\"color\": \"#636efa\"}, \"name\": \"Pool=L\", \"notched\": false, \"offsetgroup\": \"Pool=L\", \"orientation\": \"v\", \"showlegend\": true, \"type\": \"box\", \"x\": [\"No Spin\", \"No Spin\", \"200g\", \"200g\", \"400g\", \"400g\", \"1000g\", \"1000g\", \"2000g\", \"2000g\"], \"x0\": \" \", \"xaxis\": \"x\", \"y\": [1958.442032123037, 1822.3565777019849, 6566.951980168434, 5200.696407749932, 6311.616474151362, 5514.657861326339, 7595.171829739176, 7854.342152460821, 8225.357345687322, 7851.232942971154], \"y0\": \" \", \"yaxis\": \"y\"}, {\"alignmentgroup\": \"True\", \"boxpoints\": \"all\", \"customdata\": [[\"IDBD-D100970\"], [\"IDBD-D100971\"], [\"IDBD-D100982\"], [\"IDBD-D100983\"], [\"IDBD-D100990\"], [\"IDBD-D100991\"], [\"IDBD-D100998\"], [\"IDBD-D100999\"], [\"IDBD-D101006\"], [\"IDBD-D101007\"]], \"hoverlabel\": {\"namelength\": 0}, \"hovertemplate\": \"Pool=L<br>Organism=Human<br>centrifugation=%{x}<br>Normalized Reads=%{y}<br>Accession=%{customdata[0]}\", \"legendgroup\": \"Pool=L\", \"marker\": {\"color\": \"#636efa\"}, \"name\": \"Pool=L\", \"notched\": false, \"offsetgroup\": \"Pool=L\", \"orientation\": \"v\", \"showlegend\": false, \"type\": \"box\", \"x\": [\"No Spin\", \"No Spin\", \"200g\", \"200g\", \"400g\", \"400g\", \"1000g\", \"1000g\", \"2000g\", \"2000g\"], \"x0\": \" \", \"xaxis\": \"x2\", \"y\": [2070661.047304834, 2075589.391874197, 1604171.1154067544, 1833277.4290414809, 2152777.8575061453, 2189786.780495196, 2459157.3493070784, 2446225.586601853, 2594853.882620921, 2612890.9047782933], \"y0\": \" \", \"yaxis\": \"y2\"}, {\"alignmentgroup\": \"True\", \"boxpoints\": \"all\", \"customdata\": [[\"IDBD-D100970\"], [\"IDBD-D100971\"], [\"IDBD-D100982\"], [\"IDBD-D100983\"], [\"IDBD-D100990\"], [\"IDBD-D100991\"], [\"IDBD-D100998\"], [\"IDBD-D100999\"], [\"IDBD-D101006\"], [\"IDBD-D101007\"]], \"hoverlabel\": {\"namelength\": 0}, \"hovertemplate\": \"Pool=L<br>Organism=E.coli<br>centrifugation=%{x}<br>Normalized Reads=%{y}<br>Accession=%{customdata[0]}\", \"legendgroup\": \"Pool=L\", \"marker\": {\"color\": \"#636efa\"}, \"name\": \"Pool=L\", \"notched\": false, \"offsetgroup\": \"Pool=L\", \"orientation\": \"v\", \"showlegend\": false, \"type\": \"box\", \"x\": [\"No Spin\", \"No Spin\", \"200g\", \"200g\", \"400g\", \"400g\", \"1000g\", \"1000g\", \"2000g\", \"2000g\"], \"x0\": \" \", \"xaxis\": \"x3\", \"y\": [61058.65978334986, 59751.12846917923, 105015.31298568445, 81198.58801731435, 50421.17626258161, 45891.04436282321, 22212.294973765518, 24377.769926124547, 9993.490910968343, 11275.42857674384], \"y0\": \" \", \"yaxis\": \"y3\"}, {\"alignmentgroup\": \"True\", \"boxpoints\": \"all\", \"customdata\": [[\"IDBD-D100972\"], [\"IDBD-D100973\"], [\"IDBD-D100984\"], [\"IDBD-D100985\"], [\"IDBD-D100992\"], [\"IDBD-D100993\"], [\"IDBD-D101000\"], [\"IDBD-D101001\"], [\"IDBD-D101008\"], [\"IDBD-D101009\"]], \"hoverlabel\": {\"namelength\": 0}, \"hovertemplate\": \"Pool=M<br>Organism=T7<br>centrifugation=%{x}<br>Normalized Reads=%{y}<br>Accession=%{customdata[0]}\", \"legendgroup\": \"Pool=M\", \"marker\": {\"color\": \"#EF553B\"}, \"name\": \"Pool=M\", \"notched\": false, \"offsetgroup\": \"Pool=M\", \"orientation\": \"v\", \"showlegend\": true, \"type\": \"box\", \"x\": [\"No Spin\", \"No Spin\", \"200g\", \"200g\", \"400g\", \"400g\", \"1000g\", \"1000g\", \"2000g\", \"2000g\"], \"x0\": \" \", \"xaxis\": \"x\", \"y\": [1926.6282521724231, 1698.4106876352546, 6304.801807776062, 6622.635716147215, 8310.287172458186, 9209.233976098029, 11658.294227661228, 12119.78688038572, 12445.131223335158, 13924.162286111443], \"y0\": \" \", \"yaxis\": \"y\"}, {\"alignmentgroup\": \"True\", \"boxpoints\": \"all\", \"customdata\": [[\"IDBD-D100972\"], [\"IDBD-D100973\"], [\"IDBD-D100984\"], [\"IDBD-D100985\"], [\"IDBD-D100992\"], [\"IDBD-D100993\"], [\"IDBD-D101000\"], [\"IDBD-D101001\"], [\"IDBD-D101008\"], [\"IDBD-D101009\"]], \"hoverlabel\": {\"namelength\": 0}, \"hovertemplate\": \"Pool=M<br>Organism=Human<br>centrifugation=%{x}<br>Normalized Reads=%{y}<br>Accession=%{customdata[0]}\", \"legendgroup\": \"Pool=M\", \"marker\": {\"color\": \"#EF553B\"}, \"name\": \"Pool=M\", \"notched\": false, \"offsetgroup\": \"Pool=M\", \"orientation\": \"v\", \"showlegend\": false, \"type\": \"box\", \"x\": [\"No Spin\", \"No Spin\", \"200g\", \"200g\", \"400g\", \"400g\", \"1000g\", \"1000g\", \"2000g\", \"2000g\"], \"x0\": \" \", \"xaxis\": \"x2\", \"y\": [2008812.708757949, 2084146.4240559519, 1526789.8640122572, 1569309.2782487918, 2019315.903373262, 1961692.9496662968, 2370504.84518828, 2368646.5043296404, 2579220.35546964, 2608562.0027901423], \"y0\": \" \", \"yaxis\": \"y2\"}, {\"alignmentgroup\": \"True\", \"boxpoints\": \"all\", \"customdata\": [[\"IDBD-D100972\"], [\"IDBD-D100973\"], [\"IDBD-D100984\"], [\"IDBD-D100985\"], [\"IDBD-D100992\"], [\"IDBD-D100993\"], [\"IDBD-D101000\"], [\"IDBD-D101001\"], [\"IDBD-D101008\"], [\"IDBD-D101009\"]], \"hoverlabel\": {\"namelength\": 0}, \"hovertemplate\": \"Pool=M<br>Organism=E.coli<br>centrifugation=%{x}<br>Normalized Reads=%{y}<br>Accession=%{customdata[0]}\", \"legendgroup\": \"Pool=M\", \"marker\": {\"color\": \"#EF553B\"}, \"name\": \"Pool=M\", \"notched\": false, \"offsetgroup\": \"Pool=M\", \"orientation\": \"v\", \"showlegend\": false, \"type\": \"box\", \"x\": [\"No Spin\", \"No Spin\", \"200g\", \"200g\", \"400g\", \"400g\", \"1000g\", \"1000g\", \"2000g\", \"2000g\"], \"x0\": \" \", \"xaxis\": \"x3\", \"y\": [85504.00116411426, 79060.3156868229, 149268.58006214304, 149308.22187745047, 91180.16019127019, 96914.65138980762, 52245.09803334074, 47133.552506029235, 19266.405225539147, 19588.228300800845], \"y0\": \" \", \"yaxis\": \"y3\"}],\n",
       "                        {\"annotations\": [{\"font\": {}, \"showarrow\": false, \"text\": \"Organism=T7\", \"x\": 0.15999999999999998, \"xanchor\": \"center\", \"xref\": \"paper\", \"y\": 1.0, \"yanchor\": \"bottom\", \"yref\": \"paper\"}, {\"font\": {}, \"showarrow\": false, \"text\": \"Organism=Human\", \"x\": 0.49999999999999994, \"xanchor\": \"center\", \"xref\": \"paper\", \"y\": 1.0, \"yanchor\": \"bottom\", \"yref\": \"paper\"}, {\"font\": {}, \"showarrow\": false, \"text\": \"Organism=E.coli\", \"x\": 0.8399999999999999, \"xanchor\": \"center\", \"xref\": \"paper\", \"y\": 1.0, \"yanchor\": \"bottom\", \"yref\": \"paper\"}], \"boxmode\": \"group\", \"font\": {\"size\": 18}, \"height\": 700, \"legend\": {\"orientation\": \"h\", \"tracegroupgap\": 0}, \"margin\": {\"t\": 60}, \"template\": {\"data\": {\"bar\": [{\"error_x\": {\"color\": \"#2a3f5f\"}, \"error_y\": {\"color\": \"#2a3f5f\"}, \"marker\": {\"line\": {\"color\": \"#E5ECF6\", \"width\": 0.5}}, \"type\": \"bar\"}], \"barpolar\": [{\"marker\": {\"line\": {\"color\": \"#E5ECF6\", \"width\": 0.5}}, \"type\": \"barpolar\"}], \"carpet\": [{\"aaxis\": {\"endlinecolor\": \"#2a3f5f\", \"gridcolor\": \"white\", \"linecolor\": \"white\", \"minorgridcolor\": \"white\", \"startlinecolor\": \"#2a3f5f\"}, \"baxis\": {\"endlinecolor\": \"#2a3f5f\", \"gridcolor\": \"white\", \"linecolor\": \"white\", \"minorgridcolor\": \"white\", \"startlinecolor\": \"#2a3f5f\"}, \"type\": \"carpet\"}], \"choropleth\": [{\"colorbar\": {\"outlinewidth\": 0, \"ticks\": \"\"}, \"type\": \"choropleth\"}], \"contour\": [{\"colorbar\": {\"outlinewidth\": 0, \"ticks\": \"\"}, \"colorscale\": [[0.0, \"#0d0887\"], [0.1111111111111111, \"#46039f\"], [0.2222222222222222, \"#7201a8\"], [0.3333333333333333, \"#9c179e\"], [0.4444444444444444, \"#bd3786\"], [0.5555555555555556, \"#d8576b\"], [0.6666666666666666, \"#ed7953\"], [0.7777777777777778, \"#fb9f3a\"], [0.8888888888888888, \"#fdca26\"], [1.0, \"#f0f921\"]], \"type\": \"contour\"}], \"contourcarpet\": [{\"colorbar\": {\"outlinewidth\": 0, \"ticks\": \"\"}, \"type\": \"contourcarpet\"}], \"heatmap\": [{\"colorbar\": {\"outlinewidth\": 0, \"ticks\": \"\"}, \"colorscale\": [[0.0, \"#0d0887\"], [0.1111111111111111, \"#46039f\"], [0.2222222222222222, \"#7201a8\"], [0.3333333333333333, \"#9c179e\"], [0.4444444444444444, \"#bd3786\"], [0.5555555555555556, \"#d8576b\"], [0.6666666666666666, \"#ed7953\"], [0.7777777777777778, \"#fb9f3a\"], [0.8888888888888888, \"#fdca26\"], [1.0, \"#f0f921\"]], \"type\": \"heatmap\"}], \"heatmapgl\": [{\"colorbar\": {\"outlinewidth\": 0, \"ticks\": \"\"}, \"colorscale\": [[0.0, \"#0d0887\"], [0.1111111111111111, \"#46039f\"], [0.2222222222222222, \"#7201a8\"], [0.3333333333333333, \"#9c179e\"], [0.4444444444444444, \"#bd3786\"], [0.5555555555555556, \"#d8576b\"], [0.6666666666666666, \"#ed7953\"], [0.7777777777777778, \"#fb9f3a\"], [0.8888888888888888, \"#fdca26\"], [1.0, \"#f0f921\"]], \"type\": \"heatmapgl\"}], \"histogram\": [{\"marker\": {\"colorbar\": {\"outlinewidth\": 0, \"ticks\": \"\"}}, \"type\": \"histogram\"}], \"histogram2d\": [{\"colorbar\": {\"outlinewidth\": 0, \"ticks\": \"\"}, \"colorscale\": [[0.0, \"#0d0887\"], [0.1111111111111111, \"#46039f\"], [0.2222222222222222, \"#7201a8\"], [0.3333333333333333, \"#9c179e\"], [0.4444444444444444, \"#bd3786\"], [0.5555555555555556, \"#d8576b\"], [0.6666666666666666, \"#ed7953\"], [0.7777777777777778, \"#fb9f3a\"], [0.8888888888888888, \"#fdca26\"], [1.0, \"#f0f921\"]], \"type\": \"histogram2d\"}], \"histogram2dcontour\": [{\"colorbar\": {\"outlinewidth\": 0, \"ticks\": \"\"}, \"colorscale\": [[0.0, \"#0d0887\"], [0.1111111111111111, \"#46039f\"], [0.2222222222222222, \"#7201a8\"], [0.3333333333333333, \"#9c179e\"], [0.4444444444444444, \"#bd3786\"], [0.5555555555555556, \"#d8576b\"], [0.6666666666666666, \"#ed7953\"], [0.7777777777777778, \"#fb9f3a\"], [0.8888888888888888, \"#fdca26\"], [1.0, \"#f0f921\"]], \"type\": \"histogram2dcontour\"}], \"mesh3d\": [{\"colorbar\": {\"outlinewidth\": 0, \"ticks\": \"\"}, \"type\": \"mesh3d\"}], \"parcoords\": [{\"line\": {\"colorbar\": {\"outlinewidth\": 0, \"ticks\": \"\"}}, \"type\": \"parcoords\"}], \"pie\": [{\"automargin\": true, \"type\": \"pie\"}], \"scatter\": [{\"marker\": {\"colorbar\": {\"outlinewidth\": 0, \"ticks\": \"\"}}, \"type\": \"scatter\"}], \"scatter3d\": [{\"line\": {\"colorbar\": {\"outlinewidth\": 0, \"ticks\": \"\"}}, \"marker\": {\"colorbar\": {\"outlinewidth\": 0, \"ticks\": \"\"}}, \"type\": \"scatter3d\"}], \"scattercarpet\": [{\"marker\": {\"colorbar\": {\"outlinewidth\": 0, \"ticks\": \"\"}}, \"type\": \"scattercarpet\"}], \"scattergeo\": [{\"marker\": {\"colorbar\": {\"outlinewidth\": 0, \"ticks\": \"\"}}, \"type\": \"scattergeo\"}], \"scattergl\": [{\"marker\": {\"colorbar\": {\"outlinewidth\": 0, \"ticks\": \"\"}}, \"type\": \"scattergl\"}], \"scattermapbox\": [{\"marker\": {\"colorbar\": {\"outlinewidth\": 0, \"ticks\": \"\"}}, \"type\": \"scattermapbox\"}], \"scatterpolar\": [{\"marker\": {\"colorbar\": {\"outlinewidth\": 0, \"ticks\": \"\"}}, \"type\": \"scatterpolar\"}], \"scatterpolargl\": [{\"marker\": {\"colorbar\": {\"outlinewidth\": 0, \"ticks\": \"\"}}, \"type\": \"scatterpolargl\"}], \"scatterternary\": [{\"marker\": {\"colorbar\": {\"outlinewidth\": 0, \"ticks\": \"\"}}, \"type\": \"scatterternary\"}], \"surface\": [{\"colorbar\": {\"outlinewidth\": 0, \"ticks\": \"\"}, \"colorscale\": [[0.0, \"#0d0887\"], [0.1111111111111111, \"#46039f\"], [0.2222222222222222, \"#7201a8\"], [0.3333333333333333, \"#9c179e\"], [0.4444444444444444, \"#bd3786\"], [0.5555555555555556, \"#d8576b\"], [0.6666666666666666, \"#ed7953\"], [0.7777777777777778, \"#fb9f3a\"], [0.8888888888888888, \"#fdca26\"], [1.0, \"#f0f921\"]], \"type\": \"surface\"}], \"table\": [{\"cells\": {\"fill\": {\"color\": \"#EBF0F8\"}, \"line\": {\"color\": \"white\"}}, \"header\": {\"fill\": {\"color\": \"#C8D4E3\"}, \"line\": {\"color\": \"white\"}}, \"type\": \"table\"}]}, \"layout\": {\"annotationdefaults\": {\"arrowcolor\": \"#2a3f5f\", \"arrowhead\": 0, \"arrowwidth\": 1}, \"coloraxis\": {\"colorbar\": {\"outlinewidth\": 0, \"ticks\": \"\"}}, \"colorscale\": {\"diverging\": [[0, \"#8e0152\"], [0.1, \"#c51b7d\"], [0.2, \"#de77ae\"], [0.3, \"#f1b6da\"], [0.4, \"#fde0ef\"], [0.5, \"#f7f7f7\"], [0.6, \"#e6f5d0\"], [0.7, \"#b8e186\"], [0.8, \"#7fbc41\"], [0.9, \"#4d9221\"], [1, \"#276419\"]], \"sequential\": [[0.0, \"#0d0887\"], [0.1111111111111111, \"#46039f\"], [0.2222222222222222, \"#7201a8\"], [0.3333333333333333, \"#9c179e\"], [0.4444444444444444, \"#bd3786\"], [0.5555555555555556, \"#d8576b\"], [0.6666666666666666, \"#ed7953\"], [0.7777777777777778, \"#fb9f3a\"], [0.8888888888888888, \"#fdca26\"], [1.0, \"#f0f921\"]], \"sequentialminus\": [[0.0, \"#0d0887\"], [0.1111111111111111, \"#46039f\"], [0.2222222222222222, \"#7201a8\"], [0.3333333333333333, \"#9c179e\"], [0.4444444444444444, \"#bd3786\"], [0.5555555555555556, \"#d8576b\"], [0.6666666666666666, \"#ed7953\"], [0.7777777777777778, \"#fb9f3a\"], [0.8888888888888888, \"#fdca26\"], [1.0, \"#f0f921\"]]}, \"colorway\": [\"#636efa\", \"#EF553B\", \"#00cc96\", \"#ab63fa\", \"#FFA15A\", \"#19d3f3\", \"#FF6692\", \"#B6E880\", \"#FF97FF\", \"#FECB52\"], \"font\": {\"color\": \"#2a3f5f\"}, \"geo\": {\"bgcolor\": \"white\", \"lakecolor\": \"white\", \"landcolor\": \"#E5ECF6\", \"showlakes\": true, \"showland\": true, \"subunitcolor\": \"white\"}, \"hoverlabel\": {\"align\": \"left\"}, \"hovermode\": \"closest\", \"mapbox\": {\"style\": \"light\"}, \"paper_bgcolor\": \"white\", \"plot_bgcolor\": \"#E5ECF6\", \"polar\": {\"angularaxis\": {\"gridcolor\": \"white\", \"linecolor\": \"white\", \"ticks\": \"\"}, \"bgcolor\": \"#E5ECF6\", \"radialaxis\": {\"gridcolor\": \"white\", \"linecolor\": \"white\", \"ticks\": \"\"}}, \"scene\": {\"xaxis\": {\"backgroundcolor\": \"#E5ECF6\", \"gridcolor\": \"white\", \"gridwidth\": 2, \"linecolor\": \"white\", \"showbackground\": true, \"ticks\": \"\", \"zerolinecolor\": \"white\"}, \"yaxis\": {\"backgroundcolor\": \"#E5ECF6\", \"gridcolor\": \"white\", \"gridwidth\": 2, \"linecolor\": \"white\", \"showbackground\": true, \"ticks\": \"\", \"zerolinecolor\": \"white\"}, \"zaxis\": {\"backgroundcolor\": \"#E5ECF6\", \"gridcolor\": \"white\", \"gridwidth\": 2, \"linecolor\": \"white\", \"showbackground\": true, \"ticks\": \"\", \"zerolinecolor\": \"white\"}}, \"shapedefaults\": {\"line\": {\"color\": \"#2a3f5f\"}}, \"ternary\": {\"aaxis\": {\"gridcolor\": \"white\", \"linecolor\": \"white\", \"ticks\": \"\"}, \"baxis\": {\"gridcolor\": \"white\", \"linecolor\": \"white\", \"ticks\": \"\"}, \"bgcolor\": \"#E5ECF6\", \"caxis\": {\"gridcolor\": \"white\", \"linecolor\": \"white\", \"ticks\": \"\"}}, \"title\": {\"x\": 0.05}, \"xaxis\": {\"automargin\": true, \"gridcolor\": \"white\", \"linecolor\": \"white\", \"ticks\": \"\", \"title\": {\"standoff\": 15}, \"zerolinecolor\": \"white\", \"zerolinewidth\": 2}, \"yaxis\": {\"automargin\": true, \"gridcolor\": \"white\", \"linecolor\": \"white\", \"ticks\": \"\", \"title\": {\"standoff\": 15}, \"zerolinecolor\": \"white\", \"zerolinewidth\": 2}}}, \"xaxis\": {\"anchor\": \"y\", \"domain\": [0, 0.293], \"title\": {}}, \"xaxis2\": {\"anchor\": \"y2\", \"domain\": [0.333, 0.626], \"matches\": \"x\", \"title\": {}}, \"xaxis3\": {\"anchor\": \"y3\", \"domain\": [0.666, 0.98], \"matches\": \"x\", \"title\": {}}, \"yaxis\": {\"anchor\": \"x\", \"domain\": [0.0, 1.0], \"dtick\": 2500.0, \"tick0\": 1000.0, \"title\": {\"text\": \"Normalized Reads\"}}, \"yaxis2\": {\"anchor\": \"x2\", \"domain\": [0.0, 1.0], \"dtick\": 250000.0, \"showticklabels\": true, \"tick0\": 1500000.0}, \"yaxis3\": {\"anchor\": \"x3\", \"domain\": [0.0, 1.0], \"dtick\": 20000.0, \"showticklabels\": true, \"tick0\": 60000.0}},\n",
       "                        {\"responsive\": true}\n",
       "                    ).then(function(){\n",
       "                            \n",
       "var gd = document.getElementById('0dacddc6-8b75-4d12-ad5c-866369c1a905');\n",
       "var x = new MutationObserver(function (mutations, observer) {{\n",
       "        var display = window.getComputedStyle(gd).display;\n",
       "        if (!display || display === 'none') {{\n",
       "            console.log([gd, 'removed!']);\n",
       "            Plotly.purge(gd);\n",
       "            observer.disconnect();\n",
       "        }}\n",
       "}});\n",
       "\n",
       "// Listen for the removal of the full notebook cells\n",
       "var notebookContainer = gd.closest('#notebook-container');\n",
       "if (notebookContainer) {{\n",
       "    x.observe(notebookContainer, {childList: true});\n",
       "}}\n",
       "\n",
       "// Listen for the clearing of the current output cell\n",
       "var outputEl = gd.closest('.output');\n",
       "if (outputEl) {{\n",
       "    x.observe(outputEl, {childList: true});\n",
       "}}\n",
       "\n",
       "                        })\n",
       "                };\n",
       "                });\n",
       "            </script>\n",
       "        </div>"
      ]
     },
     "metadata": {},
     "output_type": "display_data"
    }
   ],
   "source": [
    "melt = pd.melt(\n",
    "    merged[merged['sample'].isin(['No DNAse', 'supernatant'])],\n",
    "    value_vars=['t7_normalized_reads', 'Human', 'ecoli_normalized_reads'],\n",
    "    id_vars=['Accession', 'centrifugation', 'Pool'],\n",
    "    value_name='Normalized Reads',\n",
    "    var_name='Organism',\n",
    ")\n",
    "melt = melt.replace({\n",
    "    't7_normalized_reads': 'T7',\n",
    "    'ecoli_normalized_reads': 'E.coli',\n",
    "    3: 'L',\n",
    "    4: 'M'\n",
    "})\n",
    "# fig = px.box(melt[melt['Pool'] == 4], facet_col='Organism', y='Normalized Reads', x='centrifugation', hover_data=['Accession'], points='all')\n",
    "fig = px.box(melt, facet_col='Organism', y='Normalized Reads', x='centrifugation', hover_data=['Accession'], points='all', color='Pool')\n",
    "fig.update_layout(height=700, font=dict(size=18), legend_orientation='h')\n",
    "fig.update_xaxes(title=None)\n",
    "fig.layout.yaxis.update(matches=None, tick0=1e3, dtick=2.5e3)\n",
    "fig.layout.yaxis2.update(matches=None, showticklabels=True, tick0=1.5e6, dtick=0.25e6)\n",
    "fig.layout.yaxis3.update(matches=None, showticklabels=True, tick0=60e3, dtick=20e3)\n",
    "fig.layout.xaxis.update(domain=[0, 0.293])\n",
    "fig.layout.xaxis2.update(domain=[0.333, 0.626])\n",
    "fig.layout.xaxis3.update(domain=[0.666, 0.98])\n",
    "fig.show()"
   ]
  },
  {
   "cell_type": "code",
   "execution_count": 4,
   "metadata": {},
   "outputs": [
    {
     "data": {
      "application/vnd.plotly.v1+json": {
       "config": {
        "plotlyServerURL": "https://plot.ly"
       },
       "data": [
        {
         "alignmentgroup": "True",
         "hoverlabel": {
          "namelength": 0
         },
         "hovertemplate": "sample=Control protocol<br>centrifugation=%{x}<br>Human Normalized Reads=%{y}",
         "legendgroup": "sample=Control protocol",
         "marker": {
          "color": "#636efa"
         },
         "name": "sample=Control protocol",
         "notched": false,
         "offsetgroup": "sample=Control protocol",
         "orientation": "v",
         "showlegend": true,
         "type": "box",
         "x": [
          "No Spin",
          "No Spin",
          "No Spin",
          "No Spin"
         ],
         "x0": " ",
         "xaxis": "x",
         "y": [
          2070661.047304834,
          2075589.391874197,
          2008812.708757949,
          2084146.4240559519
         ],
         "y0": " ",
         "yaxis": "y"
        },
        {
         "alignmentgroup": "True",
         "hoverlabel": {
          "namelength": 0
         },
         "hovertemplate": "sample=DNAse1 protocol<br>centrifugation=%{x}<br>Human Normalized Reads=%{y}",
         "legendgroup": "sample=DNAse1 protocol",
         "marker": {
          "color": "#EF553B"
         },
         "name": "sample=DNAse1 protocol",
         "notched": false,
         "offsetgroup": "sample=DNAse1 protocol",
         "orientation": "v",
         "showlegend": true,
         "type": "box",
         "x": [
          "No Spin",
          "No Spin",
          "No Spin",
          "No Spin"
         ],
         "x0": " ",
         "xaxis": "x",
         "y": [
          331063.4460811509,
          361228.3666484446,
          729163.3094059016,
          764619.9518040287
         ],
         "y0": " ",
         "yaxis": "y"
        },
        {
         "alignmentgroup": "True",
         "hoverlabel": {
          "namelength": 0
         },
         "hovertemplate": "sample=pellet<br>centrifugation=%{x}<br>Human Normalized Reads=%{y}",
         "legendgroup": "sample=pellet",
         "marker": {
          "color": "#00cc96"
         },
         "name": "sample=pellet",
         "notched": false,
         "offsetgroup": "sample=pellet",
         "orientation": "v",
         "showlegend": true,
         "type": "box",
         "x": [
          "200g",
          "200g",
          "200g",
          "200g",
          "400g",
          "400g",
          "400g",
          "400g",
          "1000g",
          "1000g",
          "1000g",
          "1000g",
          "2000g",
          "2000g",
          "2000g",
          "2000g"
         ],
         "x0": " ",
         "xaxis": "x",
         "y": [
          2090792.202733508,
          2087701.8495201082,
          2199073.6599900736,
          2184055.4345674124,
          1908023.1432544643,
          1893260.937369826,
          1991661.7241263988,
          2013434.292868968,
          1571683.447567554,
          1670592.8530455988,
          1910685.3964553697,
          1881107.8154006344,
          1464869.8920759538,
          1782613.5036853012,
          1877922.4951235692,
          1891344.5076521968
         ],
         "y0": " ",
         "yaxis": "y"
        },
        {
         "alignmentgroup": "True",
         "hoverlabel": {
          "namelength": 0
         },
         "hovertemplate": "sample=supernatant<br>centrifugation=%{x}<br>Human Normalized Reads=%{y}",
         "legendgroup": "sample=supernatant",
         "marker": {
          "color": "#ab63fa"
         },
         "name": "sample=supernatant",
         "notched": false,
         "offsetgroup": "sample=supernatant",
         "orientation": "v",
         "showlegend": true,
         "type": "box",
         "x": [
          "200g",
          "200g",
          "200g",
          "200g",
          "400g",
          "400g",
          "400g",
          "400g",
          "1000g",
          "1000g",
          "1000g",
          "1000g",
          "2000g",
          "2000g",
          "2000g",
          "2000g"
         ],
         "x0": " ",
         "xaxis": "x",
         "y": [
          1604171.1154067544,
          1833277.4290414809,
          1526789.8640122572,
          1569309.2782487918,
          2152777.8575061453,
          2189786.780495196,
          2019315.903373262,
          1961692.9496662968,
          2459157.3493070784,
          2446225.586601853,
          2370504.84518828,
          2368646.5043296404,
          2594853.882620921,
          2612890.9047782933,
          2579220.35546964,
          2608562.0027901423
         ],
         "y0": " ",
         "yaxis": "y"
        }
       ],
       "layout": {
        "autosize": true,
        "boxmode": "group",
        "legend": {
         "tracegroupgap": 0
        },
        "margin": {
         "t": 60
        },
        "template": {
         "data": {
          "bar": [
           {
            "error_x": {
             "color": "#2a3f5f"
            },
            "error_y": {
             "color": "#2a3f5f"
            },
            "marker": {
             "line": {
              "color": "#E5ECF6",
              "width": 0.5
             }
            },
            "type": "bar"
           }
          ],
          "barpolar": [
           {
            "marker": {
             "line": {
              "color": "#E5ECF6",
              "width": 0.5
             }
            },
            "type": "barpolar"
           }
          ],
          "carpet": [
           {
            "aaxis": {
             "endlinecolor": "#2a3f5f",
             "gridcolor": "white",
             "linecolor": "white",
             "minorgridcolor": "white",
             "startlinecolor": "#2a3f5f"
            },
            "baxis": {
             "endlinecolor": "#2a3f5f",
             "gridcolor": "white",
             "linecolor": "white",
             "minorgridcolor": "white",
             "startlinecolor": "#2a3f5f"
            },
            "type": "carpet"
           }
          ],
          "choropleth": [
           {
            "colorbar": {
             "outlinewidth": 0,
             "ticks": ""
            },
            "type": "choropleth"
           }
          ],
          "contour": [
           {
            "colorbar": {
             "outlinewidth": 0,
             "ticks": ""
            },
            "colorscale": [
             [
              0,
              "#0d0887"
             ],
             [
              0.1111111111111111,
              "#46039f"
             ],
             [
              0.2222222222222222,
              "#7201a8"
             ],
             [
              0.3333333333333333,
              "#9c179e"
             ],
             [
              0.4444444444444444,
              "#bd3786"
             ],
             [
              0.5555555555555556,
              "#d8576b"
             ],
             [
              0.6666666666666666,
              "#ed7953"
             ],
             [
              0.7777777777777778,
              "#fb9f3a"
             ],
             [
              0.8888888888888888,
              "#fdca26"
             ],
             [
              1,
              "#f0f921"
             ]
            ],
            "type": "contour"
           }
          ],
          "contourcarpet": [
           {
            "colorbar": {
             "outlinewidth": 0,
             "ticks": ""
            },
            "type": "contourcarpet"
           }
          ],
          "heatmap": [
           {
            "colorbar": {
             "outlinewidth": 0,
             "ticks": ""
            },
            "colorscale": [
             [
              0,
              "#0d0887"
             ],
             [
              0.1111111111111111,
              "#46039f"
             ],
             [
              0.2222222222222222,
              "#7201a8"
             ],
             [
              0.3333333333333333,
              "#9c179e"
             ],
             [
              0.4444444444444444,
              "#bd3786"
             ],
             [
              0.5555555555555556,
              "#d8576b"
             ],
             [
              0.6666666666666666,
              "#ed7953"
             ],
             [
              0.7777777777777778,
              "#fb9f3a"
             ],
             [
              0.8888888888888888,
              "#fdca26"
             ],
             [
              1,
              "#f0f921"
             ]
            ],
            "type": "heatmap"
           }
          ],
          "heatmapgl": [
           {
            "colorbar": {
             "outlinewidth": 0,
             "ticks": ""
            },
            "colorscale": [
             [
              0,
              "#0d0887"
             ],
             [
              0.1111111111111111,
              "#46039f"
             ],
             [
              0.2222222222222222,
              "#7201a8"
             ],
             [
              0.3333333333333333,
              "#9c179e"
             ],
             [
              0.4444444444444444,
              "#bd3786"
             ],
             [
              0.5555555555555556,
              "#d8576b"
             ],
             [
              0.6666666666666666,
              "#ed7953"
             ],
             [
              0.7777777777777778,
              "#fb9f3a"
             ],
             [
              0.8888888888888888,
              "#fdca26"
             ],
             [
              1,
              "#f0f921"
             ]
            ],
            "type": "heatmapgl"
           }
          ],
          "histogram": [
           {
            "marker": {
             "colorbar": {
              "outlinewidth": 0,
              "ticks": ""
             }
            },
            "type": "histogram"
           }
          ],
          "histogram2d": [
           {
            "colorbar": {
             "outlinewidth": 0,
             "ticks": ""
            },
            "colorscale": [
             [
              0,
              "#0d0887"
             ],
             [
              0.1111111111111111,
              "#46039f"
             ],
             [
              0.2222222222222222,
              "#7201a8"
             ],
             [
              0.3333333333333333,
              "#9c179e"
             ],
             [
              0.4444444444444444,
              "#bd3786"
             ],
             [
              0.5555555555555556,
              "#d8576b"
             ],
             [
              0.6666666666666666,
              "#ed7953"
             ],
             [
              0.7777777777777778,
              "#fb9f3a"
             ],
             [
              0.8888888888888888,
              "#fdca26"
             ],
             [
              1,
              "#f0f921"
             ]
            ],
            "type": "histogram2d"
           }
          ],
          "histogram2dcontour": [
           {
            "colorbar": {
             "outlinewidth": 0,
             "ticks": ""
            },
            "colorscale": [
             [
              0,
              "#0d0887"
             ],
             [
              0.1111111111111111,
              "#46039f"
             ],
             [
              0.2222222222222222,
              "#7201a8"
             ],
             [
              0.3333333333333333,
              "#9c179e"
             ],
             [
              0.4444444444444444,
              "#bd3786"
             ],
             [
              0.5555555555555556,
              "#d8576b"
             ],
             [
              0.6666666666666666,
              "#ed7953"
             ],
             [
              0.7777777777777778,
              "#fb9f3a"
             ],
             [
              0.8888888888888888,
              "#fdca26"
             ],
             [
              1,
              "#f0f921"
             ]
            ],
            "type": "histogram2dcontour"
           }
          ],
          "mesh3d": [
           {
            "colorbar": {
             "outlinewidth": 0,
             "ticks": ""
            },
            "type": "mesh3d"
           }
          ],
          "parcoords": [
           {
            "line": {
             "colorbar": {
              "outlinewidth": 0,
              "ticks": ""
             }
            },
            "type": "parcoords"
           }
          ],
          "pie": [
           {
            "automargin": true,
            "type": "pie"
           }
          ],
          "scatter": [
           {
            "marker": {
             "colorbar": {
              "outlinewidth": 0,
              "ticks": ""
             }
            },
            "type": "scatter"
           }
          ],
          "scatter3d": [
           {
            "line": {
             "colorbar": {
              "outlinewidth": 0,
              "ticks": ""
             }
            },
            "marker": {
             "colorbar": {
              "outlinewidth": 0,
              "ticks": ""
             }
            },
            "type": "scatter3d"
           }
          ],
          "scattercarpet": [
           {
            "marker": {
             "colorbar": {
              "outlinewidth": 0,
              "ticks": ""
             }
            },
            "type": "scattercarpet"
           }
          ],
          "scattergeo": [
           {
            "marker": {
             "colorbar": {
              "outlinewidth": 0,
              "ticks": ""
             }
            },
            "type": "scattergeo"
           }
          ],
          "scattergl": [
           {
            "marker": {
             "colorbar": {
              "outlinewidth": 0,
              "ticks": ""
             }
            },
            "type": "scattergl"
           }
          ],
          "scattermapbox": [
           {
            "marker": {
             "colorbar": {
              "outlinewidth": 0,
              "ticks": ""
             }
            },
            "type": "scattermapbox"
           }
          ],
          "scatterpolar": [
           {
            "marker": {
             "colorbar": {
              "outlinewidth": 0,
              "ticks": ""
             }
            },
            "type": "scatterpolar"
           }
          ],
          "scatterpolargl": [
           {
            "marker": {
             "colorbar": {
              "outlinewidth": 0,
              "ticks": ""
             }
            },
            "type": "scatterpolargl"
           }
          ],
          "scatterternary": [
           {
            "marker": {
             "colorbar": {
              "outlinewidth": 0,
              "ticks": ""
             }
            },
            "type": "scatterternary"
           }
          ],
          "surface": [
           {
            "colorbar": {
             "outlinewidth": 0,
             "ticks": ""
            },
            "colorscale": [
             [
              0,
              "#0d0887"
             ],
             [
              0.1111111111111111,
              "#46039f"
             ],
             [
              0.2222222222222222,
              "#7201a8"
             ],
             [
              0.3333333333333333,
              "#9c179e"
             ],
             [
              0.4444444444444444,
              "#bd3786"
             ],
             [
              0.5555555555555556,
              "#d8576b"
             ],
             [
              0.6666666666666666,
              "#ed7953"
             ],
             [
              0.7777777777777778,
              "#fb9f3a"
             ],
             [
              0.8888888888888888,
              "#fdca26"
             ],
             [
              1,
              "#f0f921"
             ]
            ],
            "type": "surface"
           }
          ],
          "table": [
           {
            "cells": {
             "fill": {
              "color": "#EBF0F8"
             },
             "line": {
              "color": "white"
             }
            },
            "header": {
             "fill": {
              "color": "#C8D4E3"
             },
             "line": {
              "color": "white"
             }
            },
            "type": "table"
           }
          ]
         },
         "layout": {
          "annotationdefaults": {
           "arrowcolor": "#2a3f5f",
           "arrowhead": 0,
           "arrowwidth": 1
          },
          "coloraxis": {
           "colorbar": {
            "outlinewidth": 0,
            "ticks": ""
           }
          },
          "colorscale": {
           "diverging": [
            [
             0,
             "#8e0152"
            ],
            [
             0.1,
             "#c51b7d"
            ],
            [
             0.2,
             "#de77ae"
            ],
            [
             0.3,
             "#f1b6da"
            ],
            [
             0.4,
             "#fde0ef"
            ],
            [
             0.5,
             "#f7f7f7"
            ],
            [
             0.6,
             "#e6f5d0"
            ],
            [
             0.7,
             "#b8e186"
            ],
            [
             0.8,
             "#7fbc41"
            ],
            [
             0.9,
             "#4d9221"
            ],
            [
             1,
             "#276419"
            ]
           ],
           "sequential": [
            [
             0,
             "#0d0887"
            ],
            [
             0.1111111111111111,
             "#46039f"
            ],
            [
             0.2222222222222222,
             "#7201a8"
            ],
            [
             0.3333333333333333,
             "#9c179e"
            ],
            [
             0.4444444444444444,
             "#bd3786"
            ],
            [
             0.5555555555555556,
             "#d8576b"
            ],
            [
             0.6666666666666666,
             "#ed7953"
            ],
            [
             0.7777777777777778,
             "#fb9f3a"
            ],
            [
             0.8888888888888888,
             "#fdca26"
            ],
            [
             1,
             "#f0f921"
            ]
           ],
           "sequentialminus": [
            [
             0,
             "#0d0887"
            ],
            [
             0.1111111111111111,
             "#46039f"
            ],
            [
             0.2222222222222222,
             "#7201a8"
            ],
            [
             0.3333333333333333,
             "#9c179e"
            ],
            [
             0.4444444444444444,
             "#bd3786"
            ],
            [
             0.5555555555555556,
             "#d8576b"
            ],
            [
             0.6666666666666666,
             "#ed7953"
            ],
            [
             0.7777777777777778,
             "#fb9f3a"
            ],
            [
             0.8888888888888888,
             "#fdca26"
            ],
            [
             1,
             "#f0f921"
            ]
           ]
          },
          "colorway": [
           "#636efa",
           "#EF553B",
           "#00cc96",
           "#ab63fa",
           "#FFA15A",
           "#19d3f3",
           "#FF6692",
           "#B6E880",
           "#FF97FF",
           "#FECB52"
          ],
          "font": {
           "color": "#2a3f5f"
          },
          "geo": {
           "bgcolor": "white",
           "lakecolor": "white",
           "landcolor": "#E5ECF6",
           "showlakes": true,
           "showland": true,
           "subunitcolor": "white"
          },
          "hoverlabel": {
           "align": "left"
          },
          "hovermode": "closest",
          "mapbox": {
           "style": "light"
          },
          "paper_bgcolor": "white",
          "plot_bgcolor": "#E5ECF6",
          "polar": {
           "angularaxis": {
            "gridcolor": "white",
            "linecolor": "white",
            "ticks": ""
           },
           "bgcolor": "#E5ECF6",
           "radialaxis": {
            "gridcolor": "white",
            "linecolor": "white",
            "ticks": ""
           }
          },
          "scene": {
           "xaxis": {
            "backgroundcolor": "#E5ECF6",
            "gridcolor": "white",
            "gridwidth": 2,
            "linecolor": "white",
            "showbackground": true,
            "ticks": "",
            "zerolinecolor": "white"
           },
           "yaxis": {
            "backgroundcolor": "#E5ECF6",
            "gridcolor": "white",
            "gridwidth": 2,
            "linecolor": "white",
            "showbackground": true,
            "ticks": "",
            "zerolinecolor": "white"
           },
           "zaxis": {
            "backgroundcolor": "#E5ECF6",
            "gridcolor": "white",
            "gridwidth": 2,
            "linecolor": "white",
            "showbackground": true,
            "ticks": "",
            "zerolinecolor": "white"
           }
          },
          "shapedefaults": {
           "line": {
            "color": "#2a3f5f"
           }
          },
          "ternary": {
           "aaxis": {
            "gridcolor": "white",
            "linecolor": "white",
            "ticks": ""
           },
           "baxis": {
            "gridcolor": "white",
            "linecolor": "white",
            "ticks": ""
           },
           "bgcolor": "#E5ECF6",
           "caxis": {
            "gridcolor": "white",
            "linecolor": "white",
            "ticks": ""
           }
          },
          "title": {
           "x": 0.05
          },
          "xaxis": {
           "automargin": true,
           "gridcolor": "white",
           "linecolor": "white",
           "ticks": "",
           "title": {
            "standoff": 15
           },
           "zerolinecolor": "white",
           "zerolinewidth": 2
          },
          "yaxis": {
           "automargin": true,
           "gridcolor": "white",
           "linecolor": "white",
           "ticks": "",
           "title": {
            "standoff": 15
           },
           "zerolinecolor": "white",
           "zerolinewidth": 2
          }
         }
        },
        "title": {
         "text": "Human Reads and Centrifugation"
        },
        "xaxis": {
         "anchor": "y",
         "autorange": true,
         "domain": [
          0,
          1
         ],
         "range": [
          -0.5,
          4.5
         ],
         "title": {
          "text": "centrifugation"
         },
         "type": "category"
        },
        "yaxis": {
         "anchor": "x",
         "autorange": true,
         "domain": [
          0,
          1
         ],
         "range": [
          204295.25393130965,
          2739659.0969281346
         ],
         "title": {
          "text": "Human Normalized Reads"
         },
         "type": "linear"
        }
       }
      },
      "image/png": "[encoded data removed]",
      "text/html": [
       "<div>\n",
       "        \n",
       "        \n",
       "            <div id=\"d685cae2-8f76-4138-9fbb-3c367c85fe5e\" class=\"plotly-graph-div\" style=\"height:700px; width:100%;\"></div>\n",
       "            <script type=\"text/javascript\">\n",
       "                require([\"plotly\"], function(Plotly) {\n",
       "                    window.PLOTLYENV=window.PLOTLYENV || {};\n",
       "                    \n",
       "                if (document.getElementById(\"d685cae2-8f76-4138-9fbb-3c367c85fe5e\")) {\n",
       "                    Plotly.newPlot(\n",
       "                        'd685cae2-8f76-4138-9fbb-3c367c85fe5e',\n",
       "                        [{\"alignmentgroup\": \"True\", \"hoverlabel\": {\"namelength\": 0}, \"hovertemplate\": \"sample=Control protocol<br>centrifugation=%{x}<br>Human Normalized Reads=%{y}\", \"legendgroup\": \"sample=Control protocol\", \"marker\": {\"color\": \"#636efa\"}, \"name\": \"sample=Control protocol\", \"notched\": false, \"offsetgroup\": \"sample=Control protocol\", \"orientation\": \"v\", \"showlegend\": true, \"type\": \"box\", \"x\": [\"No Spin\", \"No Spin\", \"No Spin\", \"No Spin\"], \"x0\": \" \", \"xaxis\": \"x\", \"y\": [2070661.047304834, 2075589.391874197, 2008812.708757949, 2084146.4240559519], \"y0\": \" \", \"yaxis\": \"y\"}, {\"alignmentgroup\": \"True\", \"hoverlabel\": {\"namelength\": 0}, \"hovertemplate\": \"sample=DNAse1 protocol<br>centrifugation=%{x}<br>Human Normalized Reads=%{y}\", \"legendgroup\": \"sample=DNAse1 protocol\", \"marker\": {\"color\": \"#EF553B\"}, \"name\": \"sample=DNAse1 protocol\", \"notched\": false, \"offsetgroup\": \"sample=DNAse1 protocol\", \"orientation\": \"v\", \"showlegend\": true, \"type\": \"box\", \"x\": [\"No Spin\", \"No Spin\", \"No Spin\", \"No Spin\"], \"x0\": \" \", \"xaxis\": \"x\", \"y\": [331063.4460811509, 361228.3666484446, 729163.3094059016, 764619.9518040287], \"y0\": \" \", \"yaxis\": \"y\"}, {\"alignmentgroup\": \"True\", \"hoverlabel\": {\"namelength\": 0}, \"hovertemplate\": \"sample=pellet<br>centrifugation=%{x}<br>Human Normalized Reads=%{y}\", \"legendgroup\": \"sample=pellet\", \"marker\": {\"color\": \"#00cc96\"}, \"name\": \"sample=pellet\", \"notched\": false, \"offsetgroup\": \"sample=pellet\", \"orientation\": \"v\", \"showlegend\": true, \"type\": \"box\", \"x\": [\"200g\", \"200g\", \"200g\", \"200g\", \"400g\", \"400g\", \"400g\", \"400g\", \"1000g\", \"1000g\", \"1000g\", \"1000g\", \"2000g\", \"2000g\", \"2000g\", \"2000g\"], \"x0\": \" \", \"xaxis\": \"x\", \"y\": [2090792.202733508, 2087701.8495201082, 2199073.6599900736, 2184055.4345674124, 1908023.1432544643, 1893260.937369826, 1991661.7241263988, 2013434.292868968, 1571683.447567554, 1670592.8530455988, 1910685.3964553697, 1881107.8154006344, 1464869.8920759538, 1782613.5036853012, 1877922.4951235692, 1891344.5076521968], \"y0\": \" \", \"yaxis\": \"y\"}, {\"alignmentgroup\": \"True\", \"hoverlabel\": {\"namelength\": 0}, \"hovertemplate\": \"sample=supernatant<br>centrifugation=%{x}<br>Human Normalized Reads=%{y}\", \"legendgroup\": \"sample=supernatant\", \"marker\": {\"color\": \"#ab63fa\"}, \"name\": \"sample=supernatant\", \"notched\": false, \"offsetgroup\": \"sample=supernatant\", \"orientation\": \"v\", \"showlegend\": true, \"type\": \"box\", \"x\": [\"200g\", \"200g\", \"200g\", \"200g\", \"400g\", \"400g\", \"400g\", \"400g\", \"1000g\", \"1000g\", \"1000g\", \"1000g\", \"2000g\", \"2000g\", \"2000g\", \"2000g\"], \"x0\": \" \", \"xaxis\": \"x\", \"y\": [1604171.1154067544, 1833277.4290414809, 1526789.8640122572, 1569309.2782487918, 2152777.8575061453, 2189786.780495196, 2019315.903373262, 1961692.9496662968, 2459157.3493070784, 2446225.586601853, 2370504.84518828, 2368646.5043296404, 2594853.882620921, 2612890.9047782933, 2579220.35546964, 2608562.0027901423], \"y0\": \" \", \"yaxis\": \"y\"}],\n",
       "                        {\"boxmode\": \"group\", \"height\": 700, \"legend\": {\"tracegroupgap\": 0}, \"margin\": {\"t\": 60}, \"template\": {\"data\": {\"bar\": [{\"error_x\": {\"color\": \"#2a3f5f\"}, \"error_y\": {\"color\": \"#2a3f5f\"}, \"marker\": {\"line\": {\"color\": \"#E5ECF6\", \"width\": 0.5}}, \"type\": \"bar\"}], \"barpolar\": [{\"marker\": {\"line\": {\"color\": \"#E5ECF6\", \"width\": 0.5}}, \"type\": \"barpolar\"}], \"carpet\": [{\"aaxis\": {\"endlinecolor\": \"#2a3f5f\", \"gridcolor\": \"white\", \"linecolor\": \"white\", \"minorgridcolor\": \"white\", \"startlinecolor\": \"#2a3f5f\"}, \"baxis\": {\"endlinecolor\": \"#2a3f5f\", \"gridcolor\": \"white\", \"linecolor\": \"white\", \"minorgridcolor\": \"white\", \"startlinecolor\": \"#2a3f5f\"}, \"type\": \"carpet\"}], \"choropleth\": [{\"colorbar\": {\"outlinewidth\": 0, \"ticks\": \"\"}, \"type\": \"choropleth\"}], \"contour\": [{\"colorbar\": {\"outlinewidth\": 0, \"ticks\": \"\"}, \"colorscale\": [[0.0, \"#0d0887\"], [0.1111111111111111, \"#46039f\"], [0.2222222222222222, \"#7201a8\"], [0.3333333333333333, \"#9c179e\"], [0.4444444444444444, \"#bd3786\"], [0.5555555555555556, \"#d8576b\"], [0.6666666666666666, \"#ed7953\"], [0.7777777777777778, \"#fb9f3a\"], [0.8888888888888888, \"#fdca26\"], [1.0, \"#f0f921\"]], \"type\": \"contour\"}], \"contourcarpet\": [{\"colorbar\": {\"outlinewidth\": 0, \"ticks\": \"\"}, \"type\": \"contourcarpet\"}], \"heatmap\": [{\"colorbar\": {\"outlinewidth\": 0, \"ticks\": \"\"}, \"colorscale\": [[0.0, \"#0d0887\"], [0.1111111111111111, \"#46039f\"], [0.2222222222222222, \"#7201a8\"], [0.3333333333333333, \"#9c179e\"], [0.4444444444444444, \"#bd3786\"], [0.5555555555555556, \"#d8576b\"], [0.6666666666666666, \"#ed7953\"], [0.7777777777777778, \"#fb9f3a\"], [0.8888888888888888, \"#fdca26\"], [1.0, \"#f0f921\"]], \"type\": \"heatmap\"}], \"heatmapgl\": [{\"colorbar\": {\"outlinewidth\": 0, \"ticks\": \"\"}, \"colorscale\": [[0.0, \"#0d0887\"], [0.1111111111111111, \"#46039f\"], [0.2222222222222222, \"#7201a8\"], [0.3333333333333333, \"#9c179e\"], [0.4444444444444444, \"#bd3786\"], [0.5555555555555556, \"#d8576b\"], [0.6666666666666666, \"#ed7953\"], [0.7777777777777778, \"#fb9f3a\"], [0.8888888888888888, \"#fdca26\"], [1.0, \"#f0f921\"]], \"type\": \"heatmapgl\"}], \"histogram\": [{\"marker\": {\"colorbar\": {\"outlinewidth\": 0, \"ticks\": \"\"}}, \"type\": \"histogram\"}], \"histogram2d\": [{\"colorbar\": {\"outlinewidth\": 0, \"ticks\": \"\"}, \"colorscale\": [[0.0, \"#0d0887\"], [0.1111111111111111, \"#46039f\"], [0.2222222222222222, \"#7201a8\"], [0.3333333333333333, \"#9c179e\"], [0.4444444444444444, \"#bd3786\"], [0.5555555555555556, \"#d8576b\"], [0.6666666666666666, \"#ed7953\"], [0.7777777777777778, \"#fb9f3a\"], [0.8888888888888888, \"#fdca26\"], [1.0, \"#f0f921\"]], \"type\": \"histogram2d\"}], \"histogram2dcontour\": [{\"colorbar\": {\"outlinewidth\": 0, \"ticks\": \"\"}, \"colorscale\": [[0.0, \"#0d0887\"], [0.1111111111111111, \"#46039f\"], [0.2222222222222222, \"#7201a8\"], [0.3333333333333333, \"#9c179e\"], [0.4444444444444444, \"#bd3786\"], [0.5555555555555556, \"#d8576b\"], [0.6666666666666666, \"#ed7953\"], [0.7777777777777778, \"#fb9f3a\"], [0.8888888888888888, \"#fdca26\"], [1.0, \"#f0f921\"]], \"type\": \"histogram2dcontour\"}], \"mesh3d\": [{\"colorbar\": {\"outlinewidth\": 0, \"ticks\": \"\"}, \"type\": \"mesh3d\"}], \"parcoords\": [{\"line\": {\"colorbar\": {\"outlinewidth\": 0, \"ticks\": \"\"}}, \"type\": \"parcoords\"}], \"pie\": [{\"automargin\": true, \"type\": \"pie\"}], \"scatter\": [{\"marker\": {\"colorbar\": {\"outlinewidth\": 0, \"ticks\": \"\"}}, \"type\": \"scatter\"}], \"scatter3d\": [{\"line\": {\"colorbar\": {\"outlinewidth\": 0, \"ticks\": \"\"}}, \"marker\": {\"colorbar\": {\"outlinewidth\": 0, \"ticks\": \"\"}}, \"type\": \"scatter3d\"}], \"scattercarpet\": [{\"marker\": {\"colorbar\": {\"outlinewidth\": 0, \"ticks\": \"\"}}, \"type\": \"scattercarpet\"}], \"scattergeo\": [{\"marker\": {\"colorbar\": {\"outlinewidth\": 0, \"ticks\": \"\"}}, \"type\": \"scattergeo\"}], \"scattergl\": [{\"marker\": {\"colorbar\": {\"outlinewidth\": 0, \"ticks\": \"\"}}, \"type\": \"scattergl\"}], \"scattermapbox\": [{\"marker\": {\"colorbar\": {\"outlinewidth\": 0, \"ticks\": \"\"}}, \"type\": \"scattermapbox\"}], \"scatterpolar\": [{\"marker\": {\"colorbar\": {\"outlinewidth\": 0, \"ticks\": \"\"}}, \"type\": \"scatterpolar\"}], \"scatterpolargl\": [{\"marker\": {\"colorbar\": {\"outlinewidth\": 0, \"ticks\": \"\"}}, \"type\": \"scatterpolargl\"}], \"scatterternary\": [{\"marker\": {\"colorbar\": {\"outlinewidth\": 0, \"ticks\": \"\"}}, \"type\": \"scatterternary\"}], \"surface\": [{\"colorbar\": {\"outlinewidth\": 0, \"ticks\": \"\"}, \"colorscale\": [[0.0, \"#0d0887\"], [0.1111111111111111, \"#46039f\"], [0.2222222222222222, \"#7201a8\"], [0.3333333333333333, \"#9c179e\"], [0.4444444444444444, \"#bd3786\"], [0.5555555555555556, \"#d8576b\"], [0.6666666666666666, \"#ed7953\"], [0.7777777777777778, \"#fb9f3a\"], [0.8888888888888888, \"#fdca26\"], [1.0, \"#f0f921\"]], \"type\": \"surface\"}], \"table\": [{\"cells\": {\"fill\": {\"color\": \"#EBF0F8\"}, \"line\": {\"color\": \"white\"}}, \"header\": {\"fill\": {\"color\": \"#C8D4E3\"}, \"line\": {\"color\": \"white\"}}, \"type\": \"table\"}]}, \"layout\": {\"annotationdefaults\": {\"arrowcolor\": \"#2a3f5f\", \"arrowhead\": 0, \"arrowwidth\": 1}, \"coloraxis\": {\"colorbar\": {\"outlinewidth\": 0, \"ticks\": \"\"}}, \"colorscale\": {\"diverging\": [[0, \"#8e0152\"], [0.1, \"#c51b7d\"], [0.2, \"#de77ae\"], [0.3, \"#f1b6da\"], [0.4, \"#fde0ef\"], [0.5, \"#f7f7f7\"], [0.6, \"#e6f5d0\"], [0.7, \"#b8e186\"], [0.8, \"#7fbc41\"], [0.9, \"#4d9221\"], [1, \"#276419\"]], \"sequential\": [[0.0, \"#0d0887\"], [0.1111111111111111, \"#46039f\"], [0.2222222222222222, \"#7201a8\"], [0.3333333333333333, \"#9c179e\"], [0.4444444444444444, \"#bd3786\"], [0.5555555555555556, \"#d8576b\"], [0.6666666666666666, \"#ed7953\"], [0.7777777777777778, \"#fb9f3a\"], [0.8888888888888888, \"#fdca26\"], [1.0, \"#f0f921\"]], \"sequentialminus\": [[0.0, \"#0d0887\"], [0.1111111111111111, \"#46039f\"], [0.2222222222222222, \"#7201a8\"], [0.3333333333333333, \"#9c179e\"], [0.4444444444444444, \"#bd3786\"], [0.5555555555555556, \"#d8576b\"], [0.6666666666666666, \"#ed7953\"], [0.7777777777777778, \"#fb9f3a\"], [0.8888888888888888, \"#fdca26\"], [1.0, \"#f0f921\"]]}, \"colorway\": [\"#636efa\", \"#EF553B\", \"#00cc96\", \"#ab63fa\", \"#FFA15A\", \"#19d3f3\", \"#FF6692\", \"#B6E880\", \"#FF97FF\", \"#FECB52\"], \"font\": {\"color\": \"#2a3f5f\"}, \"geo\": {\"bgcolor\": \"white\", \"lakecolor\": \"white\", \"landcolor\": \"#E5ECF6\", \"showlakes\": true, \"showland\": true, \"subunitcolor\": \"white\"}, \"hoverlabel\": {\"align\": \"left\"}, \"hovermode\": \"closest\", \"mapbox\": {\"style\": \"light\"}, \"paper_bgcolor\": \"white\", \"plot_bgcolor\": \"#E5ECF6\", \"polar\": {\"angularaxis\": {\"gridcolor\": \"white\", \"linecolor\": \"white\", \"ticks\": \"\"}, \"bgcolor\": \"#E5ECF6\", \"radialaxis\": {\"gridcolor\": \"white\", \"linecolor\": \"white\", \"ticks\": \"\"}}, \"scene\": {\"xaxis\": {\"backgroundcolor\": \"#E5ECF6\", \"gridcolor\": \"white\", \"gridwidth\": 2, \"linecolor\": \"white\", \"showbackground\": true, \"ticks\": \"\", \"zerolinecolor\": \"white\"}, \"yaxis\": {\"backgroundcolor\": \"#E5ECF6\", \"gridcolor\": \"white\", \"gridwidth\": 2, \"linecolor\": \"white\", \"showbackground\": true, \"ticks\": \"\", \"zerolinecolor\": \"white\"}, \"zaxis\": {\"backgroundcolor\": \"#E5ECF6\", \"gridcolor\": \"white\", \"gridwidth\": 2, \"linecolor\": \"white\", \"showbackground\": true, \"ticks\": \"\", \"zerolinecolor\": \"white\"}}, \"shapedefaults\": {\"line\": {\"color\": \"#2a3f5f\"}}, \"ternary\": {\"aaxis\": {\"gridcolor\": \"white\", \"linecolor\": \"white\", \"ticks\": \"\"}, \"baxis\": {\"gridcolor\": \"white\", \"linecolor\": \"white\", \"ticks\": \"\"}, \"bgcolor\": \"#E5ECF6\", \"caxis\": {\"gridcolor\": \"white\", \"linecolor\": \"white\", \"ticks\": \"\"}}, \"title\": {\"x\": 0.05}, \"xaxis\": {\"automargin\": true, \"gridcolor\": \"white\", \"linecolor\": \"white\", \"ticks\": \"\", \"title\": {\"standoff\": 15}, \"zerolinecolor\": \"white\", \"zerolinewidth\": 2}, \"yaxis\": {\"automargin\": true, \"gridcolor\": \"white\", \"linecolor\": \"white\", \"ticks\": \"\", \"title\": {\"standoff\": 15}, \"zerolinecolor\": \"white\", \"zerolinewidth\": 2}}}, \"title\": {\"text\": \"Human Reads and Centrifugation\"}, \"xaxis\": {\"anchor\": \"y\", \"domain\": [0.0, 1.0], \"title\": {\"text\": \"centrifugation\"}}, \"yaxis\": {\"anchor\": \"x\", \"domain\": [0.0, 1.0], \"title\": {\"text\": \"Human Normalized Reads\"}}},\n",
       "                        {\"responsive\": true}\n",
       "                    ).then(function(){\n",
       "                            \n",
       "var gd = document.getElementById('d685cae2-8f76-4138-9fbb-3c367c85fe5e');\n",
       "var x = new MutationObserver(function (mutations, observer) {{\n",
       "        var display = window.getComputedStyle(gd).display;\n",
       "        if (!display || display === 'none') {{\n",
       "            console.log([gd, 'removed!']);\n",
       "            Plotly.purge(gd);\n",
       "            observer.disconnect();\n",
       "        }}\n",
       "}});\n",
       "\n",
       "// Listen for the removal of the full notebook cells\n",
       "var notebookContainer = gd.closest('#notebook-container');\n",
       "if (notebookContainer) {{\n",
       "    x.observe(notebookContainer, {childList: true});\n",
       "}}\n",
       "\n",
       "// Listen for the clearing of the current output cell\n",
       "var outputEl = gd.closest('.output');\n",
       "if (outputEl) {{\n",
       "    x.observe(outputEl, {childList: true});\n",
       "}}\n",
       "\n",
       "                        })\n",
       "                };\n",
       "                });\n",
       "            </script>\n",
       "        </div>"
      ]
     },
     "metadata": {},
     "output_type": "display_data"
    }
   ],
   "source": [
    "fig_t7 = px.box(merged, x='centrifugation', y='Human', color='sample',\n",
    "                labels={'Human': 'Human Normalized Reads'})\n",
    "fig_t7.update_layout(height=700, title='Human Reads and Centrifugation')\n",
    "fig_t7.show()"
   ]
  },
  {
   "cell_type": "code",
   "execution_count": 5,
   "metadata": {},
   "outputs": [
    {
     "data": {
      "application/vnd.plotly.v1+json": {
       "config": {
        "plotlyServerURL": "https://plot.ly"
       },
       "data": [
        {
         "alignmentgroup": "True",
         "hoverlabel": {
          "namelength": 0
         },
         "hovertemplate": "sample=Control protocol<br>centrifugation=%{x}<br>Ecoli Normalized Reads=%{y}",
         "legendgroup": "sample=Control protocol",
         "marker": {
          "color": "#636efa"
         },
         "name": "sample=Control protocol",
         "notched": false,
         "offsetgroup": "sample=Control protocol",
         "orientation": "v",
         "showlegend": true,
         "type": "box",
         "x": [
          "No Spin",
          "No Spin",
          "No Spin",
          "No Spin"
         ],
         "x0": " ",
         "xaxis": "x",
         "y": [
          61058.65978334986,
          59751.12846917923,
          85504.00116411426,
          79060.3156868229
         ],
         "y0": " ",
         "yaxis": "y"
        },
        {
         "alignmentgroup": "True",
         "hoverlabel": {
          "namelength": 0
         },
         "hovertemplate": "sample=DNAse1 protocol<br>centrifugation=%{x}<br>Ecoli Normalized Reads=%{y}",
         "legendgroup": "sample=DNAse1 protocol",
         "marker": {
          "color": "#EF553B"
         },
         "name": "sample=DNAse1 protocol",
         "notched": false,
         "offsetgroup": "sample=DNAse1 protocol",
         "orientation": "v",
         "showlegend": true,
         "type": "box",
         "x": [
          "No Spin",
          "No Spin",
          "No Spin",
          "No Spin"
         ],
         "x0": " ",
         "xaxis": "x",
         "y": [
          220684.567157581,
          221403.03533808546,
          242296.16399072684,
          242221.4137300417
         ],
         "y0": " ",
         "yaxis": "y"
        },
        {
         "alignmentgroup": "True",
         "hoverlabel": {
          "namelength": 0
         },
         "hovertemplate": "sample=pellet<br>centrifugation=%{x}<br>Ecoli Normalized Reads=%{y}",
         "legendgroup": "sample=pellet",
         "marker": {
          "color": "#00cc96"
         },
         "name": "sample=pellet",
         "notched": false,
         "offsetgroup": "sample=pellet",
         "orientation": "v",
         "showlegend": true,
         "type": "box",
         "x": [
          "200g",
          "200g",
          "200g",
          "200g",
          "400g",
          "400g",
          "400g",
          "400g",
          "1000g",
          "1000g",
          "1000g",
          "1000g",
          "2000g",
          "2000g",
          "2000g",
          "2000g"
         ],
         "x0": " ",
         "xaxis": "x",
         "y": [
          54361.05520905824,
          57871.912095727996,
          58140.901190983524,
          60512.37378736884,
          77918.55749016172,
          75131.69735531192,
          82973.25022130522,
          79238.8156092591,
          108231.77618111725,
          97646.46146004082,
          94336.31577102485,
          99786.95857680107,
          118903.00156002426,
          90435.18961429065,
          98656.50495606252,
          99146.44538880212
         ],
         "y0": " ",
         "yaxis": "y"
        },
        {
         "alignmentgroup": "True",
         "hoverlabel": {
          "namelength": 0
         },
         "hovertemplate": "sample=supernatant<br>centrifugation=%{x}<br>Ecoli Normalized Reads=%{y}",
         "legendgroup": "sample=supernatant",
         "marker": {
          "color": "#ab63fa"
         },
         "name": "sample=supernatant",
         "notched": false,
         "offsetgroup": "sample=supernatant",
         "orientation": "v",
         "showlegend": true,
         "type": "box",
         "x": [
          "200g",
          "200g",
          "200g",
          "200g",
          "400g",
          "400g",
          "400g",
          "400g",
          "1000g",
          "1000g",
          "1000g",
          "1000g",
          "2000g",
          "2000g",
          "2000g",
          "2000g"
         ],
         "x0": " ",
         "xaxis": "x",
         "y": [
          105015.31298568445,
          81198.58801731435,
          149268.58006214304,
          149308.22187745047,
          50421.17626258161,
          45891.04436282321,
          91180.16019127019,
          96914.65138980762,
          22212.294973765518,
          24377.769926124547,
          52245.09803334074,
          47133.552506029235,
          9993.490910968343,
          11275.42857674384,
          19266.405225539147,
          19588.228300800845
         ],
         "y0": " ",
         "yaxis": "y"
        }
       ],
       "layout": {
        "autosize": true,
        "boxmode": "group",
        "legend": {
         "tracegroupgap": 0
        },
        "margin": {
         "t": 60
        },
        "template": {
         "data": {
          "bar": [
           {
            "error_x": {
             "color": "#2a3f5f"
            },
            "error_y": {
             "color": "#2a3f5f"
            },
            "marker": {
             "line": {
              "color": "#E5ECF6",
              "width": 0.5
             }
            },
            "type": "bar"
           }
          ],
          "barpolar": [
           {
            "marker": {
             "line": {
              "color": "#E5ECF6",
              "width": 0.5
             }
            },
            "type": "barpolar"
           }
          ],
          "carpet": [
           {
            "aaxis": {
             "endlinecolor": "#2a3f5f",
             "gridcolor": "white",
             "linecolor": "white",
             "minorgridcolor": "white",
             "startlinecolor": "#2a3f5f"
            },
            "baxis": {
             "endlinecolor": "#2a3f5f",
             "gridcolor": "white",
             "linecolor": "white",
             "minorgridcolor": "white",
             "startlinecolor": "#2a3f5f"
            },
            "type": "carpet"
           }
          ],
          "choropleth": [
           {
            "colorbar": {
             "outlinewidth": 0,
             "ticks": ""
            },
            "type": "choropleth"
           }
          ],
          "contour": [
           {
            "colorbar": {
             "outlinewidth": 0,
             "ticks": ""
            },
            "colorscale": [
             [
              0,
              "#0d0887"
             ],
             [
              0.1111111111111111,
              "#46039f"
             ],
             [
              0.2222222222222222,
              "#7201a8"
             ],
             [
              0.3333333333333333,
              "#9c179e"
             ],
             [
              0.4444444444444444,
              "#bd3786"
             ],
             [
              0.5555555555555556,
              "#d8576b"
             ],
             [
              0.6666666666666666,
              "#ed7953"
             ],
             [
              0.7777777777777778,
              "#fb9f3a"
             ],
             [
              0.8888888888888888,
              "#fdca26"
             ],
             [
              1,
              "#f0f921"
             ]
            ],
            "type": "contour"
           }
          ],
          "contourcarpet": [
           {
            "colorbar": {
             "outlinewidth": 0,
             "ticks": ""
            },
            "type": "contourcarpet"
           }
          ],
          "heatmap": [
           {
            "colorbar": {
             "outlinewidth": 0,
             "ticks": ""
            },
            "colorscale": [
             [
              0,
              "#0d0887"
             ],
             [
              0.1111111111111111,
              "#46039f"
             ],
             [
              0.2222222222222222,
              "#7201a8"
             ],
             [
              0.3333333333333333,
              "#9c179e"
             ],
             [
              0.4444444444444444,
              "#bd3786"
             ],
             [
              0.5555555555555556,
              "#d8576b"
             ],
             [
              0.6666666666666666,
              "#ed7953"
             ],
             [
              0.7777777777777778,
              "#fb9f3a"
             ],
             [
              0.8888888888888888,
              "#fdca26"
             ],
             [
              1,
              "#f0f921"
             ]
            ],
            "type": "heatmap"
           }
          ],
          "heatmapgl": [
           {
            "colorbar": {
             "outlinewidth": 0,
             "ticks": ""
            },
            "colorscale": [
             [
              0,
              "#0d0887"
             ],
             [
              0.1111111111111111,
              "#46039f"
             ],
             [
              0.2222222222222222,
              "#7201a8"
             ],
             [
              0.3333333333333333,
              "#9c179e"
             ],
             [
              0.4444444444444444,
              "#bd3786"
             ],
             [
              0.5555555555555556,
              "#d8576b"
             ],
             [
              0.6666666666666666,
              "#ed7953"
             ],
             [
              0.7777777777777778,
              "#fb9f3a"
             ],
             [
              0.8888888888888888,
              "#fdca26"
             ],
             [
              1,
              "#f0f921"
             ]
            ],
            "type": "heatmapgl"
           }
          ],
          "histogram": [
           {
            "marker": {
             "colorbar": {
              "outlinewidth": 0,
              "ticks": ""
             }
            },
            "type": "histogram"
           }
          ],
          "histogram2d": [
           {
            "colorbar": {
             "outlinewidth": 0,
             "ticks": ""
            },
            "colorscale": [
             [
              0,
              "#0d0887"
             ],
             [
              0.1111111111111111,
              "#46039f"
             ],
             [
              0.2222222222222222,
              "#7201a8"
             ],
             [
              0.3333333333333333,
              "#9c179e"
             ],
             [
              0.4444444444444444,
              "#bd3786"
             ],
             [
              0.5555555555555556,
              "#d8576b"
             ],
             [
              0.6666666666666666,
              "#ed7953"
             ],
             [
              0.7777777777777778,
              "#fb9f3a"
             ],
             [
              0.8888888888888888,
              "#fdca26"
             ],
             [
              1,
              "#f0f921"
             ]
            ],
            "type": "histogram2d"
           }
          ],
          "histogram2dcontour": [
           {
            "colorbar": {
             "outlinewidth": 0,
             "ticks": ""
            },
            "colorscale": [
             [
              0,
              "#0d0887"
             ],
             [
              0.1111111111111111,
              "#46039f"
             ],
             [
              0.2222222222222222,
              "#7201a8"
             ],
             [
              0.3333333333333333,
              "#9c179e"
             ],
             [
              0.4444444444444444,
              "#bd3786"
             ],
             [
              0.5555555555555556,
              "#d8576b"
             ],
             [
              0.6666666666666666,
              "#ed7953"
             ],
             [
              0.7777777777777778,
              "#fb9f3a"
             ],
             [
              0.8888888888888888,
              "#fdca26"
             ],
             [
              1,
              "#f0f921"
             ]
            ],
            "type": "histogram2dcontour"
           }
          ],
          "mesh3d": [
           {
            "colorbar": {
             "outlinewidth": 0,
             "ticks": ""
            },
            "type": "mesh3d"
           }
          ],
          "parcoords": [
           {
            "line": {
             "colorbar": {
              "outlinewidth": 0,
              "ticks": ""
             }
            },
            "type": "parcoords"
           }
          ],
          "pie": [
           {
            "automargin": true,
            "type": "pie"
           }
          ],
          "scatter": [
           {
            "marker": {
             "colorbar": {
              "outlinewidth": 0,
              "ticks": ""
             }
            },
            "type": "scatter"
           }
          ],
          "scatter3d": [
           {
            "line": {
             "colorbar": {
              "outlinewidth": 0,
              "ticks": ""
             }
            },
            "marker": {
             "colorbar": {
              "outlinewidth": 0,
              "ticks": ""
             }
            },
            "type": "scatter3d"
           }
          ],
          "scattercarpet": [
           {
            "marker": {
             "colorbar": {
              "outlinewidth": 0,
              "ticks": ""
             }
            },
            "type": "scattercarpet"
           }
          ],
          "scattergeo": [
           {
            "marker": {
             "colorbar": {
              "outlinewidth": 0,
              "ticks": ""
             }
            },
            "type": "scattergeo"
           }
          ],
          "scattergl": [
           {
            "marker": {
             "colorbar": {
              "outlinewidth": 0,
              "ticks": ""
             }
            },
            "type": "scattergl"
           }
          ],
          "scattermapbox": [
           {
            "marker": {
             "colorbar": {
              "outlinewidth": 0,
              "ticks": ""
             }
            },
            "type": "scattermapbox"
           }
          ],
          "scatterpolar": [
           {
            "marker": {
             "colorbar": {
              "outlinewidth": 0,
              "ticks": ""
             }
            },
            "type": "scatterpolar"
           }
          ],
          "scatterpolargl": [
           {
            "marker": {
             "colorbar": {
              "outlinewidth": 0,
              "ticks": ""
             }
            },
            "type": "scatterpolargl"
           }
          ],
          "scatterternary": [
           {
            "marker": {
             "colorbar": {
              "outlinewidth": 0,
              "ticks": ""
             }
            },
            "type": "scatterternary"
           }
          ],
          "surface": [
           {
            "colorbar": {
             "outlinewidth": 0,
             "ticks": ""
            },
            "colorscale": [
             [
              0,
              "#0d0887"
             ],
             [
              0.1111111111111111,
              "#46039f"
             ],
             [
              0.2222222222222222,
              "#7201a8"
             ],
             [
              0.3333333333333333,
              "#9c179e"
             ],
             [
              0.4444444444444444,
              "#bd3786"
             ],
             [
              0.5555555555555556,
              "#d8576b"
             ],
             [
              0.6666666666666666,
              "#ed7953"
             ],
             [
              0.7777777777777778,
              "#fb9f3a"
             ],
             [
              0.8888888888888888,
              "#fdca26"
             ],
             [
              1,
              "#f0f921"
             ]
            ],
            "type": "surface"
           }
          ],
          "table": [
           {
            "cells": {
             "fill": {
              "color": "#EBF0F8"
             },
             "line": {
              "color": "white"
             }
            },
            "header": {
             "fill": {
              "color": "#C8D4E3"
             },
             "line": {
              "color": "white"
             }
            },
            "type": "table"
           }
          ]
         },
         "layout": {
          "annotationdefaults": {
           "arrowcolor": "#2a3f5f",
           "arrowhead": 0,
           "arrowwidth": 1
          },
          "coloraxis": {
           "colorbar": {
            "outlinewidth": 0,
            "ticks": ""
           }
          },
          "colorscale": {
           "diverging": [
            [
             0,
             "#8e0152"
            ],
            [
             0.1,
             "#c51b7d"
            ],
            [
             0.2,
             "#de77ae"
            ],
            [
             0.3,
             "#f1b6da"
            ],
            [
             0.4,
             "#fde0ef"
            ],
            [
             0.5,
             "#f7f7f7"
            ],
            [
             0.6,
             "#e6f5d0"
            ],
            [
             0.7,
             "#b8e186"
            ],
            [
             0.8,
             "#7fbc41"
            ],
            [
             0.9,
             "#4d9221"
            ],
            [
             1,
             "#276419"
            ]
           ],
           "sequential": [
            [
             0,
             "#0d0887"
            ],
            [
             0.1111111111111111,
             "#46039f"
            ],
            [
             0.2222222222222222,
             "#7201a8"
            ],
            [
             0.3333333333333333,
             "#9c179e"
            ],
            [
             0.4444444444444444,
             "#bd3786"
            ],
            [
             0.5555555555555556,
             "#d8576b"
            ],
            [
             0.6666666666666666,
             "#ed7953"
            ],
            [
             0.7777777777777778,
             "#fb9f3a"
            ],
            [
             0.8888888888888888,
             "#fdca26"
            ],
            [
             1,
             "#f0f921"
            ]
           ],
           "sequentialminus": [
            [
             0,
             "#0d0887"
            ],
            [
             0.1111111111111111,
             "#46039f"
            ],
            [
             0.2222222222222222,
             "#7201a8"
            ],
            [
             0.3333333333333333,
             "#9c179e"
            ],
            [
             0.4444444444444444,
             "#bd3786"
            ],
            [
             0.5555555555555556,
             "#d8576b"
            ],
            [
             0.6666666666666666,
             "#ed7953"
            ],
            [
             0.7777777777777778,
             "#fb9f3a"
            ],
            [
             0.8888888888888888,
             "#fdca26"
            ],
            [
             1,
             "#f0f921"
            ]
           ]
          },
          "colorway": [
           "#636efa",
           "#EF553B",
           "#00cc96",
           "#ab63fa",
           "#FFA15A",
           "#19d3f3",
           "#FF6692",
           "#B6E880",
           "#FF97FF",
           "#FECB52"
          ],
          "font": {
           "color": "#2a3f5f"
          },
          "geo": {
           "bgcolor": "white",
           "lakecolor": "white",
           "landcolor": "#E5ECF6",
           "showlakes": true,
           "showland": true,
           "subunitcolor": "white"
          },
          "hoverlabel": {
           "align": "left"
          },
          "hovermode": "closest",
          "mapbox": {
           "style": "light"
          },
          "paper_bgcolor": "white",
          "plot_bgcolor": "#E5ECF6",
          "polar": {
           "angularaxis": {
            "gridcolor": "white",
            "linecolor": "white",
            "ticks": ""
           },
           "bgcolor": "#E5ECF6",
           "radialaxis": {
            "gridcolor": "white",
            "linecolor": "white",
            "ticks": ""
           }
          },
          "scene": {
           "xaxis": {
            "backgroundcolor": "#E5ECF6",
            "gridcolor": "white",
            "gridwidth": 2,
            "linecolor": "white",
            "showbackground": true,
            "ticks": "",
            "zerolinecolor": "white"
           },
           "yaxis": {
            "backgroundcolor": "#E5ECF6",
            "gridcolor": "white",
            "gridwidth": 2,
            "linecolor": "white",
            "showbackground": true,
            "ticks": "",
            "zerolinecolor": "white"
           },
           "zaxis": {
            "backgroundcolor": "#E5ECF6",
            "gridcolor": "white",
            "gridwidth": 2,
            "linecolor": "white",
            "showbackground": true,
            "ticks": "",
            "zerolinecolor": "white"
           }
          },
          "shapedefaults": {
           "line": {
            "color": "#2a3f5f"
           }
          },
          "ternary": {
           "aaxis": {
            "gridcolor": "white",
            "linecolor": "white",
            "ticks": ""
           },
           "baxis": {
            "gridcolor": "white",
            "linecolor": "white",
            "ticks": ""
           },
           "bgcolor": "#E5ECF6",
           "caxis": {
            "gridcolor": "white",
            "linecolor": "white",
            "ticks": ""
           }
          },
          "title": {
           "x": 0.05
          },
          "xaxis": {
           "automargin": true,
           "gridcolor": "white",
           "linecolor": "white",
           "ticks": "",
           "title": {
            "standoff": 15
           },
           "zerolinecolor": "white",
           "zerolinewidth": 2
          },
          "yaxis": {
           "automargin": true,
           "gridcolor": "white",
           "linecolor": "white",
           "ticks": "",
           "title": {
            "standoff": 15
           },
           "zerolinecolor": "white",
           "zerolinewidth": 2
          }
         }
        },
        "title": {
         "text": "Ecoli Reads and Centrifugation"
        },
        "xaxis": {
         "anchor": "y",
         "autorange": true,
         "domain": [
          0,
          1
         ],
         "range": [
          -0.5,
          4.5
         ],
         "title": {
          "text": "centrifugation"
         },
         "type": "category"
        },
        "yaxis": {
         "anchor": "x",
         "autorange": true,
         "domain": [
          0,
          1
         ],
         "range": [
          -2912.21314901824,
          255201.8680507134
         ],
         "title": {
          "text": "Ecoli Normalized Reads"
         },
         "type": "linear"
        }
       }
      },
      "image/png": "[encoded data removed]",
      "text/html": [
       "<div>\n",
       "        \n",
       "        \n",
       "            <div id=\"48ea5b8a-13fc-42c1-80d6-ad2385eae978\" class=\"plotly-graph-div\" style=\"height:700px; width:100%;\"></div>\n",
       "            <script type=\"text/javascript\">\n",
       "                require([\"plotly\"], function(Plotly) {\n",
       "                    window.PLOTLYENV=window.PLOTLYENV || {};\n",
       "                    \n",
       "                if (document.getElementById(\"48ea5b8a-13fc-42c1-80d6-ad2385eae978\")) {\n",
       "                    Plotly.newPlot(\n",
       "                        '48ea5b8a-13fc-42c1-80d6-ad2385eae978',\n",
       "                        [{\"alignmentgroup\": \"True\", \"hoverlabel\": {\"namelength\": 0}, \"hovertemplate\": \"sample=Control protocol<br>centrifugation=%{x}<br>Ecoli Normalized Reads=%{y}\", \"legendgroup\": \"sample=Control protocol\", \"marker\": {\"color\": \"#636efa\"}, \"name\": \"sample=Control protocol\", \"notched\": false, \"offsetgroup\": \"sample=Control protocol\", \"orientation\": \"v\", \"showlegend\": true, \"type\": \"box\", \"x\": [\"No Spin\", \"No Spin\", \"No Spin\", \"No Spin\"], \"x0\": \" \", \"xaxis\": \"x\", \"y\": [61058.65978334986, 59751.12846917923, 85504.00116411426, 79060.3156868229], \"y0\": \" \", \"yaxis\": \"y\"}, {\"alignmentgroup\": \"True\", \"hoverlabel\": {\"namelength\": 0}, \"hovertemplate\": \"sample=DNAse1 protocol<br>centrifugation=%{x}<br>Ecoli Normalized Reads=%{y}\", \"legendgroup\": \"sample=DNAse1 protocol\", \"marker\": {\"color\": \"#EF553B\"}, \"name\": \"sample=DNAse1 protocol\", \"notched\": false, \"offsetgroup\": \"sample=DNAse1 protocol\", \"orientation\": \"v\", \"showlegend\": true, \"type\": \"box\", \"x\": [\"No Spin\", \"No Spin\", \"No Spin\", \"No Spin\"], \"x0\": \" \", \"xaxis\": \"x\", \"y\": [220684.567157581, 221403.03533808546, 242296.16399072684, 242221.4137300417], \"y0\": \" \", \"yaxis\": \"y\"}, {\"alignmentgroup\": \"True\", \"hoverlabel\": {\"namelength\": 0}, \"hovertemplate\": \"sample=pellet<br>centrifugation=%{x}<br>Ecoli Normalized Reads=%{y}\", \"legendgroup\": \"sample=pellet\", \"marker\": {\"color\": \"#00cc96\"}, \"name\": \"sample=pellet\", \"notched\": false, \"offsetgroup\": \"sample=pellet\", \"orientation\": \"v\", \"showlegend\": true, \"type\": \"box\", \"x\": [\"200g\", \"200g\", \"200g\", \"200g\", \"400g\", \"400g\", \"400g\", \"400g\", \"1000g\", \"1000g\", \"1000g\", \"1000g\", \"2000g\", \"2000g\", \"2000g\", \"2000g\"], \"x0\": \" \", \"xaxis\": \"x\", \"y\": [54361.05520905824, 57871.912095727996, 58140.901190983524, 60512.37378736884, 77918.55749016172, 75131.69735531192, 82973.25022130522, 79238.8156092591, 108231.77618111725, 97646.46146004082, 94336.31577102485, 99786.95857680107, 118903.00156002426, 90435.18961429065, 98656.50495606252, 99146.44538880212], \"y0\": \" \", \"yaxis\": \"y\"}, {\"alignmentgroup\": \"True\", \"hoverlabel\": {\"namelength\": 0}, \"hovertemplate\": \"sample=supernatant<br>centrifugation=%{x}<br>Ecoli Normalized Reads=%{y}\", \"legendgroup\": \"sample=supernatant\", \"marker\": {\"color\": \"#ab63fa\"}, \"name\": \"sample=supernatant\", \"notched\": false, \"offsetgroup\": \"sample=supernatant\", \"orientation\": \"v\", \"showlegend\": true, \"type\": \"box\", \"x\": [\"200g\", \"200g\", \"200g\", \"200g\", \"400g\", \"400g\", \"400g\", \"400g\", \"1000g\", \"1000g\", \"1000g\", \"1000g\", \"2000g\", \"2000g\", \"2000g\", \"2000g\"], \"x0\": \" \", \"xaxis\": \"x\", \"y\": [105015.31298568445, 81198.58801731435, 149268.58006214304, 149308.22187745047, 50421.17626258161, 45891.04436282321, 91180.16019127019, 96914.65138980762, 22212.294973765518, 24377.769926124547, 52245.09803334074, 47133.552506029235, 9993.490910968343, 11275.42857674384, 19266.405225539147, 19588.228300800845], \"y0\": \" \", \"yaxis\": \"y\"}],\n",
       "                        {\"boxmode\": \"group\", \"height\": 700, \"legend\": {\"tracegroupgap\": 0}, \"margin\": {\"t\": 60}, \"template\": {\"data\": {\"bar\": [{\"error_x\": {\"color\": \"#2a3f5f\"}, \"error_y\": {\"color\": \"#2a3f5f\"}, \"marker\": {\"line\": {\"color\": \"#E5ECF6\", \"width\": 0.5}}, \"type\": \"bar\"}], \"barpolar\": [{\"marker\": {\"line\": {\"color\": \"#E5ECF6\", \"width\": 0.5}}, \"type\": \"barpolar\"}], \"carpet\": [{\"aaxis\": {\"endlinecolor\": \"#2a3f5f\", \"gridcolor\": \"white\", \"linecolor\": \"white\", \"minorgridcolor\": \"white\", \"startlinecolor\": \"#2a3f5f\"}, \"baxis\": {\"endlinecolor\": \"#2a3f5f\", \"gridcolor\": \"white\", \"linecolor\": \"white\", \"minorgridcolor\": \"white\", \"startlinecolor\": \"#2a3f5f\"}, \"type\": \"carpet\"}], \"choropleth\": [{\"colorbar\": {\"outlinewidth\": 0, \"ticks\": \"\"}, \"type\": \"choropleth\"}], \"contour\": [{\"colorbar\": {\"outlinewidth\": 0, \"ticks\": \"\"}, \"colorscale\": [[0.0, \"#0d0887\"], [0.1111111111111111, \"#46039f\"], [0.2222222222222222, \"#7201a8\"], [0.3333333333333333, \"#9c179e\"], [0.4444444444444444, \"#bd3786\"], [0.5555555555555556, \"#d8576b\"], [0.6666666666666666, \"#ed7953\"], [0.7777777777777778, \"#fb9f3a\"], [0.8888888888888888, \"#fdca26\"], [1.0, \"#f0f921\"]], \"type\": \"contour\"}], \"contourcarpet\": [{\"colorbar\": {\"outlinewidth\": 0, \"ticks\": \"\"}, \"type\": \"contourcarpet\"}], \"heatmap\": [{\"colorbar\": {\"outlinewidth\": 0, \"ticks\": \"\"}, \"colorscale\": [[0.0, \"#0d0887\"], [0.1111111111111111, \"#46039f\"], [0.2222222222222222, \"#7201a8\"], [0.3333333333333333, \"#9c179e\"], [0.4444444444444444, \"#bd3786\"], [0.5555555555555556, \"#d8576b\"], [0.6666666666666666, \"#ed7953\"], [0.7777777777777778, \"#fb9f3a\"], [0.8888888888888888, \"#fdca26\"], [1.0, \"#f0f921\"]], \"type\": \"heatmap\"}], \"heatmapgl\": [{\"colorbar\": {\"outlinewidth\": 0, \"ticks\": \"\"}, \"colorscale\": [[0.0, \"#0d0887\"], [0.1111111111111111, \"#46039f\"], [0.2222222222222222, \"#7201a8\"], [0.3333333333333333, \"#9c179e\"], [0.4444444444444444, \"#bd3786\"], [0.5555555555555556, \"#d8576b\"], [0.6666666666666666, \"#ed7953\"], [0.7777777777777778, \"#fb9f3a\"], [0.8888888888888888, \"#fdca26\"], [1.0, \"#f0f921\"]], \"type\": \"heatmapgl\"}], \"histogram\": [{\"marker\": {\"colorbar\": {\"outlinewidth\": 0, \"ticks\": \"\"}}, \"type\": \"histogram\"}], \"histogram2d\": [{\"colorbar\": {\"outlinewidth\": 0, \"ticks\": \"\"}, \"colorscale\": [[0.0, \"#0d0887\"], [0.1111111111111111, \"#46039f\"], [0.2222222222222222, \"#7201a8\"], [0.3333333333333333, \"#9c179e\"], [0.4444444444444444, \"#bd3786\"], [0.5555555555555556, \"#d8576b\"], [0.6666666666666666, \"#ed7953\"], [0.7777777777777778, \"#fb9f3a\"], [0.8888888888888888, \"#fdca26\"], [1.0, \"#f0f921\"]], \"type\": \"histogram2d\"}], \"histogram2dcontour\": [{\"colorbar\": {\"outlinewidth\": 0, \"ticks\": \"\"}, \"colorscale\": [[0.0, \"#0d0887\"], [0.1111111111111111, \"#46039f\"], [0.2222222222222222, \"#7201a8\"], [0.3333333333333333, \"#9c179e\"], [0.4444444444444444, \"#bd3786\"], [0.5555555555555556, \"#d8576b\"], [0.6666666666666666, \"#ed7953\"], [0.7777777777777778, \"#fb9f3a\"], [0.8888888888888888, \"#fdca26\"], [1.0, \"#f0f921\"]], \"type\": \"histogram2dcontour\"}], \"mesh3d\": [{\"colorbar\": {\"outlinewidth\": 0, \"ticks\": \"\"}, \"type\": \"mesh3d\"}], \"parcoords\": [{\"line\": {\"colorbar\": {\"outlinewidth\": 0, \"ticks\": \"\"}}, \"type\": \"parcoords\"}], \"pie\": [{\"automargin\": true, \"type\": \"pie\"}], \"scatter\": [{\"marker\": {\"colorbar\": {\"outlinewidth\": 0, \"ticks\": \"\"}}, \"type\": \"scatter\"}], \"scatter3d\": [{\"line\": {\"colorbar\": {\"outlinewidth\": 0, \"ticks\": \"\"}}, \"marker\": {\"colorbar\": {\"outlinewidth\": 0, \"ticks\": \"\"}}, \"type\": \"scatter3d\"}], \"scattercarpet\": [{\"marker\": {\"colorbar\": {\"outlinewidth\": 0, \"ticks\": \"\"}}, \"type\": \"scattercarpet\"}], \"scattergeo\": [{\"marker\": {\"colorbar\": {\"outlinewidth\": 0, \"ticks\": \"\"}}, \"type\": \"scattergeo\"}], \"scattergl\": [{\"marker\": {\"colorbar\": {\"outlinewidth\": 0, \"ticks\": \"\"}}, \"type\": \"scattergl\"}], \"scattermapbox\": [{\"marker\": {\"colorbar\": {\"outlinewidth\": 0, \"ticks\": \"\"}}, \"type\": \"scattermapbox\"}], \"scatterpolar\": [{\"marker\": {\"colorbar\": {\"outlinewidth\": 0, \"ticks\": \"\"}}, \"type\": \"scatterpolar\"}], \"scatterpolargl\": [{\"marker\": {\"colorbar\": {\"outlinewidth\": 0, \"ticks\": \"\"}}, \"type\": \"scatterpolargl\"}], \"scatterternary\": [{\"marker\": {\"colorbar\": {\"outlinewidth\": 0, \"ticks\": \"\"}}, \"type\": \"scatterternary\"}], \"surface\": [{\"colorbar\": {\"outlinewidth\": 0, \"ticks\": \"\"}, \"colorscale\": [[0.0, \"#0d0887\"], [0.1111111111111111, \"#46039f\"], [0.2222222222222222, \"#7201a8\"], [0.3333333333333333, \"#9c179e\"], [0.4444444444444444, \"#bd3786\"], [0.5555555555555556, \"#d8576b\"], [0.6666666666666666, \"#ed7953\"], [0.7777777777777778, \"#fb9f3a\"], [0.8888888888888888, \"#fdca26\"], [1.0, \"#f0f921\"]], \"type\": \"surface\"}], \"table\": [{\"cells\": {\"fill\": {\"color\": \"#EBF0F8\"}, \"line\": {\"color\": \"white\"}}, \"header\": {\"fill\": {\"color\": \"#C8D4E3\"}, \"line\": {\"color\": \"white\"}}, \"type\": \"table\"}]}, \"layout\": {\"annotationdefaults\": {\"arrowcolor\": \"#2a3f5f\", \"arrowhead\": 0, \"arrowwidth\": 1}, \"coloraxis\": {\"colorbar\": {\"outlinewidth\": 0, \"ticks\": \"\"}}, \"colorscale\": {\"diverging\": [[0, \"#8e0152\"], [0.1, \"#c51b7d\"], [0.2, \"#de77ae\"], [0.3, \"#f1b6da\"], [0.4, \"#fde0ef\"], [0.5, \"#f7f7f7\"], [0.6, \"#e6f5d0\"], [0.7, \"#b8e186\"], [0.8, \"#7fbc41\"], [0.9, \"#4d9221\"], [1, \"#276419\"]], \"sequential\": [[0.0, \"#0d0887\"], [0.1111111111111111, \"#46039f\"], [0.2222222222222222, \"#7201a8\"], [0.3333333333333333, \"#9c179e\"], [0.4444444444444444, \"#bd3786\"], [0.5555555555555556, \"#d8576b\"], [0.6666666666666666, \"#ed7953\"], [0.7777777777777778, \"#fb9f3a\"], [0.8888888888888888, \"#fdca26\"], [1.0, \"#f0f921\"]], \"sequentialminus\": [[0.0, \"#0d0887\"], [0.1111111111111111, \"#46039f\"], [0.2222222222222222, \"#7201a8\"], [0.3333333333333333, \"#9c179e\"], [0.4444444444444444, \"#bd3786\"], [0.5555555555555556, \"#d8576b\"], [0.6666666666666666, \"#ed7953\"], [0.7777777777777778, \"#fb9f3a\"], [0.8888888888888888, \"#fdca26\"], [1.0, \"#f0f921\"]]}, \"colorway\": [\"#636efa\", \"#EF553B\", \"#00cc96\", \"#ab63fa\", \"#FFA15A\", \"#19d3f3\", \"#FF6692\", \"#B6E880\", \"#FF97FF\", \"#FECB52\"], \"font\": {\"color\": \"#2a3f5f\"}, \"geo\": {\"bgcolor\": \"white\", \"lakecolor\": \"white\", \"landcolor\": \"#E5ECF6\", \"showlakes\": true, \"showland\": true, \"subunitcolor\": \"white\"}, \"hoverlabel\": {\"align\": \"left\"}, \"hovermode\": \"closest\", \"mapbox\": {\"style\": \"light\"}, \"paper_bgcolor\": \"white\", \"plot_bgcolor\": \"#E5ECF6\", \"polar\": {\"angularaxis\": {\"gridcolor\": \"white\", \"linecolor\": \"white\", \"ticks\": \"\"}, \"bgcolor\": \"#E5ECF6\", \"radialaxis\": {\"gridcolor\": \"white\", \"linecolor\": \"white\", \"ticks\": \"\"}}, \"scene\": {\"xaxis\": {\"backgroundcolor\": \"#E5ECF6\", \"gridcolor\": \"white\", \"gridwidth\": 2, \"linecolor\": \"white\", \"showbackground\": true, \"ticks\": \"\", \"zerolinecolor\": \"white\"}, \"yaxis\": {\"backgroundcolor\": \"#E5ECF6\", \"gridcolor\": \"white\", \"gridwidth\": 2, \"linecolor\": \"white\", \"showbackground\": true, \"ticks\": \"\", \"zerolinecolor\": \"white\"}, \"zaxis\": {\"backgroundcolor\": \"#E5ECF6\", \"gridcolor\": \"white\", \"gridwidth\": 2, \"linecolor\": \"white\", \"showbackground\": true, \"ticks\": \"\", \"zerolinecolor\": \"white\"}}, \"shapedefaults\": {\"line\": {\"color\": \"#2a3f5f\"}}, \"ternary\": {\"aaxis\": {\"gridcolor\": \"white\", \"linecolor\": \"white\", \"ticks\": \"\"}, \"baxis\": {\"gridcolor\": \"white\", \"linecolor\": \"white\", \"ticks\": \"\"}, \"bgcolor\": \"#E5ECF6\", \"caxis\": {\"gridcolor\": \"white\", \"linecolor\": \"white\", \"ticks\": \"\"}}, \"title\": {\"x\": 0.05}, \"xaxis\": {\"automargin\": true, \"gridcolor\": \"white\", \"linecolor\": \"white\", \"ticks\": \"\", \"title\": {\"standoff\": 15}, \"zerolinecolor\": \"white\", \"zerolinewidth\": 2}, \"yaxis\": {\"automargin\": true, \"gridcolor\": \"white\", \"linecolor\": \"white\", \"ticks\": \"\", \"title\": {\"standoff\": 15}, \"zerolinecolor\": \"white\", \"zerolinewidth\": 2}}}, \"title\": {\"text\": \"Ecoli Reads and Centrifugation\"}, \"xaxis\": {\"anchor\": \"y\", \"domain\": [0.0, 1.0], \"title\": {\"text\": \"centrifugation\"}}, \"yaxis\": {\"anchor\": \"x\", \"domain\": [0.0, 1.0], \"title\": {\"text\": \"Ecoli Normalized Reads\"}}},\n",
       "                        {\"responsive\": true}\n",
       "                    ).then(function(){\n",
       "                            \n",
       "var gd = document.getElementById('48ea5b8a-13fc-42c1-80d6-ad2385eae978');\n",
       "var x = new MutationObserver(function (mutations, observer) {{\n",
       "        var display = window.getComputedStyle(gd).display;\n",
       "        if (!display || display === 'none') {{\n",
       "            console.log([gd, 'removed!']);\n",
       "            Plotly.purge(gd);\n",
       "            observer.disconnect();\n",
       "        }}\n",
       "}});\n",
       "\n",
       "// Listen for the removal of the full notebook cells\n",
       "var notebookContainer = gd.closest('#notebook-container');\n",
       "if (notebookContainer) {{\n",
       "    x.observe(notebookContainer, {childList: true});\n",
       "}}\n",
       "\n",
       "// Listen for the clearing of the current output cell\n",
       "var outputEl = gd.closest('.output');\n",
       "if (outputEl) {{\n",
       "    x.observe(outputEl, {childList: true});\n",
       "}}\n",
       "\n",
       "                        })\n",
       "                };\n",
       "                });\n",
       "            </script>\n",
       "        </div>"
      ]
     },
     "metadata": {},
     "output_type": "display_data"
    }
   ],
   "source": [
    "fig_t7 = px.box(merged, x='centrifugation', y='ecoli_normalized_reads', color='sample',\n",
    "                 labels={'ecoli_normalized_reads': 'Ecoli Normalized Reads'})\n",
    "fig_t7.update_layout(height=700, title='Ecoli Reads and Centrifugation')\n",
    "fig_t7.show()"
   ]
  },
  {
   "cell_type": "code",
   "execution_count": 6,
   "metadata": {},
   "outputs": [],
   "source": [
    "merged_melt = pd.melt(merged, value_vars=['ecoli_normalized_reads', 'Human'], id_vars='centrifugation',\n",
    "                      value_name='Normalized reads')"
   ]
  },
  {
   "cell_type": "code",
   "execution_count": 7,
   "metadata": {},
   "outputs": [
    {
     "data": {
      "application/vnd.plotly.v1+json": {
       "config": {
        "plotlyServerURL": "https://plot.ly"
       },
       "data": [
        {
         "alignmentgroup": "True",
         "hoverlabel": {
          "namelength": 0
         },
         "hovertemplate": "variable=ecoli_normalized_reads<br>centrifugation=%{x}<br>Normalized reads=%{y}",
         "legendgroup": "variable=ecoli_normalized_reads",
         "marker": {
          "color": "#636efa"
         },
         "name": "variable=ecoli_normalized_reads",
         "notched": false,
         "offsetgroup": "variable=ecoli_normalized_reads",
         "orientation": "v",
         "showlegend": true,
         "type": "box",
         "x": [
          "No Spin",
          "No Spin",
          "No Spin",
          "No Spin",
          "No Spin",
          "No Spin",
          "No Spin",
          "No Spin",
          "200g",
          "200g",
          "200g",
          "200g",
          "200g",
          "200g",
          "200g",
          "200g",
          "400g",
          "400g",
          "400g",
          "400g",
          "400g",
          "400g",
          "400g",
          "400g",
          "1000g",
          "1000g",
          "1000g",
          "1000g",
          "1000g",
          "1000g",
          "1000g",
          "1000g",
          "2000g",
          "2000g",
          "2000g",
          "2000g",
          "2000g",
          "2000g",
          "2000g",
          "2000g"
         ],
         "x0": " ",
         "xaxis": "x",
         "y": [
          61058.65978334986,
          59751.12846917923,
          85504.00116411426,
          79060.3156868229,
          220684.567157581,
          221403.03533808546,
          242296.16399072684,
          242221.4137300417,
          54361.05520905824,
          57871.912095727996,
          58140.901190983524,
          60512.37378736884,
          105015.31298568445,
          81198.58801731435,
          149268.58006214304,
          149308.22187745047,
          77918.55749016172,
          75131.69735531192,
          82973.25022130522,
          79238.8156092591,
          50421.17626258161,
          45891.04436282321,
          91180.16019127019,
          96914.65138980762,
          108231.77618111725,
          97646.46146004082,
          94336.31577102485,
          99786.95857680107,
          22212.294973765518,
          24377.769926124547,
          52245.09803334074,
          47133.552506029235,
          118903.00156002426,
          90435.18961429065,
          98656.50495606252,
          99146.44538880212,
          9993.490910968343,
          11275.42857674384,
          19266.405225539147,
          19588.228300800845
         ],
         "y0": " ",
         "yaxis": "y"
        },
        {
         "alignmentgroup": "True",
         "hoverlabel": {
          "namelength": 0
         },
         "hovertemplate": "variable=Human<br>centrifugation=%{x}<br>Normalized reads=%{y}",
         "legendgroup": "variable=Human",
         "marker": {
          "color": "#EF553B"
         },
         "name": "variable=Human",
         "notched": false,
         "offsetgroup": "variable=Human",
         "orientation": "v",
         "showlegend": true,
         "type": "box",
         "x": [
          "No Spin",
          "No Spin",
          "No Spin",
          "No Spin",
          "No Spin",
          "No Spin",
          "No Spin",
          "No Spin",
          "200g",
          "200g",
          "200g",
          "200g",
          "200g",
          "200g",
          "200g",
          "200g",
          "400g",
          "400g",
          "400g",
          "400g",
          "400g",
          "400g",
          "400g",
          "400g",
          "1000g",
          "1000g",
          "1000g",
          "1000g",
          "1000g",
          "1000g",
          "1000g",
          "1000g",
          "2000g",
          "2000g",
          "2000g",
          "2000g",
          "2000g",
          "2000g",
          "2000g",
          "2000g"
         ],
         "x0": " ",
         "xaxis": "x",
         "y": [
          2070661.047304834,
          2075589.391874197,
          2008812.708757949,
          2084146.4240559519,
          331063.4460811509,
          361228.3666484446,
          729163.3094059016,
          764619.9518040287,
          2090792.202733508,
          2087701.8495201082,
          2199073.6599900736,
          2184055.4345674124,
          1604171.1154067544,
          1833277.4290414809,
          1526789.8640122572,
          1569309.2782487918,
          1908023.1432544643,
          1893260.937369826,
          1991661.7241263988,
          2013434.292868968,
          2152777.8575061453,
          2189786.780495196,
          2019315.903373262,
          1961692.9496662968,
          1571683.447567554,
          1670592.8530455988,
          1910685.3964553697,
          1881107.8154006344,
          2459157.3493070784,
          2446225.586601853,
          2370504.84518828,
          2368646.5043296404,
          1464869.8920759538,
          1782613.5036853012,
          1877922.4951235692,
          1891344.5076521968,
          2594853.882620921,
          2612890.9047782933,
          2579220.35546964,
          2608562.0027901423
         ],
         "y0": " ",
         "yaxis": "y"
        }
       ],
       "layout": {
        "autosize": true,
        "boxmode": "group",
        "legend": {
         "tracegroupgap": 0
        },
        "margin": {
         "t": 60
        },
        "template": {
         "data": {
          "bar": [
           {
            "error_x": {
             "color": "#2a3f5f"
            },
            "error_y": {
             "color": "#2a3f5f"
            },
            "marker": {
             "line": {
              "color": "#E5ECF6",
              "width": 0.5
             }
            },
            "type": "bar"
           }
          ],
          "barpolar": [
           {
            "marker": {
             "line": {
              "color": "#E5ECF6",
              "width": 0.5
             }
            },
            "type": "barpolar"
           }
          ],
          "carpet": [
           {
            "aaxis": {
             "endlinecolor": "#2a3f5f",
             "gridcolor": "white",
             "linecolor": "white",
             "minorgridcolor": "white",
             "startlinecolor": "#2a3f5f"
            },
            "baxis": {
             "endlinecolor": "#2a3f5f",
             "gridcolor": "white",
             "linecolor": "white",
             "minorgridcolor": "white",
             "startlinecolor": "#2a3f5f"
            },
            "type": "carpet"
           }
          ],
          "choropleth": [
           {
            "colorbar": {
             "outlinewidth": 0,
             "ticks": ""
            },
            "type": "choropleth"
           }
          ],
          "contour": [
           {
            "colorbar": {
             "outlinewidth": 0,
             "ticks": ""
            },
            "colorscale": [
             [
              0,
              "#0d0887"
             ],
             [
              0.1111111111111111,
              "#46039f"
             ],
             [
              0.2222222222222222,
              "#7201a8"
             ],
             [
              0.3333333333333333,
              "#9c179e"
             ],
             [
              0.4444444444444444,
              "#bd3786"
             ],
             [
              0.5555555555555556,
              "#d8576b"
             ],
             [
              0.6666666666666666,
              "#ed7953"
             ],
             [
              0.7777777777777778,
              "#fb9f3a"
             ],
             [
              0.8888888888888888,
              "#fdca26"
             ],
             [
              1,
              "#f0f921"
             ]
            ],
            "type": "contour"
           }
          ],
          "contourcarpet": [
           {
            "colorbar": {
             "outlinewidth": 0,
             "ticks": ""
            },
            "type": "contourcarpet"
           }
          ],
          "heatmap": [
           {
            "colorbar": {
             "outlinewidth": 0,
             "ticks": ""
            },
            "colorscale": [
             [
              0,
              "#0d0887"
             ],
             [
              0.1111111111111111,
              "#46039f"
             ],
             [
              0.2222222222222222,
              "#7201a8"
             ],
             [
              0.3333333333333333,
              "#9c179e"
             ],
             [
              0.4444444444444444,
              "#bd3786"
             ],
             [
              0.5555555555555556,
              "#d8576b"
             ],
             [
              0.6666666666666666,
              "#ed7953"
             ],
             [
              0.7777777777777778,
              "#fb9f3a"
             ],
             [
              0.8888888888888888,
              "#fdca26"
             ],
             [
              1,
              "#f0f921"
             ]
            ],
            "type": "heatmap"
           }
          ],
          "heatmapgl": [
           {
            "colorbar": {
             "outlinewidth": 0,
             "ticks": ""
            },
            "colorscale": [
             [
              0,
              "#0d0887"
             ],
             [
              0.1111111111111111,
              "#46039f"
             ],
             [
              0.2222222222222222,
              "#7201a8"
             ],
             [
              0.3333333333333333,
              "#9c179e"
             ],
             [
              0.4444444444444444,
              "#bd3786"
             ],
             [
              0.5555555555555556,
              "#d8576b"
             ],
             [
              0.6666666666666666,
              "#ed7953"
             ],
             [
              0.7777777777777778,
              "#fb9f3a"
             ],
             [
              0.8888888888888888,
              "#fdca26"
             ],
             [
              1,
              "#f0f921"
             ]
            ],
            "type": "heatmapgl"
           }
          ],
          "histogram": [
           {
            "marker": {
             "colorbar": {
              "outlinewidth": 0,
              "ticks": ""
             }
            },
            "type": "histogram"
           }
          ],
          "histogram2d": [
           {
            "colorbar": {
             "outlinewidth": 0,
             "ticks": ""
            },
            "colorscale": [
             [
              0,
              "#0d0887"
             ],
             [
              0.1111111111111111,
              "#46039f"
             ],
             [
              0.2222222222222222,
              "#7201a8"
             ],
             [
              0.3333333333333333,
              "#9c179e"
             ],
             [
              0.4444444444444444,
              "#bd3786"
             ],
             [
              0.5555555555555556,
              "#d8576b"
             ],
             [
              0.6666666666666666,
              "#ed7953"
             ],
             [
              0.7777777777777778,
              "#fb9f3a"
             ],
             [
              0.8888888888888888,
              "#fdca26"
             ],
             [
              1,
              "#f0f921"
             ]
            ],
            "type": "histogram2d"
           }
          ],
          "histogram2dcontour": [
           {
            "colorbar": {
             "outlinewidth": 0,
             "ticks": ""
            },
            "colorscale": [
             [
              0,
              "#0d0887"
             ],
             [
              0.1111111111111111,
              "#46039f"
             ],
             [
              0.2222222222222222,
              "#7201a8"
             ],
             [
              0.3333333333333333,
              "#9c179e"
             ],
             [
              0.4444444444444444,
              "#bd3786"
             ],
             [
              0.5555555555555556,
              "#d8576b"
             ],
             [
              0.6666666666666666,
              "#ed7953"
             ],
             [
              0.7777777777777778,
              "#fb9f3a"
             ],
             [
              0.8888888888888888,
              "#fdca26"
             ],
             [
              1,
              "#f0f921"
             ]
            ],
            "type": "histogram2dcontour"
           }
          ],
          "mesh3d": [
           {
            "colorbar": {
             "outlinewidth": 0,
             "ticks": ""
            },
            "type": "mesh3d"
           }
          ],
          "parcoords": [
           {
            "line": {
             "colorbar": {
              "outlinewidth": 0,
              "ticks": ""
             }
            },
            "type": "parcoords"
           }
          ],
          "pie": [
           {
            "automargin": true,
            "type": "pie"
           }
          ],
          "scatter": [
           {
            "marker": {
             "colorbar": {
              "outlinewidth": 0,
              "ticks": ""
             }
            },
            "type": "scatter"
           }
          ],
          "scatter3d": [
           {
            "line": {
             "colorbar": {
              "outlinewidth": 0,
              "ticks": ""
             }
            },
            "marker": {
             "colorbar": {
              "outlinewidth": 0,
              "ticks": ""
             }
            },
            "type": "scatter3d"
           }
          ],
          "scattercarpet": [
           {
            "marker": {
             "colorbar": {
              "outlinewidth": 0,
              "ticks": ""
             }
            },
            "type": "scattercarpet"
           }
          ],
          "scattergeo": [
           {
            "marker": {
             "colorbar": {
              "outlinewidth": 0,
              "ticks": ""
             }
            },
            "type": "scattergeo"
           }
          ],
          "scattergl": [
           {
            "marker": {
             "colorbar": {
              "outlinewidth": 0,
              "ticks": ""
             }
            },
            "type": "scattergl"
           }
          ],
          "scattermapbox": [
           {
            "marker": {
             "colorbar": {
              "outlinewidth": 0,
              "ticks": ""
             }
            },
            "type": "scattermapbox"
           }
          ],
          "scatterpolar": [
           {
            "marker": {
             "colorbar": {
              "outlinewidth": 0,
              "ticks": ""
             }
            },
            "type": "scatterpolar"
           }
          ],
          "scatterpolargl": [
           {
            "marker": {
             "colorbar": {
              "outlinewidth": 0,
              "ticks": ""
             }
            },
            "type": "scatterpolargl"
           }
          ],
          "scatterternary": [
           {
            "marker": {
             "colorbar": {
              "outlinewidth": 0,
              "ticks": ""
             }
            },
            "type": "scatterternary"
           }
          ],
          "surface": [
           {
            "colorbar": {
             "outlinewidth": 0,
             "ticks": ""
            },
            "colorscale": [
             [
              0,
              "#0d0887"
             ],
             [
              0.1111111111111111,
              "#46039f"
             ],
             [
              0.2222222222222222,
              "#7201a8"
             ],
             [
              0.3333333333333333,
              "#9c179e"
             ],
             [
              0.4444444444444444,
              "#bd3786"
             ],
             [
              0.5555555555555556,
              "#d8576b"
             ],
             [
              0.6666666666666666,
              "#ed7953"
             ],
             [
              0.7777777777777778,
              "#fb9f3a"
             ],
             [
              0.8888888888888888,
              "#fdca26"
             ],
             [
              1,
              "#f0f921"
             ]
            ],
            "type": "surface"
           }
          ],
          "table": [
           {
            "cells": {
             "fill": {
              "color": "#EBF0F8"
             },
             "line": {
              "color": "white"
             }
            },
            "header": {
             "fill": {
              "color": "#C8D4E3"
             },
             "line": {
              "color": "white"
             }
            },
            "type": "table"
           }
          ]
         },
         "layout": {
          "annotationdefaults": {
           "arrowcolor": "#2a3f5f",
           "arrowhead": 0,
           "arrowwidth": 1
          },
          "coloraxis": {
           "colorbar": {
            "outlinewidth": 0,
            "ticks": ""
           }
          },
          "colorscale": {
           "diverging": [
            [
             0,
             "#8e0152"
            ],
            [
             0.1,
             "#c51b7d"
            ],
            [
             0.2,
             "#de77ae"
            ],
            [
             0.3,
             "#f1b6da"
            ],
            [
             0.4,
             "#fde0ef"
            ],
            [
             0.5,
             "#f7f7f7"
            ],
            [
             0.6,
             "#e6f5d0"
            ],
            [
             0.7,
             "#b8e186"
            ],
            [
             0.8,
             "#7fbc41"
            ],
            [
             0.9,
             "#4d9221"
            ],
            [
             1,
             "#276419"
            ]
           ],
           "sequential": [
            [
             0,
             "#0d0887"
            ],
            [
             0.1111111111111111,
             "#46039f"
            ],
            [
             0.2222222222222222,
             "#7201a8"
            ],
            [
             0.3333333333333333,
             "#9c179e"
            ],
            [
             0.4444444444444444,
             "#bd3786"
            ],
            [
             0.5555555555555556,
             "#d8576b"
            ],
            [
             0.6666666666666666,
             "#ed7953"
            ],
            [
             0.7777777777777778,
             "#fb9f3a"
            ],
            [
             0.8888888888888888,
             "#fdca26"
            ],
            [
             1,
             "#f0f921"
            ]
           ],
           "sequentialminus": [
            [
             0,
             "#0d0887"
            ],
            [
             0.1111111111111111,
             "#46039f"
            ],
            [
             0.2222222222222222,
             "#7201a8"
            ],
            [
             0.3333333333333333,
             "#9c179e"
            ],
            [
             0.4444444444444444,
             "#bd3786"
            ],
            [
             0.5555555555555556,
             "#d8576b"
            ],
            [
             0.6666666666666666,
             "#ed7953"
            ],
            [
             0.7777777777777778,
             "#fb9f3a"
            ],
            [
             0.8888888888888888,
             "#fdca26"
            ],
            [
             1,
             "#f0f921"
            ]
           ]
          },
          "colorway": [
           "#636efa",
           "#EF553B",
           "#00cc96",
           "#ab63fa",
           "#FFA15A",
           "#19d3f3",
           "#FF6692",
           "#B6E880",
           "#FF97FF",
           "#FECB52"
          ],
          "font": {
           "color": "#2a3f5f"
          },
          "geo": {
           "bgcolor": "white",
           "lakecolor": "white",
           "landcolor": "#E5ECF6",
           "showlakes": true,
           "showland": true,
           "subunitcolor": "white"
          },
          "hoverlabel": {
           "align": "left"
          },
          "hovermode": "closest",
          "mapbox": {
           "style": "light"
          },
          "paper_bgcolor": "white",
          "plot_bgcolor": "#E5ECF6",
          "polar": {
           "angularaxis": {
            "gridcolor": "white",
            "linecolor": "white",
            "ticks": ""
           },
           "bgcolor": "#E5ECF6",
           "radialaxis": {
            "gridcolor": "white",
            "linecolor": "white",
            "ticks": ""
           }
          },
          "scene": {
           "xaxis": {
            "backgroundcolor": "#E5ECF6",
            "gridcolor": "white",
            "gridwidth": 2,
            "linecolor": "white",
            "showbackground": true,
            "ticks": "",
            "zerolinecolor": "white"
           },
           "yaxis": {
            "backgroundcolor": "#E5ECF6",
            "gridcolor": "white",
            "gridwidth": 2,
            "linecolor": "white",
            "showbackground": true,
            "ticks": "",
            "zerolinecolor": "white"
           },
           "zaxis": {
            "backgroundcolor": "#E5ECF6",
            "gridcolor": "white",
            "gridwidth": 2,
            "linecolor": "white",
            "showbackground": true,
            "ticks": "",
            "zerolinecolor": "white"
           }
          },
          "shapedefaults": {
           "line": {
            "color": "#2a3f5f"
           }
          },
          "ternary": {
           "aaxis": {
            "gridcolor": "white",
            "linecolor": "white",
            "ticks": ""
           },
           "baxis": {
            "gridcolor": "white",
            "linecolor": "white",
            "ticks": ""
           },
           "bgcolor": "#E5ECF6",
           "caxis": {
            "gridcolor": "white",
            "linecolor": "white",
            "ticks": ""
           }
          },
          "title": {
           "x": 0.05
          },
          "xaxis": {
           "automargin": true,
           "gridcolor": "white",
           "linecolor": "white",
           "ticks": "",
           "title": {
            "standoff": 15
           },
           "zerolinecolor": "white",
           "zerolinewidth": 2
          },
          "yaxis": {
           "automargin": true,
           "gridcolor": "white",
           "linecolor": "white",
           "ticks": "",
           "title": {
            "standoff": 15
           },
           "zerolinecolor": "white",
           "zerolinewidth": 2
          }
         }
        },
        "xaxis": {
         "anchor": "y",
         "autorange": true,
         "domain": [
          0,
          1
         ],
         "range": [
          -0.5,
          4.5
         ],
         "title": {
          "text": "centrifugation"
         },
         "type": "category"
        },
        "yaxis": {
         "anchor": "x",
         "autorange": true,
         "domain": [
          0,
          1
         ],
         "range": [
          3.8654169965176353,
          6.551421502439457
         ],
         "title": {
          "text": "Normalized reads"
         },
         "type": "log"
        }
       }
      },
      "image/png": "[encoded data removed]",
      "text/html": [
       "<div>\n",
       "        \n",
       "        \n",
       "            <div id=\"5c431496-6334-4920-aa3b-60529379fedd\" class=\"plotly-graph-div\" style=\"height:525px; width:100%;\"></div>\n",
       "            <script type=\"text/javascript\">\n",
       "                require([\"plotly\"], function(Plotly) {\n",
       "                    window.PLOTLYENV=window.PLOTLYENV || {};\n",
       "                    \n",
       "                if (document.getElementById(\"5c431496-6334-4920-aa3b-60529379fedd\")) {\n",
       "                    Plotly.newPlot(\n",
       "                        '5c431496-6334-4920-aa3b-60529379fedd',\n",
       "                        [{\"alignmentgroup\": \"True\", \"hoverlabel\": {\"namelength\": 0}, \"hovertemplate\": \"variable=ecoli_normalized_reads<br>centrifugation=%{x}<br>Normalized reads=%{y}\", \"legendgroup\": \"variable=ecoli_normalized_reads\", \"marker\": {\"color\": \"#636efa\"}, \"name\": \"variable=ecoli_normalized_reads\", \"notched\": false, \"offsetgroup\": \"variable=ecoli_normalized_reads\", \"orientation\": \"v\", \"showlegend\": true, \"type\": \"box\", \"x\": [\"No Spin\", \"No Spin\", \"No Spin\", \"No Spin\", \"No Spin\", \"No Spin\", \"No Spin\", \"No Spin\", \"200g\", \"200g\", \"200g\", \"200g\", \"200g\", \"200g\", \"200g\", \"200g\", \"400g\", \"400g\", \"400g\", \"400g\", \"400g\", \"400g\", \"400g\", \"400g\", \"1000g\", \"1000g\", \"1000g\", \"1000g\", \"1000g\", \"1000g\", \"1000g\", \"1000g\", \"2000g\", \"2000g\", \"2000g\", \"2000g\", \"2000g\", \"2000g\", \"2000g\", \"2000g\"], \"x0\": \" \", \"xaxis\": \"x\", \"y\": [61058.65978334986, 59751.12846917923, 85504.00116411426, 79060.3156868229, 220684.567157581, 221403.03533808546, 242296.16399072684, 242221.4137300417, 54361.05520905824, 57871.912095727996, 58140.901190983524, 60512.37378736884, 105015.31298568445, 81198.58801731435, 149268.58006214304, 149308.22187745047, 77918.55749016172, 75131.69735531192, 82973.25022130522, 79238.8156092591, 50421.17626258161, 45891.04436282321, 91180.16019127019, 96914.65138980762, 108231.77618111725, 97646.46146004082, 94336.31577102485, 99786.95857680107, 22212.294973765518, 24377.769926124547, 52245.09803334074, 47133.552506029235, 118903.00156002426, 90435.18961429065, 98656.50495606252, 99146.44538880212, 9993.490910968343, 11275.42857674384, 19266.405225539147, 19588.228300800845], \"y0\": \" \", \"yaxis\": \"y\"}, {\"alignmentgroup\": \"True\", \"hoverlabel\": {\"namelength\": 0}, \"hovertemplate\": \"variable=Human<br>centrifugation=%{x}<br>Normalized reads=%{y}\", \"legendgroup\": \"variable=Human\", \"marker\": {\"color\": \"#EF553B\"}, \"name\": \"variable=Human\", \"notched\": false, \"offsetgroup\": \"variable=Human\", \"orientation\": \"v\", \"showlegend\": true, \"type\": \"box\", \"x\": [\"No Spin\", \"No Spin\", \"No Spin\", \"No Spin\", \"No Spin\", \"No Spin\", \"No Spin\", \"No Spin\", \"200g\", \"200g\", \"200g\", \"200g\", \"200g\", \"200g\", \"200g\", \"200g\", \"400g\", \"400g\", \"400g\", \"400g\", \"400g\", \"400g\", \"400g\", \"400g\", \"1000g\", \"1000g\", \"1000g\", \"1000g\", \"1000g\", \"1000g\", \"1000g\", \"1000g\", \"2000g\", \"2000g\", \"2000g\", \"2000g\", \"2000g\", \"2000g\", \"2000g\", \"2000g\"], \"x0\": \" \", \"xaxis\": \"x\", \"y\": [2070661.047304834, 2075589.391874197, 2008812.708757949, 2084146.4240559519, 331063.4460811509, 361228.3666484446, 729163.3094059016, 764619.9518040287, 2090792.202733508, 2087701.8495201082, 2199073.6599900736, 2184055.4345674124, 1604171.1154067544, 1833277.4290414809, 1526789.8640122572, 1569309.2782487918, 1908023.1432544643, 1893260.937369826, 1991661.7241263988, 2013434.292868968, 2152777.8575061453, 2189786.780495196, 2019315.903373262, 1961692.9496662968, 1571683.447567554, 1670592.8530455988, 1910685.3964553697, 1881107.8154006344, 2459157.3493070784, 2446225.586601853, 2370504.84518828, 2368646.5043296404, 1464869.8920759538, 1782613.5036853012, 1877922.4951235692, 1891344.5076521968, 2594853.882620921, 2612890.9047782933, 2579220.35546964, 2608562.0027901423], \"y0\": \" \", \"yaxis\": \"y\"}],\n",
       "                        {\"boxmode\": \"group\", \"legend\": {\"tracegroupgap\": 0}, \"margin\": {\"t\": 60}, \"template\": {\"data\": {\"bar\": [{\"error_x\": {\"color\": \"#2a3f5f\"}, \"error_y\": {\"color\": \"#2a3f5f\"}, \"marker\": {\"line\": {\"color\": \"#E5ECF6\", \"width\": 0.5}}, \"type\": \"bar\"}], \"barpolar\": [{\"marker\": {\"line\": {\"color\": \"#E5ECF6\", \"width\": 0.5}}, \"type\": \"barpolar\"}], \"carpet\": [{\"aaxis\": {\"endlinecolor\": \"#2a3f5f\", \"gridcolor\": \"white\", \"linecolor\": \"white\", \"minorgridcolor\": \"white\", \"startlinecolor\": \"#2a3f5f\"}, \"baxis\": {\"endlinecolor\": \"#2a3f5f\", \"gridcolor\": \"white\", \"linecolor\": \"white\", \"minorgridcolor\": \"white\", \"startlinecolor\": \"#2a3f5f\"}, \"type\": \"carpet\"}], \"choropleth\": [{\"colorbar\": {\"outlinewidth\": 0, \"ticks\": \"\"}, \"type\": \"choropleth\"}], \"contour\": [{\"colorbar\": {\"outlinewidth\": 0, \"ticks\": \"\"}, \"colorscale\": [[0.0, \"#0d0887\"], [0.1111111111111111, \"#46039f\"], [0.2222222222222222, \"#7201a8\"], [0.3333333333333333, \"#9c179e\"], [0.4444444444444444, \"#bd3786\"], [0.5555555555555556, \"#d8576b\"], [0.6666666666666666, \"#ed7953\"], [0.7777777777777778, \"#fb9f3a\"], [0.8888888888888888, \"#fdca26\"], [1.0, \"#f0f921\"]], \"type\": \"contour\"}], \"contourcarpet\": [{\"colorbar\": {\"outlinewidth\": 0, \"ticks\": \"\"}, \"type\": \"contourcarpet\"}], \"heatmap\": [{\"colorbar\": {\"outlinewidth\": 0, \"ticks\": \"\"}, \"colorscale\": [[0.0, \"#0d0887\"], [0.1111111111111111, \"#46039f\"], [0.2222222222222222, \"#7201a8\"], [0.3333333333333333, \"#9c179e\"], [0.4444444444444444, \"#bd3786\"], [0.5555555555555556, \"#d8576b\"], [0.6666666666666666, \"#ed7953\"], [0.7777777777777778, \"#fb9f3a\"], [0.8888888888888888, \"#fdca26\"], [1.0, \"#f0f921\"]], \"type\": \"heatmap\"}], \"heatmapgl\": [{\"colorbar\": {\"outlinewidth\": 0, \"ticks\": \"\"}, \"colorscale\": [[0.0, \"#0d0887\"], [0.1111111111111111, \"#46039f\"], [0.2222222222222222, \"#7201a8\"], [0.3333333333333333, \"#9c179e\"], [0.4444444444444444, \"#bd3786\"], [0.5555555555555556, \"#d8576b\"], [0.6666666666666666, \"#ed7953\"], [0.7777777777777778, \"#fb9f3a\"], [0.8888888888888888, \"#fdca26\"], [1.0, \"#f0f921\"]], \"type\": \"heatmapgl\"}], \"histogram\": [{\"marker\": {\"colorbar\": {\"outlinewidth\": 0, \"ticks\": \"\"}}, \"type\": \"histogram\"}], \"histogram2d\": [{\"colorbar\": {\"outlinewidth\": 0, \"ticks\": \"\"}, \"colorscale\": [[0.0, \"#0d0887\"], [0.1111111111111111, \"#46039f\"], [0.2222222222222222, \"#7201a8\"], [0.3333333333333333, \"#9c179e\"], [0.4444444444444444, \"#bd3786\"], [0.5555555555555556, \"#d8576b\"], [0.6666666666666666, \"#ed7953\"], [0.7777777777777778, \"#fb9f3a\"], [0.8888888888888888, \"#fdca26\"], [1.0, \"#f0f921\"]], \"type\": \"histogram2d\"}], \"histogram2dcontour\": [{\"colorbar\": {\"outlinewidth\": 0, \"ticks\": \"\"}, \"colorscale\": [[0.0, \"#0d0887\"], [0.1111111111111111, \"#46039f\"], [0.2222222222222222, \"#7201a8\"], [0.3333333333333333, \"#9c179e\"], [0.4444444444444444, \"#bd3786\"], [0.5555555555555556, \"#d8576b\"], [0.6666666666666666, \"#ed7953\"], [0.7777777777777778, \"#fb9f3a\"], [0.8888888888888888, \"#fdca26\"], [1.0, \"#f0f921\"]], \"type\": \"histogram2dcontour\"}], \"mesh3d\": [{\"colorbar\": {\"outlinewidth\": 0, \"ticks\": \"\"}, \"type\": \"mesh3d\"}], \"parcoords\": [{\"line\": {\"colorbar\": {\"outlinewidth\": 0, \"ticks\": \"\"}}, \"type\": \"parcoords\"}], \"pie\": [{\"automargin\": true, \"type\": \"pie\"}], \"scatter\": [{\"marker\": {\"colorbar\": {\"outlinewidth\": 0, \"ticks\": \"\"}}, \"type\": \"scatter\"}], \"scatter3d\": [{\"line\": {\"colorbar\": {\"outlinewidth\": 0, \"ticks\": \"\"}}, \"marker\": {\"colorbar\": {\"outlinewidth\": 0, \"ticks\": \"\"}}, \"type\": \"scatter3d\"}], \"scattercarpet\": [{\"marker\": {\"colorbar\": {\"outlinewidth\": 0, \"ticks\": \"\"}}, \"type\": \"scattercarpet\"}], \"scattergeo\": [{\"marker\": {\"colorbar\": {\"outlinewidth\": 0, \"ticks\": \"\"}}, \"type\": \"scattergeo\"}], \"scattergl\": [{\"marker\": {\"colorbar\": {\"outlinewidth\": 0, \"ticks\": \"\"}}, \"type\": \"scattergl\"}], \"scattermapbox\": [{\"marker\": {\"colorbar\": {\"outlinewidth\": 0, \"ticks\": \"\"}}, \"type\": \"scattermapbox\"}], \"scatterpolar\": [{\"marker\": {\"colorbar\": {\"outlinewidth\": 0, \"ticks\": \"\"}}, \"type\": \"scatterpolar\"}], \"scatterpolargl\": [{\"marker\": {\"colorbar\": {\"outlinewidth\": 0, \"ticks\": \"\"}}, \"type\": \"scatterpolargl\"}], \"scatterternary\": [{\"marker\": {\"colorbar\": {\"outlinewidth\": 0, \"ticks\": \"\"}}, \"type\": \"scatterternary\"}], \"surface\": [{\"colorbar\": {\"outlinewidth\": 0, \"ticks\": \"\"}, \"colorscale\": [[0.0, \"#0d0887\"], [0.1111111111111111, \"#46039f\"], [0.2222222222222222, \"#7201a8\"], [0.3333333333333333, \"#9c179e\"], [0.4444444444444444, \"#bd3786\"], [0.5555555555555556, \"#d8576b\"], [0.6666666666666666, \"#ed7953\"], [0.7777777777777778, \"#fb9f3a\"], [0.8888888888888888, \"#fdca26\"], [1.0, \"#f0f921\"]], \"type\": \"surface\"}], \"table\": [{\"cells\": {\"fill\": {\"color\": \"#EBF0F8\"}, \"line\": {\"color\": \"white\"}}, \"header\": {\"fill\": {\"color\": \"#C8D4E3\"}, \"line\": {\"color\": \"white\"}}, \"type\": \"table\"}]}, \"layout\": {\"annotationdefaults\": {\"arrowcolor\": \"#2a3f5f\", \"arrowhead\": 0, \"arrowwidth\": 1}, \"coloraxis\": {\"colorbar\": {\"outlinewidth\": 0, \"ticks\": \"\"}}, \"colorscale\": {\"diverging\": [[0, \"#8e0152\"], [0.1, \"#c51b7d\"], [0.2, \"#de77ae\"], [0.3, \"#f1b6da\"], [0.4, \"#fde0ef\"], [0.5, \"#f7f7f7\"], [0.6, \"#e6f5d0\"], [0.7, \"#b8e186\"], [0.8, \"#7fbc41\"], [0.9, \"#4d9221\"], [1, \"#276419\"]], \"sequential\": [[0.0, \"#0d0887\"], [0.1111111111111111, \"#46039f\"], [0.2222222222222222, \"#7201a8\"], [0.3333333333333333, \"#9c179e\"], [0.4444444444444444, \"#bd3786\"], [0.5555555555555556, \"#d8576b\"], [0.6666666666666666, \"#ed7953\"], [0.7777777777777778, \"#fb9f3a\"], [0.8888888888888888, \"#fdca26\"], [1.0, \"#f0f921\"]], \"sequentialminus\": [[0.0, \"#0d0887\"], [0.1111111111111111, \"#46039f\"], [0.2222222222222222, \"#7201a8\"], [0.3333333333333333, \"#9c179e\"], [0.4444444444444444, \"#bd3786\"], [0.5555555555555556, \"#d8576b\"], [0.6666666666666666, \"#ed7953\"], [0.7777777777777778, \"#fb9f3a\"], [0.8888888888888888, \"#fdca26\"], [1.0, \"#f0f921\"]]}, \"colorway\": [\"#636efa\", \"#EF553B\", \"#00cc96\", \"#ab63fa\", \"#FFA15A\", \"#19d3f3\", \"#FF6692\", \"#B6E880\", \"#FF97FF\", \"#FECB52\"], \"font\": {\"color\": \"#2a3f5f\"}, \"geo\": {\"bgcolor\": \"white\", \"lakecolor\": \"white\", \"landcolor\": \"#E5ECF6\", \"showlakes\": true, \"showland\": true, \"subunitcolor\": \"white\"}, \"hoverlabel\": {\"align\": \"left\"}, \"hovermode\": \"closest\", \"mapbox\": {\"style\": \"light\"}, \"paper_bgcolor\": \"white\", \"plot_bgcolor\": \"#E5ECF6\", \"polar\": {\"angularaxis\": {\"gridcolor\": \"white\", \"linecolor\": \"white\", \"ticks\": \"\"}, \"bgcolor\": \"#E5ECF6\", \"radialaxis\": {\"gridcolor\": \"white\", \"linecolor\": \"white\", \"ticks\": \"\"}}, \"scene\": {\"xaxis\": {\"backgroundcolor\": \"#E5ECF6\", \"gridcolor\": \"white\", \"gridwidth\": 2, \"linecolor\": \"white\", \"showbackground\": true, \"ticks\": \"\", \"zerolinecolor\": \"white\"}, \"yaxis\": {\"backgroundcolor\": \"#E5ECF6\", \"gridcolor\": \"white\", \"gridwidth\": 2, \"linecolor\": \"white\", \"showbackground\": true, \"ticks\": \"\", \"zerolinecolor\": \"white\"}, \"zaxis\": {\"backgroundcolor\": \"#E5ECF6\", \"gridcolor\": \"white\", \"gridwidth\": 2, \"linecolor\": \"white\", \"showbackground\": true, \"ticks\": \"\", \"zerolinecolor\": \"white\"}}, \"shapedefaults\": {\"line\": {\"color\": \"#2a3f5f\"}}, \"ternary\": {\"aaxis\": {\"gridcolor\": \"white\", \"linecolor\": \"white\", \"ticks\": \"\"}, \"baxis\": {\"gridcolor\": \"white\", \"linecolor\": \"white\", \"ticks\": \"\"}, \"bgcolor\": \"#E5ECF6\", \"caxis\": {\"gridcolor\": \"white\", \"linecolor\": \"white\", \"ticks\": \"\"}}, \"title\": {\"x\": 0.05}, \"xaxis\": {\"automargin\": true, \"gridcolor\": \"white\", \"linecolor\": \"white\", \"ticks\": \"\", \"title\": {\"standoff\": 15}, \"zerolinecolor\": \"white\", \"zerolinewidth\": 2}, \"yaxis\": {\"automargin\": true, \"gridcolor\": \"white\", \"linecolor\": \"white\", \"ticks\": \"\", \"title\": {\"standoff\": 15}, \"zerolinecolor\": \"white\", \"zerolinewidth\": 2}}}, \"xaxis\": {\"anchor\": \"y\", \"domain\": [0.0, 1.0], \"title\": {\"text\": \"centrifugation\"}}, \"yaxis\": {\"anchor\": \"x\", \"domain\": [0.0, 1.0], \"title\": {\"text\": \"Normalized reads\"}, \"type\": \"log\"}},\n",
       "                        {\"responsive\": true}\n",
       "                    ).then(function(){\n",
       "                            \n",
       "var gd = document.getElementById('5c431496-6334-4920-aa3b-60529379fedd');\n",
       "var x = new MutationObserver(function (mutations, observer) {{\n",
       "        var display = window.getComputedStyle(gd).display;\n",
       "        if (!display || display === 'none') {{\n",
       "            console.log([gd, 'removed!']);\n",
       "            Plotly.purge(gd);\n",
       "            observer.disconnect();\n",
       "        }}\n",
       "}});\n",
       "\n",
       "// Listen for the removal of the full notebook cells\n",
       "var notebookContainer = gd.closest('#notebook-container');\n",
       "if (notebookContainer) {{\n",
       "    x.observe(notebookContainer, {childList: true});\n",
       "}}\n",
       "\n",
       "// Listen for the clearing of the current output cell\n",
       "var outputEl = gd.closest('.output');\n",
       "if (outputEl) {{\n",
       "    x.observe(outputEl, {childList: true});\n",
       "}}\n",
       "\n",
       "                        })\n",
       "                };\n",
       "                });\n",
       "            </script>\n",
       "        </div>"
      ]
     },
     "metadata": {},
     "output_type": "display_data"
    }
   ],
   "source": [
    "fig = px.box(merged_melt, x='centrifugation', y='Normalized reads', color='variable', log_y=True)\n",
    "fig.show()"
   ]
  },
  {
   "cell_type": "code",
   "execution_count": 8,
   "metadata": {},
   "outputs": [
    {
     "data": {
      "text/html": [
       "<div>\n",
       "<style scoped>\n",
       "    .dataframe tbody tr th:only-of-type {\n",
       "        vertical-align: middle;\n",
       "    }\n",
       "\n",
       "    .dataframe tbody tr th {\n",
       "        vertical-align: top;\n",
       "    }\n",
       "\n",
       "    .dataframe thead th {\n",
       "        text-align: right;\n",
       "    }\n",
       "</style>\n",
       "<table border=\"1\" class=\"dataframe\">\n",
       "  <thead>\n",
       "    <tr style=\"text-align: right;\">\n",
       "      <th></th>\n",
       "      <th>Description</th>\n",
       "      <th>Organism</th>\n",
       "      <th>Normalized reads</th>\n",
       "    </tr>\n",
       "  </thead>\n",
       "  <tbody>\n",
       "    <tr>\n",
       "      <th>0</th>\n",
       "      <td>No Spin, Control protocol, Pool 3A</td>\n",
       "      <td>Human</td>\n",
       "      <td>2.070661e+06</td>\n",
       "    </tr>\n",
       "    <tr>\n",
       "      <th>1</th>\n",
       "      <td>No Spin, Control protocol, Pool 3B</td>\n",
       "      <td>Human</td>\n",
       "      <td>2.075589e+06</td>\n",
       "    </tr>\n",
       "    <tr>\n",
       "      <th>2</th>\n",
       "      <td>No Spin, Control protocol, Pool 4A</td>\n",
       "      <td>Human</td>\n",
       "      <td>2.008813e+06</td>\n",
       "    </tr>\n",
       "    <tr>\n",
       "      <th>3</th>\n",
       "      <td>No Spin, Control protocol, Pool 4B</td>\n",
       "      <td>Human</td>\n",
       "      <td>2.084146e+06</td>\n",
       "    </tr>\n",
       "    <tr>\n",
       "      <th>4</th>\n",
       "      <td>No Spin, DNAse1 protocol, Pool 3A</td>\n",
       "      <td>Human</td>\n",
       "      <td>3.310634e+05</td>\n",
       "    </tr>\n",
       "  </tbody>\n",
       "</table>\n",
       "</div>"
      ],
      "text/plain": [
       "                          Description Organism  Normalized reads\n",
       "0  No Spin, Control protocol, Pool 3A    Human      2.070661e+06\n",
       "1  No Spin, Control protocol, Pool 3B    Human      2.075589e+06\n",
       "2  No Spin, Control protocol, Pool 4A    Human      2.008813e+06\n",
       "3  No Spin, Control protocol, Pool 4B    Human      2.084146e+06\n",
       "4   No Spin, DNAse1 protocol, Pool 3A    Human      3.310634e+05"
      ]
     },
     "execution_count": 8,
     "metadata": {},
     "output_type": "execute_result"
    }
   ],
   "source": [
    "merged_melt2 = pd.melt(merged, value_vars=['Human', 'Bacteria', 'Virus', 'Unclassified'], id_vars='Description',\n",
    "                      value_name='Normalized reads', var_name='Organism')\n",
    "merged_melt2.head()"
   ]
  },
  {
   "cell_type": "code",
   "execution_count": 12,
   "metadata": {},
   "outputs": [
    {
     "data": {
      "application/vnd.plotly.v1+json": {
       "config": {
        "plotlyServerURL": "https://plot.ly"
       },
       "data": [
        {
         "alignmentgroup": "True",
         "hoverlabel": {
          "namelength": 0
         },
         "hovertemplate": "Organism=Human<br>Description=%{x}<br>Normalized reads=%{y}",
         "legendgroup": "Organism=Human",
         "marker": {
          "color": "#636efa"
         },
         "name": "Organism=Human",
         "offsetgroup": "Organism=Human",
         "orientation": "v",
         "showlegend": true,
         "textposition": "auto",
         "type": "bar",
         "x": [
          "No Spin, Control protocol, Pool 3A",
          "No Spin, Control protocol, Pool 3B",
          "No Spin, Control protocol, Pool 4A",
          "No Spin, Control protocol, Pool 4B",
          "No Spin, DNAse1 protocol, Pool 3A",
          "No Spin, DNAse1 protocol, Pool 3B",
          "No Spin, DNAse1 protocol, Pool 4A",
          "No Spin, DNAse1 protocol, Pool 4B",
          "200g, pellet, Pool 3A",
          "200g, pellet, Pool 3B",
          "200g, pellet, Pool 4A",
          "200g, pellet, Pool 4B",
          "200g, supernatant, Pool 3A",
          "200g, supernatant, Pool 3B",
          "200g, supernatant, Pool 4A",
          "200g, supernatant, Pool 4B",
          "400g, pellet, Pool 3A",
          "400g, pellet, Pool 3B",
          "400g, pellet, Pool 4A",
          "400g, pellet, Pool 4B",
          "400g, supernatant, Pool 3A",
          "400g, supernatant, Pool 3B",
          "400g, supernatant, Pool 4A",
          "400g, supernatant, Pool 4B",
          "1000g, pellet, Pool 3A",
          "1000g, pellet, Pool 3B",
          "1000g, pellet, Pool 4A",
          "1000g, pellet, Pool 4B",
          "1000g, supernatant, Pool 3A",
          "1000g, supernatant, Pool 3B",
          "1000g, supernatant, Pool 4A",
          "1000g, supernatant, Pool 4B",
          "2000g, pellet, Pool 3A",
          "2000g, pellet, Pool 3B",
          "2000g, pellet, Pool 4A",
          "2000g, pellet, Pool 4B",
          "2000g, supernatant, Pool 3A",
          "2000g, supernatant, Pool 3B",
          "2000g, supernatant, Pool 4A",
          "2000g, supernatant, Pool 4B"
         ],
         "xaxis": "x",
         "y": [
          2070661.047304834,
          2075589.391874197,
          2008812.708757949,
          2084146.4240559519,
          331063.4460811509,
          361228.3666484446,
          729163.3094059016,
          764619.9518040287,
          2090792.202733508,
          2087701.8495201082,
          2199073.6599900736,
          2184055.4345674124,
          1604171.1154067544,
          1833277.4290414809,
          1526789.8640122572,
          1569309.2782487918,
          1908023.1432544643,
          1893260.937369826,
          1991661.7241263988,
          2013434.292868968,
          2152777.8575061453,
          2189786.780495196,
          2019315.903373262,
          1961692.9496662968,
          1571683.447567554,
          1670592.8530455988,
          1910685.3964553697,
          1881107.8154006344,
          2459157.3493070784,
          2446225.586601853,
          2370504.84518828,
          2368646.5043296404,
          1464869.8920759538,
          1782613.5036853012,
          1877922.4951235692,
          1891344.5076521968,
          2594853.882620921,
          2612890.9047782933,
          2579220.35546964,
          2608562.0027901423
         ],
         "yaxis": "y"
        },
        {
         "alignmentgroup": "True",
         "hoverlabel": {
          "namelength": 0
         },
         "hovertemplate": "Organism=Bacteria<br>Description=%{x}<br>Normalized reads=%{y}",
         "legendgroup": "Organism=Bacteria",
         "marker": {
          "color": "#EF553B"
         },
         "name": "Organism=Bacteria",
         "offsetgroup": "Organism=Bacteria",
         "orientation": "v",
         "showlegend": true,
         "textposition": "auto",
         "type": "bar",
         "x": [
          "No Spin, Control protocol, Pool 3A",
          "No Spin, Control protocol, Pool 3B",
          "No Spin, Control protocol, Pool 4A",
          "No Spin, Control protocol, Pool 4B",
          "No Spin, DNAse1 protocol, Pool 3A",
          "No Spin, DNAse1 protocol, Pool 3B",
          "No Spin, DNAse1 protocol, Pool 4A",
          "No Spin, DNAse1 protocol, Pool 4B",
          "200g, pellet, Pool 3A",
          "200g, pellet, Pool 3B",
          "200g, pellet, Pool 4A",
          "200g, pellet, Pool 4B",
          "200g, supernatant, Pool 3A",
          "200g, supernatant, Pool 3B",
          "200g, supernatant, Pool 4A",
          "200g, supernatant, Pool 4B",
          "400g, pellet, Pool 3A",
          "400g, pellet, Pool 3B",
          "400g, pellet, Pool 4A",
          "400g, pellet, Pool 4B",
          "400g, supernatant, Pool 3A",
          "400g, supernatant, Pool 3B",
          "400g, supernatant, Pool 4A",
          "400g, supernatant, Pool 4B",
          "1000g, pellet, Pool 3A",
          "1000g, pellet, Pool 3B",
          "1000g, pellet, Pool 4A",
          "1000g, pellet, Pool 4B",
          "1000g, supernatant, Pool 3A",
          "1000g, supernatant, Pool 3B",
          "1000g, supernatant, Pool 4A",
          "1000g, supernatant, Pool 4B",
          "2000g, pellet, Pool 3A",
          "2000g, pellet, Pool 3B",
          "2000g, pellet, Pool 4A",
          "2000g, pellet, Pool 4B",
          "2000g, supernatant, Pool 3A",
          "2000g, supernatant, Pool 3B",
          "2000g, supernatant, Pool 4A",
          "2000g, supernatant, Pool 4B"
         ],
         "xaxis": "x",
         "y": [
          5706.148819802114,
          5263.44007307985,
          6117.34386652511,
          5733.890627264474,
          13895.252412731079,
          14207.807650632943,
          10916.875097907094,
          11319.274791736409,
          4936.462467211776,
          5343.584483854961,
          4180.981794139259,
          4352.405464264502,
          9139.212042650588,
          7091.8587378408165,
          10191.364519128509,
          9942.659931428729,
          6779.332114503945,
          6757.859324985214,
          5825.258621689893,
          5401.686048320887,
          4414.40024431323,
          4137.952653880115,
          6210.19217111922,
          6870.142594493736,
          9171.031297436955,
          8531.799475381593,
          6742.142877218157,
          6596.748891979093,
          2055.877425611548,
          2148.448948927147,
          3418.6876673763713,
          3213.079686576967,
          9738.683198189,
          8007.751220289989,
          6631.456531481888,
          6895.492134506422,
          976.009728035125,
          1002.8416754257863,
          1215.885934508382,
          1386.5161598458428
         ],
         "yaxis": "y"
        },
        {
         "alignmentgroup": "True",
         "hoverlabel": {
          "namelength": 0
         },
         "hovertemplate": "Organism=Virus<br>Description=%{x}<br>Normalized reads=%{y}",
         "legendgroup": "Organism=Virus",
         "marker": {
          "color": "#00cc96"
         },
         "name": "Organism=Virus",
         "offsetgroup": "Organism=Virus",
         "orientation": "v",
         "showlegend": true,
         "textposition": "auto",
         "type": "bar",
         "x": [
          "No Spin, Control protocol, Pool 3A",
          "No Spin, Control protocol, Pool 3B",
          "No Spin, Control protocol, Pool 4A",
          "No Spin, Control protocol, Pool 4B",
          "No Spin, DNAse1 protocol, Pool 3A",
          "No Spin, DNAse1 protocol, Pool 3B",
          "No Spin, DNAse1 protocol, Pool 4A",
          "No Spin, DNAse1 protocol, Pool 4B",
          "200g, pellet, Pool 3A",
          "200g, pellet, Pool 3B",
          "200g, pellet, Pool 4A",
          "200g, pellet, Pool 4B",
          "200g, supernatant, Pool 3A",
          "200g, supernatant, Pool 3B",
          "200g, supernatant, Pool 4A",
          "200g, supernatant, Pool 4B",
          "400g, pellet, Pool 3A",
          "400g, pellet, Pool 3B",
          "400g, pellet, Pool 4A",
          "400g, pellet, Pool 4B",
          "400g, supernatant, Pool 3A",
          "400g, supernatant, Pool 3B",
          "400g, supernatant, Pool 4A",
          "400g, supernatant, Pool 4B",
          "1000g, pellet, Pool 3A",
          "1000g, pellet, Pool 3B",
          "1000g, pellet, Pool 4A",
          "1000g, pellet, Pool 4B",
          "1000g, supernatant, Pool 3A",
          "1000g, supernatant, Pool 3B",
          "1000g, supernatant, Pool 4A",
          "1000g, supernatant, Pool 4B",
          "2000g, pellet, Pool 3A",
          "2000g, pellet, Pool 3B",
          "2000g, pellet, Pool 4A",
          "2000g, pellet, Pool 4B",
          "2000g, supernatant, Pool 3A",
          "2000g, supernatant, Pool 3B",
          "2000g, supernatant, Pool 4A",
          "2000g, supernatant, Pool 4B"
         ],
         "xaxis": "x",
         "y": [
          246843.9835685853,
          240605.1976599601,
          274734.7954327662,
          262888.7088324023,
          642079.9622921568,
          638052.9806550565,
          616490.5150981171,
          617317.21083109,
          226679.3035744513,
          233951.78837805754,
          219620.80038442585,
          224883.78538903187,
          371408.4906250557,
          304311.01953455684,
          425280.45730189845,
          420189.113687032,
          287602.7246363329,
          281523.537524193,
          272715.60793927807,
          265374.15512213146,
          235714.0478959556,
          220440.02319761337,
          298440.2755970825,
          309934.1120896193,
          361265.1560136657,
          337676.1762259481,
          296382.70613509737,
          309269.6994814393,
          170172.0846569537,
          171924.31651627526,
          217022.24813620103,
          205240.9668288821,
          388188.1258063891,
          314449.69936375186,
          307832.75575340004,
          308184.1726292621,
          136242.94249487418,
          142048.88983973136,
          144093.25691208072,
          147354.21741340394
         ],
         "yaxis": "y"
        },
        {
         "alignmentgroup": "True",
         "hoverlabel": {
          "namelength": 0
         },
         "hovertemplate": "Organism=Unclassified<br>Description=%{x}<br>Normalized reads=%{y}",
         "legendgroup": "Organism=Unclassified",
         "marker": {
          "color": "#ab63fa"
         },
         "name": "Organism=Unclassified",
         "offsetgroup": "Organism=Unclassified",
         "orientation": "v",
         "showlegend": true,
         "textposition": "auto",
         "type": "bar",
         "x": [
          "No Spin, Control protocol, Pool 3A",
          "No Spin, Control protocol, Pool 3B",
          "No Spin, Control protocol, Pool 4A",
          "No Spin, Control protocol, Pool 4B",
          "No Spin, DNAse1 protocol, Pool 3A",
          "No Spin, DNAse1 protocol, Pool 3B",
          "No Spin, DNAse1 protocol, Pool 4A",
          "No Spin, DNAse1 protocol, Pool 4B",
          "200g, pellet, Pool 3A",
          "200g, pellet, Pool 3B",
          "200g, pellet, Pool 4A",
          "200g, pellet, Pool 4B",
          "200g, supernatant, Pool 3A",
          "200g, supernatant, Pool 3B",
          "200g, supernatant, Pool 4A",
          "200g, supernatant, Pool 4B",
          "400g, pellet, Pool 3A",
          "400g, pellet, Pool 3B",
          "400g, pellet, Pool 4A",
          "400g, pellet, Pool 4B",
          "400g, supernatant, Pool 3A",
          "400g, supernatant, Pool 3B",
          "400g, supernatant, Pool 4A",
          "400g, supernatant, Pool 4B",
          "1000g, pellet, Pool 3A",
          "1000g, pellet, Pool 3B",
          "1000g, pellet, Pool 4A",
          "1000g, pellet, Pool 4B",
          "1000g, supernatant, Pool 3A",
          "1000g, supernatant, Pool 3B",
          "1000g, supernatant, Pool 4A",
          "1000g, supernatant, Pool 4B",
          "2000g, pellet, Pool 3A",
          "2000g, pellet, Pool 3B",
          "2000g, pellet, Pool 4A",
          "2000g, pellet, Pool 4B",
          "2000g, supernatant, Pool 3A",
          "2000g, supernatant, Pool 3B",
          "2000g, supernatant, Pool 4A",
          "2000g, supernatant, Pool 4B"
         ],
         "xaxis": "x",
         "y": [
          7676542.2229205975,
          7678299.676873238,
          7710071.885970413,
          7646967.793010058,
          9012862.531783056,
          8986386.067243095,
          8643346.852319751,
          8606660.561474763,
          7677333.078196455,
          7672790.510876825,
          7576840.447491324,
          7586489.803999208,
          8015113.425834508,
          7855105.659111601,
          8037561.516017162,
          8000367.408274174,
          7797377.241199434,
          7818288.977494229,
          7729585.8299133675,
          7715574.720570318,
          7606835.3744433215,
          7585392.295675526,
          7675803.7368021775,
          7721271.58892766,
          8057654.491056748,
          7982995.013951846,
          7785975.016492197,
          7802799.679410335,
          7368374.928106298,
          7379397.799708627,
          7408769.578054243,
          7422647.936067888,
          8136999.418601292,
          7894729.73598531,
          7807387.714357076,
          7793299.208034897,
          7267674.9114341885,
          7243743.430660329,
          7275193.464382238,
          7242390.4600608125
         ],
         "yaxis": "y"
        }
       ],
       "layout": {
        "autosize": true,
        "barmode": "stack",
        "legend": {
         "tracegroupgap": 0
        },
        "margin": {
         "t": 60
        },
        "template": {
         "data": {
          "bar": [
           {
            "error_x": {
             "color": "#2a3f5f"
            },
            "error_y": {
             "color": "#2a3f5f"
            },
            "marker": {
             "line": {
              "color": "#E5ECF6",
              "width": 0.5
             }
            },
            "type": "bar"
           }
          ],
          "barpolar": [
           {
            "marker": {
             "line": {
              "color": "#E5ECF6",
              "width": 0.5
             }
            },
            "type": "barpolar"
           }
          ],
          "carpet": [
           {
            "aaxis": {
             "endlinecolor": "#2a3f5f",
             "gridcolor": "white",
             "linecolor": "white",
             "minorgridcolor": "white",
             "startlinecolor": "#2a3f5f"
            },
            "baxis": {
             "endlinecolor": "#2a3f5f",
             "gridcolor": "white",
             "linecolor": "white",
             "minorgridcolor": "white",
             "startlinecolor": "#2a3f5f"
            },
            "type": "carpet"
           }
          ],
          "choropleth": [
           {
            "colorbar": {
             "outlinewidth": 0,
             "ticks": ""
            },
            "type": "choropleth"
           }
          ],
          "contour": [
           {
            "colorbar": {
             "outlinewidth": 0,
             "ticks": ""
            },
            "colorscale": [
             [
              0,
              "#0d0887"
             ],
             [
              0.1111111111111111,
              "#46039f"
             ],
             [
              0.2222222222222222,
              "#7201a8"
             ],
             [
              0.3333333333333333,
              "#9c179e"
             ],
             [
              0.4444444444444444,
              "#bd3786"
             ],
             [
              0.5555555555555556,
              "#d8576b"
             ],
             [
              0.6666666666666666,
              "#ed7953"
             ],
             [
              0.7777777777777778,
              "#fb9f3a"
             ],
             [
              0.8888888888888888,
              "#fdca26"
             ],
             [
              1,
              "#f0f921"
             ]
            ],
            "type": "contour"
           }
          ],
          "contourcarpet": [
           {
            "colorbar": {
             "outlinewidth": 0,
             "ticks": ""
            },
            "type": "contourcarpet"
           }
          ],
          "heatmap": [
           {
            "colorbar": {
             "outlinewidth": 0,
             "ticks": ""
            },
            "colorscale": [
             [
              0,
              "#0d0887"
             ],
             [
              0.1111111111111111,
              "#46039f"
             ],
             [
              0.2222222222222222,
              "#7201a8"
             ],
             [
              0.3333333333333333,
              "#9c179e"
             ],
             [
              0.4444444444444444,
              "#bd3786"
             ],
             [
              0.5555555555555556,
              "#d8576b"
             ],
             [
              0.6666666666666666,
              "#ed7953"
             ],
             [
              0.7777777777777778,
              "#fb9f3a"
             ],
             [
              0.8888888888888888,
              "#fdca26"
             ],
             [
              1,
              "#f0f921"
             ]
            ],
            "type": "heatmap"
           }
          ],
          "heatmapgl": [
           {
            "colorbar": {
             "outlinewidth": 0,
             "ticks": ""
            },
            "colorscale": [
             [
              0,
              "#0d0887"
             ],
             [
              0.1111111111111111,
              "#46039f"
             ],
             [
              0.2222222222222222,
              "#7201a8"
             ],
             [
              0.3333333333333333,
              "#9c179e"
             ],
             [
              0.4444444444444444,
              "#bd3786"
             ],
             [
              0.5555555555555556,
              "#d8576b"
             ],
             [
              0.6666666666666666,
              "#ed7953"
             ],
             [
              0.7777777777777778,
              "#fb9f3a"
             ],
             [
              0.8888888888888888,
              "#fdca26"
             ],
             [
              1,
              "#f0f921"
             ]
            ],
            "type": "heatmapgl"
           }
          ],
          "histogram": [
           {
            "marker": {
             "colorbar": {
              "outlinewidth": 0,
              "ticks": ""
             }
            },
            "type": "histogram"
           }
          ],
          "histogram2d": [
           {
            "colorbar": {
             "outlinewidth": 0,
             "ticks": ""
            },
            "colorscale": [
             [
              0,
              "#0d0887"
             ],
             [
              0.1111111111111111,
              "#46039f"
             ],
             [
              0.2222222222222222,
              "#7201a8"
             ],
             [
              0.3333333333333333,
              "#9c179e"
             ],
             [
              0.4444444444444444,
              "#bd3786"
             ],
             [
              0.5555555555555556,
              "#d8576b"
             ],
             [
              0.6666666666666666,
              "#ed7953"
             ],
             [
              0.7777777777777778,
              "#fb9f3a"
             ],
             [
              0.8888888888888888,
              "#fdca26"
             ],
             [
              1,
              "#f0f921"
             ]
            ],
            "type": "histogram2d"
           }
          ],
          "histogram2dcontour": [
           {
            "colorbar": {
             "outlinewidth": 0,
             "ticks": ""
            },
            "colorscale": [
             [
              0,
              "#0d0887"
             ],
             [
              0.1111111111111111,
              "#46039f"
             ],
             [
              0.2222222222222222,
              "#7201a8"
             ],
             [
              0.3333333333333333,
              "#9c179e"
             ],
             [
              0.4444444444444444,
              "#bd3786"
             ],
             [
              0.5555555555555556,
              "#d8576b"
             ],
             [
              0.6666666666666666,
              "#ed7953"
             ],
             [
              0.7777777777777778,
              "#fb9f3a"
             ],
             [
              0.8888888888888888,
              "#fdca26"
             ],
             [
              1,
              "#f0f921"
             ]
            ],
            "type": "histogram2dcontour"
           }
          ],
          "mesh3d": [
           {
            "colorbar": {
             "outlinewidth": 0,
             "ticks": ""
            },
            "type": "mesh3d"
           }
          ],
          "parcoords": [
           {
            "line": {
             "colorbar": {
              "outlinewidth": 0,
              "ticks": ""
             }
            },
            "type": "parcoords"
           }
          ],
          "pie": [
           {
            "automargin": true,
            "type": "pie"
           }
          ],
          "scatter": [
           {
            "marker": {
             "colorbar": {
              "outlinewidth": 0,
              "ticks": ""
             }
            },
            "type": "scatter"
           }
          ],
          "scatter3d": [
           {
            "line": {
             "colorbar": {
              "outlinewidth": 0,
              "ticks": ""
             }
            },
            "marker": {
             "colorbar": {
              "outlinewidth": 0,
              "ticks": ""
             }
            },
            "type": "scatter3d"
           }
          ],
          "scattercarpet": [
           {
            "marker": {
             "colorbar": {
              "outlinewidth": 0,
              "ticks": ""
             }
            },
            "type": "scattercarpet"
           }
          ],
          "scattergeo": [
           {
            "marker": {
             "colorbar": {
              "outlinewidth": 0,
              "ticks": ""
             }
            },
            "type": "scattergeo"
           }
          ],
          "scattergl": [
           {
            "marker": {
             "colorbar": {
              "outlinewidth": 0,
              "ticks": ""
             }
            },
            "type": "scattergl"
           }
          ],
          "scattermapbox": [
           {
            "marker": {
             "colorbar": {
              "outlinewidth": 0,
              "ticks": ""
             }
            },
            "type": "scattermapbox"
           }
          ],
          "scatterpolar": [
           {
            "marker": {
             "colorbar": {
              "outlinewidth": 0,
              "ticks": ""
             }
            },
            "type": "scatterpolar"
           }
          ],
          "scatterpolargl": [
           {
            "marker": {
             "colorbar": {
              "outlinewidth": 0,
              "ticks": ""
             }
            },
            "type": "scatterpolargl"
           }
          ],
          "scatterternary": [
           {
            "marker": {
             "colorbar": {
              "outlinewidth": 0,
              "ticks": ""
             }
            },
            "type": "scatterternary"
           }
          ],
          "surface": [
           {
            "colorbar": {
             "outlinewidth": 0,
             "ticks": ""
            },
            "colorscale": [
             [
              0,
              "#0d0887"
             ],
             [
              0.1111111111111111,
              "#46039f"
             ],
             [
              0.2222222222222222,
              "#7201a8"
             ],
             [
              0.3333333333333333,
              "#9c179e"
             ],
             [
              0.4444444444444444,
              "#bd3786"
             ],
             [
              0.5555555555555556,
              "#d8576b"
             ],
             [
              0.6666666666666666,
              "#ed7953"
             ],
             [
              0.7777777777777778,
              "#fb9f3a"
             ],
             [
              0.8888888888888888,
              "#fdca26"
             ],
             [
              1,
              "#f0f921"
             ]
            ],
            "type": "surface"
           }
          ],
          "table": [
           {
            "cells": {
             "fill": {
              "color": "#EBF0F8"
             },
             "line": {
              "color": "white"
             }
            },
            "header": {
             "fill": {
              "color": "#C8D4E3"
             },
             "line": {
              "color": "white"
             }
            },
            "type": "table"
           }
          ]
         },
         "layout": {
          "annotationdefaults": {
           "arrowcolor": "#2a3f5f",
           "arrowhead": 0,
           "arrowwidth": 1
          },
          "coloraxis": {
           "colorbar": {
            "outlinewidth": 0,
            "ticks": ""
           }
          },
          "colorscale": {
           "diverging": [
            [
             0,
             "#8e0152"
            ],
            [
             0.1,
             "#c51b7d"
            ],
            [
             0.2,
             "#de77ae"
            ],
            [
             0.3,
             "#f1b6da"
            ],
            [
             0.4,
             "#fde0ef"
            ],
            [
             0.5,
             "#f7f7f7"
            ],
            [
             0.6,
             "#e6f5d0"
            ],
            [
             0.7,
             "#b8e186"
            ],
            [
             0.8,
             "#7fbc41"
            ],
            [
             0.9,
             "#4d9221"
            ],
            [
             1,
             "#276419"
            ]
           ],
           "sequential": [
            [
             0,
             "#0d0887"
            ],
            [
             0.1111111111111111,
             "#46039f"
            ],
            [
             0.2222222222222222,
             "#7201a8"
            ],
            [
             0.3333333333333333,
             "#9c179e"
            ],
            [
             0.4444444444444444,
             "#bd3786"
            ],
            [
             0.5555555555555556,
             "#d8576b"
            ],
            [
             0.6666666666666666,
             "#ed7953"
            ],
            [
             0.7777777777777778,
             "#fb9f3a"
            ],
            [
             0.8888888888888888,
             "#fdca26"
            ],
            [
             1,
             "#f0f921"
            ]
           ],
           "sequentialminus": [
            [
             0,
             "#0d0887"
            ],
            [
             0.1111111111111111,
             "#46039f"
            ],
            [
             0.2222222222222222,
             "#7201a8"
            ],
            [
             0.3333333333333333,
             "#9c179e"
            ],
            [
             0.4444444444444444,
             "#bd3786"
            ],
            [
             0.5555555555555556,
             "#d8576b"
            ],
            [
             0.6666666666666666,
             "#ed7953"
            ],
            [
             0.7777777777777778,
             "#fb9f3a"
            ],
            [
             0.8888888888888888,
             "#fdca26"
            ],
            [
             1,
             "#f0f921"
            ]
           ]
          },
          "colorway": [
           "#636efa",
           "#EF553B",
           "#00cc96",
           "#ab63fa",
           "#FFA15A",
           "#19d3f3",
           "#FF6692",
           "#B6E880",
           "#FF97FF",
           "#FECB52"
          ],
          "font": {
           "color": "#2a3f5f"
          },
          "geo": {
           "bgcolor": "white",
           "lakecolor": "white",
           "landcolor": "#E5ECF6",
           "showlakes": true,
           "showland": true,
           "subunitcolor": "white"
          },
          "hoverlabel": {
           "align": "left"
          },
          "hovermode": "closest",
          "mapbox": {
           "style": "light"
          },
          "paper_bgcolor": "white",
          "plot_bgcolor": "#E5ECF6",
          "polar": {
           "angularaxis": {
            "gridcolor": "white",
            "linecolor": "white",
            "ticks": ""
           },
           "bgcolor": "#E5ECF6",
           "radialaxis": {
            "gridcolor": "white",
            "linecolor": "white",
            "ticks": ""
           }
          },
          "scene": {
           "xaxis": {
            "backgroundcolor": "#E5ECF6",
            "gridcolor": "white",
            "gridwidth": 2,
            "linecolor": "white",
            "showbackground": true,
            "ticks": "",
            "zerolinecolor": "white"
           },
           "yaxis": {
            "backgroundcolor": "#E5ECF6",
            "gridcolor": "white",
            "gridwidth": 2,
            "linecolor": "white",
            "showbackground": true,
            "ticks": "",
            "zerolinecolor": "white"
           },
           "zaxis": {
            "backgroundcolor": "#E5ECF6",
            "gridcolor": "white",
            "gridwidth": 2,
            "linecolor": "white",
            "showbackground": true,
            "ticks": "",
            "zerolinecolor": "white"
           }
          },
          "shapedefaults": {
           "line": {
            "color": "#2a3f5f"
           }
          },
          "ternary": {
           "aaxis": {
            "gridcolor": "white",
            "linecolor": "white",
            "ticks": ""
           },
           "baxis": {
            "gridcolor": "white",
            "linecolor": "white",
            "ticks": ""
           },
           "bgcolor": "#E5ECF6",
           "caxis": {
            "gridcolor": "white",
            "linecolor": "white",
            "ticks": ""
           }
          },
          "title": {
           "x": 0.05
          },
          "xaxis": {
           "automargin": true,
           "gridcolor": "white",
           "linecolor": "white",
           "ticks": "",
           "title": {
            "standoff": 15
           },
           "zerolinecolor": "white",
           "zerolinewidth": 2
          },
          "yaxis": {
           "automargin": true,
           "gridcolor": "white",
           "linecolor": "white",
           "ticks": "",
           "title": {
            "standoff": 15
           },
           "zerolinecolor": "white",
           "zerolinewidth": 2
          }
         }
        },
        "xaxis": {
         "anchor": "y",
         "autorange": true,
         "domain": [
          0,
          1
         ],
         "range": [
          -0.5,
          39.5
         ],
         "title": {},
         "type": "category"
        },
        "yaxis": {
         "anchor": "x",
         "domain": [
          0,
          1
         ],
         "range": [
          0,
          3000000
         ],
         "title": {
          "text": "Normalized reads"
         },
         "type": "linear"
        }
       }
      },
      "image/png": "[encoded data removed]",
      "text/html": [
       "<div>\n",
       "        \n",
       "        \n",
       "            <div id=\"a9162036-4b61-41c8-9b6e-f3aa899d3938\" class=\"plotly-graph-div\" style=\"height:700px; width:100%;\"></div>\n",
       "            <script type=\"text/javascript\">\n",
       "                require([\"plotly\"], function(Plotly) {\n",
       "                    window.PLOTLYENV=window.PLOTLYENV || {};\n",
       "                    \n",
       "                if (document.getElementById(\"a9162036-4b61-41c8-9b6e-f3aa899d3938\")) {\n",
       "                    Plotly.newPlot(\n",
       "                        'a9162036-4b61-41c8-9b6e-f3aa899d3938',\n",
       "                        [{\"alignmentgroup\": \"True\", \"hoverlabel\": {\"namelength\": 0}, \"hovertemplate\": \"Organism=Human<br>Description=%{x}<br>Normalized reads=%{y}\", \"legendgroup\": \"Organism=Human\", \"marker\": {\"color\": \"#636efa\"}, \"name\": \"Organism=Human\", \"offsetgroup\": \"Organism=Human\", \"orientation\": \"v\", \"showlegend\": true, \"textposition\": \"auto\", \"type\": \"bar\", \"x\": [\"No Spin, Control protocol, Pool 3A\", \"No Spin, Control protocol, Pool 3B\", \"No Spin, Control protocol, Pool 4A\", \"No Spin, Control protocol, Pool 4B\", \"No Spin, DNAse1 protocol, Pool 3A\", \"No Spin, DNAse1 protocol, Pool 3B\", \"No Spin, DNAse1 protocol, Pool 4A\", \"No Spin, DNAse1 protocol, Pool 4B\", \"200g, pellet, Pool 3A\", \"200g, pellet, Pool 3B\", \"200g, pellet, Pool 4A\", \"200g, pellet, Pool 4B\", \"200g, supernatant, Pool 3A\", \"200g, supernatant, Pool 3B\", \"200g, supernatant, Pool 4A\", \"200g, supernatant, Pool 4B\", \"400g, pellet, Pool 3A\", \"400g, pellet, Pool 3B\", \"400g, pellet, Pool 4A\", \"400g, pellet, Pool 4B\", \"400g, supernatant, Pool 3A\", \"400g, supernatant, Pool 3B\", \"400g, supernatant, Pool 4A\", \"400g, supernatant, Pool 4B\", \"1000g, pellet, Pool 3A\", \"1000g, pellet, Pool 3B\", \"1000g, pellet, Pool 4A\", \"1000g, pellet, Pool 4B\", \"1000g, supernatant, Pool 3A\", \"1000g, supernatant, Pool 3B\", \"1000g, supernatant, Pool 4A\", \"1000g, supernatant, Pool 4B\", \"2000g, pellet, Pool 3A\", \"2000g, pellet, Pool 3B\", \"2000g, pellet, Pool 4A\", \"2000g, pellet, Pool 4B\", \"2000g, supernatant, Pool 3A\", \"2000g, supernatant, Pool 3B\", \"2000g, supernatant, Pool 4A\", \"2000g, supernatant, Pool 4B\"], \"xaxis\": \"x\", \"y\": [2070661.047304834, 2075589.391874197, 2008812.708757949, 2084146.4240559519, 331063.4460811509, 361228.3666484446, 729163.3094059016, 764619.9518040287, 2090792.202733508, 2087701.8495201082, 2199073.6599900736, 2184055.4345674124, 1604171.1154067544, 1833277.4290414809, 1526789.8640122572, 1569309.2782487918, 1908023.1432544643, 1893260.937369826, 1991661.7241263988, 2013434.292868968, 2152777.8575061453, 2189786.780495196, 2019315.903373262, 1961692.9496662968, 1571683.447567554, 1670592.8530455988, 1910685.3964553697, 1881107.8154006344, 2459157.3493070784, 2446225.586601853, 2370504.84518828, 2368646.5043296404, 1464869.8920759538, 1782613.5036853012, 1877922.4951235692, 1891344.5076521968, 2594853.882620921, 2612890.9047782933, 2579220.35546964, 2608562.0027901423], \"yaxis\": \"y\"}, {\"alignmentgroup\": \"True\", \"hoverlabel\": {\"namelength\": 0}, \"hovertemplate\": \"Organism=Bacteria<br>Description=%{x}<br>Normalized reads=%{y}\", \"legendgroup\": \"Organism=Bacteria\", \"marker\": {\"color\": \"#EF553B\"}, \"name\": \"Organism=Bacteria\", \"offsetgroup\": \"Organism=Bacteria\", \"orientation\": \"v\", \"showlegend\": true, \"textposition\": \"auto\", \"type\": \"bar\", \"x\": [\"No Spin, Control protocol, Pool 3A\", \"No Spin, Control protocol, Pool 3B\", \"No Spin, Control protocol, Pool 4A\", \"No Spin, Control protocol, Pool 4B\", \"No Spin, DNAse1 protocol, Pool 3A\", \"No Spin, DNAse1 protocol, Pool 3B\", \"No Spin, DNAse1 protocol, Pool 4A\", \"No Spin, DNAse1 protocol, Pool 4B\", \"200g, pellet, Pool 3A\", \"200g, pellet, Pool 3B\", \"200g, pellet, Pool 4A\", \"200g, pellet, Pool 4B\", \"200g, supernatant, Pool 3A\", \"200g, supernatant, Pool 3B\", \"200g, supernatant, Pool 4A\", \"200g, supernatant, Pool 4B\", \"400g, pellet, Pool 3A\", \"400g, pellet, Pool 3B\", \"400g, pellet, Pool 4A\", \"400g, pellet, Pool 4B\", \"400g, supernatant, Pool 3A\", \"400g, supernatant, Pool 3B\", \"400g, supernatant, Pool 4A\", \"400g, supernatant, Pool 4B\", \"1000g, pellet, Pool 3A\", \"1000g, pellet, Pool 3B\", \"1000g, pellet, Pool 4A\", \"1000g, pellet, Pool 4B\", \"1000g, supernatant, Pool 3A\", \"1000g, supernatant, Pool 3B\", \"1000g, supernatant, Pool 4A\", \"1000g, supernatant, Pool 4B\", \"2000g, pellet, Pool 3A\", \"2000g, pellet, Pool 3B\", \"2000g, pellet, Pool 4A\", \"2000g, pellet, Pool 4B\", \"2000g, supernatant, Pool 3A\", \"2000g, supernatant, Pool 3B\", \"2000g, supernatant, Pool 4A\", \"2000g, supernatant, Pool 4B\"], \"xaxis\": \"x\", \"y\": [5706.148819802114, 5263.44007307985, 6117.34386652511, 5733.890627264474, 13895.252412731079, 14207.807650632943, 10916.875097907094, 11319.274791736409, 4936.462467211776, 5343.584483854961, 4180.981794139259, 4352.405464264502, 9139.212042650588, 7091.8587378408165, 10191.364519128509, 9942.659931428729, 6779.332114503945, 6757.859324985214, 5825.258621689893, 5401.686048320887, 4414.40024431323, 4137.952653880115, 6210.19217111922, 6870.142594493736, 9171.031297436955, 8531.799475381593, 6742.142877218157, 6596.748891979093, 2055.877425611548, 2148.448948927147, 3418.6876673763713, 3213.079686576967, 9738.683198189, 8007.751220289989, 6631.456531481888, 6895.492134506422, 976.009728035125, 1002.8416754257863, 1215.885934508382, 1386.5161598458428], \"yaxis\": \"y\"}, {\"alignmentgroup\": \"True\", \"hoverlabel\": {\"namelength\": 0}, \"hovertemplate\": \"Organism=Virus<br>Description=%{x}<br>Normalized reads=%{y}\", \"legendgroup\": \"Organism=Virus\", \"marker\": {\"color\": \"#00cc96\"}, \"name\": \"Organism=Virus\", \"offsetgroup\": \"Organism=Virus\", \"orientation\": \"v\", \"showlegend\": true, \"textposition\": \"auto\", \"type\": \"bar\", \"x\": [\"No Spin, Control protocol, Pool 3A\", \"No Spin, Control protocol, Pool 3B\", \"No Spin, Control protocol, Pool 4A\", \"No Spin, Control protocol, Pool 4B\", \"No Spin, DNAse1 protocol, Pool 3A\", \"No Spin, DNAse1 protocol, Pool 3B\", \"No Spin, DNAse1 protocol, Pool 4A\", \"No Spin, DNAse1 protocol, Pool 4B\", \"200g, pellet, Pool 3A\", \"200g, pellet, Pool 3B\", \"200g, pellet, Pool 4A\", \"200g, pellet, Pool 4B\", \"200g, supernatant, Pool 3A\", \"200g, supernatant, Pool 3B\", \"200g, supernatant, Pool 4A\", \"200g, supernatant, Pool 4B\", \"400g, pellet, Pool 3A\", \"400g, pellet, Pool 3B\", \"400g, pellet, Pool 4A\", \"400g, pellet, Pool 4B\", \"400g, supernatant, Pool 3A\", \"400g, supernatant, Pool 3B\", \"400g, supernatant, Pool 4A\", \"400g, supernatant, Pool 4B\", \"1000g, pellet, Pool 3A\", \"1000g, pellet, Pool 3B\", \"1000g, pellet, Pool 4A\", \"1000g, pellet, Pool 4B\", \"1000g, supernatant, Pool 3A\", \"1000g, supernatant, Pool 3B\", \"1000g, supernatant, Pool 4A\", \"1000g, supernatant, Pool 4B\", \"2000g, pellet, Pool 3A\", \"2000g, pellet, Pool 3B\", \"2000g, pellet, Pool 4A\", \"2000g, pellet, Pool 4B\", \"2000g, supernatant, Pool 3A\", \"2000g, supernatant, Pool 3B\", \"2000g, supernatant, Pool 4A\", \"2000g, supernatant, Pool 4B\"], \"xaxis\": \"x\", \"y\": [246843.9835685853, 240605.1976599601, 274734.7954327662, 262888.7088324023, 642079.9622921568, 638052.9806550565, 616490.5150981171, 617317.21083109, 226679.3035744513, 233951.78837805754, 219620.80038442585, 224883.78538903187, 371408.4906250557, 304311.01953455684, 425280.45730189845, 420189.113687032, 287602.7246363329, 281523.537524193, 272715.60793927807, 265374.15512213146, 235714.0478959556, 220440.02319761337, 298440.2755970825, 309934.1120896193, 361265.1560136657, 337676.1762259481, 296382.70613509737, 309269.6994814393, 170172.0846569537, 171924.31651627526, 217022.24813620103, 205240.9668288821, 388188.1258063891, 314449.69936375186, 307832.75575340004, 308184.1726292621, 136242.94249487418, 142048.88983973136, 144093.25691208072, 147354.21741340394], \"yaxis\": \"y\"}, {\"alignmentgroup\": \"True\", \"hoverlabel\": {\"namelength\": 0}, \"hovertemplate\": \"Organism=Unclassified<br>Description=%{x}<br>Normalized reads=%{y}\", \"legendgroup\": \"Organism=Unclassified\", \"marker\": {\"color\": \"#ab63fa\"}, \"name\": \"Organism=Unclassified\", \"offsetgroup\": \"Organism=Unclassified\", \"orientation\": \"v\", \"showlegend\": true, \"textposition\": \"auto\", \"type\": \"bar\", \"x\": [\"No Spin, Control protocol, Pool 3A\", \"No Spin, Control protocol, Pool 3B\", \"No Spin, Control protocol, Pool 4A\", \"No Spin, Control protocol, Pool 4B\", \"No Spin, DNAse1 protocol, Pool 3A\", \"No Spin, DNAse1 protocol, Pool 3B\", \"No Spin, DNAse1 protocol, Pool 4A\", \"No Spin, DNAse1 protocol, Pool 4B\", \"200g, pellet, Pool 3A\", \"200g, pellet, Pool 3B\", \"200g, pellet, Pool 4A\", \"200g, pellet, Pool 4B\", \"200g, supernatant, Pool 3A\", \"200g, supernatant, Pool 3B\", \"200g, supernatant, Pool 4A\", \"200g, supernatant, Pool 4B\", \"400g, pellet, Pool 3A\", \"400g, pellet, Pool 3B\", \"400g, pellet, Pool 4A\", \"400g, pellet, Pool 4B\", \"400g, supernatant, Pool 3A\", \"400g, supernatant, Pool 3B\", \"400g, supernatant, Pool 4A\", \"400g, supernatant, Pool 4B\", \"1000g, pellet, Pool 3A\", \"1000g, pellet, Pool 3B\", \"1000g, pellet, Pool 4A\", \"1000g, pellet, Pool 4B\", \"1000g, supernatant, Pool 3A\", \"1000g, supernatant, Pool 3B\", \"1000g, supernatant, Pool 4A\", \"1000g, supernatant, Pool 4B\", \"2000g, pellet, Pool 3A\", \"2000g, pellet, Pool 3B\", \"2000g, pellet, Pool 4A\", \"2000g, pellet, Pool 4B\", \"2000g, supernatant, Pool 3A\", \"2000g, supernatant, Pool 3B\", \"2000g, supernatant, Pool 4A\", \"2000g, supernatant, Pool 4B\"], \"xaxis\": \"x\", \"y\": [7676542.2229205975, 7678299.676873238, 7710071.885970413, 7646967.793010058, 9012862.531783056, 8986386.067243095, 8643346.852319751, 8606660.561474763, 7677333.078196455, 7672790.510876825, 7576840.447491324, 7586489.803999208, 8015113.425834508, 7855105.659111601, 8037561.516017162, 8000367.408274174, 7797377.241199434, 7818288.977494229, 7729585.8299133675, 7715574.720570318, 7606835.3744433215, 7585392.295675526, 7675803.7368021775, 7721271.58892766, 8057654.491056748, 7982995.013951846, 7785975.016492197, 7802799.679410335, 7368374.928106298, 7379397.799708627, 7408769.578054243, 7422647.936067888, 8136999.418601292, 7894729.73598531, 7807387.714357076, 7793299.208034897, 7267674.9114341885, 7243743.430660329, 7275193.464382238, 7242390.4600608125], \"yaxis\": \"y\"}],\n",
       "                        {\"barmode\": \"stack\", \"height\": 700, \"legend\": {\"tracegroupgap\": 0}, \"margin\": {\"t\": 60}, \"template\": {\"data\": {\"bar\": [{\"error_x\": {\"color\": \"#2a3f5f\"}, \"error_y\": {\"color\": \"#2a3f5f\"}, \"marker\": {\"line\": {\"color\": \"#E5ECF6\", \"width\": 0.5}}, \"type\": \"bar\"}], \"barpolar\": [{\"marker\": {\"line\": {\"color\": \"#E5ECF6\", \"width\": 0.5}}, \"type\": \"barpolar\"}], \"carpet\": [{\"aaxis\": {\"endlinecolor\": \"#2a3f5f\", \"gridcolor\": \"white\", \"linecolor\": \"white\", \"minorgridcolor\": \"white\", \"startlinecolor\": \"#2a3f5f\"}, \"baxis\": {\"endlinecolor\": \"#2a3f5f\", \"gridcolor\": \"white\", \"linecolor\": \"white\", \"minorgridcolor\": \"white\", \"startlinecolor\": \"#2a3f5f\"}, \"type\": \"carpet\"}], \"choropleth\": [{\"colorbar\": {\"outlinewidth\": 0, \"ticks\": \"\"}, \"type\": \"choropleth\"}], \"contour\": [{\"colorbar\": {\"outlinewidth\": 0, \"ticks\": \"\"}, \"colorscale\": [[0.0, \"#0d0887\"], [0.1111111111111111, \"#46039f\"], [0.2222222222222222, \"#7201a8\"], [0.3333333333333333, \"#9c179e\"], [0.4444444444444444, \"#bd3786\"], [0.5555555555555556, \"#d8576b\"], [0.6666666666666666, \"#ed7953\"], [0.7777777777777778, \"#fb9f3a\"], [0.8888888888888888, \"#fdca26\"], [1.0, \"#f0f921\"]], \"type\": \"contour\"}], \"contourcarpet\": [{\"colorbar\": {\"outlinewidth\": 0, \"ticks\": \"\"}, \"type\": \"contourcarpet\"}], \"heatmap\": [{\"colorbar\": {\"outlinewidth\": 0, \"ticks\": \"\"}, \"colorscale\": [[0.0, \"#0d0887\"], [0.1111111111111111, \"#46039f\"], [0.2222222222222222, \"#7201a8\"], [0.3333333333333333, \"#9c179e\"], [0.4444444444444444, \"#bd3786\"], [0.5555555555555556, \"#d8576b\"], [0.6666666666666666, \"#ed7953\"], [0.7777777777777778, \"#fb9f3a\"], [0.8888888888888888, \"#fdca26\"], [1.0, \"#f0f921\"]], \"type\": \"heatmap\"}], \"heatmapgl\": [{\"colorbar\": {\"outlinewidth\": 0, \"ticks\": \"\"}, \"colorscale\": [[0.0, \"#0d0887\"], [0.1111111111111111, \"#46039f\"], [0.2222222222222222, \"#7201a8\"], [0.3333333333333333, \"#9c179e\"], [0.4444444444444444, \"#bd3786\"], [0.5555555555555556, \"#d8576b\"], [0.6666666666666666, \"#ed7953\"], [0.7777777777777778, \"#fb9f3a\"], [0.8888888888888888, \"#fdca26\"], [1.0, \"#f0f921\"]], \"type\": \"heatmapgl\"}], \"histogram\": [{\"marker\": {\"colorbar\": {\"outlinewidth\": 0, \"ticks\": \"\"}}, \"type\": \"histogram\"}], \"histogram2d\": [{\"colorbar\": {\"outlinewidth\": 0, \"ticks\": \"\"}, \"colorscale\": [[0.0, \"#0d0887\"], [0.1111111111111111, \"#46039f\"], [0.2222222222222222, \"#7201a8\"], [0.3333333333333333, \"#9c179e\"], [0.4444444444444444, \"#bd3786\"], [0.5555555555555556, \"#d8576b\"], [0.6666666666666666, \"#ed7953\"], [0.7777777777777778, \"#fb9f3a\"], [0.8888888888888888, \"#fdca26\"], [1.0, \"#f0f921\"]], \"type\": \"histogram2d\"}], \"histogram2dcontour\": [{\"colorbar\": {\"outlinewidth\": 0, \"ticks\": \"\"}, \"colorscale\": [[0.0, \"#0d0887\"], [0.1111111111111111, \"#46039f\"], [0.2222222222222222, \"#7201a8\"], [0.3333333333333333, \"#9c179e\"], [0.4444444444444444, \"#bd3786\"], [0.5555555555555556, \"#d8576b\"], [0.6666666666666666, \"#ed7953\"], [0.7777777777777778, \"#fb9f3a\"], [0.8888888888888888, \"#fdca26\"], [1.0, \"#f0f921\"]], \"type\": \"histogram2dcontour\"}], \"mesh3d\": [{\"colorbar\": {\"outlinewidth\": 0, \"ticks\": \"\"}, \"type\": \"mesh3d\"}], \"parcoords\": [{\"line\": {\"colorbar\": {\"outlinewidth\": 0, \"ticks\": \"\"}}, \"type\": \"parcoords\"}], \"pie\": [{\"automargin\": true, \"type\": \"pie\"}], \"scatter\": [{\"marker\": {\"colorbar\": {\"outlinewidth\": 0, \"ticks\": \"\"}}, \"type\": \"scatter\"}], \"scatter3d\": [{\"line\": {\"colorbar\": {\"outlinewidth\": 0, \"ticks\": \"\"}}, \"marker\": {\"colorbar\": {\"outlinewidth\": 0, \"ticks\": \"\"}}, \"type\": \"scatter3d\"}], \"scattercarpet\": [{\"marker\": {\"colorbar\": {\"outlinewidth\": 0, \"ticks\": \"\"}}, \"type\": \"scattercarpet\"}], \"scattergeo\": [{\"marker\": {\"colorbar\": {\"outlinewidth\": 0, \"ticks\": \"\"}}, \"type\": \"scattergeo\"}], \"scattergl\": [{\"marker\": {\"colorbar\": {\"outlinewidth\": 0, \"ticks\": \"\"}}, \"type\": \"scattergl\"}], \"scattermapbox\": [{\"marker\": {\"colorbar\": {\"outlinewidth\": 0, \"ticks\": \"\"}}, \"type\": \"scattermapbox\"}], \"scatterpolar\": [{\"marker\": {\"colorbar\": {\"outlinewidth\": 0, \"ticks\": \"\"}}, \"type\": \"scatterpolar\"}], \"scatterpolargl\": [{\"marker\": {\"colorbar\": {\"outlinewidth\": 0, \"ticks\": \"\"}}, \"type\": \"scatterpolargl\"}], \"scatterternary\": [{\"marker\": {\"colorbar\": {\"outlinewidth\": 0, \"ticks\": \"\"}}, \"type\": \"scatterternary\"}], \"surface\": [{\"colorbar\": {\"outlinewidth\": 0, \"ticks\": \"\"}, \"colorscale\": [[0.0, \"#0d0887\"], [0.1111111111111111, \"#46039f\"], [0.2222222222222222, \"#7201a8\"], [0.3333333333333333, \"#9c179e\"], [0.4444444444444444, \"#bd3786\"], [0.5555555555555556, \"#d8576b\"], [0.6666666666666666, \"#ed7953\"], [0.7777777777777778, \"#fb9f3a\"], [0.8888888888888888, \"#fdca26\"], [1.0, \"#f0f921\"]], \"type\": \"surface\"}], \"table\": [{\"cells\": {\"fill\": {\"color\": \"#EBF0F8\"}, \"line\": {\"color\": \"white\"}}, \"header\": {\"fill\": {\"color\": \"#C8D4E3\"}, \"line\": {\"color\": \"white\"}}, \"type\": \"table\"}]}, \"layout\": {\"annotationdefaults\": {\"arrowcolor\": \"#2a3f5f\", \"arrowhead\": 0, \"arrowwidth\": 1}, \"coloraxis\": {\"colorbar\": {\"outlinewidth\": 0, \"ticks\": \"\"}}, \"colorscale\": {\"diverging\": [[0, \"#8e0152\"], [0.1, \"#c51b7d\"], [0.2, \"#de77ae\"], [0.3, \"#f1b6da\"], [0.4, \"#fde0ef\"], [0.5, \"#f7f7f7\"], [0.6, \"#e6f5d0\"], [0.7, \"#b8e186\"], [0.8, \"#7fbc41\"], [0.9, \"#4d9221\"], [1, \"#276419\"]], \"sequential\": [[0.0, \"#0d0887\"], [0.1111111111111111, \"#46039f\"], [0.2222222222222222, \"#7201a8\"], [0.3333333333333333, \"#9c179e\"], [0.4444444444444444, \"#bd3786\"], [0.5555555555555556, \"#d8576b\"], [0.6666666666666666, \"#ed7953\"], [0.7777777777777778, \"#fb9f3a\"], [0.8888888888888888, \"#fdca26\"], [1.0, \"#f0f921\"]], \"sequentialminus\": [[0.0, \"#0d0887\"], [0.1111111111111111, \"#46039f\"], [0.2222222222222222, \"#7201a8\"], [0.3333333333333333, \"#9c179e\"], [0.4444444444444444, \"#bd3786\"], [0.5555555555555556, \"#d8576b\"], [0.6666666666666666, \"#ed7953\"], [0.7777777777777778, \"#fb9f3a\"], [0.8888888888888888, \"#fdca26\"], [1.0, \"#f0f921\"]]}, \"colorway\": [\"#636efa\", \"#EF553B\", \"#00cc96\", \"#ab63fa\", \"#FFA15A\", \"#19d3f3\", \"#FF6692\", \"#B6E880\", \"#FF97FF\", \"#FECB52\"], \"font\": {\"color\": \"#2a3f5f\"}, \"geo\": {\"bgcolor\": \"white\", \"lakecolor\": \"white\", \"landcolor\": \"#E5ECF6\", \"showlakes\": true, \"showland\": true, \"subunitcolor\": \"white\"}, \"hoverlabel\": {\"align\": \"left\"}, \"hovermode\": \"closest\", \"mapbox\": {\"style\": \"light\"}, \"paper_bgcolor\": \"white\", \"plot_bgcolor\": \"#E5ECF6\", \"polar\": {\"angularaxis\": {\"gridcolor\": \"white\", \"linecolor\": \"white\", \"ticks\": \"\"}, \"bgcolor\": \"#E5ECF6\", \"radialaxis\": {\"gridcolor\": \"white\", \"linecolor\": \"white\", \"ticks\": \"\"}}, \"scene\": {\"xaxis\": {\"backgroundcolor\": \"#E5ECF6\", \"gridcolor\": \"white\", \"gridwidth\": 2, \"linecolor\": \"white\", \"showbackground\": true, \"ticks\": \"\", \"zerolinecolor\": \"white\"}, \"yaxis\": {\"backgroundcolor\": \"#E5ECF6\", \"gridcolor\": \"white\", \"gridwidth\": 2, \"linecolor\": \"white\", \"showbackground\": true, \"ticks\": \"\", \"zerolinecolor\": \"white\"}, \"zaxis\": {\"backgroundcolor\": \"#E5ECF6\", \"gridcolor\": \"white\", \"gridwidth\": 2, \"linecolor\": \"white\", \"showbackground\": true, \"ticks\": \"\", \"zerolinecolor\": \"white\"}}, \"shapedefaults\": {\"line\": {\"color\": \"#2a3f5f\"}}, \"ternary\": {\"aaxis\": {\"gridcolor\": \"white\", \"linecolor\": \"white\", \"ticks\": \"\"}, \"baxis\": {\"gridcolor\": \"white\", \"linecolor\": \"white\", \"ticks\": \"\"}, \"bgcolor\": \"#E5ECF6\", \"caxis\": {\"gridcolor\": \"white\", \"linecolor\": \"white\", \"ticks\": \"\"}}, \"title\": {\"x\": 0.05}, \"xaxis\": {\"automargin\": true, \"gridcolor\": \"white\", \"linecolor\": \"white\", \"ticks\": \"\", \"title\": {\"standoff\": 15}, \"zerolinecolor\": \"white\", \"zerolinewidth\": 2}, \"yaxis\": {\"automargin\": true, \"gridcolor\": \"white\", \"linecolor\": \"white\", \"ticks\": \"\", \"title\": {\"standoff\": 15}, \"zerolinecolor\": \"white\", \"zerolinewidth\": 2}}}, \"xaxis\": {\"anchor\": \"y\", \"domain\": [0.0, 1.0], \"title\": {}}, \"yaxis\": {\"anchor\": \"x\", \"domain\": [0.0, 1.0], \"range\": [0, 3000000.0], \"title\": {\"text\": \"Normalized reads\"}}},\n",
       "                        {\"responsive\": true}\n",
       "                    ).then(function(){\n",
       "                            \n",
       "var gd = document.getElementById('a9162036-4b61-41c8-9b6e-f3aa899d3938');\n",
       "var x = new MutationObserver(function (mutations, observer) {{\n",
       "        var display = window.getComputedStyle(gd).display;\n",
       "        if (!display || display === 'none') {{\n",
       "            console.log([gd, 'removed!']);\n",
       "            Plotly.purge(gd);\n",
       "            observer.disconnect();\n",
       "        }}\n",
       "}});\n",
       "\n",
       "// Listen for the removal of the full notebook cells\n",
       "var notebookContainer = gd.closest('#notebook-container');\n",
       "if (notebookContainer) {{\n",
       "    x.observe(notebookContainer, {childList: true});\n",
       "}}\n",
       "\n",
       "// Listen for the clearing of the current output cell\n",
       "var outputEl = gd.closest('.output');\n",
       "if (outputEl) {{\n",
       "    x.observe(outputEl, {childList: true});\n",
       "}}\n",
       "\n",
       "                        })\n",
       "                };\n",
       "                });\n",
       "            </script>\n",
       "        </div>"
      ]
     },
     "metadata": {},
     "output_type": "display_data"
    }
   ],
   "source": [
    "fig = px.bar(merged_melt2, x='Description', y='Normalized reads', color='Organism', barmode='stack')\n",
    "fig.update_layout(xaxis_title=None, height=700)\n",
    "fig.update_yaxes(range=[0, 3e6])\n",
    "fig.show()"
   ]
  },
  {
   "cell_type": "code",
   "execution_count": null,
   "metadata": {},
   "outputs": [],
   "source": []
  }
 ],
 "metadata": {
  "kernelspec": {
   "display_name": "Python 3",
   "language": "python",
   "name": "python3"
  },
  "language_info": {
   "codemirror_mode": {
    "name": "ipython",
    "version": 3
   },
   "file_extension": ".py",
   "mimetype": "text/x-python",
   "name": "python",
   "nbconvert_exporter": "python",
   "pygments_lexer": "ipython3",
   "version": "3.6.8"
  }
 },
 "nbformat": 4,
 "nbformat_minor": 4
}
