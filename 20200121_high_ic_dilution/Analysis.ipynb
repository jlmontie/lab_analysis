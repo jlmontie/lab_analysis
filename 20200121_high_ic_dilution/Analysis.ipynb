{
 "cells": [
  {
   "cell_type": "code",
   "execution_count": 74,
   "metadata": {},
   "outputs": [],
   "source": [
    "import pandas as pd\n",
    "import plotly.express as px"
   ]
  },
  {
   "cell_type": "code",
   "execution_count": 75,
   "metadata": {},
   "outputs": [
    {
     "name": "stderr",
     "output_type": "stream",
     "text": [
      "/home/jmontgomery/.local/share/virtualenvs/lab_analysis-DwXlSoLZ/lib/python3.6/site-packages/ipykernel_launcher.py:16: FutureWarning:\n",
      "\n",
      "Sorting because non-concatenation axis is not aligned. A future version\n",
      "of pandas will change to not sort by default.\n",
      "\n",
      "To accept the future behavior, pass 'sort=False'.\n",
      "\n",
      "To retain the current behavior and silence the warning, pass 'sort=True'.\n",
      "\n",
      "\n",
      "/home/jmontgomery/.local/share/virtualenvs/lab_analysis-DwXlSoLZ/lib/python3.6/site-packages/ipykernel_launcher.py:18: FutureWarning:\n",
      "\n",
      "Sorting because non-concatenation axis is not aligned. A future version\n",
      "of pandas will change to not sort by default.\n",
      "\n",
      "To accept the future behavior, pass 'sort=False'.\n",
      "\n",
      "To retain the current behavior and silence the warning, pass 'sort=True'.\n",
      "\n",
      "\n"
     ]
    }
   ],
   "source": [
    "hi_ic = pd.read_csv('high_ic_results.csv')\n",
    "hi_ic['IC'] = 'Diluted Hi IC'\n",
    "hi_ic = hi_ic[~(hi_ic['Accession'] == 'controlPos')]\n",
    "low_ic = pd.read_csv('low_ic_results.csv')\n",
    "low_ic['IC'] = 'Low IC'\n",
    "low_ic_new_neg = pd.read_csv('new_low_ic_results.csv')\n",
    "low_ic_new_neg['IC'] = 'Low IC - New Neg Ctrl'\n",
    "low_ic_new_neg = low_ic_new_neg[low_ic_new_neg['Library Type'] == 'DNA']\n",
    "low_ic_new_neg_2 = pd.read_csv('new_low_ic_results_2.csv')\n",
    "low_ic_new_neg_2['IC'] = 'Low IC - New Neg Ctrl'\n",
    "low_ic_new_neg_2 = low_ic_new_neg_2[low_ic_new_neg_2['Library Type'] == 'DNA']\n",
    "low_ic_new_neg_remove = ['IDBD-D101028', 'IDBD-R002173', 'IDBD-R002174',\n",
    "                         'IDBD-R002171', 'controlPos']\n",
    "low_ic_new_neg = low_ic_new_neg[~low_ic_new_neg['Accession'].isin(low_ic_new_neg_remove)]\n",
    "low_ic_new_neg_2 = low_ic_new_neg_2[~low_ic_new_neg_2['Accession'].isin(low_ic_new_neg_remove)]\n",
    "merged = pd.concat([hi_ic, low_ic], ignore_index=True)\n",
    "merged = merged.sort_values(['Batch ID', 'Run Date'])\n",
    "merged_with_new_neg = pd.concat([hi_ic, low_ic, low_ic_new_neg, low_ic_new_neg_2], ignore_index=True)\n",
    "merged_with_new_neg = merged_with_new_neg.drop_duplicates(['Seq Sple'])\n",
    "merged_with_new_neg = merged_with_new_neg.sort_values(['Batch ID', 'Run Date'])"
   ]
  },
  {
   "cell_type": "code",
   "execution_count": 76,
   "metadata": {},
   "outputs": [
    {
     "data": {
      "application/vnd.plotly.v1+json": {
       "config": {
        "plotlyServerURL": "https://plot.ly"
       },
       "data": [
        {
         "alignmentgroup": "True",
         "boxpoints": "all",
         "customdata": [
          [
           99264.60795910042,
           "controlneg",
           "191121B01",
           "2019-11-21"
          ],
          [
           110353.95480036669,
           "controlneg",
           "191123B01",
           "2019-11-24"
          ],
          [
           113394.30190942615,
           "controlneg",
           "191126B01",
           "2019-11-26"
          ],
          [
           115592.27838843988,
           "controlneg",
           "191127B01",
           "2019-11-27"
          ],
          [
           151541.88626024956,
           "controlneg",
           "191130B01",
           "2019-12-01"
          ],
          [
           119989.69223680561,
           "controlneg",
           "191203B01",
           "2019-12-04"
          ],
          [
           169023.34782414234,
           "controlneg",
           "191210B01",
           "2019-12-10"
          ],
          [
           81296.7092805203,
           "controlneg",
           "191210B02",
           "2019-12-11"
          ],
          [
           41459.84937098144,
           "controlneg",
           "191211B02",
           "2019-12-13"
          ],
          [
           5236.962858478826,
           "controlneg",
           "191220B01",
           "2019-12-20"
          ],
          [
           6335.327851558352,
           "controlneg",
           "191223B01",
           "2019-12-24"
          ],
          [
           6463.652568748615,
           "controlneg",
           "191223B04",
           "2019-12-25"
          ],
          [
           7750.54380779208,
           "controlneg",
           "200114B02",
           "2020-01-17"
          ],
          [
           6847.422828544828,
           "controlneg",
           "200116B03",
           "2020-01-18"
          ],
          [
           7256.320679560567,
           "controlneg",
           "200117B01",
           "2020-01-18"
          ],
          [
           4087.081680907999,
           "IDBD-D101325",
           "200119B01",
           "2020-01-20"
          ],
          [
           4069.388217397553,
           "IDBD-D101326",
           "200119B01",
           "2020-01-20"
          ],
          [
           4528.987491931303,
           "IDBD-D101327",
           "200119B01",
           "2020-01-20"
          ],
          [
           3936.474466767371,
           "IDBD-D101328",
           "200119B01",
           "2020-01-20"
          ],
          [
           4226.835267167544,
           "IDBD-D101329",
           "200119B01",
           "2020-01-20"
          ],
          [
           6065.263744791783,
           "IDBD-D101330",
           "200119B01",
           "2020-01-20"
          ],
          [
           6485.633339481331,
           "IDBD-D101331",
           "200119B01",
           "2020-01-20"
          ],
          [
           5427.159827785494,
           "IDBD-D101332",
           "200119B01",
           "2020-01-20"
          ],
          [
           5942.472657614007,
           "controlNeg",
           "200119B01",
           "2020-01-20"
          ],
          [
           5733.678786763884,
           "IDBD-D101333",
           "200119B02",
           "2020-01-20"
          ],
          [
           5642.290092702827,
           "IDBD-D101334",
           "200119B02",
           "2020-01-20"
          ],
          [
           6373.47932698333,
           "IDBD-D101335",
           "200119B02",
           "2020-01-20"
          ],
          [
           5455.027941817089,
           "IDBD-D101336",
           "200119B02",
           "2020-01-20"
          ],
          [
           5791.7543573630555,
           "IDBD-D101337",
           "200119B02",
           "2020-01-20"
          ],
          [
           6506.286699523414,
           "IDBD-D101338",
           "200119B02",
           "2020-01-20"
          ],
          [
           6981.192666955223,
           "IDBD-D101339",
           "200119B02",
           "2020-01-20"
          ],
          [
           5870.396597770782,
           "IDBD-D101340",
           "200119B02",
           "2020-01-20"
          ],
          [
           5978.470544211966,
           "controlNeg",
           "200119B02",
           "2020-01-20"
          ]
         ],
         "hoverlabel": {
          "namelength": 0
         },
         "hovertemplate": "IC=%{x}<br>log<sub>10</sub>(T7 + PR772) NR=%{y}<br>T7 + PR772 NR=%{customdata[0]}<br>Accession=%{customdata[1]}<br>Batch ID=%{customdata[2]}<br>Run Date=%{customdata[3]}",
         "legendgroup": "",
         "marker": {
          "color": "#636efa"
         },
         "name": "",
         "notched": false,
         "offsetgroup": "",
         "orientation": "v",
         "showlegend": false,
         "type": "box",
         "x": [
          "Low IC",
          "Low IC",
          "Low IC",
          "Low IC",
          "Low IC",
          "Low IC",
          "Low IC",
          "Low IC",
          "Low IC",
          "Low IC",
          "Low IC",
          "Low IC",
          "Low IC",
          "Low IC",
          "Low IC",
          "Diluted Hi IC",
          "Diluted Hi IC",
          "Diluted Hi IC",
          "Diluted Hi IC",
          "Diluted Hi IC",
          "Diluted Hi IC",
          "Diluted Hi IC",
          "Diluted Hi IC",
          "Diluted Hi IC",
          "Diluted Hi IC",
          "Diluted Hi IC",
          "Diluted Hi IC",
          "Diluted Hi IC",
          "Diluted Hi IC",
          "Diluted Hi IC",
          "Diluted Hi IC",
          "Diluted Hi IC",
          "Diluted Hi IC"
         ],
         "x0": " ",
         "xaxis": "x",
         "y": [
          4.996794431699109,
          5.0427879017677215,
          5.054591231704434,
          5.062928824004099,
          5.180532688663176,
          5.079143939406351,
          5.227946699470661,
          4.910072966624383,
          4.617627719912439,
          3.719079493814623,
          3.801769094426791,
          3.810478004398575,
          3.8893321753369854,
          3.835527146391352,
          3.8607164673108865,
          3.611413317235241,
          3.609529123284368,
          3.6560011212586434,
          3.5951074388142383,
          3.6260153223607854,
          3.7828496906794666,
          3.8119523925113104,
          3.7345726115745386,
          3.7739671921377567,
          3.7584333591644485,
          3.7514554112098666,
          3.8043765814699584,
          3.7367969794790623,
          3.7628101340758273,
          3.813333196553832,
          3.843929623830897,
          3.768667442713555,
          3.776590093826801
         ],
         "y0": " ",
         "yaxis": "y"
        }
       ],
       "layout": {
        "autosize": true,
        "boxmode": "group",
        "font": {
         "size": 18
        },
        "legend": {
         "tracegroupgap": 0
        },
        "margin": {
         "t": 60
        },
        "template": {
         "data": {
          "bar": [
           {
            "error_x": {
             "color": "#2a3f5f"
            },
            "error_y": {
             "color": "#2a3f5f"
            },
            "marker": {
             "line": {
              "color": "#E5ECF6",
              "width": 0.5
             }
            },
            "type": "bar"
           }
          ],
          "barpolar": [
           {
            "marker": {
             "line": {
              "color": "#E5ECF6",
              "width": 0.5
             }
            },
            "type": "barpolar"
           }
          ],
          "carpet": [
           {
            "aaxis": {
             "endlinecolor": "#2a3f5f",
             "gridcolor": "white",
             "linecolor": "white",
             "minorgridcolor": "white",
             "startlinecolor": "#2a3f5f"
            },
            "baxis": {
             "endlinecolor": "#2a3f5f",
             "gridcolor": "white",
             "linecolor": "white",
             "minorgridcolor": "white",
             "startlinecolor": "#2a3f5f"
            },
            "type": "carpet"
           }
          ],
          "choropleth": [
           {
            "colorbar": {
             "outlinewidth": 0,
             "ticks": ""
            },
            "type": "choropleth"
           }
          ],
          "contour": [
           {
            "colorbar": {
             "outlinewidth": 0,
             "ticks": ""
            },
            "colorscale": [
             [
              0,
              "#0d0887"
             ],
             [
              0.1111111111111111,
              "#46039f"
             ],
             [
              0.2222222222222222,
              "#7201a8"
             ],
             [
              0.3333333333333333,
              "#9c179e"
             ],
             [
              0.4444444444444444,
              "#bd3786"
             ],
             [
              0.5555555555555556,
              "#d8576b"
             ],
             [
              0.6666666666666666,
              "#ed7953"
             ],
             [
              0.7777777777777778,
              "#fb9f3a"
             ],
             [
              0.8888888888888888,
              "#fdca26"
             ],
             [
              1,
              "#f0f921"
             ]
            ],
            "type": "contour"
           }
          ],
          "contourcarpet": [
           {
            "colorbar": {
             "outlinewidth": 0,
             "ticks": ""
            },
            "type": "contourcarpet"
           }
          ],
          "heatmap": [
           {
            "colorbar": {
             "outlinewidth": 0,
             "ticks": ""
            },
            "colorscale": [
             [
              0,
              "#0d0887"
             ],
             [
              0.1111111111111111,
              "#46039f"
             ],
             [
              0.2222222222222222,
              "#7201a8"
             ],
             [
              0.3333333333333333,
              "#9c179e"
             ],
             [
              0.4444444444444444,
              "#bd3786"
             ],
             [
              0.5555555555555556,
              "#d8576b"
             ],
             [
              0.6666666666666666,
              "#ed7953"
             ],
             [
              0.7777777777777778,
              "#fb9f3a"
             ],
             [
              0.8888888888888888,
              "#fdca26"
             ],
             [
              1,
              "#f0f921"
             ]
            ],
            "type": "heatmap"
           }
          ],
          "heatmapgl": [
           {
            "colorbar": {
             "outlinewidth": 0,
             "ticks": ""
            },
            "colorscale": [
             [
              0,
              "#0d0887"
             ],
             [
              0.1111111111111111,
              "#46039f"
             ],
             [
              0.2222222222222222,
              "#7201a8"
             ],
             [
              0.3333333333333333,
              "#9c179e"
             ],
             [
              0.4444444444444444,
              "#bd3786"
             ],
             [
              0.5555555555555556,
              "#d8576b"
             ],
             [
              0.6666666666666666,
              "#ed7953"
             ],
             [
              0.7777777777777778,
              "#fb9f3a"
             ],
             [
              0.8888888888888888,
              "#fdca26"
             ],
             [
              1,
              "#f0f921"
             ]
            ],
            "type": "heatmapgl"
           }
          ],
          "histogram": [
           {
            "marker": {
             "colorbar": {
              "outlinewidth": 0,
              "ticks": ""
             }
            },
            "type": "histogram"
           }
          ],
          "histogram2d": [
           {
            "colorbar": {
             "outlinewidth": 0,
             "ticks": ""
            },
            "colorscale": [
             [
              0,
              "#0d0887"
             ],
             [
              0.1111111111111111,
              "#46039f"
             ],
             [
              0.2222222222222222,
              "#7201a8"
             ],
             [
              0.3333333333333333,
              "#9c179e"
             ],
             [
              0.4444444444444444,
              "#bd3786"
             ],
             [
              0.5555555555555556,
              "#d8576b"
             ],
             [
              0.6666666666666666,
              "#ed7953"
             ],
             [
              0.7777777777777778,
              "#fb9f3a"
             ],
             [
              0.8888888888888888,
              "#fdca26"
             ],
             [
              1,
              "#f0f921"
             ]
            ],
            "type": "histogram2d"
           }
          ],
          "histogram2dcontour": [
           {
            "colorbar": {
             "outlinewidth": 0,
             "ticks": ""
            },
            "colorscale": [
             [
              0,
              "#0d0887"
             ],
             [
              0.1111111111111111,
              "#46039f"
             ],
             [
              0.2222222222222222,
              "#7201a8"
             ],
             [
              0.3333333333333333,
              "#9c179e"
             ],
             [
              0.4444444444444444,
              "#bd3786"
             ],
             [
              0.5555555555555556,
              "#d8576b"
             ],
             [
              0.6666666666666666,
              "#ed7953"
             ],
             [
              0.7777777777777778,
              "#fb9f3a"
             ],
             [
              0.8888888888888888,
              "#fdca26"
             ],
             [
              1,
              "#f0f921"
             ]
            ],
            "type": "histogram2dcontour"
           }
          ],
          "mesh3d": [
           {
            "colorbar": {
             "outlinewidth": 0,
             "ticks": ""
            },
            "type": "mesh3d"
           }
          ],
          "parcoords": [
           {
            "line": {
             "colorbar": {
              "outlinewidth": 0,
              "ticks": ""
             }
            },
            "type": "parcoords"
           }
          ],
          "pie": [
           {
            "automargin": true,
            "type": "pie"
           }
          ],
          "scatter": [
           {
            "marker": {
             "colorbar": {
              "outlinewidth": 0,
              "ticks": ""
             }
            },
            "type": "scatter"
           }
          ],
          "scatter3d": [
           {
            "line": {
             "colorbar": {
              "outlinewidth": 0,
              "ticks": ""
             }
            },
            "marker": {
             "colorbar": {
              "outlinewidth": 0,
              "ticks": ""
             }
            },
            "type": "scatter3d"
           }
          ],
          "scattercarpet": [
           {
            "marker": {
             "colorbar": {
              "outlinewidth": 0,
              "ticks": ""
             }
            },
            "type": "scattercarpet"
           }
          ],
          "scattergeo": [
           {
            "marker": {
             "colorbar": {
              "outlinewidth": 0,
              "ticks": ""
             }
            },
            "type": "scattergeo"
           }
          ],
          "scattergl": [
           {
            "marker": {
             "colorbar": {
              "outlinewidth": 0,
              "ticks": ""
             }
            },
            "type": "scattergl"
           }
          ],
          "scattermapbox": [
           {
            "marker": {
             "colorbar": {
              "outlinewidth": 0,
              "ticks": ""
             }
            },
            "type": "scattermapbox"
           }
          ],
          "scatterpolar": [
           {
            "marker": {
             "colorbar": {
              "outlinewidth": 0,
              "ticks": ""
             }
            },
            "type": "scatterpolar"
           }
          ],
          "scatterpolargl": [
           {
            "marker": {
             "colorbar": {
              "outlinewidth": 0,
              "ticks": ""
             }
            },
            "type": "scatterpolargl"
           }
          ],
          "scatterternary": [
           {
            "marker": {
             "colorbar": {
              "outlinewidth": 0,
              "ticks": ""
             }
            },
            "type": "scatterternary"
           }
          ],
          "surface": [
           {
            "colorbar": {
             "outlinewidth": 0,
             "ticks": ""
            },
            "colorscale": [
             [
              0,
              "#0d0887"
             ],
             [
              0.1111111111111111,
              "#46039f"
             ],
             [
              0.2222222222222222,
              "#7201a8"
             ],
             [
              0.3333333333333333,
              "#9c179e"
             ],
             [
              0.4444444444444444,
              "#bd3786"
             ],
             [
              0.5555555555555556,
              "#d8576b"
             ],
             [
              0.6666666666666666,
              "#ed7953"
             ],
             [
              0.7777777777777778,
              "#fb9f3a"
             ],
             [
              0.8888888888888888,
              "#fdca26"
             ],
             [
              1,
              "#f0f921"
             ]
            ],
            "type": "surface"
           }
          ],
          "table": [
           {
            "cells": {
             "fill": {
              "color": "#EBF0F8"
             },
             "line": {
              "color": "white"
             }
            },
            "header": {
             "fill": {
              "color": "#C8D4E3"
             },
             "line": {
              "color": "white"
             }
            },
            "type": "table"
           }
          ]
         },
         "layout": {
          "annotationdefaults": {
           "arrowcolor": "#2a3f5f",
           "arrowhead": 0,
           "arrowwidth": 1
          },
          "coloraxis": {
           "colorbar": {
            "outlinewidth": 0,
            "ticks": ""
           }
          },
          "colorscale": {
           "diverging": [
            [
             0,
             "#8e0152"
            ],
            [
             0.1,
             "#c51b7d"
            ],
            [
             0.2,
             "#de77ae"
            ],
            [
             0.3,
             "#f1b6da"
            ],
            [
             0.4,
             "#fde0ef"
            ],
            [
             0.5,
             "#f7f7f7"
            ],
            [
             0.6,
             "#e6f5d0"
            ],
            [
             0.7,
             "#b8e186"
            ],
            [
             0.8,
             "#7fbc41"
            ],
            [
             0.9,
             "#4d9221"
            ],
            [
             1,
             "#276419"
            ]
           ],
           "sequential": [
            [
             0,
             "#0d0887"
            ],
            [
             0.1111111111111111,
             "#46039f"
            ],
            [
             0.2222222222222222,
             "#7201a8"
            ],
            [
             0.3333333333333333,
             "#9c179e"
            ],
            [
             0.4444444444444444,
             "#bd3786"
            ],
            [
             0.5555555555555556,
             "#d8576b"
            ],
            [
             0.6666666666666666,
             "#ed7953"
            ],
            [
             0.7777777777777778,
             "#fb9f3a"
            ],
            [
             0.8888888888888888,
             "#fdca26"
            ],
            [
             1,
             "#f0f921"
            ]
           ],
           "sequentialminus": [
            [
             0,
             "#0d0887"
            ],
            [
             0.1111111111111111,
             "#46039f"
            ],
            [
             0.2222222222222222,
             "#7201a8"
            ],
            [
             0.3333333333333333,
             "#9c179e"
            ],
            [
             0.4444444444444444,
             "#bd3786"
            ],
            [
             0.5555555555555556,
             "#d8576b"
            ],
            [
             0.6666666666666666,
             "#ed7953"
            ],
            [
             0.7777777777777778,
             "#fb9f3a"
            ],
            [
             0.8888888888888888,
             "#fdca26"
            ],
            [
             1,
             "#f0f921"
            ]
           ]
          },
          "colorway": [
           "#636efa",
           "#EF553B",
           "#00cc96",
           "#ab63fa",
           "#FFA15A",
           "#19d3f3",
           "#FF6692",
           "#B6E880",
           "#FF97FF",
           "#FECB52"
          ],
          "font": {
           "color": "#2a3f5f"
          },
          "geo": {
           "bgcolor": "white",
           "lakecolor": "white",
           "landcolor": "#E5ECF6",
           "showlakes": true,
           "showland": true,
           "subunitcolor": "white"
          },
          "hoverlabel": {
           "align": "left"
          },
          "hovermode": "closest",
          "mapbox": {
           "style": "light"
          },
          "paper_bgcolor": "white",
          "plot_bgcolor": "#E5ECF6",
          "polar": {
           "angularaxis": {
            "gridcolor": "white",
            "linecolor": "white",
            "ticks": ""
           },
           "bgcolor": "#E5ECF6",
           "radialaxis": {
            "gridcolor": "white",
            "linecolor": "white",
            "ticks": ""
           }
          },
          "scene": {
           "xaxis": {
            "backgroundcolor": "#E5ECF6",
            "gridcolor": "white",
            "gridwidth": 2,
            "linecolor": "white",
            "showbackground": true,
            "ticks": "",
            "zerolinecolor": "white"
           },
           "yaxis": {
            "backgroundcolor": "#E5ECF6",
            "gridcolor": "white",
            "gridwidth": 2,
            "linecolor": "white",
            "showbackground": true,
            "ticks": "",
            "zerolinecolor": "white"
           },
           "zaxis": {
            "backgroundcolor": "#E5ECF6",
            "gridcolor": "white",
            "gridwidth": 2,
            "linecolor": "white",
            "showbackground": true,
            "ticks": "",
            "zerolinecolor": "white"
           }
          },
          "shapedefaults": {
           "line": {
            "color": "#2a3f5f"
           }
          },
          "ternary": {
           "aaxis": {
            "gridcolor": "white",
            "linecolor": "white",
            "ticks": ""
           },
           "baxis": {
            "gridcolor": "white",
            "linecolor": "white",
            "ticks": ""
           },
           "bgcolor": "#E5ECF6",
           "caxis": {
            "gridcolor": "white",
            "linecolor": "white",
            "ticks": ""
           }
          },
          "title": {
           "x": 0.05
          },
          "xaxis": {
           "automargin": true,
           "gridcolor": "white",
           "linecolor": "white",
           "ticks": "",
           "title": {
            "standoff": 15
           },
           "zerolinecolor": "white",
           "zerolinewidth": 2
          },
          "yaxis": {
           "automargin": true,
           "gridcolor": "white",
           "linecolor": "white",
           "ticks": "",
           "title": {
            "standoff": 15
           },
           "zerolinecolor": "white",
           "zerolinewidth": 2
          }
         }
        },
        "xaxis": {
         "anchor": "y",
         "autorange": true,
         "domain": [
          0,
          1
         ],
         "range": [
          -0.5049586776859504,
          1.5
         ],
         "title": {
          "text": "IC"
         },
         "type": "category"
        },
        "yaxis": {
         "anchor": "x",
         "autorange": true,
         "domain": [
          0,
          1
         ],
         "range": [
          3.504394146555548,
          5.318659991729351
         ],
         "title": {
          "text": "log<sub>10</sub>(T7 + PR772) NR"
         },
         "type": "linear"
        }
       }
      },
      "image/png": "[encoded data removed]",
      "text/html": [
       "<div>\n",
       "        \n",
       "        \n",
       "            <div id=\"ddaedec9-1881-4a25-bde5-35dbe2eabccd\" class=\"plotly-graph-div\" style=\"height:600px; width:100%;\"></div>\n",
       "            <script type=\"text/javascript\">\n",
       "                require([\"plotly\"], function(Plotly) {\n",
       "                    window.PLOTLYENV=window.PLOTLYENV || {};\n",
       "                    \n",
       "                if (document.getElementById(\"ddaedec9-1881-4a25-bde5-35dbe2eabccd\")) {\n",
       "                    Plotly.newPlot(\n",
       "                        'ddaedec9-1881-4a25-bde5-35dbe2eabccd',\n",
       "                        [{\"alignmentgroup\": \"True\", \"boxpoints\": \"all\", \"customdata\": [[99264.60795910042, \"controlneg\", \"191121B01\", \"2019-11-21\"], [110353.95480036669, \"controlneg\", \"191123B01\", \"2019-11-24\"], [113394.30190942615, \"controlneg\", \"191126B01\", \"2019-11-26\"], [115592.27838843988, \"controlneg\", \"191127B01\", \"2019-11-27\"], [151541.88626024956, \"controlneg\", \"191130B01\", \"2019-12-01\"], [119989.69223680561, \"controlneg\", \"191203B01\", \"2019-12-04\"], [169023.34782414234, \"controlneg\", \"191210B01\", \"2019-12-10\"], [81296.7092805203, \"controlneg\", \"191210B02\", \"2019-12-11\"], [41459.84937098144, \"controlneg\", \"191211B02\", \"2019-12-13\"], [5236.962858478826, \"controlneg\", \"191220B01\", \"2019-12-20\"], [6335.327851558352, \"controlneg\", \"191223B01\", \"2019-12-24\"], [6463.652568748615, \"controlneg\", \"191223B04\", \"2019-12-25\"], [7750.54380779208, \"controlneg\", \"200114B02\", \"2020-01-17\"], [6847.422828544828, \"controlneg\", \"200116B03\", \"2020-01-18\"], [7256.320679560567, \"controlneg\", \"200117B01\", \"2020-01-18\"], [4087.081680907999, \"IDBD-D101325\", \"200119B01\", \"2020-01-20\"], [4069.388217397553, \"IDBD-D101326\", \"200119B01\", \"2020-01-20\"], [4528.987491931303, \"IDBD-D101327\", \"200119B01\", \"2020-01-20\"], [3936.474466767371, \"IDBD-D101328\", \"200119B01\", \"2020-01-20\"], [4226.835267167544, \"IDBD-D101329\", \"200119B01\", \"2020-01-20\"], [6065.263744791783, \"IDBD-D101330\", \"200119B01\", \"2020-01-20\"], [6485.633339481331, \"IDBD-D101331\", \"200119B01\", \"2020-01-20\"], [5427.159827785494, \"IDBD-D101332\", \"200119B01\", \"2020-01-20\"], [5942.472657614007, \"controlNeg\", \"200119B01\", \"2020-01-20\"], [5733.678786763884, \"IDBD-D101333\", \"200119B02\", \"2020-01-20\"], [5642.290092702827, \"IDBD-D101334\", \"200119B02\", \"2020-01-20\"], [6373.47932698333, \"IDBD-D101335\", \"200119B02\", \"2020-01-20\"], [5455.027941817089, \"IDBD-D101336\", \"200119B02\", \"2020-01-20\"], [5791.7543573630555, \"IDBD-D101337\", \"200119B02\", \"2020-01-20\"], [6506.286699523414, \"IDBD-D101338\", \"200119B02\", \"2020-01-20\"], [6981.192666955223, \"IDBD-D101339\", \"200119B02\", \"2020-01-20\"], [5870.396597770782, \"IDBD-D101340\", \"200119B02\", \"2020-01-20\"], [5978.470544211966, \"controlNeg\", \"200119B02\", \"2020-01-20\"]], \"hoverlabel\": {\"namelength\": 0}, \"hovertemplate\": \"IC=%{x}<br>log<sub>10</sub>(T7 + PR772) NR=%{y}<br>T7 + PR772 NR=%{customdata[0]}<br>Accession=%{customdata[1]}<br>Batch ID=%{customdata[2]}<br>Run Date=%{customdata[3]}\", \"legendgroup\": \"\", \"marker\": {\"color\": \"#636efa\"}, \"name\": \"\", \"notched\": false, \"offsetgroup\": \"\", \"orientation\": \"v\", \"showlegend\": false, \"type\": \"box\", \"x\": [\"Low IC\", \"Low IC\", \"Low IC\", \"Low IC\", \"Low IC\", \"Low IC\", \"Low IC\", \"Low IC\", \"Low IC\", \"Low IC\", \"Low IC\", \"Low IC\", \"Low IC\", \"Low IC\", \"Low IC\", \"Diluted Hi IC\", \"Diluted Hi IC\", \"Diluted Hi IC\", \"Diluted Hi IC\", \"Diluted Hi IC\", \"Diluted Hi IC\", \"Diluted Hi IC\", \"Diluted Hi IC\", \"Diluted Hi IC\", \"Diluted Hi IC\", \"Diluted Hi IC\", \"Diluted Hi IC\", \"Diluted Hi IC\", \"Diluted Hi IC\", \"Diluted Hi IC\", \"Diluted Hi IC\", \"Diluted Hi IC\", \"Diluted Hi IC\"], \"x0\": \" \", \"xaxis\": \"x\", \"y\": [4.996794431699109, 5.0427879017677215, 5.054591231704434, 5.062928824004099, 5.180532688663176, 5.079143939406351, 5.227946699470661, 4.910072966624383, 4.617627719912439, 3.719079493814623, 3.801769094426791, 3.810478004398575, 3.8893321753369854, 3.835527146391352, 3.8607164673108865, 3.611413317235241, 3.609529123284368, 3.6560011212586434, 3.5951074388142383, 3.6260153223607854, 3.7828496906794666, 3.8119523925113104, 3.7345726115745386, 3.7739671921377567, 3.7584333591644485, 3.7514554112098666, 3.8043765814699584, 3.7367969794790623, 3.7628101340758273, 3.813333196553832, 3.843929623830897, 3.768667442713555, 3.776590093826801], \"y0\": \" \", \"yaxis\": \"y\"}],\n",
       "                        {\"boxmode\": \"group\", \"font\": {\"size\": 18}, \"height\": 600, \"legend\": {\"tracegroupgap\": 0}, \"margin\": {\"t\": 60}, \"template\": {\"data\": {\"bar\": [{\"error_x\": {\"color\": \"#2a3f5f\"}, \"error_y\": {\"color\": \"#2a3f5f\"}, \"marker\": {\"line\": {\"color\": \"#E5ECF6\", \"width\": 0.5}}, \"type\": \"bar\"}], \"barpolar\": [{\"marker\": {\"line\": {\"color\": \"#E5ECF6\", \"width\": 0.5}}, \"type\": \"barpolar\"}], \"carpet\": [{\"aaxis\": {\"endlinecolor\": \"#2a3f5f\", \"gridcolor\": \"white\", \"linecolor\": \"white\", \"minorgridcolor\": \"white\", \"startlinecolor\": \"#2a3f5f\"}, \"baxis\": {\"endlinecolor\": \"#2a3f5f\", \"gridcolor\": \"white\", \"linecolor\": \"white\", \"minorgridcolor\": \"white\", \"startlinecolor\": \"#2a3f5f\"}, \"type\": \"carpet\"}], \"choropleth\": [{\"colorbar\": {\"outlinewidth\": 0, \"ticks\": \"\"}, \"type\": \"choropleth\"}], \"contour\": [{\"colorbar\": {\"outlinewidth\": 0, \"ticks\": \"\"}, \"colorscale\": [[0.0, \"#0d0887\"], [0.1111111111111111, \"#46039f\"], [0.2222222222222222, \"#7201a8\"], [0.3333333333333333, \"#9c179e\"], [0.4444444444444444, \"#bd3786\"], [0.5555555555555556, \"#d8576b\"], [0.6666666666666666, \"#ed7953\"], [0.7777777777777778, \"#fb9f3a\"], [0.8888888888888888, \"#fdca26\"], [1.0, \"#f0f921\"]], \"type\": \"contour\"}], \"contourcarpet\": [{\"colorbar\": {\"outlinewidth\": 0, \"ticks\": \"\"}, \"type\": \"contourcarpet\"}], \"heatmap\": [{\"colorbar\": {\"outlinewidth\": 0, \"ticks\": \"\"}, \"colorscale\": [[0.0, \"#0d0887\"], [0.1111111111111111, \"#46039f\"], [0.2222222222222222, \"#7201a8\"], [0.3333333333333333, \"#9c179e\"], [0.4444444444444444, \"#bd3786\"], [0.5555555555555556, \"#d8576b\"], [0.6666666666666666, \"#ed7953\"], [0.7777777777777778, \"#fb9f3a\"], [0.8888888888888888, \"#fdca26\"], [1.0, \"#f0f921\"]], \"type\": \"heatmap\"}], \"heatmapgl\": [{\"colorbar\": {\"outlinewidth\": 0, \"ticks\": \"\"}, \"colorscale\": [[0.0, \"#0d0887\"], [0.1111111111111111, \"#46039f\"], [0.2222222222222222, \"#7201a8\"], [0.3333333333333333, \"#9c179e\"], [0.4444444444444444, \"#bd3786\"], [0.5555555555555556, \"#d8576b\"], [0.6666666666666666, \"#ed7953\"], [0.7777777777777778, \"#fb9f3a\"], [0.8888888888888888, \"#fdca26\"], [1.0, \"#f0f921\"]], \"type\": \"heatmapgl\"}], \"histogram\": [{\"marker\": {\"colorbar\": {\"outlinewidth\": 0, \"ticks\": \"\"}}, \"type\": \"histogram\"}], \"histogram2d\": [{\"colorbar\": {\"outlinewidth\": 0, \"ticks\": \"\"}, \"colorscale\": [[0.0, \"#0d0887\"], [0.1111111111111111, \"#46039f\"], [0.2222222222222222, \"#7201a8\"], [0.3333333333333333, \"#9c179e\"], [0.4444444444444444, \"#bd3786\"], [0.5555555555555556, \"#d8576b\"], [0.6666666666666666, \"#ed7953\"], [0.7777777777777778, \"#fb9f3a\"], [0.8888888888888888, \"#fdca26\"], [1.0, \"#f0f921\"]], \"type\": \"histogram2d\"}], \"histogram2dcontour\": [{\"colorbar\": {\"outlinewidth\": 0, \"ticks\": \"\"}, \"colorscale\": [[0.0, \"#0d0887\"], [0.1111111111111111, \"#46039f\"], [0.2222222222222222, \"#7201a8\"], [0.3333333333333333, \"#9c179e\"], [0.4444444444444444, \"#bd3786\"], [0.5555555555555556, \"#d8576b\"], [0.6666666666666666, \"#ed7953\"], [0.7777777777777778, \"#fb9f3a\"], [0.8888888888888888, \"#fdca26\"], [1.0, \"#f0f921\"]], \"type\": \"histogram2dcontour\"}], \"mesh3d\": [{\"colorbar\": {\"outlinewidth\": 0, \"ticks\": \"\"}, \"type\": \"mesh3d\"}], \"parcoords\": [{\"line\": {\"colorbar\": {\"outlinewidth\": 0, \"ticks\": \"\"}}, \"type\": \"parcoords\"}], \"pie\": [{\"automargin\": true, \"type\": \"pie\"}], \"scatter\": [{\"marker\": {\"colorbar\": {\"outlinewidth\": 0, \"ticks\": \"\"}}, \"type\": \"scatter\"}], \"scatter3d\": [{\"line\": {\"colorbar\": {\"outlinewidth\": 0, \"ticks\": \"\"}}, \"marker\": {\"colorbar\": {\"outlinewidth\": 0, \"ticks\": \"\"}}, \"type\": \"scatter3d\"}], \"scattercarpet\": [{\"marker\": {\"colorbar\": {\"outlinewidth\": 0, \"ticks\": \"\"}}, \"type\": \"scattercarpet\"}], \"scattergeo\": [{\"marker\": {\"colorbar\": {\"outlinewidth\": 0, \"ticks\": \"\"}}, \"type\": \"scattergeo\"}], \"scattergl\": [{\"marker\": {\"colorbar\": {\"outlinewidth\": 0, \"ticks\": \"\"}}, \"type\": \"scattergl\"}], \"scattermapbox\": [{\"marker\": {\"colorbar\": {\"outlinewidth\": 0, \"ticks\": \"\"}}, \"type\": \"scattermapbox\"}], \"scatterpolar\": [{\"marker\": {\"colorbar\": {\"outlinewidth\": 0, \"ticks\": \"\"}}, \"type\": \"scatterpolar\"}], \"scatterpolargl\": [{\"marker\": {\"colorbar\": {\"outlinewidth\": 0, \"ticks\": \"\"}}, \"type\": \"scatterpolargl\"}], \"scatterternary\": [{\"marker\": {\"colorbar\": {\"outlinewidth\": 0, \"ticks\": \"\"}}, \"type\": \"scatterternary\"}], \"surface\": [{\"colorbar\": {\"outlinewidth\": 0, \"ticks\": \"\"}, \"colorscale\": [[0.0, \"#0d0887\"], [0.1111111111111111, \"#46039f\"], [0.2222222222222222, \"#7201a8\"], [0.3333333333333333, \"#9c179e\"], [0.4444444444444444, \"#bd3786\"], [0.5555555555555556, \"#d8576b\"], [0.6666666666666666, \"#ed7953\"], [0.7777777777777778, \"#fb9f3a\"], [0.8888888888888888, \"#fdca26\"], [1.0, \"#f0f921\"]], \"type\": \"surface\"}], \"table\": [{\"cells\": {\"fill\": {\"color\": \"#EBF0F8\"}, \"line\": {\"color\": \"white\"}}, \"header\": {\"fill\": {\"color\": \"#C8D4E3\"}, \"line\": {\"color\": \"white\"}}, \"type\": \"table\"}]}, \"layout\": {\"annotationdefaults\": {\"arrowcolor\": \"#2a3f5f\", \"arrowhead\": 0, \"arrowwidth\": 1}, \"coloraxis\": {\"colorbar\": {\"outlinewidth\": 0, \"ticks\": \"\"}}, \"colorscale\": {\"diverging\": [[0, \"#8e0152\"], [0.1, \"#c51b7d\"], [0.2, \"#de77ae\"], [0.3, \"#f1b6da\"], [0.4, \"#fde0ef\"], [0.5, \"#f7f7f7\"], [0.6, \"#e6f5d0\"], [0.7, \"#b8e186\"], [0.8, \"#7fbc41\"], [0.9, \"#4d9221\"], [1, \"#276419\"]], \"sequential\": [[0.0, \"#0d0887\"], [0.1111111111111111, \"#46039f\"], [0.2222222222222222, \"#7201a8\"], [0.3333333333333333, \"#9c179e\"], [0.4444444444444444, \"#bd3786\"], [0.5555555555555556, \"#d8576b\"], [0.6666666666666666, \"#ed7953\"], [0.7777777777777778, \"#fb9f3a\"], [0.8888888888888888, \"#fdca26\"], [1.0, \"#f0f921\"]], \"sequentialminus\": [[0.0, \"#0d0887\"], [0.1111111111111111, \"#46039f\"], [0.2222222222222222, \"#7201a8\"], [0.3333333333333333, \"#9c179e\"], [0.4444444444444444, \"#bd3786\"], [0.5555555555555556, \"#d8576b\"], [0.6666666666666666, \"#ed7953\"], [0.7777777777777778, \"#fb9f3a\"], [0.8888888888888888, \"#fdca26\"], [1.0, \"#f0f921\"]]}, \"colorway\": [\"#636efa\", \"#EF553B\", \"#00cc96\", \"#ab63fa\", \"#FFA15A\", \"#19d3f3\", \"#FF6692\", \"#B6E880\", \"#FF97FF\", \"#FECB52\"], \"font\": {\"color\": \"#2a3f5f\"}, \"geo\": {\"bgcolor\": \"white\", \"lakecolor\": \"white\", \"landcolor\": \"#E5ECF6\", \"showlakes\": true, \"showland\": true, \"subunitcolor\": \"white\"}, \"hoverlabel\": {\"align\": \"left\"}, \"hovermode\": \"closest\", \"mapbox\": {\"style\": \"light\"}, \"paper_bgcolor\": \"white\", \"plot_bgcolor\": \"#E5ECF6\", \"polar\": {\"angularaxis\": {\"gridcolor\": \"white\", \"linecolor\": \"white\", \"ticks\": \"\"}, \"bgcolor\": \"#E5ECF6\", \"radialaxis\": {\"gridcolor\": \"white\", \"linecolor\": \"white\", \"ticks\": \"\"}}, \"scene\": {\"xaxis\": {\"backgroundcolor\": \"#E5ECF6\", \"gridcolor\": \"white\", \"gridwidth\": 2, \"linecolor\": \"white\", \"showbackground\": true, \"ticks\": \"\", \"zerolinecolor\": \"white\"}, \"yaxis\": {\"backgroundcolor\": \"#E5ECF6\", \"gridcolor\": \"white\", \"gridwidth\": 2, \"linecolor\": \"white\", \"showbackground\": true, \"ticks\": \"\", \"zerolinecolor\": \"white\"}, \"zaxis\": {\"backgroundcolor\": \"#E5ECF6\", \"gridcolor\": \"white\", \"gridwidth\": 2, \"linecolor\": \"white\", \"showbackground\": true, \"ticks\": \"\", \"zerolinecolor\": \"white\"}}, \"shapedefaults\": {\"line\": {\"color\": \"#2a3f5f\"}}, \"ternary\": {\"aaxis\": {\"gridcolor\": \"white\", \"linecolor\": \"white\", \"ticks\": \"\"}, \"baxis\": {\"gridcolor\": \"white\", \"linecolor\": \"white\", \"ticks\": \"\"}, \"bgcolor\": \"#E5ECF6\", \"caxis\": {\"gridcolor\": \"white\", \"linecolor\": \"white\", \"ticks\": \"\"}}, \"title\": {\"x\": 0.05}, \"xaxis\": {\"automargin\": true, \"gridcolor\": \"white\", \"linecolor\": \"white\", \"ticks\": \"\", \"title\": {\"standoff\": 15}, \"zerolinecolor\": \"white\", \"zerolinewidth\": 2}, \"yaxis\": {\"automargin\": true, \"gridcolor\": \"white\", \"linecolor\": \"white\", \"ticks\": \"\", \"title\": {\"standoff\": 15}, \"zerolinecolor\": \"white\", \"zerolinewidth\": 2}}}, \"xaxis\": {\"anchor\": \"y\", \"domain\": [0.0, 1.0], \"title\": {\"text\": \"IC\"}}, \"yaxis\": {\"anchor\": \"x\", \"domain\": [0.0, 1.0], \"title\": {\"text\": \"log<sub>10</sub>(T7 + PR772) NR\"}}},\n",
       "                        {\"responsive\": true}\n",
       "                    ).then(function(){\n",
       "                            \n",
       "var gd = document.getElementById('ddaedec9-1881-4a25-bde5-35dbe2eabccd');\n",
       "var x = new MutationObserver(function (mutations, observer) {{\n",
       "        var display = window.getComputedStyle(gd).display;\n",
       "        if (!display || display === 'none') {{\n",
       "            console.log([gd, 'removed!']);\n",
       "            Plotly.purge(gd);\n",
       "            observer.disconnect();\n",
       "        }}\n",
       "}});\n",
       "\n",
       "// Listen for the removal of the full notebook cells\n",
       "var notebookContainer = gd.closest('#notebook-container');\n",
       "if (notebookContainer) {{\n",
       "    x.observe(notebookContainer, {childList: true});\n",
       "}}\n",
       "\n",
       "// Listen for the clearing of the current output cell\n",
       "var outputEl = gd.closest('.output');\n",
       "if (outputEl) {{\n",
       "    x.observe(outputEl, {childList: true});\n",
       "}}\n",
       "\n",
       "                        })\n",
       "                };\n",
       "                });\n",
       "            </script>\n",
       "        </div>"
      ]
     },
     "metadata": {},
     "output_type": "display_data"
    }
   ],
   "source": [
    "fig = px.box(\n",
    "    merged, y='Log10 T7 + PR772 NR (Composition File)',\n",
    "    x='IC', hover_data=['T7 + PR772 NR (Composition File)', 'Accession', 'Batch ID', 'Run Date'], points='all',\n",
    "    labels={'Log10 T7 + PR772 NR (Composition File)': 'log<sub>10</sub>(T7 + PR772) NR',\n",
    "            'T7 + PR772 NR (Composition File)': 'T7 + PR772 NR'})\n",
    "fig.update_layout(font=dict(size=18), height=600)\n",
    "fig.show()\n",
    "fig.write_html('plots/Diluted_Hi_IC_vs_Low_IC.html')"
   ]
  },
  {
   "cell_type": "code",
   "execution_count": 77,
   "metadata": {},
   "outputs": [
    {
     "data": {
      "application/vnd.plotly.v1+json": {
       "config": {
        "plotlyServerURL": "https://plot.ly"
       },
       "data": [
        {
         "customdata": [
          [
           99264.60795910042,
           "controlneg",
           "2019-11-21"
          ],
          [
           110353.95480036669,
           "controlneg",
           "2019-11-24"
          ],
          [
           113394.30190942615,
           "controlneg",
           "2019-11-26"
          ],
          [
           115592.27838843988,
           "controlneg",
           "2019-11-27"
          ],
          [
           151541.88626024956,
           "controlneg",
           "2019-12-01"
          ],
          [
           119989.69223680561,
           "controlneg",
           "2019-12-04"
          ],
          [
           169023.34782414234,
           "controlneg",
           "2019-12-10"
          ],
          [
           81296.7092805203,
           "controlneg",
           "2019-12-11"
          ],
          [
           41459.84937098144,
           "controlneg",
           "2019-12-13"
          ],
          [
           5236.962858478826,
           "controlneg",
           "2019-12-20"
          ],
          [
           6335.327851558352,
           "controlneg",
           "2019-12-24"
          ],
          [
           6463.652568748615,
           "controlneg",
           "2019-12-25"
          ],
          [
           7750.54380779208,
           "controlneg",
           "2020-01-17"
          ],
          [
           6847.422828544828,
           "controlneg",
           "2020-01-18"
          ],
          [
           7256.320679560567,
           "controlneg",
           "2020-01-18"
          ],
          [
           4087.081680907999,
           "IDBD-D101325",
           "2020-01-20"
          ],
          [
           4069.388217397553,
           "IDBD-D101326",
           "2020-01-20"
          ],
          [
           4528.987491931303,
           "IDBD-D101327",
           "2020-01-20"
          ],
          [
           3936.474466767371,
           "IDBD-D101328",
           "2020-01-20"
          ],
          [
           4226.835267167544,
           "IDBD-D101329",
           "2020-01-20"
          ],
          [
           6065.263744791783,
           "IDBD-D101330",
           "2020-01-20"
          ],
          [
           6485.633339481331,
           "IDBD-D101331",
           "2020-01-20"
          ],
          [
           5427.159827785494,
           "IDBD-D101332",
           "2020-01-20"
          ],
          [
           5942.472657614007,
           "controlNeg",
           "2020-01-20"
          ],
          [
           5733.678786763884,
           "IDBD-D101333",
           "2020-01-20"
          ],
          [
           5642.290092702827,
           "IDBD-D101334",
           "2020-01-20"
          ],
          [
           6373.47932698333,
           "IDBD-D101335",
           "2020-01-20"
          ],
          [
           5455.027941817089,
           "IDBD-D101336",
           "2020-01-20"
          ],
          [
           5791.7543573630555,
           "IDBD-D101337",
           "2020-01-20"
          ],
          [
           6506.286699523414,
           "IDBD-D101338",
           "2020-01-20"
          ],
          [
           6981.192666955223,
           "IDBD-D101339",
           "2020-01-20"
          ],
          [
           5870.396597770782,
           "IDBD-D101340",
           "2020-01-20"
          ],
          [
           5978.470544211966,
           "controlNeg",
           "2020-01-20"
          ]
         ],
         "hoverlabel": {
          "namelength": 0
         },
         "hovertemplate": "Batch ID=%{x}<br>log<sub>10</sub>(T7 + PR772) NR=%{y}<br>T7 + PR772 NR=%{customdata[0]}<br>Accession=%{customdata[1]}<br>Run Date=%{customdata[2]}",
         "legendgroup": "",
         "marker": {
          "color": "#636efa",
          "symbol": "circle"
         },
         "mode": "markers",
         "name": "",
         "showlegend": false,
         "type": "scatter",
         "x": [
          "191121B01",
          "191123B01",
          "191126B01",
          "191127B01",
          "191130B01",
          "191203B01",
          "191210B01",
          "191210B02",
          "191211B02",
          "191220B01",
          "191223B01",
          "191223B04",
          "200114B02",
          "200116B03",
          "200117B01",
          "200119B01",
          "200119B01",
          "200119B01",
          "200119B01",
          "200119B01",
          "200119B01",
          "200119B01",
          "200119B01",
          "200119B01",
          "200119B02",
          "200119B02",
          "200119B02",
          "200119B02",
          "200119B02",
          "200119B02",
          "200119B02",
          "200119B02",
          "200119B02"
         ],
         "xaxis": "x",
         "y": [
          4.996794431699109,
          5.0427879017677215,
          5.054591231704434,
          5.062928824004099,
          5.180532688663176,
          5.079143939406351,
          5.227946699470661,
          4.910072966624383,
          4.617627719912439,
          3.719079493814623,
          3.801769094426791,
          3.810478004398575,
          3.8893321753369854,
          3.835527146391352,
          3.8607164673108865,
          3.611413317235241,
          3.609529123284368,
          3.6560011212586434,
          3.5951074388142383,
          3.6260153223607854,
          3.7828496906794666,
          3.8119523925113104,
          3.7345726115745386,
          3.7739671921377567,
          3.7584333591644485,
          3.7514554112098666,
          3.8043765814699584,
          3.7367969794790623,
          3.7628101340758273,
          3.813333196553832,
          3.843929623830897,
          3.768667442713555,
          3.776590093826801
         ],
         "yaxis": "y"
        }
       ],
       "layout": {
        "autosize": true,
        "font": {
         "size": 18
        },
        "legend": {
         "tracegroupgap": 0
        },
        "margin": {
         "t": 60
        },
        "template": {
         "data": {
          "bar": [
           {
            "error_x": {
             "color": "#2a3f5f"
            },
            "error_y": {
             "color": "#2a3f5f"
            },
            "marker": {
             "line": {
              "color": "#E5ECF6",
              "width": 0.5
             }
            },
            "type": "bar"
           }
          ],
          "barpolar": [
           {
            "marker": {
             "line": {
              "color": "#E5ECF6",
              "width": 0.5
             }
            },
            "type": "barpolar"
           }
          ],
          "carpet": [
           {
            "aaxis": {
             "endlinecolor": "#2a3f5f",
             "gridcolor": "white",
             "linecolor": "white",
             "minorgridcolor": "white",
             "startlinecolor": "#2a3f5f"
            },
            "baxis": {
             "endlinecolor": "#2a3f5f",
             "gridcolor": "white",
             "linecolor": "white",
             "minorgridcolor": "white",
             "startlinecolor": "#2a3f5f"
            },
            "type": "carpet"
           }
          ],
          "choropleth": [
           {
            "colorbar": {
             "outlinewidth": 0,
             "ticks": ""
            },
            "type": "choropleth"
           }
          ],
          "contour": [
           {
            "colorbar": {
             "outlinewidth": 0,
             "ticks": ""
            },
            "colorscale": [
             [
              0,
              "#0d0887"
             ],
             [
              0.1111111111111111,
              "#46039f"
             ],
             [
              0.2222222222222222,
              "#7201a8"
             ],
             [
              0.3333333333333333,
              "#9c179e"
             ],
             [
              0.4444444444444444,
              "#bd3786"
             ],
             [
              0.5555555555555556,
              "#d8576b"
             ],
             [
              0.6666666666666666,
              "#ed7953"
             ],
             [
              0.7777777777777778,
              "#fb9f3a"
             ],
             [
              0.8888888888888888,
              "#fdca26"
             ],
             [
              1,
              "#f0f921"
             ]
            ],
            "type": "contour"
           }
          ],
          "contourcarpet": [
           {
            "colorbar": {
             "outlinewidth": 0,
             "ticks": ""
            },
            "type": "contourcarpet"
           }
          ],
          "heatmap": [
           {
            "colorbar": {
             "outlinewidth": 0,
             "ticks": ""
            },
            "colorscale": [
             [
              0,
              "#0d0887"
             ],
             [
              0.1111111111111111,
              "#46039f"
             ],
             [
              0.2222222222222222,
              "#7201a8"
             ],
             [
              0.3333333333333333,
              "#9c179e"
             ],
             [
              0.4444444444444444,
              "#bd3786"
             ],
             [
              0.5555555555555556,
              "#d8576b"
             ],
             [
              0.6666666666666666,
              "#ed7953"
             ],
             [
              0.7777777777777778,
              "#fb9f3a"
             ],
             [
              0.8888888888888888,
              "#fdca26"
             ],
             [
              1,
              "#f0f921"
             ]
            ],
            "type": "heatmap"
           }
          ],
          "heatmapgl": [
           {
            "colorbar": {
             "outlinewidth": 0,
             "ticks": ""
            },
            "colorscale": [
             [
              0,
              "#0d0887"
             ],
             [
              0.1111111111111111,
              "#46039f"
             ],
             [
              0.2222222222222222,
              "#7201a8"
             ],
             [
              0.3333333333333333,
              "#9c179e"
             ],
             [
              0.4444444444444444,
              "#bd3786"
             ],
             [
              0.5555555555555556,
              "#d8576b"
             ],
             [
              0.6666666666666666,
              "#ed7953"
             ],
             [
              0.7777777777777778,
              "#fb9f3a"
             ],
             [
              0.8888888888888888,
              "#fdca26"
             ],
             [
              1,
              "#f0f921"
             ]
            ],
            "type": "heatmapgl"
           }
          ],
          "histogram": [
           {
            "marker": {
             "colorbar": {
              "outlinewidth": 0,
              "ticks": ""
             }
            },
            "type": "histogram"
           }
          ],
          "histogram2d": [
           {
            "colorbar": {
             "outlinewidth": 0,
             "ticks": ""
            },
            "colorscale": [
             [
              0,
              "#0d0887"
             ],
             [
              0.1111111111111111,
              "#46039f"
             ],
             [
              0.2222222222222222,
              "#7201a8"
             ],
             [
              0.3333333333333333,
              "#9c179e"
             ],
             [
              0.4444444444444444,
              "#bd3786"
             ],
             [
              0.5555555555555556,
              "#d8576b"
             ],
             [
              0.6666666666666666,
              "#ed7953"
             ],
             [
              0.7777777777777778,
              "#fb9f3a"
             ],
             [
              0.8888888888888888,
              "#fdca26"
             ],
             [
              1,
              "#f0f921"
             ]
            ],
            "type": "histogram2d"
           }
          ],
          "histogram2dcontour": [
           {
            "colorbar": {
             "outlinewidth": 0,
             "ticks": ""
            },
            "colorscale": [
             [
              0,
              "#0d0887"
             ],
             [
              0.1111111111111111,
              "#46039f"
             ],
             [
              0.2222222222222222,
              "#7201a8"
             ],
             [
              0.3333333333333333,
              "#9c179e"
             ],
             [
              0.4444444444444444,
              "#bd3786"
             ],
             [
              0.5555555555555556,
              "#d8576b"
             ],
             [
              0.6666666666666666,
              "#ed7953"
             ],
             [
              0.7777777777777778,
              "#fb9f3a"
             ],
             [
              0.8888888888888888,
              "#fdca26"
             ],
             [
              1,
              "#f0f921"
             ]
            ],
            "type": "histogram2dcontour"
           }
          ],
          "mesh3d": [
           {
            "colorbar": {
             "outlinewidth": 0,
             "ticks": ""
            },
            "type": "mesh3d"
           }
          ],
          "parcoords": [
           {
            "line": {
             "colorbar": {
              "outlinewidth": 0,
              "ticks": ""
             }
            },
            "type": "parcoords"
           }
          ],
          "pie": [
           {
            "automargin": true,
            "type": "pie"
           }
          ],
          "scatter": [
           {
            "marker": {
             "colorbar": {
              "outlinewidth": 0,
              "ticks": ""
             }
            },
            "type": "scatter"
           }
          ],
          "scatter3d": [
           {
            "line": {
             "colorbar": {
              "outlinewidth": 0,
              "ticks": ""
             }
            },
            "marker": {
             "colorbar": {
              "outlinewidth": 0,
              "ticks": ""
             }
            },
            "type": "scatter3d"
           }
          ],
          "scattercarpet": [
           {
            "marker": {
             "colorbar": {
              "outlinewidth": 0,
              "ticks": ""
             }
            },
            "type": "scattercarpet"
           }
          ],
          "scattergeo": [
           {
            "marker": {
             "colorbar": {
              "outlinewidth": 0,
              "ticks": ""
             }
            },
            "type": "scattergeo"
           }
          ],
          "scattergl": [
           {
            "marker": {
             "colorbar": {
              "outlinewidth": 0,
              "ticks": ""
             }
            },
            "type": "scattergl"
           }
          ],
          "scattermapbox": [
           {
            "marker": {
             "colorbar": {
              "outlinewidth": 0,
              "ticks": ""
             }
            },
            "type": "scattermapbox"
           }
          ],
          "scatterpolar": [
           {
            "marker": {
             "colorbar": {
              "outlinewidth": 0,
              "ticks": ""
             }
            },
            "type": "scatterpolar"
           }
          ],
          "scatterpolargl": [
           {
            "marker": {
             "colorbar": {
              "outlinewidth": 0,
              "ticks": ""
             }
            },
            "type": "scatterpolargl"
           }
          ],
          "scatterternary": [
           {
            "marker": {
             "colorbar": {
              "outlinewidth": 0,
              "ticks": ""
             }
            },
            "type": "scatterternary"
           }
          ],
          "surface": [
           {
            "colorbar": {
             "outlinewidth": 0,
             "ticks": ""
            },
            "colorscale": [
             [
              0,
              "#0d0887"
             ],
             [
              0.1111111111111111,
              "#46039f"
             ],
             [
              0.2222222222222222,
              "#7201a8"
             ],
             [
              0.3333333333333333,
              "#9c179e"
             ],
             [
              0.4444444444444444,
              "#bd3786"
             ],
             [
              0.5555555555555556,
              "#d8576b"
             ],
             [
              0.6666666666666666,
              "#ed7953"
             ],
             [
              0.7777777777777778,
              "#fb9f3a"
             ],
             [
              0.8888888888888888,
              "#fdca26"
             ],
             [
              1,
              "#f0f921"
             ]
            ],
            "type": "surface"
           }
          ],
          "table": [
           {
            "cells": {
             "fill": {
              "color": "#EBF0F8"
             },
             "line": {
              "color": "white"
             }
            },
            "header": {
             "fill": {
              "color": "#C8D4E3"
             },
             "line": {
              "color": "white"
             }
            },
            "type": "table"
           }
          ]
         },
         "layout": {
          "annotationdefaults": {
           "arrowcolor": "#2a3f5f",
           "arrowhead": 0,
           "arrowwidth": 1
          },
          "coloraxis": {
           "colorbar": {
            "outlinewidth": 0,
            "ticks": ""
           }
          },
          "colorscale": {
           "diverging": [
            [
             0,
             "#8e0152"
            ],
            [
             0.1,
             "#c51b7d"
            ],
            [
             0.2,
             "#de77ae"
            ],
            [
             0.3,
             "#f1b6da"
            ],
            [
             0.4,
             "#fde0ef"
            ],
            [
             0.5,
             "#f7f7f7"
            ],
            [
             0.6,
             "#e6f5d0"
            ],
            [
             0.7,
             "#b8e186"
            ],
            [
             0.8,
             "#7fbc41"
            ],
            [
             0.9,
             "#4d9221"
            ],
            [
             1,
             "#276419"
            ]
           ],
           "sequential": [
            [
             0,
             "#0d0887"
            ],
            [
             0.1111111111111111,
             "#46039f"
            ],
            [
             0.2222222222222222,
             "#7201a8"
            ],
            [
             0.3333333333333333,
             "#9c179e"
            ],
            [
             0.4444444444444444,
             "#bd3786"
            ],
            [
             0.5555555555555556,
             "#d8576b"
            ],
            [
             0.6666666666666666,
             "#ed7953"
            ],
            [
             0.7777777777777778,
             "#fb9f3a"
            ],
            [
             0.8888888888888888,
             "#fdca26"
            ],
            [
             1,
             "#f0f921"
            ]
           ],
           "sequentialminus": [
            [
             0,
             "#0d0887"
            ],
            [
             0.1111111111111111,
             "#46039f"
            ],
            [
             0.2222222222222222,
             "#7201a8"
            ],
            [
             0.3333333333333333,
             "#9c179e"
            ],
            [
             0.4444444444444444,
             "#bd3786"
            ],
            [
             0.5555555555555556,
             "#d8576b"
            ],
            [
             0.6666666666666666,
             "#ed7953"
            ],
            [
             0.7777777777777778,
             "#fb9f3a"
            ],
            [
             0.8888888888888888,
             "#fdca26"
            ],
            [
             1,
             "#f0f921"
            ]
           ]
          },
          "colorway": [
           "#636efa",
           "#EF553B",
           "#00cc96",
           "#ab63fa",
           "#FFA15A",
           "#19d3f3",
           "#FF6692",
           "#B6E880",
           "#FF97FF",
           "#FECB52"
          ],
          "font": {
           "color": "#2a3f5f"
          },
          "geo": {
           "bgcolor": "white",
           "lakecolor": "white",
           "landcolor": "#E5ECF6",
           "showlakes": true,
           "showland": true,
           "subunitcolor": "white"
          },
          "hoverlabel": {
           "align": "left"
          },
          "hovermode": "closest",
          "mapbox": {
           "style": "light"
          },
          "paper_bgcolor": "white",
          "plot_bgcolor": "#E5ECF6",
          "polar": {
           "angularaxis": {
            "gridcolor": "white",
            "linecolor": "white",
            "ticks": ""
           },
           "bgcolor": "#E5ECF6",
           "radialaxis": {
            "gridcolor": "white",
            "linecolor": "white",
            "ticks": ""
           }
          },
          "scene": {
           "xaxis": {
            "backgroundcolor": "#E5ECF6",
            "gridcolor": "white",
            "gridwidth": 2,
            "linecolor": "white",
            "showbackground": true,
            "ticks": "",
            "zerolinecolor": "white"
           },
           "yaxis": {
            "backgroundcolor": "#E5ECF6",
            "gridcolor": "white",
            "gridwidth": 2,
            "linecolor": "white",
            "showbackground": true,
            "ticks": "",
            "zerolinecolor": "white"
           },
           "zaxis": {
            "backgroundcolor": "#E5ECF6",
            "gridcolor": "white",
            "gridwidth": 2,
            "linecolor": "white",
            "showbackground": true,
            "ticks": "",
            "zerolinecolor": "white"
           }
          },
          "shapedefaults": {
           "line": {
            "color": "#2a3f5f"
           }
          },
          "ternary": {
           "aaxis": {
            "gridcolor": "white",
            "linecolor": "white",
            "ticks": ""
           },
           "baxis": {
            "gridcolor": "white",
            "linecolor": "white",
            "ticks": ""
           },
           "bgcolor": "#E5ECF6",
           "caxis": {
            "gridcolor": "white",
            "linecolor": "white",
            "ticks": ""
           }
          },
          "title": {
           "x": 0.05
          },
          "xaxis": {
           "automargin": true,
           "gridcolor": "white",
           "linecolor": "white",
           "ticks": "",
           "title": {
            "standoff": 15
           },
           "zerolinecolor": "white",
           "zerolinewidth": 2
          },
          "yaxis": {
           "automargin": true,
           "gridcolor": "white",
           "linecolor": "white",
           "ticks": "",
           "title": {
            "standoff": 15
           },
           "zerolinecolor": "white",
           "zerolinewidth": 2
          }
         }
        },
        "xaxis": {
         "anchor": "y",
         "autorange": true,
         "domain": [
          0,
          1
         ],
         "range": [
          -0.9503781590112528,
          16.95037815901125
         ],
         "title": {
          "text": "Batch ID"
         },
         "type": "category"
        },
        "yaxis": {
         "anchor": "x",
         "autorange": true,
         "domain": [
          0,
          1
         ],
         "range": [
          3.486381181452552,
          5.336672956832348
         ],
         "title": {
          "text": "log<sub>10</sub>(T7 + PR772) NR"
         },
         "type": "linear"
        }
       }
      },
      "image/png": "[encoded data removed]",
      "text/html": [
       "<div>\n",
       "        \n",
       "        \n",
       "            <div id=\"7e65e950-903c-44e6-8202-fdd74d76e752\" class=\"plotly-graph-div\" style=\"height:600px; width:100%;\"></div>\n",
       "            <script type=\"text/javascript\">\n",
       "                require([\"plotly\"], function(Plotly) {\n",
       "                    window.PLOTLYENV=window.PLOTLYENV || {};\n",
       "                    \n",
       "                if (document.getElementById(\"7e65e950-903c-44e6-8202-fdd74d76e752\")) {\n",
       "                    Plotly.newPlot(\n",
       "                        '7e65e950-903c-44e6-8202-fdd74d76e752',\n",
       "                        [{\"customdata\": [[99264.60795910042, \"controlneg\", \"2019-11-21\"], [110353.95480036669, \"controlneg\", \"2019-11-24\"], [113394.30190942615, \"controlneg\", \"2019-11-26\"], [115592.27838843988, \"controlneg\", \"2019-11-27\"], [151541.88626024956, \"controlneg\", \"2019-12-01\"], [119989.69223680561, \"controlneg\", \"2019-12-04\"], [169023.34782414234, \"controlneg\", \"2019-12-10\"], [81296.7092805203, \"controlneg\", \"2019-12-11\"], [41459.84937098144, \"controlneg\", \"2019-12-13\"], [5236.962858478826, \"controlneg\", \"2019-12-20\"], [6335.327851558352, \"controlneg\", \"2019-12-24\"], [6463.652568748615, \"controlneg\", \"2019-12-25\"], [7750.54380779208, \"controlneg\", \"2020-01-17\"], [6847.422828544828, \"controlneg\", \"2020-01-18\"], [7256.320679560567, \"controlneg\", \"2020-01-18\"], [4087.081680907999, \"IDBD-D101325\", \"2020-01-20\"], [4069.388217397553, \"IDBD-D101326\", \"2020-01-20\"], [4528.987491931303, \"IDBD-D101327\", \"2020-01-20\"], [3936.474466767371, \"IDBD-D101328\", \"2020-01-20\"], [4226.835267167544, \"IDBD-D101329\", \"2020-01-20\"], [6065.263744791783, \"IDBD-D101330\", \"2020-01-20\"], [6485.633339481331, \"IDBD-D101331\", \"2020-01-20\"], [5427.159827785494, \"IDBD-D101332\", \"2020-01-20\"], [5942.472657614007, \"controlNeg\", \"2020-01-20\"], [5733.678786763884, \"IDBD-D101333\", \"2020-01-20\"], [5642.290092702827, \"IDBD-D101334\", \"2020-01-20\"], [6373.47932698333, \"IDBD-D101335\", \"2020-01-20\"], [5455.027941817089, \"IDBD-D101336\", \"2020-01-20\"], [5791.7543573630555, \"IDBD-D101337\", \"2020-01-20\"], [6506.286699523414, \"IDBD-D101338\", \"2020-01-20\"], [6981.192666955223, \"IDBD-D101339\", \"2020-01-20\"], [5870.396597770782, \"IDBD-D101340\", \"2020-01-20\"], [5978.470544211966, \"controlNeg\", \"2020-01-20\"]], \"hoverlabel\": {\"namelength\": 0}, \"hovertemplate\": \"Batch ID=%{x}<br>log<sub>10</sub>(T7 + PR772) NR=%{y}<br>T7 + PR772 NR=%{customdata[0]}<br>Accession=%{customdata[1]}<br>Run Date=%{customdata[2]}\", \"legendgroup\": \"\", \"marker\": {\"color\": \"#636efa\", \"symbol\": \"circle\"}, \"mode\": \"markers\", \"name\": \"\", \"showlegend\": false, \"type\": \"scatter\", \"x\": [\"191121B01\", \"191123B01\", \"191126B01\", \"191127B01\", \"191130B01\", \"191203B01\", \"191210B01\", \"191210B02\", \"191211B02\", \"191220B01\", \"191223B01\", \"191223B04\", \"200114B02\", \"200116B03\", \"200117B01\", \"200119B01\", \"200119B01\", \"200119B01\", \"200119B01\", \"200119B01\", \"200119B01\", \"200119B01\", \"200119B01\", \"200119B01\", \"200119B02\", \"200119B02\", \"200119B02\", \"200119B02\", \"200119B02\", \"200119B02\", \"200119B02\", \"200119B02\", \"200119B02\"], \"xaxis\": \"x\", \"y\": [4.996794431699109, 5.0427879017677215, 5.054591231704434, 5.062928824004099, 5.180532688663176, 5.079143939406351, 5.227946699470661, 4.910072966624383, 4.617627719912439, 3.719079493814623, 3.801769094426791, 3.810478004398575, 3.8893321753369854, 3.835527146391352, 3.8607164673108865, 3.611413317235241, 3.609529123284368, 3.6560011212586434, 3.5951074388142383, 3.6260153223607854, 3.7828496906794666, 3.8119523925113104, 3.7345726115745386, 3.7739671921377567, 3.7584333591644485, 3.7514554112098666, 3.8043765814699584, 3.7367969794790623, 3.7628101340758273, 3.813333196553832, 3.843929623830897, 3.768667442713555, 3.776590093826801], \"yaxis\": \"y\"}],\n",
       "                        {\"font\": {\"size\": 18}, \"height\": 600, \"legend\": {\"tracegroupgap\": 0}, \"margin\": {\"t\": 60}, \"template\": {\"data\": {\"bar\": [{\"error_x\": {\"color\": \"#2a3f5f\"}, \"error_y\": {\"color\": \"#2a3f5f\"}, \"marker\": {\"line\": {\"color\": \"#E5ECF6\", \"width\": 0.5}}, \"type\": \"bar\"}], \"barpolar\": [{\"marker\": {\"line\": {\"color\": \"#E5ECF6\", \"width\": 0.5}}, \"type\": \"barpolar\"}], \"carpet\": [{\"aaxis\": {\"endlinecolor\": \"#2a3f5f\", \"gridcolor\": \"white\", \"linecolor\": \"white\", \"minorgridcolor\": \"white\", \"startlinecolor\": \"#2a3f5f\"}, \"baxis\": {\"endlinecolor\": \"#2a3f5f\", \"gridcolor\": \"white\", \"linecolor\": \"white\", \"minorgridcolor\": \"white\", \"startlinecolor\": \"#2a3f5f\"}, \"type\": \"carpet\"}], \"choropleth\": [{\"colorbar\": {\"outlinewidth\": 0, \"ticks\": \"\"}, \"type\": \"choropleth\"}], \"contour\": [{\"colorbar\": {\"outlinewidth\": 0, \"ticks\": \"\"}, \"colorscale\": [[0.0, \"#0d0887\"], [0.1111111111111111, \"#46039f\"], [0.2222222222222222, \"#7201a8\"], [0.3333333333333333, \"#9c179e\"], [0.4444444444444444, \"#bd3786\"], [0.5555555555555556, \"#d8576b\"], [0.6666666666666666, \"#ed7953\"], [0.7777777777777778, \"#fb9f3a\"], [0.8888888888888888, \"#fdca26\"], [1.0, \"#f0f921\"]], \"type\": \"contour\"}], \"contourcarpet\": [{\"colorbar\": {\"outlinewidth\": 0, \"ticks\": \"\"}, \"type\": \"contourcarpet\"}], \"heatmap\": [{\"colorbar\": {\"outlinewidth\": 0, \"ticks\": \"\"}, \"colorscale\": [[0.0, \"#0d0887\"], [0.1111111111111111, \"#46039f\"], [0.2222222222222222, \"#7201a8\"], [0.3333333333333333, \"#9c179e\"], [0.4444444444444444, \"#bd3786\"], [0.5555555555555556, \"#d8576b\"], [0.6666666666666666, \"#ed7953\"], [0.7777777777777778, \"#fb9f3a\"], [0.8888888888888888, \"#fdca26\"], [1.0, \"#f0f921\"]], \"type\": \"heatmap\"}], \"heatmapgl\": [{\"colorbar\": {\"outlinewidth\": 0, \"ticks\": \"\"}, \"colorscale\": [[0.0, \"#0d0887\"], [0.1111111111111111, \"#46039f\"], [0.2222222222222222, \"#7201a8\"], [0.3333333333333333, \"#9c179e\"], [0.4444444444444444, \"#bd3786\"], [0.5555555555555556, \"#d8576b\"], [0.6666666666666666, \"#ed7953\"], [0.7777777777777778, \"#fb9f3a\"], [0.8888888888888888, \"#fdca26\"], [1.0, \"#f0f921\"]], \"type\": \"heatmapgl\"}], \"histogram\": [{\"marker\": {\"colorbar\": {\"outlinewidth\": 0, \"ticks\": \"\"}}, \"type\": \"histogram\"}], \"histogram2d\": [{\"colorbar\": {\"outlinewidth\": 0, \"ticks\": \"\"}, \"colorscale\": [[0.0, \"#0d0887\"], [0.1111111111111111, \"#46039f\"], [0.2222222222222222, \"#7201a8\"], [0.3333333333333333, \"#9c179e\"], [0.4444444444444444, \"#bd3786\"], [0.5555555555555556, \"#d8576b\"], [0.6666666666666666, \"#ed7953\"], [0.7777777777777778, \"#fb9f3a\"], [0.8888888888888888, \"#fdca26\"], [1.0, \"#f0f921\"]], \"type\": \"histogram2d\"}], \"histogram2dcontour\": [{\"colorbar\": {\"outlinewidth\": 0, \"ticks\": \"\"}, \"colorscale\": [[0.0, \"#0d0887\"], [0.1111111111111111, \"#46039f\"], [0.2222222222222222, \"#7201a8\"], [0.3333333333333333, \"#9c179e\"], [0.4444444444444444, \"#bd3786\"], [0.5555555555555556, \"#d8576b\"], [0.6666666666666666, \"#ed7953\"], [0.7777777777777778, \"#fb9f3a\"], [0.8888888888888888, \"#fdca26\"], [1.0, \"#f0f921\"]], \"type\": \"histogram2dcontour\"}], \"mesh3d\": [{\"colorbar\": {\"outlinewidth\": 0, \"ticks\": \"\"}, \"type\": \"mesh3d\"}], \"parcoords\": [{\"line\": {\"colorbar\": {\"outlinewidth\": 0, \"ticks\": \"\"}}, \"type\": \"parcoords\"}], \"pie\": [{\"automargin\": true, \"type\": \"pie\"}], \"scatter\": [{\"marker\": {\"colorbar\": {\"outlinewidth\": 0, \"ticks\": \"\"}}, \"type\": \"scatter\"}], \"scatter3d\": [{\"line\": {\"colorbar\": {\"outlinewidth\": 0, \"ticks\": \"\"}}, \"marker\": {\"colorbar\": {\"outlinewidth\": 0, \"ticks\": \"\"}}, \"type\": \"scatter3d\"}], \"scattercarpet\": [{\"marker\": {\"colorbar\": {\"outlinewidth\": 0, \"ticks\": \"\"}}, \"type\": \"scattercarpet\"}], \"scattergeo\": [{\"marker\": {\"colorbar\": {\"outlinewidth\": 0, \"ticks\": \"\"}}, \"type\": \"scattergeo\"}], \"scattergl\": [{\"marker\": {\"colorbar\": {\"outlinewidth\": 0, \"ticks\": \"\"}}, \"type\": \"scattergl\"}], \"scattermapbox\": [{\"marker\": {\"colorbar\": {\"outlinewidth\": 0, \"ticks\": \"\"}}, \"type\": \"scattermapbox\"}], \"scatterpolar\": [{\"marker\": {\"colorbar\": {\"outlinewidth\": 0, \"ticks\": \"\"}}, \"type\": \"scatterpolar\"}], \"scatterpolargl\": [{\"marker\": {\"colorbar\": {\"outlinewidth\": 0, \"ticks\": \"\"}}, \"type\": \"scatterpolargl\"}], \"scatterternary\": [{\"marker\": {\"colorbar\": {\"outlinewidth\": 0, \"ticks\": \"\"}}, \"type\": \"scatterternary\"}], \"surface\": [{\"colorbar\": {\"outlinewidth\": 0, \"ticks\": \"\"}, \"colorscale\": [[0.0, \"#0d0887\"], [0.1111111111111111, \"#46039f\"], [0.2222222222222222, \"#7201a8\"], [0.3333333333333333, \"#9c179e\"], [0.4444444444444444, \"#bd3786\"], [0.5555555555555556, \"#d8576b\"], [0.6666666666666666, \"#ed7953\"], [0.7777777777777778, \"#fb9f3a\"], [0.8888888888888888, \"#fdca26\"], [1.0, \"#f0f921\"]], \"type\": \"surface\"}], \"table\": [{\"cells\": {\"fill\": {\"color\": \"#EBF0F8\"}, \"line\": {\"color\": \"white\"}}, \"header\": {\"fill\": {\"color\": \"#C8D4E3\"}, \"line\": {\"color\": \"white\"}}, \"type\": \"table\"}]}, \"layout\": {\"annotationdefaults\": {\"arrowcolor\": \"#2a3f5f\", \"arrowhead\": 0, \"arrowwidth\": 1}, \"coloraxis\": {\"colorbar\": {\"outlinewidth\": 0, \"ticks\": \"\"}}, \"colorscale\": {\"diverging\": [[0, \"#8e0152\"], [0.1, \"#c51b7d\"], [0.2, \"#de77ae\"], [0.3, \"#f1b6da\"], [0.4, \"#fde0ef\"], [0.5, \"#f7f7f7\"], [0.6, \"#e6f5d0\"], [0.7, \"#b8e186\"], [0.8, \"#7fbc41\"], [0.9, \"#4d9221\"], [1, \"#276419\"]], \"sequential\": [[0.0, \"#0d0887\"], [0.1111111111111111, \"#46039f\"], [0.2222222222222222, \"#7201a8\"], [0.3333333333333333, \"#9c179e\"], [0.4444444444444444, \"#bd3786\"], [0.5555555555555556, \"#d8576b\"], [0.6666666666666666, \"#ed7953\"], [0.7777777777777778, \"#fb9f3a\"], [0.8888888888888888, \"#fdca26\"], [1.0, \"#f0f921\"]], \"sequentialminus\": [[0.0, \"#0d0887\"], [0.1111111111111111, \"#46039f\"], [0.2222222222222222, \"#7201a8\"], [0.3333333333333333, \"#9c179e\"], [0.4444444444444444, \"#bd3786\"], [0.5555555555555556, \"#d8576b\"], [0.6666666666666666, \"#ed7953\"], [0.7777777777777778, \"#fb9f3a\"], [0.8888888888888888, \"#fdca26\"], [1.0, \"#f0f921\"]]}, \"colorway\": [\"#636efa\", \"#EF553B\", \"#00cc96\", \"#ab63fa\", \"#FFA15A\", \"#19d3f3\", \"#FF6692\", \"#B6E880\", \"#FF97FF\", \"#FECB52\"], \"font\": {\"color\": \"#2a3f5f\"}, \"geo\": {\"bgcolor\": \"white\", \"lakecolor\": \"white\", \"landcolor\": \"#E5ECF6\", \"showlakes\": true, \"showland\": true, \"subunitcolor\": \"white\"}, \"hoverlabel\": {\"align\": \"left\"}, \"hovermode\": \"closest\", \"mapbox\": {\"style\": \"light\"}, \"paper_bgcolor\": \"white\", \"plot_bgcolor\": \"#E5ECF6\", \"polar\": {\"angularaxis\": {\"gridcolor\": \"white\", \"linecolor\": \"white\", \"ticks\": \"\"}, \"bgcolor\": \"#E5ECF6\", \"radialaxis\": {\"gridcolor\": \"white\", \"linecolor\": \"white\", \"ticks\": \"\"}}, \"scene\": {\"xaxis\": {\"backgroundcolor\": \"#E5ECF6\", \"gridcolor\": \"white\", \"gridwidth\": 2, \"linecolor\": \"white\", \"showbackground\": true, \"ticks\": \"\", \"zerolinecolor\": \"white\"}, \"yaxis\": {\"backgroundcolor\": \"#E5ECF6\", \"gridcolor\": \"white\", \"gridwidth\": 2, \"linecolor\": \"white\", \"showbackground\": true, \"ticks\": \"\", \"zerolinecolor\": \"white\"}, \"zaxis\": {\"backgroundcolor\": \"#E5ECF6\", \"gridcolor\": \"white\", \"gridwidth\": 2, \"linecolor\": \"white\", \"showbackground\": true, \"ticks\": \"\", \"zerolinecolor\": \"white\"}}, \"shapedefaults\": {\"line\": {\"color\": \"#2a3f5f\"}}, \"ternary\": {\"aaxis\": {\"gridcolor\": \"white\", \"linecolor\": \"white\", \"ticks\": \"\"}, \"baxis\": {\"gridcolor\": \"white\", \"linecolor\": \"white\", \"ticks\": \"\"}, \"bgcolor\": \"#E5ECF6\", \"caxis\": {\"gridcolor\": \"white\", \"linecolor\": \"white\", \"ticks\": \"\"}}, \"title\": {\"x\": 0.05}, \"xaxis\": {\"automargin\": true, \"gridcolor\": \"white\", \"linecolor\": \"white\", \"ticks\": \"\", \"title\": {\"standoff\": 15}, \"zerolinecolor\": \"white\", \"zerolinewidth\": 2}, \"yaxis\": {\"automargin\": true, \"gridcolor\": \"white\", \"linecolor\": \"white\", \"ticks\": \"\", \"title\": {\"standoff\": 15}, \"zerolinecolor\": \"white\", \"zerolinewidth\": 2}}}, \"xaxis\": {\"anchor\": \"y\", \"domain\": [0.0, 1.0], \"title\": {\"text\": \"Batch ID\"}}, \"yaxis\": {\"anchor\": \"x\", \"domain\": [0.0, 1.0], \"title\": {\"text\": \"log<sub>10</sub>(T7 + PR772) NR\"}}},\n",
       "                        {\"responsive\": true}\n",
       "                    ).then(function(){\n",
       "                            \n",
       "var gd = document.getElementById('7e65e950-903c-44e6-8202-fdd74d76e752');\n",
       "var x = new MutationObserver(function (mutations, observer) {{\n",
       "        var display = window.getComputedStyle(gd).display;\n",
       "        if (!display || display === 'none') {{\n",
       "            console.log([gd, 'removed!']);\n",
       "            Plotly.purge(gd);\n",
       "            observer.disconnect();\n",
       "        }}\n",
       "}});\n",
       "\n",
       "// Listen for the removal of the full notebook cells\n",
       "var notebookContainer = gd.closest('#notebook-container');\n",
       "if (notebookContainer) {{\n",
       "    x.observe(notebookContainer, {childList: true});\n",
       "}}\n",
       "\n",
       "// Listen for the clearing of the current output cell\n",
       "var outputEl = gd.closest('.output');\n",
       "if (outputEl) {{\n",
       "    x.observe(outputEl, {childList: true});\n",
       "}}\n",
       "\n",
       "                        })\n",
       "                };\n",
       "                });\n",
       "            </script>\n",
       "        </div>"
      ]
     },
     "metadata": {},
     "output_type": "display_data"
    }
   ],
   "source": [
    "fig = px.scatter(\n",
    "    merged, y='Log10 T7 + PR772 NR (Composition File)',\n",
    "    x='Batch ID',\n",
    "    labels={'Log10 T7 + PR772 NR (Composition File)': 'log<sub>10</sub>(T7 + PR772) NR',\n",
    "            'T7 + PR772 NR (Composition File)': 'T7 + PR772 NR'},\n",
    "    hover_data=['T7 + PR772 NR (Composition File)', 'Accession', 'Run Date']\n",
    ")\n",
    "fig.update_layout(font=dict(size=18), height=600)\n",
    "fig.show()\n",
    "fig.write_html('plots/Diluted_Hi_IC_vs_Low_IC_by_batch.html')"
   ]
  },
  {
   "cell_type": "code",
   "execution_count": 78,
   "metadata": {},
   "outputs": [
    {
     "data": {
      "application/vnd.plotly.v1+json": {
       "config": {
        "plotlyServerURL": "https://plot.ly"
       },
       "data": [
        {
         "alignmentgroup": "True",
         "boxpoints": "all",
         "customdata": [
          [
           99264.60795910042,
           "controlneg",
           null,
           "191121B01",
           "2019-11-21"
          ],
          [
           110353.95480036669,
           "controlneg",
           null,
           "191123B01",
           "2019-11-24"
          ],
          [
           113394.30190942615,
           "controlneg",
           null,
           "191126B01",
           "2019-11-26"
          ],
          [
           115592.27838843988,
           "controlneg",
           null,
           "191127B01",
           "2019-11-27"
          ],
          [
           151541.88626024956,
           "controlneg",
           null,
           "191130B01",
           "2019-12-01"
          ],
          [
           119989.69223680561,
           "controlneg",
           null,
           "191203B01",
           "2019-12-04"
          ],
          [
           169023.34782414234,
           "controlneg",
           null,
           "191210B01",
           "2019-12-10"
          ],
          [
           81296.7092805203,
           "controlneg",
           null,
           "191210B02",
           "2019-12-11"
          ],
          [
           6024.460948397478,
           "IDBD-D101029",
           "NEW neg2",
           "191210B02",
           "2019-12-11"
          ],
          [
           5675.047209041326,
           "IDBD-D101030",
           "NEW neg3",
           "191210B02",
           "2019-12-11"
          ],
          [
           5403.951340526646,
           "IDBD-D101031",
           "NEW Neg4",
           "191210B02",
           "2019-12-11"
          ],
          [
           5418.6157095621975,
           "IDBD-D101032",
           "NEW Neg5",
           "191210B02",
           "2019-12-11"
          ],
          [
           41459.84937098144,
           "controlneg",
           null,
           "191211B02",
           "2019-12-13"
          ],
          [
           6652.236668416355,
           "IDBD-D101074",
           "NEW Neg7",
           "191211B02",
           "2019-12-13"
          ],
          [
           4842.589013443285,
           "IDBD-D101075",
           "NEW Neg8",
           "191211B02",
           "2019-12-13"
          ],
          [
           5692.139847158353,
           "IDBD-D101076",
           "NEG Neg9",
           "191211B02",
           "2019-12-13"
          ],
          [
           7851.406422252066,
           "IDBD-D101077",
           "NEW Neg10",
           "191211B02",
           "2019-12-13"
          ],
          [
           5236.962858478826,
           "controlneg",
           null,
           "191220B01",
           "2019-12-20"
          ],
          [
           6335.327851558352,
           "controlneg",
           null,
           "191223B01",
           "2019-12-24"
          ],
          [
           6463.652568748615,
           "controlneg",
           null,
           "191223B04",
           "2019-12-25"
          ],
          [
           7750.54380779208,
           "controlneg",
           null,
           "200114B02",
           "2020-01-17"
          ],
          [
           6847.422828544828,
           "controlneg",
           null,
           "200116B03",
           "2020-01-18"
          ],
          [
           7256.320679560567,
           "controlneg",
           null,
           "200117B01",
           "2020-01-18"
          ],
          [
           4087.081680907999,
           "IDBD-D101325",
           "RespNeg01",
           "200119B01",
           "2020-01-20"
          ],
          [
           4069.388217397553,
           "IDBD-D101326",
           "RespNeg02",
           "200119B01",
           "2020-01-20"
          ],
          [
           4528.987491931303,
           "IDBD-D101327",
           "RespNeg03",
           "200119B01",
           "2020-01-20"
          ],
          [
           3936.474466767371,
           "IDBD-D101328",
           "RespNeg04",
           "200119B01",
           "2020-01-20"
          ],
          [
           4226.835267167544,
           "IDBD-D101329",
           "RespNeg05",
           "200119B01",
           "2020-01-20"
          ],
          [
           6065.263744791783,
           "IDBD-D101330",
           "RespNeg06",
           "200119B01",
           "2020-01-20"
          ],
          [
           6485.633339481331,
           "IDBD-D101331",
           "RespNeg07",
           "200119B01",
           "2020-01-20"
          ],
          [
           5427.159827785494,
           "IDBD-D101332",
           "RespNeg08",
           "200119B01",
           "2020-01-20"
          ],
          [
           5942.472657614007,
           "controlNeg",
           null,
           "200119B01",
           "2020-01-20"
          ],
          [
           5733.678786763884,
           "IDBD-D101333",
           "RespNeg09",
           "200119B02",
           "2020-01-20"
          ],
          [
           5642.290092702827,
           "IDBD-D101334",
           "RespNeg10",
           "200119B02",
           "2020-01-20"
          ],
          [
           6373.47932698333,
           "IDBD-D101335",
           "RespNeg11",
           "200119B02",
           "2020-01-20"
          ],
          [
           5455.027941817089,
           "IDBD-D101336",
           "RespNeg12",
           "200119B02",
           "2020-01-20"
          ],
          [
           5791.7543573630555,
           "IDBD-D101337",
           "RespNeg13",
           "200119B02",
           "2020-01-20"
          ],
          [
           6506.286699523414,
           "IDBD-D101338",
           "RespNeg14",
           "200119B02",
           "2020-01-20"
          ],
          [
           6981.192666955223,
           "IDBD-D101339",
           "RespNeg15",
           "200119B02",
           "2020-01-20"
          ],
          [
           5870.396597770782,
           "IDBD-D101340",
           "RespNeg16",
           "200119B02",
           "2020-01-20"
          ],
          [
           5978.470544211966,
           "controlNeg",
           null,
           "200119B02",
           "2020-01-20"
          ]
         ],
         "hoverlabel": {
          "namelength": 0
         },
         "hovertemplate": "IC=%{x}<br>log<sub>10</sub>(T7 + PR772) NR=%{y}<br>T7 + PR772 NR=%{customdata[0]}<br>Accession=%{customdata[1]}<br>Sample Name=%{customdata[2]}<br>Batch ID=%{customdata[3]}<br>Run Date=%{customdata[4]}",
         "legendgroup": "",
         "marker": {
          "color": "#636efa"
         },
         "name": "",
         "notched": false,
         "offsetgroup": "",
         "orientation": "v",
         "showlegend": false,
         "type": "box",
         "x": [
          "Low IC",
          "Low IC",
          "Low IC",
          "Low IC",
          "Low IC",
          "Low IC",
          "Low IC",
          "Low IC",
          "Low IC - New Neg Ctrl",
          "Low IC - New Neg Ctrl",
          "Low IC - New Neg Ctrl",
          "Low IC - New Neg Ctrl",
          "Low IC",
          "Low IC - New Neg Ctrl",
          "Low IC - New Neg Ctrl",
          "Low IC - New Neg Ctrl",
          "Low IC - New Neg Ctrl",
          "Low IC",
          "Low IC",
          "Low IC",
          "Low IC",
          "Low IC",
          "Low IC",
          "Diluted Hi IC",
          "Diluted Hi IC",
          "Diluted Hi IC",
          "Diluted Hi IC",
          "Diluted Hi IC",
          "Diluted Hi IC",
          "Diluted Hi IC",
          "Diluted Hi IC",
          "Diluted Hi IC",
          "Diluted Hi IC",
          "Diluted Hi IC",
          "Diluted Hi IC",
          "Diluted Hi IC",
          "Diluted Hi IC",
          "Diluted Hi IC",
          "Diluted Hi IC",
          "Diluted Hi IC",
          "Diluted Hi IC"
         ],
         "x0": " ",
         "xaxis": "x",
         "y": [
          4.996794431699109,
          5.0427879017677215,
          5.054591231704434,
          5.062928824004099,
          5.180532688663176,
          5.079143939406351,
          5.227946699470661,
          4.910072966624383,
          3.7799181935523434,
          3.753969478647692,
          3.732711429795605,
          3.7338883517626065,
          4.617627719912439,
          3.822967691834141,
          3.68507761239413,
          3.7552755614936055,
          3.894947458874375,
          3.719079493814623,
          3.801769094426791,
          3.810478004398575,
          3.8893321753369854,
          3.835527146391352,
          3.8607164673108865,
          3.611413317235241,
          3.609529123284368,
          3.6560011212586434,
          3.5951074388142383,
          3.6260153223607854,
          3.7828496906794666,
          3.8119523925113104,
          3.7345726115745386,
          3.7739671921377567,
          3.7584333591644485,
          3.7514554112098666,
          3.8043765814699584,
          3.7367969794790623,
          3.7628101340758273,
          3.813333196553832,
          3.843929623830897,
          3.768667442713555,
          3.776590093826801
         ],
         "y0": " ",
         "yaxis": "y"
        }
       ],
       "layout": {
        "autosize": true,
        "boxmode": "group",
        "font": {
         "size": 18
        },
        "legend": {
         "tracegroupgap": 0
        },
        "margin": {
         "t": 60
        },
        "template": {
         "data": {
          "bar": [
           {
            "error_x": {
             "color": "#2a3f5f"
            },
            "error_y": {
             "color": "#2a3f5f"
            },
            "marker": {
             "line": {
              "color": "#E5ECF6",
              "width": 0.5
             }
            },
            "type": "bar"
           }
          ],
          "barpolar": [
           {
            "marker": {
             "line": {
              "color": "#E5ECF6",
              "width": 0.5
             }
            },
            "type": "barpolar"
           }
          ],
          "carpet": [
           {
            "aaxis": {
             "endlinecolor": "#2a3f5f",
             "gridcolor": "white",
             "linecolor": "white",
             "minorgridcolor": "white",
             "startlinecolor": "#2a3f5f"
            },
            "baxis": {
             "endlinecolor": "#2a3f5f",
             "gridcolor": "white",
             "linecolor": "white",
             "minorgridcolor": "white",
             "startlinecolor": "#2a3f5f"
            },
            "type": "carpet"
           }
          ],
          "choropleth": [
           {
            "colorbar": {
             "outlinewidth": 0,
             "ticks": ""
            },
            "type": "choropleth"
           }
          ],
          "contour": [
           {
            "colorbar": {
             "outlinewidth": 0,
             "ticks": ""
            },
            "colorscale": [
             [
              0,
              "#0d0887"
             ],
             [
              0.1111111111111111,
              "#46039f"
             ],
             [
              0.2222222222222222,
              "#7201a8"
             ],
             [
              0.3333333333333333,
              "#9c179e"
             ],
             [
              0.4444444444444444,
              "#bd3786"
             ],
             [
              0.5555555555555556,
              "#d8576b"
             ],
             [
              0.6666666666666666,
              "#ed7953"
             ],
             [
              0.7777777777777778,
              "#fb9f3a"
             ],
             [
              0.8888888888888888,
              "#fdca26"
             ],
             [
              1,
              "#f0f921"
             ]
            ],
            "type": "contour"
           }
          ],
          "contourcarpet": [
           {
            "colorbar": {
             "outlinewidth": 0,
             "ticks": ""
            },
            "type": "contourcarpet"
           }
          ],
          "heatmap": [
           {
            "colorbar": {
             "outlinewidth": 0,
             "ticks": ""
            },
            "colorscale": [
             [
              0,
              "#0d0887"
             ],
             [
              0.1111111111111111,
              "#46039f"
             ],
             [
              0.2222222222222222,
              "#7201a8"
             ],
             [
              0.3333333333333333,
              "#9c179e"
             ],
             [
              0.4444444444444444,
              "#bd3786"
             ],
             [
              0.5555555555555556,
              "#d8576b"
             ],
             [
              0.6666666666666666,
              "#ed7953"
             ],
             [
              0.7777777777777778,
              "#fb9f3a"
             ],
             [
              0.8888888888888888,
              "#fdca26"
             ],
             [
              1,
              "#f0f921"
             ]
            ],
            "type": "heatmap"
           }
          ],
          "heatmapgl": [
           {
            "colorbar": {
             "outlinewidth": 0,
             "ticks": ""
            },
            "colorscale": [
             [
              0,
              "#0d0887"
             ],
             [
              0.1111111111111111,
              "#46039f"
             ],
             [
              0.2222222222222222,
              "#7201a8"
             ],
             [
              0.3333333333333333,
              "#9c179e"
             ],
             [
              0.4444444444444444,
              "#bd3786"
             ],
             [
              0.5555555555555556,
              "#d8576b"
             ],
             [
              0.6666666666666666,
              "#ed7953"
             ],
             [
              0.7777777777777778,
              "#fb9f3a"
             ],
             [
              0.8888888888888888,
              "#fdca26"
             ],
             [
              1,
              "#f0f921"
             ]
            ],
            "type": "heatmapgl"
           }
          ],
          "histogram": [
           {
            "marker": {
             "colorbar": {
              "outlinewidth": 0,
              "ticks": ""
             }
            },
            "type": "histogram"
           }
          ],
          "histogram2d": [
           {
            "colorbar": {
             "outlinewidth": 0,
             "ticks": ""
            },
            "colorscale": [
             [
              0,
              "#0d0887"
             ],
             [
              0.1111111111111111,
              "#46039f"
             ],
             [
              0.2222222222222222,
              "#7201a8"
             ],
             [
              0.3333333333333333,
              "#9c179e"
             ],
             [
              0.4444444444444444,
              "#bd3786"
             ],
             [
              0.5555555555555556,
              "#d8576b"
             ],
             [
              0.6666666666666666,
              "#ed7953"
             ],
             [
              0.7777777777777778,
              "#fb9f3a"
             ],
             [
              0.8888888888888888,
              "#fdca26"
             ],
             [
              1,
              "#f0f921"
             ]
            ],
            "type": "histogram2d"
           }
          ],
          "histogram2dcontour": [
           {
            "colorbar": {
             "outlinewidth": 0,
             "ticks": ""
            },
            "colorscale": [
             [
              0,
              "#0d0887"
             ],
             [
              0.1111111111111111,
              "#46039f"
             ],
             [
              0.2222222222222222,
              "#7201a8"
             ],
             [
              0.3333333333333333,
              "#9c179e"
             ],
             [
              0.4444444444444444,
              "#bd3786"
             ],
             [
              0.5555555555555556,
              "#d8576b"
             ],
             [
              0.6666666666666666,
              "#ed7953"
             ],
             [
              0.7777777777777778,
              "#fb9f3a"
             ],
             [
              0.8888888888888888,
              "#fdca26"
             ],
             [
              1,
              "#f0f921"
             ]
            ],
            "type": "histogram2dcontour"
           }
          ],
          "mesh3d": [
           {
            "colorbar": {
             "outlinewidth": 0,
             "ticks": ""
            },
            "type": "mesh3d"
           }
          ],
          "parcoords": [
           {
            "line": {
             "colorbar": {
              "outlinewidth": 0,
              "ticks": ""
             }
            },
            "type": "parcoords"
           }
          ],
          "pie": [
           {
            "automargin": true,
            "type": "pie"
           }
          ],
          "scatter": [
           {
            "marker": {
             "colorbar": {
              "outlinewidth": 0,
              "ticks": ""
             }
            },
            "type": "scatter"
           }
          ],
          "scatter3d": [
           {
            "line": {
             "colorbar": {
              "outlinewidth": 0,
              "ticks": ""
             }
            },
            "marker": {
             "colorbar": {
              "outlinewidth": 0,
              "ticks": ""
             }
            },
            "type": "scatter3d"
           }
          ],
          "scattercarpet": [
           {
            "marker": {
             "colorbar": {
              "outlinewidth": 0,
              "ticks": ""
             }
            },
            "type": "scattercarpet"
           }
          ],
          "scattergeo": [
           {
            "marker": {
             "colorbar": {
              "outlinewidth": 0,
              "ticks": ""
             }
            },
            "type": "scattergeo"
           }
          ],
          "scattergl": [
           {
            "marker": {
             "colorbar": {
              "outlinewidth": 0,
              "ticks": ""
             }
            },
            "type": "scattergl"
           }
          ],
          "scattermapbox": [
           {
            "marker": {
             "colorbar": {
              "outlinewidth": 0,
              "ticks": ""
             }
            },
            "type": "scattermapbox"
           }
          ],
          "scatterpolar": [
           {
            "marker": {
             "colorbar": {
              "outlinewidth": 0,
              "ticks": ""
             }
            },
            "type": "scatterpolar"
           }
          ],
          "scatterpolargl": [
           {
            "marker": {
             "colorbar": {
              "outlinewidth": 0,
              "ticks": ""
             }
            },
            "type": "scatterpolargl"
           }
          ],
          "scatterternary": [
           {
            "marker": {
             "colorbar": {
              "outlinewidth": 0,
              "ticks": ""
             }
            },
            "type": "scatterternary"
           }
          ],
          "surface": [
           {
            "colorbar": {
             "outlinewidth": 0,
             "ticks": ""
            },
            "colorscale": [
             [
              0,
              "#0d0887"
             ],
             [
              0.1111111111111111,
              "#46039f"
             ],
             [
              0.2222222222222222,
              "#7201a8"
             ],
             [
              0.3333333333333333,
              "#9c179e"
             ],
             [
              0.4444444444444444,
              "#bd3786"
             ],
             [
              0.5555555555555556,
              "#d8576b"
             ],
             [
              0.6666666666666666,
              "#ed7953"
             ],
             [
              0.7777777777777778,
              "#fb9f3a"
             ],
             [
              0.8888888888888888,
              "#fdca26"
             ],
             [
              1,
              "#f0f921"
             ]
            ],
            "type": "surface"
           }
          ],
          "table": [
           {
            "cells": {
             "fill": {
              "color": "#EBF0F8"
             },
             "line": {
              "color": "white"
             }
            },
            "header": {
             "fill": {
              "color": "#C8D4E3"
             },
             "line": {
              "color": "white"
             }
            },
            "type": "table"
           }
          ]
         },
         "layout": {
          "annotationdefaults": {
           "arrowcolor": "#2a3f5f",
           "arrowhead": 0,
           "arrowwidth": 1
          },
          "coloraxis": {
           "colorbar": {
            "outlinewidth": 0,
            "ticks": ""
           }
          },
          "colorscale": {
           "diverging": [
            [
             0,
             "#8e0152"
            ],
            [
             0.1,
             "#c51b7d"
            ],
            [
             0.2,
             "#de77ae"
            ],
            [
             0.3,
             "#f1b6da"
            ],
            [
             0.4,
             "#fde0ef"
            ],
            [
             0.5,
             "#f7f7f7"
            ],
            [
             0.6,
             "#e6f5d0"
            ],
            [
             0.7,
             "#b8e186"
            ],
            [
             0.8,
             "#7fbc41"
            ],
            [
             0.9,
             "#4d9221"
            ],
            [
             1,
             "#276419"
            ]
           ],
           "sequential": [
            [
             0,
             "#0d0887"
            ],
            [
             0.1111111111111111,
             "#46039f"
            ],
            [
             0.2222222222222222,
             "#7201a8"
            ],
            [
             0.3333333333333333,
             "#9c179e"
            ],
            [
             0.4444444444444444,
             "#bd3786"
            ],
            [
             0.5555555555555556,
             "#d8576b"
            ],
            [
             0.6666666666666666,
             "#ed7953"
            ],
            [
             0.7777777777777778,
             "#fb9f3a"
            ],
            [
             0.8888888888888888,
             "#fdca26"
            ],
            [
             1,
             "#f0f921"
            ]
           ],
           "sequentialminus": [
            [
             0,
             "#0d0887"
            ],
            [
             0.1111111111111111,
             "#46039f"
            ],
            [
             0.2222222222222222,
             "#7201a8"
            ],
            [
             0.3333333333333333,
             "#9c179e"
            ],
            [
             0.4444444444444444,
             "#bd3786"
            ],
            [
             0.5555555555555556,
             "#d8576b"
            ],
            [
             0.6666666666666666,
             "#ed7953"
            ],
            [
             0.7777777777777778,
             "#fb9f3a"
            ],
            [
             0.8888888888888888,
             "#fdca26"
            ],
            [
             1,
             "#f0f921"
            ]
           ]
          },
          "colorway": [
           "#636efa",
           "#EF553B",
           "#00cc96",
           "#ab63fa",
           "#FFA15A",
           "#19d3f3",
           "#FF6692",
           "#B6E880",
           "#FF97FF",
           "#FECB52"
          ],
          "font": {
           "color": "#2a3f5f"
          },
          "geo": {
           "bgcolor": "white",
           "lakecolor": "white",
           "landcolor": "#E5ECF6",
           "showlakes": true,
           "showland": true,
           "subunitcolor": "white"
          },
          "hoverlabel": {
           "align": "left"
          },
          "hovermode": "closest",
          "mapbox": {
           "style": "light"
          },
          "paper_bgcolor": "white",
          "plot_bgcolor": "#E5ECF6",
          "polar": {
           "angularaxis": {
            "gridcolor": "white",
            "linecolor": "white",
            "ticks": ""
           },
           "bgcolor": "#E5ECF6",
           "radialaxis": {
            "gridcolor": "white",
            "linecolor": "white",
            "ticks": ""
           }
          },
          "scene": {
           "xaxis": {
            "backgroundcolor": "#E5ECF6",
            "gridcolor": "white",
            "gridwidth": 2,
            "linecolor": "white",
            "showbackground": true,
            "ticks": "",
            "zerolinecolor": "white"
           },
           "yaxis": {
            "backgroundcolor": "#E5ECF6",
            "gridcolor": "white",
            "gridwidth": 2,
            "linecolor": "white",
            "showbackground": true,
            "ticks": "",
            "zerolinecolor": "white"
           },
           "zaxis": {
            "backgroundcolor": "#E5ECF6",
            "gridcolor": "white",
            "gridwidth": 2,
            "linecolor": "white",
            "showbackground": true,
            "ticks": "",
            "zerolinecolor": "white"
           }
          },
          "shapedefaults": {
           "line": {
            "color": "#2a3f5f"
           }
          },
          "ternary": {
           "aaxis": {
            "gridcolor": "white",
            "linecolor": "white",
            "ticks": ""
           },
           "baxis": {
            "gridcolor": "white",
            "linecolor": "white",
            "ticks": ""
           },
           "bgcolor": "#E5ECF6",
           "caxis": {
            "gridcolor": "white",
            "linecolor": "white",
            "ticks": ""
           }
          },
          "title": {
           "x": 0.05
          },
          "xaxis": {
           "automargin": true,
           "gridcolor": "white",
           "linecolor": "white",
           "ticks": "",
           "title": {
            "standoff": 15
           },
           "zerolinecolor": "white",
           "zerolinewidth": 2
          },
          "yaxis": {
           "automargin": true,
           "gridcolor": "white",
           "linecolor": "white",
           "ticks": "",
           "title": {
            "standoff": 15
           },
           "zerolinecolor": "white",
           "zerolinewidth": 2
          }
         }
        },
        "xaxis": {
         "anchor": "y",
         "autorange": true,
         "domain": [
          0,
          1
         ],
         "range": [
          -0.5074380165289256,
          2.5
         ],
         "title": {
          "text": "IC"
         },
         "type": "category"
        },
        "yaxis": {
         "anchor": "x",
         "autorange": true,
         "domain": [
          0,
          1
         ],
         "range": [
          3.504394146555548,
          5.318659991729351
         ],
         "title": {
          "text": "log<sub>10</sub>(T7 + PR772) NR"
         },
         "type": "linear"
        }
       }
      },
      "image/png": "[encoded data removed]",
      "text/html": [
       "<div>\n",
       "        \n",
       "        \n",
       "            <div id=\"cba8419a-b0c5-4e11-a3b0-d15e321b8645\" class=\"plotly-graph-div\" style=\"height:600px; width:100%;\"></div>\n",
       "            <script type=\"text/javascript\">\n",
       "                require([\"plotly\"], function(Plotly) {\n",
       "                    window.PLOTLYENV=window.PLOTLYENV || {};\n",
       "                    \n",
       "                if (document.getElementById(\"cba8419a-b0c5-4e11-a3b0-d15e321b8645\")) {\n",
       "                    Plotly.newPlot(\n",
       "                        'cba8419a-b0c5-4e11-a3b0-d15e321b8645',\n",
       "                        [{\"alignmentgroup\": \"True\", \"boxpoints\": \"all\", \"customdata\": [[99264.60795910042, \"controlneg\", null, \"191121B01\", \"2019-11-21\"], [110353.95480036669, \"controlneg\", null, \"191123B01\", \"2019-11-24\"], [113394.30190942615, \"controlneg\", null, \"191126B01\", \"2019-11-26\"], [115592.27838843988, \"controlneg\", null, \"191127B01\", \"2019-11-27\"], [151541.88626024956, \"controlneg\", null, \"191130B01\", \"2019-12-01\"], [119989.69223680561, \"controlneg\", null, \"191203B01\", \"2019-12-04\"], [169023.34782414234, \"controlneg\", null, \"191210B01\", \"2019-12-10\"], [81296.7092805203, \"controlneg\", null, \"191210B02\", \"2019-12-11\"], [6024.460948397478, \"IDBD-D101029\", \"NEW neg2\", \"191210B02\", \"2019-12-11\"], [5675.047209041326, \"IDBD-D101030\", \"NEW neg3\", \"191210B02\", \"2019-12-11\"], [5403.951340526646, \"IDBD-D101031\", \"NEW Neg4\", \"191210B02\", \"2019-12-11\"], [5418.6157095621975, \"IDBD-D101032\", \"NEW Neg5\", \"191210B02\", \"2019-12-11\"], [41459.84937098144, \"controlneg\", null, \"191211B02\", \"2019-12-13\"], [6652.236668416355, \"IDBD-D101074\", \"NEW Neg7\", \"191211B02\", \"2019-12-13\"], [4842.589013443285, \"IDBD-D101075\", \"NEW Neg8\", \"191211B02\", \"2019-12-13\"], [5692.139847158353, \"IDBD-D101076\", \"NEG Neg9\", \"191211B02\", \"2019-12-13\"], [7851.406422252066, \"IDBD-D101077\", \"NEW Neg10\", \"191211B02\", \"2019-12-13\"], [5236.962858478826, \"controlneg\", null, \"191220B01\", \"2019-12-20\"], [6335.327851558352, \"controlneg\", null, \"191223B01\", \"2019-12-24\"], [6463.652568748615, \"controlneg\", null, \"191223B04\", \"2019-12-25\"], [7750.54380779208, \"controlneg\", null, \"200114B02\", \"2020-01-17\"], [6847.422828544828, \"controlneg\", null, \"200116B03\", \"2020-01-18\"], [7256.320679560567, \"controlneg\", null, \"200117B01\", \"2020-01-18\"], [4087.081680907999, \"IDBD-D101325\", \"RespNeg01\", \"200119B01\", \"2020-01-20\"], [4069.388217397553, \"IDBD-D101326\", \"RespNeg02\", \"200119B01\", \"2020-01-20\"], [4528.987491931303, \"IDBD-D101327\", \"RespNeg03\", \"200119B01\", \"2020-01-20\"], [3936.474466767371, \"IDBD-D101328\", \"RespNeg04\", \"200119B01\", \"2020-01-20\"], [4226.835267167544, \"IDBD-D101329\", \"RespNeg05\", \"200119B01\", \"2020-01-20\"], [6065.263744791783, \"IDBD-D101330\", \"RespNeg06\", \"200119B01\", \"2020-01-20\"], [6485.633339481331, \"IDBD-D101331\", \"RespNeg07\", \"200119B01\", \"2020-01-20\"], [5427.159827785494, \"IDBD-D101332\", \"RespNeg08\", \"200119B01\", \"2020-01-20\"], [5942.472657614007, \"controlNeg\", null, \"200119B01\", \"2020-01-20\"], [5733.678786763884, \"IDBD-D101333\", \"RespNeg09\", \"200119B02\", \"2020-01-20\"], [5642.290092702827, \"IDBD-D101334\", \"RespNeg10\", \"200119B02\", \"2020-01-20\"], [6373.47932698333, \"IDBD-D101335\", \"RespNeg11\", \"200119B02\", \"2020-01-20\"], [5455.027941817089, \"IDBD-D101336\", \"RespNeg12\", \"200119B02\", \"2020-01-20\"], [5791.7543573630555, \"IDBD-D101337\", \"RespNeg13\", \"200119B02\", \"2020-01-20\"], [6506.286699523414, \"IDBD-D101338\", \"RespNeg14\", \"200119B02\", \"2020-01-20\"], [6981.192666955223, \"IDBD-D101339\", \"RespNeg15\", \"200119B02\", \"2020-01-20\"], [5870.396597770782, \"IDBD-D101340\", \"RespNeg16\", \"200119B02\", \"2020-01-20\"], [5978.470544211966, \"controlNeg\", null, \"200119B02\", \"2020-01-20\"]], \"hoverlabel\": {\"namelength\": 0}, \"hovertemplate\": \"IC=%{x}<br>log<sub>10</sub>(T7 + PR772) NR=%{y}<br>T7 + PR772 NR=%{customdata[0]}<br>Accession=%{customdata[1]}<br>Sample Name=%{customdata[2]}<br>Batch ID=%{customdata[3]}<br>Run Date=%{customdata[4]}\", \"legendgroup\": \"\", \"marker\": {\"color\": \"#636efa\"}, \"name\": \"\", \"notched\": false, \"offsetgroup\": \"\", \"orientation\": \"v\", \"showlegend\": false, \"type\": \"box\", \"x\": [\"Low IC\", \"Low IC\", \"Low IC\", \"Low IC\", \"Low IC\", \"Low IC\", \"Low IC\", \"Low IC\", \"Low IC - New Neg Ctrl\", \"Low IC - New Neg Ctrl\", \"Low IC - New Neg Ctrl\", \"Low IC - New Neg Ctrl\", \"Low IC\", \"Low IC - New Neg Ctrl\", \"Low IC - New Neg Ctrl\", \"Low IC - New Neg Ctrl\", \"Low IC - New Neg Ctrl\", \"Low IC\", \"Low IC\", \"Low IC\", \"Low IC\", \"Low IC\", \"Low IC\", \"Diluted Hi IC\", \"Diluted Hi IC\", \"Diluted Hi IC\", \"Diluted Hi IC\", \"Diluted Hi IC\", \"Diluted Hi IC\", \"Diluted Hi IC\", \"Diluted Hi IC\", \"Diluted Hi IC\", \"Diluted Hi IC\", \"Diluted Hi IC\", \"Diluted Hi IC\", \"Diluted Hi IC\", \"Diluted Hi IC\", \"Diluted Hi IC\", \"Diluted Hi IC\", \"Diluted Hi IC\", \"Diluted Hi IC\"], \"x0\": \" \", \"xaxis\": \"x\", \"y\": [4.996794431699109, 5.0427879017677215, 5.054591231704434, 5.062928824004099, 5.180532688663176, 5.079143939406351, 5.227946699470661, 4.910072966624383, 3.7799181935523434, 3.753969478647692, 3.732711429795605, 3.7338883517626065, 4.617627719912439, 3.822967691834141, 3.68507761239413, 3.7552755614936055, 3.894947458874375, 3.719079493814623, 3.801769094426791, 3.810478004398575, 3.8893321753369854, 3.835527146391352, 3.8607164673108865, 3.611413317235241, 3.609529123284368, 3.6560011212586434, 3.5951074388142383, 3.6260153223607854, 3.7828496906794666, 3.8119523925113104, 3.7345726115745386, 3.7739671921377567, 3.7584333591644485, 3.7514554112098666, 3.8043765814699584, 3.7367969794790623, 3.7628101340758273, 3.813333196553832, 3.843929623830897, 3.768667442713555, 3.776590093826801], \"y0\": \" \", \"yaxis\": \"y\"}],\n",
       "                        {\"boxmode\": \"group\", \"font\": {\"size\": 18}, \"height\": 600, \"legend\": {\"tracegroupgap\": 0}, \"margin\": {\"t\": 60}, \"template\": {\"data\": {\"bar\": [{\"error_x\": {\"color\": \"#2a3f5f\"}, \"error_y\": {\"color\": \"#2a3f5f\"}, \"marker\": {\"line\": {\"color\": \"#E5ECF6\", \"width\": 0.5}}, \"type\": \"bar\"}], \"barpolar\": [{\"marker\": {\"line\": {\"color\": \"#E5ECF6\", \"width\": 0.5}}, \"type\": \"barpolar\"}], \"carpet\": [{\"aaxis\": {\"endlinecolor\": \"#2a3f5f\", \"gridcolor\": \"white\", \"linecolor\": \"white\", \"minorgridcolor\": \"white\", \"startlinecolor\": \"#2a3f5f\"}, \"baxis\": {\"endlinecolor\": \"#2a3f5f\", \"gridcolor\": \"white\", \"linecolor\": \"white\", \"minorgridcolor\": \"white\", \"startlinecolor\": \"#2a3f5f\"}, \"type\": \"carpet\"}], \"choropleth\": [{\"colorbar\": {\"outlinewidth\": 0, \"ticks\": \"\"}, \"type\": \"choropleth\"}], \"contour\": [{\"colorbar\": {\"outlinewidth\": 0, \"ticks\": \"\"}, \"colorscale\": [[0.0, \"#0d0887\"], [0.1111111111111111, \"#46039f\"], [0.2222222222222222, \"#7201a8\"], [0.3333333333333333, \"#9c179e\"], [0.4444444444444444, \"#bd3786\"], [0.5555555555555556, \"#d8576b\"], [0.6666666666666666, \"#ed7953\"], [0.7777777777777778, \"#fb9f3a\"], [0.8888888888888888, \"#fdca26\"], [1.0, \"#f0f921\"]], \"type\": \"contour\"}], \"contourcarpet\": [{\"colorbar\": {\"outlinewidth\": 0, \"ticks\": \"\"}, \"type\": \"contourcarpet\"}], \"heatmap\": [{\"colorbar\": {\"outlinewidth\": 0, \"ticks\": \"\"}, \"colorscale\": [[0.0, \"#0d0887\"], [0.1111111111111111, \"#46039f\"], [0.2222222222222222, \"#7201a8\"], [0.3333333333333333, \"#9c179e\"], [0.4444444444444444, \"#bd3786\"], [0.5555555555555556, \"#d8576b\"], [0.6666666666666666, \"#ed7953\"], [0.7777777777777778, \"#fb9f3a\"], [0.8888888888888888, \"#fdca26\"], [1.0, \"#f0f921\"]], \"type\": \"heatmap\"}], \"heatmapgl\": [{\"colorbar\": {\"outlinewidth\": 0, \"ticks\": \"\"}, \"colorscale\": [[0.0, \"#0d0887\"], [0.1111111111111111, \"#46039f\"], [0.2222222222222222, \"#7201a8\"], [0.3333333333333333, \"#9c179e\"], [0.4444444444444444, \"#bd3786\"], [0.5555555555555556, \"#d8576b\"], [0.6666666666666666, \"#ed7953\"], [0.7777777777777778, \"#fb9f3a\"], [0.8888888888888888, \"#fdca26\"], [1.0, \"#f0f921\"]], \"type\": \"heatmapgl\"}], \"histogram\": [{\"marker\": {\"colorbar\": {\"outlinewidth\": 0, \"ticks\": \"\"}}, \"type\": \"histogram\"}], \"histogram2d\": [{\"colorbar\": {\"outlinewidth\": 0, \"ticks\": \"\"}, \"colorscale\": [[0.0, \"#0d0887\"], [0.1111111111111111, \"#46039f\"], [0.2222222222222222, \"#7201a8\"], [0.3333333333333333, \"#9c179e\"], [0.4444444444444444, \"#bd3786\"], [0.5555555555555556, \"#d8576b\"], [0.6666666666666666, \"#ed7953\"], [0.7777777777777778, \"#fb9f3a\"], [0.8888888888888888, \"#fdca26\"], [1.0, \"#f0f921\"]], \"type\": \"histogram2d\"}], \"histogram2dcontour\": [{\"colorbar\": {\"outlinewidth\": 0, \"ticks\": \"\"}, \"colorscale\": [[0.0, \"#0d0887\"], [0.1111111111111111, \"#46039f\"], [0.2222222222222222, \"#7201a8\"], [0.3333333333333333, \"#9c179e\"], [0.4444444444444444, \"#bd3786\"], [0.5555555555555556, \"#d8576b\"], [0.6666666666666666, \"#ed7953\"], [0.7777777777777778, \"#fb9f3a\"], [0.8888888888888888, \"#fdca26\"], [1.0, \"#f0f921\"]], \"type\": \"histogram2dcontour\"}], \"mesh3d\": [{\"colorbar\": {\"outlinewidth\": 0, \"ticks\": \"\"}, \"type\": \"mesh3d\"}], \"parcoords\": [{\"line\": {\"colorbar\": {\"outlinewidth\": 0, \"ticks\": \"\"}}, \"type\": \"parcoords\"}], \"pie\": [{\"automargin\": true, \"type\": \"pie\"}], \"scatter\": [{\"marker\": {\"colorbar\": {\"outlinewidth\": 0, \"ticks\": \"\"}}, \"type\": \"scatter\"}], \"scatter3d\": [{\"line\": {\"colorbar\": {\"outlinewidth\": 0, \"ticks\": \"\"}}, \"marker\": {\"colorbar\": {\"outlinewidth\": 0, \"ticks\": \"\"}}, \"type\": \"scatter3d\"}], \"scattercarpet\": [{\"marker\": {\"colorbar\": {\"outlinewidth\": 0, \"ticks\": \"\"}}, \"type\": \"scattercarpet\"}], \"scattergeo\": [{\"marker\": {\"colorbar\": {\"outlinewidth\": 0, \"ticks\": \"\"}}, \"type\": \"scattergeo\"}], \"scattergl\": [{\"marker\": {\"colorbar\": {\"outlinewidth\": 0, \"ticks\": \"\"}}, \"type\": \"scattergl\"}], \"scattermapbox\": [{\"marker\": {\"colorbar\": {\"outlinewidth\": 0, \"ticks\": \"\"}}, \"type\": \"scattermapbox\"}], \"scatterpolar\": [{\"marker\": {\"colorbar\": {\"outlinewidth\": 0, \"ticks\": \"\"}}, \"type\": \"scatterpolar\"}], \"scatterpolargl\": [{\"marker\": {\"colorbar\": {\"outlinewidth\": 0, \"ticks\": \"\"}}, \"type\": \"scatterpolargl\"}], \"scatterternary\": [{\"marker\": {\"colorbar\": {\"outlinewidth\": 0, \"ticks\": \"\"}}, \"type\": \"scatterternary\"}], \"surface\": [{\"colorbar\": {\"outlinewidth\": 0, \"ticks\": \"\"}, \"colorscale\": [[0.0, \"#0d0887\"], [0.1111111111111111, \"#46039f\"], [0.2222222222222222, \"#7201a8\"], [0.3333333333333333, \"#9c179e\"], [0.4444444444444444, \"#bd3786\"], [0.5555555555555556, \"#d8576b\"], [0.6666666666666666, \"#ed7953\"], [0.7777777777777778, \"#fb9f3a\"], [0.8888888888888888, \"#fdca26\"], [1.0, \"#f0f921\"]], \"type\": \"surface\"}], \"table\": [{\"cells\": {\"fill\": {\"color\": \"#EBF0F8\"}, \"line\": {\"color\": \"white\"}}, \"header\": {\"fill\": {\"color\": \"#C8D4E3\"}, \"line\": {\"color\": \"white\"}}, \"type\": \"table\"}]}, \"layout\": {\"annotationdefaults\": {\"arrowcolor\": \"#2a3f5f\", \"arrowhead\": 0, \"arrowwidth\": 1}, \"coloraxis\": {\"colorbar\": {\"outlinewidth\": 0, \"ticks\": \"\"}}, \"colorscale\": {\"diverging\": [[0, \"#8e0152\"], [0.1, \"#c51b7d\"], [0.2, \"#de77ae\"], [0.3, \"#f1b6da\"], [0.4, \"#fde0ef\"], [0.5, \"#f7f7f7\"], [0.6, \"#e6f5d0\"], [0.7, \"#b8e186\"], [0.8, \"#7fbc41\"], [0.9, \"#4d9221\"], [1, \"#276419\"]], \"sequential\": [[0.0, \"#0d0887\"], [0.1111111111111111, \"#46039f\"], [0.2222222222222222, \"#7201a8\"], [0.3333333333333333, \"#9c179e\"], [0.4444444444444444, \"#bd3786\"], [0.5555555555555556, \"#d8576b\"], [0.6666666666666666, \"#ed7953\"], [0.7777777777777778, \"#fb9f3a\"], [0.8888888888888888, \"#fdca26\"], [1.0, \"#f0f921\"]], \"sequentialminus\": [[0.0, \"#0d0887\"], [0.1111111111111111, \"#46039f\"], [0.2222222222222222, \"#7201a8\"], [0.3333333333333333, \"#9c179e\"], [0.4444444444444444, \"#bd3786\"], [0.5555555555555556, \"#d8576b\"], [0.6666666666666666, \"#ed7953\"], [0.7777777777777778, \"#fb9f3a\"], [0.8888888888888888, \"#fdca26\"], [1.0, \"#f0f921\"]]}, \"colorway\": [\"#636efa\", \"#EF553B\", \"#00cc96\", \"#ab63fa\", \"#FFA15A\", \"#19d3f3\", \"#FF6692\", \"#B6E880\", \"#FF97FF\", \"#FECB52\"], \"font\": {\"color\": \"#2a3f5f\"}, \"geo\": {\"bgcolor\": \"white\", \"lakecolor\": \"white\", \"landcolor\": \"#E5ECF6\", \"showlakes\": true, \"showland\": true, \"subunitcolor\": \"white\"}, \"hoverlabel\": {\"align\": \"left\"}, \"hovermode\": \"closest\", \"mapbox\": {\"style\": \"light\"}, \"paper_bgcolor\": \"white\", \"plot_bgcolor\": \"#E5ECF6\", \"polar\": {\"angularaxis\": {\"gridcolor\": \"white\", \"linecolor\": \"white\", \"ticks\": \"\"}, \"bgcolor\": \"#E5ECF6\", \"radialaxis\": {\"gridcolor\": \"white\", \"linecolor\": \"white\", \"ticks\": \"\"}}, \"scene\": {\"xaxis\": {\"backgroundcolor\": \"#E5ECF6\", \"gridcolor\": \"white\", \"gridwidth\": 2, \"linecolor\": \"white\", \"showbackground\": true, \"ticks\": \"\", \"zerolinecolor\": \"white\"}, \"yaxis\": {\"backgroundcolor\": \"#E5ECF6\", \"gridcolor\": \"white\", \"gridwidth\": 2, \"linecolor\": \"white\", \"showbackground\": true, \"ticks\": \"\", \"zerolinecolor\": \"white\"}, \"zaxis\": {\"backgroundcolor\": \"#E5ECF6\", \"gridcolor\": \"white\", \"gridwidth\": 2, \"linecolor\": \"white\", \"showbackground\": true, \"ticks\": \"\", \"zerolinecolor\": \"white\"}}, \"shapedefaults\": {\"line\": {\"color\": \"#2a3f5f\"}}, \"ternary\": {\"aaxis\": {\"gridcolor\": \"white\", \"linecolor\": \"white\", \"ticks\": \"\"}, \"baxis\": {\"gridcolor\": \"white\", \"linecolor\": \"white\", \"ticks\": \"\"}, \"bgcolor\": \"#E5ECF6\", \"caxis\": {\"gridcolor\": \"white\", \"linecolor\": \"white\", \"ticks\": \"\"}}, \"title\": {\"x\": 0.05}, \"xaxis\": {\"automargin\": true, \"gridcolor\": \"white\", \"linecolor\": \"white\", \"ticks\": \"\", \"title\": {\"standoff\": 15}, \"zerolinecolor\": \"white\", \"zerolinewidth\": 2}, \"yaxis\": {\"automargin\": true, \"gridcolor\": \"white\", \"linecolor\": \"white\", \"ticks\": \"\", \"title\": {\"standoff\": 15}, \"zerolinecolor\": \"white\", \"zerolinewidth\": 2}}}, \"xaxis\": {\"anchor\": \"y\", \"domain\": [0.0, 1.0], \"title\": {\"text\": \"IC\"}}, \"yaxis\": {\"anchor\": \"x\", \"domain\": [0.0, 1.0], \"title\": {\"text\": \"log<sub>10</sub>(T7 + PR772) NR\"}}},\n",
       "                        {\"responsive\": true}\n",
       "                    ).then(function(){\n",
       "                            \n",
       "var gd = document.getElementById('cba8419a-b0c5-4e11-a3b0-d15e321b8645');\n",
       "var x = new MutationObserver(function (mutations, observer) {{\n",
       "        var display = window.getComputedStyle(gd).display;\n",
       "        if (!display || display === 'none') {{\n",
       "            console.log([gd, 'removed!']);\n",
       "            Plotly.purge(gd);\n",
       "            observer.disconnect();\n",
       "        }}\n",
       "}});\n",
       "\n",
       "// Listen for the removal of the full notebook cells\n",
       "var notebookContainer = gd.closest('#notebook-container');\n",
       "if (notebookContainer) {{\n",
       "    x.observe(notebookContainer, {childList: true});\n",
       "}}\n",
       "\n",
       "// Listen for the clearing of the current output cell\n",
       "var outputEl = gd.closest('.output');\n",
       "if (outputEl) {{\n",
       "    x.observe(outputEl, {childList: true});\n",
       "}}\n",
       "\n",
       "                        })\n",
       "                };\n",
       "                });\n",
       "            </script>\n",
       "        </div>"
      ]
     },
     "metadata": {},
     "output_type": "display_data"
    }
   ],
   "source": [
    "fig = px.box(\n",
    "    merged_with_new_neg, y='Log10 T7 + PR772 NR (Composition File)',\n",
    "    x='IC', hover_data=['T7 + PR772 NR (Composition File)', 'Accession', 'Sample Name', 'Batch ID', 'Run Date'], points='all',\n",
    "    labels={'Log10 T7 + PR772 NR (Composition File)': 'log<sub>10</sub>(T7 + PR772) NR',\n",
    "            'T7 + PR772 NR (Composition File)': 'T7 + PR772 NR'})\n",
    "fig.update_layout(font=dict(size=18), height=600)\n",
    "fig.show()\n",
    "# fig.write_html('plots/Diluted_Hi_IC_vs_Low_IC.html')"
   ]
  },
  {
   "cell_type": "code",
   "execution_count": 79,
   "metadata": {},
   "outputs": [
    {
     "data": {
      "application/vnd.plotly.v1+json": {
       "config": {
        "plotlyServerURL": "https://plot.ly"
       },
       "data": [
        {
         "alignmentgroup": "True",
         "boxpoints": "all",
         "customdata": [
          [
           81296.7092805203,
           "controlneg",
           null,
           "191210B02",
           "2019-12-11"
          ],
          [
           6024.460948397478,
           "IDBD-D101029",
           "NEW neg2",
           "191210B02",
           "2019-12-11"
          ],
          [
           5675.047209041326,
           "IDBD-D101030",
           "NEW neg3",
           "191210B02",
           "2019-12-11"
          ],
          [
           5403.951340526646,
           "IDBD-D101031",
           "NEW Neg4",
           "191210B02",
           "2019-12-11"
          ],
          [
           5418.6157095621975,
           "IDBD-D101032",
           "NEW Neg5",
           "191210B02",
           "2019-12-11"
          ],
          [
           41459.84937098144,
           "controlneg",
           null,
           "191211B02",
           "2019-12-13"
          ],
          [
           6652.236668416355,
           "IDBD-D101074",
           "NEW Neg7",
           "191211B02",
           "2019-12-13"
          ],
          [
           4842.589013443285,
           "IDBD-D101075",
           "NEW Neg8",
           "191211B02",
           "2019-12-13"
          ],
          [
           5692.139847158353,
           "IDBD-D101076",
           "NEG Neg9",
           "191211B02",
           "2019-12-13"
          ],
          [
           7851.406422252066,
           "IDBD-D101077",
           "NEW Neg10",
           "191211B02",
           "2019-12-13"
          ],
          [
           5236.962858478826,
           "controlneg",
           null,
           "191220B01",
           "2019-12-20"
          ],
          [
           6335.327851558352,
           "controlneg",
           null,
           "191223B01",
           "2019-12-24"
          ],
          [
           6463.652568748615,
           "controlneg",
           null,
           "191223B04",
           "2019-12-25"
          ],
          [
           7750.54380779208,
           "controlneg",
           null,
           "200114B02",
           "2020-01-17"
          ],
          [
           6847.422828544828,
           "controlneg",
           null,
           "200116B03",
           "2020-01-18"
          ],
          [
           7256.320679560567,
           "controlneg",
           null,
           "200117B01",
           "2020-01-18"
          ],
          [
           4087.081680907999,
           "IDBD-D101325",
           "RespNeg01",
           "200119B01",
           "2020-01-20"
          ],
          [
           4069.388217397553,
           "IDBD-D101326",
           "RespNeg02",
           "200119B01",
           "2020-01-20"
          ],
          [
           4528.987491931303,
           "IDBD-D101327",
           "RespNeg03",
           "200119B01",
           "2020-01-20"
          ],
          [
           3936.474466767371,
           "IDBD-D101328",
           "RespNeg04",
           "200119B01",
           "2020-01-20"
          ],
          [
           4226.835267167544,
           "IDBD-D101329",
           "RespNeg05",
           "200119B01",
           "2020-01-20"
          ],
          [
           6065.263744791783,
           "IDBD-D101330",
           "RespNeg06",
           "200119B01",
           "2020-01-20"
          ],
          [
           6485.633339481331,
           "IDBD-D101331",
           "RespNeg07",
           "200119B01",
           "2020-01-20"
          ],
          [
           5427.159827785494,
           "IDBD-D101332",
           "RespNeg08",
           "200119B01",
           "2020-01-20"
          ],
          [
           5942.472657614007,
           "controlNeg",
           null,
           "200119B01",
           "2020-01-20"
          ],
          [
           5733.678786763884,
           "IDBD-D101333",
           "RespNeg09",
           "200119B02",
           "2020-01-20"
          ],
          [
           5642.290092702827,
           "IDBD-D101334",
           "RespNeg10",
           "200119B02",
           "2020-01-20"
          ],
          [
           6373.47932698333,
           "IDBD-D101335",
           "RespNeg11",
           "200119B02",
           "2020-01-20"
          ],
          [
           5455.027941817089,
           "IDBD-D101336",
           "RespNeg12",
           "200119B02",
           "2020-01-20"
          ],
          [
           5791.7543573630555,
           "IDBD-D101337",
           "RespNeg13",
           "200119B02",
           "2020-01-20"
          ],
          [
           6506.286699523414,
           "IDBD-D101338",
           "RespNeg14",
           "200119B02",
           "2020-01-20"
          ],
          [
           6981.192666955223,
           "IDBD-D101339",
           "RespNeg15",
           "200119B02",
           "2020-01-20"
          ],
          [
           5870.396597770782,
           "IDBD-D101340",
           "RespNeg16",
           "200119B02",
           "2020-01-20"
          ],
          [
           5978.470544211966,
           "controlNeg",
           null,
           "200119B02",
           "2020-01-20"
          ]
         ],
         "hoverlabel": {
          "namelength": 0
         },
         "hovertemplate": "IC=%{x}<br>log<sub>10</sub>(T7 + PR772) NR=%{y}<br>T7 + PR772 NR=%{customdata[0]}<br>Accession=%{customdata[1]}<br>Sample Name=%{customdata[2]}<br>Batch ID=%{customdata[3]}<br>Run Date=%{customdata[4]}",
         "legendgroup": "",
         "marker": {
          "color": "#636efa"
         },
         "name": "",
         "notched": false,
         "offsetgroup": "",
         "orientation": "v",
         "showlegend": false,
         "type": "box",
         "x": [
          "Low IC",
          "Low IC",
          "Low IC",
          "Low IC",
          "Low IC",
          "Low IC",
          "Low IC",
          "Low IC",
          "Low IC",
          "Low IC",
          "Low IC",
          "Low IC",
          "Low IC",
          "Low IC",
          "Low IC",
          "Low IC",
          "Diluted Hi IC",
          "Diluted Hi IC",
          "Diluted Hi IC",
          "Diluted Hi IC",
          "Diluted Hi IC",
          "Diluted Hi IC",
          "Diluted Hi IC",
          "Diluted Hi IC",
          "Diluted Hi IC",
          "Diluted Hi IC",
          "Diluted Hi IC",
          "Diluted Hi IC",
          "Diluted Hi IC",
          "Diluted Hi IC",
          "Diluted Hi IC",
          "Diluted Hi IC",
          "Diluted Hi IC",
          "Diluted Hi IC"
         ],
         "x0": " ",
         "xaxis": "x",
         "y": [
          4.910072966624383,
          3.7799181935523434,
          3.753969478647692,
          3.732711429795605,
          3.7338883517626065,
          4.617627719912439,
          3.822967691834141,
          3.68507761239413,
          3.7552755614936055,
          3.894947458874375,
          3.719079493814623,
          3.801769094426791,
          3.810478004398575,
          3.8893321753369854,
          3.835527146391352,
          3.8607164673108865,
          3.611413317235241,
          3.609529123284368,
          3.6560011212586434,
          3.5951074388142383,
          3.6260153223607854,
          3.7828496906794666,
          3.8119523925113104,
          3.7345726115745386,
          3.7739671921377567,
          3.7584333591644485,
          3.7514554112098666,
          3.8043765814699584,
          3.7367969794790623,
          3.7628101340758273,
          3.813333196553832,
          3.843929623830897,
          3.768667442713555,
          3.776590093826801
         ],
         "y0": " ",
         "yaxis": "y"
        }
       ],
       "layout": {
        "autosize": true,
        "boxmode": "group",
        "font": {
         "size": 18
        },
        "legend": {
         "tracegroupgap": 0
        },
        "margin": {
         "t": 60
        },
        "template": {
         "data": {
          "bar": [
           {
            "error_x": {
             "color": "#2a3f5f"
            },
            "error_y": {
             "color": "#2a3f5f"
            },
            "marker": {
             "line": {
              "color": "#E5ECF6",
              "width": 0.5
             }
            },
            "type": "bar"
           }
          ],
          "barpolar": [
           {
            "marker": {
             "line": {
              "color": "#E5ECF6",
              "width": 0.5
             }
            },
            "type": "barpolar"
           }
          ],
          "carpet": [
           {
            "aaxis": {
             "endlinecolor": "#2a3f5f",
             "gridcolor": "white",
             "linecolor": "white",
             "minorgridcolor": "white",
             "startlinecolor": "#2a3f5f"
            },
            "baxis": {
             "endlinecolor": "#2a3f5f",
             "gridcolor": "white",
             "linecolor": "white",
             "minorgridcolor": "white",
             "startlinecolor": "#2a3f5f"
            },
            "type": "carpet"
           }
          ],
          "choropleth": [
           {
            "colorbar": {
             "outlinewidth": 0,
             "ticks": ""
            },
            "type": "choropleth"
           }
          ],
          "contour": [
           {
            "colorbar": {
             "outlinewidth": 0,
             "ticks": ""
            },
            "colorscale": [
             [
              0,
              "#0d0887"
             ],
             [
              0.1111111111111111,
              "#46039f"
             ],
             [
              0.2222222222222222,
              "#7201a8"
             ],
             [
              0.3333333333333333,
              "#9c179e"
             ],
             [
              0.4444444444444444,
              "#bd3786"
             ],
             [
              0.5555555555555556,
              "#d8576b"
             ],
             [
              0.6666666666666666,
              "#ed7953"
             ],
             [
              0.7777777777777778,
              "#fb9f3a"
             ],
             [
              0.8888888888888888,
              "#fdca26"
             ],
             [
              1,
              "#f0f921"
             ]
            ],
            "type": "contour"
           }
          ],
          "contourcarpet": [
           {
            "colorbar": {
             "outlinewidth": 0,
             "ticks": ""
            },
            "type": "contourcarpet"
           }
          ],
          "heatmap": [
           {
            "colorbar": {
             "outlinewidth": 0,
             "ticks": ""
            },
            "colorscale": [
             [
              0,
              "#0d0887"
             ],
             [
              0.1111111111111111,
              "#46039f"
             ],
             [
              0.2222222222222222,
              "#7201a8"
             ],
             [
              0.3333333333333333,
              "#9c179e"
             ],
             [
              0.4444444444444444,
              "#bd3786"
             ],
             [
              0.5555555555555556,
              "#d8576b"
             ],
             [
              0.6666666666666666,
              "#ed7953"
             ],
             [
              0.7777777777777778,
              "#fb9f3a"
             ],
             [
              0.8888888888888888,
              "#fdca26"
             ],
             [
              1,
              "#f0f921"
             ]
            ],
            "type": "heatmap"
           }
          ],
          "heatmapgl": [
           {
            "colorbar": {
             "outlinewidth": 0,
             "ticks": ""
            },
            "colorscale": [
             [
              0,
              "#0d0887"
             ],
             [
              0.1111111111111111,
              "#46039f"
             ],
             [
              0.2222222222222222,
              "#7201a8"
             ],
             [
              0.3333333333333333,
              "#9c179e"
             ],
             [
              0.4444444444444444,
              "#bd3786"
             ],
             [
              0.5555555555555556,
              "#d8576b"
             ],
             [
              0.6666666666666666,
              "#ed7953"
             ],
             [
              0.7777777777777778,
              "#fb9f3a"
             ],
             [
              0.8888888888888888,
              "#fdca26"
             ],
             [
              1,
              "#f0f921"
             ]
            ],
            "type": "heatmapgl"
           }
          ],
          "histogram": [
           {
            "marker": {
             "colorbar": {
              "outlinewidth": 0,
              "ticks": ""
             }
            },
            "type": "histogram"
           }
          ],
          "histogram2d": [
           {
            "colorbar": {
             "outlinewidth": 0,
             "ticks": ""
            },
            "colorscale": [
             [
              0,
              "#0d0887"
             ],
             [
              0.1111111111111111,
              "#46039f"
             ],
             [
              0.2222222222222222,
              "#7201a8"
             ],
             [
              0.3333333333333333,
              "#9c179e"
             ],
             [
              0.4444444444444444,
              "#bd3786"
             ],
             [
              0.5555555555555556,
              "#d8576b"
             ],
             [
              0.6666666666666666,
              "#ed7953"
             ],
             [
              0.7777777777777778,
              "#fb9f3a"
             ],
             [
              0.8888888888888888,
              "#fdca26"
             ],
             [
              1,
              "#f0f921"
             ]
            ],
            "type": "histogram2d"
           }
          ],
          "histogram2dcontour": [
           {
            "colorbar": {
             "outlinewidth": 0,
             "ticks": ""
            },
            "colorscale": [
             [
              0,
              "#0d0887"
             ],
             [
              0.1111111111111111,
              "#46039f"
             ],
             [
              0.2222222222222222,
              "#7201a8"
             ],
             [
              0.3333333333333333,
              "#9c179e"
             ],
             [
              0.4444444444444444,
              "#bd3786"
             ],
             [
              0.5555555555555556,
              "#d8576b"
             ],
             [
              0.6666666666666666,
              "#ed7953"
             ],
             [
              0.7777777777777778,
              "#fb9f3a"
             ],
             [
              0.8888888888888888,
              "#fdca26"
             ],
             [
              1,
              "#f0f921"
             ]
            ],
            "type": "histogram2dcontour"
           }
          ],
          "mesh3d": [
           {
            "colorbar": {
             "outlinewidth": 0,
             "ticks": ""
            },
            "type": "mesh3d"
           }
          ],
          "parcoords": [
           {
            "line": {
             "colorbar": {
              "outlinewidth": 0,
              "ticks": ""
             }
            },
            "type": "parcoords"
           }
          ],
          "pie": [
           {
            "automargin": true,
            "type": "pie"
           }
          ],
          "scatter": [
           {
            "marker": {
             "colorbar": {
              "outlinewidth": 0,
              "ticks": ""
             }
            },
            "type": "scatter"
           }
          ],
          "scatter3d": [
           {
            "line": {
             "colorbar": {
              "outlinewidth": 0,
              "ticks": ""
             }
            },
            "marker": {
             "colorbar": {
              "outlinewidth": 0,
              "ticks": ""
             }
            },
            "type": "scatter3d"
           }
          ],
          "scattercarpet": [
           {
            "marker": {
             "colorbar": {
              "outlinewidth": 0,
              "ticks": ""
             }
            },
            "type": "scattercarpet"
           }
          ],
          "scattergeo": [
           {
            "marker": {
             "colorbar": {
              "outlinewidth": 0,
              "ticks": ""
             }
            },
            "type": "scattergeo"
           }
          ],
          "scattergl": [
           {
            "marker": {
             "colorbar": {
              "outlinewidth": 0,
              "ticks": ""
             }
            },
            "type": "scattergl"
           }
          ],
          "scattermapbox": [
           {
            "marker": {
             "colorbar": {
              "outlinewidth": 0,
              "ticks": ""
             }
            },
            "type": "scattermapbox"
           }
          ],
          "scatterpolar": [
           {
            "marker": {
             "colorbar": {
              "outlinewidth": 0,
              "ticks": ""
             }
            },
            "type": "scatterpolar"
           }
          ],
          "scatterpolargl": [
           {
            "marker": {
             "colorbar": {
              "outlinewidth": 0,
              "ticks": ""
             }
            },
            "type": "scatterpolargl"
           }
          ],
          "scatterternary": [
           {
            "marker": {
             "colorbar": {
              "outlinewidth": 0,
              "ticks": ""
             }
            },
            "type": "scatterternary"
           }
          ],
          "surface": [
           {
            "colorbar": {
             "outlinewidth": 0,
             "ticks": ""
            },
            "colorscale": [
             [
              0,
              "#0d0887"
             ],
             [
              0.1111111111111111,
              "#46039f"
             ],
             [
              0.2222222222222222,
              "#7201a8"
             ],
             [
              0.3333333333333333,
              "#9c179e"
             ],
             [
              0.4444444444444444,
              "#bd3786"
             ],
             [
              0.5555555555555556,
              "#d8576b"
             ],
             [
              0.6666666666666666,
              "#ed7953"
             ],
             [
              0.7777777777777778,
              "#fb9f3a"
             ],
             [
              0.8888888888888888,
              "#fdca26"
             ],
             [
              1,
              "#f0f921"
             ]
            ],
            "type": "surface"
           }
          ],
          "table": [
           {
            "cells": {
             "fill": {
              "color": "#EBF0F8"
             },
             "line": {
              "color": "white"
             }
            },
            "header": {
             "fill": {
              "color": "#C8D4E3"
             },
             "line": {
              "color": "white"
             }
            },
            "type": "table"
           }
          ]
         },
         "layout": {
          "annotationdefaults": {
           "arrowcolor": "#2a3f5f",
           "arrowhead": 0,
           "arrowwidth": 1
          },
          "coloraxis": {
           "colorbar": {
            "outlinewidth": 0,
            "ticks": ""
           }
          },
          "colorscale": {
           "diverging": [
            [
             0,
             "#8e0152"
            ],
            [
             0.1,
             "#c51b7d"
            ],
            [
             0.2,
             "#de77ae"
            ],
            [
             0.3,
             "#f1b6da"
            ],
            [
             0.4,
             "#fde0ef"
            ],
            [
             0.5,
             "#f7f7f7"
            ],
            [
             0.6,
             "#e6f5d0"
            ],
            [
             0.7,
             "#b8e186"
            ],
            [
             0.8,
             "#7fbc41"
            ],
            [
             0.9,
             "#4d9221"
            ],
            [
             1,
             "#276419"
            ]
           ],
           "sequential": [
            [
             0,
             "#0d0887"
            ],
            [
             0.1111111111111111,
             "#46039f"
            ],
            [
             0.2222222222222222,
             "#7201a8"
            ],
            [
             0.3333333333333333,
             "#9c179e"
            ],
            [
             0.4444444444444444,
             "#bd3786"
            ],
            [
             0.5555555555555556,
             "#d8576b"
            ],
            [
             0.6666666666666666,
             "#ed7953"
            ],
            [
             0.7777777777777778,
             "#fb9f3a"
            ],
            [
             0.8888888888888888,
             "#fdca26"
            ],
            [
             1,
             "#f0f921"
            ]
           ],
           "sequentialminus": [
            [
             0,
             "#0d0887"
            ],
            [
             0.1111111111111111,
             "#46039f"
            ],
            [
             0.2222222222222222,
             "#7201a8"
            ],
            [
             0.3333333333333333,
             "#9c179e"
            ],
            [
             0.4444444444444444,
             "#bd3786"
            ],
            [
             0.5555555555555556,
             "#d8576b"
            ],
            [
             0.6666666666666666,
             "#ed7953"
            ],
            [
             0.7777777777777778,
             "#fb9f3a"
            ],
            [
             0.8888888888888888,
             "#fdca26"
            ],
            [
             1,
             "#f0f921"
            ]
           ]
          },
          "colorway": [
           "#636efa",
           "#EF553B",
           "#00cc96",
           "#ab63fa",
           "#FFA15A",
           "#19d3f3",
           "#FF6692",
           "#B6E880",
           "#FF97FF",
           "#FECB52"
          ],
          "font": {
           "color": "#2a3f5f"
          },
          "geo": {
           "bgcolor": "white",
           "lakecolor": "white",
           "landcolor": "#E5ECF6",
           "showlakes": true,
           "showland": true,
           "subunitcolor": "white"
          },
          "hoverlabel": {
           "align": "left"
          },
          "hovermode": "closest",
          "mapbox": {
           "style": "light"
          },
          "paper_bgcolor": "white",
          "plot_bgcolor": "#E5ECF6",
          "polar": {
           "angularaxis": {
            "gridcolor": "white",
            "linecolor": "white",
            "ticks": ""
           },
           "bgcolor": "#E5ECF6",
           "radialaxis": {
            "gridcolor": "white",
            "linecolor": "white",
            "ticks": ""
           }
          },
          "scene": {
           "xaxis": {
            "backgroundcolor": "#E5ECF6",
            "gridcolor": "white",
            "gridwidth": 2,
            "linecolor": "white",
            "showbackground": true,
            "ticks": "",
            "zerolinecolor": "white"
           },
           "yaxis": {
            "backgroundcolor": "#E5ECF6",
            "gridcolor": "white",
            "gridwidth": 2,
            "linecolor": "white",
            "showbackground": true,
            "ticks": "",
            "zerolinecolor": "white"
           },
           "zaxis": {
            "backgroundcolor": "#E5ECF6",
            "gridcolor": "white",
            "gridwidth": 2,
            "linecolor": "white",
            "showbackground": true,
            "ticks": "",
            "zerolinecolor": "white"
           }
          },
          "shapedefaults": {
           "line": {
            "color": "#2a3f5f"
           }
          },
          "ternary": {
           "aaxis": {
            "gridcolor": "white",
            "linecolor": "white",
            "ticks": ""
           },
           "baxis": {
            "gridcolor": "white",
            "linecolor": "white",
            "ticks": ""
           },
           "bgcolor": "#E5ECF6",
           "caxis": {
            "gridcolor": "white",
            "linecolor": "white",
            "ticks": ""
           }
          },
          "title": {
           "x": 0.05
          },
          "xaxis": {
           "automargin": true,
           "gridcolor": "white",
           "linecolor": "white",
           "ticks": "",
           "title": {
            "standoff": 15
           },
           "zerolinecolor": "white",
           "zerolinewidth": 2
          },
          "yaxis": {
           "automargin": true,
           "gridcolor": "white",
           "linecolor": "white",
           "ticks": "",
           "title": {
            "standoff": 15
           },
           "zerolinecolor": "white",
           "zerolinewidth": 2
          }
         }
        },
        "xaxis": {
         "anchor": "y",
         "autorange": true,
         "domain": [
          0,
          1
         ],
         "range": [
          -0.5049586776859504,
          1.5
         ],
         "title": {
          "text": "IC"
         },
         "type": "category"
        },
        "yaxis": {
         "anchor": "x",
         "autorange": true,
         "domain": [
          0,
          1
         ],
         "range": [
          3.5220537983803415,
          4.98312660705828
         ],
         "title": {
          "text": "log<sub>10</sub>(T7 + PR772) NR"
         },
         "type": "linear"
        }
       }
      },
      "image/png": "[encoded data removed]",
      "text/html": [
       "<div>\n",
       "        \n",
       "        \n",
       "            <div id=\"5e2ae757-bdd7-46e4-87e3-2a85d563c37e\" class=\"plotly-graph-div\" style=\"height:600px; width:100%;\"></div>\n",
       "            <script type=\"text/javascript\">\n",
       "                require([\"plotly\"], function(Plotly) {\n",
       "                    window.PLOTLYENV=window.PLOTLYENV || {};\n",
       "                    \n",
       "                if (document.getElementById(\"5e2ae757-bdd7-46e4-87e3-2a85d563c37e\")) {\n",
       "                    Plotly.newPlot(\n",
       "                        '5e2ae757-bdd7-46e4-87e3-2a85d563c37e',\n",
       "                        [{\"alignmentgroup\": \"True\", \"boxpoints\": \"all\", \"customdata\": [[81296.7092805203, \"controlneg\", null, \"191210B02\", \"2019-12-11\"], [6024.460948397478, \"IDBD-D101029\", \"NEW neg2\", \"191210B02\", \"2019-12-11\"], [5675.047209041326, \"IDBD-D101030\", \"NEW neg3\", \"191210B02\", \"2019-12-11\"], [5403.951340526646, \"IDBD-D101031\", \"NEW Neg4\", \"191210B02\", \"2019-12-11\"], [5418.6157095621975, \"IDBD-D101032\", \"NEW Neg5\", \"191210B02\", \"2019-12-11\"], [41459.84937098144, \"controlneg\", null, \"191211B02\", \"2019-12-13\"], [6652.236668416355, \"IDBD-D101074\", \"NEW Neg7\", \"191211B02\", \"2019-12-13\"], [4842.589013443285, \"IDBD-D101075\", \"NEW Neg8\", \"191211B02\", \"2019-12-13\"], [5692.139847158353, \"IDBD-D101076\", \"NEG Neg9\", \"191211B02\", \"2019-12-13\"], [7851.406422252066, \"IDBD-D101077\", \"NEW Neg10\", \"191211B02\", \"2019-12-13\"], [5236.962858478826, \"controlneg\", null, \"191220B01\", \"2019-12-20\"], [6335.327851558352, \"controlneg\", null, \"191223B01\", \"2019-12-24\"], [6463.652568748615, \"controlneg\", null, \"191223B04\", \"2019-12-25\"], [7750.54380779208, \"controlneg\", null, \"200114B02\", \"2020-01-17\"], [6847.422828544828, \"controlneg\", null, \"200116B03\", \"2020-01-18\"], [7256.320679560567, \"controlneg\", null, \"200117B01\", \"2020-01-18\"], [4087.081680907999, \"IDBD-D101325\", \"RespNeg01\", \"200119B01\", \"2020-01-20\"], [4069.388217397553, \"IDBD-D101326\", \"RespNeg02\", \"200119B01\", \"2020-01-20\"], [4528.987491931303, \"IDBD-D101327\", \"RespNeg03\", \"200119B01\", \"2020-01-20\"], [3936.474466767371, \"IDBD-D101328\", \"RespNeg04\", \"200119B01\", \"2020-01-20\"], [4226.835267167544, \"IDBD-D101329\", \"RespNeg05\", \"200119B01\", \"2020-01-20\"], [6065.263744791783, \"IDBD-D101330\", \"RespNeg06\", \"200119B01\", \"2020-01-20\"], [6485.633339481331, \"IDBD-D101331\", \"RespNeg07\", \"200119B01\", \"2020-01-20\"], [5427.159827785494, \"IDBD-D101332\", \"RespNeg08\", \"200119B01\", \"2020-01-20\"], [5942.472657614007, \"controlNeg\", null, \"200119B01\", \"2020-01-20\"], [5733.678786763884, \"IDBD-D101333\", \"RespNeg09\", \"200119B02\", \"2020-01-20\"], [5642.290092702827, \"IDBD-D101334\", \"RespNeg10\", \"200119B02\", \"2020-01-20\"], [6373.47932698333, \"IDBD-D101335\", \"RespNeg11\", \"200119B02\", \"2020-01-20\"], [5455.027941817089, \"IDBD-D101336\", \"RespNeg12\", \"200119B02\", \"2020-01-20\"], [5791.7543573630555, \"IDBD-D101337\", \"RespNeg13\", \"200119B02\", \"2020-01-20\"], [6506.286699523414, \"IDBD-D101338\", \"RespNeg14\", \"200119B02\", \"2020-01-20\"], [6981.192666955223, \"IDBD-D101339\", \"RespNeg15\", \"200119B02\", \"2020-01-20\"], [5870.396597770782, \"IDBD-D101340\", \"RespNeg16\", \"200119B02\", \"2020-01-20\"], [5978.470544211966, \"controlNeg\", null, \"200119B02\", \"2020-01-20\"]], \"hoverlabel\": {\"namelength\": 0}, \"hovertemplate\": \"IC=%{x}<br>log<sub>10</sub>(T7 + PR772) NR=%{y}<br>T7 + PR772 NR=%{customdata[0]}<br>Accession=%{customdata[1]}<br>Sample Name=%{customdata[2]}<br>Batch ID=%{customdata[3]}<br>Run Date=%{customdata[4]}\", \"legendgroup\": \"\", \"marker\": {\"color\": \"#636efa\"}, \"name\": \"\", \"notched\": false, \"offsetgroup\": \"\", \"orientation\": \"v\", \"showlegend\": false, \"type\": \"box\", \"x\": [\"Low IC\", \"Low IC\", \"Low IC\", \"Low IC\", \"Low IC\", \"Low IC\", \"Low IC\", \"Low IC\", \"Low IC\", \"Low IC\", \"Low IC\", \"Low IC\", \"Low IC\", \"Low IC\", \"Low IC\", \"Low IC\", \"Diluted Hi IC\", \"Diluted Hi IC\", \"Diluted Hi IC\", \"Diluted Hi IC\", \"Diluted Hi IC\", \"Diluted Hi IC\", \"Diluted Hi IC\", \"Diluted Hi IC\", \"Diluted Hi IC\", \"Diluted Hi IC\", \"Diluted Hi IC\", \"Diluted Hi IC\", \"Diluted Hi IC\", \"Diluted Hi IC\", \"Diluted Hi IC\", \"Diluted Hi IC\", \"Diluted Hi IC\", \"Diluted Hi IC\"], \"x0\": \" \", \"xaxis\": \"x\", \"y\": [4.910072966624383, 3.7799181935523434, 3.753969478647692, 3.732711429795605, 3.7338883517626065, 4.617627719912439, 3.822967691834141, 3.68507761239413, 3.7552755614936055, 3.894947458874375, 3.719079493814623, 3.801769094426791, 3.810478004398575, 3.8893321753369854, 3.835527146391352, 3.8607164673108865, 3.611413317235241, 3.609529123284368, 3.6560011212586434, 3.5951074388142383, 3.6260153223607854, 3.7828496906794666, 3.8119523925113104, 3.7345726115745386, 3.7739671921377567, 3.7584333591644485, 3.7514554112098666, 3.8043765814699584, 3.7367969794790623, 3.7628101340758273, 3.813333196553832, 3.843929623830897, 3.768667442713555, 3.776590093826801], \"y0\": \" \", \"yaxis\": \"y\"}],\n",
       "                        {\"boxmode\": \"group\", \"font\": {\"size\": 18}, \"height\": 600, \"legend\": {\"tracegroupgap\": 0}, \"margin\": {\"t\": 60}, \"template\": {\"data\": {\"bar\": [{\"error_x\": {\"color\": \"#2a3f5f\"}, \"error_y\": {\"color\": \"#2a3f5f\"}, \"marker\": {\"line\": {\"color\": \"#E5ECF6\", \"width\": 0.5}}, \"type\": \"bar\"}], \"barpolar\": [{\"marker\": {\"line\": {\"color\": \"#E5ECF6\", \"width\": 0.5}}, \"type\": \"barpolar\"}], \"carpet\": [{\"aaxis\": {\"endlinecolor\": \"#2a3f5f\", \"gridcolor\": \"white\", \"linecolor\": \"white\", \"minorgridcolor\": \"white\", \"startlinecolor\": \"#2a3f5f\"}, \"baxis\": {\"endlinecolor\": \"#2a3f5f\", \"gridcolor\": \"white\", \"linecolor\": \"white\", \"minorgridcolor\": \"white\", \"startlinecolor\": \"#2a3f5f\"}, \"type\": \"carpet\"}], \"choropleth\": [{\"colorbar\": {\"outlinewidth\": 0, \"ticks\": \"\"}, \"type\": \"choropleth\"}], \"contour\": [{\"colorbar\": {\"outlinewidth\": 0, \"ticks\": \"\"}, \"colorscale\": [[0.0, \"#0d0887\"], [0.1111111111111111, \"#46039f\"], [0.2222222222222222, \"#7201a8\"], [0.3333333333333333, \"#9c179e\"], [0.4444444444444444, \"#bd3786\"], [0.5555555555555556, \"#d8576b\"], [0.6666666666666666, \"#ed7953\"], [0.7777777777777778, \"#fb9f3a\"], [0.8888888888888888, \"#fdca26\"], [1.0, \"#f0f921\"]], \"type\": \"contour\"}], \"contourcarpet\": [{\"colorbar\": {\"outlinewidth\": 0, \"ticks\": \"\"}, \"type\": \"contourcarpet\"}], \"heatmap\": [{\"colorbar\": {\"outlinewidth\": 0, \"ticks\": \"\"}, \"colorscale\": [[0.0, \"#0d0887\"], [0.1111111111111111, \"#46039f\"], [0.2222222222222222, \"#7201a8\"], [0.3333333333333333, \"#9c179e\"], [0.4444444444444444, \"#bd3786\"], [0.5555555555555556, \"#d8576b\"], [0.6666666666666666, \"#ed7953\"], [0.7777777777777778, \"#fb9f3a\"], [0.8888888888888888, \"#fdca26\"], [1.0, \"#f0f921\"]], \"type\": \"heatmap\"}], \"heatmapgl\": [{\"colorbar\": {\"outlinewidth\": 0, \"ticks\": \"\"}, \"colorscale\": [[0.0, \"#0d0887\"], [0.1111111111111111, \"#46039f\"], [0.2222222222222222, \"#7201a8\"], [0.3333333333333333, \"#9c179e\"], [0.4444444444444444, \"#bd3786\"], [0.5555555555555556, \"#d8576b\"], [0.6666666666666666, \"#ed7953\"], [0.7777777777777778, \"#fb9f3a\"], [0.8888888888888888, \"#fdca26\"], [1.0, \"#f0f921\"]], \"type\": \"heatmapgl\"}], \"histogram\": [{\"marker\": {\"colorbar\": {\"outlinewidth\": 0, \"ticks\": \"\"}}, \"type\": \"histogram\"}], \"histogram2d\": [{\"colorbar\": {\"outlinewidth\": 0, \"ticks\": \"\"}, \"colorscale\": [[0.0, \"#0d0887\"], [0.1111111111111111, \"#46039f\"], [0.2222222222222222, \"#7201a8\"], [0.3333333333333333, \"#9c179e\"], [0.4444444444444444, \"#bd3786\"], [0.5555555555555556, \"#d8576b\"], [0.6666666666666666, \"#ed7953\"], [0.7777777777777778, \"#fb9f3a\"], [0.8888888888888888, \"#fdca26\"], [1.0, \"#f0f921\"]], \"type\": \"histogram2d\"}], \"histogram2dcontour\": [{\"colorbar\": {\"outlinewidth\": 0, \"ticks\": \"\"}, \"colorscale\": [[0.0, \"#0d0887\"], [0.1111111111111111, \"#46039f\"], [0.2222222222222222, \"#7201a8\"], [0.3333333333333333, \"#9c179e\"], [0.4444444444444444, \"#bd3786\"], [0.5555555555555556, \"#d8576b\"], [0.6666666666666666, \"#ed7953\"], [0.7777777777777778, \"#fb9f3a\"], [0.8888888888888888, \"#fdca26\"], [1.0, \"#f0f921\"]], \"type\": \"histogram2dcontour\"}], \"mesh3d\": [{\"colorbar\": {\"outlinewidth\": 0, \"ticks\": \"\"}, \"type\": \"mesh3d\"}], \"parcoords\": [{\"line\": {\"colorbar\": {\"outlinewidth\": 0, \"ticks\": \"\"}}, \"type\": \"parcoords\"}], \"pie\": [{\"automargin\": true, \"type\": \"pie\"}], \"scatter\": [{\"marker\": {\"colorbar\": {\"outlinewidth\": 0, \"ticks\": \"\"}}, \"type\": \"scatter\"}], \"scatter3d\": [{\"line\": {\"colorbar\": {\"outlinewidth\": 0, \"ticks\": \"\"}}, \"marker\": {\"colorbar\": {\"outlinewidth\": 0, \"ticks\": \"\"}}, \"type\": \"scatter3d\"}], \"scattercarpet\": [{\"marker\": {\"colorbar\": {\"outlinewidth\": 0, \"ticks\": \"\"}}, \"type\": \"scattercarpet\"}], \"scattergeo\": [{\"marker\": {\"colorbar\": {\"outlinewidth\": 0, \"ticks\": \"\"}}, \"type\": \"scattergeo\"}], \"scattergl\": [{\"marker\": {\"colorbar\": {\"outlinewidth\": 0, \"ticks\": \"\"}}, \"type\": \"scattergl\"}], \"scattermapbox\": [{\"marker\": {\"colorbar\": {\"outlinewidth\": 0, \"ticks\": \"\"}}, \"type\": \"scattermapbox\"}], \"scatterpolar\": [{\"marker\": {\"colorbar\": {\"outlinewidth\": 0, \"ticks\": \"\"}}, \"type\": \"scatterpolar\"}], \"scatterpolargl\": [{\"marker\": {\"colorbar\": {\"outlinewidth\": 0, \"ticks\": \"\"}}, \"type\": \"scatterpolargl\"}], \"scatterternary\": [{\"marker\": {\"colorbar\": {\"outlinewidth\": 0, \"ticks\": \"\"}}, \"type\": \"scatterternary\"}], \"surface\": [{\"colorbar\": {\"outlinewidth\": 0, \"ticks\": \"\"}, \"colorscale\": [[0.0, \"#0d0887\"], [0.1111111111111111, \"#46039f\"], [0.2222222222222222, \"#7201a8\"], [0.3333333333333333, \"#9c179e\"], [0.4444444444444444, \"#bd3786\"], [0.5555555555555556, \"#d8576b\"], [0.6666666666666666, \"#ed7953\"], [0.7777777777777778, \"#fb9f3a\"], [0.8888888888888888, \"#fdca26\"], [1.0, \"#f0f921\"]], \"type\": \"surface\"}], \"table\": [{\"cells\": {\"fill\": {\"color\": \"#EBF0F8\"}, \"line\": {\"color\": \"white\"}}, \"header\": {\"fill\": {\"color\": \"#C8D4E3\"}, \"line\": {\"color\": \"white\"}}, \"type\": \"table\"}]}, \"layout\": {\"annotationdefaults\": {\"arrowcolor\": \"#2a3f5f\", \"arrowhead\": 0, \"arrowwidth\": 1}, \"coloraxis\": {\"colorbar\": {\"outlinewidth\": 0, \"ticks\": \"\"}}, \"colorscale\": {\"diverging\": [[0, \"#8e0152\"], [0.1, \"#c51b7d\"], [0.2, \"#de77ae\"], [0.3, \"#f1b6da\"], [0.4, \"#fde0ef\"], [0.5, \"#f7f7f7\"], [0.6, \"#e6f5d0\"], [0.7, \"#b8e186\"], [0.8, \"#7fbc41\"], [0.9, \"#4d9221\"], [1, \"#276419\"]], \"sequential\": [[0.0, \"#0d0887\"], [0.1111111111111111, \"#46039f\"], [0.2222222222222222, \"#7201a8\"], [0.3333333333333333, \"#9c179e\"], [0.4444444444444444, \"#bd3786\"], [0.5555555555555556, \"#d8576b\"], [0.6666666666666666, \"#ed7953\"], [0.7777777777777778, \"#fb9f3a\"], [0.8888888888888888, \"#fdca26\"], [1.0, \"#f0f921\"]], \"sequentialminus\": [[0.0, \"#0d0887\"], [0.1111111111111111, \"#46039f\"], [0.2222222222222222, \"#7201a8\"], [0.3333333333333333, \"#9c179e\"], [0.4444444444444444, \"#bd3786\"], [0.5555555555555556, \"#d8576b\"], [0.6666666666666666, \"#ed7953\"], [0.7777777777777778, \"#fb9f3a\"], [0.8888888888888888, \"#fdca26\"], [1.0, \"#f0f921\"]]}, \"colorway\": [\"#636efa\", \"#EF553B\", \"#00cc96\", \"#ab63fa\", \"#FFA15A\", \"#19d3f3\", \"#FF6692\", \"#B6E880\", \"#FF97FF\", \"#FECB52\"], \"font\": {\"color\": \"#2a3f5f\"}, \"geo\": {\"bgcolor\": \"white\", \"lakecolor\": \"white\", \"landcolor\": \"#E5ECF6\", \"showlakes\": true, \"showland\": true, \"subunitcolor\": \"white\"}, \"hoverlabel\": {\"align\": \"left\"}, \"hovermode\": \"closest\", \"mapbox\": {\"style\": \"light\"}, \"paper_bgcolor\": \"white\", \"plot_bgcolor\": \"#E5ECF6\", \"polar\": {\"angularaxis\": {\"gridcolor\": \"white\", \"linecolor\": \"white\", \"ticks\": \"\"}, \"bgcolor\": \"#E5ECF6\", \"radialaxis\": {\"gridcolor\": \"white\", \"linecolor\": \"white\", \"ticks\": \"\"}}, \"scene\": {\"xaxis\": {\"backgroundcolor\": \"#E5ECF6\", \"gridcolor\": \"white\", \"gridwidth\": 2, \"linecolor\": \"white\", \"showbackground\": true, \"ticks\": \"\", \"zerolinecolor\": \"white\"}, \"yaxis\": {\"backgroundcolor\": \"#E5ECF6\", \"gridcolor\": \"white\", \"gridwidth\": 2, \"linecolor\": \"white\", \"showbackground\": true, \"ticks\": \"\", \"zerolinecolor\": \"white\"}, \"zaxis\": {\"backgroundcolor\": \"#E5ECF6\", \"gridcolor\": \"white\", \"gridwidth\": 2, \"linecolor\": \"white\", \"showbackground\": true, \"ticks\": \"\", \"zerolinecolor\": \"white\"}}, \"shapedefaults\": {\"line\": {\"color\": \"#2a3f5f\"}}, \"ternary\": {\"aaxis\": {\"gridcolor\": \"white\", \"linecolor\": \"white\", \"ticks\": \"\"}, \"baxis\": {\"gridcolor\": \"white\", \"linecolor\": \"white\", \"ticks\": \"\"}, \"bgcolor\": \"#E5ECF6\", \"caxis\": {\"gridcolor\": \"white\", \"linecolor\": \"white\", \"ticks\": \"\"}}, \"title\": {\"x\": 0.05}, \"xaxis\": {\"automargin\": true, \"gridcolor\": \"white\", \"linecolor\": \"white\", \"ticks\": \"\", \"title\": {\"standoff\": 15}, \"zerolinecolor\": \"white\", \"zerolinewidth\": 2}, \"yaxis\": {\"automargin\": true, \"gridcolor\": \"white\", \"linecolor\": \"white\", \"ticks\": \"\", \"title\": {\"standoff\": 15}, \"zerolinecolor\": \"white\", \"zerolinewidth\": 2}}}, \"xaxis\": {\"anchor\": \"y\", \"domain\": [0.0, 1.0], \"title\": {\"text\": \"IC\"}}, \"yaxis\": {\"anchor\": \"x\", \"domain\": [0.0, 1.0], \"title\": {\"text\": \"log<sub>10</sub>(T7 + PR772) NR\"}}},\n",
       "                        {\"responsive\": true}\n",
       "                    ).then(function(){\n",
       "                            \n",
       "var gd = document.getElementById('5e2ae757-bdd7-46e4-87e3-2a85d563c37e');\n",
       "var x = new MutationObserver(function (mutations, observer) {{\n",
       "        var display = window.getComputedStyle(gd).display;\n",
       "        if (!display || display === 'none') {{\n",
       "            console.log([gd, 'removed!']);\n",
       "            Plotly.purge(gd);\n",
       "            observer.disconnect();\n",
       "        }}\n",
       "}});\n",
       "\n",
       "// Listen for the removal of the full notebook cells\n",
       "var notebookContainer = gd.closest('#notebook-container');\n",
       "if (notebookContainer) {{\n",
       "    x.observe(notebookContainer, {childList: true});\n",
       "}}\n",
       "\n",
       "// Listen for the clearing of the current output cell\n",
       "var outputEl = gd.closest('.output');\n",
       "if (outputEl) {{\n",
       "    x.observe(outputEl, {childList: true});\n",
       "}}\n",
       "\n",
       "                        })\n",
       "                };\n",
       "                });\n",
       "            </script>\n",
       "        </div>"
      ]
     },
     "metadata": {},
     "output_type": "display_data"
    }
   ],
   "source": [
    "merged_recent = merged_with_new_neg[merged_with_new_neg['Run Date'] > '2019-12-10']\n",
    "merged_recent = merged_recent.replace({'Low IC - New Neg Ctrl': 'Low IC'})\n",
    "fig = px.box(\n",
    "    merged_recent, y='Log10 T7 + PR772 NR (Composition File)',\n",
    "    x='IC', hover_data=['T7 + PR772 NR (Composition File)', 'Accession', 'Sample Name', 'Batch ID', 'Run Date'], points='all',\n",
    "    labels={'Log10 T7 + PR772 NR (Composition File)': 'log<sub>10</sub>(T7 + PR772) NR',\n",
    "            'T7 + PR772 NR (Composition File)': 'T7 + PR772 NR'})\n",
    "fig.update_layout(font=dict(size=18), height=600)\n",
    "fig.show()\n",
    "# fig.write_html('plots/Diluted_Hi_IC_vs_Low_IC.html')"
   ]
  },
  {
   "cell_type": "code",
   "execution_count": 80,
   "metadata": {},
   "outputs": [
    {
     "data": {
      "text/html": [
       "<div>\n",
       "<style scoped>\n",
       "    .dataframe tbody tr th:only-of-type {\n",
       "        vertical-align: middle;\n",
       "    }\n",
       "\n",
       "    .dataframe tbody tr th {\n",
       "        vertical-align: top;\n",
       "    }\n",
       "\n",
       "    .dataframe thead th {\n",
       "        text-align: right;\n",
       "    }\n",
       "</style>\n",
       "<table border=\"1\" class=\"dataframe\">\n",
       "  <thead>\n",
       "    <tr style=\"text-align: right;\">\n",
       "      <th></th>\n",
       "      <th>Accession</th>\n",
       "      <th>Bacteria</th>\n",
       "      <th>Batch ID</th>\n",
       "      <th>Composition File</th>\n",
       "      <th>Fungus</th>\n",
       "      <th>Human</th>\n",
       "      <th>IC</th>\n",
       "      <th>Library Type</th>\n",
       "      <th>Log10 T7 + PR772 NR</th>\n",
       "      <th>Log10 T7 + PR772 NR (Composition File)</th>\n",
       "      <th>...</th>\n",
       "      <th>T7 + PR772 NR</th>\n",
       "      <th>T7 + PR772 NR (Composition File)</th>\n",
       "      <th>T7 Normalized (Composition File)</th>\n",
       "      <th>T7 Normalized Reads</th>\n",
       "      <th>T7 Raw Reads</th>\n",
       "      <th>T7 Raw Reads (Composition File)</th>\n",
       "      <th>Total Reads</th>\n",
       "      <th>Total Reads (Composition File)</th>\n",
       "      <th>Unclassified</th>\n",
       "      <th>Virus</th>\n",
       "    </tr>\n",
       "  </thead>\n",
       "  <tbody>\n",
       "    <tr>\n",
       "      <th>25</th>\n",
       "      <td>controlneg</td>\n",
       "      <td>34.146415</td>\n",
       "      <td>191210B02</td>\n",
       "      <td>191211-1-1-RespNegCon01-d-09-AHVYMFAFXY-ACACAG...</td>\n",
       "      <td>0.100799</td>\n",
       "      <td>1.573661</td>\n",
       "      <td>Low IC</td>\n",
       "      <td>NaN</td>\n",
       "      <td>NaN</td>\n",
       "      <td>4.910073</td>\n",
       "      <td>...</td>\n",
       "      <td>NaN</td>\n",
       "      <td>81296.709281</td>\n",
       "      <td>81159.047873</td>\n",
       "      <td>NaN</td>\n",
       "      <td>NaN</td>\n",
       "      <td>21224</td>\n",
       "      <td>NaN</td>\n",
       "      <td>NaN</td>\n",
       "      <td>62.813562</td>\n",
       "      <td>1.243541</td>\n",
       "    </tr>\n",
       "    <tr>\n",
       "      <th>33</th>\n",
       "      <td>IDBD-D101029</td>\n",
       "      <td>33.249419</td>\n",
       "      <td>191210B02</td>\n",
       "      <td>191211-1-1-IDBD-D101029-d-02-AHVYMFAFXY-ACCGTT...</td>\n",
       "      <td>0.061435</td>\n",
       "      <td>0.041147</td>\n",
       "      <td>Low IC</td>\n",
       "      <td>DNA</td>\n",
       "      <td>3.901131</td>\n",
       "      <td>3.779918</td>\n",
       "      <td>...</td>\n",
       "      <td>7963.995103</td>\n",
       "      <td>6024.460948</td>\n",
       "      <td>6009.579612</td>\n",
       "      <td>7949.113767</td>\n",
       "      <td>3205.0</td>\n",
       "      <td>2423</td>\n",
       "      <td>4031896.0</td>\n",
       "      <td>4031896.0</td>\n",
       "      <td>66.498689</td>\n",
       "      <td>0.077209</td>\n",
       "    </tr>\n",
       "    <tr>\n",
       "      <th>34</th>\n",
       "      <td>IDBD-D101030</td>\n",
       "      <td>33.417406</td>\n",
       "      <td>191210B02</td>\n",
       "      <td>191211-1-1-IDBD-D101030-d-03-AHVYMFAFXY-TATGCC...</td>\n",
       "      <td>0.068087</td>\n",
       "      <td>0.060323</td>\n",
       "      <td>Low IC</td>\n",
       "      <td>DNA</td>\n",
       "      <td>3.874017</td>\n",
       "      <td>3.753969</td>\n",
       "      <td>...</td>\n",
       "      <td>7481.993233</td>\n",
       "      <td>5675.047209</td>\n",
       "      <td>5675.047209</td>\n",
       "      <td>7481.993233</td>\n",
       "      <td>2178.0</td>\n",
       "      <td>1652</td>\n",
       "      <td>2910989.0</td>\n",
       "      <td>2910989.0</td>\n",
       "      <td>66.308358</td>\n",
       "      <td>0.073480</td>\n",
       "    </tr>\n",
       "    <tr>\n",
       "      <th>35</th>\n",
       "      <td>IDBD-D101031</td>\n",
       "      <td>33.491377</td>\n",
       "      <td>191210B02</td>\n",
       "      <td>191211-1-1-IDBD-D101031-d-04-AHVYMFAFXY-ACAAGT...</td>\n",
       "      <td>0.059808</td>\n",
       "      <td>0.050722</td>\n",
       "      <td>Low IC</td>\n",
       "      <td>DNA</td>\n",
       "      <td>3.862012</td>\n",
       "      <td>3.732711</td>\n",
       "      <td>...</td>\n",
       "      <td>7277.998625</td>\n",
       "      <td>5403.951341</td>\n",
       "      <td>5400.962429</td>\n",
       "      <td>7277.998625</td>\n",
       "      <td>2435.0</td>\n",
       "      <td>1807</td>\n",
       "      <td>3345700.0</td>\n",
       "      <td>3345700.0</td>\n",
       "      <td>66.250800</td>\n",
       "      <td>0.071196</td>\n",
       "    </tr>\n",
       "    <tr>\n",
       "      <th>36</th>\n",
       "      <td>IDBD-D101032</td>\n",
       "      <td>33.475486</td>\n",
       "      <td>191210B02</td>\n",
       "      <td>191211-1-1-IDBD-D101032-d-05-AHVYMFAFXY-TGGTAC...</td>\n",
       "      <td>0.058715</td>\n",
       "      <td>0.102396</td>\n",
       "      <td>Low IC</td>\n",
       "      <td>DNA</td>\n",
       "      <td>3.862295</td>\n",
       "      <td>3.733888</td>\n",
       "      <td>...</td>\n",
       "      <td>7282.745895</td>\n",
       "      <td>5418.615710</td>\n",
       "      <td>5410.716853</td>\n",
       "      <td>7274.847039</td>\n",
       "      <td>2763.0</td>\n",
       "      <td>2055</td>\n",
       "      <td>3798018.0</td>\n",
       "      <td>3798018.0</td>\n",
       "      <td>66.216063</td>\n",
       "      <td>0.071643</td>\n",
       "    </tr>\n",
       "    <tr>\n",
       "      <th>26</th>\n",
       "      <td>controlneg</td>\n",
       "      <td>59.803104</td>\n",
       "      <td>191211B02</td>\n",
       "      <td>191212-2-1-RespNegCon01-d-09-AHW3MKAFXY-ATGGTT...</td>\n",
       "      <td>0.273989</td>\n",
       "      <td>4.550462</td>\n",
       "      <td>Low IC</td>\n",
       "      <td>NaN</td>\n",
       "      <td>NaN</td>\n",
       "      <td>4.617628</td>\n",
       "      <td>...</td>\n",
       "      <td>NaN</td>\n",
       "      <td>41459.849371</td>\n",
       "      <td>41452.620103</td>\n",
       "      <td>NaN</td>\n",
       "      <td>NaN</td>\n",
       "      <td>5734</td>\n",
       "      <td>NaN</td>\n",
       "      <td>NaN</td>\n",
       "      <td>34.647638</td>\n",
       "      <td>0.607981</td>\n",
       "    </tr>\n",
       "    <tr>\n",
       "      <th>38</th>\n",
       "      <td>IDBD-D101074</td>\n",
       "      <td>34.955622</td>\n",
       "      <td>191211B02</td>\n",
       "      <td>191212-2-1-IDBD-D101074-d-03-AHW3MKAFXY-TAAGCA...</td>\n",
       "      <td>0.080074</td>\n",
       "      <td>2.173085</td>\n",
       "      <td>Low IC</td>\n",
       "      <td>DNA</td>\n",
       "      <td>3.932878</td>\n",
       "      <td>3.822968</td>\n",
       "      <td>...</td>\n",
       "      <td>8567.978314</td>\n",
       "      <td>6652.236668</td>\n",
       "      <td>6636.218762</td>\n",
       "      <td>8553.562198</td>\n",
       "      <td>5340.0</td>\n",
       "      <td>4143</td>\n",
       "      <td>6243013.0</td>\n",
       "      <td>6243013.0</td>\n",
       "      <td>62.621478</td>\n",
       "      <td>0.084543</td>\n",
       "    </tr>\n",
       "    <tr>\n",
       "      <th>39</th>\n",
       "      <td>IDBD-D101075</td>\n",
       "      <td>42.092449</td>\n",
       "      <td>191211B02</td>\n",
       "      <td>191212-2-1-IDBD-D101075-d-04-AHW3MKAFXY-ACCACG...</td>\n",
       "      <td>0.078577</td>\n",
       "      <td>0.338251</td>\n",
       "      <td>Low IC</td>\n",
       "      <td>DNA</td>\n",
       "      <td>3.802342</td>\n",
       "      <td>3.685078</td>\n",
       "      <td>...</td>\n",
       "      <td>6343.684233</td>\n",
       "      <td>4842.589013</td>\n",
       "      <td>4840.441524</td>\n",
       "      <td>6343.684233</td>\n",
       "      <td>2954.0</td>\n",
       "      <td>2254</td>\n",
       "      <td>4656600.0</td>\n",
       "      <td>4656600.0</td>\n",
       "      <td>57.349869</td>\n",
       "      <td>0.064554</td>\n",
       "    </tr>\n",
       "    <tr>\n",
       "      <th>40</th>\n",
       "      <td>IDBD-D101076</td>\n",
       "      <td>39.272358</td>\n",
       "      <td>191211B02</td>\n",
       "      <td>191212-2-1-IDBD-D101076-d-05-AHW3MKAFXY-GCCGCA...</td>\n",
       "      <td>0.179225</td>\n",
       "      <td>0.701976</td>\n",
       "      <td>Low IC</td>\n",
       "      <td>DNA</td>\n",
       "      <td>3.854082</td>\n",
       "      <td>3.755276</td>\n",
       "      <td>...</td>\n",
       "      <td>7146.309422</td>\n",
       "      <td>5692.139847</td>\n",
       "      <td>5675.656817</td>\n",
       "      <td>7129.826392</td>\n",
       "      <td>3893.0</td>\n",
       "      <td>3099</td>\n",
       "      <td>5460161.0</td>\n",
       "      <td>5460161.0</td>\n",
       "      <td>59.658094</td>\n",
       "      <td>0.086518</td>\n",
       "    </tr>\n",
       "    <tr>\n",
       "      <th>41</th>\n",
       "      <td>IDBD-D101077</td>\n",
       "      <td>36.180811</td>\n",
       "      <td>191211B02</td>\n",
       "      <td>191212-2-1-IDBD-D101077-d-06-AHW3MKAFXY-CCACCA...</td>\n",
       "      <td>0.081385</td>\n",
       "      <td>0.061952</td>\n",
       "      <td>Low IC</td>\n",
       "      <td>DNA</td>\n",
       "      <td>4.004766</td>\n",
       "      <td>3.894947</td>\n",
       "      <td>...</td>\n",
       "      <td>10110.339013</td>\n",
       "      <td>7851.406422</td>\n",
       "      <td>7830.365134</td>\n",
       "      <td>10089.297724</td>\n",
       "      <td>6713.0</td>\n",
       "      <td>5210</td>\n",
       "      <td>6653585.0</td>\n",
       "      <td>6653585.0</td>\n",
       "      <td>63.499151</td>\n",
       "      <td>0.099495</td>\n",
       "    </tr>\n",
       "    <tr>\n",
       "      <th>27</th>\n",
       "      <td>controlneg</td>\n",
       "      <td>34.539725</td>\n",
       "      <td>191220B01</td>\n",
       "      <td>191220-1-1-RespNegCon01-d-03-AHWYVLAFXY-TCAGAA...</td>\n",
       "      <td>0.064601</td>\n",
       "      <td>0.162711</td>\n",
       "      <td>Low IC</td>\n",
       "      <td>NaN</td>\n",
       "      <td>NaN</td>\n",
       "      <td>3.719079</td>\n",
       "      <td>...</td>\n",
       "      <td>NaN</td>\n",
       "      <td>5236.962858</td>\n",
       "      <td>5231.783729</td>\n",
       "      <td>NaN</td>\n",
       "      <td>NaN</td>\n",
       "      <td>6061</td>\n",
       "      <td>NaN</td>\n",
       "      <td>NaN</td>\n",
       "      <td>65.089130</td>\n",
       "      <td>0.068390</td>\n",
       "    </tr>\n",
       "    <tr>\n",
       "      <th>28</th>\n",
       "      <td>controlneg</td>\n",
       "      <td>35.527907</td>\n",
       "      <td>191223B01</td>\n",
       "      <td>191223-1-1-RespNegCon01-d-03-AHY27JAFXY-TTCTAC...</td>\n",
       "      <td>0.065864</td>\n",
       "      <td>0.048668</td>\n",
       "      <td>Low IC</td>\n",
       "      <td>NaN</td>\n",
       "      <td>NaN</td>\n",
       "      <td>3.801769</td>\n",
       "      <td>...</td>\n",
       "      <td>NaN</td>\n",
       "      <td>6335.327852</td>\n",
       "      <td>6326.801165</td>\n",
       "      <td>NaN</td>\n",
       "      <td>NaN</td>\n",
       "      <td>6678</td>\n",
       "      <td>NaN</td>\n",
       "      <td>NaN</td>\n",
       "      <td>64.154389</td>\n",
       "      <td>0.080767</td>\n",
       "    </tr>\n",
       "    <tr>\n",
       "      <th>29</th>\n",
       "      <td>controlneg</td>\n",
       "      <td>35.553186</td>\n",
       "      <td>191223B04</td>\n",
       "      <td>191225-1-1-RespNegCon01-d-04-AHWYKYAFXY-TATGTA...</td>\n",
       "      <td>0.066831</td>\n",
       "      <td>0.982019</td>\n",
       "      <td>Low IC</td>\n",
       "      <td>NaN</td>\n",
       "      <td>NaN</td>\n",
       "      <td>3.810478</td>\n",
       "      <td>...</td>\n",
       "      <td>NaN</td>\n",
       "      <td>6463.652569</td>\n",
       "      <td>6450.354827</td>\n",
       "      <td>NaN</td>\n",
       "      <td>NaN</td>\n",
       "      <td>6791</td>\n",
       "      <td>NaN</td>\n",
       "      <td>NaN</td>\n",
       "      <td>63.153258</td>\n",
       "      <td>0.082636</td>\n",
       "    </tr>\n",
       "    <tr>\n",
       "      <th>30</th>\n",
       "      <td>controlneg</td>\n",
       "      <td>36.413247</td>\n",
       "      <td>200114B02</td>\n",
       "      <td>200117-1-1-RespNegCon01-d-03-AH2L7FAFX2-TGGTAC...</td>\n",
       "      <td>0.216456</td>\n",
       "      <td>1.066987</td>\n",
       "      <td>Low IC</td>\n",
       "      <td>NaN</td>\n",
       "      <td>NaN</td>\n",
       "      <td>3.889332</td>\n",
       "      <td>...</td>\n",
       "      <td>NaN</td>\n",
       "      <td>7750.543808</td>\n",
       "      <td>7692.565473</td>\n",
       "      <td>NaN</td>\n",
       "      <td>NaN</td>\n",
       "      <td>6634</td>\n",
       "      <td>NaN</td>\n",
       "      <td>NaN</td>\n",
       "      <td>62.116921</td>\n",
       "      <td>0.098934</td>\n",
       "    </tr>\n",
       "    <tr>\n",
       "      <th>32</th>\n",
       "      <td>controlneg</td>\n",
       "      <td>35.615514</td>\n",
       "      <td>200116B03</td>\n",
       "      <td>200118-2-1-RespNegCon01-d-02-AH2L7YAFX2-GTCCTG...</td>\n",
       "      <td>0.062456</td>\n",
       "      <td>0.032552</td>\n",
       "      <td>Low IC</td>\n",
       "      <td>NaN</td>\n",
       "      <td>NaN</td>\n",
       "      <td>3.835527</td>\n",
       "      <td>...</td>\n",
       "      <td>NaN</td>\n",
       "      <td>6847.422829</td>\n",
       "      <td>6824.277132</td>\n",
       "      <td>NaN</td>\n",
       "      <td>NaN</td>\n",
       "      <td>7371</td>\n",
       "      <td>NaN</td>\n",
       "      <td>NaN</td>\n",
       "      <td>64.127244</td>\n",
       "      <td>0.086991</td>\n",
       "    </tr>\n",
       "    <tr>\n",
       "      <th>31</th>\n",
       "      <td>controlneg</td>\n",
       "      <td>35.353107</td>\n",
       "      <td>200117B01</td>\n",
       "      <td>200117-2-1-RespNegCon01-d-05-AH2L3HAFX2-GACGAG...</td>\n",
       "      <td>0.065103</td>\n",
       "      <td>0.214269</td>\n",
       "      <td>Low IC</td>\n",
       "      <td>NaN</td>\n",
       "      <td>NaN</td>\n",
       "      <td>3.860716</td>\n",
       "      <td>...</td>\n",
       "      <td>NaN</td>\n",
       "      <td>7256.320680</td>\n",
       "      <td>7233.678194</td>\n",
       "      <td>NaN</td>\n",
       "      <td>NaN</td>\n",
       "      <td>6070</td>\n",
       "      <td>NaN</td>\n",
       "      <td>NaN</td>\n",
       "      <td>64.196630</td>\n",
       "      <td>0.092655</td>\n",
       "    </tr>\n",
       "    <tr>\n",
       "      <th>0</th>\n",
       "      <td>IDBD-D101325</td>\n",
       "      <td>35.288076</td>\n",
       "      <td>200119B01</td>\n",
       "      <td>200119-1-1-IDBD-D101325-d-01-AH2N2NAFX2-AGTGTT...</td>\n",
       "      <td>0.075726</td>\n",
       "      <td>0.042279</td>\n",
       "      <td>Diluted Hi IC</td>\n",
       "      <td>DNA</td>\n",
       "      <td>3.724874</td>\n",
       "      <td>3.611413</td>\n",
       "      <td>...</td>\n",
       "      <td>5307.304949</td>\n",
       "      <td>4087.081681</td>\n",
       "      <td>4077.563559</td>\n",
       "      <td>5297.786827</td>\n",
       "      <td>2783.0</td>\n",
       "      <td>2142</td>\n",
       "      <td>5253137.0</td>\n",
       "      <td>5253137.0</td>\n",
       "      <td>64.464053</td>\n",
       "      <td>0.053168</td>\n",
       "    </tr>\n",
       "    <tr>\n",
       "      <th>1</th>\n",
       "      <td>IDBD-D101326</td>\n",
       "      <td>35.642558</td>\n",
       "      <td>200119B01</td>\n",
       "      <td>200119-1-1-IDBD-D101326-d-02-AH2N2NAFX2-GACACC...</td>\n",
       "      <td>0.074650</td>\n",
       "      <td>0.032367</td>\n",
       "      <td>Diluted Hi IC</td>\n",
       "      <td>DNA</td>\n",
       "      <td>3.719708</td>\n",
       "      <td>3.609529</td>\n",
       "      <td>...</td>\n",
       "      <td>5244.541581</td>\n",
       "      <td>4069.388217</td>\n",
       "      <td>4060.434668</td>\n",
       "      <td>5235.588031</td>\n",
       "      <td>2339.0</td>\n",
       "      <td>1814</td>\n",
       "      <td>4467502.0</td>\n",
       "      <td>4467502.0</td>\n",
       "      <td>64.121829</td>\n",
       "      <td>0.052893</td>\n",
       "    </tr>\n",
       "    <tr>\n",
       "      <th>2</th>\n",
       "      <td>IDBD-D101327</td>\n",
       "      <td>34.875307</td>\n",
       "      <td>200119B01</td>\n",
       "      <td>200119-1-1-IDBD-D101327-d-03-AH2N2NAFX2-CCTGTC...</td>\n",
       "      <td>0.077587</td>\n",
       "      <td>0.036175</td>\n",
       "      <td>Diluted Hi IC</td>\n",
       "      <td>DNA</td>\n",
       "      <td>3.773309</td>\n",
       "      <td>3.656001</td>\n",
       "      <td>...</td>\n",
       "      <td>5933.477566</td>\n",
       "      <td>4528.987492</td>\n",
       "      <td>4520.223123</td>\n",
       "      <td>5924.713197</td>\n",
       "      <td>2704.0</td>\n",
       "      <td>2063</td>\n",
       "      <td>4563934.0</td>\n",
       "      <td>4563934.0</td>\n",
       "      <td>64.878370</td>\n",
       "      <td>0.059225</td>\n",
       "    </tr>\n",
       "    <tr>\n",
       "      <th>3</th>\n",
       "      <td>IDBD-D101328</td>\n",
       "      <td>35.534313</td>\n",
       "      <td>200119B01</td>\n",
       "      <td>200119-1-1-IDBD-D101328-d-04-AH2N2NAFX2-TGATGT...</td>\n",
       "      <td>0.068446</td>\n",
       "      <td>0.025185</td>\n",
       "      <td>Diluted Hi IC</td>\n",
       "      <td>DNA</td>\n",
       "      <td>3.712315</td>\n",
       "      <td>3.595107</td>\n",
       "      <td>...</td>\n",
       "      <td>5156.023843</td>\n",
       "      <td>3936.474467</td>\n",
       "      <td>3927.454131</td>\n",
       "      <td>5147.003508</td>\n",
       "      <td>2853.0</td>\n",
       "      <td>2177</td>\n",
       "      <td>5543031.0</td>\n",
       "      <td>5543031.0</td>\n",
       "      <td>64.242451</td>\n",
       "      <td>0.051578</td>\n",
       "    </tr>\n",
       "    <tr>\n",
       "      <th>4</th>\n",
       "      <td>IDBD-D101329</td>\n",
       "      <td>35.389350</td>\n",
       "      <td>200119B01</td>\n",
       "      <td>200119-1-1-IDBD-D101329-d-05-AH2N2NAFX2-GGAATT...</td>\n",
       "      <td>0.072331</td>\n",
       "      <td>0.097110</td>\n",
       "      <td>Diluted Hi IC</td>\n",
       "      <td>DNA</td>\n",
       "      <td>3.741233</td>\n",
       "      <td>3.626015</td>\n",
       "      <td>...</td>\n",
       "      <td>5511.030010</td>\n",
       "      <td>4226.835267</td>\n",
       "      <td>4219.497011</td>\n",
       "      <td>5503.691754</td>\n",
       "      <td>2250.0</td>\n",
       "      <td>1725</td>\n",
       "      <td>4088165.0</td>\n",
       "      <td>4088165.0</td>\n",
       "      <td>64.311543</td>\n",
       "      <td>0.055159</td>\n",
       "    </tr>\n",
       "    <tr>\n",
       "      <th>5</th>\n",
       "      <td>IDBD-D101330</td>\n",
       "      <td>34.588877</td>\n",
       "      <td>200119B01</td>\n",
       "      <td>200119-1-1-IDBD-D101330-d-06-AH2N2NAFX2-GCATAA...</td>\n",
       "      <td>0.063984</td>\n",
       "      <td>0.027104</td>\n",
       "      <td>Diluted Hi IC</td>\n",
       "      <td>DNA</td>\n",
       "      <td>3.891994</td>\n",
       "      <td>3.782850</td>\n",
       "      <td>...</td>\n",
       "      <td>7798.196243</td>\n",
       "      <td>6065.263745</td>\n",
       "      <td>6057.332704</td>\n",
       "      <td>7790.265202</td>\n",
       "      <td>3929.0</td>\n",
       "      <td>3055</td>\n",
       "      <td>5043474.0</td>\n",
       "      <td>5043474.0</td>\n",
       "      <td>65.168374</td>\n",
       "      <td>0.077248</td>\n",
       "    </tr>\n",
       "    <tr>\n",
       "      <th>6</th>\n",
       "      <td>IDBD-D101331</td>\n",
       "      <td>35.575502</td>\n",
       "      <td>200119B01</td>\n",
       "      <td>200119-1-1-IDBD-D101331-d-07-AH2N2NAFX2-CTGAGG...</td>\n",
       "      <td>0.093645</td>\n",
       "      <td>0.068895</td>\n",
       "      <td>Diluted Hi IC</td>\n",
       "      <td>DNA</td>\n",
       "      <td>3.923564</td>\n",
       "      <td>3.811952</td>\n",
       "      <td>...</td>\n",
       "      <td>8386.185234</td>\n",
       "      <td>6485.633339</td>\n",
       "      <td>6466.195877</td>\n",
       "      <td>8366.747771</td>\n",
       "      <td>3874.0</td>\n",
       "      <td>2994</td>\n",
       "      <td>4630234.0</td>\n",
       "      <td>4630234.0</td>\n",
       "      <td>64.101188</td>\n",
       "      <td>0.082350</td>\n",
       "    </tr>\n",
       "    <tr>\n",
       "      <th>7</th>\n",
       "      <td>IDBD-D101332</td>\n",
       "      <td>35.275273</td>\n",
       "      <td>200119B01</td>\n",
       "      <td>200119-1-1-IDBD-D101332-d-08-AH2N2NAFX2-AACGCA...</td>\n",
       "      <td>0.067460</td>\n",
       "      <td>0.098186</td>\n",
       "      <td>Diluted Hi IC</td>\n",
       "      <td>DNA</td>\n",
       "      <td>3.848318</td>\n",
       "      <td>3.734573</td>\n",
       "      <td>...</td>\n",
       "      <td>7052.085544</td>\n",
       "      <td>5427.159828</td>\n",
       "      <td>5406.445477</td>\n",
       "      <td>7031.371193</td>\n",
       "      <td>3055.0</td>\n",
       "      <td>2349</td>\n",
       "      <td>4344814.0</td>\n",
       "      <td>4344814.0</td>\n",
       "      <td>64.415255</td>\n",
       "      <td>0.069692</td>\n",
       "    </tr>\n",
       "    <tr>\n",
       "      <th>8</th>\n",
       "      <td>controlNeg</td>\n",
       "      <td>35.819577</td>\n",
       "      <td>200119B01</td>\n",
       "      <td>200119-1-1-RespNegCon01-d-09-AH2N2NAFX2-TAATGT...</td>\n",
       "      <td>0.072852</td>\n",
       "      <td>0.065560</td>\n",
       "      <td>Diluted Hi IC</td>\n",
       "      <td>DNA</td>\n",
       "      <td>3.875617</td>\n",
       "      <td>3.773967</td>\n",
       "      <td>...</td>\n",
       "      <td>7509.602615</td>\n",
       "      <td>5942.472658</td>\n",
       "      <td>5928.449123</td>\n",
       "      <td>7495.579081</td>\n",
       "      <td>2138.0</td>\n",
       "      <td>1691</td>\n",
       "      <td>2852348.0</td>\n",
       "      <td>2852348.0</td>\n",
       "      <td>63.889820</td>\n",
       "      <td>0.075937</td>\n",
       "    </tr>\n",
       "    <tr>\n",
       "      <th>9</th>\n",
       "      <td>IDBD-D101333</td>\n",
       "      <td>35.768642</td>\n",
       "      <td>200119B02</td>\n",
       "      <td>200119-1-1-IDBD-D101333-d-01-AH2N2NAFX2-TCTATC...</td>\n",
       "      <td>0.077939</td>\n",
       "      <td>0.108885</td>\n",
       "      <td>Diluted Hi IC</td>\n",
       "      <td>DNA</td>\n",
       "      <td>3.882231</td>\n",
       "      <td>3.758433</td>\n",
       "      <td>...</td>\n",
       "      <td>7624.847202</td>\n",
       "      <td>5733.678787</td>\n",
       "      <td>5722.217160</td>\n",
       "      <td>7613.385575</td>\n",
       "      <td>2657.0</td>\n",
       "      <td>1997</td>\n",
       "      <td>3489906.0</td>\n",
       "      <td>3489906.0</td>\n",
       "      <td>63.894787</td>\n",
       "      <td>0.074501</td>\n",
       "    </tr>\n",
       "    <tr>\n",
       "      <th>10</th>\n",
       "      <td>IDBD-D101334</td>\n",
       "      <td>35.278168</td>\n",
       "      <td>200119B02</td>\n",
       "      <td>200119-1-1-IDBD-D101334-d-02-AH2N2NAFX2-CTCGCT...</td>\n",
       "      <td>0.085679</td>\n",
       "      <td>0.055336</td>\n",
       "      <td>Diluted Hi IC</td>\n",
       "      <td>DNA</td>\n",
       "      <td>3.874217</td>\n",
       "      <td>3.751455</td>\n",
       "      <td>...</td>\n",
       "      <td>7485.438190</td>\n",
       "      <td>5642.290093</td>\n",
       "      <td>5629.751670</td>\n",
       "      <td>7472.899767</td>\n",
       "      <td>3576.0</td>\n",
       "      <td>2694</td>\n",
       "      <td>4785291.0</td>\n",
       "      <td>4785291.0</td>\n",
       "      <td>64.433135</td>\n",
       "      <td>0.073517</td>\n",
       "    </tr>\n",
       "    <tr>\n",
       "      <th>11</th>\n",
       "      <td>IDBD-D101335</td>\n",
       "      <td>35.201991</td>\n",
       "      <td>200119B02</td>\n",
       "      <td>200119-1-1-IDBD-D101335-d-03-AH2N2NAFX2-CTGTTG...</td>\n",
       "      <td>0.091709</td>\n",
       "      <td>0.259029</td>\n",
       "      <td>Diluted Hi IC</td>\n",
       "      <td>DNA</td>\n",
       "      <td>3.916804</td>\n",
       "      <td>3.804377</td>\n",
       "      <td>...</td>\n",
       "      <td>8256.652182</td>\n",
       "      <td>6373.479327</td>\n",
       "      <td>6353.794593</td>\n",
       "      <td>8236.967449</td>\n",
       "      <td>3766.0</td>\n",
       "      <td>2905</td>\n",
       "      <td>4572071.0</td>\n",
       "      <td>4572071.0</td>\n",
       "      <td>64.290253</td>\n",
       "      <td>0.081101</td>\n",
       "    </tr>\n",
       "    <tr>\n",
       "      <th>12</th>\n",
       "      <td>IDBD-D101336</td>\n",
       "      <td>35.663136</td>\n",
       "      <td>200119B02</td>\n",
       "      <td>200119-1-1-IDBD-D101336-d-04-AH2N2NAFX2-TTACCT...</td>\n",
       "      <td>0.064474</td>\n",
       "      <td>0.107059</td>\n",
       "      <td>Diluted Hi IC</td>\n",
       "      <td>DNA</td>\n",
       "      <td>3.853180</td>\n",
       "      <td>3.736797</td>\n",
       "      <td>...</td>\n",
       "      <td>7131.493535</td>\n",
       "      <td>5455.027942</td>\n",
       "      <td>5446.341592</td>\n",
       "      <td>7122.807185</td>\n",
       "      <td>3280.0</td>\n",
       "      <td>2508</td>\n",
       "      <td>4604926.0</td>\n",
       "      <td>4604926.0</td>\n",
       "      <td>64.020008</td>\n",
       "      <td>0.069730</td>\n",
       "    </tr>\n",
       "    <tr>\n",
       "      <th>13</th>\n",
       "      <td>IDBD-D101337</td>\n",
       "      <td>35.529044</td>\n",
       "      <td>200119B02</td>\n",
       "      <td>200119-1-1-IDBD-D101337-d-05-AH2N2NAFX2-TGGCTA...</td>\n",
       "      <td>0.068663</td>\n",
       "      <td>0.076258</td>\n",
       "      <td>Diluted Hi IC</td>\n",
       "      <td>DNA</td>\n",
       "      <td>3.876179</td>\n",
       "      <td>3.762810</td>\n",
       "      <td>...</td>\n",
       "      <td>7519.322830</td>\n",
       "      <td>5791.754357</td>\n",
       "      <td>5784.807031</td>\n",
       "      <td>7512.375504</td>\n",
       "      <td>3244.0</td>\n",
       "      <td>2498</td>\n",
       "      <td>4318208.0</td>\n",
       "      <td>4318208.0</td>\n",
       "      <td>64.175556</td>\n",
       "      <td>0.074938</td>\n",
       "    </tr>\n",
       "    <tr>\n",
       "      <th>14</th>\n",
       "      <td>IDBD-D101338</td>\n",
       "      <td>35.330859</td>\n",
       "      <td>200119B02</td>\n",
       "      <td>200119-1-1-IDBD-D101338-d-06-AH2N2NAFX2-AACACT...</td>\n",
       "      <td>0.074487</td>\n",
       "      <td>0.062575</td>\n",
       "      <td>Diluted Hi IC</td>\n",
       "      <td>DNA</td>\n",
       "      <td>3.924195</td>\n",
       "      <td>3.813333</td>\n",
       "      <td>...</td>\n",
       "      <td>8398.372280</td>\n",
       "      <td>6506.286700</td>\n",
       "      <td>6491.934597</td>\n",
       "      <td>8384.020177</td>\n",
       "      <td>3505.0</td>\n",
       "      <td>2714</td>\n",
       "      <td>4180572.0</td>\n",
       "      <td>4180572.0</td>\n",
       "      <td>64.372387</td>\n",
       "      <td>0.083625</td>\n",
       "    </tr>\n",
       "    <tr>\n",
       "      <th>15</th>\n",
       "      <td>IDBD-D101339</td>\n",
       "      <td>34.910192</td>\n",
       "      <td>200119B02</td>\n",
       "      <td>200119-1-1-IDBD-D101339-d-07-AH2N2NAFX2-ATTGCG...</td>\n",
       "      <td>0.065484</td>\n",
       "      <td>0.070490</td>\n",
       "      <td>Diluted Hi IC</td>\n",
       "      <td>DNA</td>\n",
       "      <td>3.946755</td>\n",
       "      <td>3.843930</td>\n",
       "      <td>...</td>\n",
       "      <td>8846.168422</td>\n",
       "      <td>6981.192667</td>\n",
       "      <td>6975.208788</td>\n",
       "      <td>8840.184543</td>\n",
       "      <td>4432.0</td>\n",
       "      <td>3497</td>\n",
       "      <td>5013470.0</td>\n",
       "      <td>5013470.0</td>\n",
       "      <td>64.791292</td>\n",
       "      <td>0.088182</td>\n",
       "    </tr>\n",
       "    <tr>\n",
       "      <th>16</th>\n",
       "      <td>IDBD-D101340</td>\n",
       "      <td>35.727796</td>\n",
       "      <td>200119B02</td>\n",
       "      <td>200119-1-1-IDBD-D101340-d-08-AH2N2NAFX2-TGGCGC...</td>\n",
       "      <td>0.065508</td>\n",
       "      <td>0.035227</td>\n",
       "      <td>Diluted Hi IC</td>\n",
       "      <td>DNA</td>\n",
       "      <td>3.875765</td>\n",
       "      <td>3.768667</td>\n",
       "      <td>...</td>\n",
       "      <td>7512.157039</td>\n",
       "      <td>5870.396598</td>\n",
       "      <td>5868.074447</td>\n",
       "      <td>7512.157039</td>\n",
       "      <td>3235.0</td>\n",
       "      <td>2527</td>\n",
       "      <td>4306353.0</td>\n",
       "      <td>4306353.0</td>\n",
       "      <td>64.023548</td>\n",
       "      <td>0.074936</td>\n",
       "    </tr>\n",
       "    <tr>\n",
       "      <th>17</th>\n",
       "      <td>controlNeg</td>\n",
       "      <td>35.552349</td>\n",
       "      <td>200119B02</td>\n",
       "      <td>200119-1-1-RespNegCon01-d-09-AH2N2NAFX2-AGGATG...</td>\n",
       "      <td>0.069502</td>\n",
       "      <td>0.205403</td>\n",
       "      <td>Diluted Hi IC</td>\n",
       "      <td>DNA</td>\n",
       "      <td>3.886413</td>\n",
       "      <td>3.776590</td>\n",
       "      <td>...</td>\n",
       "      <td>7698.622428</td>\n",
       "      <td>5978.470544</td>\n",
       "      <td>5969.768258</td>\n",
       "      <td>7689.920142</td>\n",
       "      <td>2651.0</td>\n",
       "      <td>2058</td>\n",
       "      <td>3447370.0</td>\n",
       "      <td>3447370.0</td>\n",
       "      <td>64.022545</td>\n",
       "      <td>0.075420</td>\n",
       "    </tr>\n",
       "  </tbody>\n",
       "</table>\n",
       "<p>34 rows × 29 columns</p>\n",
       "</div>"
      ],
      "text/plain": [
       "       Accession   Bacteria   Batch ID  \\\n",
       "25    controlneg  34.146415  191210B02   \n",
       "33  IDBD-D101029  33.249419  191210B02   \n",
       "34  IDBD-D101030  33.417406  191210B02   \n",
       "35  IDBD-D101031  33.491377  191210B02   \n",
       "36  IDBD-D101032  33.475486  191210B02   \n",
       "26    controlneg  59.803104  191211B02   \n",
       "38  IDBD-D101074  34.955622  191211B02   \n",
       "39  IDBD-D101075  42.092449  191211B02   \n",
       "40  IDBD-D101076  39.272358  191211B02   \n",
       "41  IDBD-D101077  36.180811  191211B02   \n",
       "27    controlneg  34.539725  191220B01   \n",
       "28    controlneg  35.527907  191223B01   \n",
       "29    controlneg  35.553186  191223B04   \n",
       "30    controlneg  36.413247  200114B02   \n",
       "32    controlneg  35.615514  200116B03   \n",
       "31    controlneg  35.353107  200117B01   \n",
       "0   IDBD-D101325  35.288076  200119B01   \n",
       "1   IDBD-D101326  35.642558  200119B01   \n",
       "2   IDBD-D101327  34.875307  200119B01   \n",
       "3   IDBD-D101328  35.534313  200119B01   \n",
       "4   IDBD-D101329  35.389350  200119B01   \n",
       "5   IDBD-D101330  34.588877  200119B01   \n",
       "6   IDBD-D101331  35.575502  200119B01   \n",
       "7   IDBD-D101332  35.275273  200119B01   \n",
       "8     controlNeg  35.819577  200119B01   \n",
       "9   IDBD-D101333  35.768642  200119B02   \n",
       "10  IDBD-D101334  35.278168  200119B02   \n",
       "11  IDBD-D101335  35.201991  200119B02   \n",
       "12  IDBD-D101336  35.663136  200119B02   \n",
       "13  IDBD-D101337  35.529044  200119B02   \n",
       "14  IDBD-D101338  35.330859  200119B02   \n",
       "15  IDBD-D101339  34.910192  200119B02   \n",
       "16  IDBD-D101340  35.727796  200119B02   \n",
       "17    controlNeg  35.552349  200119B02   \n",
       "\n",
       "                                     Composition File    Fungus     Human  \\\n",
       "25  191211-1-1-RespNegCon01-d-09-AHVYMFAFXY-ACACAG...  0.100799  1.573661   \n",
       "33  191211-1-1-IDBD-D101029-d-02-AHVYMFAFXY-ACCGTT...  0.061435  0.041147   \n",
       "34  191211-1-1-IDBD-D101030-d-03-AHVYMFAFXY-TATGCC...  0.068087  0.060323   \n",
       "35  191211-1-1-IDBD-D101031-d-04-AHVYMFAFXY-ACAAGT...  0.059808  0.050722   \n",
       "36  191211-1-1-IDBD-D101032-d-05-AHVYMFAFXY-TGGTAC...  0.058715  0.102396   \n",
       "26  191212-2-1-RespNegCon01-d-09-AHW3MKAFXY-ATGGTT...  0.273989  4.550462   \n",
       "38  191212-2-1-IDBD-D101074-d-03-AHW3MKAFXY-TAAGCA...  0.080074  2.173085   \n",
       "39  191212-2-1-IDBD-D101075-d-04-AHW3MKAFXY-ACCACG...  0.078577  0.338251   \n",
       "40  191212-2-1-IDBD-D101076-d-05-AHW3MKAFXY-GCCGCA...  0.179225  0.701976   \n",
       "41  191212-2-1-IDBD-D101077-d-06-AHW3MKAFXY-CCACCA...  0.081385  0.061952   \n",
       "27  191220-1-1-RespNegCon01-d-03-AHWYVLAFXY-TCAGAA...  0.064601  0.162711   \n",
       "28  191223-1-1-RespNegCon01-d-03-AHY27JAFXY-TTCTAC...  0.065864  0.048668   \n",
       "29  191225-1-1-RespNegCon01-d-04-AHWYKYAFXY-TATGTA...  0.066831  0.982019   \n",
       "30  200117-1-1-RespNegCon01-d-03-AH2L7FAFX2-TGGTAC...  0.216456  1.066987   \n",
       "32  200118-2-1-RespNegCon01-d-02-AH2L7YAFX2-GTCCTG...  0.062456  0.032552   \n",
       "31  200117-2-1-RespNegCon01-d-05-AH2L3HAFX2-GACGAG...  0.065103  0.214269   \n",
       "0   200119-1-1-IDBD-D101325-d-01-AH2N2NAFX2-AGTGTT...  0.075726  0.042279   \n",
       "1   200119-1-1-IDBD-D101326-d-02-AH2N2NAFX2-GACACC...  0.074650  0.032367   \n",
       "2   200119-1-1-IDBD-D101327-d-03-AH2N2NAFX2-CCTGTC...  0.077587  0.036175   \n",
       "3   200119-1-1-IDBD-D101328-d-04-AH2N2NAFX2-TGATGT...  0.068446  0.025185   \n",
       "4   200119-1-1-IDBD-D101329-d-05-AH2N2NAFX2-GGAATT...  0.072331  0.097110   \n",
       "5   200119-1-1-IDBD-D101330-d-06-AH2N2NAFX2-GCATAA...  0.063984  0.027104   \n",
       "6   200119-1-1-IDBD-D101331-d-07-AH2N2NAFX2-CTGAGG...  0.093645  0.068895   \n",
       "7   200119-1-1-IDBD-D101332-d-08-AH2N2NAFX2-AACGCA...  0.067460  0.098186   \n",
       "8   200119-1-1-RespNegCon01-d-09-AH2N2NAFX2-TAATGT...  0.072852  0.065560   \n",
       "9   200119-1-1-IDBD-D101333-d-01-AH2N2NAFX2-TCTATC...  0.077939  0.108885   \n",
       "10  200119-1-1-IDBD-D101334-d-02-AH2N2NAFX2-CTCGCT...  0.085679  0.055336   \n",
       "11  200119-1-1-IDBD-D101335-d-03-AH2N2NAFX2-CTGTTG...  0.091709  0.259029   \n",
       "12  200119-1-1-IDBD-D101336-d-04-AH2N2NAFX2-TTACCT...  0.064474  0.107059   \n",
       "13  200119-1-1-IDBD-D101337-d-05-AH2N2NAFX2-TGGCTA...  0.068663  0.076258   \n",
       "14  200119-1-1-IDBD-D101338-d-06-AH2N2NAFX2-AACACT...  0.074487  0.062575   \n",
       "15  200119-1-1-IDBD-D101339-d-07-AH2N2NAFX2-ATTGCG...  0.065484  0.070490   \n",
       "16  200119-1-1-IDBD-D101340-d-08-AH2N2NAFX2-TGGCGC...  0.065508  0.035227   \n",
       "17  200119-1-1-RespNegCon01-d-09-AH2N2NAFX2-AGGATG...  0.069502  0.205403   \n",
       "\n",
       "               IC Library Type  Log10 T7 + PR772 NR  \\\n",
       "25         Low IC          NaN                  NaN   \n",
       "33         Low IC          DNA             3.901131   \n",
       "34         Low IC          DNA             3.874017   \n",
       "35         Low IC          DNA             3.862012   \n",
       "36         Low IC          DNA             3.862295   \n",
       "26         Low IC          NaN                  NaN   \n",
       "38         Low IC          DNA             3.932878   \n",
       "39         Low IC          DNA             3.802342   \n",
       "40         Low IC          DNA             3.854082   \n",
       "41         Low IC          DNA             4.004766   \n",
       "27         Low IC          NaN                  NaN   \n",
       "28         Low IC          NaN                  NaN   \n",
       "29         Low IC          NaN                  NaN   \n",
       "30         Low IC          NaN                  NaN   \n",
       "32         Low IC          NaN                  NaN   \n",
       "31         Low IC          NaN                  NaN   \n",
       "0   Diluted Hi IC          DNA             3.724874   \n",
       "1   Diluted Hi IC          DNA             3.719708   \n",
       "2   Diluted Hi IC          DNA             3.773309   \n",
       "3   Diluted Hi IC          DNA             3.712315   \n",
       "4   Diluted Hi IC          DNA             3.741233   \n",
       "5   Diluted Hi IC          DNA             3.891994   \n",
       "6   Diluted Hi IC          DNA             3.923564   \n",
       "7   Diluted Hi IC          DNA             3.848318   \n",
       "8   Diluted Hi IC          DNA             3.875617   \n",
       "9   Diluted Hi IC          DNA             3.882231   \n",
       "10  Diluted Hi IC          DNA             3.874217   \n",
       "11  Diluted Hi IC          DNA             3.916804   \n",
       "12  Diluted Hi IC          DNA             3.853180   \n",
       "13  Diluted Hi IC          DNA             3.876179   \n",
       "14  Diluted Hi IC          DNA             3.924195   \n",
       "15  Diluted Hi IC          DNA             3.946755   \n",
       "16  Diluted Hi IC          DNA             3.875765   \n",
       "17  Diluted Hi IC          DNA             3.886413   \n",
       "\n",
       "    Log10 T7 + PR772 NR (Composition File)  ...  T7 + PR772 NR  \\\n",
       "25                                4.910073  ...            NaN   \n",
       "33                                3.779918  ...    7963.995103   \n",
       "34                                3.753969  ...    7481.993233   \n",
       "35                                3.732711  ...    7277.998625   \n",
       "36                                3.733888  ...    7282.745895   \n",
       "26                                4.617628  ...            NaN   \n",
       "38                                3.822968  ...    8567.978314   \n",
       "39                                3.685078  ...    6343.684233   \n",
       "40                                3.755276  ...    7146.309422   \n",
       "41                                3.894947  ...   10110.339013   \n",
       "27                                3.719079  ...            NaN   \n",
       "28                                3.801769  ...            NaN   \n",
       "29                                3.810478  ...            NaN   \n",
       "30                                3.889332  ...            NaN   \n",
       "32                                3.835527  ...            NaN   \n",
       "31                                3.860716  ...            NaN   \n",
       "0                                 3.611413  ...    5307.304949   \n",
       "1                                 3.609529  ...    5244.541581   \n",
       "2                                 3.656001  ...    5933.477566   \n",
       "3                                 3.595107  ...    5156.023843   \n",
       "4                                 3.626015  ...    5511.030010   \n",
       "5                                 3.782850  ...    7798.196243   \n",
       "6                                 3.811952  ...    8386.185234   \n",
       "7                                 3.734573  ...    7052.085544   \n",
       "8                                 3.773967  ...    7509.602615   \n",
       "9                                 3.758433  ...    7624.847202   \n",
       "10                                3.751455  ...    7485.438190   \n",
       "11                                3.804377  ...    8256.652182   \n",
       "12                                3.736797  ...    7131.493535   \n",
       "13                                3.762810  ...    7519.322830   \n",
       "14                                3.813333  ...    8398.372280   \n",
       "15                                3.843930  ...    8846.168422   \n",
       "16                                3.768667  ...    7512.157039   \n",
       "17                                3.776590  ...    7698.622428   \n",
       "\n",
       "    T7 + PR772 NR (Composition File)  T7 Normalized (Composition File)  \\\n",
       "25                      81296.709281                      81159.047873   \n",
       "33                       6024.460948                       6009.579612   \n",
       "34                       5675.047209                       5675.047209   \n",
       "35                       5403.951341                       5400.962429   \n",
       "36                       5418.615710                       5410.716853   \n",
       "26                      41459.849371                      41452.620103   \n",
       "38                       6652.236668                       6636.218762   \n",
       "39                       4842.589013                       4840.441524   \n",
       "40                       5692.139847                       5675.656817   \n",
       "41                       7851.406422                       7830.365134   \n",
       "27                       5236.962858                       5231.783729   \n",
       "28                       6335.327852                       6326.801165   \n",
       "29                       6463.652569                       6450.354827   \n",
       "30                       7750.543808                       7692.565473   \n",
       "32                       6847.422829                       6824.277132   \n",
       "31                       7256.320680                       7233.678194   \n",
       "0                        4087.081681                       4077.563559   \n",
       "1                        4069.388217                       4060.434668   \n",
       "2                        4528.987492                       4520.223123   \n",
       "3                        3936.474467                       3927.454131   \n",
       "4                        4226.835267                       4219.497011   \n",
       "5                        6065.263745                       6057.332704   \n",
       "6                        6485.633339                       6466.195877   \n",
       "7                        5427.159828                       5406.445477   \n",
       "8                        5942.472658                       5928.449123   \n",
       "9                        5733.678787                       5722.217160   \n",
       "10                       5642.290093                       5629.751670   \n",
       "11                       6373.479327                       6353.794593   \n",
       "12                       5455.027942                       5446.341592   \n",
       "13                       5791.754357                       5784.807031   \n",
       "14                       6506.286700                       6491.934597   \n",
       "15                       6981.192667                       6975.208788   \n",
       "16                       5870.396598                       5868.074447   \n",
       "17                       5978.470544                       5969.768258   \n",
       "\n",
       "   T7 Normalized Reads T7 Raw Reads T7 Raw Reads (Composition File)  \\\n",
       "25                 NaN          NaN                           21224   \n",
       "33         7949.113767       3205.0                            2423   \n",
       "34         7481.993233       2178.0                            1652   \n",
       "35         7277.998625       2435.0                            1807   \n",
       "36         7274.847039       2763.0                            2055   \n",
       "26                 NaN          NaN                            5734   \n",
       "38         8553.562198       5340.0                            4143   \n",
       "39         6343.684233       2954.0                            2254   \n",
       "40         7129.826392       3893.0                            3099   \n",
       "41        10089.297724       6713.0                            5210   \n",
       "27                 NaN          NaN                            6061   \n",
       "28                 NaN          NaN                            6678   \n",
       "29                 NaN          NaN                            6791   \n",
       "30                 NaN          NaN                            6634   \n",
       "32                 NaN          NaN                            7371   \n",
       "31                 NaN          NaN                            6070   \n",
       "0          5297.786827       2783.0                            2142   \n",
       "1          5235.588031       2339.0                            1814   \n",
       "2          5924.713197       2704.0                            2063   \n",
       "3          5147.003508       2853.0                            2177   \n",
       "4          5503.691754       2250.0                            1725   \n",
       "5          7790.265202       3929.0                            3055   \n",
       "6          8366.747771       3874.0                            2994   \n",
       "7          7031.371193       3055.0                            2349   \n",
       "8          7495.579081       2138.0                            1691   \n",
       "9          7613.385575       2657.0                            1997   \n",
       "10         7472.899767       3576.0                            2694   \n",
       "11         8236.967449       3766.0                            2905   \n",
       "12         7122.807185       3280.0                            2508   \n",
       "13         7512.375504       3244.0                            2498   \n",
       "14         8384.020177       3505.0                            2714   \n",
       "15         8840.184543       4432.0                            3497   \n",
       "16         7512.157039       3235.0                            2527   \n",
       "17         7689.920142       2651.0                            2058   \n",
       "\n",
       "    Total Reads  Total Reads (Composition File)  Unclassified     Virus  \n",
       "25          NaN                             NaN     62.813562  1.243541  \n",
       "33    4031896.0                       4031896.0     66.498689  0.077209  \n",
       "34    2910989.0                       2910989.0     66.308358  0.073480  \n",
       "35    3345700.0                       3345700.0     66.250800  0.071196  \n",
       "36    3798018.0                       3798018.0     66.216063  0.071643  \n",
       "26          NaN                             NaN     34.647638  0.607981  \n",
       "38    6243013.0                       6243013.0     62.621478  0.084543  \n",
       "39    4656600.0                       4656600.0     57.349869  0.064554  \n",
       "40    5460161.0                       5460161.0     59.658094  0.086518  \n",
       "41    6653585.0                       6653585.0     63.499151  0.099495  \n",
       "27          NaN                             NaN     65.089130  0.068390  \n",
       "28          NaN                             NaN     64.154389  0.080767  \n",
       "29          NaN                             NaN     63.153258  0.082636  \n",
       "30          NaN                             NaN     62.116921  0.098934  \n",
       "32          NaN                             NaN     64.127244  0.086991  \n",
       "31          NaN                             NaN     64.196630  0.092655  \n",
       "0     5253137.0                       5253137.0     64.464053  0.053168  \n",
       "1     4467502.0                       4467502.0     64.121829  0.052893  \n",
       "2     4563934.0                       4563934.0     64.878370  0.059225  \n",
       "3     5543031.0                       5543031.0     64.242451  0.051578  \n",
       "4     4088165.0                       4088165.0     64.311543  0.055159  \n",
       "5     5043474.0                       5043474.0     65.168374  0.077248  \n",
       "6     4630234.0                       4630234.0     64.101188  0.082350  \n",
       "7     4344814.0                       4344814.0     64.415255  0.069692  \n",
       "8     2852348.0                       2852348.0     63.889820  0.075937  \n",
       "9     3489906.0                       3489906.0     63.894787  0.074501  \n",
       "10    4785291.0                       4785291.0     64.433135  0.073517  \n",
       "11    4572071.0                       4572071.0     64.290253  0.081101  \n",
       "12    4604926.0                       4604926.0     64.020008  0.069730  \n",
       "13    4318208.0                       4318208.0     64.175556  0.074938  \n",
       "14    4180572.0                       4180572.0     64.372387  0.083625  \n",
       "15    5013470.0                       5013470.0     64.791292  0.088182  \n",
       "16    4306353.0                       4306353.0     64.023548  0.074936  \n",
       "17    3447370.0                       3447370.0     64.022545  0.075420  \n",
       "\n",
       "[34 rows x 29 columns]"
      ]
     },
     "execution_count": 80,
     "metadata": {},
     "output_type": "execute_result"
    }
   ],
   "source": [
    "merged_recent"
   ]
  },
  {
   "cell_type": "code",
   "execution_count": 81,
   "metadata": {},
   "outputs": [
    {
     "data": {
      "application/vnd.plotly.v1+json": {
       "config": {
        "plotlyServerURL": "https://plot.ly"
       },
       "data": [
        {
         "customdata": [
          [
           99264.60795910042,
           "controlneg",
           "2019-11-21"
          ],
          [
           110353.95480036669,
           "controlneg",
           "2019-11-24"
          ],
          [
           113394.30190942615,
           "controlneg",
           "2019-11-26"
          ],
          [
           115592.27838843988,
           "controlneg",
           "2019-11-27"
          ],
          [
           151541.88626024956,
           "controlneg",
           "2019-12-01"
          ],
          [
           119989.69223680561,
           "controlneg",
           "2019-12-04"
          ],
          [
           169023.34782414234,
           "controlneg",
           "2019-12-10"
          ],
          [
           81296.7092805203,
           "controlneg",
           "2019-12-11"
          ],
          [
           6024.460948397478,
           "IDBD-D101029",
           "2019-12-11"
          ],
          [
           5675.047209041326,
           "IDBD-D101030",
           "2019-12-11"
          ],
          [
           5403.951340526646,
           "IDBD-D101031",
           "2019-12-11"
          ],
          [
           5418.6157095621975,
           "IDBD-D101032",
           "2019-12-11"
          ],
          [
           41459.84937098144,
           "controlneg",
           "2019-12-13"
          ],
          [
           6652.236668416355,
           "IDBD-D101074",
           "2019-12-13"
          ],
          [
           4842.589013443285,
           "IDBD-D101075",
           "2019-12-13"
          ],
          [
           5692.139847158353,
           "IDBD-D101076",
           "2019-12-13"
          ],
          [
           7851.406422252066,
           "IDBD-D101077",
           "2019-12-13"
          ],
          [
           5236.962858478826,
           "controlneg",
           "2019-12-20"
          ],
          [
           6335.327851558352,
           "controlneg",
           "2019-12-24"
          ],
          [
           6463.652568748615,
           "controlneg",
           "2019-12-25"
          ],
          [
           7750.54380779208,
           "controlneg",
           "2020-01-17"
          ],
          [
           6847.422828544828,
           "controlneg",
           "2020-01-18"
          ],
          [
           7256.320679560567,
           "controlneg",
           "2020-01-18"
          ],
          [
           4087.081680907999,
           "IDBD-D101325",
           "2020-01-20"
          ],
          [
           4069.388217397553,
           "IDBD-D101326",
           "2020-01-20"
          ],
          [
           4528.987491931303,
           "IDBD-D101327",
           "2020-01-20"
          ],
          [
           3936.474466767371,
           "IDBD-D101328",
           "2020-01-20"
          ],
          [
           4226.835267167544,
           "IDBD-D101329",
           "2020-01-20"
          ],
          [
           6065.263744791783,
           "IDBD-D101330",
           "2020-01-20"
          ],
          [
           6485.633339481331,
           "IDBD-D101331",
           "2020-01-20"
          ],
          [
           5427.159827785494,
           "IDBD-D101332",
           "2020-01-20"
          ],
          [
           5942.472657614007,
           "controlNeg",
           "2020-01-20"
          ],
          [
           5733.678786763884,
           "IDBD-D101333",
           "2020-01-20"
          ],
          [
           5642.290092702827,
           "IDBD-D101334",
           "2020-01-20"
          ],
          [
           6373.47932698333,
           "IDBD-D101335",
           "2020-01-20"
          ],
          [
           5455.027941817089,
           "IDBD-D101336",
           "2020-01-20"
          ],
          [
           5791.7543573630555,
           "IDBD-D101337",
           "2020-01-20"
          ],
          [
           6506.286699523414,
           "IDBD-D101338",
           "2020-01-20"
          ],
          [
           6981.192666955223,
           "IDBD-D101339",
           "2020-01-20"
          ],
          [
           5870.396597770782,
           "IDBD-D101340",
           "2020-01-20"
          ],
          [
           5978.470544211966,
           "controlNeg",
           "2020-01-20"
          ]
         ],
         "hoverlabel": {
          "namelength": 0
         },
         "hovertemplate": "Batch ID=%{x}<br>log<sub>10</sub>(T7 + PR772) NR=%{y}<br>T7 + PR772 NR=%{customdata[0]}<br>Accession=%{customdata[1]}<br>Run Date=%{customdata[2]}",
         "legendgroup": "",
         "marker": {
          "color": "#636efa",
          "symbol": "circle"
         },
         "mode": "markers",
         "name": "",
         "showlegend": false,
         "type": "scatter",
         "x": [
          "191121B01",
          "191123B01",
          "191126B01",
          "191127B01",
          "191130B01",
          "191203B01",
          "191210B01",
          "191210B02",
          "191210B02",
          "191210B02",
          "191210B02",
          "191210B02",
          "191211B02",
          "191211B02",
          "191211B02",
          "191211B02",
          "191211B02",
          "191220B01",
          "191223B01",
          "191223B04",
          "200114B02",
          "200116B03",
          "200117B01",
          "200119B01",
          "200119B01",
          "200119B01",
          "200119B01",
          "200119B01",
          "200119B01",
          "200119B01",
          "200119B01",
          "200119B01",
          "200119B02",
          "200119B02",
          "200119B02",
          "200119B02",
          "200119B02",
          "200119B02",
          "200119B02",
          "200119B02",
          "200119B02"
         ],
         "xaxis": "x",
         "y": [
          4.996794431699109,
          5.0427879017677215,
          5.054591231704434,
          5.062928824004099,
          5.180532688663176,
          5.079143939406351,
          5.227946699470661,
          4.910072966624383,
          3.7799181935523434,
          3.753969478647692,
          3.732711429795605,
          3.7338883517626065,
          4.617627719912439,
          3.822967691834141,
          3.68507761239413,
          3.7552755614936055,
          3.894947458874375,
          3.719079493814623,
          3.801769094426791,
          3.810478004398575,
          3.8893321753369854,
          3.835527146391352,
          3.8607164673108865,
          3.611413317235241,
          3.609529123284368,
          3.6560011212586434,
          3.5951074388142383,
          3.6260153223607854,
          3.7828496906794666,
          3.8119523925113104,
          3.7345726115745386,
          3.7739671921377567,
          3.7584333591644485,
          3.7514554112098666,
          3.8043765814699584,
          3.7367969794790623,
          3.7628101340758273,
          3.813333196553832,
          3.843929623830897,
          3.768667442713555,
          3.776590093826801
         ],
         "yaxis": "y"
        }
       ],
       "layout": {
        "autosize": true,
        "font": {
         "size": 18
        },
        "legend": {
         "tracegroupgap": 0
        },
        "margin": {
         "t": 60
        },
        "template": {
         "data": {
          "bar": [
           {
            "error_x": {
             "color": "#2a3f5f"
            },
            "error_y": {
             "color": "#2a3f5f"
            },
            "marker": {
             "line": {
              "color": "#E5ECF6",
              "width": 0.5
             }
            },
            "type": "bar"
           }
          ],
          "barpolar": [
           {
            "marker": {
             "line": {
              "color": "#E5ECF6",
              "width": 0.5
             }
            },
            "type": "barpolar"
           }
          ],
          "carpet": [
           {
            "aaxis": {
             "endlinecolor": "#2a3f5f",
             "gridcolor": "white",
             "linecolor": "white",
             "minorgridcolor": "white",
             "startlinecolor": "#2a3f5f"
            },
            "baxis": {
             "endlinecolor": "#2a3f5f",
             "gridcolor": "white",
             "linecolor": "white",
             "minorgridcolor": "white",
             "startlinecolor": "#2a3f5f"
            },
            "type": "carpet"
           }
          ],
          "choropleth": [
           {
            "colorbar": {
             "outlinewidth": 0,
             "ticks": ""
            },
            "type": "choropleth"
           }
          ],
          "contour": [
           {
            "colorbar": {
             "outlinewidth": 0,
             "ticks": ""
            },
            "colorscale": [
             [
              0,
              "#0d0887"
             ],
             [
              0.1111111111111111,
              "#46039f"
             ],
             [
              0.2222222222222222,
              "#7201a8"
             ],
             [
              0.3333333333333333,
              "#9c179e"
             ],
             [
              0.4444444444444444,
              "#bd3786"
             ],
             [
              0.5555555555555556,
              "#d8576b"
             ],
             [
              0.6666666666666666,
              "#ed7953"
             ],
             [
              0.7777777777777778,
              "#fb9f3a"
             ],
             [
              0.8888888888888888,
              "#fdca26"
             ],
             [
              1,
              "#f0f921"
             ]
            ],
            "type": "contour"
           }
          ],
          "contourcarpet": [
           {
            "colorbar": {
             "outlinewidth": 0,
             "ticks": ""
            },
            "type": "contourcarpet"
           }
          ],
          "heatmap": [
           {
            "colorbar": {
             "outlinewidth": 0,
             "ticks": ""
            },
            "colorscale": [
             [
              0,
              "#0d0887"
             ],
             [
              0.1111111111111111,
              "#46039f"
             ],
             [
              0.2222222222222222,
              "#7201a8"
             ],
             [
              0.3333333333333333,
              "#9c179e"
             ],
             [
              0.4444444444444444,
              "#bd3786"
             ],
             [
              0.5555555555555556,
              "#d8576b"
             ],
             [
              0.6666666666666666,
              "#ed7953"
             ],
             [
              0.7777777777777778,
              "#fb9f3a"
             ],
             [
              0.8888888888888888,
              "#fdca26"
             ],
             [
              1,
              "#f0f921"
             ]
            ],
            "type": "heatmap"
           }
          ],
          "heatmapgl": [
           {
            "colorbar": {
             "outlinewidth": 0,
             "ticks": ""
            },
            "colorscale": [
             [
              0,
              "#0d0887"
             ],
             [
              0.1111111111111111,
              "#46039f"
             ],
             [
              0.2222222222222222,
              "#7201a8"
             ],
             [
              0.3333333333333333,
              "#9c179e"
             ],
             [
              0.4444444444444444,
              "#bd3786"
             ],
             [
              0.5555555555555556,
              "#d8576b"
             ],
             [
              0.6666666666666666,
              "#ed7953"
             ],
             [
              0.7777777777777778,
              "#fb9f3a"
             ],
             [
              0.8888888888888888,
              "#fdca26"
             ],
             [
              1,
              "#f0f921"
             ]
            ],
            "type": "heatmapgl"
           }
          ],
          "histogram": [
           {
            "marker": {
             "colorbar": {
              "outlinewidth": 0,
              "ticks": ""
             }
            },
            "type": "histogram"
           }
          ],
          "histogram2d": [
           {
            "colorbar": {
             "outlinewidth": 0,
             "ticks": ""
            },
            "colorscale": [
             [
              0,
              "#0d0887"
             ],
             [
              0.1111111111111111,
              "#46039f"
             ],
             [
              0.2222222222222222,
              "#7201a8"
             ],
             [
              0.3333333333333333,
              "#9c179e"
             ],
             [
              0.4444444444444444,
              "#bd3786"
             ],
             [
              0.5555555555555556,
              "#d8576b"
             ],
             [
              0.6666666666666666,
              "#ed7953"
             ],
             [
              0.7777777777777778,
              "#fb9f3a"
             ],
             [
              0.8888888888888888,
              "#fdca26"
             ],
             [
              1,
              "#f0f921"
             ]
            ],
            "type": "histogram2d"
           }
          ],
          "histogram2dcontour": [
           {
            "colorbar": {
             "outlinewidth": 0,
             "ticks": ""
            },
            "colorscale": [
             [
              0,
              "#0d0887"
             ],
             [
              0.1111111111111111,
              "#46039f"
             ],
             [
              0.2222222222222222,
              "#7201a8"
             ],
             [
              0.3333333333333333,
              "#9c179e"
             ],
             [
              0.4444444444444444,
              "#bd3786"
             ],
             [
              0.5555555555555556,
              "#d8576b"
             ],
             [
              0.6666666666666666,
              "#ed7953"
             ],
             [
              0.7777777777777778,
              "#fb9f3a"
             ],
             [
              0.8888888888888888,
              "#fdca26"
             ],
             [
              1,
              "#f0f921"
             ]
            ],
            "type": "histogram2dcontour"
           }
          ],
          "mesh3d": [
           {
            "colorbar": {
             "outlinewidth": 0,
             "ticks": ""
            },
            "type": "mesh3d"
           }
          ],
          "parcoords": [
           {
            "line": {
             "colorbar": {
              "outlinewidth": 0,
              "ticks": ""
             }
            },
            "type": "parcoords"
           }
          ],
          "pie": [
           {
            "automargin": true,
            "type": "pie"
           }
          ],
          "scatter": [
           {
            "marker": {
             "colorbar": {
              "outlinewidth": 0,
              "ticks": ""
             }
            },
            "type": "scatter"
           }
          ],
          "scatter3d": [
           {
            "line": {
             "colorbar": {
              "outlinewidth": 0,
              "ticks": ""
             }
            },
            "marker": {
             "colorbar": {
              "outlinewidth": 0,
              "ticks": ""
             }
            },
            "type": "scatter3d"
           }
          ],
          "scattercarpet": [
           {
            "marker": {
             "colorbar": {
              "outlinewidth": 0,
              "ticks": ""
             }
            },
            "type": "scattercarpet"
           }
          ],
          "scattergeo": [
           {
            "marker": {
             "colorbar": {
              "outlinewidth": 0,
              "ticks": ""
             }
            },
            "type": "scattergeo"
           }
          ],
          "scattergl": [
           {
            "marker": {
             "colorbar": {
              "outlinewidth": 0,
              "ticks": ""
             }
            },
            "type": "scattergl"
           }
          ],
          "scattermapbox": [
           {
            "marker": {
             "colorbar": {
              "outlinewidth": 0,
              "ticks": ""
             }
            },
            "type": "scattermapbox"
           }
          ],
          "scatterpolar": [
           {
            "marker": {
             "colorbar": {
              "outlinewidth": 0,
              "ticks": ""
             }
            },
            "type": "scatterpolar"
           }
          ],
          "scatterpolargl": [
           {
            "marker": {
             "colorbar": {
              "outlinewidth": 0,
              "ticks": ""
             }
            },
            "type": "scatterpolargl"
           }
          ],
          "scatterternary": [
           {
            "marker": {
             "colorbar": {
              "outlinewidth": 0,
              "ticks": ""
             }
            },
            "type": "scatterternary"
           }
          ],
          "surface": [
           {
            "colorbar": {
             "outlinewidth": 0,
             "ticks": ""
            },
            "colorscale": [
             [
              0,
              "#0d0887"
             ],
             [
              0.1111111111111111,
              "#46039f"
             ],
             [
              0.2222222222222222,
              "#7201a8"
             ],
             [
              0.3333333333333333,
              "#9c179e"
             ],
             [
              0.4444444444444444,
              "#bd3786"
             ],
             [
              0.5555555555555556,
              "#d8576b"
             ],
             [
              0.6666666666666666,
              "#ed7953"
             ],
             [
              0.7777777777777778,
              "#fb9f3a"
             ],
             [
              0.8888888888888888,
              "#fdca26"
             ],
             [
              1,
              "#f0f921"
             ]
            ],
            "type": "surface"
           }
          ],
          "table": [
           {
            "cells": {
             "fill": {
              "color": "#EBF0F8"
             },
             "line": {
              "color": "white"
             }
            },
            "header": {
             "fill": {
              "color": "#C8D4E3"
             },
             "line": {
              "color": "white"
             }
            },
            "type": "table"
           }
          ]
         },
         "layout": {
          "annotationdefaults": {
           "arrowcolor": "#2a3f5f",
           "arrowhead": 0,
           "arrowwidth": 1
          },
          "coloraxis": {
           "colorbar": {
            "outlinewidth": 0,
            "ticks": ""
           }
          },
          "colorscale": {
           "diverging": [
            [
             0,
             "#8e0152"
            ],
            [
             0.1,
             "#c51b7d"
            ],
            [
             0.2,
             "#de77ae"
            ],
            [
             0.3,
             "#f1b6da"
            ],
            [
             0.4,
             "#fde0ef"
            ],
            [
             0.5,
             "#f7f7f7"
            ],
            [
             0.6,
             "#e6f5d0"
            ],
            [
             0.7,
             "#b8e186"
            ],
            [
             0.8,
             "#7fbc41"
            ],
            [
             0.9,
             "#4d9221"
            ],
            [
             1,
             "#276419"
            ]
           ],
           "sequential": [
            [
             0,
             "#0d0887"
            ],
            [
             0.1111111111111111,
             "#46039f"
            ],
            [
             0.2222222222222222,
             "#7201a8"
            ],
            [
             0.3333333333333333,
             "#9c179e"
            ],
            [
             0.4444444444444444,
             "#bd3786"
            ],
            [
             0.5555555555555556,
             "#d8576b"
            ],
            [
             0.6666666666666666,
             "#ed7953"
            ],
            [
             0.7777777777777778,
             "#fb9f3a"
            ],
            [
             0.8888888888888888,
             "#fdca26"
            ],
            [
             1,
             "#f0f921"
            ]
           ],
           "sequentialminus": [
            [
             0,
             "#0d0887"
            ],
            [
             0.1111111111111111,
             "#46039f"
            ],
            [
             0.2222222222222222,
             "#7201a8"
            ],
            [
             0.3333333333333333,
             "#9c179e"
            ],
            [
             0.4444444444444444,
             "#bd3786"
            ],
            [
             0.5555555555555556,
             "#d8576b"
            ],
            [
             0.6666666666666666,
             "#ed7953"
            ],
            [
             0.7777777777777778,
             "#fb9f3a"
            ],
            [
             0.8888888888888888,
             "#fdca26"
            ],
            [
             1,
             "#f0f921"
            ]
           ]
          },
          "colorway": [
           "#636efa",
           "#EF553B",
           "#00cc96",
           "#ab63fa",
           "#FFA15A",
           "#19d3f3",
           "#FF6692",
           "#B6E880",
           "#FF97FF",
           "#FECB52"
          ],
          "font": {
           "color": "#2a3f5f"
          },
          "geo": {
           "bgcolor": "white",
           "lakecolor": "white",
           "landcolor": "#E5ECF6",
           "showlakes": true,
           "showland": true,
           "subunitcolor": "white"
          },
          "hoverlabel": {
           "align": "left"
          },
          "hovermode": "closest",
          "mapbox": {
           "style": "light"
          },
          "paper_bgcolor": "white",
          "plot_bgcolor": "#E5ECF6",
          "polar": {
           "angularaxis": {
            "gridcolor": "white",
            "linecolor": "white",
            "ticks": ""
           },
           "bgcolor": "#E5ECF6",
           "radialaxis": {
            "gridcolor": "white",
            "linecolor": "white",
            "ticks": ""
           }
          },
          "scene": {
           "xaxis": {
            "backgroundcolor": "#E5ECF6",
            "gridcolor": "white",
            "gridwidth": 2,
            "linecolor": "white",
            "showbackground": true,
            "ticks": "",
            "zerolinecolor": "white"
           },
           "yaxis": {
            "backgroundcolor": "#E5ECF6",
            "gridcolor": "white",
            "gridwidth": 2,
            "linecolor": "white",
            "showbackground": true,
            "ticks": "",
            "zerolinecolor": "white"
           },
           "zaxis": {
            "backgroundcolor": "#E5ECF6",
            "gridcolor": "white",
            "gridwidth": 2,
            "linecolor": "white",
            "showbackground": true,
            "ticks": "",
            "zerolinecolor": "white"
           }
          },
          "shapedefaults": {
           "line": {
            "color": "#2a3f5f"
           }
          },
          "ternary": {
           "aaxis": {
            "gridcolor": "white",
            "linecolor": "white",
            "ticks": ""
           },
           "baxis": {
            "gridcolor": "white",
            "linecolor": "white",
            "ticks": ""
           },
           "bgcolor": "#E5ECF6",
           "caxis": {
            "gridcolor": "white",
            "linecolor": "white",
            "ticks": ""
           }
          },
          "title": {
           "x": 0.05
          },
          "xaxis": {
           "automargin": true,
           "gridcolor": "white",
           "linecolor": "white",
           "ticks": "",
           "title": {
            "standoff": 15
           },
           "zerolinecolor": "white",
           "zerolinewidth": 2
          },
          "yaxis": {
           "automargin": true,
           "gridcolor": "white",
           "linecolor": "white",
           "ticks": "",
           "title": {
            "standoff": 15
           },
           "zerolinecolor": "white",
           "zerolinewidth": 2
          }
         }
        },
        "xaxis": {
         "anchor": "y",
         "autorange": true,
         "domain": [
          0,
          1
         ],
         "range": [
          -0.9503781590112528,
          16.95037815901125
         ],
         "title": {
          "text": "Batch ID"
         },
         "type": "category"
        },
        "yaxis": {
         "anchor": "x",
         "autorange": true,
         "domain": [
          0,
          1
         ],
         "range": [
          3.486381181452552,
          5.336672956832348
         ],
         "title": {
          "text": "log<sub>10</sub>(T7 + PR772) NR"
         },
         "type": "linear"
        }
       }
      },
      "image/png": "[encoded data removed]",
      "text/html": [
       "<div>\n",
       "        \n",
       "        \n",
       "            <div id=\"875ad6a3-9ee5-4f12-9a11-e97ca36b26d1\" class=\"plotly-graph-div\" style=\"height:600px; width:100%;\"></div>\n",
       "            <script type=\"text/javascript\">\n",
       "                require([\"plotly\"], function(Plotly) {\n",
       "                    window.PLOTLYENV=window.PLOTLYENV || {};\n",
       "                    \n",
       "                if (document.getElementById(\"875ad6a3-9ee5-4f12-9a11-e97ca36b26d1\")) {\n",
       "                    Plotly.newPlot(\n",
       "                        '875ad6a3-9ee5-4f12-9a11-e97ca36b26d1',\n",
       "                        [{\"customdata\": [[99264.60795910042, \"controlneg\", \"2019-11-21\"], [110353.95480036669, \"controlneg\", \"2019-11-24\"], [113394.30190942615, \"controlneg\", \"2019-11-26\"], [115592.27838843988, \"controlneg\", \"2019-11-27\"], [151541.88626024956, \"controlneg\", \"2019-12-01\"], [119989.69223680561, \"controlneg\", \"2019-12-04\"], [169023.34782414234, \"controlneg\", \"2019-12-10\"], [81296.7092805203, \"controlneg\", \"2019-12-11\"], [6024.460948397478, \"IDBD-D101029\", \"2019-12-11\"], [5675.047209041326, \"IDBD-D101030\", \"2019-12-11\"], [5403.951340526646, \"IDBD-D101031\", \"2019-12-11\"], [5418.6157095621975, \"IDBD-D101032\", \"2019-12-11\"], [41459.84937098144, \"controlneg\", \"2019-12-13\"], [6652.236668416355, \"IDBD-D101074\", \"2019-12-13\"], [4842.589013443285, \"IDBD-D101075\", \"2019-12-13\"], [5692.139847158353, \"IDBD-D101076\", \"2019-12-13\"], [7851.406422252066, \"IDBD-D101077\", \"2019-12-13\"], [5236.962858478826, \"controlneg\", \"2019-12-20\"], [6335.327851558352, \"controlneg\", \"2019-12-24\"], [6463.652568748615, \"controlneg\", \"2019-12-25\"], [7750.54380779208, \"controlneg\", \"2020-01-17\"], [6847.422828544828, \"controlneg\", \"2020-01-18\"], [7256.320679560567, \"controlneg\", \"2020-01-18\"], [4087.081680907999, \"IDBD-D101325\", \"2020-01-20\"], [4069.388217397553, \"IDBD-D101326\", \"2020-01-20\"], [4528.987491931303, \"IDBD-D101327\", \"2020-01-20\"], [3936.474466767371, \"IDBD-D101328\", \"2020-01-20\"], [4226.835267167544, \"IDBD-D101329\", \"2020-01-20\"], [6065.263744791783, \"IDBD-D101330\", \"2020-01-20\"], [6485.633339481331, \"IDBD-D101331\", \"2020-01-20\"], [5427.159827785494, \"IDBD-D101332\", \"2020-01-20\"], [5942.472657614007, \"controlNeg\", \"2020-01-20\"], [5733.678786763884, \"IDBD-D101333\", \"2020-01-20\"], [5642.290092702827, \"IDBD-D101334\", \"2020-01-20\"], [6373.47932698333, \"IDBD-D101335\", \"2020-01-20\"], [5455.027941817089, \"IDBD-D101336\", \"2020-01-20\"], [5791.7543573630555, \"IDBD-D101337\", \"2020-01-20\"], [6506.286699523414, \"IDBD-D101338\", \"2020-01-20\"], [6981.192666955223, \"IDBD-D101339\", \"2020-01-20\"], [5870.396597770782, \"IDBD-D101340\", \"2020-01-20\"], [5978.470544211966, \"controlNeg\", \"2020-01-20\"]], \"hoverlabel\": {\"namelength\": 0}, \"hovertemplate\": \"Batch ID=%{x}<br>log<sub>10</sub>(T7 + PR772) NR=%{y}<br>T7 + PR772 NR=%{customdata[0]}<br>Accession=%{customdata[1]}<br>Run Date=%{customdata[2]}\", \"legendgroup\": \"\", \"marker\": {\"color\": \"#636efa\", \"symbol\": \"circle\"}, \"mode\": \"markers\", \"name\": \"\", \"showlegend\": false, \"type\": \"scatter\", \"x\": [\"191121B01\", \"191123B01\", \"191126B01\", \"191127B01\", \"191130B01\", \"191203B01\", \"191210B01\", \"191210B02\", \"191210B02\", \"191210B02\", \"191210B02\", \"191210B02\", \"191211B02\", \"191211B02\", \"191211B02\", \"191211B02\", \"191211B02\", \"191220B01\", \"191223B01\", \"191223B04\", \"200114B02\", \"200116B03\", \"200117B01\", \"200119B01\", \"200119B01\", \"200119B01\", \"200119B01\", \"200119B01\", \"200119B01\", \"200119B01\", \"200119B01\", \"200119B01\", \"200119B02\", \"200119B02\", \"200119B02\", \"200119B02\", \"200119B02\", \"200119B02\", \"200119B02\", \"200119B02\", \"200119B02\"], \"xaxis\": \"x\", \"y\": [4.996794431699109, 5.0427879017677215, 5.054591231704434, 5.062928824004099, 5.180532688663176, 5.079143939406351, 5.227946699470661, 4.910072966624383, 3.7799181935523434, 3.753969478647692, 3.732711429795605, 3.7338883517626065, 4.617627719912439, 3.822967691834141, 3.68507761239413, 3.7552755614936055, 3.894947458874375, 3.719079493814623, 3.801769094426791, 3.810478004398575, 3.8893321753369854, 3.835527146391352, 3.8607164673108865, 3.611413317235241, 3.609529123284368, 3.6560011212586434, 3.5951074388142383, 3.6260153223607854, 3.7828496906794666, 3.8119523925113104, 3.7345726115745386, 3.7739671921377567, 3.7584333591644485, 3.7514554112098666, 3.8043765814699584, 3.7367969794790623, 3.7628101340758273, 3.813333196553832, 3.843929623830897, 3.768667442713555, 3.776590093826801], \"yaxis\": \"y\"}],\n",
       "                        {\"font\": {\"size\": 18}, \"height\": 600, \"legend\": {\"tracegroupgap\": 0}, \"margin\": {\"t\": 60}, \"template\": {\"data\": {\"bar\": [{\"error_x\": {\"color\": \"#2a3f5f\"}, \"error_y\": {\"color\": \"#2a3f5f\"}, \"marker\": {\"line\": {\"color\": \"#E5ECF6\", \"width\": 0.5}}, \"type\": \"bar\"}], \"barpolar\": [{\"marker\": {\"line\": {\"color\": \"#E5ECF6\", \"width\": 0.5}}, \"type\": \"barpolar\"}], \"carpet\": [{\"aaxis\": {\"endlinecolor\": \"#2a3f5f\", \"gridcolor\": \"white\", \"linecolor\": \"white\", \"minorgridcolor\": \"white\", \"startlinecolor\": \"#2a3f5f\"}, \"baxis\": {\"endlinecolor\": \"#2a3f5f\", \"gridcolor\": \"white\", \"linecolor\": \"white\", \"minorgridcolor\": \"white\", \"startlinecolor\": \"#2a3f5f\"}, \"type\": \"carpet\"}], \"choropleth\": [{\"colorbar\": {\"outlinewidth\": 0, \"ticks\": \"\"}, \"type\": \"choropleth\"}], \"contour\": [{\"colorbar\": {\"outlinewidth\": 0, \"ticks\": \"\"}, \"colorscale\": [[0.0, \"#0d0887\"], [0.1111111111111111, \"#46039f\"], [0.2222222222222222, \"#7201a8\"], [0.3333333333333333, \"#9c179e\"], [0.4444444444444444, \"#bd3786\"], [0.5555555555555556, \"#d8576b\"], [0.6666666666666666, \"#ed7953\"], [0.7777777777777778, \"#fb9f3a\"], [0.8888888888888888, \"#fdca26\"], [1.0, \"#f0f921\"]], \"type\": \"contour\"}], \"contourcarpet\": [{\"colorbar\": {\"outlinewidth\": 0, \"ticks\": \"\"}, \"type\": \"contourcarpet\"}], \"heatmap\": [{\"colorbar\": {\"outlinewidth\": 0, \"ticks\": \"\"}, \"colorscale\": [[0.0, \"#0d0887\"], [0.1111111111111111, \"#46039f\"], [0.2222222222222222, \"#7201a8\"], [0.3333333333333333, \"#9c179e\"], [0.4444444444444444, \"#bd3786\"], [0.5555555555555556, \"#d8576b\"], [0.6666666666666666, \"#ed7953\"], [0.7777777777777778, \"#fb9f3a\"], [0.8888888888888888, \"#fdca26\"], [1.0, \"#f0f921\"]], \"type\": \"heatmap\"}], \"heatmapgl\": [{\"colorbar\": {\"outlinewidth\": 0, \"ticks\": \"\"}, \"colorscale\": [[0.0, \"#0d0887\"], [0.1111111111111111, \"#46039f\"], [0.2222222222222222, \"#7201a8\"], [0.3333333333333333, \"#9c179e\"], [0.4444444444444444, \"#bd3786\"], [0.5555555555555556, \"#d8576b\"], [0.6666666666666666, \"#ed7953\"], [0.7777777777777778, \"#fb9f3a\"], [0.8888888888888888, \"#fdca26\"], [1.0, \"#f0f921\"]], \"type\": \"heatmapgl\"}], \"histogram\": [{\"marker\": {\"colorbar\": {\"outlinewidth\": 0, \"ticks\": \"\"}}, \"type\": \"histogram\"}], \"histogram2d\": [{\"colorbar\": {\"outlinewidth\": 0, \"ticks\": \"\"}, \"colorscale\": [[0.0, \"#0d0887\"], [0.1111111111111111, \"#46039f\"], [0.2222222222222222, \"#7201a8\"], [0.3333333333333333, \"#9c179e\"], [0.4444444444444444, \"#bd3786\"], [0.5555555555555556, \"#d8576b\"], [0.6666666666666666, \"#ed7953\"], [0.7777777777777778, \"#fb9f3a\"], [0.8888888888888888, \"#fdca26\"], [1.0, \"#f0f921\"]], \"type\": \"histogram2d\"}], \"histogram2dcontour\": [{\"colorbar\": {\"outlinewidth\": 0, \"ticks\": \"\"}, \"colorscale\": [[0.0, \"#0d0887\"], [0.1111111111111111, \"#46039f\"], [0.2222222222222222, \"#7201a8\"], [0.3333333333333333, \"#9c179e\"], [0.4444444444444444, \"#bd3786\"], [0.5555555555555556, \"#d8576b\"], [0.6666666666666666, \"#ed7953\"], [0.7777777777777778, \"#fb9f3a\"], [0.8888888888888888, \"#fdca26\"], [1.0, \"#f0f921\"]], \"type\": \"histogram2dcontour\"}], \"mesh3d\": [{\"colorbar\": {\"outlinewidth\": 0, \"ticks\": \"\"}, \"type\": \"mesh3d\"}], \"parcoords\": [{\"line\": {\"colorbar\": {\"outlinewidth\": 0, \"ticks\": \"\"}}, \"type\": \"parcoords\"}], \"pie\": [{\"automargin\": true, \"type\": \"pie\"}], \"scatter\": [{\"marker\": {\"colorbar\": {\"outlinewidth\": 0, \"ticks\": \"\"}}, \"type\": \"scatter\"}], \"scatter3d\": [{\"line\": {\"colorbar\": {\"outlinewidth\": 0, \"ticks\": \"\"}}, \"marker\": {\"colorbar\": {\"outlinewidth\": 0, \"ticks\": \"\"}}, \"type\": \"scatter3d\"}], \"scattercarpet\": [{\"marker\": {\"colorbar\": {\"outlinewidth\": 0, \"ticks\": \"\"}}, \"type\": \"scattercarpet\"}], \"scattergeo\": [{\"marker\": {\"colorbar\": {\"outlinewidth\": 0, \"ticks\": \"\"}}, \"type\": \"scattergeo\"}], \"scattergl\": [{\"marker\": {\"colorbar\": {\"outlinewidth\": 0, \"ticks\": \"\"}}, \"type\": \"scattergl\"}], \"scattermapbox\": [{\"marker\": {\"colorbar\": {\"outlinewidth\": 0, \"ticks\": \"\"}}, \"type\": \"scattermapbox\"}], \"scatterpolar\": [{\"marker\": {\"colorbar\": {\"outlinewidth\": 0, \"ticks\": \"\"}}, \"type\": \"scatterpolar\"}], \"scatterpolargl\": [{\"marker\": {\"colorbar\": {\"outlinewidth\": 0, \"ticks\": \"\"}}, \"type\": \"scatterpolargl\"}], \"scatterternary\": [{\"marker\": {\"colorbar\": {\"outlinewidth\": 0, \"ticks\": \"\"}}, \"type\": \"scatterternary\"}], \"surface\": [{\"colorbar\": {\"outlinewidth\": 0, \"ticks\": \"\"}, \"colorscale\": [[0.0, \"#0d0887\"], [0.1111111111111111, \"#46039f\"], [0.2222222222222222, \"#7201a8\"], [0.3333333333333333, \"#9c179e\"], [0.4444444444444444, \"#bd3786\"], [0.5555555555555556, \"#d8576b\"], [0.6666666666666666, \"#ed7953\"], [0.7777777777777778, \"#fb9f3a\"], [0.8888888888888888, \"#fdca26\"], [1.0, \"#f0f921\"]], \"type\": \"surface\"}], \"table\": [{\"cells\": {\"fill\": {\"color\": \"#EBF0F8\"}, \"line\": {\"color\": \"white\"}}, \"header\": {\"fill\": {\"color\": \"#C8D4E3\"}, \"line\": {\"color\": \"white\"}}, \"type\": \"table\"}]}, \"layout\": {\"annotationdefaults\": {\"arrowcolor\": \"#2a3f5f\", \"arrowhead\": 0, \"arrowwidth\": 1}, \"coloraxis\": {\"colorbar\": {\"outlinewidth\": 0, \"ticks\": \"\"}}, \"colorscale\": {\"diverging\": [[0, \"#8e0152\"], [0.1, \"#c51b7d\"], [0.2, \"#de77ae\"], [0.3, \"#f1b6da\"], [0.4, \"#fde0ef\"], [0.5, \"#f7f7f7\"], [0.6, \"#e6f5d0\"], [0.7, \"#b8e186\"], [0.8, \"#7fbc41\"], [0.9, \"#4d9221\"], [1, \"#276419\"]], \"sequential\": [[0.0, \"#0d0887\"], [0.1111111111111111, \"#46039f\"], [0.2222222222222222, \"#7201a8\"], [0.3333333333333333, \"#9c179e\"], [0.4444444444444444, \"#bd3786\"], [0.5555555555555556, \"#d8576b\"], [0.6666666666666666, \"#ed7953\"], [0.7777777777777778, \"#fb9f3a\"], [0.8888888888888888, \"#fdca26\"], [1.0, \"#f0f921\"]], \"sequentialminus\": [[0.0, \"#0d0887\"], [0.1111111111111111, \"#46039f\"], [0.2222222222222222, \"#7201a8\"], [0.3333333333333333, \"#9c179e\"], [0.4444444444444444, \"#bd3786\"], [0.5555555555555556, \"#d8576b\"], [0.6666666666666666, \"#ed7953\"], [0.7777777777777778, \"#fb9f3a\"], [0.8888888888888888, \"#fdca26\"], [1.0, \"#f0f921\"]]}, \"colorway\": [\"#636efa\", \"#EF553B\", \"#00cc96\", \"#ab63fa\", \"#FFA15A\", \"#19d3f3\", \"#FF6692\", \"#B6E880\", \"#FF97FF\", \"#FECB52\"], \"font\": {\"color\": \"#2a3f5f\"}, \"geo\": {\"bgcolor\": \"white\", \"lakecolor\": \"white\", \"landcolor\": \"#E5ECF6\", \"showlakes\": true, \"showland\": true, \"subunitcolor\": \"white\"}, \"hoverlabel\": {\"align\": \"left\"}, \"hovermode\": \"closest\", \"mapbox\": {\"style\": \"light\"}, \"paper_bgcolor\": \"white\", \"plot_bgcolor\": \"#E5ECF6\", \"polar\": {\"angularaxis\": {\"gridcolor\": \"white\", \"linecolor\": \"white\", \"ticks\": \"\"}, \"bgcolor\": \"#E5ECF6\", \"radialaxis\": {\"gridcolor\": \"white\", \"linecolor\": \"white\", \"ticks\": \"\"}}, \"scene\": {\"xaxis\": {\"backgroundcolor\": \"#E5ECF6\", \"gridcolor\": \"white\", \"gridwidth\": 2, \"linecolor\": \"white\", \"showbackground\": true, \"ticks\": \"\", \"zerolinecolor\": \"white\"}, \"yaxis\": {\"backgroundcolor\": \"#E5ECF6\", \"gridcolor\": \"white\", \"gridwidth\": 2, \"linecolor\": \"white\", \"showbackground\": true, \"ticks\": \"\", \"zerolinecolor\": \"white\"}, \"zaxis\": {\"backgroundcolor\": \"#E5ECF6\", \"gridcolor\": \"white\", \"gridwidth\": 2, \"linecolor\": \"white\", \"showbackground\": true, \"ticks\": \"\", \"zerolinecolor\": \"white\"}}, \"shapedefaults\": {\"line\": {\"color\": \"#2a3f5f\"}}, \"ternary\": {\"aaxis\": {\"gridcolor\": \"white\", \"linecolor\": \"white\", \"ticks\": \"\"}, \"baxis\": {\"gridcolor\": \"white\", \"linecolor\": \"white\", \"ticks\": \"\"}, \"bgcolor\": \"#E5ECF6\", \"caxis\": {\"gridcolor\": \"white\", \"linecolor\": \"white\", \"ticks\": \"\"}}, \"title\": {\"x\": 0.05}, \"xaxis\": {\"automargin\": true, \"gridcolor\": \"white\", \"linecolor\": \"white\", \"ticks\": \"\", \"title\": {\"standoff\": 15}, \"zerolinecolor\": \"white\", \"zerolinewidth\": 2}, \"yaxis\": {\"automargin\": true, \"gridcolor\": \"white\", \"linecolor\": \"white\", \"ticks\": \"\", \"title\": {\"standoff\": 15}, \"zerolinecolor\": \"white\", \"zerolinewidth\": 2}}}, \"xaxis\": {\"anchor\": \"y\", \"domain\": [0.0, 1.0], \"title\": {\"text\": \"Batch ID\"}}, \"yaxis\": {\"anchor\": \"x\", \"domain\": [0.0, 1.0], \"title\": {\"text\": \"log<sub>10</sub>(T7 + PR772) NR\"}}},\n",
       "                        {\"responsive\": true}\n",
       "                    ).then(function(){\n",
       "                            \n",
       "var gd = document.getElementById('875ad6a3-9ee5-4f12-9a11-e97ca36b26d1');\n",
       "var x = new MutationObserver(function (mutations, observer) {{\n",
       "        var display = window.getComputedStyle(gd).display;\n",
       "        if (!display || display === 'none') {{\n",
       "            console.log([gd, 'removed!']);\n",
       "            Plotly.purge(gd);\n",
       "            observer.disconnect();\n",
       "        }}\n",
       "}});\n",
       "\n",
       "// Listen for the removal of the full notebook cells\n",
       "var notebookContainer = gd.closest('#notebook-container');\n",
       "if (notebookContainer) {{\n",
       "    x.observe(notebookContainer, {childList: true});\n",
       "}}\n",
       "\n",
       "// Listen for the clearing of the current output cell\n",
       "var outputEl = gd.closest('.output');\n",
       "if (outputEl) {{\n",
       "    x.observe(outputEl, {childList: true});\n",
       "}}\n",
       "\n",
       "                        })\n",
       "                };\n",
       "                });\n",
       "            </script>\n",
       "        </div>"
      ]
     },
     "metadata": {},
     "output_type": "display_data"
    }
   ],
   "source": [
    "fig = px.scatter(\n",
    "    merged_with_new_neg, y='Log10 T7 + PR772 NR (Composition File)',\n",
    "    x='Batch ID',\n",
    "    labels={'Log10 T7 + PR772 NR (Composition File)': 'log<sub>10</sub>(T7 + PR772) NR',\n",
    "            'T7 + PR772 NR (Composition File)': 'T7 + PR772 NR'},\n",
    "    hover_data=['T7 + PR772 NR (Composition File)', 'Accession', 'Run Date']\n",
    ")\n",
    "fig.update_layout(font=dict(size=18), height=600)\n",
    "fig.show()\n",
    "fig.write_html('plots/Diluted_Hi_IC_vs_Low_IC_by_batch.html')"
   ]
  },
  {
   "cell_type": "code",
   "execution_count": 82,
   "metadata": {},
   "outputs": [
    {
     "data": {
      "application/vnd.plotly.v1+json": {
       "config": {
        "plotlyServerURL": "https://plot.ly"
       },
       "data": [
        {
         "customdata": [
          [
           99264.60795910042,
           "controlneg",
           "2019-11-21"
          ],
          [
           110353.95480036669,
           "controlneg",
           "2019-11-24"
          ],
          [
           113394.30190942615,
           "controlneg",
           "2019-11-26"
          ],
          [
           115592.27838843988,
           "controlneg",
           "2019-11-27"
          ],
          [
           151541.88626024956,
           "controlneg",
           "2019-12-01"
          ],
          [
           119989.69223680561,
           "controlneg",
           "2019-12-04"
          ],
          [
           169023.34782414234,
           "controlneg",
           "2019-12-10"
          ],
          [
           81296.7092805203,
           "controlneg",
           "2019-12-11"
          ],
          [
           6024.460948397478,
           "IDBD-D101029",
           "2019-12-11"
          ],
          [
           5675.047209041326,
           "IDBD-D101030",
           "2019-12-11"
          ],
          [
           5403.951340526646,
           "IDBD-D101031",
           "2019-12-11"
          ],
          [
           5418.6157095621975,
           "IDBD-D101032",
           "2019-12-11"
          ],
          [
           41459.84937098144,
           "controlneg",
           "2019-12-13"
          ],
          [
           6652.236668416355,
           "IDBD-D101074",
           "2019-12-13"
          ],
          [
           4842.589013443285,
           "IDBD-D101075",
           "2019-12-13"
          ],
          [
           5692.139847158353,
           "IDBD-D101076",
           "2019-12-13"
          ],
          [
           7851.406422252066,
           "IDBD-D101077",
           "2019-12-13"
          ],
          [
           5236.962858478826,
           "controlneg",
           "2019-12-20"
          ],
          [
           6335.327851558352,
           "controlneg",
           "2019-12-24"
          ],
          [
           6463.652568748615,
           "controlneg",
           "2019-12-25"
          ],
          [
           7750.54380779208,
           "controlneg",
           "2020-01-17"
          ],
          [
           6847.422828544828,
           "controlneg",
           "2020-01-18"
          ],
          [
           7256.320679560567,
           "controlneg",
           "2020-01-18"
          ],
          [
           4087.081680907999,
           "IDBD-D101325",
           "2020-01-20"
          ],
          [
           4069.388217397553,
           "IDBD-D101326",
           "2020-01-20"
          ],
          [
           4528.987491931303,
           "IDBD-D101327",
           "2020-01-20"
          ],
          [
           3936.474466767371,
           "IDBD-D101328",
           "2020-01-20"
          ],
          [
           4226.835267167544,
           "IDBD-D101329",
           "2020-01-20"
          ],
          [
           6065.263744791783,
           "IDBD-D101330",
           "2020-01-20"
          ],
          [
           6485.633339481331,
           "IDBD-D101331",
           "2020-01-20"
          ],
          [
           5427.159827785494,
           "IDBD-D101332",
           "2020-01-20"
          ],
          [
           5942.472657614007,
           "controlNeg",
           "2020-01-20"
          ],
          [
           5733.678786763884,
           "IDBD-D101333",
           "2020-01-20"
          ],
          [
           5642.290092702827,
           "IDBD-D101334",
           "2020-01-20"
          ],
          [
           6373.47932698333,
           "IDBD-D101335",
           "2020-01-20"
          ],
          [
           5455.027941817089,
           "IDBD-D101336",
           "2020-01-20"
          ],
          [
           5791.7543573630555,
           "IDBD-D101337",
           "2020-01-20"
          ],
          [
           6506.286699523414,
           "IDBD-D101338",
           "2020-01-20"
          ],
          [
           6981.192666955223,
           "IDBD-D101339",
           "2020-01-20"
          ],
          [
           5870.396597770782,
           "IDBD-D101340",
           "2020-01-20"
          ],
          [
           5978.470544211966,
           "controlNeg",
           "2020-01-20"
          ]
         ],
         "hoverlabel": {
          "namelength": 0
         },
         "hovertemplate": "Batch ID=%{x}<br>log<sub>10</sub>(T7 + PR772) NR=%{y}<br>T7 + PR772 NR=%{customdata[0]}<br>Accession=%{customdata[1]}<br>Run Date=%{customdata[2]}",
         "legendgroup": "",
         "marker": {
          "color": "#636efa",
          "symbol": "circle"
         },
         "mode": "markers",
         "name": "",
         "showlegend": false,
         "type": "scatter",
         "x": [
          "191121B01",
          "191123B01",
          "191126B01",
          "191127B01",
          "191130B01",
          "191203B01",
          "191210B01",
          "191210B02",
          "191210B02",
          "191210B02",
          "191210B02",
          "191210B02",
          "191211B02",
          "191211B02",
          "191211B02",
          "191211B02",
          "191211B02",
          "191220B01",
          "191223B01",
          "191223B04",
          "200114B02",
          "200116B03",
          "200117B01",
          "200119B01",
          "200119B01",
          "200119B01",
          "200119B01",
          "200119B01",
          "200119B01",
          "200119B01",
          "200119B01",
          "200119B01",
          "200119B02",
          "200119B02",
          "200119B02",
          "200119B02",
          "200119B02",
          "200119B02",
          "200119B02",
          "200119B02",
          "200119B02"
         ],
         "xaxis": "x",
         "y": [
          4.996794431699109,
          5.0427879017677215,
          5.054591231704434,
          5.062928824004099,
          5.180532688663176,
          5.079143939406351,
          5.227946699470661,
          4.910072966624383,
          3.7799181935523434,
          3.753969478647692,
          3.732711429795605,
          3.7338883517626065,
          4.617627719912439,
          3.822967691834141,
          3.68507761239413,
          3.7552755614936055,
          3.894947458874375,
          3.719079493814623,
          3.801769094426791,
          3.810478004398575,
          3.8893321753369854,
          3.835527146391352,
          3.8607164673108865,
          3.611413317235241,
          3.609529123284368,
          3.6560011212586434,
          3.5951074388142383,
          3.6260153223607854,
          3.7828496906794666,
          3.8119523925113104,
          3.7345726115745386,
          3.7739671921377567,
          3.7584333591644485,
          3.7514554112098666,
          3.8043765814699584,
          3.7367969794790623,
          3.7628101340758273,
          3.813333196553832,
          3.843929623830897,
          3.768667442713555,
          3.776590093826801
         ],
         "yaxis": "y"
        }
       ],
       "layout": {
        "autosize": true,
        "font": {
         "size": 18
        },
        "legend": {
         "tracegroupgap": 0
        },
        "margin": {
         "t": 60
        },
        "template": {
         "data": {
          "bar": [
           {
            "error_x": {
             "color": "#2a3f5f"
            },
            "error_y": {
             "color": "#2a3f5f"
            },
            "marker": {
             "line": {
              "color": "#E5ECF6",
              "width": 0.5
             }
            },
            "type": "bar"
           }
          ],
          "barpolar": [
           {
            "marker": {
             "line": {
              "color": "#E5ECF6",
              "width": 0.5
             }
            },
            "type": "barpolar"
           }
          ],
          "carpet": [
           {
            "aaxis": {
             "endlinecolor": "#2a3f5f",
             "gridcolor": "white",
             "linecolor": "white",
             "minorgridcolor": "white",
             "startlinecolor": "#2a3f5f"
            },
            "baxis": {
             "endlinecolor": "#2a3f5f",
             "gridcolor": "white",
             "linecolor": "white",
             "minorgridcolor": "white",
             "startlinecolor": "#2a3f5f"
            },
            "type": "carpet"
           }
          ],
          "choropleth": [
           {
            "colorbar": {
             "outlinewidth": 0,
             "ticks": ""
            },
            "type": "choropleth"
           }
          ],
          "contour": [
           {
            "colorbar": {
             "outlinewidth": 0,
             "ticks": ""
            },
            "colorscale": [
             [
              0,
              "#0d0887"
             ],
             [
              0.1111111111111111,
              "#46039f"
             ],
             [
              0.2222222222222222,
              "#7201a8"
             ],
             [
              0.3333333333333333,
              "#9c179e"
             ],
             [
              0.4444444444444444,
              "#bd3786"
             ],
             [
              0.5555555555555556,
              "#d8576b"
             ],
             [
              0.6666666666666666,
              "#ed7953"
             ],
             [
              0.7777777777777778,
              "#fb9f3a"
             ],
             [
              0.8888888888888888,
              "#fdca26"
             ],
             [
              1,
              "#f0f921"
             ]
            ],
            "type": "contour"
           }
          ],
          "contourcarpet": [
           {
            "colorbar": {
             "outlinewidth": 0,
             "ticks": ""
            },
            "type": "contourcarpet"
           }
          ],
          "heatmap": [
           {
            "colorbar": {
             "outlinewidth": 0,
             "ticks": ""
            },
            "colorscale": [
             [
              0,
              "#0d0887"
             ],
             [
              0.1111111111111111,
              "#46039f"
             ],
             [
              0.2222222222222222,
              "#7201a8"
             ],
             [
              0.3333333333333333,
              "#9c179e"
             ],
             [
              0.4444444444444444,
              "#bd3786"
             ],
             [
              0.5555555555555556,
              "#d8576b"
             ],
             [
              0.6666666666666666,
              "#ed7953"
             ],
             [
              0.7777777777777778,
              "#fb9f3a"
             ],
             [
              0.8888888888888888,
              "#fdca26"
             ],
             [
              1,
              "#f0f921"
             ]
            ],
            "type": "heatmap"
           }
          ],
          "heatmapgl": [
           {
            "colorbar": {
             "outlinewidth": 0,
             "ticks": ""
            },
            "colorscale": [
             [
              0,
              "#0d0887"
             ],
             [
              0.1111111111111111,
              "#46039f"
             ],
             [
              0.2222222222222222,
              "#7201a8"
             ],
             [
              0.3333333333333333,
              "#9c179e"
             ],
             [
              0.4444444444444444,
              "#bd3786"
             ],
             [
              0.5555555555555556,
              "#d8576b"
             ],
             [
              0.6666666666666666,
              "#ed7953"
             ],
             [
              0.7777777777777778,
              "#fb9f3a"
             ],
             [
              0.8888888888888888,
              "#fdca26"
             ],
             [
              1,
              "#f0f921"
             ]
            ],
            "type": "heatmapgl"
           }
          ],
          "histogram": [
           {
            "marker": {
             "colorbar": {
              "outlinewidth": 0,
              "ticks": ""
             }
            },
            "type": "histogram"
           }
          ],
          "histogram2d": [
           {
            "colorbar": {
             "outlinewidth": 0,
             "ticks": ""
            },
            "colorscale": [
             [
              0,
              "#0d0887"
             ],
             [
              0.1111111111111111,
              "#46039f"
             ],
             [
              0.2222222222222222,
              "#7201a8"
             ],
             [
              0.3333333333333333,
              "#9c179e"
             ],
             [
              0.4444444444444444,
              "#bd3786"
             ],
             [
              0.5555555555555556,
              "#d8576b"
             ],
             [
              0.6666666666666666,
              "#ed7953"
             ],
             [
              0.7777777777777778,
              "#fb9f3a"
             ],
             [
              0.8888888888888888,
              "#fdca26"
             ],
             [
              1,
              "#f0f921"
             ]
            ],
            "type": "histogram2d"
           }
          ],
          "histogram2dcontour": [
           {
            "colorbar": {
             "outlinewidth": 0,
             "ticks": ""
            },
            "colorscale": [
             [
              0,
              "#0d0887"
             ],
             [
              0.1111111111111111,
              "#46039f"
             ],
             [
              0.2222222222222222,
              "#7201a8"
             ],
             [
              0.3333333333333333,
              "#9c179e"
             ],
             [
              0.4444444444444444,
              "#bd3786"
             ],
             [
              0.5555555555555556,
              "#d8576b"
             ],
             [
              0.6666666666666666,
              "#ed7953"
             ],
             [
              0.7777777777777778,
              "#fb9f3a"
             ],
             [
              0.8888888888888888,
              "#fdca26"
             ],
             [
              1,
              "#f0f921"
             ]
            ],
            "type": "histogram2dcontour"
           }
          ],
          "mesh3d": [
           {
            "colorbar": {
             "outlinewidth": 0,
             "ticks": ""
            },
            "type": "mesh3d"
           }
          ],
          "parcoords": [
           {
            "line": {
             "colorbar": {
              "outlinewidth": 0,
              "ticks": ""
             }
            },
            "type": "parcoords"
           }
          ],
          "pie": [
           {
            "automargin": true,
            "type": "pie"
           }
          ],
          "scatter": [
           {
            "marker": {
             "colorbar": {
              "outlinewidth": 0,
              "ticks": ""
             }
            },
            "type": "scatter"
           }
          ],
          "scatter3d": [
           {
            "line": {
             "colorbar": {
              "outlinewidth": 0,
              "ticks": ""
             }
            },
            "marker": {
             "colorbar": {
              "outlinewidth": 0,
              "ticks": ""
             }
            },
            "type": "scatter3d"
           }
          ],
          "scattercarpet": [
           {
            "marker": {
             "colorbar": {
              "outlinewidth": 0,
              "ticks": ""
             }
            },
            "type": "scattercarpet"
           }
          ],
          "scattergeo": [
           {
            "marker": {
             "colorbar": {
              "outlinewidth": 0,
              "ticks": ""
             }
            },
            "type": "scattergeo"
           }
          ],
          "scattergl": [
           {
            "marker": {
             "colorbar": {
              "outlinewidth": 0,
              "ticks": ""
             }
            },
            "type": "scattergl"
           }
          ],
          "scattermapbox": [
           {
            "marker": {
             "colorbar": {
              "outlinewidth": 0,
              "ticks": ""
             }
            },
            "type": "scattermapbox"
           }
          ],
          "scatterpolar": [
           {
            "marker": {
             "colorbar": {
              "outlinewidth": 0,
              "ticks": ""
             }
            },
            "type": "scatterpolar"
           }
          ],
          "scatterpolargl": [
           {
            "marker": {
             "colorbar": {
              "outlinewidth": 0,
              "ticks": ""
             }
            },
            "type": "scatterpolargl"
           }
          ],
          "scatterternary": [
           {
            "marker": {
             "colorbar": {
              "outlinewidth": 0,
              "ticks": ""
             }
            },
            "type": "scatterternary"
           }
          ],
          "surface": [
           {
            "colorbar": {
             "outlinewidth": 0,
             "ticks": ""
            },
            "colorscale": [
             [
              0,
              "#0d0887"
             ],
             [
              0.1111111111111111,
              "#46039f"
             ],
             [
              0.2222222222222222,
              "#7201a8"
             ],
             [
              0.3333333333333333,
              "#9c179e"
             ],
             [
              0.4444444444444444,
              "#bd3786"
             ],
             [
              0.5555555555555556,
              "#d8576b"
             ],
             [
              0.6666666666666666,
              "#ed7953"
             ],
             [
              0.7777777777777778,
              "#fb9f3a"
             ],
             [
              0.8888888888888888,
              "#fdca26"
             ],
             [
              1,
              "#f0f921"
             ]
            ],
            "type": "surface"
           }
          ],
          "table": [
           {
            "cells": {
             "fill": {
              "color": "#EBF0F8"
             },
             "line": {
              "color": "white"
             }
            },
            "header": {
             "fill": {
              "color": "#C8D4E3"
             },
             "line": {
              "color": "white"
             }
            },
            "type": "table"
           }
          ]
         },
         "layout": {
          "annotationdefaults": {
           "arrowcolor": "#2a3f5f",
           "arrowhead": 0,
           "arrowwidth": 1
          },
          "coloraxis": {
           "colorbar": {
            "outlinewidth": 0,
            "ticks": ""
           }
          },
          "colorscale": {
           "diverging": [
            [
             0,
             "#8e0152"
            ],
            [
             0.1,
             "#c51b7d"
            ],
            [
             0.2,
             "#de77ae"
            ],
            [
             0.3,
             "#f1b6da"
            ],
            [
             0.4,
             "#fde0ef"
            ],
            [
             0.5,
             "#f7f7f7"
            ],
            [
             0.6,
             "#e6f5d0"
            ],
            [
             0.7,
             "#b8e186"
            ],
            [
             0.8,
             "#7fbc41"
            ],
            [
             0.9,
             "#4d9221"
            ],
            [
             1,
             "#276419"
            ]
           ],
           "sequential": [
            [
             0,
             "#0d0887"
            ],
            [
             0.1111111111111111,
             "#46039f"
            ],
            [
             0.2222222222222222,
             "#7201a8"
            ],
            [
             0.3333333333333333,
             "#9c179e"
            ],
            [
             0.4444444444444444,
             "#bd3786"
            ],
            [
             0.5555555555555556,
             "#d8576b"
            ],
            [
             0.6666666666666666,
             "#ed7953"
            ],
            [
             0.7777777777777778,
             "#fb9f3a"
            ],
            [
             0.8888888888888888,
             "#fdca26"
            ],
            [
             1,
             "#f0f921"
            ]
           ],
           "sequentialminus": [
            [
             0,
             "#0d0887"
            ],
            [
             0.1111111111111111,
             "#46039f"
            ],
            [
             0.2222222222222222,
             "#7201a8"
            ],
            [
             0.3333333333333333,
             "#9c179e"
            ],
            [
             0.4444444444444444,
             "#bd3786"
            ],
            [
             0.5555555555555556,
             "#d8576b"
            ],
            [
             0.6666666666666666,
             "#ed7953"
            ],
            [
             0.7777777777777778,
             "#fb9f3a"
            ],
            [
             0.8888888888888888,
             "#fdca26"
            ],
            [
             1,
             "#f0f921"
            ]
           ]
          },
          "colorway": [
           "#636efa",
           "#EF553B",
           "#00cc96",
           "#ab63fa",
           "#FFA15A",
           "#19d3f3",
           "#FF6692",
           "#B6E880",
           "#FF97FF",
           "#FECB52"
          ],
          "font": {
           "color": "#2a3f5f"
          },
          "geo": {
           "bgcolor": "white",
           "lakecolor": "white",
           "landcolor": "#E5ECF6",
           "showlakes": true,
           "showland": true,
           "subunitcolor": "white"
          },
          "hoverlabel": {
           "align": "left"
          },
          "hovermode": "closest",
          "mapbox": {
           "style": "light"
          },
          "paper_bgcolor": "white",
          "plot_bgcolor": "#E5ECF6",
          "polar": {
           "angularaxis": {
            "gridcolor": "white",
            "linecolor": "white",
            "ticks": ""
           },
           "bgcolor": "#E5ECF6",
           "radialaxis": {
            "gridcolor": "white",
            "linecolor": "white",
            "ticks": ""
           }
          },
          "scene": {
           "xaxis": {
            "backgroundcolor": "#E5ECF6",
            "gridcolor": "white",
            "gridwidth": 2,
            "linecolor": "white",
            "showbackground": true,
            "ticks": "",
            "zerolinecolor": "white"
           },
           "yaxis": {
            "backgroundcolor": "#E5ECF6",
            "gridcolor": "white",
            "gridwidth": 2,
            "linecolor": "white",
            "showbackground": true,
            "ticks": "",
            "zerolinecolor": "white"
           },
           "zaxis": {
            "backgroundcolor": "#E5ECF6",
            "gridcolor": "white",
            "gridwidth": 2,
            "linecolor": "white",
            "showbackground": true,
            "ticks": "",
            "zerolinecolor": "white"
           }
          },
          "shapedefaults": {
           "line": {
            "color": "#2a3f5f"
           }
          },
          "ternary": {
           "aaxis": {
            "gridcolor": "white",
            "linecolor": "white",
            "ticks": ""
           },
           "baxis": {
            "gridcolor": "white",
            "linecolor": "white",
            "ticks": ""
           },
           "bgcolor": "#E5ECF6",
           "caxis": {
            "gridcolor": "white",
            "linecolor": "white",
            "ticks": ""
           }
          },
          "title": {
           "x": 0.05
          },
          "xaxis": {
           "automargin": true,
           "gridcolor": "white",
           "linecolor": "white",
           "ticks": "",
           "title": {
            "standoff": 15
           },
           "zerolinecolor": "white",
           "zerolinewidth": 2
          },
          "yaxis": {
           "automargin": true,
           "gridcolor": "white",
           "linecolor": "white",
           "ticks": "",
           "title": {
            "standoff": 15
           },
           "zerolinecolor": "white",
           "zerolinewidth": 2
          }
         }
        },
        "xaxis": {
         "anchor": "y",
         "autorange": true,
         "domain": [
          0,
          1
         ],
         "range": [
          -0.9503781590112528,
          16.95037815901125
         ],
         "title": {
          "text": "Batch ID"
         },
         "type": "category"
        },
        "yaxis": {
         "anchor": "x",
         "autorange": true,
         "domain": [
          0,
          1
         ],
         "range": [
          3.486381181452552,
          5.336672956832348
         ],
         "title": {
          "text": "log<sub>10</sub>(T7 + PR772) NR"
         },
         "type": "linear"
        }
       }
      },
      "image/png": "[encoded data removed]",
      "text/html": [
       "<div>\n",
       "        \n",
       "        \n",
       "            <div id=\"da6fb1e9-e0b5-46c7-ad7a-d524e6e86d71\" class=\"plotly-graph-div\" style=\"height:600px; width:100%;\"></div>\n",
       "            <script type=\"text/javascript\">\n",
       "                require([\"plotly\"], function(Plotly) {\n",
       "                    window.PLOTLYENV=window.PLOTLYENV || {};\n",
       "                    \n",
       "                if (document.getElementById(\"da6fb1e9-e0b5-46c7-ad7a-d524e6e86d71\")) {\n",
       "                    Plotly.newPlot(\n",
       "                        'da6fb1e9-e0b5-46c7-ad7a-d524e6e86d71',\n",
       "                        [{\"customdata\": [[99264.60795910042, \"controlneg\", \"2019-11-21\"], [110353.95480036669, \"controlneg\", \"2019-11-24\"], [113394.30190942615, \"controlneg\", \"2019-11-26\"], [115592.27838843988, \"controlneg\", \"2019-11-27\"], [151541.88626024956, \"controlneg\", \"2019-12-01\"], [119989.69223680561, \"controlneg\", \"2019-12-04\"], [169023.34782414234, \"controlneg\", \"2019-12-10\"], [81296.7092805203, \"controlneg\", \"2019-12-11\"], [6024.460948397478, \"IDBD-D101029\", \"2019-12-11\"], [5675.047209041326, \"IDBD-D101030\", \"2019-12-11\"], [5403.951340526646, \"IDBD-D101031\", \"2019-12-11\"], [5418.6157095621975, \"IDBD-D101032\", \"2019-12-11\"], [41459.84937098144, \"controlneg\", \"2019-12-13\"], [6652.236668416355, \"IDBD-D101074\", \"2019-12-13\"], [4842.589013443285, \"IDBD-D101075\", \"2019-12-13\"], [5692.139847158353, \"IDBD-D101076\", \"2019-12-13\"], [7851.406422252066, \"IDBD-D101077\", \"2019-12-13\"], [5236.962858478826, \"controlneg\", \"2019-12-20\"], [6335.327851558352, \"controlneg\", \"2019-12-24\"], [6463.652568748615, \"controlneg\", \"2019-12-25\"], [7750.54380779208, \"controlneg\", \"2020-01-17\"], [6847.422828544828, \"controlneg\", \"2020-01-18\"], [7256.320679560567, \"controlneg\", \"2020-01-18\"], [4087.081680907999, \"IDBD-D101325\", \"2020-01-20\"], [4069.388217397553, \"IDBD-D101326\", \"2020-01-20\"], [4528.987491931303, \"IDBD-D101327\", \"2020-01-20\"], [3936.474466767371, \"IDBD-D101328\", \"2020-01-20\"], [4226.835267167544, \"IDBD-D101329\", \"2020-01-20\"], [6065.263744791783, \"IDBD-D101330\", \"2020-01-20\"], [6485.633339481331, \"IDBD-D101331\", \"2020-01-20\"], [5427.159827785494, \"IDBD-D101332\", \"2020-01-20\"], [5942.472657614007, \"controlNeg\", \"2020-01-20\"], [5733.678786763884, \"IDBD-D101333\", \"2020-01-20\"], [5642.290092702827, \"IDBD-D101334\", \"2020-01-20\"], [6373.47932698333, \"IDBD-D101335\", \"2020-01-20\"], [5455.027941817089, \"IDBD-D101336\", \"2020-01-20\"], [5791.7543573630555, \"IDBD-D101337\", \"2020-01-20\"], [6506.286699523414, \"IDBD-D101338\", \"2020-01-20\"], [6981.192666955223, \"IDBD-D101339\", \"2020-01-20\"], [5870.396597770782, \"IDBD-D101340\", \"2020-01-20\"], [5978.470544211966, \"controlNeg\", \"2020-01-20\"]], \"hoverlabel\": {\"namelength\": 0}, \"hovertemplate\": \"Batch ID=%{x}<br>log<sub>10</sub>(T7 + PR772) NR=%{y}<br>T7 + PR772 NR=%{customdata[0]}<br>Accession=%{customdata[1]}<br>Run Date=%{customdata[2]}\", \"legendgroup\": \"\", \"marker\": {\"color\": \"#636efa\", \"symbol\": \"circle\"}, \"mode\": \"markers\", \"name\": \"\", \"showlegend\": false, \"type\": \"scatter\", \"x\": [\"191121B01\", \"191123B01\", \"191126B01\", \"191127B01\", \"191130B01\", \"191203B01\", \"191210B01\", \"191210B02\", \"191210B02\", \"191210B02\", \"191210B02\", \"191210B02\", \"191211B02\", \"191211B02\", \"191211B02\", \"191211B02\", \"191211B02\", \"191220B01\", \"191223B01\", \"191223B04\", \"200114B02\", \"200116B03\", \"200117B01\", \"200119B01\", \"200119B01\", \"200119B01\", \"200119B01\", \"200119B01\", \"200119B01\", \"200119B01\", \"200119B01\", \"200119B01\", \"200119B02\", \"200119B02\", \"200119B02\", \"200119B02\", \"200119B02\", \"200119B02\", \"200119B02\", \"200119B02\", \"200119B02\"], \"xaxis\": \"x\", \"y\": [4.996794431699109, 5.0427879017677215, 5.054591231704434, 5.062928824004099, 5.180532688663176, 5.079143939406351, 5.227946699470661, 4.910072966624383, 3.7799181935523434, 3.753969478647692, 3.732711429795605, 3.7338883517626065, 4.617627719912439, 3.822967691834141, 3.68507761239413, 3.7552755614936055, 3.894947458874375, 3.719079493814623, 3.801769094426791, 3.810478004398575, 3.8893321753369854, 3.835527146391352, 3.8607164673108865, 3.611413317235241, 3.609529123284368, 3.6560011212586434, 3.5951074388142383, 3.6260153223607854, 3.7828496906794666, 3.8119523925113104, 3.7345726115745386, 3.7739671921377567, 3.7584333591644485, 3.7514554112098666, 3.8043765814699584, 3.7367969794790623, 3.7628101340758273, 3.813333196553832, 3.843929623830897, 3.768667442713555, 3.776590093826801], \"yaxis\": \"y\"}],\n",
       "                        {\"font\": {\"size\": 18}, \"height\": 600, \"legend\": {\"tracegroupgap\": 0}, \"margin\": {\"t\": 60}, \"template\": {\"data\": {\"bar\": [{\"error_x\": {\"color\": \"#2a3f5f\"}, \"error_y\": {\"color\": \"#2a3f5f\"}, \"marker\": {\"line\": {\"color\": \"#E5ECF6\", \"width\": 0.5}}, \"type\": \"bar\"}], \"barpolar\": [{\"marker\": {\"line\": {\"color\": \"#E5ECF6\", \"width\": 0.5}}, \"type\": \"barpolar\"}], \"carpet\": [{\"aaxis\": {\"endlinecolor\": \"#2a3f5f\", \"gridcolor\": \"white\", \"linecolor\": \"white\", \"minorgridcolor\": \"white\", \"startlinecolor\": \"#2a3f5f\"}, \"baxis\": {\"endlinecolor\": \"#2a3f5f\", \"gridcolor\": \"white\", \"linecolor\": \"white\", \"minorgridcolor\": \"white\", \"startlinecolor\": \"#2a3f5f\"}, \"type\": \"carpet\"}], \"choropleth\": [{\"colorbar\": {\"outlinewidth\": 0, \"ticks\": \"\"}, \"type\": \"choropleth\"}], \"contour\": [{\"colorbar\": {\"outlinewidth\": 0, \"ticks\": \"\"}, \"colorscale\": [[0.0, \"#0d0887\"], [0.1111111111111111, \"#46039f\"], [0.2222222222222222, \"#7201a8\"], [0.3333333333333333, \"#9c179e\"], [0.4444444444444444, \"#bd3786\"], [0.5555555555555556, \"#d8576b\"], [0.6666666666666666, \"#ed7953\"], [0.7777777777777778, \"#fb9f3a\"], [0.8888888888888888, \"#fdca26\"], [1.0, \"#f0f921\"]], \"type\": \"contour\"}], \"contourcarpet\": [{\"colorbar\": {\"outlinewidth\": 0, \"ticks\": \"\"}, \"type\": \"contourcarpet\"}], \"heatmap\": [{\"colorbar\": {\"outlinewidth\": 0, \"ticks\": \"\"}, \"colorscale\": [[0.0, \"#0d0887\"], [0.1111111111111111, \"#46039f\"], [0.2222222222222222, \"#7201a8\"], [0.3333333333333333, \"#9c179e\"], [0.4444444444444444, \"#bd3786\"], [0.5555555555555556, \"#d8576b\"], [0.6666666666666666, \"#ed7953\"], [0.7777777777777778, \"#fb9f3a\"], [0.8888888888888888, \"#fdca26\"], [1.0, \"#f0f921\"]], \"type\": \"heatmap\"}], \"heatmapgl\": [{\"colorbar\": {\"outlinewidth\": 0, \"ticks\": \"\"}, \"colorscale\": [[0.0, \"#0d0887\"], [0.1111111111111111, \"#46039f\"], [0.2222222222222222, \"#7201a8\"], [0.3333333333333333, \"#9c179e\"], [0.4444444444444444, \"#bd3786\"], [0.5555555555555556, \"#d8576b\"], [0.6666666666666666, \"#ed7953\"], [0.7777777777777778, \"#fb9f3a\"], [0.8888888888888888, \"#fdca26\"], [1.0, \"#f0f921\"]], \"type\": \"heatmapgl\"}], \"histogram\": [{\"marker\": {\"colorbar\": {\"outlinewidth\": 0, \"ticks\": \"\"}}, \"type\": \"histogram\"}], \"histogram2d\": [{\"colorbar\": {\"outlinewidth\": 0, \"ticks\": \"\"}, \"colorscale\": [[0.0, \"#0d0887\"], [0.1111111111111111, \"#46039f\"], [0.2222222222222222, \"#7201a8\"], [0.3333333333333333, \"#9c179e\"], [0.4444444444444444, \"#bd3786\"], [0.5555555555555556, \"#d8576b\"], [0.6666666666666666, \"#ed7953\"], [0.7777777777777778, \"#fb9f3a\"], [0.8888888888888888, \"#fdca26\"], [1.0, \"#f0f921\"]], \"type\": \"histogram2d\"}], \"histogram2dcontour\": [{\"colorbar\": {\"outlinewidth\": 0, \"ticks\": \"\"}, \"colorscale\": [[0.0, \"#0d0887\"], [0.1111111111111111, \"#46039f\"], [0.2222222222222222, \"#7201a8\"], [0.3333333333333333, \"#9c179e\"], [0.4444444444444444, \"#bd3786\"], [0.5555555555555556, \"#d8576b\"], [0.6666666666666666, \"#ed7953\"], [0.7777777777777778, \"#fb9f3a\"], [0.8888888888888888, \"#fdca26\"], [1.0, \"#f0f921\"]], \"type\": \"histogram2dcontour\"}], \"mesh3d\": [{\"colorbar\": {\"outlinewidth\": 0, \"ticks\": \"\"}, \"type\": \"mesh3d\"}], \"parcoords\": [{\"line\": {\"colorbar\": {\"outlinewidth\": 0, \"ticks\": \"\"}}, \"type\": \"parcoords\"}], \"pie\": [{\"automargin\": true, \"type\": \"pie\"}], \"scatter\": [{\"marker\": {\"colorbar\": {\"outlinewidth\": 0, \"ticks\": \"\"}}, \"type\": \"scatter\"}], \"scatter3d\": [{\"line\": {\"colorbar\": {\"outlinewidth\": 0, \"ticks\": \"\"}}, \"marker\": {\"colorbar\": {\"outlinewidth\": 0, \"ticks\": \"\"}}, \"type\": \"scatter3d\"}], \"scattercarpet\": [{\"marker\": {\"colorbar\": {\"outlinewidth\": 0, \"ticks\": \"\"}}, \"type\": \"scattercarpet\"}], \"scattergeo\": [{\"marker\": {\"colorbar\": {\"outlinewidth\": 0, \"ticks\": \"\"}}, \"type\": \"scattergeo\"}], \"scattergl\": [{\"marker\": {\"colorbar\": {\"outlinewidth\": 0, \"ticks\": \"\"}}, \"type\": \"scattergl\"}], \"scattermapbox\": [{\"marker\": {\"colorbar\": {\"outlinewidth\": 0, \"ticks\": \"\"}}, \"type\": \"scattermapbox\"}], \"scatterpolar\": [{\"marker\": {\"colorbar\": {\"outlinewidth\": 0, \"ticks\": \"\"}}, \"type\": \"scatterpolar\"}], \"scatterpolargl\": [{\"marker\": {\"colorbar\": {\"outlinewidth\": 0, \"ticks\": \"\"}}, \"type\": \"scatterpolargl\"}], \"scatterternary\": [{\"marker\": {\"colorbar\": {\"outlinewidth\": 0, \"ticks\": \"\"}}, \"type\": \"scatterternary\"}], \"surface\": [{\"colorbar\": {\"outlinewidth\": 0, \"ticks\": \"\"}, \"colorscale\": [[0.0, \"#0d0887\"], [0.1111111111111111, \"#46039f\"], [0.2222222222222222, \"#7201a8\"], [0.3333333333333333, \"#9c179e\"], [0.4444444444444444, \"#bd3786\"], [0.5555555555555556, \"#d8576b\"], [0.6666666666666666, \"#ed7953\"], [0.7777777777777778, \"#fb9f3a\"], [0.8888888888888888, \"#fdca26\"], [1.0, \"#f0f921\"]], \"type\": \"surface\"}], \"table\": [{\"cells\": {\"fill\": {\"color\": \"#EBF0F8\"}, \"line\": {\"color\": \"white\"}}, \"header\": {\"fill\": {\"color\": \"#C8D4E3\"}, \"line\": {\"color\": \"white\"}}, \"type\": \"table\"}]}, \"layout\": {\"annotationdefaults\": {\"arrowcolor\": \"#2a3f5f\", \"arrowhead\": 0, \"arrowwidth\": 1}, \"coloraxis\": {\"colorbar\": {\"outlinewidth\": 0, \"ticks\": \"\"}}, \"colorscale\": {\"diverging\": [[0, \"#8e0152\"], [0.1, \"#c51b7d\"], [0.2, \"#de77ae\"], [0.3, \"#f1b6da\"], [0.4, \"#fde0ef\"], [0.5, \"#f7f7f7\"], [0.6, \"#e6f5d0\"], [0.7, \"#b8e186\"], [0.8, \"#7fbc41\"], [0.9, \"#4d9221\"], [1, \"#276419\"]], \"sequential\": [[0.0, \"#0d0887\"], [0.1111111111111111, \"#46039f\"], [0.2222222222222222, \"#7201a8\"], [0.3333333333333333, \"#9c179e\"], [0.4444444444444444, \"#bd3786\"], [0.5555555555555556, \"#d8576b\"], [0.6666666666666666, \"#ed7953\"], [0.7777777777777778, \"#fb9f3a\"], [0.8888888888888888, \"#fdca26\"], [1.0, \"#f0f921\"]], \"sequentialminus\": [[0.0, \"#0d0887\"], [0.1111111111111111, \"#46039f\"], [0.2222222222222222, \"#7201a8\"], [0.3333333333333333, \"#9c179e\"], [0.4444444444444444, \"#bd3786\"], [0.5555555555555556, \"#d8576b\"], [0.6666666666666666, \"#ed7953\"], [0.7777777777777778, \"#fb9f3a\"], [0.8888888888888888, \"#fdca26\"], [1.0, \"#f0f921\"]]}, \"colorway\": [\"#636efa\", \"#EF553B\", \"#00cc96\", \"#ab63fa\", \"#FFA15A\", \"#19d3f3\", \"#FF6692\", \"#B6E880\", \"#FF97FF\", \"#FECB52\"], \"font\": {\"color\": \"#2a3f5f\"}, \"geo\": {\"bgcolor\": \"white\", \"lakecolor\": \"white\", \"landcolor\": \"#E5ECF6\", \"showlakes\": true, \"showland\": true, \"subunitcolor\": \"white\"}, \"hoverlabel\": {\"align\": \"left\"}, \"hovermode\": \"closest\", \"mapbox\": {\"style\": \"light\"}, \"paper_bgcolor\": \"white\", \"plot_bgcolor\": \"#E5ECF6\", \"polar\": {\"angularaxis\": {\"gridcolor\": \"white\", \"linecolor\": \"white\", \"ticks\": \"\"}, \"bgcolor\": \"#E5ECF6\", \"radialaxis\": {\"gridcolor\": \"white\", \"linecolor\": \"white\", \"ticks\": \"\"}}, \"scene\": {\"xaxis\": {\"backgroundcolor\": \"#E5ECF6\", \"gridcolor\": \"white\", \"gridwidth\": 2, \"linecolor\": \"white\", \"showbackground\": true, \"ticks\": \"\", \"zerolinecolor\": \"white\"}, \"yaxis\": {\"backgroundcolor\": \"#E5ECF6\", \"gridcolor\": \"white\", \"gridwidth\": 2, \"linecolor\": \"white\", \"showbackground\": true, \"ticks\": \"\", \"zerolinecolor\": \"white\"}, \"zaxis\": {\"backgroundcolor\": \"#E5ECF6\", \"gridcolor\": \"white\", \"gridwidth\": 2, \"linecolor\": \"white\", \"showbackground\": true, \"ticks\": \"\", \"zerolinecolor\": \"white\"}}, \"shapedefaults\": {\"line\": {\"color\": \"#2a3f5f\"}}, \"ternary\": {\"aaxis\": {\"gridcolor\": \"white\", \"linecolor\": \"white\", \"ticks\": \"\"}, \"baxis\": {\"gridcolor\": \"white\", \"linecolor\": \"white\", \"ticks\": \"\"}, \"bgcolor\": \"#E5ECF6\", \"caxis\": {\"gridcolor\": \"white\", \"linecolor\": \"white\", \"ticks\": \"\"}}, \"title\": {\"x\": 0.05}, \"xaxis\": {\"automargin\": true, \"gridcolor\": \"white\", \"linecolor\": \"white\", \"ticks\": \"\", \"title\": {\"standoff\": 15}, \"zerolinecolor\": \"white\", \"zerolinewidth\": 2}, \"yaxis\": {\"automargin\": true, \"gridcolor\": \"white\", \"linecolor\": \"white\", \"ticks\": \"\", \"title\": {\"standoff\": 15}, \"zerolinecolor\": \"white\", \"zerolinewidth\": 2}}}, \"xaxis\": {\"anchor\": \"y\", \"domain\": [0.0, 1.0], \"title\": {\"text\": \"Batch ID\"}}, \"yaxis\": {\"anchor\": \"x\", \"domain\": [0.0, 1.0], \"title\": {\"text\": \"log<sub>10</sub>(T7 + PR772) NR\"}}},\n",
       "                        {\"responsive\": true}\n",
       "                    ).then(function(){\n",
       "                            \n",
       "var gd = document.getElementById('da6fb1e9-e0b5-46c7-ad7a-d524e6e86d71');\n",
       "var x = new MutationObserver(function (mutations, observer) {{\n",
       "        var display = window.getComputedStyle(gd).display;\n",
       "        if (!display || display === 'none') {{\n",
       "            console.log([gd, 'removed!']);\n",
       "            Plotly.purge(gd);\n",
       "            observer.disconnect();\n",
       "        }}\n",
       "}});\n",
       "\n",
       "// Listen for the removal of the full notebook cells\n",
       "var notebookContainer = gd.closest('#notebook-container');\n",
       "if (notebookContainer) {{\n",
       "    x.observe(notebookContainer, {childList: true});\n",
       "}}\n",
       "\n",
       "// Listen for the clearing of the current output cell\n",
       "var outputEl = gd.closest('.output');\n",
       "if (outputEl) {{\n",
       "    x.observe(outputEl, {childList: true});\n",
       "}}\n",
       "\n",
       "                        })\n",
       "                };\n",
       "                });\n",
       "            </script>\n",
       "        </div>"
      ]
     },
     "metadata": {},
     "output_type": "display_data"
    }
   ],
   "source": [
    "fig = px.scatter(\n",
    "    merged_with_new_neg, y='Log10 T7 + PR772 NR (Composition File)',\n",
    "    x='Batch ID',\n",
    "    labels={'Log10 T7 + PR772 NR (Composition File)': 'log<sub>10</sub>(T7 + PR772) NR',\n",
    "            'T7 + PR772 NR (Composition File)': 'T7 + PR772 NR'},\n",
    "    hover_data=['T7 + PR772 NR (Composition File)', 'Accession', 'Run Date']\n",
    ")\n",
    "fig.update_layout(font=dict(size=18), height=600)\n",
    "fig.show()\n",
    "fig.write_html('plots/Diluted_Hi_IC_vs_Low_IC_by_batch.html')"
   ]
  },
  {
   "cell_type": "code",
   "execution_count": 83,
   "metadata": {},
   "outputs": [
    {
     "data": {
      "text/plain": [
       "Index(['Accession', 'Bacteria', 'Batch ID', 'Composition File', 'Fungus',\n",
       "       'Human', 'IC', 'Library Type', 'Log10 T7 + PR772 NR',\n",
       "       'Log10 T7 + PR772 NR (Composition File)', 'PR772 Normalized Reads',\n",
       "       'PR772 Raw Reads', 'Parasite', 'Run Date', 'Sample Name', 'Seq Sple',\n",
       "       'Summary - Composition (log10)', 'T4 Normalized (Composition File)',\n",
       "       'T4 Raw Reads (Composition File)', 'T7 + PR772 NR',\n",
       "       'T7 + PR772 NR (Composition File)', 'T7 Normalized (Composition File)',\n",
       "       'T7 Normalized Reads', 'T7 Raw Reads',\n",
       "       'T7 Raw Reads (Composition File)', 'Total Reads',\n",
       "       'Total Reads (Composition File)', 'Unclassified', 'Virus'],\n",
       "      dtype='object')"
      ]
     },
     "execution_count": 83,
     "metadata": {},
     "output_type": "execute_result"
    }
   ],
   "source": [
    "merged_with_new_neg.columns"
   ]
  },
  {
   "cell_type": "code",
   "execution_count": 87,
   "metadata": {},
   "outputs": [
    {
     "data": {
      "application/vnd.plotly.v1+json": {
       "config": {
        "plotlyServerURL": "https://plot.ly"
       },
       "data": [
        {
         "alignmentgroup": "True",
         "boxpoints": "all",
         "customdata": [
          [
           "2019-11-21"
          ],
          [
           "2019-11-21"
          ],
          [
           "2019-11-21"
          ],
          [
           "2019-11-21"
          ],
          [
           "2019-11-21"
          ],
          [
           "2019-11-21"
          ],
          [
           "2019-11-24"
          ],
          [
           "2019-11-24"
          ],
          [
           "2019-11-24"
          ],
          [
           "2019-11-24"
          ],
          [
           "2019-11-24"
          ],
          [
           "2019-11-24"
          ],
          [
           "2019-11-26"
          ],
          [
           "2019-11-26"
          ],
          [
           "2019-11-26"
          ],
          [
           "2019-11-26"
          ],
          [
           "2019-11-26"
          ],
          [
           "2019-11-26"
          ],
          [
           "2019-11-27"
          ],
          [
           "2019-11-27"
          ],
          [
           "2019-11-27"
          ],
          [
           "2019-11-27"
          ],
          [
           "2019-11-27"
          ],
          [
           "2019-11-27"
          ],
          [
           "2019-12-01"
          ],
          [
           "2019-12-01"
          ],
          [
           "2019-12-01"
          ],
          [
           "2019-12-01"
          ],
          [
           "2019-12-01"
          ],
          [
           "2019-12-01"
          ],
          [
           "2019-12-04"
          ],
          [
           "2019-12-04"
          ],
          [
           "2019-12-04"
          ],
          [
           "2019-12-04"
          ],
          [
           "2019-12-04"
          ],
          [
           "2019-12-04"
          ],
          [
           "2019-12-10"
          ],
          [
           "2019-12-10"
          ],
          [
           "2019-12-10"
          ],
          [
           "2019-12-10"
          ],
          [
           "2019-12-10"
          ],
          [
           "2019-12-10"
          ]
         ],
         "hoverlabel": {
          "namelength": 0
         },
         "hovertemplate": "Neg Ctrl Matrix=Old<br>Organism=%{x}<br>% Composition=%{y}<br>Run Date=%{customdata[0]}",
         "legendgroup": "Neg Ctrl Matrix=Old",
         "marker": {
          "color": "#636efa"
         },
         "name": "Neg Ctrl Matrix=Old",
         "notched": false,
         "offsetgroup": "Neg Ctrl Matrix=Old",
         "orientation": "v",
         "showlegend": true,
         "type": "box",
         "x": [
          "Human",
          "Virus",
          "Unclassified",
          "Parasite",
          "Fungus",
          "Bacteria",
          "Human",
          "Virus",
          "Unclassified",
          "Bacteria",
          "Parasite",
          "Fungus",
          "Human",
          "Fungus",
          "Parasite",
          "Virus",
          "Bacteria",
          "Unclassified",
          "Fungus",
          "Parasite",
          "Unclassified",
          "Bacteria",
          "Virus",
          "Human",
          "Parasite",
          "Human",
          "Fungus",
          "Bacteria",
          "Virus",
          "Unclassified",
          "Virus",
          "Parasite",
          "Human",
          "Fungus",
          "Bacteria",
          "Unclassified",
          "Bacteria",
          "Fungus",
          "Virus",
          "Human",
          "Parasite",
          "Unclassified"
         ],
         "x0": " ",
         "xaxis": "x",
         "y": [
          0.7930514586857329,
          1.4972034994802401,
          62.34470503099991,
          0.08081509483792526,
          0.10946661099550467,
          35.174758305000694,
          0.8817071325347272,
          1.6360784374588848,
          61.988766934165966,
          35.28999941093952,
          0.08039440949861783,
          0.12305367540228067,
          0.6219610344079578,
          0.1033184583902778,
          0.1110664932043278,
          1.648292458862636,
          35.43027929739824,
          62.085082257736566,
          0.1807737696492336,
          0.17993552427617218,
          62.67684925722081,
          33.657064087200034,
          1.7028808207348376,
          1.6024965409189185,
          0.08727378807261818,
          0.8654987043488971,
          0.11937016115554835,
          35.08228665039362,
          2.1036490382704844,
          61.74192165775883,
          1.7681285346078384,
          0.12909095024110534,
          0.8336343923975765,
          0.2556974187085221,
          34.620391321761886,
          62.39305738228307,
          33.102240490727375,
          0.23745227674830055,
          2.34631591527826,
          1.0271854811332306,
          0.0838726754276304,
          63.20293316068521
         ],
         "y0": " ",
         "yaxis": "y"
        },
        {
         "alignmentgroup": "True",
         "boxpoints": "all",
         "customdata": [
          [
           "2019-12-11"
          ],
          [
           "2019-12-11"
          ],
          [
           "2019-12-11"
          ],
          [
           "2019-12-11"
          ],
          [
           "2019-12-11"
          ],
          [
           "2019-12-11"
          ],
          [
           "2019-12-11"
          ],
          [
           "2019-12-11"
          ],
          [
           "2019-12-11"
          ],
          [
           "2019-12-11"
          ],
          [
           "2019-12-11"
          ],
          [
           "2019-12-11"
          ],
          [
           "2019-12-11"
          ],
          [
           "2019-12-11"
          ],
          [
           "2019-12-11"
          ],
          [
           "2019-12-11"
          ],
          [
           "2019-12-11"
          ],
          [
           "2019-12-11"
          ],
          [
           "2019-12-11"
          ],
          [
           "2019-12-11"
          ],
          [
           "2019-12-11"
          ],
          [
           "2019-12-11"
          ],
          [
           "2019-12-11"
          ],
          [
           "2019-12-11"
          ],
          [
           "2019-12-11"
          ],
          [
           "2019-12-11"
          ],
          [
           "2019-12-11"
          ],
          [
           "2019-12-11"
          ],
          [
           "2019-12-11"
          ],
          [
           "2019-12-11"
          ],
          [
           "2019-12-13"
          ],
          [
           "2019-12-13"
          ],
          [
           "2019-12-13"
          ],
          [
           "2019-12-13"
          ],
          [
           "2019-12-13"
          ],
          [
           "2019-12-13"
          ],
          [
           "2019-12-13"
          ],
          [
           "2019-12-13"
          ],
          [
           "2019-12-13"
          ],
          [
           "2019-12-13"
          ],
          [
           "2019-12-13"
          ],
          [
           "2019-12-13"
          ],
          [
           "2019-12-13"
          ],
          [
           "2019-12-13"
          ],
          [
           "2019-12-13"
          ],
          [
           "2019-12-13"
          ],
          [
           "2019-12-13"
          ],
          [
           "2019-12-13"
          ],
          [
           "2019-12-13"
          ],
          [
           "2019-12-13"
          ],
          [
           "2019-12-13"
          ],
          [
           "2019-12-13"
          ],
          [
           "2019-12-13"
          ],
          [
           "2019-12-13"
          ],
          [
           "2019-12-13"
          ],
          [
           "2019-12-13"
          ],
          [
           "2019-12-13"
          ],
          [
           "2019-12-13"
          ],
          [
           "2019-12-13"
          ],
          [
           "2019-12-13"
          ],
          [
           "2019-12-20"
          ],
          [
           "2019-12-20"
          ],
          [
           "2019-12-20"
          ],
          [
           "2019-12-20"
          ],
          [
           "2019-12-20"
          ],
          [
           "2019-12-20"
          ],
          [
           "2019-12-24"
          ],
          [
           "2019-12-24"
          ],
          [
           "2019-12-24"
          ],
          [
           "2019-12-24"
          ],
          [
           "2019-12-24"
          ],
          [
           "2019-12-24"
          ],
          [
           "2019-12-25"
          ],
          [
           "2019-12-25"
          ],
          [
           "2019-12-25"
          ],
          [
           "2019-12-25"
          ],
          [
           "2019-12-25"
          ],
          [
           "2019-12-25"
          ],
          [
           "2020-01-17"
          ],
          [
           "2020-01-17"
          ],
          [
           "2020-01-17"
          ],
          [
           "2020-01-17"
          ],
          [
           "2020-01-17"
          ],
          [
           "2020-01-17"
          ],
          [
           "2020-01-18"
          ],
          [
           "2020-01-18"
          ],
          [
           "2020-01-18"
          ],
          [
           "2020-01-18"
          ],
          [
           "2020-01-18"
          ],
          [
           "2020-01-18"
          ],
          [
           "2020-01-18"
          ],
          [
           "2020-01-18"
          ],
          [
           "2020-01-18"
          ],
          [
           "2020-01-18"
          ],
          [
           "2020-01-18"
          ],
          [
           "2020-01-18"
          ],
          [
           "2020-01-20"
          ],
          [
           "2020-01-20"
          ],
          [
           "2020-01-20"
          ],
          [
           "2020-01-20"
          ],
          [
           "2020-01-20"
          ],
          [
           "2020-01-20"
          ],
          [
           "2020-01-20"
          ],
          [
           "2020-01-20"
          ],
          [
           "2020-01-20"
          ],
          [
           "2020-01-20"
          ],
          [
           "2020-01-20"
          ],
          [
           "2020-01-20"
          ],
          [
           "2020-01-20"
          ],
          [
           "2020-01-20"
          ],
          [
           "2020-01-20"
          ],
          [
           "2020-01-20"
          ],
          [
           "2020-01-20"
          ],
          [
           "2020-01-20"
          ],
          [
           "2020-01-20"
          ],
          [
           "2020-01-20"
          ],
          [
           "2020-01-20"
          ],
          [
           "2020-01-20"
          ],
          [
           "2020-01-20"
          ],
          [
           "2020-01-20"
          ],
          [
           "2020-01-20"
          ],
          [
           "2020-01-20"
          ],
          [
           "2020-01-20"
          ],
          [
           "2020-01-20"
          ],
          [
           "2020-01-20"
          ],
          [
           "2020-01-20"
          ],
          [
           "2020-01-20"
          ],
          [
           "2020-01-20"
          ],
          [
           "2020-01-20"
          ],
          [
           "2020-01-20"
          ],
          [
           "2020-01-20"
          ],
          [
           "2020-01-20"
          ],
          [
           "2020-01-20"
          ],
          [
           "2020-01-20"
          ],
          [
           "2020-01-20"
          ],
          [
           "2020-01-20"
          ],
          [
           "2020-01-20"
          ],
          [
           "2020-01-20"
          ],
          [
           "2020-01-20"
          ],
          [
           "2020-01-20"
          ],
          [
           "2020-01-20"
          ],
          [
           "2020-01-20"
          ],
          [
           "2020-01-20"
          ],
          [
           "2020-01-20"
          ],
          [
           "2020-01-20"
          ],
          [
           "2020-01-20"
          ],
          [
           "2020-01-20"
          ],
          [
           "2020-01-20"
          ],
          [
           "2020-01-20"
          ],
          [
           "2020-01-20"
          ],
          [
           "2020-01-20"
          ],
          [
           "2020-01-20"
          ],
          [
           "2020-01-20"
          ],
          [
           "2020-01-20"
          ],
          [
           "2020-01-20"
          ],
          [
           "2020-01-20"
          ],
          [
           "2020-01-20"
          ],
          [
           "2020-01-20"
          ],
          [
           "2020-01-20"
          ],
          [
           "2020-01-20"
          ],
          [
           "2020-01-20"
          ],
          [
           "2020-01-20"
          ],
          [
           "2020-01-20"
          ],
          [
           "2020-01-20"
          ],
          [
           "2020-01-20"
          ],
          [
           "2020-01-20"
          ],
          [
           "2020-01-20"
          ],
          [
           "2020-01-20"
          ],
          [
           "2020-01-20"
          ],
          [
           "2020-01-20"
          ],
          [
           "2020-01-20"
          ],
          [
           "2020-01-20"
          ],
          [
           "2020-01-20"
          ],
          [
           "2020-01-20"
          ],
          [
           "2020-01-20"
          ],
          [
           "2020-01-20"
          ],
          [
           "2020-01-20"
          ],
          [
           "2020-01-20"
          ],
          [
           "2020-01-20"
          ],
          [
           "2020-01-20"
          ],
          [
           "2020-01-20"
          ],
          [
           "2020-01-20"
          ],
          [
           "2020-01-20"
          ],
          [
           "2020-01-20"
          ],
          [
           "2020-01-20"
          ],
          [
           "2020-01-20"
          ],
          [
           "2020-01-20"
          ],
          [
           "2020-01-20"
          ],
          [
           "2020-01-20"
          ],
          [
           "2020-01-20"
          ],
          [
           "2020-01-20"
          ],
          [
           "2020-01-20"
          ],
          [
           "2020-01-20"
          ],
          [
           "2020-01-20"
          ],
          [
           "2020-01-20"
          ],
          [
           "2020-01-20"
          ],
          [
           "2020-01-20"
          ],
          [
           "2020-01-20"
          ],
          [
           "2020-01-20"
          ],
          [
           "2020-01-20"
          ],
          [
           "2020-01-20"
          ],
          [
           "2020-01-20"
          ],
          [
           "2020-01-20"
          ],
          [
           "2020-01-20"
          ]
         ],
         "hoverlabel": {
          "namelength": 0
         },
         "hovertemplate": "Neg Ctrl Matrix=New<br>Organism=%{x}<br>% Composition=%{y}<br>Run Date=%{customdata[0]}",
         "legendgroup": "Neg Ctrl Matrix=New",
         "marker": {
          "color": "#EF553B"
         },
         "name": "Neg Ctrl Matrix=New",
         "notched": false,
         "offsetgroup": "Neg Ctrl Matrix=New",
         "orientation": "v",
         "showlegend": true,
         "type": "box",
         "x": [
          "Human",
          "Human",
          "Human",
          "Human",
          "Human",
          "Unclassified",
          "Virus",
          "Virus",
          "Virus",
          "Unclassified",
          "Unclassified",
          "Unclassified",
          "Virus",
          "Virus",
          "Unclassified",
          "Parasite",
          "Fungus",
          "Parasite",
          "Parasite",
          "Parasite",
          "Parasite",
          "Fungus",
          "Fungus",
          "Fungus",
          "Fungus",
          "Bacteria",
          "Bacteria",
          "Bacteria",
          "Bacteria",
          "Bacteria",
          "Human",
          "Parasite",
          "Parasite",
          "Parasite",
          "Parasite",
          "Fungus",
          "Human",
          "Fungus",
          "Fungus",
          "Fungus",
          "Virus",
          "Virus",
          "Virus",
          "Virus",
          "Parasite",
          "Fungus",
          "Virus",
          "Human",
          "Bacteria",
          "Bacteria",
          "Bacteria",
          "Human",
          "Bacteria",
          "Unclassified",
          "Bacteria",
          "Unclassified",
          "Unclassified",
          "Human",
          "Unclassified",
          "Unclassified",
          "Human",
          "Unclassified",
          "Virus",
          "Bacteria",
          "Parasite",
          "Fungus",
          "Bacteria",
          "Fungus",
          "Human",
          "Virus",
          "Parasite",
          "Unclassified",
          "Virus",
          "Fungus",
          "Parasite",
          "Bacteria",
          "Unclassified",
          "Human",
          "Human",
          "Virus",
          "Bacteria",
          "Fungus",
          "Unclassified",
          "Parasite",
          "Human",
          "Unclassified",
          "Unclassified",
          "Fungus",
          "Fungus",
          "Parasite",
          "Parasite",
          "Human",
          "Bacteria",
          "Virus",
          "Virus",
          "Bacteria",
          "Unclassified",
          "Unclassified",
          "Unclassified",
          "Unclassified",
          "Unclassified",
          "Unclassified",
          "Unclassified",
          "Unclassified",
          "Unclassified",
          "Unclassified",
          "Unclassified",
          "Unclassified",
          "Unclassified",
          "Unclassified",
          "Unclassified",
          "Parasite",
          "Parasite",
          "Parasite",
          "Parasite",
          "Parasite",
          "Parasite",
          "Parasite",
          "Parasite",
          "Parasite",
          "Parasite",
          "Parasite",
          "Parasite",
          "Parasite",
          "Parasite",
          "Parasite",
          "Parasite",
          "Parasite",
          "Parasite",
          "Unclassified",
          "Virus",
          "Fungus",
          "Bacteria",
          "Bacteria",
          "Bacteria",
          "Bacteria",
          "Bacteria",
          "Bacteria",
          "Bacteria",
          "Bacteria",
          "Bacteria",
          "Bacteria",
          "Bacteria",
          "Bacteria",
          "Bacteria",
          "Bacteria",
          "Bacteria",
          "Human",
          "Human",
          "Human",
          "Human",
          "Human",
          "Human",
          "Human",
          "Human",
          "Human",
          "Human",
          "Human",
          "Human",
          "Human",
          "Human",
          "Human",
          "Human",
          "Human",
          "Human",
          "Bacteria",
          "Fungus",
          "Bacteria",
          "Virus",
          "Fungus",
          "Fungus",
          "Fungus",
          "Fungus",
          "Fungus",
          "Fungus",
          "Fungus",
          "Fungus",
          "Fungus",
          "Fungus",
          "Fungus",
          "Fungus",
          "Fungus",
          "Fungus",
          "Fungus",
          "Fungus",
          "Unclassified",
          "Virus",
          "Virus",
          "Virus",
          "Virus",
          "Virus",
          "Virus",
          "Virus",
          "Virus",
          "Virus",
          "Virus",
          "Virus",
          "Virus",
          "Virus",
          "Virus",
          "Virus",
          "Virus",
          "Bacteria",
          "Unclassified"
         ],
         "x0": " ",
         "xaxis": "x",
         "y": [
          1.5736610898500714,
          0.041146894661965486,
          0.06032314103557245,
          0.050721822040230735,
          0.10239551260683863,
          62.81356209600201,
          0.07720933278040902,
          0.07164263044566929,
          0.07119586334698269,
          66.21606322034282,
          66.25079953372986,
          66.30835774370841,
          0.07348018147784137,
          1.243541385607959,
          66.49868945032313,
          0.12202154248078095,
          0.06808682547409145,
          0.07210007400984549,
          0.07234654613947357,
          0.07609767761604448,
          0.07569737689500156,
          0.10079874208064513,
          0.058714834948122935,
          0.061435116381970176,
          0.059808111904833074,
          33.475486424761556,
          33.49137699136205,
          33.41740556216461,
          34.14641514397854,
          33.24941913184269,
          2.1730853355583277,
          0.11682496352834525,
          0.08519924594102239,
          0.07630030494352102,
          0.10182849919626913,
          0.0813846971219275,
          4.550462456244858,
          0.17922548437674274,
          0.07857664390327708,
          0.08007351578476611,
          0.60798140054046,
          0.08454251176475205,
          0.06455353691534596,
          0.0994952345239446,
          0.07720649845158663,
          0.2739892399581859,
          0.08651759536028332,
          0.701975637714712,
          59.80310366914246,
          34.9556215884862,
          42.09244942662029,
          0.3382510844822403,
          36.18081079598442,
          63.499151209460756,
          39.272358452433906,
          62.62147780246493,
          57.349869003135325,
          0.06195156445735645,
          59.658094330918075,
          34.6476382705857,
          0.16271097722486544,
          65.08912979320858,
          0.06839040172692885,
          34.53972517295918,
          0.07544264938701985,
          0.06460100549341607,
          35.52790656495151,
          0.06586391389865957,
          0.04866843004853485,
          0.08076666656876767,
          0.12240531754468954,
          64.15438910698785,
          0.08263596965189265,
          0.06683065315755364,
          0.16207098277818902,
          35.5531856023825,
          63.15325752417126,
          0.9820192678586066,
          1.0669868926059185,
          0.09893423065242672,
          36.41324684357248,
          0.2164563154698605,
          62.11692119735466,
          0.08745452034465569,
          0.032552107443433766,
          64.12724429930755,
          64.19662972565054,
          0.0624563472165541,
          0.06510310374846344,
          0.07524202991831236,
          0.07823574521483845,
          0.21426941339875025,
          35.3531065787741,
          0.08699078542050731,
          0.0926554332133083,
          35.61551443069364,
          64.2902527104238,
          64.43313478741418,
          63.894786850992546,
          63.88981989574904,
          64.41525460008185,
          64.17555615662793,
          65.16837402155737,
          64.31154319847658,
          64.24245146743722,
          64.87837028318113,
          64.12182915642789,
          64.46405262227123,
          64.37238731924722,
          64.02000813911016,
          64.10118797451706,
          0.0747816451381778,
          0.07435967503545449,
          0.07802590315659429,
          0.07450775592472418,
          0.07441299390063277,
          0.07841936282269968,
          0.07413435880109022,
          0.07625296773044524,
          0.07524557968036961,
          0.0741647686629716,
          0.07591745622497989,
          0.07559296284022805,
          0.07554059461702632,
          0.07333585455004389,
          0.07570226045785766,
          0.07669702884200431,
          0.07606614597236933,
          0.07298519187813911,
          64.79129225865519,
          0.07541981278481857,
          0.0655078670977507,
          35.64255819023696,
          34.87530713634334,
          35.534313266514296,
          35.389349500325935,
          34.58887663543026,
          35.57550223163668,
          35.28807643889736,
          35.275273003631455,
          35.76864247919571,
          35.27816803617585,
          35.201990520269696,
          35.66313552052737,
          35.529043529167645,
          35.33085903077378,
          35.819577414817545,
          0.2054029593574232,
          0.035227023887730524,
          0.07049009967148502,
          0.0422794988975159,
          0.032367081201082844,
          0.0361749315393255,
          0.025184777065111127,
          0.09710958339499506,
          0.02710433324331601,
          0.06889500617031451,
          0.09818602131184442,
          0.06556002283031383,
          0.1088854542214031,
          0.055336237649915125,
          0.2590292232994632,
          0.10705926653327327,
          0.07625848500118568,
          0.06257516913953401,
          34.910191942905804,
          0.0695022582432405,
          35.72779565446678,
          0.0531682307162368,
          0.07758657333782654,
          0.06844630672280202,
          0.07233074007531498,
          0.06398367474482866,
          0.09364537515814536,
          0.0674597347550436,
          0.07465021839945454,
          0.07285226066384606,
          0.0856792199262281,
          0.09170898702141764,
          0.06447443455117413,
          0.06866274158169315,
          0.07448741464086732,
          0.06548358721603999,
          0.07793906196900433,
          0.07572618037564982,
          64.023548464327,
          0.07493579834258826,
          0.052893093276734963,
          0.05922522104833242,
          0.05157827910397759,
          0.05515922180244682,
          0.07724834112359852,
          0.0823500496951126,
          0.06969228141872126,
          0.07593743820880201,
          0.07450057394096002,
          0.07351695017084646,
          0.08110110276065266,
          0.06972967643779726,
          0.07493849300450557,
          0.08362492022622743,
          0.08818243651602582,
          35.55234860197774,
          64.0225447224986
         ],
         "y0": " ",
         "yaxis": "y"
        }
       ],
       "layout": {
        "autosize": true,
        "boxmode": "group",
        "font": {
         "size": 18
        },
        "legend": {
         "tracegroupgap": 0
        },
        "margin": {
         "t": 60
        },
        "template": {
         "data": {
          "bar": [
           {
            "error_x": {
             "color": "#2a3f5f"
            },
            "error_y": {
             "color": "#2a3f5f"
            },
            "marker": {
             "line": {
              "color": "#E5ECF6",
              "width": 0.5
             }
            },
            "type": "bar"
           }
          ],
          "barpolar": [
           {
            "marker": {
             "line": {
              "color": "#E5ECF6",
              "width": 0.5
             }
            },
            "type": "barpolar"
           }
          ],
          "carpet": [
           {
            "aaxis": {
             "endlinecolor": "#2a3f5f",
             "gridcolor": "white",
             "linecolor": "white",
             "minorgridcolor": "white",
             "startlinecolor": "#2a3f5f"
            },
            "baxis": {
             "endlinecolor": "#2a3f5f",
             "gridcolor": "white",
             "linecolor": "white",
             "minorgridcolor": "white",
             "startlinecolor": "#2a3f5f"
            },
            "type": "carpet"
           }
          ],
          "choropleth": [
           {
            "colorbar": {
             "outlinewidth": 0,
             "ticks": ""
            },
            "type": "choropleth"
           }
          ],
          "contour": [
           {
            "colorbar": {
             "outlinewidth": 0,
             "ticks": ""
            },
            "colorscale": [
             [
              0,
              "#0d0887"
             ],
             [
              0.1111111111111111,
              "#46039f"
             ],
             [
              0.2222222222222222,
              "#7201a8"
             ],
             [
              0.3333333333333333,
              "#9c179e"
             ],
             [
              0.4444444444444444,
              "#bd3786"
             ],
             [
              0.5555555555555556,
              "#d8576b"
             ],
             [
              0.6666666666666666,
              "#ed7953"
             ],
             [
              0.7777777777777778,
              "#fb9f3a"
             ],
             [
              0.8888888888888888,
              "#fdca26"
             ],
             [
              1,
              "#f0f921"
             ]
            ],
            "type": "contour"
           }
          ],
          "contourcarpet": [
           {
            "colorbar": {
             "outlinewidth": 0,
             "ticks": ""
            },
            "type": "contourcarpet"
           }
          ],
          "heatmap": [
           {
            "colorbar": {
             "outlinewidth": 0,
             "ticks": ""
            },
            "colorscale": [
             [
              0,
              "#0d0887"
             ],
             [
              0.1111111111111111,
              "#46039f"
             ],
             [
              0.2222222222222222,
              "#7201a8"
             ],
             [
              0.3333333333333333,
              "#9c179e"
             ],
             [
              0.4444444444444444,
              "#bd3786"
             ],
             [
              0.5555555555555556,
              "#d8576b"
             ],
             [
              0.6666666666666666,
              "#ed7953"
             ],
             [
              0.7777777777777778,
              "#fb9f3a"
             ],
             [
              0.8888888888888888,
              "#fdca26"
             ],
             [
              1,
              "#f0f921"
             ]
            ],
            "type": "heatmap"
           }
          ],
          "heatmapgl": [
           {
            "colorbar": {
             "outlinewidth": 0,
             "ticks": ""
            },
            "colorscale": [
             [
              0,
              "#0d0887"
             ],
             [
              0.1111111111111111,
              "#46039f"
             ],
             [
              0.2222222222222222,
              "#7201a8"
             ],
             [
              0.3333333333333333,
              "#9c179e"
             ],
             [
              0.4444444444444444,
              "#bd3786"
             ],
             [
              0.5555555555555556,
              "#d8576b"
             ],
             [
              0.6666666666666666,
              "#ed7953"
             ],
             [
              0.7777777777777778,
              "#fb9f3a"
             ],
             [
              0.8888888888888888,
              "#fdca26"
             ],
             [
              1,
              "#f0f921"
             ]
            ],
            "type": "heatmapgl"
           }
          ],
          "histogram": [
           {
            "marker": {
             "colorbar": {
              "outlinewidth": 0,
              "ticks": ""
             }
            },
            "type": "histogram"
           }
          ],
          "histogram2d": [
           {
            "colorbar": {
             "outlinewidth": 0,
             "ticks": ""
            },
            "colorscale": [
             [
              0,
              "#0d0887"
             ],
             [
              0.1111111111111111,
              "#46039f"
             ],
             [
              0.2222222222222222,
              "#7201a8"
             ],
             [
              0.3333333333333333,
              "#9c179e"
             ],
             [
              0.4444444444444444,
              "#bd3786"
             ],
             [
              0.5555555555555556,
              "#d8576b"
             ],
             [
              0.6666666666666666,
              "#ed7953"
             ],
             [
              0.7777777777777778,
              "#fb9f3a"
             ],
             [
              0.8888888888888888,
              "#fdca26"
             ],
             [
              1,
              "#f0f921"
             ]
            ],
            "type": "histogram2d"
           }
          ],
          "histogram2dcontour": [
           {
            "colorbar": {
             "outlinewidth": 0,
             "ticks": ""
            },
            "colorscale": [
             [
              0,
              "#0d0887"
             ],
             [
              0.1111111111111111,
              "#46039f"
             ],
             [
              0.2222222222222222,
              "#7201a8"
             ],
             [
              0.3333333333333333,
              "#9c179e"
             ],
             [
              0.4444444444444444,
              "#bd3786"
             ],
             [
              0.5555555555555556,
              "#d8576b"
             ],
             [
              0.6666666666666666,
              "#ed7953"
             ],
             [
              0.7777777777777778,
              "#fb9f3a"
             ],
             [
              0.8888888888888888,
              "#fdca26"
             ],
             [
              1,
              "#f0f921"
             ]
            ],
            "type": "histogram2dcontour"
           }
          ],
          "mesh3d": [
           {
            "colorbar": {
             "outlinewidth": 0,
             "ticks": ""
            },
            "type": "mesh3d"
           }
          ],
          "parcoords": [
           {
            "line": {
             "colorbar": {
              "outlinewidth": 0,
              "ticks": ""
             }
            },
            "type": "parcoords"
           }
          ],
          "pie": [
           {
            "automargin": true,
            "type": "pie"
           }
          ],
          "scatter": [
           {
            "marker": {
             "colorbar": {
              "outlinewidth": 0,
              "ticks": ""
             }
            },
            "type": "scatter"
           }
          ],
          "scatter3d": [
           {
            "line": {
             "colorbar": {
              "outlinewidth": 0,
              "ticks": ""
             }
            },
            "marker": {
             "colorbar": {
              "outlinewidth": 0,
              "ticks": ""
             }
            },
            "type": "scatter3d"
           }
          ],
          "scattercarpet": [
           {
            "marker": {
             "colorbar": {
              "outlinewidth": 0,
              "ticks": ""
             }
            },
            "type": "scattercarpet"
           }
          ],
          "scattergeo": [
           {
            "marker": {
             "colorbar": {
              "outlinewidth": 0,
              "ticks": ""
             }
            },
            "type": "scattergeo"
           }
          ],
          "scattergl": [
           {
            "marker": {
             "colorbar": {
              "outlinewidth": 0,
              "ticks": ""
             }
            },
            "type": "scattergl"
           }
          ],
          "scattermapbox": [
           {
            "marker": {
             "colorbar": {
              "outlinewidth": 0,
              "ticks": ""
             }
            },
            "type": "scattermapbox"
           }
          ],
          "scatterpolar": [
           {
            "marker": {
             "colorbar": {
              "outlinewidth": 0,
              "ticks": ""
             }
            },
            "type": "scatterpolar"
           }
          ],
          "scatterpolargl": [
           {
            "marker": {
             "colorbar": {
              "outlinewidth": 0,
              "ticks": ""
             }
            },
            "type": "scatterpolargl"
           }
          ],
          "scatterternary": [
           {
            "marker": {
             "colorbar": {
              "outlinewidth": 0,
              "ticks": ""
             }
            },
            "type": "scatterternary"
           }
          ],
          "surface": [
           {
            "colorbar": {
             "outlinewidth": 0,
             "ticks": ""
            },
            "colorscale": [
             [
              0,
              "#0d0887"
             ],
             [
              0.1111111111111111,
              "#46039f"
             ],
             [
              0.2222222222222222,
              "#7201a8"
             ],
             [
              0.3333333333333333,
              "#9c179e"
             ],
             [
              0.4444444444444444,
              "#bd3786"
             ],
             [
              0.5555555555555556,
              "#d8576b"
             ],
             [
              0.6666666666666666,
              "#ed7953"
             ],
             [
              0.7777777777777778,
              "#fb9f3a"
             ],
             [
              0.8888888888888888,
              "#fdca26"
             ],
             [
              1,
              "#f0f921"
             ]
            ],
            "type": "surface"
           }
          ],
          "table": [
           {
            "cells": {
             "fill": {
              "color": "#EBF0F8"
             },
             "line": {
              "color": "white"
             }
            },
            "header": {
             "fill": {
              "color": "#C8D4E3"
             },
             "line": {
              "color": "white"
             }
            },
            "type": "table"
           }
          ]
         },
         "layout": {
          "annotationdefaults": {
           "arrowcolor": "#2a3f5f",
           "arrowhead": 0,
           "arrowwidth": 1
          },
          "coloraxis": {
           "colorbar": {
            "outlinewidth": 0,
            "ticks": ""
           }
          },
          "colorscale": {
           "diverging": [
            [
             0,
             "#8e0152"
            ],
            [
             0.1,
             "#c51b7d"
            ],
            [
             0.2,
             "#de77ae"
            ],
            [
             0.3,
             "#f1b6da"
            ],
            [
             0.4,
             "#fde0ef"
            ],
            [
             0.5,
             "#f7f7f7"
            ],
            [
             0.6,
             "#e6f5d0"
            ],
            [
             0.7,
             "#b8e186"
            ],
            [
             0.8,
             "#7fbc41"
            ],
            [
             0.9,
             "#4d9221"
            ],
            [
             1,
             "#276419"
            ]
           ],
           "sequential": [
            [
             0,
             "#0d0887"
            ],
            [
             0.1111111111111111,
             "#46039f"
            ],
            [
             0.2222222222222222,
             "#7201a8"
            ],
            [
             0.3333333333333333,
             "#9c179e"
            ],
            [
             0.4444444444444444,
             "#bd3786"
            ],
            [
             0.5555555555555556,
             "#d8576b"
            ],
            [
             0.6666666666666666,
             "#ed7953"
            ],
            [
             0.7777777777777778,
             "#fb9f3a"
            ],
            [
             0.8888888888888888,
             "#fdca26"
            ],
            [
             1,
             "#f0f921"
            ]
           ],
           "sequentialminus": [
            [
             0,
             "#0d0887"
            ],
            [
             0.1111111111111111,
             "#46039f"
            ],
            [
             0.2222222222222222,
             "#7201a8"
            ],
            [
             0.3333333333333333,
             "#9c179e"
            ],
            [
             0.4444444444444444,
             "#bd3786"
            ],
            [
             0.5555555555555556,
             "#d8576b"
            ],
            [
             0.6666666666666666,
             "#ed7953"
            ],
            [
             0.7777777777777778,
             "#fb9f3a"
            ],
            [
             0.8888888888888888,
             "#fdca26"
            ],
            [
             1,
             "#f0f921"
            ]
           ]
          },
          "colorway": [
           "#636efa",
           "#EF553B",
           "#00cc96",
           "#ab63fa",
           "#FFA15A",
           "#19d3f3",
           "#FF6692",
           "#B6E880",
           "#FF97FF",
           "#FECB52"
          ],
          "font": {
           "color": "#2a3f5f"
          },
          "geo": {
           "bgcolor": "white",
           "lakecolor": "white",
           "landcolor": "#E5ECF6",
           "showlakes": true,
           "showland": true,
           "subunitcolor": "white"
          },
          "hoverlabel": {
           "align": "left"
          },
          "hovermode": "closest",
          "mapbox": {
           "style": "light"
          },
          "paper_bgcolor": "white",
          "plot_bgcolor": "#E5ECF6",
          "polar": {
           "angularaxis": {
            "gridcolor": "white",
            "linecolor": "white",
            "ticks": ""
           },
           "bgcolor": "#E5ECF6",
           "radialaxis": {
            "gridcolor": "white",
            "linecolor": "white",
            "ticks": ""
           }
          },
          "scene": {
           "xaxis": {
            "backgroundcolor": "#E5ECF6",
            "gridcolor": "white",
            "gridwidth": 2,
            "linecolor": "white",
            "showbackground": true,
            "ticks": "",
            "zerolinecolor": "white"
           },
           "yaxis": {
            "backgroundcolor": "#E5ECF6",
            "gridcolor": "white",
            "gridwidth": 2,
            "linecolor": "white",
            "showbackground": true,
            "ticks": "",
            "zerolinecolor": "white"
           },
           "zaxis": {
            "backgroundcolor": "#E5ECF6",
            "gridcolor": "white",
            "gridwidth": 2,
            "linecolor": "white",
            "showbackground": true,
            "ticks": "",
            "zerolinecolor": "white"
           }
          },
          "shapedefaults": {
           "line": {
            "color": "#2a3f5f"
           }
          },
          "ternary": {
           "aaxis": {
            "gridcolor": "white",
            "linecolor": "white",
            "ticks": ""
           },
           "baxis": {
            "gridcolor": "white",
            "linecolor": "white",
            "ticks": ""
           },
           "bgcolor": "#E5ECF6",
           "caxis": {
            "gridcolor": "white",
            "linecolor": "white",
            "ticks": ""
           }
          },
          "title": {
           "x": 0.05
          },
          "xaxis": {
           "automargin": true,
           "gridcolor": "white",
           "linecolor": "white",
           "ticks": "",
           "title": {
            "standoff": 15
           },
           "zerolinecolor": "white",
           "zerolinewidth": 2
          },
          "yaxis": {
           "automargin": true,
           "gridcolor": "white",
           "linecolor": "white",
           "ticks": "",
           "title": {
            "standoff": 15
           },
           "zerolinecolor": "white",
           "zerolinewidth": 2
          }
         }
        },
        "xaxis": {
         "anchor": "y",
         "autorange": true,
         "categoryarray": [
          "Human",
          "Bacteria",
          "Virus",
          "Fungus",
          "Parasite",
          "Unclassified"
         ],
         "categoryorder": "array",
         "domain": [
          0,
          1
         ],
         "range": [
          -0.8912904608788853,
          5.836383708467309
         ],
         "title": {
          "text": "Organism"
         },
         "type": "category"
        },
        "yaxis": {
         "anchor": "x",
         "autorange": true,
         "domain": [
          0,
          1
         ],
         "range": [
          -1.7889549433456733,
          2.0129061405489423
         ],
         "title": {
          "text": "% Composition"
         },
         "type": "log"
        }
       }
      },
      "image/png": "[encoded data removed]",
      "text/html": [
       "<div>\n",
       "        \n",
       "        \n",
       "            <div id=\"d8024439-74a4-4a2a-8e9a-cc715161bbb2\" class=\"plotly-graph-div\" style=\"height:700px; width:100%;\"></div>\n",
       "            <script type=\"text/javascript\">\n",
       "                require([\"plotly\"], function(Plotly) {\n",
       "                    window.PLOTLYENV=window.PLOTLYENV || {};\n",
       "                    \n",
       "                if (document.getElementById(\"d8024439-74a4-4a2a-8e9a-cc715161bbb2\")) {\n",
       "                    Plotly.newPlot(\n",
       "                        'd8024439-74a4-4a2a-8e9a-cc715161bbb2',\n",
       "                        [{\"alignmentgroup\": \"True\", \"boxpoints\": \"all\", \"customdata\": [[\"2019-11-21\"], [\"2019-11-21\"], [\"2019-11-21\"], [\"2019-11-21\"], [\"2019-11-21\"], [\"2019-11-21\"], [\"2019-11-24\"], [\"2019-11-24\"], [\"2019-11-24\"], [\"2019-11-24\"], [\"2019-11-24\"], [\"2019-11-24\"], [\"2019-11-26\"], [\"2019-11-26\"], [\"2019-11-26\"], [\"2019-11-26\"], [\"2019-11-26\"], [\"2019-11-26\"], [\"2019-11-27\"], [\"2019-11-27\"], [\"2019-11-27\"], [\"2019-11-27\"], [\"2019-11-27\"], [\"2019-11-27\"], [\"2019-12-01\"], [\"2019-12-01\"], [\"2019-12-01\"], [\"2019-12-01\"], [\"2019-12-01\"], [\"2019-12-01\"], [\"2019-12-04\"], [\"2019-12-04\"], [\"2019-12-04\"], [\"2019-12-04\"], [\"2019-12-04\"], [\"2019-12-04\"], [\"2019-12-10\"], [\"2019-12-10\"], [\"2019-12-10\"], [\"2019-12-10\"], [\"2019-12-10\"], [\"2019-12-10\"]], \"hoverlabel\": {\"namelength\": 0}, \"hovertemplate\": \"Neg Ctrl Matrix=Old<br>Organism=%{x}<br>% Composition=%{y}<br>Run Date=%{customdata[0]}\", \"legendgroup\": \"Neg Ctrl Matrix=Old\", \"marker\": {\"color\": \"#636efa\"}, \"name\": \"Neg Ctrl Matrix=Old\", \"notched\": false, \"offsetgroup\": \"Neg Ctrl Matrix=Old\", \"orientation\": \"v\", \"showlegend\": true, \"type\": \"box\", \"x\": [\"Human\", \"Virus\", \"Unclassified\", \"Parasite\", \"Fungus\", \"Bacteria\", \"Human\", \"Virus\", \"Unclassified\", \"Bacteria\", \"Parasite\", \"Fungus\", \"Human\", \"Fungus\", \"Parasite\", \"Virus\", \"Bacteria\", \"Unclassified\", \"Fungus\", \"Parasite\", \"Unclassified\", \"Bacteria\", \"Virus\", \"Human\", \"Parasite\", \"Human\", \"Fungus\", \"Bacteria\", \"Virus\", \"Unclassified\", \"Virus\", \"Parasite\", \"Human\", \"Fungus\", \"Bacteria\", \"Unclassified\", \"Bacteria\", \"Fungus\", \"Virus\", \"Human\", \"Parasite\", \"Unclassified\"], \"x0\": \" \", \"xaxis\": \"x\", \"y\": [0.7930514586857329, 1.4972034994802401, 62.34470503099991, 0.08081509483792526, 0.10946661099550467, 35.174758305000694, 0.8817071325347272, 1.6360784374588848, 61.988766934165966, 35.28999941093952, 0.08039440949861783, 0.12305367540228067, 0.6219610344079578, 0.1033184583902778, 0.1110664932043278, 1.648292458862636, 35.43027929739824, 62.085082257736566, 0.1807737696492336, 0.17993552427617218, 62.67684925722081, 33.657064087200034, 1.7028808207348376, 1.6024965409189185, 0.08727378807261818, 0.8654987043488971, 0.11937016115554835, 35.08228665039362, 2.1036490382704844, 61.74192165775883, 1.7681285346078384, 0.12909095024110534, 0.8336343923975765, 0.2556974187085221, 34.620391321761886, 62.39305738228307, 33.102240490727375, 0.23745227674830055, 2.34631591527826, 1.0271854811332306, 0.0838726754276304, 63.20293316068521], \"y0\": \" \", \"yaxis\": \"y\"}, {\"alignmentgroup\": \"True\", \"boxpoints\": \"all\", \"customdata\": [[\"2019-12-11\"], [\"2019-12-11\"], [\"2019-12-11\"], [\"2019-12-11\"], [\"2019-12-11\"], [\"2019-12-11\"], [\"2019-12-11\"], [\"2019-12-11\"], [\"2019-12-11\"], [\"2019-12-11\"], [\"2019-12-11\"], [\"2019-12-11\"], [\"2019-12-11\"], [\"2019-12-11\"], [\"2019-12-11\"], [\"2019-12-11\"], [\"2019-12-11\"], [\"2019-12-11\"], [\"2019-12-11\"], [\"2019-12-11\"], [\"2019-12-11\"], [\"2019-12-11\"], [\"2019-12-11\"], [\"2019-12-11\"], [\"2019-12-11\"], [\"2019-12-11\"], [\"2019-12-11\"], [\"2019-12-11\"], [\"2019-12-11\"], [\"2019-12-11\"], [\"2019-12-13\"], [\"2019-12-13\"], [\"2019-12-13\"], [\"2019-12-13\"], [\"2019-12-13\"], [\"2019-12-13\"], [\"2019-12-13\"], [\"2019-12-13\"], [\"2019-12-13\"], [\"2019-12-13\"], [\"2019-12-13\"], [\"2019-12-13\"], [\"2019-12-13\"], [\"2019-12-13\"], [\"2019-12-13\"], [\"2019-12-13\"], [\"2019-12-13\"], [\"2019-12-13\"], [\"2019-12-13\"], [\"2019-12-13\"], [\"2019-12-13\"], [\"2019-12-13\"], [\"2019-12-13\"], [\"2019-12-13\"], [\"2019-12-13\"], [\"2019-12-13\"], [\"2019-12-13\"], [\"2019-12-13\"], [\"2019-12-13\"], [\"2019-12-13\"], [\"2019-12-20\"], [\"2019-12-20\"], [\"2019-12-20\"], [\"2019-12-20\"], [\"2019-12-20\"], [\"2019-12-20\"], [\"2019-12-24\"], [\"2019-12-24\"], [\"2019-12-24\"], [\"2019-12-24\"], [\"2019-12-24\"], [\"2019-12-24\"], [\"2019-12-25\"], [\"2019-12-25\"], [\"2019-12-25\"], [\"2019-12-25\"], [\"2019-12-25\"], [\"2019-12-25\"], [\"2020-01-17\"], [\"2020-01-17\"], [\"2020-01-17\"], [\"2020-01-17\"], [\"2020-01-17\"], [\"2020-01-17\"], [\"2020-01-18\"], [\"2020-01-18\"], [\"2020-01-18\"], [\"2020-01-18\"], [\"2020-01-18\"], [\"2020-01-18\"], [\"2020-01-18\"], [\"2020-01-18\"], [\"2020-01-18\"], [\"2020-01-18\"], [\"2020-01-18\"], [\"2020-01-18\"], [\"2020-01-20\"], [\"2020-01-20\"], [\"2020-01-20\"], [\"2020-01-20\"], [\"2020-01-20\"], [\"2020-01-20\"], [\"2020-01-20\"], [\"2020-01-20\"], [\"2020-01-20\"], [\"2020-01-20\"], [\"2020-01-20\"], [\"2020-01-20\"], [\"2020-01-20\"], [\"2020-01-20\"], [\"2020-01-20\"], [\"2020-01-20\"], [\"2020-01-20\"], [\"2020-01-20\"], [\"2020-01-20\"], [\"2020-01-20\"], [\"2020-01-20\"], [\"2020-01-20\"], [\"2020-01-20\"], [\"2020-01-20\"], [\"2020-01-20\"], [\"2020-01-20\"], [\"2020-01-20\"], [\"2020-01-20\"], [\"2020-01-20\"], [\"2020-01-20\"], [\"2020-01-20\"], [\"2020-01-20\"], [\"2020-01-20\"], [\"2020-01-20\"], [\"2020-01-20\"], [\"2020-01-20\"], [\"2020-01-20\"], [\"2020-01-20\"], [\"2020-01-20\"], [\"2020-01-20\"], [\"2020-01-20\"], [\"2020-01-20\"], [\"2020-01-20\"], [\"2020-01-20\"], [\"2020-01-20\"], [\"2020-01-20\"], [\"2020-01-20\"], [\"2020-01-20\"], [\"2020-01-20\"], [\"2020-01-20\"], [\"2020-01-20\"], [\"2020-01-20\"], [\"2020-01-20\"], [\"2020-01-20\"], [\"2020-01-20\"], [\"2020-01-20\"], [\"2020-01-20\"], [\"2020-01-20\"], [\"2020-01-20\"], [\"2020-01-20\"], [\"2020-01-20\"], [\"2020-01-20\"], [\"2020-01-20\"], [\"2020-01-20\"], [\"2020-01-20\"], [\"2020-01-20\"], [\"2020-01-20\"], [\"2020-01-20\"], [\"2020-01-20\"], [\"2020-01-20\"], [\"2020-01-20\"], [\"2020-01-20\"], [\"2020-01-20\"], [\"2020-01-20\"], [\"2020-01-20\"], [\"2020-01-20\"], [\"2020-01-20\"], [\"2020-01-20\"], [\"2020-01-20\"], [\"2020-01-20\"], [\"2020-01-20\"], [\"2020-01-20\"], [\"2020-01-20\"], [\"2020-01-20\"], [\"2020-01-20\"], [\"2020-01-20\"], [\"2020-01-20\"], [\"2020-01-20\"], [\"2020-01-20\"], [\"2020-01-20\"], [\"2020-01-20\"], [\"2020-01-20\"], [\"2020-01-20\"], [\"2020-01-20\"], [\"2020-01-20\"], [\"2020-01-20\"], [\"2020-01-20\"], [\"2020-01-20\"], [\"2020-01-20\"], [\"2020-01-20\"], [\"2020-01-20\"], [\"2020-01-20\"], [\"2020-01-20\"], [\"2020-01-20\"], [\"2020-01-20\"], [\"2020-01-20\"], [\"2020-01-20\"], [\"2020-01-20\"]], \"hoverlabel\": {\"namelength\": 0}, \"hovertemplate\": \"Neg Ctrl Matrix=New<br>Organism=%{x}<br>% Composition=%{y}<br>Run Date=%{customdata[0]}\", \"legendgroup\": \"Neg Ctrl Matrix=New\", \"marker\": {\"color\": \"#EF553B\"}, \"name\": \"Neg Ctrl Matrix=New\", \"notched\": false, \"offsetgroup\": \"Neg Ctrl Matrix=New\", \"orientation\": \"v\", \"showlegend\": true, \"type\": \"box\", \"x\": [\"Human\", \"Human\", \"Human\", \"Human\", \"Human\", \"Unclassified\", \"Virus\", \"Virus\", \"Virus\", \"Unclassified\", \"Unclassified\", \"Unclassified\", \"Virus\", \"Virus\", \"Unclassified\", \"Parasite\", \"Fungus\", \"Parasite\", \"Parasite\", \"Parasite\", \"Parasite\", \"Fungus\", \"Fungus\", \"Fungus\", \"Fungus\", \"Bacteria\", \"Bacteria\", \"Bacteria\", \"Bacteria\", \"Bacteria\", \"Human\", \"Parasite\", \"Parasite\", \"Parasite\", \"Parasite\", \"Fungus\", \"Human\", \"Fungus\", \"Fungus\", \"Fungus\", \"Virus\", \"Virus\", \"Virus\", \"Virus\", \"Parasite\", \"Fungus\", \"Virus\", \"Human\", \"Bacteria\", \"Bacteria\", \"Bacteria\", \"Human\", \"Bacteria\", \"Unclassified\", \"Bacteria\", \"Unclassified\", \"Unclassified\", \"Human\", \"Unclassified\", \"Unclassified\", \"Human\", \"Unclassified\", \"Virus\", \"Bacteria\", \"Parasite\", \"Fungus\", \"Bacteria\", \"Fungus\", \"Human\", \"Virus\", \"Parasite\", \"Unclassified\", \"Virus\", \"Fungus\", \"Parasite\", \"Bacteria\", \"Unclassified\", \"Human\", \"Human\", \"Virus\", \"Bacteria\", \"Fungus\", \"Unclassified\", \"Parasite\", \"Human\", \"Unclassified\", \"Unclassified\", \"Fungus\", \"Fungus\", \"Parasite\", \"Parasite\", \"Human\", \"Bacteria\", \"Virus\", \"Virus\", \"Bacteria\", \"Unclassified\", \"Unclassified\", \"Unclassified\", \"Unclassified\", \"Unclassified\", \"Unclassified\", \"Unclassified\", \"Unclassified\", \"Unclassified\", \"Unclassified\", \"Unclassified\", \"Unclassified\", \"Unclassified\", \"Unclassified\", \"Unclassified\", \"Parasite\", \"Parasite\", \"Parasite\", \"Parasite\", \"Parasite\", \"Parasite\", \"Parasite\", \"Parasite\", \"Parasite\", \"Parasite\", \"Parasite\", \"Parasite\", \"Parasite\", \"Parasite\", \"Parasite\", \"Parasite\", \"Parasite\", \"Parasite\", \"Unclassified\", \"Virus\", \"Fungus\", \"Bacteria\", \"Bacteria\", \"Bacteria\", \"Bacteria\", \"Bacteria\", \"Bacteria\", \"Bacteria\", \"Bacteria\", \"Bacteria\", \"Bacteria\", \"Bacteria\", \"Bacteria\", \"Bacteria\", \"Bacteria\", \"Bacteria\", \"Human\", \"Human\", \"Human\", \"Human\", \"Human\", \"Human\", \"Human\", \"Human\", \"Human\", \"Human\", \"Human\", \"Human\", \"Human\", \"Human\", \"Human\", \"Human\", \"Human\", \"Human\", \"Bacteria\", \"Fungus\", \"Bacteria\", \"Virus\", \"Fungus\", \"Fungus\", \"Fungus\", \"Fungus\", \"Fungus\", \"Fungus\", \"Fungus\", \"Fungus\", \"Fungus\", \"Fungus\", \"Fungus\", \"Fungus\", \"Fungus\", \"Fungus\", \"Fungus\", \"Fungus\", \"Unclassified\", \"Virus\", \"Virus\", \"Virus\", \"Virus\", \"Virus\", \"Virus\", \"Virus\", \"Virus\", \"Virus\", \"Virus\", \"Virus\", \"Virus\", \"Virus\", \"Virus\", \"Virus\", \"Virus\", \"Bacteria\", \"Unclassified\"], \"x0\": \" \", \"xaxis\": \"x\", \"y\": [1.5736610898500714, 0.041146894661965486, 0.06032314103557245, 0.050721822040230735, 0.10239551260683863, 62.81356209600201, 0.07720933278040902, 0.07164263044566929, 0.07119586334698269, 66.21606322034282, 66.25079953372986, 66.30835774370841, 0.07348018147784137, 1.243541385607959, 66.49868945032313, 0.12202154248078095, 0.06808682547409145, 0.07210007400984549, 0.07234654613947357, 0.07609767761604448, 0.07569737689500156, 0.10079874208064513, 0.058714834948122935, 0.061435116381970176, 0.059808111904833074, 33.475486424761556, 33.49137699136205, 33.41740556216461, 34.14641514397854, 33.24941913184269, 2.1730853355583277, 0.11682496352834525, 0.08519924594102239, 0.07630030494352102, 0.10182849919626913, 0.0813846971219275, 4.550462456244858, 0.17922548437674274, 0.07857664390327708, 0.08007351578476611, 0.60798140054046, 0.08454251176475205, 0.06455353691534596, 0.0994952345239446, 0.07720649845158663, 0.2739892399581859, 0.08651759536028332, 0.701975637714712, 59.80310366914246, 34.9556215884862, 42.09244942662029, 0.3382510844822403, 36.18081079598442, 63.499151209460756, 39.272358452433906, 62.62147780246493, 57.349869003135325, 0.06195156445735645, 59.658094330918075, 34.6476382705857, 0.16271097722486544, 65.08912979320858, 0.06839040172692885, 34.53972517295918, 0.07544264938701985, 0.06460100549341607, 35.52790656495151, 0.06586391389865957, 0.04866843004853485, 0.08076666656876767, 0.12240531754468954, 64.15438910698785, 0.08263596965189265, 0.06683065315755364, 0.16207098277818902, 35.5531856023825, 63.15325752417126, 0.9820192678586066, 1.0669868926059185, 0.09893423065242672, 36.41324684357248, 0.2164563154698605, 62.11692119735466, 0.08745452034465569, 0.032552107443433766, 64.12724429930755, 64.19662972565054, 0.0624563472165541, 0.06510310374846344, 0.07524202991831236, 0.07823574521483845, 0.21426941339875025, 35.3531065787741, 0.08699078542050731, 0.0926554332133083, 35.61551443069364, 64.2902527104238, 64.43313478741418, 63.894786850992546, 63.88981989574904, 64.41525460008185, 64.17555615662793, 65.16837402155737, 64.31154319847658, 64.24245146743722, 64.87837028318113, 64.12182915642789, 64.46405262227123, 64.37238731924722, 64.02000813911016, 64.10118797451706, 0.0747816451381778, 0.07435967503545449, 0.07802590315659429, 0.07450775592472418, 0.07441299390063277, 0.07841936282269968, 0.07413435880109022, 0.07625296773044524, 0.07524557968036961, 0.0741647686629716, 0.07591745622497989, 0.07559296284022805, 0.07554059461702632, 0.07333585455004389, 0.07570226045785766, 0.07669702884200431, 0.07606614597236933, 0.07298519187813911, 64.79129225865519, 0.07541981278481857, 0.0655078670977507, 35.64255819023696, 34.87530713634334, 35.534313266514296, 35.389349500325935, 34.58887663543026, 35.57550223163668, 35.28807643889736, 35.275273003631455, 35.76864247919571, 35.27816803617585, 35.201990520269696, 35.66313552052737, 35.529043529167645, 35.33085903077378, 35.819577414817545, 0.2054029593574232, 0.035227023887730524, 0.07049009967148502, 0.0422794988975159, 0.032367081201082844, 0.0361749315393255, 0.025184777065111127, 0.09710958339499506, 0.02710433324331601, 0.06889500617031451, 0.09818602131184442, 0.06556002283031383, 0.1088854542214031, 0.055336237649915125, 0.2590292232994632, 0.10705926653327327, 0.07625848500118568, 0.06257516913953401, 34.910191942905804, 0.0695022582432405, 35.72779565446678, 0.0531682307162368, 0.07758657333782654, 0.06844630672280202, 0.07233074007531498, 0.06398367474482866, 0.09364537515814536, 0.0674597347550436, 0.07465021839945454, 0.07285226066384606, 0.0856792199262281, 0.09170898702141764, 0.06447443455117413, 0.06866274158169315, 0.07448741464086732, 0.06548358721603999, 0.07793906196900433, 0.07572618037564982, 64.023548464327, 0.07493579834258826, 0.052893093276734963, 0.05922522104833242, 0.05157827910397759, 0.05515922180244682, 0.07724834112359852, 0.0823500496951126, 0.06969228141872126, 0.07593743820880201, 0.07450057394096002, 0.07351695017084646, 0.08110110276065266, 0.06972967643779726, 0.07493849300450557, 0.08362492022622743, 0.08818243651602582, 35.55234860197774, 64.0225447224986], \"y0\": \" \", \"yaxis\": \"y\"}],\n",
       "                        {\"boxmode\": \"group\", \"font\": {\"size\": 18}, \"height\": 700, \"legend\": {\"tracegroupgap\": 0}, \"margin\": {\"t\": 60}, \"template\": {\"data\": {\"bar\": [{\"error_x\": {\"color\": \"#2a3f5f\"}, \"error_y\": {\"color\": \"#2a3f5f\"}, \"marker\": {\"line\": {\"color\": \"#E5ECF6\", \"width\": 0.5}}, \"type\": \"bar\"}], \"barpolar\": [{\"marker\": {\"line\": {\"color\": \"#E5ECF6\", \"width\": 0.5}}, \"type\": \"barpolar\"}], \"carpet\": [{\"aaxis\": {\"endlinecolor\": \"#2a3f5f\", \"gridcolor\": \"white\", \"linecolor\": \"white\", \"minorgridcolor\": \"white\", \"startlinecolor\": \"#2a3f5f\"}, \"baxis\": {\"endlinecolor\": \"#2a3f5f\", \"gridcolor\": \"white\", \"linecolor\": \"white\", \"minorgridcolor\": \"white\", \"startlinecolor\": \"#2a3f5f\"}, \"type\": \"carpet\"}], \"choropleth\": [{\"colorbar\": {\"outlinewidth\": 0, \"ticks\": \"\"}, \"type\": \"choropleth\"}], \"contour\": [{\"colorbar\": {\"outlinewidth\": 0, \"ticks\": \"\"}, \"colorscale\": [[0.0, \"#0d0887\"], [0.1111111111111111, \"#46039f\"], [0.2222222222222222, \"#7201a8\"], [0.3333333333333333, \"#9c179e\"], [0.4444444444444444, \"#bd3786\"], [0.5555555555555556, \"#d8576b\"], [0.6666666666666666, \"#ed7953\"], [0.7777777777777778, \"#fb9f3a\"], [0.8888888888888888, \"#fdca26\"], [1.0, \"#f0f921\"]], \"type\": \"contour\"}], \"contourcarpet\": [{\"colorbar\": {\"outlinewidth\": 0, \"ticks\": \"\"}, \"type\": \"contourcarpet\"}], \"heatmap\": [{\"colorbar\": {\"outlinewidth\": 0, \"ticks\": \"\"}, \"colorscale\": [[0.0, \"#0d0887\"], [0.1111111111111111, \"#46039f\"], [0.2222222222222222, \"#7201a8\"], [0.3333333333333333, \"#9c179e\"], [0.4444444444444444, \"#bd3786\"], [0.5555555555555556, \"#d8576b\"], [0.6666666666666666, \"#ed7953\"], [0.7777777777777778, \"#fb9f3a\"], [0.8888888888888888, \"#fdca26\"], [1.0, \"#f0f921\"]], \"type\": \"heatmap\"}], \"heatmapgl\": [{\"colorbar\": {\"outlinewidth\": 0, \"ticks\": \"\"}, \"colorscale\": [[0.0, \"#0d0887\"], [0.1111111111111111, \"#46039f\"], [0.2222222222222222, \"#7201a8\"], [0.3333333333333333, \"#9c179e\"], [0.4444444444444444, \"#bd3786\"], [0.5555555555555556, \"#d8576b\"], [0.6666666666666666, \"#ed7953\"], [0.7777777777777778, \"#fb9f3a\"], [0.8888888888888888, \"#fdca26\"], [1.0, \"#f0f921\"]], \"type\": \"heatmapgl\"}], \"histogram\": [{\"marker\": {\"colorbar\": {\"outlinewidth\": 0, \"ticks\": \"\"}}, \"type\": \"histogram\"}], \"histogram2d\": [{\"colorbar\": {\"outlinewidth\": 0, \"ticks\": \"\"}, \"colorscale\": [[0.0, \"#0d0887\"], [0.1111111111111111, \"#46039f\"], [0.2222222222222222, \"#7201a8\"], [0.3333333333333333, \"#9c179e\"], [0.4444444444444444, \"#bd3786\"], [0.5555555555555556, \"#d8576b\"], [0.6666666666666666, \"#ed7953\"], [0.7777777777777778, \"#fb9f3a\"], [0.8888888888888888, \"#fdca26\"], [1.0, \"#f0f921\"]], \"type\": \"histogram2d\"}], \"histogram2dcontour\": [{\"colorbar\": {\"outlinewidth\": 0, \"ticks\": \"\"}, \"colorscale\": [[0.0, \"#0d0887\"], [0.1111111111111111, \"#46039f\"], [0.2222222222222222, \"#7201a8\"], [0.3333333333333333, \"#9c179e\"], [0.4444444444444444, \"#bd3786\"], [0.5555555555555556, \"#d8576b\"], [0.6666666666666666, \"#ed7953\"], [0.7777777777777778, \"#fb9f3a\"], [0.8888888888888888, \"#fdca26\"], [1.0, \"#f0f921\"]], \"type\": \"histogram2dcontour\"}], \"mesh3d\": [{\"colorbar\": {\"outlinewidth\": 0, \"ticks\": \"\"}, \"type\": \"mesh3d\"}], \"parcoords\": [{\"line\": {\"colorbar\": {\"outlinewidth\": 0, \"ticks\": \"\"}}, \"type\": \"parcoords\"}], \"pie\": [{\"automargin\": true, \"type\": \"pie\"}], \"scatter\": [{\"marker\": {\"colorbar\": {\"outlinewidth\": 0, \"ticks\": \"\"}}, \"type\": \"scatter\"}], \"scatter3d\": [{\"line\": {\"colorbar\": {\"outlinewidth\": 0, \"ticks\": \"\"}}, \"marker\": {\"colorbar\": {\"outlinewidth\": 0, \"ticks\": \"\"}}, \"type\": \"scatter3d\"}], \"scattercarpet\": [{\"marker\": {\"colorbar\": {\"outlinewidth\": 0, \"ticks\": \"\"}}, \"type\": \"scattercarpet\"}], \"scattergeo\": [{\"marker\": {\"colorbar\": {\"outlinewidth\": 0, \"ticks\": \"\"}}, \"type\": \"scattergeo\"}], \"scattergl\": [{\"marker\": {\"colorbar\": {\"outlinewidth\": 0, \"ticks\": \"\"}}, \"type\": \"scattergl\"}], \"scattermapbox\": [{\"marker\": {\"colorbar\": {\"outlinewidth\": 0, \"ticks\": \"\"}}, \"type\": \"scattermapbox\"}], \"scatterpolar\": [{\"marker\": {\"colorbar\": {\"outlinewidth\": 0, \"ticks\": \"\"}}, \"type\": \"scatterpolar\"}], \"scatterpolargl\": [{\"marker\": {\"colorbar\": {\"outlinewidth\": 0, \"ticks\": \"\"}}, \"type\": \"scatterpolargl\"}], \"scatterternary\": [{\"marker\": {\"colorbar\": {\"outlinewidth\": 0, \"ticks\": \"\"}}, \"type\": \"scatterternary\"}], \"surface\": [{\"colorbar\": {\"outlinewidth\": 0, \"ticks\": \"\"}, \"colorscale\": [[0.0, \"#0d0887\"], [0.1111111111111111, \"#46039f\"], [0.2222222222222222, \"#7201a8\"], [0.3333333333333333, \"#9c179e\"], [0.4444444444444444, \"#bd3786\"], [0.5555555555555556, \"#d8576b\"], [0.6666666666666666, \"#ed7953\"], [0.7777777777777778, \"#fb9f3a\"], [0.8888888888888888, \"#fdca26\"], [1.0, \"#f0f921\"]], \"type\": \"surface\"}], \"table\": [{\"cells\": {\"fill\": {\"color\": \"#EBF0F8\"}, \"line\": {\"color\": \"white\"}}, \"header\": {\"fill\": {\"color\": \"#C8D4E3\"}, \"line\": {\"color\": \"white\"}}, \"type\": \"table\"}]}, \"layout\": {\"annotationdefaults\": {\"arrowcolor\": \"#2a3f5f\", \"arrowhead\": 0, \"arrowwidth\": 1}, \"coloraxis\": {\"colorbar\": {\"outlinewidth\": 0, \"ticks\": \"\"}}, \"colorscale\": {\"diverging\": [[0, \"#8e0152\"], [0.1, \"#c51b7d\"], [0.2, \"#de77ae\"], [0.3, \"#f1b6da\"], [0.4, \"#fde0ef\"], [0.5, \"#f7f7f7\"], [0.6, \"#e6f5d0\"], [0.7, \"#b8e186\"], [0.8, \"#7fbc41\"], [0.9, \"#4d9221\"], [1, \"#276419\"]], \"sequential\": [[0.0, \"#0d0887\"], [0.1111111111111111, \"#46039f\"], [0.2222222222222222, \"#7201a8\"], [0.3333333333333333, \"#9c179e\"], [0.4444444444444444, \"#bd3786\"], [0.5555555555555556, \"#d8576b\"], [0.6666666666666666, \"#ed7953\"], [0.7777777777777778, \"#fb9f3a\"], [0.8888888888888888, \"#fdca26\"], [1.0, \"#f0f921\"]], \"sequentialminus\": [[0.0, \"#0d0887\"], [0.1111111111111111, \"#46039f\"], [0.2222222222222222, \"#7201a8\"], [0.3333333333333333, \"#9c179e\"], [0.4444444444444444, \"#bd3786\"], [0.5555555555555556, \"#d8576b\"], [0.6666666666666666, \"#ed7953\"], [0.7777777777777778, \"#fb9f3a\"], [0.8888888888888888, \"#fdca26\"], [1.0, \"#f0f921\"]]}, \"colorway\": [\"#636efa\", \"#EF553B\", \"#00cc96\", \"#ab63fa\", \"#FFA15A\", \"#19d3f3\", \"#FF6692\", \"#B6E880\", \"#FF97FF\", \"#FECB52\"], \"font\": {\"color\": \"#2a3f5f\"}, \"geo\": {\"bgcolor\": \"white\", \"lakecolor\": \"white\", \"landcolor\": \"#E5ECF6\", \"showlakes\": true, \"showland\": true, \"subunitcolor\": \"white\"}, \"hoverlabel\": {\"align\": \"left\"}, \"hovermode\": \"closest\", \"mapbox\": {\"style\": \"light\"}, \"paper_bgcolor\": \"white\", \"plot_bgcolor\": \"#E5ECF6\", \"polar\": {\"angularaxis\": {\"gridcolor\": \"white\", \"linecolor\": \"white\", \"ticks\": \"\"}, \"bgcolor\": \"#E5ECF6\", \"radialaxis\": {\"gridcolor\": \"white\", \"linecolor\": \"white\", \"ticks\": \"\"}}, \"scene\": {\"xaxis\": {\"backgroundcolor\": \"#E5ECF6\", \"gridcolor\": \"white\", \"gridwidth\": 2, \"linecolor\": \"white\", \"showbackground\": true, \"ticks\": \"\", \"zerolinecolor\": \"white\"}, \"yaxis\": {\"backgroundcolor\": \"#E5ECF6\", \"gridcolor\": \"white\", \"gridwidth\": 2, \"linecolor\": \"white\", \"showbackground\": true, \"ticks\": \"\", \"zerolinecolor\": \"white\"}, \"zaxis\": {\"backgroundcolor\": \"#E5ECF6\", \"gridcolor\": \"white\", \"gridwidth\": 2, \"linecolor\": \"white\", \"showbackground\": true, \"ticks\": \"\", \"zerolinecolor\": \"white\"}}, \"shapedefaults\": {\"line\": {\"color\": \"#2a3f5f\"}}, \"ternary\": {\"aaxis\": {\"gridcolor\": \"white\", \"linecolor\": \"white\", \"ticks\": \"\"}, \"baxis\": {\"gridcolor\": \"white\", \"linecolor\": \"white\", \"ticks\": \"\"}, \"bgcolor\": \"#E5ECF6\", \"caxis\": {\"gridcolor\": \"white\", \"linecolor\": \"white\", \"ticks\": \"\"}}, \"title\": {\"x\": 0.05}, \"xaxis\": {\"automargin\": true, \"gridcolor\": \"white\", \"linecolor\": \"white\", \"ticks\": \"\", \"title\": {\"standoff\": 15}, \"zerolinecolor\": \"white\", \"zerolinewidth\": 2}, \"yaxis\": {\"automargin\": true, \"gridcolor\": \"white\", \"linecolor\": \"white\", \"ticks\": \"\", \"title\": {\"standoff\": 15}, \"zerolinecolor\": \"white\", \"zerolinewidth\": 2}}}, \"xaxis\": {\"anchor\": \"y\", \"categoryarray\": [\"Human\", \"Bacteria\", \"Virus\", \"Fungus\", \"Parasite\", \"Unclassified\"], \"categoryorder\": \"array\", \"domain\": [0.0, 1.0], \"title\": {\"text\": \"Organism\"}}, \"yaxis\": {\"anchor\": \"x\", \"domain\": [0.0, 1.0], \"title\": {\"text\": \"% Composition\"}, \"type\": \"log\"}},\n",
       "                        {\"responsive\": true}\n",
       "                    ).then(function(){\n",
       "                            \n",
       "var gd = document.getElementById('d8024439-74a4-4a2a-8e9a-cc715161bbb2');\n",
       "var x = new MutationObserver(function (mutations, observer) {{\n",
       "        var display = window.getComputedStyle(gd).display;\n",
       "        if (!display || display === 'none') {{\n",
       "            console.log([gd, 'removed!']);\n",
       "            Plotly.purge(gd);\n",
       "            observer.disconnect();\n",
       "        }}\n",
       "}});\n",
       "\n",
       "// Listen for the removal of the full notebook cells\n",
       "var notebookContainer = gd.closest('#notebook-container');\n",
       "if (notebookContainer) {{\n",
       "    x.observe(notebookContainer, {childList: true});\n",
       "}}\n",
       "\n",
       "// Listen for the clearing of the current output cell\n",
       "var outputEl = gd.closest('.output');\n",
       "if (outputEl) {{\n",
       "    x.observe(outputEl, {childList: true});\n",
       "}}\n",
       "\n",
       "                        })\n",
       "                };\n",
       "                });\n",
       "            </script>\n",
       "        </div>"
      ]
     },
     "metadata": {},
     "output_type": "display_data"
    },
    {
     "name": "stdout",
     "output_type": "stream",
     "text": [
      "DNA    156\n",
      "Name: Library Type, dtype: int64\n"
     ]
    }
   ],
   "source": [
    "merged_melt = pd.melt(\n",
    "    merged_with_new_neg,\n",
    "    id_vars=['Accession', 'Batch ID', 'Run Date', 'Library Type', 'Composition File'],\n",
    "    value_vars=['Human', 'Bacteria', 'Virus', 'Fungus', 'Parasite', 'Unclassified'],\n",
    "    value_name='% Composition',\n",
    "    var_name='Organism'\n",
    ")\n",
    "merged_melt['Neg Ctrl Matrix'] = 'New'\n",
    "merged_melt.loc[merged_melt['Run Date'] < '2019-12-11', 'Neg Ctrl Matrix'] = 'Old'\n",
    "merged_melt.loc[(merged_melt['Batch ID'].isin(['191210B02', '191211B02']))\n",
    "                & (merged_melt['Accession'] == 'controlNeg'), 'Neg Ctrl Matrix'] = 'Old'\n",
    "merged_melt = merged_melt.sort_values('Run Date')\n",
    "fig = px.box(merged_melt, x='Organism', y='% Composition',\n",
    "             color='Neg Ctrl Matrix', log_y=True,\n",
    "             category_orders={'Organism': ['Human', 'Bacteria', 'Virus', 'Fungus', 'Parasite', 'Unclassified']},\n",
    "             points='all', hover_data=['Run Date'])\n",
    "fig.update_layout(height=700, font=dict(size=18))\n",
    "fig.show()\n",
    "print(merged_melt['Library Type'].value_counts())"
   ]
  },
  {
   "cell_type": "code",
   "execution_count": null,
   "metadata": {},
   "outputs": [],
   "source": []
  },
  {
   "cell_type": "code",
   "execution_count": null,
   "metadata": {},
   "outputs": [],
   "source": []
  }
 ],
 "metadata": {
  "kernelspec": {
   "display_name": "Python 3",
   "language": "python",
   "name": "python3"
  },
  "language_info": {
   "codemirror_mode": {
    "name": "ipython",
    "version": 3
   },
   "file_extension": ".py",
   "mimetype": "text/x-python",
   "name": "python",
   "nbconvert_exporter": "python",
   "pygments_lexer": "ipython3",
   "version": "3.6.8"
  }
 },
 "nbformat": 4,
 "nbformat_minor": 4
}
