{
 "cells": [
  {
   "cell_type": "code",
   "execution_count": 67,
   "metadata": {},
   "outputs": [],
   "source": [
    "import pandas as pd\n",
    "import plotly.express as px\n",
    "from scipy.stats import ttest_ind as ttest\n",
    "from scipy.stats import f_oneway\n",
    "import numpy as np\n",
    "from statsmodels.stats.power import TTestIndPower"
   ]
  },
  {
   "cell_type": "code",
   "execution_count": 17,
   "metadata": {},
   "outputs": [
    {
     "name": "stderr",
     "output_type": "stream",
     "text": [
      "/home/jmontgomery/.local/share/virtualenvs/lab_analysis-DwXlSoLZ/lib/python3.6/site-packages/ipykernel_launcher.py:21: FutureWarning:\n",
      "\n",
      "Sorting because non-concatenation axis is not aligned. A future version\n",
      "of pandas will change to not sort by default.\n",
      "\n",
      "To accept the future behavior, pass 'sort=False'.\n",
      "\n",
      "To retain the current behavior and silence the warning, pass 'sort=True'.\n",
      "\n",
      "\n"
     ]
    }
   ],
   "source": [
    "hi_ic = pd.read_csv('high_ic_results.csv')\n",
    "hi_ic['IC'] = 'Diluted Hi IC'\n",
    "hi_ic = hi_ic[~(hi_ic['Accession'] == 'controlPos')]\n",
    "hi_ic_2 = pd.read_csv('high_ic_2_results.csv')\n",
    "hi_ic_2['IC'] = 'Diluted Hi IC'\n",
    "hi_ic_2 = hi_ic_2[~(hi_ic_2['Accession'] == 'controlPos')]\n",
    "low_ic = pd.read_csv('low_ic_results.csv')\n",
    "low_ic['IC'] = 'Low IC'\n",
    "low_ic_new_neg = pd.read_csv('new_low_ic_results.csv')\n",
    "low_ic_new_neg['IC'] = 'Low IC - New Neg Ctrl'\n",
    "low_ic_new_neg = low_ic_new_neg[low_ic_new_neg['Library Type'] == 'DNA']\n",
    "low_ic_new_neg_2 = pd.read_csv('new_low_ic_results_2.csv')\n",
    "low_ic_new_neg_2['IC'] = 'Low IC - New Neg Ctrl'\n",
    "low_ic_new_neg_2 = low_ic_new_neg_2[low_ic_new_neg_2['Library Type'] == 'DNA']\n",
    "low_ic_new_neg_remove = ['IDBD-D101028', 'IDBD-R002173', 'IDBD-R002174',\n",
    "                         'IDBD-R002171', 'controlPos']\n",
    "low_ic_new_neg = low_ic_new_neg[~low_ic_new_neg['Accession'].isin(low_ic_new_neg_remove)]\n",
    "low_ic_new_neg_2 = low_ic_new_neg_2[~low_ic_new_neg_2['Accession'].isin(low_ic_new_neg_remove)]\n",
    "# merged = pd.concat([hi_ic, low_ic], ignore_index=True)\n",
    "# merged = merged.sort_values(['Batch ID', 'Run Date'])\n",
    "merged_with_new_neg = pd.concat([hi_ic, hi_ic_2, low_ic, low_ic_new_neg, low_ic_new_neg_2], ignore_index=True)\n",
    "merged_with_new_neg = merged_with_new_neg.drop_duplicates(['Seq Sple'])\n",
    "merged_with_new_neg = merged_with_new_neg.sort_values(['Batch ID', 'Run Date'])\n",
    "merged_with_new_neg['Neg Ctrl Matrix'] = 'New'\n",
    "merged_with_new_neg.loc[merged_with_new_neg['Run Date'] < '2019-12-11', 'Neg Ctrl Matrix'] = 'Old'\n",
    "merged_with_new_neg.loc[(merged_with_new_neg['Batch ID'].isin(['191210B02', '191211B02']))\n",
    "                & (merged_with_new_neg['Accession'] == 'controlneg'), 'Neg Ctrl Matrix'] = 'Old'"
   ]
  },
  {
   "cell_type": "code",
   "execution_count": 78,
   "metadata": {},
   "outputs": [
    {
     "data": {
      "application/vnd.plotly.v1+json": {
       "config": {
        "plotlyServerURL": "https://plot.ly"
       },
       "data": [
        {
         "alignmentgroup": "True",
         "boxpoints": "all",
         "customdata": [
          [
           99264.60795910042,
           "controlneg",
           null,
           "191121B01",
           "2019-11-21"
          ],
          [
           110353.95480036669,
           "controlneg",
           null,
           "191123B01",
           "2019-11-24"
          ],
          [
           113394.30190942615,
           "controlneg",
           null,
           "191126B01",
           "2019-11-26"
          ],
          [
           115592.27838843988,
           "controlneg",
           null,
           "191127B01",
           "2019-11-27"
          ],
          [
           151541.88626024956,
           "controlneg",
           null,
           "191130B01",
           "2019-12-01"
          ],
          [
           119989.69223680561,
           "controlneg",
           null,
           "191203B01",
           "2019-12-04"
          ],
          [
           169023.34782414234,
           "controlneg",
           null,
           "191210B01",
           "2019-12-10"
          ],
          [
           81296.7092805203,
           "controlneg",
           null,
           "191210B02",
           "2019-12-11"
          ],
          [
           6024.460948397478,
           "IDBD-D101029",
           "NEW neg2",
           "191210B02",
           "2019-12-11"
          ],
          [
           5675.047209041326,
           "IDBD-D101030",
           "NEW neg3",
           "191210B02",
           "2019-12-11"
          ],
          [
           5403.951340526646,
           "IDBD-D101031",
           "NEW Neg4",
           "191210B02",
           "2019-12-11"
          ],
          [
           5418.6157095621975,
           "IDBD-D101032",
           "NEW Neg5",
           "191210B02",
           "2019-12-11"
          ],
          [
           41459.84937098144,
           "controlneg",
           null,
           "191211B02",
           "2019-12-13"
          ],
          [
           6652.236668416355,
           "IDBD-D101074",
           "NEW Neg7",
           "191211B02",
           "2019-12-13"
          ],
          [
           4842.589013443285,
           "IDBD-D101075",
           "NEW Neg8",
           "191211B02",
           "2019-12-13"
          ],
          [
           5692.139847158353,
           "IDBD-D101076",
           "NEG Neg9",
           "191211B02",
           "2019-12-13"
          ],
          [
           7851.406422252066,
           "IDBD-D101077",
           "NEW Neg10",
           "191211B02",
           "2019-12-13"
          ],
          [
           5236.962858478826,
           "controlneg",
           null,
           "191220B01",
           "2019-12-20"
          ],
          [
           6335.327851558352,
           "controlneg",
           null,
           "191223B01",
           "2019-12-24"
          ],
          [
           6463.652568748615,
           "controlneg",
           null,
           "191223B04",
           "2019-12-25"
          ],
          [
           7750.54380779208,
           "controlneg",
           null,
           "200114B02",
           "2020-01-17"
          ],
          [
           6847.422828544828,
           "controlneg",
           null,
           "200116B03",
           "2020-01-18"
          ],
          [
           7256.320679560567,
           "controlneg",
           null,
           "200117B01",
           "2020-01-18"
          ],
          [
           4087.081680907999,
           "IDBD-D101325",
           "RespNeg01",
           "200119B01",
           "2020-01-20"
          ],
          [
           4069.388217397553,
           "IDBD-D101326",
           "RespNeg02",
           "200119B01",
           "2020-01-20"
          ],
          [
           4528.987491931303,
           "IDBD-D101327",
           "RespNeg03",
           "200119B01",
           "2020-01-20"
          ],
          [
           3936.474466767371,
           "IDBD-D101328",
           "RespNeg04",
           "200119B01",
           "2020-01-20"
          ],
          [
           4226.835267167544,
           "IDBD-D101329",
           "RespNeg05",
           "200119B01",
           "2020-01-20"
          ],
          [
           6065.263744791783,
           "IDBD-D101330",
           "RespNeg06",
           "200119B01",
           "2020-01-20"
          ],
          [
           6485.633339481331,
           "IDBD-D101331",
           "RespNeg07",
           "200119B01",
           "2020-01-20"
          ],
          [
           5427.159827785494,
           "IDBD-D101332",
           "RespNeg08",
           "200119B01",
           "2020-01-20"
          ],
          [
           5942.472657614007,
           "controlNeg",
           null,
           "200119B01",
           "2020-01-20"
          ],
          [
           5733.678786763884,
           "IDBD-D101333",
           "RespNeg09",
           "200119B02",
           "2020-01-20"
          ],
          [
           5642.290092702827,
           "IDBD-D101334",
           "RespNeg10",
           "200119B02",
           "2020-01-20"
          ],
          [
           6373.47932698333,
           "IDBD-D101335",
           "RespNeg11",
           "200119B02",
           "2020-01-20"
          ],
          [
           5455.027941817089,
           "IDBD-D101336",
           "RespNeg12",
           "200119B02",
           "2020-01-20"
          ],
          [
           5791.7543573630555,
           "IDBD-D101337",
           "RespNeg13",
           "200119B02",
           "2020-01-20"
          ],
          [
           6506.286699523414,
           "IDBD-D101338",
           "RespNeg14",
           "200119B02",
           "2020-01-20"
          ],
          [
           6981.192666955223,
           "IDBD-D101339",
           "RespNeg15",
           "200119B02",
           "2020-01-20"
          ],
          [
           5870.396597770782,
           "IDBD-D101340",
           "RespNeg16",
           "200119B02",
           "2020-01-20"
          ],
          [
           5978.470544211966,
           "controlNeg",
           null,
           "200119B02",
           "2020-01-20"
          ]
         ],
         "hoverlabel": {
          "namelength": 0
         },
         "hovertemplate": "IC=%{x}<br>log<sub>10</sub>(T7 + PR772) NR=%{y}<br>T7 + PR772 NR=%{customdata[0]}<br>Accession=%{customdata[1]}<br>Sample Name=%{customdata[2]}<br>Batch ID=%{customdata[3]}<br>Run Date=%{customdata[4]}",
         "legendgroup": "",
         "marker": {
          "color": "#636efa"
         },
         "name": "",
         "notched": false,
         "offsetgroup": "",
         "orientation": "v",
         "showlegend": false,
         "type": "box",
         "x": [
          "Low IC",
          "Low IC",
          "Low IC",
          "Low IC",
          "Low IC",
          "Low IC",
          "Low IC",
          "Low IC",
          "Low IC - New Neg Ctrl",
          "Low IC - New Neg Ctrl",
          "Low IC - New Neg Ctrl",
          "Low IC - New Neg Ctrl",
          "Low IC",
          "Low IC - New Neg Ctrl",
          "Low IC - New Neg Ctrl",
          "Low IC - New Neg Ctrl",
          "Low IC - New Neg Ctrl",
          "Low IC",
          "Low IC",
          "Low IC",
          "Low IC",
          "Low IC",
          "Low IC",
          "Diluted Hi IC",
          "Diluted Hi IC",
          "Diluted Hi IC",
          "Diluted Hi IC",
          "Diluted Hi IC",
          "Diluted Hi IC",
          "Diluted Hi IC",
          "Diluted Hi IC",
          "Diluted Hi IC",
          "Diluted Hi IC",
          "Diluted Hi IC",
          "Diluted Hi IC",
          "Diluted Hi IC",
          "Diluted Hi IC",
          "Diluted Hi IC",
          "Diluted Hi IC",
          "Diluted Hi IC",
          "Diluted Hi IC"
         ],
         "x0": " ",
         "xaxis": "x",
         "y": [
          4.996794431699109,
          5.0427879017677215,
          5.054591231704434,
          5.062928824004099,
          5.180532688663176,
          5.079143939406351,
          5.227946699470661,
          4.910072966624383,
          3.7799181935523434,
          3.753969478647692,
          3.732711429795605,
          3.7338883517626065,
          4.617627719912439,
          3.822967691834141,
          3.68507761239413,
          3.7552755614936055,
          3.894947458874375,
          3.719079493814623,
          3.801769094426791,
          3.810478004398575,
          3.8893321753369854,
          3.835527146391352,
          3.8607164673108865,
          3.611413317235241,
          3.609529123284368,
          3.6560011212586434,
          3.5951074388142383,
          3.6260153223607854,
          3.7828496906794666,
          3.8119523925113104,
          3.7345726115745386,
          3.7739671921377567,
          3.7584333591644485,
          3.7514554112098666,
          3.8043765814699584,
          3.7367969794790623,
          3.7628101340758273,
          3.813333196553832,
          3.843929623830897,
          3.768667442713555,
          3.776590093826801
         ],
         "y0": " ",
         "yaxis": "y"
        }
       ],
       "layout": {
        "autosize": true,
        "boxmode": "group",
        "font": {
         "size": 18
        },
        "legend": {
         "tracegroupgap": 0
        },
        "margin": {
         "t": 60
        },
        "template": {
         "data": {
          "bar": [
           {
            "error_x": {
             "color": "#2a3f5f"
            },
            "error_y": {
             "color": "#2a3f5f"
            },
            "marker": {
             "line": {
              "color": "#E5ECF6",
              "width": 0.5
             }
            },
            "type": "bar"
           }
          ],
          "barpolar": [
           {
            "marker": {
             "line": {
              "color": "#E5ECF6",
              "width": 0.5
             }
            },
            "type": "barpolar"
           }
          ],
          "carpet": [
           {
            "aaxis": {
             "endlinecolor": "#2a3f5f",
             "gridcolor": "white",
             "linecolor": "white",
             "minorgridcolor": "white",
             "startlinecolor": "#2a3f5f"
            },
            "baxis": {
             "endlinecolor": "#2a3f5f",
             "gridcolor": "white",
             "linecolor": "white",
             "minorgridcolor": "white",
             "startlinecolor": "#2a3f5f"
            },
            "type": "carpet"
           }
          ],
          "choropleth": [
           {
            "colorbar": {
             "outlinewidth": 0,
             "ticks": ""
            },
            "type": "choropleth"
           }
          ],
          "contour": [
           {
            "colorbar": {
             "outlinewidth": 0,
             "ticks": ""
            },
            "colorscale": [
             [
              0,
              "#0d0887"
             ],
             [
              0.1111111111111111,
              "#46039f"
             ],
             [
              0.2222222222222222,
              "#7201a8"
             ],
             [
              0.3333333333333333,
              "#9c179e"
             ],
             [
              0.4444444444444444,
              "#bd3786"
             ],
             [
              0.5555555555555556,
              "#d8576b"
             ],
             [
              0.6666666666666666,
              "#ed7953"
             ],
             [
              0.7777777777777778,
              "#fb9f3a"
             ],
             [
              0.8888888888888888,
              "#fdca26"
             ],
             [
              1,
              "#f0f921"
             ]
            ],
            "type": "contour"
           }
          ],
          "contourcarpet": [
           {
            "colorbar": {
             "outlinewidth": 0,
             "ticks": ""
            },
            "type": "contourcarpet"
           }
          ],
          "heatmap": [
           {
            "colorbar": {
             "outlinewidth": 0,
             "ticks": ""
            },
            "colorscale": [
             [
              0,
              "#0d0887"
             ],
             [
              0.1111111111111111,
              "#46039f"
             ],
             [
              0.2222222222222222,
              "#7201a8"
             ],
             [
              0.3333333333333333,
              "#9c179e"
             ],
             [
              0.4444444444444444,
              "#bd3786"
             ],
             [
              0.5555555555555556,
              "#d8576b"
             ],
             [
              0.6666666666666666,
              "#ed7953"
             ],
             [
              0.7777777777777778,
              "#fb9f3a"
             ],
             [
              0.8888888888888888,
              "#fdca26"
             ],
             [
              1,
              "#f0f921"
             ]
            ],
            "type": "heatmap"
           }
          ],
          "heatmapgl": [
           {
            "colorbar": {
             "outlinewidth": 0,
             "ticks": ""
            },
            "colorscale": [
             [
              0,
              "#0d0887"
             ],
             [
              0.1111111111111111,
              "#46039f"
             ],
             [
              0.2222222222222222,
              "#7201a8"
             ],
             [
              0.3333333333333333,
              "#9c179e"
             ],
             [
              0.4444444444444444,
              "#bd3786"
             ],
             [
              0.5555555555555556,
              "#d8576b"
             ],
             [
              0.6666666666666666,
              "#ed7953"
             ],
             [
              0.7777777777777778,
              "#fb9f3a"
             ],
             [
              0.8888888888888888,
              "#fdca26"
             ],
             [
              1,
              "#f0f921"
             ]
            ],
            "type": "heatmapgl"
           }
          ],
          "histogram": [
           {
            "marker": {
             "colorbar": {
              "outlinewidth": 0,
              "ticks": ""
             }
            },
            "type": "histogram"
           }
          ],
          "histogram2d": [
           {
            "colorbar": {
             "outlinewidth": 0,
             "ticks": ""
            },
            "colorscale": [
             [
              0,
              "#0d0887"
             ],
             [
              0.1111111111111111,
              "#46039f"
             ],
             [
              0.2222222222222222,
              "#7201a8"
             ],
             [
              0.3333333333333333,
              "#9c179e"
             ],
             [
              0.4444444444444444,
              "#bd3786"
             ],
             [
              0.5555555555555556,
              "#d8576b"
             ],
             [
              0.6666666666666666,
              "#ed7953"
             ],
             [
              0.7777777777777778,
              "#fb9f3a"
             ],
             [
              0.8888888888888888,
              "#fdca26"
             ],
             [
              1,
              "#f0f921"
             ]
            ],
            "type": "histogram2d"
           }
          ],
          "histogram2dcontour": [
           {
            "colorbar": {
             "outlinewidth": 0,
             "ticks": ""
            },
            "colorscale": [
             [
              0,
              "#0d0887"
             ],
             [
              0.1111111111111111,
              "#46039f"
             ],
             [
              0.2222222222222222,
              "#7201a8"
             ],
             [
              0.3333333333333333,
              "#9c179e"
             ],
             [
              0.4444444444444444,
              "#bd3786"
             ],
             [
              0.5555555555555556,
              "#d8576b"
             ],
             [
              0.6666666666666666,
              "#ed7953"
             ],
             [
              0.7777777777777778,
              "#fb9f3a"
             ],
             [
              0.8888888888888888,
              "#fdca26"
             ],
             [
              1,
              "#f0f921"
             ]
            ],
            "type": "histogram2dcontour"
           }
          ],
          "mesh3d": [
           {
            "colorbar": {
             "outlinewidth": 0,
             "ticks": ""
            },
            "type": "mesh3d"
           }
          ],
          "parcoords": [
           {
            "line": {
             "colorbar": {
              "outlinewidth": 0,
              "ticks": ""
             }
            },
            "type": "parcoords"
           }
          ],
          "pie": [
           {
            "automargin": true,
            "type": "pie"
           }
          ],
          "scatter": [
           {
            "marker": {
             "colorbar": {
              "outlinewidth": 0,
              "ticks": ""
             }
            },
            "type": "scatter"
           }
          ],
          "scatter3d": [
           {
            "line": {
             "colorbar": {
              "outlinewidth": 0,
              "ticks": ""
             }
            },
            "marker": {
             "colorbar": {
              "outlinewidth": 0,
              "ticks": ""
             }
            },
            "type": "scatter3d"
           }
          ],
          "scattercarpet": [
           {
            "marker": {
             "colorbar": {
              "outlinewidth": 0,
              "ticks": ""
             }
            },
            "type": "scattercarpet"
           }
          ],
          "scattergeo": [
           {
            "marker": {
             "colorbar": {
              "outlinewidth": 0,
              "ticks": ""
             }
            },
            "type": "scattergeo"
           }
          ],
          "scattergl": [
           {
            "marker": {
             "colorbar": {
              "outlinewidth": 0,
              "ticks": ""
             }
            },
            "type": "scattergl"
           }
          ],
          "scattermapbox": [
           {
            "marker": {
             "colorbar": {
              "outlinewidth": 0,
              "ticks": ""
             }
            },
            "type": "scattermapbox"
           }
          ],
          "scatterpolar": [
           {
            "marker": {
             "colorbar": {
              "outlinewidth": 0,
              "ticks": ""
             }
            },
            "type": "scatterpolar"
           }
          ],
          "scatterpolargl": [
           {
            "marker": {
             "colorbar": {
              "outlinewidth": 0,
              "ticks": ""
             }
            },
            "type": "scatterpolargl"
           }
          ],
          "scatterternary": [
           {
            "marker": {
             "colorbar": {
              "outlinewidth": 0,
              "ticks": ""
             }
            },
            "type": "scatterternary"
           }
          ],
          "surface": [
           {
            "colorbar": {
             "outlinewidth": 0,
             "ticks": ""
            },
            "colorscale": [
             [
              0,
              "#0d0887"
             ],
             [
              0.1111111111111111,
              "#46039f"
             ],
             [
              0.2222222222222222,
              "#7201a8"
             ],
             [
              0.3333333333333333,
              "#9c179e"
             ],
             [
              0.4444444444444444,
              "#bd3786"
             ],
             [
              0.5555555555555556,
              "#d8576b"
             ],
             [
              0.6666666666666666,
              "#ed7953"
             ],
             [
              0.7777777777777778,
              "#fb9f3a"
             ],
             [
              0.8888888888888888,
              "#fdca26"
             ],
             [
              1,
              "#f0f921"
             ]
            ],
            "type": "surface"
           }
          ],
          "table": [
           {
            "cells": {
             "fill": {
              "color": "#EBF0F8"
             },
             "line": {
              "color": "white"
             }
            },
            "header": {
             "fill": {
              "color": "#C8D4E3"
             },
             "line": {
              "color": "white"
             }
            },
            "type": "table"
           }
          ]
         },
         "layout": {
          "annotationdefaults": {
           "arrowcolor": "#2a3f5f",
           "arrowhead": 0,
           "arrowwidth": 1
          },
          "coloraxis": {
           "colorbar": {
            "outlinewidth": 0,
            "ticks": ""
           }
          },
          "colorscale": {
           "diverging": [
            [
             0,
             "#8e0152"
            ],
            [
             0.1,
             "#c51b7d"
            ],
            [
             0.2,
             "#de77ae"
            ],
            [
             0.3,
             "#f1b6da"
            ],
            [
             0.4,
             "#fde0ef"
            ],
            [
             0.5,
             "#f7f7f7"
            ],
            [
             0.6,
             "#e6f5d0"
            ],
            [
             0.7,
             "#b8e186"
            ],
            [
             0.8,
             "#7fbc41"
            ],
            [
             0.9,
             "#4d9221"
            ],
            [
             1,
             "#276419"
            ]
           ],
           "sequential": [
            [
             0,
             "#0d0887"
            ],
            [
             0.1111111111111111,
             "#46039f"
            ],
            [
             0.2222222222222222,
             "#7201a8"
            ],
            [
             0.3333333333333333,
             "#9c179e"
            ],
            [
             0.4444444444444444,
             "#bd3786"
            ],
            [
             0.5555555555555556,
             "#d8576b"
            ],
            [
             0.6666666666666666,
             "#ed7953"
            ],
            [
             0.7777777777777778,
             "#fb9f3a"
            ],
            [
             0.8888888888888888,
             "#fdca26"
            ],
            [
             1,
             "#f0f921"
            ]
           ],
           "sequentialminus": [
            [
             0,
             "#0d0887"
            ],
            [
             0.1111111111111111,
             "#46039f"
            ],
            [
             0.2222222222222222,
             "#7201a8"
            ],
            [
             0.3333333333333333,
             "#9c179e"
            ],
            [
             0.4444444444444444,
             "#bd3786"
            ],
            [
             0.5555555555555556,
             "#d8576b"
            ],
            [
             0.6666666666666666,
             "#ed7953"
            ],
            [
             0.7777777777777778,
             "#fb9f3a"
            ],
            [
             0.8888888888888888,
             "#fdca26"
            ],
            [
             1,
             "#f0f921"
            ]
           ]
          },
          "colorway": [
           "#636efa",
           "#EF553B",
           "#00cc96",
           "#ab63fa",
           "#FFA15A",
           "#19d3f3",
           "#FF6692",
           "#B6E880",
           "#FF97FF",
           "#FECB52"
          ],
          "font": {
           "color": "#2a3f5f"
          },
          "geo": {
           "bgcolor": "white",
           "lakecolor": "white",
           "landcolor": "#E5ECF6",
           "showlakes": true,
           "showland": true,
           "subunitcolor": "white"
          },
          "hoverlabel": {
           "align": "left"
          },
          "hovermode": "closest",
          "mapbox": {
           "style": "light"
          },
          "paper_bgcolor": "white",
          "plot_bgcolor": "#E5ECF6",
          "polar": {
           "angularaxis": {
            "gridcolor": "white",
            "linecolor": "white",
            "ticks": ""
           },
           "bgcolor": "#E5ECF6",
           "radialaxis": {
            "gridcolor": "white",
            "linecolor": "white",
            "ticks": ""
           }
          },
          "scene": {
           "xaxis": {
            "backgroundcolor": "#E5ECF6",
            "gridcolor": "white",
            "gridwidth": 2,
            "linecolor": "white",
            "showbackground": true,
            "ticks": "",
            "zerolinecolor": "white"
           },
           "yaxis": {
            "backgroundcolor": "#E5ECF6",
            "gridcolor": "white",
            "gridwidth": 2,
            "linecolor": "white",
            "showbackground": true,
            "ticks": "",
            "zerolinecolor": "white"
           },
           "zaxis": {
            "backgroundcolor": "#E5ECF6",
            "gridcolor": "white",
            "gridwidth": 2,
            "linecolor": "white",
            "showbackground": true,
            "ticks": "",
            "zerolinecolor": "white"
           }
          },
          "shapedefaults": {
           "line": {
            "color": "#2a3f5f"
           }
          },
          "ternary": {
           "aaxis": {
            "gridcolor": "white",
            "linecolor": "white",
            "ticks": ""
           },
           "baxis": {
            "gridcolor": "white",
            "linecolor": "white",
            "ticks": ""
           },
           "bgcolor": "#E5ECF6",
           "caxis": {
            "gridcolor": "white",
            "linecolor": "white",
            "ticks": ""
           }
          },
          "title": {
           "x": 0.05
          },
          "xaxis": {
           "automargin": true,
           "gridcolor": "white",
           "linecolor": "white",
           "ticks": "",
           "title": {
            "standoff": 15
           },
           "zerolinecolor": "white",
           "zerolinewidth": 2
          },
          "yaxis": {
           "automargin": true,
           "gridcolor": "white",
           "linecolor": "white",
           "ticks": "",
           "title": {
            "standoff": 15
           },
           "zerolinecolor": "white",
           "zerolinewidth": 2
          }
         }
        },
        "xaxis": {
         "anchor": "y",
         "autorange": true,
         "domain": [
          0,
          1
         ],
         "range": [
          -0.5090361445783133,
          2.5
         ],
         "title": {
          "text": "IC"
         },
         "type": "category"
        },
        "yaxis": {
         "anchor": "x",
         "autorange": true,
         "domain": [
          0,
          1
         ],
         "range": [
          3.504394146555548,
          5.318659991729351
         ],
         "title": {
          "text": "log<sub>10</sub>(T7 + PR772) NR"
         },
         "type": "linear"
        }
       }
      },
      "image/png": "[encoded data removed]",
      "text/html": [
       "<div>\n",
       "        \n",
       "        \n",
       "            <div id=\"cba8419a-b0c5-4e11-a3b0-d15e321b8645\" class=\"plotly-graph-div\" style=\"height:600px; width:100%;\"></div>\n",
       "            <script type=\"text/javascript\">\n",
       "                require([\"plotly\"], function(Plotly) {\n",
       "                    window.PLOTLYENV=window.PLOTLYENV || {};\n",
       "                    \n",
       "                if (document.getElementById(\"cba8419a-b0c5-4e11-a3b0-d15e321b8645\")) {\n",
       "                    Plotly.newPlot(\n",
       "                        'cba8419a-b0c5-4e11-a3b0-d15e321b8645',\n",
       "                        [{\"alignmentgroup\": \"True\", \"boxpoints\": \"all\", \"customdata\": [[99264.60795910042, \"controlneg\", null, \"191121B01\", \"2019-11-21\"], [110353.95480036669, \"controlneg\", null, \"191123B01\", \"2019-11-24\"], [113394.30190942615, \"controlneg\", null, \"191126B01\", \"2019-11-26\"], [115592.27838843988, \"controlneg\", null, \"191127B01\", \"2019-11-27\"], [151541.88626024956, \"controlneg\", null, \"191130B01\", \"2019-12-01\"], [119989.69223680561, \"controlneg\", null, \"191203B01\", \"2019-12-04\"], [169023.34782414234, \"controlneg\", null, \"191210B01\", \"2019-12-10\"], [81296.7092805203, \"controlneg\", null, \"191210B02\", \"2019-12-11\"], [6024.460948397478, \"IDBD-D101029\", \"NEW neg2\", \"191210B02\", \"2019-12-11\"], [5675.047209041326, \"IDBD-D101030\", \"NEW neg3\", \"191210B02\", \"2019-12-11\"], [5403.951340526646, \"IDBD-D101031\", \"NEW Neg4\", \"191210B02\", \"2019-12-11\"], [5418.6157095621975, \"IDBD-D101032\", \"NEW Neg5\", \"191210B02\", \"2019-12-11\"], [41459.84937098144, \"controlneg\", null, \"191211B02\", \"2019-12-13\"], [6652.236668416355, \"IDBD-D101074\", \"NEW Neg7\", \"191211B02\", \"2019-12-13\"], [4842.589013443285, \"IDBD-D101075\", \"NEW Neg8\", \"191211B02\", \"2019-12-13\"], [5692.139847158353, \"IDBD-D101076\", \"NEG Neg9\", \"191211B02\", \"2019-12-13\"], [7851.406422252066, \"IDBD-D101077\", \"NEW Neg10\", \"191211B02\", \"2019-12-13\"], [5236.962858478826, \"controlneg\", null, \"191220B01\", \"2019-12-20\"], [6335.327851558352, \"controlneg\", null, \"191223B01\", \"2019-12-24\"], [6463.652568748615, \"controlneg\", null, \"191223B04\", \"2019-12-25\"], [7750.54380779208, \"controlneg\", null, \"200114B02\", \"2020-01-17\"], [6847.422828544828, \"controlneg\", null, \"200116B03\", \"2020-01-18\"], [7256.320679560567, \"controlneg\", null, \"200117B01\", \"2020-01-18\"], [4087.081680907999, \"IDBD-D101325\", \"RespNeg01\", \"200119B01\", \"2020-01-20\"], [4069.388217397553, \"IDBD-D101326\", \"RespNeg02\", \"200119B01\", \"2020-01-20\"], [4528.987491931303, \"IDBD-D101327\", \"RespNeg03\", \"200119B01\", \"2020-01-20\"], [3936.474466767371, \"IDBD-D101328\", \"RespNeg04\", \"200119B01\", \"2020-01-20\"], [4226.835267167544, \"IDBD-D101329\", \"RespNeg05\", \"200119B01\", \"2020-01-20\"], [6065.263744791783, \"IDBD-D101330\", \"RespNeg06\", \"200119B01\", \"2020-01-20\"], [6485.633339481331, \"IDBD-D101331\", \"RespNeg07\", \"200119B01\", \"2020-01-20\"], [5427.159827785494, \"IDBD-D101332\", \"RespNeg08\", \"200119B01\", \"2020-01-20\"], [5942.472657614007, \"controlNeg\", null, \"200119B01\", \"2020-01-20\"], [5733.678786763884, \"IDBD-D101333\", \"RespNeg09\", \"200119B02\", \"2020-01-20\"], [5642.290092702827, \"IDBD-D101334\", \"RespNeg10\", \"200119B02\", \"2020-01-20\"], [6373.47932698333, \"IDBD-D101335\", \"RespNeg11\", \"200119B02\", \"2020-01-20\"], [5455.027941817089, \"IDBD-D101336\", \"RespNeg12\", \"200119B02\", \"2020-01-20\"], [5791.7543573630555, \"IDBD-D101337\", \"RespNeg13\", \"200119B02\", \"2020-01-20\"], [6506.286699523414, \"IDBD-D101338\", \"RespNeg14\", \"200119B02\", \"2020-01-20\"], [6981.192666955223, \"IDBD-D101339\", \"RespNeg15\", \"200119B02\", \"2020-01-20\"], [5870.396597770782, \"IDBD-D101340\", \"RespNeg16\", \"200119B02\", \"2020-01-20\"], [5978.470544211966, \"controlNeg\", null, \"200119B02\", \"2020-01-20\"]], \"hoverlabel\": {\"namelength\": 0}, \"hovertemplate\": \"IC=%{x}<br>log<sub>10</sub>(T7 + PR772) NR=%{y}<br>T7 + PR772 NR=%{customdata[0]}<br>Accession=%{customdata[1]}<br>Sample Name=%{customdata[2]}<br>Batch ID=%{customdata[3]}<br>Run Date=%{customdata[4]}\", \"legendgroup\": \"\", \"marker\": {\"color\": \"#636efa\"}, \"name\": \"\", \"notched\": false, \"offsetgroup\": \"\", \"orientation\": \"v\", \"showlegend\": false, \"type\": \"box\", \"x\": [\"Low IC\", \"Low IC\", \"Low IC\", \"Low IC\", \"Low IC\", \"Low IC\", \"Low IC\", \"Low IC\", \"Low IC - New Neg Ctrl\", \"Low IC - New Neg Ctrl\", \"Low IC - New Neg Ctrl\", \"Low IC - New Neg Ctrl\", \"Low IC\", \"Low IC - New Neg Ctrl\", \"Low IC - New Neg Ctrl\", \"Low IC - New Neg Ctrl\", \"Low IC - New Neg Ctrl\", \"Low IC\", \"Low IC\", \"Low IC\", \"Low IC\", \"Low IC\", \"Low IC\", \"Diluted Hi IC\", \"Diluted Hi IC\", \"Diluted Hi IC\", \"Diluted Hi IC\", \"Diluted Hi IC\", \"Diluted Hi IC\", \"Diluted Hi IC\", \"Diluted Hi IC\", \"Diluted Hi IC\", \"Diluted Hi IC\", \"Diluted Hi IC\", \"Diluted Hi IC\", \"Diluted Hi IC\", \"Diluted Hi IC\", \"Diluted Hi IC\", \"Diluted Hi IC\", \"Diluted Hi IC\", \"Diluted Hi IC\"], \"x0\": \" \", \"xaxis\": \"x\", \"y\": [4.996794431699109, 5.0427879017677215, 5.054591231704434, 5.062928824004099, 5.180532688663176, 5.079143939406351, 5.227946699470661, 4.910072966624383, 3.7799181935523434, 3.753969478647692, 3.732711429795605, 3.7338883517626065, 4.617627719912439, 3.822967691834141, 3.68507761239413, 3.7552755614936055, 3.894947458874375, 3.719079493814623, 3.801769094426791, 3.810478004398575, 3.8893321753369854, 3.835527146391352, 3.8607164673108865, 3.611413317235241, 3.609529123284368, 3.6560011212586434, 3.5951074388142383, 3.6260153223607854, 3.7828496906794666, 3.8119523925113104, 3.7345726115745386, 3.7739671921377567, 3.7584333591644485, 3.7514554112098666, 3.8043765814699584, 3.7367969794790623, 3.7628101340758273, 3.813333196553832, 3.843929623830897, 3.768667442713555, 3.776590093826801], \"y0\": \" \", \"yaxis\": \"y\"}],\n",
       "                        {\"boxmode\": \"group\", \"font\": {\"size\": 18}, \"height\": 600, \"legend\": {\"tracegroupgap\": 0}, \"margin\": {\"t\": 60}, \"template\": {\"data\": {\"bar\": [{\"error_x\": {\"color\": \"#2a3f5f\"}, \"error_y\": {\"color\": \"#2a3f5f\"}, \"marker\": {\"line\": {\"color\": \"#E5ECF6\", \"width\": 0.5}}, \"type\": \"bar\"}], \"barpolar\": [{\"marker\": {\"line\": {\"color\": \"#E5ECF6\", \"width\": 0.5}}, \"type\": \"barpolar\"}], \"carpet\": [{\"aaxis\": {\"endlinecolor\": \"#2a3f5f\", \"gridcolor\": \"white\", \"linecolor\": \"white\", \"minorgridcolor\": \"white\", \"startlinecolor\": \"#2a3f5f\"}, \"baxis\": {\"endlinecolor\": \"#2a3f5f\", \"gridcolor\": \"white\", \"linecolor\": \"white\", \"minorgridcolor\": \"white\", \"startlinecolor\": \"#2a3f5f\"}, \"type\": \"carpet\"}], \"choropleth\": [{\"colorbar\": {\"outlinewidth\": 0, \"ticks\": \"\"}, \"type\": \"choropleth\"}], \"contour\": [{\"colorbar\": {\"outlinewidth\": 0, \"ticks\": \"\"}, \"colorscale\": [[0.0, \"#0d0887\"], [0.1111111111111111, \"#46039f\"], [0.2222222222222222, \"#7201a8\"], [0.3333333333333333, \"#9c179e\"], [0.4444444444444444, \"#bd3786\"], [0.5555555555555556, \"#d8576b\"], [0.6666666666666666, \"#ed7953\"], [0.7777777777777778, \"#fb9f3a\"], [0.8888888888888888, \"#fdca26\"], [1.0, \"#f0f921\"]], \"type\": \"contour\"}], \"contourcarpet\": [{\"colorbar\": {\"outlinewidth\": 0, \"ticks\": \"\"}, \"type\": \"contourcarpet\"}], \"heatmap\": [{\"colorbar\": {\"outlinewidth\": 0, \"ticks\": \"\"}, \"colorscale\": [[0.0, \"#0d0887\"], [0.1111111111111111, \"#46039f\"], [0.2222222222222222, \"#7201a8\"], [0.3333333333333333, \"#9c179e\"], [0.4444444444444444, \"#bd3786\"], [0.5555555555555556, \"#d8576b\"], [0.6666666666666666, \"#ed7953\"], [0.7777777777777778, \"#fb9f3a\"], [0.8888888888888888, \"#fdca26\"], [1.0, \"#f0f921\"]], \"type\": \"heatmap\"}], \"heatmapgl\": [{\"colorbar\": {\"outlinewidth\": 0, \"ticks\": \"\"}, \"colorscale\": [[0.0, \"#0d0887\"], [0.1111111111111111, \"#46039f\"], [0.2222222222222222, \"#7201a8\"], [0.3333333333333333, \"#9c179e\"], [0.4444444444444444, \"#bd3786\"], [0.5555555555555556, \"#d8576b\"], [0.6666666666666666, \"#ed7953\"], [0.7777777777777778, \"#fb9f3a\"], [0.8888888888888888, \"#fdca26\"], [1.0, \"#f0f921\"]], \"type\": \"heatmapgl\"}], \"histogram\": [{\"marker\": {\"colorbar\": {\"outlinewidth\": 0, \"ticks\": \"\"}}, \"type\": \"histogram\"}], \"histogram2d\": [{\"colorbar\": {\"outlinewidth\": 0, \"ticks\": \"\"}, \"colorscale\": [[0.0, \"#0d0887\"], [0.1111111111111111, \"#46039f\"], [0.2222222222222222, \"#7201a8\"], [0.3333333333333333, \"#9c179e\"], [0.4444444444444444, \"#bd3786\"], [0.5555555555555556, \"#d8576b\"], [0.6666666666666666, \"#ed7953\"], [0.7777777777777778, \"#fb9f3a\"], [0.8888888888888888, \"#fdca26\"], [1.0, \"#f0f921\"]], \"type\": \"histogram2d\"}], \"histogram2dcontour\": [{\"colorbar\": {\"outlinewidth\": 0, \"ticks\": \"\"}, \"colorscale\": [[0.0, \"#0d0887\"], [0.1111111111111111, \"#46039f\"], [0.2222222222222222, \"#7201a8\"], [0.3333333333333333, \"#9c179e\"], [0.4444444444444444, \"#bd3786\"], [0.5555555555555556, \"#d8576b\"], [0.6666666666666666, \"#ed7953\"], [0.7777777777777778, \"#fb9f3a\"], [0.8888888888888888, \"#fdca26\"], [1.0, \"#f0f921\"]], \"type\": \"histogram2dcontour\"}], \"mesh3d\": [{\"colorbar\": {\"outlinewidth\": 0, \"ticks\": \"\"}, \"type\": \"mesh3d\"}], \"parcoords\": [{\"line\": {\"colorbar\": {\"outlinewidth\": 0, \"ticks\": \"\"}}, \"type\": \"parcoords\"}], \"pie\": [{\"automargin\": true, \"type\": \"pie\"}], \"scatter\": [{\"marker\": {\"colorbar\": {\"outlinewidth\": 0, \"ticks\": \"\"}}, \"type\": \"scatter\"}], \"scatter3d\": [{\"line\": {\"colorbar\": {\"outlinewidth\": 0, \"ticks\": \"\"}}, \"marker\": {\"colorbar\": {\"outlinewidth\": 0, \"ticks\": \"\"}}, \"type\": \"scatter3d\"}], \"scattercarpet\": [{\"marker\": {\"colorbar\": {\"outlinewidth\": 0, \"ticks\": \"\"}}, \"type\": \"scattercarpet\"}], \"scattergeo\": [{\"marker\": {\"colorbar\": {\"outlinewidth\": 0, \"ticks\": \"\"}}, \"type\": \"scattergeo\"}], \"scattergl\": [{\"marker\": {\"colorbar\": {\"outlinewidth\": 0, \"ticks\": \"\"}}, \"type\": \"scattergl\"}], \"scattermapbox\": [{\"marker\": {\"colorbar\": {\"outlinewidth\": 0, \"ticks\": \"\"}}, \"type\": \"scattermapbox\"}], \"scatterpolar\": [{\"marker\": {\"colorbar\": {\"outlinewidth\": 0, \"ticks\": \"\"}}, \"type\": \"scatterpolar\"}], \"scatterpolargl\": [{\"marker\": {\"colorbar\": {\"outlinewidth\": 0, \"ticks\": \"\"}}, \"type\": \"scatterpolargl\"}], \"scatterternary\": [{\"marker\": {\"colorbar\": {\"outlinewidth\": 0, \"ticks\": \"\"}}, \"type\": \"scatterternary\"}], \"surface\": [{\"colorbar\": {\"outlinewidth\": 0, \"ticks\": \"\"}, \"colorscale\": [[0.0, \"#0d0887\"], [0.1111111111111111, \"#46039f\"], [0.2222222222222222, \"#7201a8\"], [0.3333333333333333, \"#9c179e\"], [0.4444444444444444, \"#bd3786\"], [0.5555555555555556, \"#d8576b\"], [0.6666666666666666, \"#ed7953\"], [0.7777777777777778, \"#fb9f3a\"], [0.8888888888888888, \"#fdca26\"], [1.0, \"#f0f921\"]], \"type\": \"surface\"}], \"table\": [{\"cells\": {\"fill\": {\"color\": \"#EBF0F8\"}, \"line\": {\"color\": \"white\"}}, \"header\": {\"fill\": {\"color\": \"#C8D4E3\"}, \"line\": {\"color\": \"white\"}}, \"type\": \"table\"}]}, \"layout\": {\"annotationdefaults\": {\"arrowcolor\": \"#2a3f5f\", \"arrowhead\": 0, \"arrowwidth\": 1}, \"coloraxis\": {\"colorbar\": {\"outlinewidth\": 0, \"ticks\": \"\"}}, \"colorscale\": {\"diverging\": [[0, \"#8e0152\"], [0.1, \"#c51b7d\"], [0.2, \"#de77ae\"], [0.3, \"#f1b6da\"], [0.4, \"#fde0ef\"], [0.5, \"#f7f7f7\"], [0.6, \"#e6f5d0\"], [0.7, \"#b8e186\"], [0.8, \"#7fbc41\"], [0.9, \"#4d9221\"], [1, \"#276419\"]], \"sequential\": [[0.0, \"#0d0887\"], [0.1111111111111111, \"#46039f\"], [0.2222222222222222, \"#7201a8\"], [0.3333333333333333, \"#9c179e\"], [0.4444444444444444, \"#bd3786\"], [0.5555555555555556, \"#d8576b\"], [0.6666666666666666, \"#ed7953\"], [0.7777777777777778, \"#fb9f3a\"], [0.8888888888888888, \"#fdca26\"], [1.0, \"#f0f921\"]], \"sequentialminus\": [[0.0, \"#0d0887\"], [0.1111111111111111, \"#46039f\"], [0.2222222222222222, \"#7201a8\"], [0.3333333333333333, \"#9c179e\"], [0.4444444444444444, \"#bd3786\"], [0.5555555555555556, \"#d8576b\"], [0.6666666666666666, \"#ed7953\"], [0.7777777777777778, \"#fb9f3a\"], [0.8888888888888888, \"#fdca26\"], [1.0, \"#f0f921\"]]}, \"colorway\": [\"#636efa\", \"#EF553B\", \"#00cc96\", \"#ab63fa\", \"#FFA15A\", \"#19d3f3\", \"#FF6692\", \"#B6E880\", \"#FF97FF\", \"#FECB52\"], \"font\": {\"color\": \"#2a3f5f\"}, \"geo\": {\"bgcolor\": \"white\", \"lakecolor\": \"white\", \"landcolor\": \"#E5ECF6\", \"showlakes\": true, \"showland\": true, \"subunitcolor\": \"white\"}, \"hoverlabel\": {\"align\": \"left\"}, \"hovermode\": \"closest\", \"mapbox\": {\"style\": \"light\"}, \"paper_bgcolor\": \"white\", \"plot_bgcolor\": \"#E5ECF6\", \"polar\": {\"angularaxis\": {\"gridcolor\": \"white\", \"linecolor\": \"white\", \"ticks\": \"\"}, \"bgcolor\": \"#E5ECF6\", \"radialaxis\": {\"gridcolor\": \"white\", \"linecolor\": \"white\", \"ticks\": \"\"}}, \"scene\": {\"xaxis\": {\"backgroundcolor\": \"#E5ECF6\", \"gridcolor\": \"white\", \"gridwidth\": 2, \"linecolor\": \"white\", \"showbackground\": true, \"ticks\": \"\", \"zerolinecolor\": \"white\"}, \"yaxis\": {\"backgroundcolor\": \"#E5ECF6\", \"gridcolor\": \"white\", \"gridwidth\": 2, \"linecolor\": \"white\", \"showbackground\": true, \"ticks\": \"\", \"zerolinecolor\": \"white\"}, \"zaxis\": {\"backgroundcolor\": \"#E5ECF6\", \"gridcolor\": \"white\", \"gridwidth\": 2, \"linecolor\": \"white\", \"showbackground\": true, \"ticks\": \"\", \"zerolinecolor\": \"white\"}}, \"shapedefaults\": {\"line\": {\"color\": \"#2a3f5f\"}}, \"ternary\": {\"aaxis\": {\"gridcolor\": \"white\", \"linecolor\": \"white\", \"ticks\": \"\"}, \"baxis\": {\"gridcolor\": \"white\", \"linecolor\": \"white\", \"ticks\": \"\"}, \"bgcolor\": \"#E5ECF6\", \"caxis\": {\"gridcolor\": \"white\", \"linecolor\": \"white\", \"ticks\": \"\"}}, \"title\": {\"x\": 0.05}, \"xaxis\": {\"automargin\": true, \"gridcolor\": \"white\", \"linecolor\": \"white\", \"ticks\": \"\", \"title\": {\"standoff\": 15}, \"zerolinecolor\": \"white\", \"zerolinewidth\": 2}, \"yaxis\": {\"automargin\": true, \"gridcolor\": \"white\", \"linecolor\": \"white\", \"ticks\": \"\", \"title\": {\"standoff\": 15}, \"zerolinecolor\": \"white\", \"zerolinewidth\": 2}}}, \"xaxis\": {\"anchor\": \"y\", \"domain\": [0.0, 1.0], \"title\": {\"text\": \"IC\"}}, \"yaxis\": {\"anchor\": \"x\", \"domain\": [0.0, 1.0], \"title\": {\"text\": \"log<sub>10</sub>(T7 + PR772) NR\"}}},\n",
       "                        {\"responsive\": true}\n",
       "                    ).then(function(){\n",
       "                            \n",
       "var gd = document.getElementById('cba8419a-b0c5-4e11-a3b0-d15e321b8645');\n",
       "var x = new MutationObserver(function (mutations, observer) {{\n",
       "        var display = window.getComputedStyle(gd).display;\n",
       "        if (!display || display === 'none') {{\n",
       "            console.log([gd, 'removed!']);\n",
       "            Plotly.purge(gd);\n",
       "            observer.disconnect();\n",
       "        }}\n",
       "}});\n",
       "\n",
       "// Listen for the removal of the full notebook cells\n",
       "var notebookContainer = gd.closest('#notebook-container');\n",
       "if (notebookContainer) {{\n",
       "    x.observe(notebookContainer, {childList: true});\n",
       "}}\n",
       "\n",
       "// Listen for the clearing of the current output cell\n",
       "var outputEl = gd.closest('.output');\n",
       "if (outputEl) {{\n",
       "    x.observe(outputEl, {childList: true});\n",
       "}}\n",
       "\n",
       "                        })\n",
       "                };\n",
       "                });\n",
       "            </script>\n",
       "        </div>"
      ]
     },
     "metadata": {},
     "output_type": "display_data"
    }
   ],
   "source": [
    "fig = px.box(\n",
    "    merged_with_new_neg, y='Log10 T7 + PR772 NR (Composition File)',\n",
    "    x='IC', hover_data=['T7 + PR772 NR (Composition File)', 'Accession', 'Sample Name', 'Batch ID', 'Run Date'], points='all',\n",
    "    labels={'Log10 T7 + PR772 NR (Composition File)': 'log<sub>10</sub>(T7 + PR772) NR',\n",
    "            'T7 + PR772 NR (Composition File)': 'T7 + PR772 NR'})\n",
    "fig.update_layout(font=dict(size=18), height=600)\n",
    "fig.show()\n",
    "# fig.write_html('plots/Diluted_Hi_IC_vs_Low_IC.html')"
   ]
  },
  {
   "cell_type": "markdown",
   "metadata": {},
   "source": [
    "## Equivalency of Low IC and diluted High IC"
   ]
  },
  {
   "cell_type": "markdown",
   "metadata": {},
   "source": [
    "### T-test stats in log10 space"
   ]
  },
  {
   "cell_type": "code",
   "execution_count": 41,
   "metadata": {},
   "outputs": [
    {
     "data": {
      "application/vnd.plotly.v1+json": {
       "config": {
        "plotlyServerURL": "https://plot.ly"
       },
       "data": [
        {
         "alignmentgroup": "True",
         "boxpoints": "all",
         "customdata": [
          [
           6024.460948397478,
           "IDBD-D101029",
           "NEW neg2",
           "191210B02",
           "2019-12-11"
          ],
          [
           5675.047209041326,
           "IDBD-D101030",
           "NEW neg3",
           "191210B02",
           "2019-12-11"
          ],
          [
           5403.951340526646,
           "IDBD-D101031",
           "NEW Neg4",
           "191210B02",
           "2019-12-11"
          ],
          [
           5418.6157095621975,
           "IDBD-D101032",
           "NEW Neg5",
           "191210B02",
           "2019-12-11"
          ],
          [
           6652.236668416355,
           "IDBD-D101074",
           "NEW Neg7",
           "191211B02",
           "2019-12-13"
          ],
          [
           4842.589013443285,
           "IDBD-D101075",
           "NEW Neg8",
           "191211B02",
           "2019-12-13"
          ],
          [
           5692.139847158353,
           "IDBD-D101076",
           "NEG Neg9",
           "191211B02",
           "2019-12-13"
          ],
          [
           7851.406422252066,
           "IDBD-D101077",
           "NEW Neg10",
           "191211B02",
           "2019-12-13"
          ],
          [
           5236.962858478826,
           "controlneg",
           null,
           "191220B01",
           "2019-12-20"
          ],
          [
           6335.327851558352,
           "controlneg",
           null,
           "191223B01",
           "2019-12-24"
          ],
          [
           6463.652568748615,
           "controlneg",
           null,
           "191223B04",
           "2019-12-25"
          ],
          [
           7750.54380779208,
           "controlneg",
           null,
           "200114B02",
           "2020-01-17"
          ],
          [
           6847.422828544828,
           "controlneg",
           null,
           "200116B03",
           "2020-01-18"
          ],
          [
           7256.320679560567,
           "controlneg",
           null,
           "200117B01",
           "2020-01-18"
          ],
          [
           4087.081680907999,
           "IDBD-D101325",
           "RespNeg01",
           "200119B01",
           "2020-01-20"
          ],
          [
           4069.388217397553,
           "IDBD-D101326",
           "RespNeg02",
           "200119B01",
           "2020-01-20"
          ],
          [
           4528.987491931303,
           "IDBD-D101327",
           "RespNeg03",
           "200119B01",
           "2020-01-20"
          ],
          [
           3936.474466767371,
           "IDBD-D101328",
           "RespNeg04",
           "200119B01",
           "2020-01-20"
          ],
          [
           4226.835267167544,
           "IDBD-D101329",
           "RespNeg05",
           "200119B01",
           "2020-01-20"
          ],
          [
           6065.263744791783,
           "IDBD-D101330",
           "RespNeg06",
           "200119B01",
           "2020-01-20"
          ],
          [
           6485.633339481331,
           "IDBD-D101331",
           "RespNeg07",
           "200119B01",
           "2020-01-20"
          ],
          [
           5427.159827785494,
           "IDBD-D101332",
           "RespNeg08",
           "200119B01",
           "2020-01-20"
          ],
          [
           5942.472657614007,
           "controlNeg",
           null,
           "200119B01",
           "2020-01-20"
          ],
          [
           5733.678786763884,
           "IDBD-D101333",
           "RespNeg09",
           "200119B02",
           "2020-01-20"
          ],
          [
           5642.290092702827,
           "IDBD-D101334",
           "RespNeg10",
           "200119B02",
           "2020-01-20"
          ],
          [
           6373.47932698333,
           "IDBD-D101335",
           "RespNeg11",
           "200119B02",
           "2020-01-20"
          ],
          [
           5455.027941817089,
           "IDBD-D101336",
           "RespNeg12",
           "200119B02",
           "2020-01-20"
          ],
          [
           5791.7543573630555,
           "IDBD-D101337",
           "RespNeg13",
           "200119B02",
           "2020-01-20"
          ],
          [
           6506.286699523414,
           "IDBD-D101338",
           "RespNeg14",
           "200119B02",
           "2020-01-20"
          ],
          [
           6981.192666955223,
           "IDBD-D101339",
           "RespNeg15",
           "200119B02",
           "2020-01-20"
          ],
          [
           5870.396597770782,
           "IDBD-D101340",
           "RespNeg16",
           "200119B02",
           "2020-01-20"
          ],
          [
           5978.470544211966,
           "controlNeg",
           null,
           "200119B02",
           "2020-01-20"
          ],
          [
           8955.375707983303,
           "IDBD-R101448",
           "ID-1",
           "200127B03",
           "2020-01-28"
          ],
          [
           9003.918887940734,
           "IDBD-R101464",
           "ID-2",
           "200127B03",
           "2020-01-28"
          ],
          [
           9362.52857927214,
           "IDBD-R101466",
           "ID-3",
           "200127B03",
           "2020-01-28"
          ],
          [
           7604.086893581107,
           "IDBD-R101467",
           "ID-4",
           "200127B03",
           "2020-01-28"
          ],
          [
           8106.257078223346,
           "IDBD-R101468",
           "ID-5",
           "200127B03",
           "2020-01-28"
          ],
          [
           5502.492125596582,
           "IDBD-R101469",
           "ID-6",
           "200127B03",
           "2020-01-28"
          ],
          [
           8118.42284235072,
           "IDBD-R101470",
           "ID-7",
           "200127B03",
           "2020-01-28"
          ],
          [
           6959.984494211761,
           "IDBD-R101471",
           "ID-8",
           "200127B03",
           "2020-01-28"
          ],
          [
           8043.150730288117,
           "controlNeg",
           null,
           "200127B03",
           "2020-01-28"
          ],
          [
           9867.003646005964,
           "IDBD-R101472",
           "ID-9",
           "200128B01",
           "2020-01-28"
          ],
          [
           7780.174853996759,
           "IDBD-R101473",
           "ID-10",
           "200128B01",
           "2020-01-28"
          ],
          [
           8521.426982757817,
           "IDBD-R101474",
           "ID-11",
           "200128B01",
           "2020-01-28"
          ],
          [
           5958.7522959715525,
           "IDBD-R101475",
           "ID-12",
           "200128B01",
           "2020-01-28"
          ],
          [
           8639.094481216442,
           "IDBD-R101476",
           "ID-13",
           "200128B01",
           "2020-01-28"
          ],
          [
           7911.348099747171,
           "IDBD-R101477",
           "ID-14",
           "200128B01",
           "2020-01-28"
          ],
          [
           7762.118240228505,
           "IDBD-R101478",
           "ID-15",
           "200128B01",
           "2020-01-28"
          ],
          [
           7303.39768606542,
           "IDBD-R101479",
           "ID-16",
           "200128B01",
           "2020-01-28"
          ],
          [
           6740.423053617196,
           "controlNeg",
           null,
           "200128B01",
           "2020-01-28"
          ]
         ],
         "hoverlabel": {
          "namelength": 0
         },
         "hovertemplate": "IC=%{x}<br>log<sub>10</sub>(T7 + PR772) NR=%{y}<br>T7 + PR772 NR=%{customdata[0]}<br>Accession=%{customdata[1]}<br>Sample Name=%{customdata[2]}<br>Batch ID=%{customdata[3]}<br>Run Date=%{customdata[4]}",
         "legendgroup": "",
         "marker": {
          "color": "#636efa"
         },
         "name": "",
         "notched": false,
         "offsetgroup": "",
         "orientation": "v",
         "showlegend": false,
         "type": "box",
         "x": [
          "Low IC",
          "Low IC",
          "Low IC",
          "Low IC",
          "Low IC",
          "Low IC",
          "Low IC",
          "Low IC",
          "Low IC",
          "Low IC",
          "Low IC",
          "Low IC",
          "Low IC",
          "Low IC",
          "Diluted Hi IC",
          "Diluted Hi IC",
          "Diluted Hi IC",
          "Diluted Hi IC",
          "Diluted Hi IC",
          "Diluted Hi IC",
          "Diluted Hi IC",
          "Diluted Hi IC",
          "Diluted Hi IC",
          "Diluted Hi IC",
          "Diluted Hi IC",
          "Diluted Hi IC",
          "Diluted Hi IC",
          "Diluted Hi IC",
          "Diluted Hi IC",
          "Diluted Hi IC",
          "Diluted Hi IC",
          "Diluted Hi IC",
          "Diluted Hi IC",
          "Diluted Hi IC",
          "Diluted Hi IC",
          "Diluted Hi IC",
          "Diluted Hi IC",
          "Diluted Hi IC",
          "Diluted Hi IC",
          "Diluted Hi IC",
          "Diluted Hi IC",
          "Diluted Hi IC",
          "Diluted Hi IC",
          "Diluted Hi IC",
          "Diluted Hi IC",
          "Diluted Hi IC",
          "Diluted Hi IC",
          "Diluted Hi IC",
          "Diluted Hi IC",
          "Diluted Hi IC"
         ],
         "x0": " ",
         "xaxis": "x",
         "y": [
          3.7799181935523434,
          3.753969478647692,
          3.732711429795605,
          3.7338883517626065,
          3.822967691834141,
          3.68507761239413,
          3.7552755614936055,
          3.894947458874375,
          3.719079493814623,
          3.801769094426791,
          3.810478004398575,
          3.8893321753369854,
          3.835527146391352,
          3.8607164673108865,
          3.611413317235241,
          3.609529123284368,
          3.6560011212586434,
          3.5951074388142383,
          3.6260153223607854,
          3.7828496906794666,
          3.8119523925113104,
          3.7345726115745386,
          3.7739671921377567,
          3.7584333591644485,
          3.7514554112098666,
          3.8043765814699584,
          3.7367969794790623,
          3.7628101340758273,
          3.813333196553832,
          3.843929623830897,
          3.768667442713555,
          3.776590093826801,
          3.9520838106742953,
          3.954431573991918,
          3.97139315640058,
          3.8810470710007663,
          3.908820372645673,
          3.7405594297238136,
          3.909471667493365,
          3.842608272069503,
          3.9054262075461335,
          3.994185288680677,
          3.8909893575645733,
          3.9305123270255145,
          3.775155332273481,
          3.936468223680238,
          3.898250493914359,
          3.889980254055589,
          3.863524949574951,
          3.8286871553017283
         ],
         "y0": " ",
         "yaxis": "y"
        }
       ],
       "layout": {
        "autosize": true,
        "boxmode": "group",
        "font": {
         "size": 18
        },
        "legend": {
         "tracegroupgap": 0
        },
        "margin": {
         "t": 60
        },
        "template": {
         "data": {
          "bar": [
           {
            "error_x": {
             "color": "#2a3f5f"
            },
            "error_y": {
             "color": "#2a3f5f"
            },
            "marker": {
             "line": {
              "color": "#E5ECF6",
              "width": 0.5
             }
            },
            "type": "bar"
           }
          ],
          "barpolar": [
           {
            "marker": {
             "line": {
              "color": "#E5ECF6",
              "width": 0.5
             }
            },
            "type": "barpolar"
           }
          ],
          "carpet": [
           {
            "aaxis": {
             "endlinecolor": "#2a3f5f",
             "gridcolor": "white",
             "linecolor": "white",
             "minorgridcolor": "white",
             "startlinecolor": "#2a3f5f"
            },
            "baxis": {
             "endlinecolor": "#2a3f5f",
             "gridcolor": "white",
             "linecolor": "white",
             "minorgridcolor": "white",
             "startlinecolor": "#2a3f5f"
            },
            "type": "carpet"
           }
          ],
          "choropleth": [
           {
            "colorbar": {
             "outlinewidth": 0,
             "ticks": ""
            },
            "type": "choropleth"
           }
          ],
          "contour": [
           {
            "colorbar": {
             "outlinewidth": 0,
             "ticks": ""
            },
            "colorscale": [
             [
              0,
              "#0d0887"
             ],
             [
              0.1111111111111111,
              "#46039f"
             ],
             [
              0.2222222222222222,
              "#7201a8"
             ],
             [
              0.3333333333333333,
              "#9c179e"
             ],
             [
              0.4444444444444444,
              "#bd3786"
             ],
             [
              0.5555555555555556,
              "#d8576b"
             ],
             [
              0.6666666666666666,
              "#ed7953"
             ],
             [
              0.7777777777777778,
              "#fb9f3a"
             ],
             [
              0.8888888888888888,
              "#fdca26"
             ],
             [
              1,
              "#f0f921"
             ]
            ],
            "type": "contour"
           }
          ],
          "contourcarpet": [
           {
            "colorbar": {
             "outlinewidth": 0,
             "ticks": ""
            },
            "type": "contourcarpet"
           }
          ],
          "heatmap": [
           {
            "colorbar": {
             "outlinewidth": 0,
             "ticks": ""
            },
            "colorscale": [
             [
              0,
              "#0d0887"
             ],
             [
              0.1111111111111111,
              "#46039f"
             ],
             [
              0.2222222222222222,
              "#7201a8"
             ],
             [
              0.3333333333333333,
              "#9c179e"
             ],
             [
              0.4444444444444444,
              "#bd3786"
             ],
             [
              0.5555555555555556,
              "#d8576b"
             ],
             [
              0.6666666666666666,
              "#ed7953"
             ],
             [
              0.7777777777777778,
              "#fb9f3a"
             ],
             [
              0.8888888888888888,
              "#fdca26"
             ],
             [
              1,
              "#f0f921"
             ]
            ],
            "type": "heatmap"
           }
          ],
          "heatmapgl": [
           {
            "colorbar": {
             "outlinewidth": 0,
             "ticks": ""
            },
            "colorscale": [
             [
              0,
              "#0d0887"
             ],
             [
              0.1111111111111111,
              "#46039f"
             ],
             [
              0.2222222222222222,
              "#7201a8"
             ],
             [
              0.3333333333333333,
              "#9c179e"
             ],
             [
              0.4444444444444444,
              "#bd3786"
             ],
             [
              0.5555555555555556,
              "#d8576b"
             ],
             [
              0.6666666666666666,
              "#ed7953"
             ],
             [
              0.7777777777777778,
              "#fb9f3a"
             ],
             [
              0.8888888888888888,
              "#fdca26"
             ],
             [
              1,
              "#f0f921"
             ]
            ],
            "type": "heatmapgl"
           }
          ],
          "histogram": [
           {
            "marker": {
             "colorbar": {
              "outlinewidth": 0,
              "ticks": ""
             }
            },
            "type": "histogram"
           }
          ],
          "histogram2d": [
           {
            "colorbar": {
             "outlinewidth": 0,
             "ticks": ""
            },
            "colorscale": [
             [
              0,
              "#0d0887"
             ],
             [
              0.1111111111111111,
              "#46039f"
             ],
             [
              0.2222222222222222,
              "#7201a8"
             ],
             [
              0.3333333333333333,
              "#9c179e"
             ],
             [
              0.4444444444444444,
              "#bd3786"
             ],
             [
              0.5555555555555556,
              "#d8576b"
             ],
             [
              0.6666666666666666,
              "#ed7953"
             ],
             [
              0.7777777777777778,
              "#fb9f3a"
             ],
             [
              0.8888888888888888,
              "#fdca26"
             ],
             [
              1,
              "#f0f921"
             ]
            ],
            "type": "histogram2d"
           }
          ],
          "histogram2dcontour": [
           {
            "colorbar": {
             "outlinewidth": 0,
             "ticks": ""
            },
            "colorscale": [
             [
              0,
              "#0d0887"
             ],
             [
              0.1111111111111111,
              "#46039f"
             ],
             [
              0.2222222222222222,
              "#7201a8"
             ],
             [
              0.3333333333333333,
              "#9c179e"
             ],
             [
              0.4444444444444444,
              "#bd3786"
             ],
             [
              0.5555555555555556,
              "#d8576b"
             ],
             [
              0.6666666666666666,
              "#ed7953"
             ],
             [
              0.7777777777777778,
              "#fb9f3a"
             ],
             [
              0.8888888888888888,
              "#fdca26"
             ],
             [
              1,
              "#f0f921"
             ]
            ],
            "type": "histogram2dcontour"
           }
          ],
          "mesh3d": [
           {
            "colorbar": {
             "outlinewidth": 0,
             "ticks": ""
            },
            "type": "mesh3d"
           }
          ],
          "parcoords": [
           {
            "line": {
             "colorbar": {
              "outlinewidth": 0,
              "ticks": ""
             }
            },
            "type": "parcoords"
           }
          ],
          "pie": [
           {
            "automargin": true,
            "type": "pie"
           }
          ],
          "scatter": [
           {
            "marker": {
             "colorbar": {
              "outlinewidth": 0,
              "ticks": ""
             }
            },
            "type": "scatter"
           }
          ],
          "scatter3d": [
           {
            "line": {
             "colorbar": {
              "outlinewidth": 0,
              "ticks": ""
             }
            },
            "marker": {
             "colorbar": {
              "outlinewidth": 0,
              "ticks": ""
             }
            },
            "type": "scatter3d"
           }
          ],
          "scattercarpet": [
           {
            "marker": {
             "colorbar": {
              "outlinewidth": 0,
              "ticks": ""
             }
            },
            "type": "scattercarpet"
           }
          ],
          "scattergeo": [
           {
            "marker": {
             "colorbar": {
              "outlinewidth": 0,
              "ticks": ""
             }
            },
            "type": "scattergeo"
           }
          ],
          "scattergl": [
           {
            "marker": {
             "colorbar": {
              "outlinewidth": 0,
              "ticks": ""
             }
            },
            "type": "scattergl"
           }
          ],
          "scattermapbox": [
           {
            "marker": {
             "colorbar": {
              "outlinewidth": 0,
              "ticks": ""
             }
            },
            "type": "scattermapbox"
           }
          ],
          "scatterpolar": [
           {
            "marker": {
             "colorbar": {
              "outlinewidth": 0,
              "ticks": ""
             }
            },
            "type": "scatterpolar"
           }
          ],
          "scatterpolargl": [
           {
            "marker": {
             "colorbar": {
              "outlinewidth": 0,
              "ticks": ""
             }
            },
            "type": "scatterpolargl"
           }
          ],
          "scatterternary": [
           {
            "marker": {
             "colorbar": {
              "outlinewidth": 0,
              "ticks": ""
             }
            },
            "type": "scatterternary"
           }
          ],
          "surface": [
           {
            "colorbar": {
             "outlinewidth": 0,
             "ticks": ""
            },
            "colorscale": [
             [
              0,
              "#0d0887"
             ],
             [
              0.1111111111111111,
              "#46039f"
             ],
             [
              0.2222222222222222,
              "#7201a8"
             ],
             [
              0.3333333333333333,
              "#9c179e"
             ],
             [
              0.4444444444444444,
              "#bd3786"
             ],
             [
              0.5555555555555556,
              "#d8576b"
             ],
             [
              0.6666666666666666,
              "#ed7953"
             ],
             [
              0.7777777777777778,
              "#fb9f3a"
             ],
             [
              0.8888888888888888,
              "#fdca26"
             ],
             [
              1,
              "#f0f921"
             ]
            ],
            "type": "surface"
           }
          ],
          "table": [
           {
            "cells": {
             "fill": {
              "color": "#EBF0F8"
             },
             "line": {
              "color": "white"
             }
            },
            "header": {
             "fill": {
              "color": "#C8D4E3"
             },
             "line": {
              "color": "white"
             }
            },
            "type": "table"
           }
          ]
         },
         "layout": {
          "annotationdefaults": {
           "arrowcolor": "#2a3f5f",
           "arrowhead": 0,
           "arrowwidth": 1
          },
          "coloraxis": {
           "colorbar": {
            "outlinewidth": 0,
            "ticks": ""
           }
          },
          "colorscale": {
           "diverging": [
            [
             0,
             "#8e0152"
            ],
            [
             0.1,
             "#c51b7d"
            ],
            [
             0.2,
             "#de77ae"
            ],
            [
             0.3,
             "#f1b6da"
            ],
            [
             0.4,
             "#fde0ef"
            ],
            [
             0.5,
             "#f7f7f7"
            ],
            [
             0.6,
             "#e6f5d0"
            ],
            [
             0.7,
             "#b8e186"
            ],
            [
             0.8,
             "#7fbc41"
            ],
            [
             0.9,
             "#4d9221"
            ],
            [
             1,
             "#276419"
            ]
           ],
           "sequential": [
            [
             0,
             "#0d0887"
            ],
            [
             0.1111111111111111,
             "#46039f"
            ],
            [
             0.2222222222222222,
             "#7201a8"
            ],
            [
             0.3333333333333333,
             "#9c179e"
            ],
            [
             0.4444444444444444,
             "#bd3786"
            ],
            [
             0.5555555555555556,
             "#d8576b"
            ],
            [
             0.6666666666666666,
             "#ed7953"
            ],
            [
             0.7777777777777778,
             "#fb9f3a"
            ],
            [
             0.8888888888888888,
             "#fdca26"
            ],
            [
             1,
             "#f0f921"
            ]
           ],
           "sequentialminus": [
            [
             0,
             "#0d0887"
            ],
            [
             0.1111111111111111,
             "#46039f"
            ],
            [
             0.2222222222222222,
             "#7201a8"
            ],
            [
             0.3333333333333333,
             "#9c179e"
            ],
            [
             0.4444444444444444,
             "#bd3786"
            ],
            [
             0.5555555555555556,
             "#d8576b"
            ],
            [
             0.6666666666666666,
             "#ed7953"
            ],
            [
             0.7777777777777778,
             "#fb9f3a"
            ],
            [
             0.8888888888888888,
             "#fdca26"
            ],
            [
             1,
             "#f0f921"
            ]
           ]
          },
          "colorway": [
           "#636efa",
           "#EF553B",
           "#00cc96",
           "#ab63fa",
           "#FFA15A",
           "#19d3f3",
           "#FF6692",
           "#B6E880",
           "#FF97FF",
           "#FECB52"
          ],
          "font": {
           "color": "#2a3f5f"
          },
          "geo": {
           "bgcolor": "white",
           "lakecolor": "white",
           "landcolor": "#E5ECF6",
           "showlakes": true,
           "showland": true,
           "subunitcolor": "white"
          },
          "hoverlabel": {
           "align": "left"
          },
          "hovermode": "closest",
          "mapbox": {
           "style": "light"
          },
          "paper_bgcolor": "white",
          "plot_bgcolor": "#E5ECF6",
          "polar": {
           "angularaxis": {
            "gridcolor": "white",
            "linecolor": "white",
            "ticks": ""
           },
           "bgcolor": "#E5ECF6",
           "radialaxis": {
            "gridcolor": "white",
            "linecolor": "white",
            "ticks": ""
           }
          },
          "scene": {
           "xaxis": {
            "backgroundcolor": "#E5ECF6",
            "gridcolor": "white",
            "gridwidth": 2,
            "linecolor": "white",
            "showbackground": true,
            "ticks": "",
            "zerolinecolor": "white"
           },
           "yaxis": {
            "backgroundcolor": "#E5ECF6",
            "gridcolor": "white",
            "gridwidth": 2,
            "linecolor": "white",
            "showbackground": true,
            "ticks": "",
            "zerolinecolor": "white"
           },
           "zaxis": {
            "backgroundcolor": "#E5ECF6",
            "gridcolor": "white",
            "gridwidth": 2,
            "linecolor": "white",
            "showbackground": true,
            "ticks": "",
            "zerolinecolor": "white"
           }
          },
          "shapedefaults": {
           "line": {
            "color": "#2a3f5f"
           }
          },
          "ternary": {
           "aaxis": {
            "gridcolor": "white",
            "linecolor": "white",
            "ticks": ""
           },
           "baxis": {
            "gridcolor": "white",
            "linecolor": "white",
            "ticks": ""
           },
           "bgcolor": "#E5ECF6",
           "caxis": {
            "gridcolor": "white",
            "linecolor": "white",
            "ticks": ""
           }
          },
          "title": {
           "x": 0.05
          },
          "xaxis": {
           "automargin": true,
           "gridcolor": "white",
           "linecolor": "white",
           "ticks": "",
           "title": {
            "standoff": 15
           },
           "zerolinecolor": "white",
           "zerolinewidth": 2
          },
          "yaxis": {
           "automargin": true,
           "gridcolor": "white",
           "linecolor": "white",
           "ticks": "",
           "title": {
            "standoff": 15
           },
           "zerolinecolor": "white",
           "zerolinewidth": 2
          }
         }
        },
        "xaxis": {
         "anchor": "y",
         "autorange": true,
         "domain": [
          0,
          1
         ],
         "range": [
          -0.5060240963855421,
          1.5
         ],
         "title": {
          "text": "IC"
         },
         "type": "category"
        },
        "yaxis": {
         "anchor": "x",
         "autorange": true,
         "domain": [
          0,
          1
         ],
         "range": [
          3.5729364471549916,
          4.016356280339924
         ],
         "title": {
          "text": "log<sub>10</sub>(T7 + PR772) NR"
         },
         "type": "linear"
        }
       }
      },
      "image/png": "[encoded data removed]",
      "text/html": [
       "<div>\n",
       "        \n",
       "        \n",
       "            <div id=\"fb4e1b0a-3502-4473-ae65-d7380cf96ee8\" class=\"plotly-graph-div\" style=\"height:600px; width:100%;\"></div>\n",
       "            <script type=\"text/javascript\">\n",
       "                require([\"plotly\"], function(Plotly) {\n",
       "                    window.PLOTLYENV=window.PLOTLYENV || {};\n",
       "                    \n",
       "                if (document.getElementById(\"fb4e1b0a-3502-4473-ae65-d7380cf96ee8\")) {\n",
       "                    Plotly.newPlot(\n",
       "                        'fb4e1b0a-3502-4473-ae65-d7380cf96ee8',\n",
       "                        [{\"alignmentgroup\": \"True\", \"boxpoints\": \"all\", \"customdata\": [[6024.460948397478, \"IDBD-D101029\", \"NEW neg2\", \"191210B02\", \"2019-12-11\"], [5675.047209041326, \"IDBD-D101030\", \"NEW neg3\", \"191210B02\", \"2019-12-11\"], [5403.951340526646, \"IDBD-D101031\", \"NEW Neg4\", \"191210B02\", \"2019-12-11\"], [5418.6157095621975, \"IDBD-D101032\", \"NEW Neg5\", \"191210B02\", \"2019-12-11\"], [6652.236668416355, \"IDBD-D101074\", \"NEW Neg7\", \"191211B02\", \"2019-12-13\"], [4842.589013443285, \"IDBD-D101075\", \"NEW Neg8\", \"191211B02\", \"2019-12-13\"], [5692.139847158353, \"IDBD-D101076\", \"NEG Neg9\", \"191211B02\", \"2019-12-13\"], [7851.406422252066, \"IDBD-D101077\", \"NEW Neg10\", \"191211B02\", \"2019-12-13\"], [5236.962858478826, \"controlneg\", null, \"191220B01\", \"2019-12-20\"], [6335.327851558352, \"controlneg\", null, \"191223B01\", \"2019-12-24\"], [6463.652568748615, \"controlneg\", null, \"191223B04\", \"2019-12-25\"], [7750.54380779208, \"controlneg\", null, \"200114B02\", \"2020-01-17\"], [6847.422828544828, \"controlneg\", null, \"200116B03\", \"2020-01-18\"], [7256.320679560567, \"controlneg\", null, \"200117B01\", \"2020-01-18\"], [4087.081680907999, \"IDBD-D101325\", \"RespNeg01\", \"200119B01\", \"2020-01-20\"], [4069.388217397553, \"IDBD-D101326\", \"RespNeg02\", \"200119B01\", \"2020-01-20\"], [4528.987491931303, \"IDBD-D101327\", \"RespNeg03\", \"200119B01\", \"2020-01-20\"], [3936.474466767371, \"IDBD-D101328\", \"RespNeg04\", \"200119B01\", \"2020-01-20\"], [4226.835267167544, \"IDBD-D101329\", \"RespNeg05\", \"200119B01\", \"2020-01-20\"], [6065.263744791783, \"IDBD-D101330\", \"RespNeg06\", \"200119B01\", \"2020-01-20\"], [6485.633339481331, \"IDBD-D101331\", \"RespNeg07\", \"200119B01\", \"2020-01-20\"], [5427.159827785494, \"IDBD-D101332\", \"RespNeg08\", \"200119B01\", \"2020-01-20\"], [5942.472657614007, \"controlNeg\", null, \"200119B01\", \"2020-01-20\"], [5733.678786763884, \"IDBD-D101333\", \"RespNeg09\", \"200119B02\", \"2020-01-20\"], [5642.290092702827, \"IDBD-D101334\", \"RespNeg10\", \"200119B02\", \"2020-01-20\"], [6373.47932698333, \"IDBD-D101335\", \"RespNeg11\", \"200119B02\", \"2020-01-20\"], [5455.027941817089, \"IDBD-D101336\", \"RespNeg12\", \"200119B02\", \"2020-01-20\"], [5791.7543573630555, \"IDBD-D101337\", \"RespNeg13\", \"200119B02\", \"2020-01-20\"], [6506.286699523414, \"IDBD-D101338\", \"RespNeg14\", \"200119B02\", \"2020-01-20\"], [6981.192666955223, \"IDBD-D101339\", \"RespNeg15\", \"200119B02\", \"2020-01-20\"], [5870.396597770782, \"IDBD-D101340\", \"RespNeg16\", \"200119B02\", \"2020-01-20\"], [5978.470544211966, \"controlNeg\", null, \"200119B02\", \"2020-01-20\"], [8955.375707983303, \"IDBD-R101448\", \"ID-1\", \"200127B03\", \"2020-01-28\"], [9003.918887940734, \"IDBD-R101464\", \"ID-2\", \"200127B03\", \"2020-01-28\"], [9362.52857927214, \"IDBD-R101466\", \"ID-3\", \"200127B03\", \"2020-01-28\"], [7604.086893581107, \"IDBD-R101467\", \"ID-4\", \"200127B03\", \"2020-01-28\"], [8106.257078223346, \"IDBD-R101468\", \"ID-5\", \"200127B03\", \"2020-01-28\"], [5502.492125596582, \"IDBD-R101469\", \"ID-6\", \"200127B03\", \"2020-01-28\"], [8118.42284235072, \"IDBD-R101470\", \"ID-7\", \"200127B03\", \"2020-01-28\"], [6959.984494211761, \"IDBD-R101471\", \"ID-8\", \"200127B03\", \"2020-01-28\"], [8043.150730288117, \"controlNeg\", null, \"200127B03\", \"2020-01-28\"], [9867.003646005964, \"IDBD-R101472\", \"ID-9\", \"200128B01\", \"2020-01-28\"], [7780.174853996759, \"IDBD-R101473\", \"ID-10\", \"200128B01\", \"2020-01-28\"], [8521.426982757817, \"IDBD-R101474\", \"ID-11\", \"200128B01\", \"2020-01-28\"], [5958.7522959715525, \"IDBD-R101475\", \"ID-12\", \"200128B01\", \"2020-01-28\"], [8639.094481216442, \"IDBD-R101476\", \"ID-13\", \"200128B01\", \"2020-01-28\"], [7911.348099747171, \"IDBD-R101477\", \"ID-14\", \"200128B01\", \"2020-01-28\"], [7762.118240228505, \"IDBD-R101478\", \"ID-15\", \"200128B01\", \"2020-01-28\"], [7303.39768606542, \"IDBD-R101479\", \"ID-16\", \"200128B01\", \"2020-01-28\"], [6740.423053617196, \"controlNeg\", null, \"200128B01\", \"2020-01-28\"]], \"hoverlabel\": {\"namelength\": 0}, \"hovertemplate\": \"IC=%{x}<br>log<sub>10</sub>(T7 + PR772) NR=%{y}<br>T7 + PR772 NR=%{customdata[0]}<br>Accession=%{customdata[1]}<br>Sample Name=%{customdata[2]}<br>Batch ID=%{customdata[3]}<br>Run Date=%{customdata[4]}\", \"legendgroup\": \"\", \"marker\": {\"color\": \"#636efa\"}, \"name\": \"\", \"notched\": false, \"offsetgroup\": \"\", \"orientation\": \"v\", \"showlegend\": false, \"type\": \"box\", \"x\": [\"Low IC\", \"Low IC\", \"Low IC\", \"Low IC\", \"Low IC\", \"Low IC\", \"Low IC\", \"Low IC\", \"Low IC\", \"Low IC\", \"Low IC\", \"Low IC\", \"Low IC\", \"Low IC\", \"Diluted Hi IC\", \"Diluted Hi IC\", \"Diluted Hi IC\", \"Diluted Hi IC\", \"Diluted Hi IC\", \"Diluted Hi IC\", \"Diluted Hi IC\", \"Diluted Hi IC\", \"Diluted Hi IC\", \"Diluted Hi IC\", \"Diluted Hi IC\", \"Diluted Hi IC\", \"Diluted Hi IC\", \"Diluted Hi IC\", \"Diluted Hi IC\", \"Diluted Hi IC\", \"Diluted Hi IC\", \"Diluted Hi IC\", \"Diluted Hi IC\", \"Diluted Hi IC\", \"Diluted Hi IC\", \"Diluted Hi IC\", \"Diluted Hi IC\", \"Diluted Hi IC\", \"Diluted Hi IC\", \"Diluted Hi IC\", \"Diluted Hi IC\", \"Diluted Hi IC\", \"Diluted Hi IC\", \"Diluted Hi IC\", \"Diluted Hi IC\", \"Diluted Hi IC\", \"Diluted Hi IC\", \"Diluted Hi IC\", \"Diluted Hi IC\", \"Diluted Hi IC\"], \"x0\": \" \", \"xaxis\": \"x\", \"y\": [3.7799181935523434, 3.753969478647692, 3.732711429795605, 3.7338883517626065, 3.822967691834141, 3.68507761239413, 3.7552755614936055, 3.894947458874375, 3.719079493814623, 3.801769094426791, 3.810478004398575, 3.8893321753369854, 3.835527146391352, 3.8607164673108865, 3.611413317235241, 3.609529123284368, 3.6560011212586434, 3.5951074388142383, 3.6260153223607854, 3.7828496906794666, 3.8119523925113104, 3.7345726115745386, 3.7739671921377567, 3.7584333591644485, 3.7514554112098666, 3.8043765814699584, 3.7367969794790623, 3.7628101340758273, 3.813333196553832, 3.843929623830897, 3.768667442713555, 3.776590093826801, 3.9520838106742953, 3.954431573991918, 3.97139315640058, 3.8810470710007663, 3.908820372645673, 3.7405594297238136, 3.909471667493365, 3.842608272069503, 3.9054262075461335, 3.994185288680677, 3.8909893575645733, 3.9305123270255145, 3.775155332273481, 3.936468223680238, 3.898250493914359, 3.889980254055589, 3.863524949574951, 3.8286871553017283], \"y0\": \" \", \"yaxis\": \"y\"}],\n",
       "                        {\"boxmode\": \"group\", \"font\": {\"size\": 18}, \"height\": 600, \"legend\": {\"tracegroupgap\": 0}, \"margin\": {\"t\": 60}, \"template\": {\"data\": {\"bar\": [{\"error_x\": {\"color\": \"#2a3f5f\"}, \"error_y\": {\"color\": \"#2a3f5f\"}, \"marker\": {\"line\": {\"color\": \"#E5ECF6\", \"width\": 0.5}}, \"type\": \"bar\"}], \"barpolar\": [{\"marker\": {\"line\": {\"color\": \"#E5ECF6\", \"width\": 0.5}}, \"type\": \"barpolar\"}], \"carpet\": [{\"aaxis\": {\"endlinecolor\": \"#2a3f5f\", \"gridcolor\": \"white\", \"linecolor\": \"white\", \"minorgridcolor\": \"white\", \"startlinecolor\": \"#2a3f5f\"}, \"baxis\": {\"endlinecolor\": \"#2a3f5f\", \"gridcolor\": \"white\", \"linecolor\": \"white\", \"minorgridcolor\": \"white\", \"startlinecolor\": \"#2a3f5f\"}, \"type\": \"carpet\"}], \"choropleth\": [{\"colorbar\": {\"outlinewidth\": 0, \"ticks\": \"\"}, \"type\": \"choropleth\"}], \"contour\": [{\"colorbar\": {\"outlinewidth\": 0, \"ticks\": \"\"}, \"colorscale\": [[0.0, \"#0d0887\"], [0.1111111111111111, \"#46039f\"], [0.2222222222222222, \"#7201a8\"], [0.3333333333333333, \"#9c179e\"], [0.4444444444444444, \"#bd3786\"], [0.5555555555555556, \"#d8576b\"], [0.6666666666666666, \"#ed7953\"], [0.7777777777777778, \"#fb9f3a\"], [0.8888888888888888, \"#fdca26\"], [1.0, \"#f0f921\"]], \"type\": \"contour\"}], \"contourcarpet\": [{\"colorbar\": {\"outlinewidth\": 0, \"ticks\": \"\"}, \"type\": \"contourcarpet\"}], \"heatmap\": [{\"colorbar\": {\"outlinewidth\": 0, \"ticks\": \"\"}, \"colorscale\": [[0.0, \"#0d0887\"], [0.1111111111111111, \"#46039f\"], [0.2222222222222222, \"#7201a8\"], [0.3333333333333333, \"#9c179e\"], [0.4444444444444444, \"#bd3786\"], [0.5555555555555556, \"#d8576b\"], [0.6666666666666666, \"#ed7953\"], [0.7777777777777778, \"#fb9f3a\"], [0.8888888888888888, \"#fdca26\"], [1.0, \"#f0f921\"]], \"type\": \"heatmap\"}], \"heatmapgl\": [{\"colorbar\": {\"outlinewidth\": 0, \"ticks\": \"\"}, \"colorscale\": [[0.0, \"#0d0887\"], [0.1111111111111111, \"#46039f\"], [0.2222222222222222, \"#7201a8\"], [0.3333333333333333, \"#9c179e\"], [0.4444444444444444, \"#bd3786\"], [0.5555555555555556, \"#d8576b\"], [0.6666666666666666, \"#ed7953\"], [0.7777777777777778, \"#fb9f3a\"], [0.8888888888888888, \"#fdca26\"], [1.0, \"#f0f921\"]], \"type\": \"heatmapgl\"}], \"histogram\": [{\"marker\": {\"colorbar\": {\"outlinewidth\": 0, \"ticks\": \"\"}}, \"type\": \"histogram\"}], \"histogram2d\": [{\"colorbar\": {\"outlinewidth\": 0, \"ticks\": \"\"}, \"colorscale\": [[0.0, \"#0d0887\"], [0.1111111111111111, \"#46039f\"], [0.2222222222222222, \"#7201a8\"], [0.3333333333333333, \"#9c179e\"], [0.4444444444444444, \"#bd3786\"], [0.5555555555555556, \"#d8576b\"], [0.6666666666666666, \"#ed7953\"], [0.7777777777777778, \"#fb9f3a\"], [0.8888888888888888, \"#fdca26\"], [1.0, \"#f0f921\"]], \"type\": \"histogram2d\"}], \"histogram2dcontour\": [{\"colorbar\": {\"outlinewidth\": 0, \"ticks\": \"\"}, \"colorscale\": [[0.0, \"#0d0887\"], [0.1111111111111111, \"#46039f\"], [0.2222222222222222, \"#7201a8\"], [0.3333333333333333, \"#9c179e\"], [0.4444444444444444, \"#bd3786\"], [0.5555555555555556, \"#d8576b\"], [0.6666666666666666, \"#ed7953\"], [0.7777777777777778, \"#fb9f3a\"], [0.8888888888888888, \"#fdca26\"], [1.0, \"#f0f921\"]], \"type\": \"histogram2dcontour\"}], \"mesh3d\": [{\"colorbar\": {\"outlinewidth\": 0, \"ticks\": \"\"}, \"type\": \"mesh3d\"}], \"parcoords\": [{\"line\": {\"colorbar\": {\"outlinewidth\": 0, \"ticks\": \"\"}}, \"type\": \"parcoords\"}], \"pie\": [{\"automargin\": true, \"type\": \"pie\"}], \"scatter\": [{\"marker\": {\"colorbar\": {\"outlinewidth\": 0, \"ticks\": \"\"}}, \"type\": \"scatter\"}], \"scatter3d\": [{\"line\": {\"colorbar\": {\"outlinewidth\": 0, \"ticks\": \"\"}}, \"marker\": {\"colorbar\": {\"outlinewidth\": 0, \"ticks\": \"\"}}, \"type\": \"scatter3d\"}], \"scattercarpet\": [{\"marker\": {\"colorbar\": {\"outlinewidth\": 0, \"ticks\": \"\"}}, \"type\": \"scattercarpet\"}], \"scattergeo\": [{\"marker\": {\"colorbar\": {\"outlinewidth\": 0, \"ticks\": \"\"}}, \"type\": \"scattergeo\"}], \"scattergl\": [{\"marker\": {\"colorbar\": {\"outlinewidth\": 0, \"ticks\": \"\"}}, \"type\": \"scattergl\"}], \"scattermapbox\": [{\"marker\": {\"colorbar\": {\"outlinewidth\": 0, \"ticks\": \"\"}}, \"type\": \"scattermapbox\"}], \"scatterpolar\": [{\"marker\": {\"colorbar\": {\"outlinewidth\": 0, \"ticks\": \"\"}}, \"type\": \"scatterpolar\"}], \"scatterpolargl\": [{\"marker\": {\"colorbar\": {\"outlinewidth\": 0, \"ticks\": \"\"}}, \"type\": \"scatterpolargl\"}], \"scatterternary\": [{\"marker\": {\"colorbar\": {\"outlinewidth\": 0, \"ticks\": \"\"}}, \"type\": \"scatterternary\"}], \"surface\": [{\"colorbar\": {\"outlinewidth\": 0, \"ticks\": \"\"}, \"colorscale\": [[0.0, \"#0d0887\"], [0.1111111111111111, \"#46039f\"], [0.2222222222222222, \"#7201a8\"], [0.3333333333333333, \"#9c179e\"], [0.4444444444444444, \"#bd3786\"], [0.5555555555555556, \"#d8576b\"], [0.6666666666666666, \"#ed7953\"], [0.7777777777777778, \"#fb9f3a\"], [0.8888888888888888, \"#fdca26\"], [1.0, \"#f0f921\"]], \"type\": \"surface\"}], \"table\": [{\"cells\": {\"fill\": {\"color\": \"#EBF0F8\"}, \"line\": {\"color\": \"white\"}}, \"header\": {\"fill\": {\"color\": \"#C8D4E3\"}, \"line\": {\"color\": \"white\"}}, \"type\": \"table\"}]}, \"layout\": {\"annotationdefaults\": {\"arrowcolor\": \"#2a3f5f\", \"arrowhead\": 0, \"arrowwidth\": 1}, \"coloraxis\": {\"colorbar\": {\"outlinewidth\": 0, \"ticks\": \"\"}}, \"colorscale\": {\"diverging\": [[0, \"#8e0152\"], [0.1, \"#c51b7d\"], [0.2, \"#de77ae\"], [0.3, \"#f1b6da\"], [0.4, \"#fde0ef\"], [0.5, \"#f7f7f7\"], [0.6, \"#e6f5d0\"], [0.7, \"#b8e186\"], [0.8, \"#7fbc41\"], [0.9, \"#4d9221\"], [1, \"#276419\"]], \"sequential\": [[0.0, \"#0d0887\"], [0.1111111111111111, \"#46039f\"], [0.2222222222222222, \"#7201a8\"], [0.3333333333333333, \"#9c179e\"], [0.4444444444444444, \"#bd3786\"], [0.5555555555555556, \"#d8576b\"], [0.6666666666666666, \"#ed7953\"], [0.7777777777777778, \"#fb9f3a\"], [0.8888888888888888, \"#fdca26\"], [1.0, \"#f0f921\"]], \"sequentialminus\": [[0.0, \"#0d0887\"], [0.1111111111111111, \"#46039f\"], [0.2222222222222222, \"#7201a8\"], [0.3333333333333333, \"#9c179e\"], [0.4444444444444444, \"#bd3786\"], [0.5555555555555556, \"#d8576b\"], [0.6666666666666666, \"#ed7953\"], [0.7777777777777778, \"#fb9f3a\"], [0.8888888888888888, \"#fdca26\"], [1.0, \"#f0f921\"]]}, \"colorway\": [\"#636efa\", \"#EF553B\", \"#00cc96\", \"#ab63fa\", \"#FFA15A\", \"#19d3f3\", \"#FF6692\", \"#B6E880\", \"#FF97FF\", \"#FECB52\"], \"font\": {\"color\": \"#2a3f5f\"}, \"geo\": {\"bgcolor\": \"white\", \"lakecolor\": \"white\", \"landcolor\": \"#E5ECF6\", \"showlakes\": true, \"showland\": true, \"subunitcolor\": \"white\"}, \"hoverlabel\": {\"align\": \"left\"}, \"hovermode\": \"closest\", \"mapbox\": {\"style\": \"light\"}, \"paper_bgcolor\": \"white\", \"plot_bgcolor\": \"#E5ECF6\", \"polar\": {\"angularaxis\": {\"gridcolor\": \"white\", \"linecolor\": \"white\", \"ticks\": \"\"}, \"bgcolor\": \"#E5ECF6\", \"radialaxis\": {\"gridcolor\": \"white\", \"linecolor\": \"white\", \"ticks\": \"\"}}, \"scene\": {\"xaxis\": {\"backgroundcolor\": \"#E5ECF6\", \"gridcolor\": \"white\", \"gridwidth\": 2, \"linecolor\": \"white\", \"showbackground\": true, \"ticks\": \"\", \"zerolinecolor\": \"white\"}, \"yaxis\": {\"backgroundcolor\": \"#E5ECF6\", \"gridcolor\": \"white\", \"gridwidth\": 2, \"linecolor\": \"white\", \"showbackground\": true, \"ticks\": \"\", \"zerolinecolor\": \"white\"}, \"zaxis\": {\"backgroundcolor\": \"#E5ECF6\", \"gridcolor\": \"white\", \"gridwidth\": 2, \"linecolor\": \"white\", \"showbackground\": true, \"ticks\": \"\", \"zerolinecolor\": \"white\"}}, \"shapedefaults\": {\"line\": {\"color\": \"#2a3f5f\"}}, \"ternary\": {\"aaxis\": {\"gridcolor\": \"white\", \"linecolor\": \"white\", \"ticks\": \"\"}, \"baxis\": {\"gridcolor\": \"white\", \"linecolor\": \"white\", \"ticks\": \"\"}, \"bgcolor\": \"#E5ECF6\", \"caxis\": {\"gridcolor\": \"white\", \"linecolor\": \"white\", \"ticks\": \"\"}}, \"title\": {\"x\": 0.05}, \"xaxis\": {\"automargin\": true, \"gridcolor\": \"white\", \"linecolor\": \"white\", \"ticks\": \"\", \"title\": {\"standoff\": 15}, \"zerolinecolor\": \"white\", \"zerolinewidth\": 2}, \"yaxis\": {\"automargin\": true, \"gridcolor\": \"white\", \"linecolor\": \"white\", \"ticks\": \"\", \"title\": {\"standoff\": 15}, \"zerolinecolor\": \"white\", \"zerolinewidth\": 2}}}, \"xaxis\": {\"anchor\": \"y\", \"domain\": [0.0, 1.0], \"title\": {\"text\": \"IC\"}}, \"yaxis\": {\"anchor\": \"x\", \"domain\": [0.0, 1.0], \"title\": {\"text\": \"log<sub>10</sub>(T7 + PR772) NR\"}}},\n",
       "                        {\"responsive\": true}\n",
       "                    ).then(function(){\n",
       "                            \n",
       "var gd = document.getElementById('fb4e1b0a-3502-4473-ae65-d7380cf96ee8');\n",
       "var x = new MutationObserver(function (mutations, observer) {{\n",
       "        var display = window.getComputedStyle(gd).display;\n",
       "        if (!display || display === 'none') {{\n",
       "            console.log([gd, 'removed!']);\n",
       "            Plotly.purge(gd);\n",
       "            observer.disconnect();\n",
       "        }}\n",
       "}});\n",
       "\n",
       "// Listen for the removal of the full notebook cells\n",
       "var notebookContainer = gd.closest('#notebook-container');\n",
       "if (notebookContainer) {{\n",
       "    x.observe(notebookContainer, {childList: true});\n",
       "}}\n",
       "\n",
       "// Listen for the clearing of the current output cell\n",
       "var outputEl = gd.closest('.output');\n",
       "if (outputEl) {{\n",
       "    x.observe(outputEl, {childList: true});\n",
       "}}\n",
       "\n",
       "                        })\n",
       "                };\n",
       "                });\n",
       "            </script>\n",
       "        </div>"
      ]
     },
     "metadata": {},
     "output_type": "display_data"
    }
   ],
   "source": [
    "merged_recent = merged_with_new_neg[(merged_with_new_neg['Run Date'] > '2019-12-10') \n",
    "                                    & (merged_with_new_neg['Neg Ctrl Matrix'] == 'New')]\n",
    "merged_recent = merged_recent.replace({'Low IC - New Neg Ctrl': 'Low IC'})\n",
    "merged_recent['IC_2'] = merged_recent['IC'].copy()\n",
    "merged_recent.loc[merged_recent['Batch ID'].isin(['200127B03', '200128B01']), 'IC_2'] = 'Diluted Hi IC Run 2'\n",
    "fig = px.box(\n",
    "    merged_recent, y='Log10 T7 + PR772 NR (Composition File)',\n",
    "    x='IC', hover_data=['T7 + PR772 NR (Composition File)', 'Accession', 'Sample Name', 'Batch ID', 'Run Date'], points='all',\n",
    "    labels={'Log10 T7 + PR772 NR (Composition File)': 'log<sub>10</sub>(T7 + PR772) NR',\n",
    "            'T7 + PR772 NR (Composition File)': 'T7 + PR772 NR'})\n",
    "fig.update_layout(font=dict(size=18), height=600)\n",
    "fig.show()\n",
    "# fig.write_html('plots/Diluted_Hi_IC_vs_Low_IC.html')"
   ]
  },
  {
   "cell_type": "markdown",
   "metadata": {},
   "source": [
    "Just showing difference between the two diluted Hi-IC runs."
   ]
  },
  {
   "cell_type": "code",
   "execution_count": 42,
   "metadata": {},
   "outputs": [
    {
     "data": {
      "application/vnd.plotly.v1+json": {
       "config": {
        "plotlyServerURL": "https://plot.ly"
       },
       "data": [
        {
         "alignmentgroup": "True",
         "boxpoints": "all",
         "customdata": [
          [
           6024.460948397478,
           "IDBD-D101029",
           "NEW neg2",
           "191210B02",
           "2019-12-11"
          ],
          [
           5675.047209041326,
           "IDBD-D101030",
           "NEW neg3",
           "191210B02",
           "2019-12-11"
          ],
          [
           5403.951340526646,
           "IDBD-D101031",
           "NEW Neg4",
           "191210B02",
           "2019-12-11"
          ],
          [
           5418.6157095621975,
           "IDBD-D101032",
           "NEW Neg5",
           "191210B02",
           "2019-12-11"
          ],
          [
           6652.236668416355,
           "IDBD-D101074",
           "NEW Neg7",
           "191211B02",
           "2019-12-13"
          ],
          [
           4842.589013443285,
           "IDBD-D101075",
           "NEW Neg8",
           "191211B02",
           "2019-12-13"
          ],
          [
           5692.139847158353,
           "IDBD-D101076",
           "NEG Neg9",
           "191211B02",
           "2019-12-13"
          ],
          [
           7851.406422252066,
           "IDBD-D101077",
           "NEW Neg10",
           "191211B02",
           "2019-12-13"
          ],
          [
           5236.962858478826,
           "controlneg",
           null,
           "191220B01",
           "2019-12-20"
          ],
          [
           6335.327851558352,
           "controlneg",
           null,
           "191223B01",
           "2019-12-24"
          ],
          [
           6463.652568748615,
           "controlneg",
           null,
           "191223B04",
           "2019-12-25"
          ],
          [
           7750.54380779208,
           "controlneg",
           null,
           "200114B02",
           "2020-01-17"
          ],
          [
           6847.422828544828,
           "controlneg",
           null,
           "200116B03",
           "2020-01-18"
          ],
          [
           7256.320679560567,
           "controlneg",
           null,
           "200117B01",
           "2020-01-18"
          ],
          [
           4087.081680907999,
           "IDBD-D101325",
           "RespNeg01",
           "200119B01",
           "2020-01-20"
          ],
          [
           4069.388217397553,
           "IDBD-D101326",
           "RespNeg02",
           "200119B01",
           "2020-01-20"
          ],
          [
           4528.987491931303,
           "IDBD-D101327",
           "RespNeg03",
           "200119B01",
           "2020-01-20"
          ],
          [
           3936.474466767371,
           "IDBD-D101328",
           "RespNeg04",
           "200119B01",
           "2020-01-20"
          ],
          [
           4226.835267167544,
           "IDBD-D101329",
           "RespNeg05",
           "200119B01",
           "2020-01-20"
          ],
          [
           6065.263744791783,
           "IDBD-D101330",
           "RespNeg06",
           "200119B01",
           "2020-01-20"
          ],
          [
           6485.633339481331,
           "IDBD-D101331",
           "RespNeg07",
           "200119B01",
           "2020-01-20"
          ],
          [
           5427.159827785494,
           "IDBD-D101332",
           "RespNeg08",
           "200119B01",
           "2020-01-20"
          ],
          [
           5942.472657614007,
           "controlNeg",
           null,
           "200119B01",
           "2020-01-20"
          ],
          [
           5733.678786763884,
           "IDBD-D101333",
           "RespNeg09",
           "200119B02",
           "2020-01-20"
          ],
          [
           5642.290092702827,
           "IDBD-D101334",
           "RespNeg10",
           "200119B02",
           "2020-01-20"
          ],
          [
           6373.47932698333,
           "IDBD-D101335",
           "RespNeg11",
           "200119B02",
           "2020-01-20"
          ],
          [
           5455.027941817089,
           "IDBD-D101336",
           "RespNeg12",
           "200119B02",
           "2020-01-20"
          ],
          [
           5791.7543573630555,
           "IDBD-D101337",
           "RespNeg13",
           "200119B02",
           "2020-01-20"
          ],
          [
           6506.286699523414,
           "IDBD-D101338",
           "RespNeg14",
           "200119B02",
           "2020-01-20"
          ],
          [
           6981.192666955223,
           "IDBD-D101339",
           "RespNeg15",
           "200119B02",
           "2020-01-20"
          ],
          [
           5870.396597770782,
           "IDBD-D101340",
           "RespNeg16",
           "200119B02",
           "2020-01-20"
          ],
          [
           5978.470544211966,
           "controlNeg",
           null,
           "200119B02",
           "2020-01-20"
          ],
          [
           8955.375707983303,
           "IDBD-R101448",
           "ID-1",
           "200127B03",
           "2020-01-28"
          ],
          [
           9003.918887940734,
           "IDBD-R101464",
           "ID-2",
           "200127B03",
           "2020-01-28"
          ],
          [
           9362.52857927214,
           "IDBD-R101466",
           "ID-3",
           "200127B03",
           "2020-01-28"
          ],
          [
           7604.086893581107,
           "IDBD-R101467",
           "ID-4",
           "200127B03",
           "2020-01-28"
          ],
          [
           8106.257078223346,
           "IDBD-R101468",
           "ID-5",
           "200127B03",
           "2020-01-28"
          ],
          [
           5502.492125596582,
           "IDBD-R101469",
           "ID-6",
           "200127B03",
           "2020-01-28"
          ],
          [
           8118.42284235072,
           "IDBD-R101470",
           "ID-7",
           "200127B03",
           "2020-01-28"
          ],
          [
           6959.984494211761,
           "IDBD-R101471",
           "ID-8",
           "200127B03",
           "2020-01-28"
          ],
          [
           8043.150730288117,
           "controlNeg",
           null,
           "200127B03",
           "2020-01-28"
          ],
          [
           9867.003646005964,
           "IDBD-R101472",
           "ID-9",
           "200128B01",
           "2020-01-28"
          ],
          [
           7780.174853996759,
           "IDBD-R101473",
           "ID-10",
           "200128B01",
           "2020-01-28"
          ],
          [
           8521.426982757817,
           "IDBD-R101474",
           "ID-11",
           "200128B01",
           "2020-01-28"
          ],
          [
           5958.7522959715525,
           "IDBD-R101475",
           "ID-12",
           "200128B01",
           "2020-01-28"
          ],
          [
           8639.094481216442,
           "IDBD-R101476",
           "ID-13",
           "200128B01",
           "2020-01-28"
          ],
          [
           7911.348099747171,
           "IDBD-R101477",
           "ID-14",
           "200128B01",
           "2020-01-28"
          ],
          [
           7762.118240228505,
           "IDBD-R101478",
           "ID-15",
           "200128B01",
           "2020-01-28"
          ],
          [
           7303.39768606542,
           "IDBD-R101479",
           "ID-16",
           "200128B01",
           "2020-01-28"
          ],
          [
           6740.423053617196,
           "controlNeg",
           null,
           "200128B01",
           "2020-01-28"
          ]
         ],
         "hoverlabel": {
          "namelength": 0
         },
         "hovertemplate": "IC_2=%{x}<br>log<sub>10</sub>(T7 + PR772) NR=%{y}<br>T7 + PR772 NR=%{customdata[0]}<br>Accession=%{customdata[1]}<br>Sample Name=%{customdata[2]}<br>Batch ID=%{customdata[3]}<br>Run Date=%{customdata[4]}",
         "legendgroup": "",
         "marker": {
          "color": "#636efa"
         },
         "name": "",
         "notched": false,
         "offsetgroup": "",
         "orientation": "v",
         "showlegend": false,
         "type": "box",
         "x": [
          "Low IC",
          "Low IC",
          "Low IC",
          "Low IC",
          "Low IC",
          "Low IC",
          "Low IC",
          "Low IC",
          "Low IC",
          "Low IC",
          "Low IC",
          "Low IC",
          "Low IC",
          "Low IC",
          "Diluted Hi IC",
          "Diluted Hi IC",
          "Diluted Hi IC",
          "Diluted Hi IC",
          "Diluted Hi IC",
          "Diluted Hi IC",
          "Diluted Hi IC",
          "Diluted Hi IC",
          "Diluted Hi IC",
          "Diluted Hi IC",
          "Diluted Hi IC",
          "Diluted Hi IC",
          "Diluted Hi IC",
          "Diluted Hi IC",
          "Diluted Hi IC",
          "Diluted Hi IC",
          "Diluted Hi IC",
          "Diluted Hi IC",
          "Diluted Hi IC Run 2",
          "Diluted Hi IC Run 2",
          "Diluted Hi IC Run 2",
          "Diluted Hi IC Run 2",
          "Diluted Hi IC Run 2",
          "Diluted Hi IC Run 2",
          "Diluted Hi IC Run 2",
          "Diluted Hi IC Run 2",
          "Diluted Hi IC Run 2",
          "Diluted Hi IC Run 2",
          "Diluted Hi IC Run 2",
          "Diluted Hi IC Run 2",
          "Diluted Hi IC Run 2",
          "Diluted Hi IC Run 2",
          "Diluted Hi IC Run 2",
          "Diluted Hi IC Run 2",
          "Diluted Hi IC Run 2",
          "Diluted Hi IC Run 2"
         ],
         "x0": " ",
         "xaxis": "x",
         "y": [
          3.7799181935523434,
          3.753969478647692,
          3.732711429795605,
          3.7338883517626065,
          3.822967691834141,
          3.68507761239413,
          3.7552755614936055,
          3.894947458874375,
          3.719079493814623,
          3.801769094426791,
          3.810478004398575,
          3.8893321753369854,
          3.835527146391352,
          3.8607164673108865,
          3.611413317235241,
          3.609529123284368,
          3.6560011212586434,
          3.5951074388142383,
          3.6260153223607854,
          3.7828496906794666,
          3.8119523925113104,
          3.7345726115745386,
          3.7739671921377567,
          3.7584333591644485,
          3.7514554112098666,
          3.8043765814699584,
          3.7367969794790623,
          3.7628101340758273,
          3.813333196553832,
          3.843929623830897,
          3.768667442713555,
          3.776590093826801,
          3.9520838106742953,
          3.954431573991918,
          3.97139315640058,
          3.8810470710007663,
          3.908820372645673,
          3.7405594297238136,
          3.909471667493365,
          3.842608272069503,
          3.9054262075461335,
          3.994185288680677,
          3.8909893575645733,
          3.9305123270255145,
          3.775155332273481,
          3.936468223680238,
          3.898250493914359,
          3.889980254055589,
          3.863524949574951,
          3.8286871553017283
         ],
         "y0": " ",
         "yaxis": "y"
        }
       ],
       "layout": {
        "autosize": true,
        "boxmode": "group",
        "font": {
         "size": 18
        },
        "legend": {
         "tracegroupgap": 0
        },
        "margin": {
         "t": 60
        },
        "template": {
         "data": {
          "bar": [
           {
            "error_x": {
             "color": "#2a3f5f"
            },
            "error_y": {
             "color": "#2a3f5f"
            },
            "marker": {
             "line": {
              "color": "#E5ECF6",
              "width": 0.5
             }
            },
            "type": "bar"
           }
          ],
          "barpolar": [
           {
            "marker": {
             "line": {
              "color": "#E5ECF6",
              "width": 0.5
             }
            },
            "type": "barpolar"
           }
          ],
          "carpet": [
           {
            "aaxis": {
             "endlinecolor": "#2a3f5f",
             "gridcolor": "white",
             "linecolor": "white",
             "minorgridcolor": "white",
             "startlinecolor": "#2a3f5f"
            },
            "baxis": {
             "endlinecolor": "#2a3f5f",
             "gridcolor": "white",
             "linecolor": "white",
             "minorgridcolor": "white",
             "startlinecolor": "#2a3f5f"
            },
            "type": "carpet"
           }
          ],
          "choropleth": [
           {
            "colorbar": {
             "outlinewidth": 0,
             "ticks": ""
            },
            "type": "choropleth"
           }
          ],
          "contour": [
           {
            "colorbar": {
             "outlinewidth": 0,
             "ticks": ""
            },
            "colorscale": [
             [
              0,
              "#0d0887"
             ],
             [
              0.1111111111111111,
              "#46039f"
             ],
             [
              0.2222222222222222,
              "#7201a8"
             ],
             [
              0.3333333333333333,
              "#9c179e"
             ],
             [
              0.4444444444444444,
              "#bd3786"
             ],
             [
              0.5555555555555556,
              "#d8576b"
             ],
             [
              0.6666666666666666,
              "#ed7953"
             ],
             [
              0.7777777777777778,
              "#fb9f3a"
             ],
             [
              0.8888888888888888,
              "#fdca26"
             ],
             [
              1,
              "#f0f921"
             ]
            ],
            "type": "contour"
           }
          ],
          "contourcarpet": [
           {
            "colorbar": {
             "outlinewidth": 0,
             "ticks": ""
            },
            "type": "contourcarpet"
           }
          ],
          "heatmap": [
           {
            "colorbar": {
             "outlinewidth": 0,
             "ticks": ""
            },
            "colorscale": [
             [
              0,
              "#0d0887"
             ],
             [
              0.1111111111111111,
              "#46039f"
             ],
             [
              0.2222222222222222,
              "#7201a8"
             ],
             [
              0.3333333333333333,
              "#9c179e"
             ],
             [
              0.4444444444444444,
              "#bd3786"
             ],
             [
              0.5555555555555556,
              "#d8576b"
             ],
             [
              0.6666666666666666,
              "#ed7953"
             ],
             [
              0.7777777777777778,
              "#fb9f3a"
             ],
             [
              0.8888888888888888,
              "#fdca26"
             ],
             [
              1,
              "#f0f921"
             ]
            ],
            "type": "heatmap"
           }
          ],
          "heatmapgl": [
           {
            "colorbar": {
             "outlinewidth": 0,
             "ticks": ""
            },
            "colorscale": [
             [
              0,
              "#0d0887"
             ],
             [
              0.1111111111111111,
              "#46039f"
             ],
             [
              0.2222222222222222,
              "#7201a8"
             ],
             [
              0.3333333333333333,
              "#9c179e"
             ],
             [
              0.4444444444444444,
              "#bd3786"
             ],
             [
              0.5555555555555556,
              "#d8576b"
             ],
             [
              0.6666666666666666,
              "#ed7953"
             ],
             [
              0.7777777777777778,
              "#fb9f3a"
             ],
             [
              0.8888888888888888,
              "#fdca26"
             ],
             [
              1,
              "#f0f921"
             ]
            ],
            "type": "heatmapgl"
           }
          ],
          "histogram": [
           {
            "marker": {
             "colorbar": {
              "outlinewidth": 0,
              "ticks": ""
             }
            },
            "type": "histogram"
           }
          ],
          "histogram2d": [
           {
            "colorbar": {
             "outlinewidth": 0,
             "ticks": ""
            },
            "colorscale": [
             [
              0,
              "#0d0887"
             ],
             [
              0.1111111111111111,
              "#46039f"
             ],
             [
              0.2222222222222222,
              "#7201a8"
             ],
             [
              0.3333333333333333,
              "#9c179e"
             ],
             [
              0.4444444444444444,
              "#bd3786"
             ],
             [
              0.5555555555555556,
              "#d8576b"
             ],
             [
              0.6666666666666666,
              "#ed7953"
             ],
             [
              0.7777777777777778,
              "#fb9f3a"
             ],
             [
              0.8888888888888888,
              "#fdca26"
             ],
             [
              1,
              "#f0f921"
             ]
            ],
            "type": "histogram2d"
           }
          ],
          "histogram2dcontour": [
           {
            "colorbar": {
             "outlinewidth": 0,
             "ticks": ""
            },
            "colorscale": [
             [
              0,
              "#0d0887"
             ],
             [
              0.1111111111111111,
              "#46039f"
             ],
             [
              0.2222222222222222,
              "#7201a8"
             ],
             [
              0.3333333333333333,
              "#9c179e"
             ],
             [
              0.4444444444444444,
              "#bd3786"
             ],
             [
              0.5555555555555556,
              "#d8576b"
             ],
             [
              0.6666666666666666,
              "#ed7953"
             ],
             [
              0.7777777777777778,
              "#fb9f3a"
             ],
             [
              0.8888888888888888,
              "#fdca26"
             ],
             [
              1,
              "#f0f921"
             ]
            ],
            "type": "histogram2dcontour"
           }
          ],
          "mesh3d": [
           {
            "colorbar": {
             "outlinewidth": 0,
             "ticks": ""
            },
            "type": "mesh3d"
           }
          ],
          "parcoords": [
           {
            "line": {
             "colorbar": {
              "outlinewidth": 0,
              "ticks": ""
             }
            },
            "type": "parcoords"
           }
          ],
          "pie": [
           {
            "automargin": true,
            "type": "pie"
           }
          ],
          "scatter": [
           {
            "marker": {
             "colorbar": {
              "outlinewidth": 0,
              "ticks": ""
             }
            },
            "type": "scatter"
           }
          ],
          "scatter3d": [
           {
            "line": {
             "colorbar": {
              "outlinewidth": 0,
              "ticks": ""
             }
            },
            "marker": {
             "colorbar": {
              "outlinewidth": 0,
              "ticks": ""
             }
            },
            "type": "scatter3d"
           }
          ],
          "scattercarpet": [
           {
            "marker": {
             "colorbar": {
              "outlinewidth": 0,
              "ticks": ""
             }
            },
            "type": "scattercarpet"
           }
          ],
          "scattergeo": [
           {
            "marker": {
             "colorbar": {
              "outlinewidth": 0,
              "ticks": ""
             }
            },
            "type": "scattergeo"
           }
          ],
          "scattergl": [
           {
            "marker": {
             "colorbar": {
              "outlinewidth": 0,
              "ticks": ""
             }
            },
            "type": "scattergl"
           }
          ],
          "scattermapbox": [
           {
            "marker": {
             "colorbar": {
              "outlinewidth": 0,
              "ticks": ""
             }
            },
            "type": "scattermapbox"
           }
          ],
          "scatterpolar": [
           {
            "marker": {
             "colorbar": {
              "outlinewidth": 0,
              "ticks": ""
             }
            },
            "type": "scatterpolar"
           }
          ],
          "scatterpolargl": [
           {
            "marker": {
             "colorbar": {
              "outlinewidth": 0,
              "ticks": ""
             }
            },
            "type": "scatterpolargl"
           }
          ],
          "scatterternary": [
           {
            "marker": {
             "colorbar": {
              "outlinewidth": 0,
              "ticks": ""
             }
            },
            "type": "scatterternary"
           }
          ],
          "surface": [
           {
            "colorbar": {
             "outlinewidth": 0,
             "ticks": ""
            },
            "colorscale": [
             [
              0,
              "#0d0887"
             ],
             [
              0.1111111111111111,
              "#46039f"
             ],
             [
              0.2222222222222222,
              "#7201a8"
             ],
             [
              0.3333333333333333,
              "#9c179e"
             ],
             [
              0.4444444444444444,
              "#bd3786"
             ],
             [
              0.5555555555555556,
              "#d8576b"
             ],
             [
              0.6666666666666666,
              "#ed7953"
             ],
             [
              0.7777777777777778,
              "#fb9f3a"
             ],
             [
              0.8888888888888888,
              "#fdca26"
             ],
             [
              1,
              "#f0f921"
             ]
            ],
            "type": "surface"
           }
          ],
          "table": [
           {
            "cells": {
             "fill": {
              "color": "#EBF0F8"
             },
             "line": {
              "color": "white"
             }
            },
            "header": {
             "fill": {
              "color": "#C8D4E3"
             },
             "line": {
              "color": "white"
             }
            },
            "type": "table"
           }
          ]
         },
         "layout": {
          "annotationdefaults": {
           "arrowcolor": "#2a3f5f",
           "arrowhead": 0,
           "arrowwidth": 1
          },
          "coloraxis": {
           "colorbar": {
            "outlinewidth": 0,
            "ticks": ""
           }
          },
          "colorscale": {
           "diverging": [
            [
             0,
             "#8e0152"
            ],
            [
             0.1,
             "#c51b7d"
            ],
            [
             0.2,
             "#de77ae"
            ],
            [
             0.3,
             "#f1b6da"
            ],
            [
             0.4,
             "#fde0ef"
            ],
            [
             0.5,
             "#f7f7f7"
            ],
            [
             0.6,
             "#e6f5d0"
            ],
            [
             0.7,
             "#b8e186"
            ],
            [
             0.8,
             "#7fbc41"
            ],
            [
             0.9,
             "#4d9221"
            ],
            [
             1,
             "#276419"
            ]
           ],
           "sequential": [
            [
             0,
             "#0d0887"
            ],
            [
             0.1111111111111111,
             "#46039f"
            ],
            [
             0.2222222222222222,
             "#7201a8"
            ],
            [
             0.3333333333333333,
             "#9c179e"
            ],
            [
             0.4444444444444444,
             "#bd3786"
            ],
            [
             0.5555555555555556,
             "#d8576b"
            ],
            [
             0.6666666666666666,
             "#ed7953"
            ],
            [
             0.7777777777777778,
             "#fb9f3a"
            ],
            [
             0.8888888888888888,
             "#fdca26"
            ],
            [
             1,
             "#f0f921"
            ]
           ],
           "sequentialminus": [
            [
             0,
             "#0d0887"
            ],
            [
             0.1111111111111111,
             "#46039f"
            ],
            [
             0.2222222222222222,
             "#7201a8"
            ],
            [
             0.3333333333333333,
             "#9c179e"
            ],
            [
             0.4444444444444444,
             "#bd3786"
            ],
            [
             0.5555555555555556,
             "#d8576b"
            ],
            [
             0.6666666666666666,
             "#ed7953"
            ],
            [
             0.7777777777777778,
             "#fb9f3a"
            ],
            [
             0.8888888888888888,
             "#fdca26"
            ],
            [
             1,
             "#f0f921"
            ]
           ]
          },
          "colorway": [
           "#636efa",
           "#EF553B",
           "#00cc96",
           "#ab63fa",
           "#FFA15A",
           "#19d3f3",
           "#FF6692",
           "#B6E880",
           "#FF97FF",
           "#FECB52"
          ],
          "font": {
           "color": "#2a3f5f"
          },
          "geo": {
           "bgcolor": "white",
           "lakecolor": "white",
           "landcolor": "#E5ECF6",
           "showlakes": true,
           "showland": true,
           "subunitcolor": "white"
          },
          "hoverlabel": {
           "align": "left"
          },
          "hovermode": "closest",
          "mapbox": {
           "style": "light"
          },
          "paper_bgcolor": "white",
          "plot_bgcolor": "#E5ECF6",
          "polar": {
           "angularaxis": {
            "gridcolor": "white",
            "linecolor": "white",
            "ticks": ""
           },
           "bgcolor": "#E5ECF6",
           "radialaxis": {
            "gridcolor": "white",
            "linecolor": "white",
            "ticks": ""
           }
          },
          "scene": {
           "xaxis": {
            "backgroundcolor": "#E5ECF6",
            "gridcolor": "white",
            "gridwidth": 2,
            "linecolor": "white",
            "showbackground": true,
            "ticks": "",
            "zerolinecolor": "white"
           },
           "yaxis": {
            "backgroundcolor": "#E5ECF6",
            "gridcolor": "white",
            "gridwidth": 2,
            "linecolor": "white",
            "showbackground": true,
            "ticks": "",
            "zerolinecolor": "white"
           },
           "zaxis": {
            "backgroundcolor": "#E5ECF6",
            "gridcolor": "white",
            "gridwidth": 2,
            "linecolor": "white",
            "showbackground": true,
            "ticks": "",
            "zerolinecolor": "white"
           }
          },
          "shapedefaults": {
           "line": {
            "color": "#2a3f5f"
           }
          },
          "ternary": {
           "aaxis": {
            "gridcolor": "white",
            "linecolor": "white",
            "ticks": ""
           },
           "baxis": {
            "gridcolor": "white",
            "linecolor": "white",
            "ticks": ""
           },
           "bgcolor": "#E5ECF6",
           "caxis": {
            "gridcolor": "white",
            "linecolor": "white",
            "ticks": ""
           }
          },
          "title": {
           "x": 0.05
          },
          "xaxis": {
           "automargin": true,
           "gridcolor": "white",
           "linecolor": "white",
           "ticks": "",
           "title": {
            "standoff": 15
           },
           "zerolinecolor": "white",
           "zerolinewidth": 2
          },
          "yaxis": {
           "automargin": true,
           "gridcolor": "white",
           "linecolor": "white",
           "ticks": "",
           "title": {
            "standoff": 15
           },
           "zerolinecolor": "white",
           "zerolinewidth": 2
          }
         }
        },
        "xaxis": {
         "anchor": "y",
         "autorange": true,
         "domain": [
          0,
          1
         ],
         "range": [
          -0.5090361445783133,
          2.5
         ],
         "title": {
          "text": "IC_2"
         },
         "type": "category"
        },
        "yaxis": {
         "anchor": "x",
         "autorange": true,
         "domain": [
          0,
          1
         ],
         "range": [
          3.5729364471549916,
          4.016356280339924
         ],
         "title": {
          "text": "log<sub>10</sub>(T7 + PR772) NR"
         },
         "type": "linear"
        }
       }
      },
      "image/png": "[encoded data removed]",
      "text/html": [
       "<div>\n",
       "        \n",
       "        \n",
       "            <div id=\"a906148b-8160-4ed4-8f82-393aee48e4d6\" class=\"plotly-graph-div\" style=\"height:600px; width:100%;\"></div>\n",
       "            <script type=\"text/javascript\">\n",
       "                require([\"plotly\"], function(Plotly) {\n",
       "                    window.PLOTLYENV=window.PLOTLYENV || {};\n",
       "                    \n",
       "                if (document.getElementById(\"a906148b-8160-4ed4-8f82-393aee48e4d6\")) {\n",
       "                    Plotly.newPlot(\n",
       "                        'a906148b-8160-4ed4-8f82-393aee48e4d6',\n",
       "                        [{\"alignmentgroup\": \"True\", \"boxpoints\": \"all\", \"customdata\": [[6024.460948397478, \"IDBD-D101029\", \"NEW neg2\", \"191210B02\", \"2019-12-11\"], [5675.047209041326, \"IDBD-D101030\", \"NEW neg3\", \"191210B02\", \"2019-12-11\"], [5403.951340526646, \"IDBD-D101031\", \"NEW Neg4\", \"191210B02\", \"2019-12-11\"], [5418.6157095621975, \"IDBD-D101032\", \"NEW Neg5\", \"191210B02\", \"2019-12-11\"], [6652.236668416355, \"IDBD-D101074\", \"NEW Neg7\", \"191211B02\", \"2019-12-13\"], [4842.589013443285, \"IDBD-D101075\", \"NEW Neg8\", \"191211B02\", \"2019-12-13\"], [5692.139847158353, \"IDBD-D101076\", \"NEG Neg9\", \"191211B02\", \"2019-12-13\"], [7851.406422252066, \"IDBD-D101077\", \"NEW Neg10\", \"191211B02\", \"2019-12-13\"], [5236.962858478826, \"controlneg\", null, \"191220B01\", \"2019-12-20\"], [6335.327851558352, \"controlneg\", null, \"191223B01\", \"2019-12-24\"], [6463.652568748615, \"controlneg\", null, \"191223B04\", \"2019-12-25\"], [7750.54380779208, \"controlneg\", null, \"200114B02\", \"2020-01-17\"], [6847.422828544828, \"controlneg\", null, \"200116B03\", \"2020-01-18\"], [7256.320679560567, \"controlneg\", null, \"200117B01\", \"2020-01-18\"], [4087.081680907999, \"IDBD-D101325\", \"RespNeg01\", \"200119B01\", \"2020-01-20\"], [4069.388217397553, \"IDBD-D101326\", \"RespNeg02\", \"200119B01\", \"2020-01-20\"], [4528.987491931303, \"IDBD-D101327\", \"RespNeg03\", \"200119B01\", \"2020-01-20\"], [3936.474466767371, \"IDBD-D101328\", \"RespNeg04\", \"200119B01\", \"2020-01-20\"], [4226.835267167544, \"IDBD-D101329\", \"RespNeg05\", \"200119B01\", \"2020-01-20\"], [6065.263744791783, \"IDBD-D101330\", \"RespNeg06\", \"200119B01\", \"2020-01-20\"], [6485.633339481331, \"IDBD-D101331\", \"RespNeg07\", \"200119B01\", \"2020-01-20\"], [5427.159827785494, \"IDBD-D101332\", \"RespNeg08\", \"200119B01\", \"2020-01-20\"], [5942.472657614007, \"controlNeg\", null, \"200119B01\", \"2020-01-20\"], [5733.678786763884, \"IDBD-D101333\", \"RespNeg09\", \"200119B02\", \"2020-01-20\"], [5642.290092702827, \"IDBD-D101334\", \"RespNeg10\", \"200119B02\", \"2020-01-20\"], [6373.47932698333, \"IDBD-D101335\", \"RespNeg11\", \"200119B02\", \"2020-01-20\"], [5455.027941817089, \"IDBD-D101336\", \"RespNeg12\", \"200119B02\", \"2020-01-20\"], [5791.7543573630555, \"IDBD-D101337\", \"RespNeg13\", \"200119B02\", \"2020-01-20\"], [6506.286699523414, \"IDBD-D101338\", \"RespNeg14\", \"200119B02\", \"2020-01-20\"], [6981.192666955223, \"IDBD-D101339\", \"RespNeg15\", \"200119B02\", \"2020-01-20\"], [5870.396597770782, \"IDBD-D101340\", \"RespNeg16\", \"200119B02\", \"2020-01-20\"], [5978.470544211966, \"controlNeg\", null, \"200119B02\", \"2020-01-20\"], [8955.375707983303, \"IDBD-R101448\", \"ID-1\", \"200127B03\", \"2020-01-28\"], [9003.918887940734, \"IDBD-R101464\", \"ID-2\", \"200127B03\", \"2020-01-28\"], [9362.52857927214, \"IDBD-R101466\", \"ID-3\", \"200127B03\", \"2020-01-28\"], [7604.086893581107, \"IDBD-R101467\", \"ID-4\", \"200127B03\", \"2020-01-28\"], [8106.257078223346, \"IDBD-R101468\", \"ID-5\", \"200127B03\", \"2020-01-28\"], [5502.492125596582, \"IDBD-R101469\", \"ID-6\", \"200127B03\", \"2020-01-28\"], [8118.42284235072, \"IDBD-R101470\", \"ID-7\", \"200127B03\", \"2020-01-28\"], [6959.984494211761, \"IDBD-R101471\", \"ID-8\", \"200127B03\", \"2020-01-28\"], [8043.150730288117, \"controlNeg\", null, \"200127B03\", \"2020-01-28\"], [9867.003646005964, \"IDBD-R101472\", \"ID-9\", \"200128B01\", \"2020-01-28\"], [7780.174853996759, \"IDBD-R101473\", \"ID-10\", \"200128B01\", \"2020-01-28\"], [8521.426982757817, \"IDBD-R101474\", \"ID-11\", \"200128B01\", \"2020-01-28\"], [5958.7522959715525, \"IDBD-R101475\", \"ID-12\", \"200128B01\", \"2020-01-28\"], [8639.094481216442, \"IDBD-R101476\", \"ID-13\", \"200128B01\", \"2020-01-28\"], [7911.348099747171, \"IDBD-R101477\", \"ID-14\", \"200128B01\", \"2020-01-28\"], [7762.118240228505, \"IDBD-R101478\", \"ID-15\", \"200128B01\", \"2020-01-28\"], [7303.39768606542, \"IDBD-R101479\", \"ID-16\", \"200128B01\", \"2020-01-28\"], [6740.423053617196, \"controlNeg\", null, \"200128B01\", \"2020-01-28\"]], \"hoverlabel\": {\"namelength\": 0}, \"hovertemplate\": \"IC_2=%{x}<br>log<sub>10</sub>(T7 + PR772) NR=%{y}<br>T7 + PR772 NR=%{customdata[0]}<br>Accession=%{customdata[1]}<br>Sample Name=%{customdata[2]}<br>Batch ID=%{customdata[3]}<br>Run Date=%{customdata[4]}\", \"legendgroup\": \"\", \"marker\": {\"color\": \"#636efa\"}, \"name\": \"\", \"notched\": false, \"offsetgroup\": \"\", \"orientation\": \"v\", \"showlegend\": false, \"type\": \"box\", \"x\": [\"Low IC\", \"Low IC\", \"Low IC\", \"Low IC\", \"Low IC\", \"Low IC\", \"Low IC\", \"Low IC\", \"Low IC\", \"Low IC\", \"Low IC\", \"Low IC\", \"Low IC\", \"Low IC\", \"Diluted Hi IC\", \"Diluted Hi IC\", \"Diluted Hi IC\", \"Diluted Hi IC\", \"Diluted Hi IC\", \"Diluted Hi IC\", \"Diluted Hi IC\", \"Diluted Hi IC\", \"Diluted Hi IC\", \"Diluted Hi IC\", \"Diluted Hi IC\", \"Diluted Hi IC\", \"Diluted Hi IC\", \"Diluted Hi IC\", \"Diluted Hi IC\", \"Diluted Hi IC\", \"Diluted Hi IC\", \"Diluted Hi IC\", \"Diluted Hi IC Run 2\", \"Diluted Hi IC Run 2\", \"Diluted Hi IC Run 2\", \"Diluted Hi IC Run 2\", \"Diluted Hi IC Run 2\", \"Diluted Hi IC Run 2\", \"Diluted Hi IC Run 2\", \"Diluted Hi IC Run 2\", \"Diluted Hi IC Run 2\", \"Diluted Hi IC Run 2\", \"Diluted Hi IC Run 2\", \"Diluted Hi IC Run 2\", \"Diluted Hi IC Run 2\", \"Diluted Hi IC Run 2\", \"Diluted Hi IC Run 2\", \"Diluted Hi IC Run 2\", \"Diluted Hi IC Run 2\", \"Diluted Hi IC Run 2\"], \"x0\": \" \", \"xaxis\": \"x\", \"y\": [3.7799181935523434, 3.753969478647692, 3.732711429795605, 3.7338883517626065, 3.822967691834141, 3.68507761239413, 3.7552755614936055, 3.894947458874375, 3.719079493814623, 3.801769094426791, 3.810478004398575, 3.8893321753369854, 3.835527146391352, 3.8607164673108865, 3.611413317235241, 3.609529123284368, 3.6560011212586434, 3.5951074388142383, 3.6260153223607854, 3.7828496906794666, 3.8119523925113104, 3.7345726115745386, 3.7739671921377567, 3.7584333591644485, 3.7514554112098666, 3.8043765814699584, 3.7367969794790623, 3.7628101340758273, 3.813333196553832, 3.843929623830897, 3.768667442713555, 3.776590093826801, 3.9520838106742953, 3.954431573991918, 3.97139315640058, 3.8810470710007663, 3.908820372645673, 3.7405594297238136, 3.909471667493365, 3.842608272069503, 3.9054262075461335, 3.994185288680677, 3.8909893575645733, 3.9305123270255145, 3.775155332273481, 3.936468223680238, 3.898250493914359, 3.889980254055589, 3.863524949574951, 3.8286871553017283], \"y0\": \" \", \"yaxis\": \"y\"}],\n",
       "                        {\"boxmode\": \"group\", \"font\": {\"size\": 18}, \"height\": 600, \"legend\": {\"tracegroupgap\": 0}, \"margin\": {\"t\": 60}, \"template\": {\"data\": {\"bar\": [{\"error_x\": {\"color\": \"#2a3f5f\"}, \"error_y\": {\"color\": \"#2a3f5f\"}, \"marker\": {\"line\": {\"color\": \"#E5ECF6\", \"width\": 0.5}}, \"type\": \"bar\"}], \"barpolar\": [{\"marker\": {\"line\": {\"color\": \"#E5ECF6\", \"width\": 0.5}}, \"type\": \"barpolar\"}], \"carpet\": [{\"aaxis\": {\"endlinecolor\": \"#2a3f5f\", \"gridcolor\": \"white\", \"linecolor\": \"white\", \"minorgridcolor\": \"white\", \"startlinecolor\": \"#2a3f5f\"}, \"baxis\": {\"endlinecolor\": \"#2a3f5f\", \"gridcolor\": \"white\", \"linecolor\": \"white\", \"minorgridcolor\": \"white\", \"startlinecolor\": \"#2a3f5f\"}, \"type\": \"carpet\"}], \"choropleth\": [{\"colorbar\": {\"outlinewidth\": 0, \"ticks\": \"\"}, \"type\": \"choropleth\"}], \"contour\": [{\"colorbar\": {\"outlinewidth\": 0, \"ticks\": \"\"}, \"colorscale\": [[0.0, \"#0d0887\"], [0.1111111111111111, \"#46039f\"], [0.2222222222222222, \"#7201a8\"], [0.3333333333333333, \"#9c179e\"], [0.4444444444444444, \"#bd3786\"], [0.5555555555555556, \"#d8576b\"], [0.6666666666666666, \"#ed7953\"], [0.7777777777777778, \"#fb9f3a\"], [0.8888888888888888, \"#fdca26\"], [1.0, \"#f0f921\"]], \"type\": \"contour\"}], \"contourcarpet\": [{\"colorbar\": {\"outlinewidth\": 0, \"ticks\": \"\"}, \"type\": \"contourcarpet\"}], \"heatmap\": [{\"colorbar\": {\"outlinewidth\": 0, \"ticks\": \"\"}, \"colorscale\": [[0.0, \"#0d0887\"], [0.1111111111111111, \"#46039f\"], [0.2222222222222222, \"#7201a8\"], [0.3333333333333333, \"#9c179e\"], [0.4444444444444444, \"#bd3786\"], [0.5555555555555556, \"#d8576b\"], [0.6666666666666666, \"#ed7953\"], [0.7777777777777778, \"#fb9f3a\"], [0.8888888888888888, \"#fdca26\"], [1.0, \"#f0f921\"]], \"type\": \"heatmap\"}], \"heatmapgl\": [{\"colorbar\": {\"outlinewidth\": 0, \"ticks\": \"\"}, \"colorscale\": [[0.0, \"#0d0887\"], [0.1111111111111111, \"#46039f\"], [0.2222222222222222, \"#7201a8\"], [0.3333333333333333, \"#9c179e\"], [0.4444444444444444, \"#bd3786\"], [0.5555555555555556, \"#d8576b\"], [0.6666666666666666, \"#ed7953\"], [0.7777777777777778, \"#fb9f3a\"], [0.8888888888888888, \"#fdca26\"], [1.0, \"#f0f921\"]], \"type\": \"heatmapgl\"}], \"histogram\": [{\"marker\": {\"colorbar\": {\"outlinewidth\": 0, \"ticks\": \"\"}}, \"type\": \"histogram\"}], \"histogram2d\": [{\"colorbar\": {\"outlinewidth\": 0, \"ticks\": \"\"}, \"colorscale\": [[0.0, \"#0d0887\"], [0.1111111111111111, \"#46039f\"], [0.2222222222222222, \"#7201a8\"], [0.3333333333333333, \"#9c179e\"], [0.4444444444444444, \"#bd3786\"], [0.5555555555555556, \"#d8576b\"], [0.6666666666666666, \"#ed7953\"], [0.7777777777777778, \"#fb9f3a\"], [0.8888888888888888, \"#fdca26\"], [1.0, \"#f0f921\"]], \"type\": \"histogram2d\"}], \"histogram2dcontour\": [{\"colorbar\": {\"outlinewidth\": 0, \"ticks\": \"\"}, \"colorscale\": [[0.0, \"#0d0887\"], [0.1111111111111111, \"#46039f\"], [0.2222222222222222, \"#7201a8\"], [0.3333333333333333, \"#9c179e\"], [0.4444444444444444, \"#bd3786\"], [0.5555555555555556, \"#d8576b\"], [0.6666666666666666, \"#ed7953\"], [0.7777777777777778, \"#fb9f3a\"], [0.8888888888888888, \"#fdca26\"], [1.0, \"#f0f921\"]], \"type\": \"histogram2dcontour\"}], \"mesh3d\": [{\"colorbar\": {\"outlinewidth\": 0, \"ticks\": \"\"}, \"type\": \"mesh3d\"}], \"parcoords\": [{\"line\": {\"colorbar\": {\"outlinewidth\": 0, \"ticks\": \"\"}}, \"type\": \"parcoords\"}], \"pie\": [{\"automargin\": true, \"type\": \"pie\"}], \"scatter\": [{\"marker\": {\"colorbar\": {\"outlinewidth\": 0, \"ticks\": \"\"}}, \"type\": \"scatter\"}], \"scatter3d\": [{\"line\": {\"colorbar\": {\"outlinewidth\": 0, \"ticks\": \"\"}}, \"marker\": {\"colorbar\": {\"outlinewidth\": 0, \"ticks\": \"\"}}, \"type\": \"scatter3d\"}], \"scattercarpet\": [{\"marker\": {\"colorbar\": {\"outlinewidth\": 0, \"ticks\": \"\"}}, \"type\": \"scattercarpet\"}], \"scattergeo\": [{\"marker\": {\"colorbar\": {\"outlinewidth\": 0, \"ticks\": \"\"}}, \"type\": \"scattergeo\"}], \"scattergl\": [{\"marker\": {\"colorbar\": {\"outlinewidth\": 0, \"ticks\": \"\"}}, \"type\": \"scattergl\"}], \"scattermapbox\": [{\"marker\": {\"colorbar\": {\"outlinewidth\": 0, \"ticks\": \"\"}}, \"type\": \"scattermapbox\"}], \"scatterpolar\": [{\"marker\": {\"colorbar\": {\"outlinewidth\": 0, \"ticks\": \"\"}}, \"type\": \"scatterpolar\"}], \"scatterpolargl\": [{\"marker\": {\"colorbar\": {\"outlinewidth\": 0, \"ticks\": \"\"}}, \"type\": \"scatterpolargl\"}], \"scatterternary\": [{\"marker\": {\"colorbar\": {\"outlinewidth\": 0, \"ticks\": \"\"}}, \"type\": \"scatterternary\"}], \"surface\": [{\"colorbar\": {\"outlinewidth\": 0, \"ticks\": \"\"}, \"colorscale\": [[0.0, \"#0d0887\"], [0.1111111111111111, \"#46039f\"], [0.2222222222222222, \"#7201a8\"], [0.3333333333333333, \"#9c179e\"], [0.4444444444444444, \"#bd3786\"], [0.5555555555555556, \"#d8576b\"], [0.6666666666666666, \"#ed7953\"], [0.7777777777777778, \"#fb9f3a\"], [0.8888888888888888, \"#fdca26\"], [1.0, \"#f0f921\"]], \"type\": \"surface\"}], \"table\": [{\"cells\": {\"fill\": {\"color\": \"#EBF0F8\"}, \"line\": {\"color\": \"white\"}}, \"header\": {\"fill\": {\"color\": \"#C8D4E3\"}, \"line\": {\"color\": \"white\"}}, \"type\": \"table\"}]}, \"layout\": {\"annotationdefaults\": {\"arrowcolor\": \"#2a3f5f\", \"arrowhead\": 0, \"arrowwidth\": 1}, \"coloraxis\": {\"colorbar\": {\"outlinewidth\": 0, \"ticks\": \"\"}}, \"colorscale\": {\"diverging\": [[0, \"#8e0152\"], [0.1, \"#c51b7d\"], [0.2, \"#de77ae\"], [0.3, \"#f1b6da\"], [0.4, \"#fde0ef\"], [0.5, \"#f7f7f7\"], [0.6, \"#e6f5d0\"], [0.7, \"#b8e186\"], [0.8, \"#7fbc41\"], [0.9, \"#4d9221\"], [1, \"#276419\"]], \"sequential\": [[0.0, \"#0d0887\"], [0.1111111111111111, \"#46039f\"], [0.2222222222222222, \"#7201a8\"], [0.3333333333333333, \"#9c179e\"], [0.4444444444444444, \"#bd3786\"], [0.5555555555555556, \"#d8576b\"], [0.6666666666666666, \"#ed7953\"], [0.7777777777777778, \"#fb9f3a\"], [0.8888888888888888, \"#fdca26\"], [1.0, \"#f0f921\"]], \"sequentialminus\": [[0.0, \"#0d0887\"], [0.1111111111111111, \"#46039f\"], [0.2222222222222222, \"#7201a8\"], [0.3333333333333333, \"#9c179e\"], [0.4444444444444444, \"#bd3786\"], [0.5555555555555556, \"#d8576b\"], [0.6666666666666666, \"#ed7953\"], [0.7777777777777778, \"#fb9f3a\"], [0.8888888888888888, \"#fdca26\"], [1.0, \"#f0f921\"]]}, \"colorway\": [\"#636efa\", \"#EF553B\", \"#00cc96\", \"#ab63fa\", \"#FFA15A\", \"#19d3f3\", \"#FF6692\", \"#B6E880\", \"#FF97FF\", \"#FECB52\"], \"font\": {\"color\": \"#2a3f5f\"}, \"geo\": {\"bgcolor\": \"white\", \"lakecolor\": \"white\", \"landcolor\": \"#E5ECF6\", \"showlakes\": true, \"showland\": true, \"subunitcolor\": \"white\"}, \"hoverlabel\": {\"align\": \"left\"}, \"hovermode\": \"closest\", \"mapbox\": {\"style\": \"light\"}, \"paper_bgcolor\": \"white\", \"plot_bgcolor\": \"#E5ECF6\", \"polar\": {\"angularaxis\": {\"gridcolor\": \"white\", \"linecolor\": \"white\", \"ticks\": \"\"}, \"bgcolor\": \"#E5ECF6\", \"radialaxis\": {\"gridcolor\": \"white\", \"linecolor\": \"white\", \"ticks\": \"\"}}, \"scene\": {\"xaxis\": {\"backgroundcolor\": \"#E5ECF6\", \"gridcolor\": \"white\", \"gridwidth\": 2, \"linecolor\": \"white\", \"showbackground\": true, \"ticks\": \"\", \"zerolinecolor\": \"white\"}, \"yaxis\": {\"backgroundcolor\": \"#E5ECF6\", \"gridcolor\": \"white\", \"gridwidth\": 2, \"linecolor\": \"white\", \"showbackground\": true, \"ticks\": \"\", \"zerolinecolor\": \"white\"}, \"zaxis\": {\"backgroundcolor\": \"#E5ECF6\", \"gridcolor\": \"white\", \"gridwidth\": 2, \"linecolor\": \"white\", \"showbackground\": true, \"ticks\": \"\", \"zerolinecolor\": \"white\"}}, \"shapedefaults\": {\"line\": {\"color\": \"#2a3f5f\"}}, \"ternary\": {\"aaxis\": {\"gridcolor\": \"white\", \"linecolor\": \"white\", \"ticks\": \"\"}, \"baxis\": {\"gridcolor\": \"white\", \"linecolor\": \"white\", \"ticks\": \"\"}, \"bgcolor\": \"#E5ECF6\", \"caxis\": {\"gridcolor\": \"white\", \"linecolor\": \"white\", \"ticks\": \"\"}}, \"title\": {\"x\": 0.05}, \"xaxis\": {\"automargin\": true, \"gridcolor\": \"white\", \"linecolor\": \"white\", \"ticks\": \"\", \"title\": {\"standoff\": 15}, \"zerolinecolor\": \"white\", \"zerolinewidth\": 2}, \"yaxis\": {\"automargin\": true, \"gridcolor\": \"white\", \"linecolor\": \"white\", \"ticks\": \"\", \"title\": {\"standoff\": 15}, \"zerolinecolor\": \"white\", \"zerolinewidth\": 2}}}, \"xaxis\": {\"anchor\": \"y\", \"domain\": [0.0, 1.0], \"title\": {\"text\": \"IC_2\"}}, \"yaxis\": {\"anchor\": \"x\", \"domain\": [0.0, 1.0], \"title\": {\"text\": \"log<sub>10</sub>(T7 + PR772) NR\"}}},\n",
       "                        {\"responsive\": true}\n",
       "                    ).then(function(){\n",
       "                            \n",
       "var gd = document.getElementById('a906148b-8160-4ed4-8f82-393aee48e4d6');\n",
       "var x = new MutationObserver(function (mutations, observer) {{\n",
       "        var display = window.getComputedStyle(gd).display;\n",
       "        if (!display || display === 'none') {{\n",
       "            console.log([gd, 'removed!']);\n",
       "            Plotly.purge(gd);\n",
       "            observer.disconnect();\n",
       "        }}\n",
       "}});\n",
       "\n",
       "// Listen for the removal of the full notebook cells\n",
       "var notebookContainer = gd.closest('#notebook-container');\n",
       "if (notebookContainer) {{\n",
       "    x.observe(notebookContainer, {childList: true});\n",
       "}}\n",
       "\n",
       "// Listen for the clearing of the current output cell\n",
       "var outputEl = gd.closest('.output');\n",
       "if (outputEl) {{\n",
       "    x.observe(outputEl, {childList: true});\n",
       "}}\n",
       "\n",
       "                        })\n",
       "                };\n",
       "                });\n",
       "            </script>\n",
       "        </div>"
      ]
     },
     "metadata": {},
     "output_type": "display_data"
    }
   ],
   "source": [
    "fig = px.box(\n",
    "    merged_recent, y='Log10 T7 + PR772 NR (Composition File)',\n",
    "    x='IC_2', hover_data=['T7 + PR772 NR (Composition File)', 'Accession', 'Sample Name', 'Batch ID', 'Run Date'], points='all',\n",
    "    labels={'Log10 T7 + PR772 NR (Composition File)': 'log<sub>10</sub>(T7 + PR772) NR',\n",
    "            'T7 + PR772 NR (Composition File)': 'T7 + PR772 NR'})\n",
    "fig.update_layout(font=dict(size=18), height=600)\n",
    "fig.show()\n",
    "# fig.write_html('plots/Diluted_Hi_IC_vs_Low_IC.html')"
   ]
  },
  {
   "cell_type": "code",
   "execution_count": 72,
   "metadata": {},
   "outputs": [
    {
     "name": "stdout",
     "output_type": "stream",
     "text": [
      "P-value for Low-IC vs Diluted High-IC in log10 space: 0.47\n",
      "Low-IC n: 14, High-IC n: 36\n"
     ]
    }
   ],
   "source": [
    "low = merged_recent.loc[merged_recent['IC'] == 'Low IC', 'Log10 T7 + PR772 NR (Composition File)']\n",
    "hi = merged_recent.loc[merged_recent['IC'] == 'Diluted Hi IC', 'Log10 T7 + PR772 NR (Composition File)']\n",
    "_, pval = ttest(low, hi)\n",
    "print(f\"P-value for Low-IC vs Diluted High-IC in log10 space: {pval:0.2f}\")\n",
    "print(f\"Low-IC n: {len(low)}, High-IC n: {len(hi)}\")"
   ]
  },
  {
   "cell_type": "markdown",
   "metadata": {},
   "source": [
    "### ANOVA"
   ]
  },
  {
   "cell_type": "code",
   "execution_count": 73,
   "metadata": {},
   "outputs": [
    {
     "data": {
      "text/plain": [
       "F_onewayResult(statistic=23.381755015283733, pvalue=8.943428258734331e-08)"
      ]
     },
     "execution_count": 73,
     "metadata": {},
     "output_type": "execute_result"
    }
   ],
   "source": [
    "low = merged_recent.loc[merged_recent['IC_2'] == 'Low IC', 'Log10 T7 + PR772 NR (Composition File)']\n",
    "hi = merged_recent.loc[merged_recent['IC_2'] == 'Diluted Hi IC', 'Log10 T7 + PR772 NR (Composition File)']\n",
    "hi_2 = merged_recent.loc[merged_recent['IC_2'] == 'Diluted Hi IC Run 2', 'Log10 T7 + PR772 NR (Composition File)']\n",
    "f_oneway(low, hi, hi_2)"
   ]
  },
  {
   "cell_type": "code",
   "execution_count": 76,
   "metadata": {},
   "outputs": [
    {
     "name": "stdout",
     "output_type": "stream",
     "text": [
      "51    3.779918\n",
      "52    3.753969\n",
      "53    3.732711\n",
      "54    3.733888\n",
      "56    3.822968\n",
      "57    3.685078\n",
      "58    3.755276\n",
      "59    3.894947\n",
      "45    3.719079\n",
      "46    3.801769\n",
      "47    3.810478\n",
      "48    3.889332\n",
      "50    3.835527\n",
      "49    3.860716\n",
      "Name: Log10 T7 + PR772 NR (Composition File), dtype: float64\n"
     ]
    }
   ],
   "source": [
    "print(low)"
   ]
  },
  {
   "cell_type": "code",
   "execution_count": 74,
   "metadata": {},
   "outputs": [
    {
     "data": {
      "text/plain": [
       "Ttest_indResult(statistic=2.180019323157966, pvalue=0.037235531864569175)"
      ]
     },
     "execution_count": 74,
     "metadata": {},
     "output_type": "execute_result"
    }
   ],
   "source": [
    "ttest(low, hi)"
   ]
  },
  {
   "cell_type": "code",
   "execution_count": 75,
   "metadata": {},
   "outputs": [
    {
     "data": {
      "text/plain": [
       "Ttest_indResult(statistic=-4.3909661634087245, pvalue=0.00012915015487686643)"
      ]
     },
     "execution_count": 75,
     "metadata": {},
     "output_type": "execute_result"
    }
   ],
   "source": [
    "ttest(low, hi_2)"
   ]
  },
  {
   "cell_type": "code",
   "execution_count": 54,
   "metadata": {},
   "outputs": [
    {
     "data": {
      "text/plain": [
       "0.10602924951145425"
      ]
     },
     "execution_count": 54,
     "metadata": {},
     "output_type": "execute_result"
    }
   ],
   "source": [
    "np.std(hi)"
   ]
  },
  {
   "cell_type": "code",
   "execution_count": 53,
   "metadata": {},
   "outputs": [
    {
     "data": {
      "text/plain": [
       "0.06248208721087092"
      ]
     },
     "execution_count": 53,
     "metadata": {},
     "output_type": "execute_result"
    }
   ],
   "source": [
    "np.std(low)"
   ]
  },
  {
   "cell_type": "markdown",
   "metadata": {},
   "source": [
    "### Linear space"
   ]
  },
  {
   "cell_type": "code",
   "execution_count": 77,
   "metadata": {},
   "outputs": [
    {
     "data": {
      "application/vnd.plotly.v1+json": {
       "config": {
        "plotlyServerURL": "https://plot.ly"
       },
       "data": [
        {
         "alignmentgroup": "True",
         "boxpoints": "all",
         "customdata": [
          [
           6024.460948397478,
           "IDBD-D101029",
           "NEW neg2",
           "191210B02",
           "2019-12-11"
          ],
          [
           5675.047209041326,
           "IDBD-D101030",
           "NEW neg3",
           "191210B02",
           "2019-12-11"
          ],
          [
           5403.951340526646,
           "IDBD-D101031",
           "NEW Neg4",
           "191210B02",
           "2019-12-11"
          ],
          [
           5418.6157095621975,
           "IDBD-D101032",
           "NEW Neg5",
           "191210B02",
           "2019-12-11"
          ],
          [
           6652.236668416355,
           "IDBD-D101074",
           "NEW Neg7",
           "191211B02",
           "2019-12-13"
          ],
          [
           4842.589013443285,
           "IDBD-D101075",
           "NEW Neg8",
           "191211B02",
           "2019-12-13"
          ],
          [
           5692.139847158353,
           "IDBD-D101076",
           "NEG Neg9",
           "191211B02",
           "2019-12-13"
          ],
          [
           7851.406422252066,
           "IDBD-D101077",
           "NEW Neg10",
           "191211B02",
           "2019-12-13"
          ],
          [
           5236.962858478826,
           "controlneg",
           null,
           "191220B01",
           "2019-12-20"
          ],
          [
           6335.327851558352,
           "controlneg",
           null,
           "191223B01",
           "2019-12-24"
          ],
          [
           6463.652568748615,
           "controlneg",
           null,
           "191223B04",
           "2019-12-25"
          ],
          [
           7750.54380779208,
           "controlneg",
           null,
           "200114B02",
           "2020-01-17"
          ],
          [
           6847.422828544828,
           "controlneg",
           null,
           "200116B03",
           "2020-01-18"
          ],
          [
           7256.320679560567,
           "controlneg",
           null,
           "200117B01",
           "2020-01-18"
          ],
          [
           4087.081680907999,
           "IDBD-D101325",
           "RespNeg01",
           "200119B01",
           "2020-01-20"
          ],
          [
           4069.388217397553,
           "IDBD-D101326",
           "RespNeg02",
           "200119B01",
           "2020-01-20"
          ],
          [
           4528.987491931303,
           "IDBD-D101327",
           "RespNeg03",
           "200119B01",
           "2020-01-20"
          ],
          [
           3936.474466767371,
           "IDBD-D101328",
           "RespNeg04",
           "200119B01",
           "2020-01-20"
          ],
          [
           4226.835267167544,
           "IDBD-D101329",
           "RespNeg05",
           "200119B01",
           "2020-01-20"
          ],
          [
           6065.263744791783,
           "IDBD-D101330",
           "RespNeg06",
           "200119B01",
           "2020-01-20"
          ],
          [
           6485.633339481331,
           "IDBD-D101331",
           "RespNeg07",
           "200119B01",
           "2020-01-20"
          ],
          [
           5427.159827785494,
           "IDBD-D101332",
           "RespNeg08",
           "200119B01",
           "2020-01-20"
          ],
          [
           5942.472657614007,
           "controlNeg",
           null,
           "200119B01",
           "2020-01-20"
          ],
          [
           5733.678786763884,
           "IDBD-D101333",
           "RespNeg09",
           "200119B02",
           "2020-01-20"
          ],
          [
           5642.290092702827,
           "IDBD-D101334",
           "RespNeg10",
           "200119B02",
           "2020-01-20"
          ],
          [
           6373.47932698333,
           "IDBD-D101335",
           "RespNeg11",
           "200119B02",
           "2020-01-20"
          ],
          [
           5455.027941817089,
           "IDBD-D101336",
           "RespNeg12",
           "200119B02",
           "2020-01-20"
          ],
          [
           5791.7543573630555,
           "IDBD-D101337",
           "RespNeg13",
           "200119B02",
           "2020-01-20"
          ],
          [
           6506.286699523414,
           "IDBD-D101338",
           "RespNeg14",
           "200119B02",
           "2020-01-20"
          ],
          [
           6981.192666955223,
           "IDBD-D101339",
           "RespNeg15",
           "200119B02",
           "2020-01-20"
          ],
          [
           5870.396597770782,
           "IDBD-D101340",
           "RespNeg16",
           "200119B02",
           "2020-01-20"
          ],
          [
           5978.470544211966,
           "controlNeg",
           null,
           "200119B02",
           "2020-01-20"
          ],
          [
           8955.375707983303,
           "IDBD-R101448",
           "ID-1",
           "200127B03",
           "2020-01-28"
          ],
          [
           9003.918887940734,
           "IDBD-R101464",
           "ID-2",
           "200127B03",
           "2020-01-28"
          ],
          [
           9362.52857927214,
           "IDBD-R101466",
           "ID-3",
           "200127B03",
           "2020-01-28"
          ],
          [
           7604.086893581107,
           "IDBD-R101467",
           "ID-4",
           "200127B03",
           "2020-01-28"
          ],
          [
           8106.257078223346,
           "IDBD-R101468",
           "ID-5",
           "200127B03",
           "2020-01-28"
          ],
          [
           5502.492125596582,
           "IDBD-R101469",
           "ID-6",
           "200127B03",
           "2020-01-28"
          ],
          [
           8118.42284235072,
           "IDBD-R101470",
           "ID-7",
           "200127B03",
           "2020-01-28"
          ],
          [
           6959.984494211761,
           "IDBD-R101471",
           "ID-8",
           "200127B03",
           "2020-01-28"
          ],
          [
           8043.150730288117,
           "controlNeg",
           null,
           "200127B03",
           "2020-01-28"
          ],
          [
           9867.003646005964,
           "IDBD-R101472",
           "ID-9",
           "200128B01",
           "2020-01-28"
          ],
          [
           7780.174853996759,
           "IDBD-R101473",
           "ID-10",
           "200128B01",
           "2020-01-28"
          ],
          [
           8521.426982757817,
           "IDBD-R101474",
           "ID-11",
           "200128B01",
           "2020-01-28"
          ],
          [
           5958.7522959715525,
           "IDBD-R101475",
           "ID-12",
           "200128B01",
           "2020-01-28"
          ],
          [
           8639.094481216442,
           "IDBD-R101476",
           "ID-13",
           "200128B01",
           "2020-01-28"
          ],
          [
           7911.348099747171,
           "IDBD-R101477",
           "ID-14",
           "200128B01",
           "2020-01-28"
          ],
          [
           7762.118240228505,
           "IDBD-R101478",
           "ID-15",
           "200128B01",
           "2020-01-28"
          ],
          [
           7303.39768606542,
           "IDBD-R101479",
           "ID-16",
           "200128B01",
           "2020-01-28"
          ],
          [
           6740.423053617196,
           "controlNeg",
           null,
           "200128B01",
           "2020-01-28"
          ]
         ],
         "hoverlabel": {
          "namelength": 0
         },
         "hovertemplate": "IC=%{x}<br>T7 + PR772 NR=%{customdata[0]}<br>Accession=%{customdata[1]}<br>Sample Name=%{customdata[2]}<br>Batch ID=%{customdata[3]}<br>Run Date=%{customdata[4]}",
         "legendgroup": "",
         "marker": {
          "color": "#636efa"
         },
         "name": "",
         "notched": false,
         "offsetgroup": "",
         "orientation": "v",
         "showlegend": false,
         "type": "box",
         "x": [
          "Low IC",
          "Low IC",
          "Low IC",
          "Low IC",
          "Low IC",
          "Low IC",
          "Low IC",
          "Low IC",
          "Low IC",
          "Low IC",
          "Low IC",
          "Low IC",
          "Low IC",
          "Low IC",
          "Diluted Hi IC",
          "Diluted Hi IC",
          "Diluted Hi IC",
          "Diluted Hi IC",
          "Diluted Hi IC",
          "Diluted Hi IC",
          "Diluted Hi IC",
          "Diluted Hi IC",
          "Diluted Hi IC",
          "Diluted Hi IC",
          "Diluted Hi IC",
          "Diluted Hi IC",
          "Diluted Hi IC",
          "Diluted Hi IC",
          "Diluted Hi IC",
          "Diluted Hi IC",
          "Diluted Hi IC",
          "Diluted Hi IC",
          "Diluted Hi IC",
          "Diluted Hi IC",
          "Diluted Hi IC",
          "Diluted Hi IC",
          "Diluted Hi IC",
          "Diluted Hi IC",
          "Diluted Hi IC",
          "Diluted Hi IC",
          "Diluted Hi IC",
          "Diluted Hi IC",
          "Diluted Hi IC",
          "Diluted Hi IC",
          "Diluted Hi IC",
          "Diluted Hi IC",
          "Diluted Hi IC",
          "Diluted Hi IC",
          "Diluted Hi IC",
          "Diluted Hi IC"
         ],
         "x0": " ",
         "xaxis": "x",
         "y": [
          6024.460948397478,
          5675.047209041326,
          5403.951340526646,
          5418.6157095621975,
          6652.236668416355,
          4842.589013443285,
          5692.139847158353,
          7851.406422252066,
          5236.962858478826,
          6335.327851558352,
          6463.652568748615,
          7750.54380779208,
          6847.422828544828,
          7256.320679560567,
          4087.081680907999,
          4069.388217397553,
          4528.987491931303,
          3936.474466767371,
          4226.835267167544,
          6065.263744791783,
          6485.633339481331,
          5427.159827785494,
          5942.472657614007,
          5733.678786763884,
          5642.290092702827,
          6373.47932698333,
          5455.027941817089,
          5791.7543573630555,
          6506.286699523414,
          6981.192666955223,
          5870.396597770782,
          5978.470544211966,
          8955.375707983303,
          9003.918887940734,
          9362.52857927214,
          7604.086893581107,
          8106.257078223346,
          5502.492125596582,
          8118.42284235072,
          6959.984494211761,
          8043.150730288117,
          9867.003646005964,
          7780.174853996759,
          8521.426982757817,
          5958.7522959715525,
          8639.094481216442,
          7911.348099747171,
          7762.118240228505,
          7303.39768606542,
          6740.423053617196
         ],
         "y0": " ",
         "yaxis": "y"
        }
       ],
       "layout": {
        "autosize": true,
        "boxmode": "group",
        "font": {
         "size": 18
        },
        "legend": {
         "tracegroupgap": 0
        },
        "margin": {
         "t": 60
        },
        "template": {
         "data": {
          "bar": [
           {
            "error_x": {
             "color": "#2a3f5f"
            },
            "error_y": {
             "color": "#2a3f5f"
            },
            "marker": {
             "line": {
              "color": "#E5ECF6",
              "width": 0.5
             }
            },
            "type": "bar"
           }
          ],
          "barpolar": [
           {
            "marker": {
             "line": {
              "color": "#E5ECF6",
              "width": 0.5
             }
            },
            "type": "barpolar"
           }
          ],
          "carpet": [
           {
            "aaxis": {
             "endlinecolor": "#2a3f5f",
             "gridcolor": "white",
             "linecolor": "white",
             "minorgridcolor": "white",
             "startlinecolor": "#2a3f5f"
            },
            "baxis": {
             "endlinecolor": "#2a3f5f",
             "gridcolor": "white",
             "linecolor": "white",
             "minorgridcolor": "white",
             "startlinecolor": "#2a3f5f"
            },
            "type": "carpet"
           }
          ],
          "choropleth": [
           {
            "colorbar": {
             "outlinewidth": 0,
             "ticks": ""
            },
            "type": "choropleth"
           }
          ],
          "contour": [
           {
            "colorbar": {
             "outlinewidth": 0,
             "ticks": ""
            },
            "colorscale": [
             [
              0,
              "#0d0887"
             ],
             [
              0.1111111111111111,
              "#46039f"
             ],
             [
              0.2222222222222222,
              "#7201a8"
             ],
             [
              0.3333333333333333,
              "#9c179e"
             ],
             [
              0.4444444444444444,
              "#bd3786"
             ],
             [
              0.5555555555555556,
              "#d8576b"
             ],
             [
              0.6666666666666666,
              "#ed7953"
             ],
             [
              0.7777777777777778,
              "#fb9f3a"
             ],
             [
              0.8888888888888888,
              "#fdca26"
             ],
             [
              1,
              "#f0f921"
             ]
            ],
            "type": "contour"
           }
          ],
          "contourcarpet": [
           {
            "colorbar": {
             "outlinewidth": 0,
             "ticks": ""
            },
            "type": "contourcarpet"
           }
          ],
          "heatmap": [
           {
            "colorbar": {
             "outlinewidth": 0,
             "ticks": ""
            },
            "colorscale": [
             [
              0,
              "#0d0887"
             ],
             [
              0.1111111111111111,
              "#46039f"
             ],
             [
              0.2222222222222222,
              "#7201a8"
             ],
             [
              0.3333333333333333,
              "#9c179e"
             ],
             [
              0.4444444444444444,
              "#bd3786"
             ],
             [
              0.5555555555555556,
              "#d8576b"
             ],
             [
              0.6666666666666666,
              "#ed7953"
             ],
             [
              0.7777777777777778,
              "#fb9f3a"
             ],
             [
              0.8888888888888888,
              "#fdca26"
             ],
             [
              1,
              "#f0f921"
             ]
            ],
            "type": "heatmap"
           }
          ],
          "heatmapgl": [
           {
            "colorbar": {
             "outlinewidth": 0,
             "ticks": ""
            },
            "colorscale": [
             [
              0,
              "#0d0887"
             ],
             [
              0.1111111111111111,
              "#46039f"
             ],
             [
              0.2222222222222222,
              "#7201a8"
             ],
             [
              0.3333333333333333,
              "#9c179e"
             ],
             [
              0.4444444444444444,
              "#bd3786"
             ],
             [
              0.5555555555555556,
              "#d8576b"
             ],
             [
              0.6666666666666666,
              "#ed7953"
             ],
             [
              0.7777777777777778,
              "#fb9f3a"
             ],
             [
              0.8888888888888888,
              "#fdca26"
             ],
             [
              1,
              "#f0f921"
             ]
            ],
            "type": "heatmapgl"
           }
          ],
          "histogram": [
           {
            "marker": {
             "colorbar": {
              "outlinewidth": 0,
              "ticks": ""
             }
            },
            "type": "histogram"
           }
          ],
          "histogram2d": [
           {
            "colorbar": {
             "outlinewidth": 0,
             "ticks": ""
            },
            "colorscale": [
             [
              0,
              "#0d0887"
             ],
             [
              0.1111111111111111,
              "#46039f"
             ],
             [
              0.2222222222222222,
              "#7201a8"
             ],
             [
              0.3333333333333333,
              "#9c179e"
             ],
             [
              0.4444444444444444,
              "#bd3786"
             ],
             [
              0.5555555555555556,
              "#d8576b"
             ],
             [
              0.6666666666666666,
              "#ed7953"
             ],
             [
              0.7777777777777778,
              "#fb9f3a"
             ],
             [
              0.8888888888888888,
              "#fdca26"
             ],
             [
              1,
              "#f0f921"
             ]
            ],
            "type": "histogram2d"
           }
          ],
          "histogram2dcontour": [
           {
            "colorbar": {
             "outlinewidth": 0,
             "ticks": ""
            },
            "colorscale": [
             [
              0,
              "#0d0887"
             ],
             [
              0.1111111111111111,
              "#46039f"
             ],
             [
              0.2222222222222222,
              "#7201a8"
             ],
             [
              0.3333333333333333,
              "#9c179e"
             ],
             [
              0.4444444444444444,
              "#bd3786"
             ],
             [
              0.5555555555555556,
              "#d8576b"
             ],
             [
              0.6666666666666666,
              "#ed7953"
             ],
             [
              0.7777777777777778,
              "#fb9f3a"
             ],
             [
              0.8888888888888888,
              "#fdca26"
             ],
             [
              1,
              "#f0f921"
             ]
            ],
            "type": "histogram2dcontour"
           }
          ],
          "mesh3d": [
           {
            "colorbar": {
             "outlinewidth": 0,
             "ticks": ""
            },
            "type": "mesh3d"
           }
          ],
          "parcoords": [
           {
            "line": {
             "colorbar": {
              "outlinewidth": 0,
              "ticks": ""
             }
            },
            "type": "parcoords"
           }
          ],
          "pie": [
           {
            "automargin": true,
            "type": "pie"
           }
          ],
          "scatter": [
           {
            "marker": {
             "colorbar": {
              "outlinewidth": 0,
              "ticks": ""
             }
            },
            "type": "scatter"
           }
          ],
          "scatter3d": [
           {
            "line": {
             "colorbar": {
              "outlinewidth": 0,
              "ticks": ""
             }
            },
            "marker": {
             "colorbar": {
              "outlinewidth": 0,
              "ticks": ""
             }
            },
            "type": "scatter3d"
           }
          ],
          "scattercarpet": [
           {
            "marker": {
             "colorbar": {
              "outlinewidth": 0,
              "ticks": ""
             }
            },
            "type": "scattercarpet"
           }
          ],
          "scattergeo": [
           {
            "marker": {
             "colorbar": {
              "outlinewidth": 0,
              "ticks": ""
             }
            },
            "type": "scattergeo"
           }
          ],
          "scattergl": [
           {
            "marker": {
             "colorbar": {
              "outlinewidth": 0,
              "ticks": ""
             }
            },
            "type": "scattergl"
           }
          ],
          "scattermapbox": [
           {
            "marker": {
             "colorbar": {
              "outlinewidth": 0,
              "ticks": ""
             }
            },
            "type": "scattermapbox"
           }
          ],
          "scatterpolar": [
           {
            "marker": {
             "colorbar": {
              "outlinewidth": 0,
              "ticks": ""
             }
            },
            "type": "scatterpolar"
           }
          ],
          "scatterpolargl": [
           {
            "marker": {
             "colorbar": {
              "outlinewidth": 0,
              "ticks": ""
             }
            },
            "type": "scatterpolargl"
           }
          ],
          "scatterternary": [
           {
            "marker": {
             "colorbar": {
              "outlinewidth": 0,
              "ticks": ""
             }
            },
            "type": "scatterternary"
           }
          ],
          "surface": [
           {
            "colorbar": {
             "outlinewidth": 0,
             "ticks": ""
            },
            "colorscale": [
             [
              0,
              "#0d0887"
             ],
             [
              0.1111111111111111,
              "#46039f"
             ],
             [
              0.2222222222222222,
              "#7201a8"
             ],
             [
              0.3333333333333333,
              "#9c179e"
             ],
             [
              0.4444444444444444,
              "#bd3786"
             ],
             [
              0.5555555555555556,
              "#d8576b"
             ],
             [
              0.6666666666666666,
              "#ed7953"
             ],
             [
              0.7777777777777778,
              "#fb9f3a"
             ],
             [
              0.8888888888888888,
              "#fdca26"
             ],
             [
              1,
              "#f0f921"
             ]
            ],
            "type": "surface"
           }
          ],
          "table": [
           {
            "cells": {
             "fill": {
              "color": "#EBF0F8"
             },
             "line": {
              "color": "white"
             }
            },
            "header": {
             "fill": {
              "color": "#C8D4E3"
             },
             "line": {
              "color": "white"
             }
            },
            "type": "table"
           }
          ]
         },
         "layout": {
          "annotationdefaults": {
           "arrowcolor": "#2a3f5f",
           "arrowhead": 0,
           "arrowwidth": 1
          },
          "coloraxis": {
           "colorbar": {
            "outlinewidth": 0,
            "ticks": ""
           }
          },
          "colorscale": {
           "diverging": [
            [
             0,
             "#8e0152"
            ],
            [
             0.1,
             "#c51b7d"
            ],
            [
             0.2,
             "#de77ae"
            ],
            [
             0.3,
             "#f1b6da"
            ],
            [
             0.4,
             "#fde0ef"
            ],
            [
             0.5,
             "#f7f7f7"
            ],
            [
             0.6,
             "#e6f5d0"
            ],
            [
             0.7,
             "#b8e186"
            ],
            [
             0.8,
             "#7fbc41"
            ],
            [
             0.9,
             "#4d9221"
            ],
            [
             1,
             "#276419"
            ]
           ],
           "sequential": [
            [
             0,
             "#0d0887"
            ],
            [
             0.1111111111111111,
             "#46039f"
            ],
            [
             0.2222222222222222,
             "#7201a8"
            ],
            [
             0.3333333333333333,
             "#9c179e"
            ],
            [
             0.4444444444444444,
             "#bd3786"
            ],
            [
             0.5555555555555556,
             "#d8576b"
            ],
            [
             0.6666666666666666,
             "#ed7953"
            ],
            [
             0.7777777777777778,
             "#fb9f3a"
            ],
            [
             0.8888888888888888,
             "#fdca26"
            ],
            [
             1,
             "#f0f921"
            ]
           ],
           "sequentialminus": [
            [
             0,
             "#0d0887"
            ],
            [
             0.1111111111111111,
             "#46039f"
            ],
            [
             0.2222222222222222,
             "#7201a8"
            ],
            [
             0.3333333333333333,
             "#9c179e"
            ],
            [
             0.4444444444444444,
             "#bd3786"
            ],
            [
             0.5555555555555556,
             "#d8576b"
            ],
            [
             0.6666666666666666,
             "#ed7953"
            ],
            [
             0.7777777777777778,
             "#fb9f3a"
            ],
            [
             0.8888888888888888,
             "#fdca26"
            ],
            [
             1,
             "#f0f921"
            ]
           ]
          },
          "colorway": [
           "#636efa",
           "#EF553B",
           "#00cc96",
           "#ab63fa",
           "#FFA15A",
           "#19d3f3",
           "#FF6692",
           "#B6E880",
           "#FF97FF",
           "#FECB52"
          ],
          "font": {
           "color": "#2a3f5f"
          },
          "geo": {
           "bgcolor": "white",
           "lakecolor": "white",
           "landcolor": "#E5ECF6",
           "showlakes": true,
           "showland": true,
           "subunitcolor": "white"
          },
          "hoverlabel": {
           "align": "left"
          },
          "hovermode": "closest",
          "mapbox": {
           "style": "light"
          },
          "paper_bgcolor": "white",
          "plot_bgcolor": "#E5ECF6",
          "polar": {
           "angularaxis": {
            "gridcolor": "white",
            "linecolor": "white",
            "ticks": ""
           },
           "bgcolor": "#E5ECF6",
           "radialaxis": {
            "gridcolor": "white",
            "linecolor": "white",
            "ticks": ""
           }
          },
          "scene": {
           "xaxis": {
            "backgroundcolor": "#E5ECF6",
            "gridcolor": "white",
            "gridwidth": 2,
            "linecolor": "white",
            "showbackground": true,
            "ticks": "",
            "zerolinecolor": "white"
           },
           "yaxis": {
            "backgroundcolor": "#E5ECF6",
            "gridcolor": "white",
            "gridwidth": 2,
            "linecolor": "white",
            "showbackground": true,
            "ticks": "",
            "zerolinecolor": "white"
           },
           "zaxis": {
            "backgroundcolor": "#E5ECF6",
            "gridcolor": "white",
            "gridwidth": 2,
            "linecolor": "white",
            "showbackground": true,
            "ticks": "",
            "zerolinecolor": "white"
           }
          },
          "shapedefaults": {
           "line": {
            "color": "#2a3f5f"
           }
          },
          "ternary": {
           "aaxis": {
            "gridcolor": "white",
            "linecolor": "white",
            "ticks": ""
           },
           "baxis": {
            "gridcolor": "white",
            "linecolor": "white",
            "ticks": ""
           },
           "bgcolor": "#E5ECF6",
           "caxis": {
            "gridcolor": "white",
            "linecolor": "white",
            "ticks": ""
           }
          },
          "title": {
           "x": 0.05
          },
          "xaxis": {
           "automargin": true,
           "gridcolor": "white",
           "linecolor": "white",
           "ticks": "",
           "title": {
            "standoff": 15
           },
           "zerolinecolor": "white",
           "zerolinewidth": 2
          },
          "yaxis": {
           "automargin": true,
           "gridcolor": "white",
           "linecolor": "white",
           "ticks": "",
           "title": {
            "standoff": 15
           },
           "zerolinecolor": "white",
           "zerolinewidth": 2
          }
         }
        },
        "xaxis": {
         "anchor": "y",
         "autorange": true,
         "domain": [
          0,
          1
         ],
         "range": [
          -0.5060240963855421,
          1.5
         ],
         "title": {
          "text": "IC"
         },
         "type": "category"
        },
        "yaxis": {
         "anchor": "x",
         "autorange": true,
         "domain": [
          0,
          1
         ],
         "range": [
          3607.0006234763378,
          10196.477489296996
         ],
         "title": {
          "text": "T7 + PR772 NR"
         },
         "type": "linear"
        }
       }
      },
      "image/png": "[encoded data removed]",
      "text/html": [
       "<div>\n",
       "        \n",
       "        \n",
       "            <div id=\"17a11887-8868-487f-a484-45c89e24b21f\" class=\"plotly-graph-div\" style=\"height:600px; width:100%;\"></div>\n",
       "            <script type=\"text/javascript\">\n",
       "                require([\"plotly\"], function(Plotly) {\n",
       "                    window.PLOTLYENV=window.PLOTLYENV || {};\n",
       "                    \n",
       "                if (document.getElementById(\"17a11887-8868-487f-a484-45c89e24b21f\")) {\n",
       "                    Plotly.newPlot(\n",
       "                        '17a11887-8868-487f-a484-45c89e24b21f',\n",
       "                        [{\"alignmentgroup\": \"True\", \"boxpoints\": \"all\", \"customdata\": [[6024.460948397478, \"IDBD-D101029\", \"NEW neg2\", \"191210B02\", \"2019-12-11\"], [5675.047209041326, \"IDBD-D101030\", \"NEW neg3\", \"191210B02\", \"2019-12-11\"], [5403.951340526646, \"IDBD-D101031\", \"NEW Neg4\", \"191210B02\", \"2019-12-11\"], [5418.6157095621975, \"IDBD-D101032\", \"NEW Neg5\", \"191210B02\", \"2019-12-11\"], [6652.236668416355, \"IDBD-D101074\", \"NEW Neg7\", \"191211B02\", \"2019-12-13\"], [4842.589013443285, \"IDBD-D101075\", \"NEW Neg8\", \"191211B02\", \"2019-12-13\"], [5692.139847158353, \"IDBD-D101076\", \"NEG Neg9\", \"191211B02\", \"2019-12-13\"], [7851.406422252066, \"IDBD-D101077\", \"NEW Neg10\", \"191211B02\", \"2019-12-13\"], [5236.962858478826, \"controlneg\", null, \"191220B01\", \"2019-12-20\"], [6335.327851558352, \"controlneg\", null, \"191223B01\", \"2019-12-24\"], [6463.652568748615, \"controlneg\", null, \"191223B04\", \"2019-12-25\"], [7750.54380779208, \"controlneg\", null, \"200114B02\", \"2020-01-17\"], [6847.422828544828, \"controlneg\", null, \"200116B03\", \"2020-01-18\"], [7256.320679560567, \"controlneg\", null, \"200117B01\", \"2020-01-18\"], [4087.081680907999, \"IDBD-D101325\", \"RespNeg01\", \"200119B01\", \"2020-01-20\"], [4069.388217397553, \"IDBD-D101326\", \"RespNeg02\", \"200119B01\", \"2020-01-20\"], [4528.987491931303, \"IDBD-D101327\", \"RespNeg03\", \"200119B01\", \"2020-01-20\"], [3936.474466767371, \"IDBD-D101328\", \"RespNeg04\", \"200119B01\", \"2020-01-20\"], [4226.835267167544, \"IDBD-D101329\", \"RespNeg05\", \"200119B01\", \"2020-01-20\"], [6065.263744791783, \"IDBD-D101330\", \"RespNeg06\", \"200119B01\", \"2020-01-20\"], [6485.633339481331, \"IDBD-D101331\", \"RespNeg07\", \"200119B01\", \"2020-01-20\"], [5427.159827785494, \"IDBD-D101332\", \"RespNeg08\", \"200119B01\", \"2020-01-20\"], [5942.472657614007, \"controlNeg\", null, \"200119B01\", \"2020-01-20\"], [5733.678786763884, \"IDBD-D101333\", \"RespNeg09\", \"200119B02\", \"2020-01-20\"], [5642.290092702827, \"IDBD-D101334\", \"RespNeg10\", \"200119B02\", \"2020-01-20\"], [6373.47932698333, \"IDBD-D101335\", \"RespNeg11\", \"200119B02\", \"2020-01-20\"], [5455.027941817089, \"IDBD-D101336\", \"RespNeg12\", \"200119B02\", \"2020-01-20\"], [5791.7543573630555, \"IDBD-D101337\", \"RespNeg13\", \"200119B02\", \"2020-01-20\"], [6506.286699523414, \"IDBD-D101338\", \"RespNeg14\", \"200119B02\", \"2020-01-20\"], [6981.192666955223, \"IDBD-D101339\", \"RespNeg15\", \"200119B02\", \"2020-01-20\"], [5870.396597770782, \"IDBD-D101340\", \"RespNeg16\", \"200119B02\", \"2020-01-20\"], [5978.470544211966, \"controlNeg\", null, \"200119B02\", \"2020-01-20\"], [8955.375707983303, \"IDBD-R101448\", \"ID-1\", \"200127B03\", \"2020-01-28\"], [9003.918887940734, \"IDBD-R101464\", \"ID-2\", \"200127B03\", \"2020-01-28\"], [9362.52857927214, \"IDBD-R101466\", \"ID-3\", \"200127B03\", \"2020-01-28\"], [7604.086893581107, \"IDBD-R101467\", \"ID-4\", \"200127B03\", \"2020-01-28\"], [8106.257078223346, \"IDBD-R101468\", \"ID-5\", \"200127B03\", \"2020-01-28\"], [5502.492125596582, \"IDBD-R101469\", \"ID-6\", \"200127B03\", \"2020-01-28\"], [8118.42284235072, \"IDBD-R101470\", \"ID-7\", \"200127B03\", \"2020-01-28\"], [6959.984494211761, \"IDBD-R101471\", \"ID-8\", \"200127B03\", \"2020-01-28\"], [8043.150730288117, \"controlNeg\", null, \"200127B03\", \"2020-01-28\"], [9867.003646005964, \"IDBD-R101472\", \"ID-9\", \"200128B01\", \"2020-01-28\"], [7780.174853996759, \"IDBD-R101473\", \"ID-10\", \"200128B01\", \"2020-01-28\"], [8521.426982757817, \"IDBD-R101474\", \"ID-11\", \"200128B01\", \"2020-01-28\"], [5958.7522959715525, \"IDBD-R101475\", \"ID-12\", \"200128B01\", \"2020-01-28\"], [8639.094481216442, \"IDBD-R101476\", \"ID-13\", \"200128B01\", \"2020-01-28\"], [7911.348099747171, \"IDBD-R101477\", \"ID-14\", \"200128B01\", \"2020-01-28\"], [7762.118240228505, \"IDBD-R101478\", \"ID-15\", \"200128B01\", \"2020-01-28\"], [7303.39768606542, \"IDBD-R101479\", \"ID-16\", \"200128B01\", \"2020-01-28\"], [6740.423053617196, \"controlNeg\", null, \"200128B01\", \"2020-01-28\"]], \"hoverlabel\": {\"namelength\": 0}, \"hovertemplate\": \"IC=%{x}<br>T7 + PR772 NR=%{customdata[0]}<br>Accession=%{customdata[1]}<br>Sample Name=%{customdata[2]}<br>Batch ID=%{customdata[3]}<br>Run Date=%{customdata[4]}\", \"legendgroup\": \"\", \"marker\": {\"color\": \"#636efa\"}, \"name\": \"\", \"notched\": false, \"offsetgroup\": \"\", \"orientation\": \"v\", \"showlegend\": false, \"type\": \"box\", \"x\": [\"Low IC\", \"Low IC\", \"Low IC\", \"Low IC\", \"Low IC\", \"Low IC\", \"Low IC\", \"Low IC\", \"Low IC\", \"Low IC\", \"Low IC\", \"Low IC\", \"Low IC\", \"Low IC\", \"Diluted Hi IC\", \"Diluted Hi IC\", \"Diluted Hi IC\", \"Diluted Hi IC\", \"Diluted Hi IC\", \"Diluted Hi IC\", \"Diluted Hi IC\", \"Diluted Hi IC\", \"Diluted Hi IC\", \"Diluted Hi IC\", \"Diluted Hi IC\", \"Diluted Hi IC\", \"Diluted Hi IC\", \"Diluted Hi IC\", \"Diluted Hi IC\", \"Diluted Hi IC\", \"Diluted Hi IC\", \"Diluted Hi IC\", \"Diluted Hi IC\", \"Diluted Hi IC\", \"Diluted Hi IC\", \"Diluted Hi IC\", \"Diluted Hi IC\", \"Diluted Hi IC\", \"Diluted Hi IC\", \"Diluted Hi IC\", \"Diluted Hi IC\", \"Diluted Hi IC\", \"Diluted Hi IC\", \"Diluted Hi IC\", \"Diluted Hi IC\", \"Diluted Hi IC\", \"Diluted Hi IC\", \"Diluted Hi IC\", \"Diluted Hi IC\", \"Diluted Hi IC\"], \"x0\": \" \", \"xaxis\": \"x\", \"y\": [6024.460948397478, 5675.047209041326, 5403.951340526646, 5418.6157095621975, 6652.236668416355, 4842.589013443285, 5692.139847158353, 7851.406422252066, 5236.962858478826, 6335.327851558352, 6463.652568748615, 7750.54380779208, 6847.422828544828, 7256.320679560567, 4087.081680907999, 4069.388217397553, 4528.987491931303, 3936.474466767371, 4226.835267167544, 6065.263744791783, 6485.633339481331, 5427.159827785494, 5942.472657614007, 5733.678786763884, 5642.290092702827, 6373.47932698333, 5455.027941817089, 5791.7543573630555, 6506.286699523414, 6981.192666955223, 5870.396597770782, 5978.470544211966, 8955.375707983303, 9003.918887940734, 9362.52857927214, 7604.086893581107, 8106.257078223346, 5502.492125596582, 8118.42284235072, 6959.984494211761, 8043.150730288117, 9867.003646005964, 7780.174853996759, 8521.426982757817, 5958.7522959715525, 8639.094481216442, 7911.348099747171, 7762.118240228505, 7303.39768606542, 6740.423053617196], \"y0\": \" \", \"yaxis\": \"y\"}],\n",
       "                        {\"boxmode\": \"group\", \"font\": {\"size\": 18}, \"height\": 600, \"legend\": {\"tracegroupgap\": 0}, \"margin\": {\"t\": 60}, \"template\": {\"data\": {\"bar\": [{\"error_x\": {\"color\": \"#2a3f5f\"}, \"error_y\": {\"color\": \"#2a3f5f\"}, \"marker\": {\"line\": {\"color\": \"#E5ECF6\", \"width\": 0.5}}, \"type\": \"bar\"}], \"barpolar\": [{\"marker\": {\"line\": {\"color\": \"#E5ECF6\", \"width\": 0.5}}, \"type\": \"barpolar\"}], \"carpet\": [{\"aaxis\": {\"endlinecolor\": \"#2a3f5f\", \"gridcolor\": \"white\", \"linecolor\": \"white\", \"minorgridcolor\": \"white\", \"startlinecolor\": \"#2a3f5f\"}, \"baxis\": {\"endlinecolor\": \"#2a3f5f\", \"gridcolor\": \"white\", \"linecolor\": \"white\", \"minorgridcolor\": \"white\", \"startlinecolor\": \"#2a3f5f\"}, \"type\": \"carpet\"}], \"choropleth\": [{\"colorbar\": {\"outlinewidth\": 0, \"ticks\": \"\"}, \"type\": \"choropleth\"}], \"contour\": [{\"colorbar\": {\"outlinewidth\": 0, \"ticks\": \"\"}, \"colorscale\": [[0.0, \"#0d0887\"], [0.1111111111111111, \"#46039f\"], [0.2222222222222222, \"#7201a8\"], [0.3333333333333333, \"#9c179e\"], [0.4444444444444444, \"#bd3786\"], [0.5555555555555556, \"#d8576b\"], [0.6666666666666666, \"#ed7953\"], [0.7777777777777778, \"#fb9f3a\"], [0.8888888888888888, \"#fdca26\"], [1.0, \"#f0f921\"]], \"type\": \"contour\"}], \"contourcarpet\": [{\"colorbar\": {\"outlinewidth\": 0, \"ticks\": \"\"}, \"type\": \"contourcarpet\"}], \"heatmap\": [{\"colorbar\": {\"outlinewidth\": 0, \"ticks\": \"\"}, \"colorscale\": [[0.0, \"#0d0887\"], [0.1111111111111111, \"#46039f\"], [0.2222222222222222, \"#7201a8\"], [0.3333333333333333, \"#9c179e\"], [0.4444444444444444, \"#bd3786\"], [0.5555555555555556, \"#d8576b\"], [0.6666666666666666, \"#ed7953\"], [0.7777777777777778, \"#fb9f3a\"], [0.8888888888888888, \"#fdca26\"], [1.0, \"#f0f921\"]], \"type\": \"heatmap\"}], \"heatmapgl\": [{\"colorbar\": {\"outlinewidth\": 0, \"ticks\": \"\"}, \"colorscale\": [[0.0, \"#0d0887\"], [0.1111111111111111, \"#46039f\"], [0.2222222222222222, \"#7201a8\"], [0.3333333333333333, \"#9c179e\"], [0.4444444444444444, \"#bd3786\"], [0.5555555555555556, \"#d8576b\"], [0.6666666666666666, \"#ed7953\"], [0.7777777777777778, \"#fb9f3a\"], [0.8888888888888888, \"#fdca26\"], [1.0, \"#f0f921\"]], \"type\": \"heatmapgl\"}], \"histogram\": [{\"marker\": {\"colorbar\": {\"outlinewidth\": 0, \"ticks\": \"\"}}, \"type\": \"histogram\"}], \"histogram2d\": [{\"colorbar\": {\"outlinewidth\": 0, \"ticks\": \"\"}, \"colorscale\": [[0.0, \"#0d0887\"], [0.1111111111111111, \"#46039f\"], [0.2222222222222222, \"#7201a8\"], [0.3333333333333333, \"#9c179e\"], [0.4444444444444444, \"#bd3786\"], [0.5555555555555556, \"#d8576b\"], [0.6666666666666666, \"#ed7953\"], [0.7777777777777778, \"#fb9f3a\"], [0.8888888888888888, \"#fdca26\"], [1.0, \"#f0f921\"]], \"type\": \"histogram2d\"}], \"histogram2dcontour\": [{\"colorbar\": {\"outlinewidth\": 0, \"ticks\": \"\"}, \"colorscale\": [[0.0, \"#0d0887\"], [0.1111111111111111, \"#46039f\"], [0.2222222222222222, \"#7201a8\"], [0.3333333333333333, \"#9c179e\"], [0.4444444444444444, \"#bd3786\"], [0.5555555555555556, \"#d8576b\"], [0.6666666666666666, \"#ed7953\"], [0.7777777777777778, \"#fb9f3a\"], [0.8888888888888888, \"#fdca26\"], [1.0, \"#f0f921\"]], \"type\": \"histogram2dcontour\"}], \"mesh3d\": [{\"colorbar\": {\"outlinewidth\": 0, \"ticks\": \"\"}, \"type\": \"mesh3d\"}], \"parcoords\": [{\"line\": {\"colorbar\": {\"outlinewidth\": 0, \"ticks\": \"\"}}, \"type\": \"parcoords\"}], \"pie\": [{\"automargin\": true, \"type\": \"pie\"}], \"scatter\": [{\"marker\": {\"colorbar\": {\"outlinewidth\": 0, \"ticks\": \"\"}}, \"type\": \"scatter\"}], \"scatter3d\": [{\"line\": {\"colorbar\": {\"outlinewidth\": 0, \"ticks\": \"\"}}, \"marker\": {\"colorbar\": {\"outlinewidth\": 0, \"ticks\": \"\"}}, \"type\": \"scatter3d\"}], \"scattercarpet\": [{\"marker\": {\"colorbar\": {\"outlinewidth\": 0, \"ticks\": \"\"}}, \"type\": \"scattercarpet\"}], \"scattergeo\": [{\"marker\": {\"colorbar\": {\"outlinewidth\": 0, \"ticks\": \"\"}}, \"type\": \"scattergeo\"}], \"scattergl\": [{\"marker\": {\"colorbar\": {\"outlinewidth\": 0, \"ticks\": \"\"}}, \"type\": \"scattergl\"}], \"scattermapbox\": [{\"marker\": {\"colorbar\": {\"outlinewidth\": 0, \"ticks\": \"\"}}, \"type\": \"scattermapbox\"}], \"scatterpolar\": [{\"marker\": {\"colorbar\": {\"outlinewidth\": 0, \"ticks\": \"\"}}, \"type\": \"scatterpolar\"}], \"scatterpolargl\": [{\"marker\": {\"colorbar\": {\"outlinewidth\": 0, \"ticks\": \"\"}}, \"type\": \"scatterpolargl\"}], \"scatterternary\": [{\"marker\": {\"colorbar\": {\"outlinewidth\": 0, \"ticks\": \"\"}}, \"type\": \"scatterternary\"}], \"surface\": [{\"colorbar\": {\"outlinewidth\": 0, \"ticks\": \"\"}, \"colorscale\": [[0.0, \"#0d0887\"], [0.1111111111111111, \"#46039f\"], [0.2222222222222222, \"#7201a8\"], [0.3333333333333333, \"#9c179e\"], [0.4444444444444444, \"#bd3786\"], [0.5555555555555556, \"#d8576b\"], [0.6666666666666666, \"#ed7953\"], [0.7777777777777778, \"#fb9f3a\"], [0.8888888888888888, \"#fdca26\"], [1.0, \"#f0f921\"]], \"type\": \"surface\"}], \"table\": [{\"cells\": {\"fill\": {\"color\": \"#EBF0F8\"}, \"line\": {\"color\": \"white\"}}, \"header\": {\"fill\": {\"color\": \"#C8D4E3\"}, \"line\": {\"color\": \"white\"}}, \"type\": \"table\"}]}, \"layout\": {\"annotationdefaults\": {\"arrowcolor\": \"#2a3f5f\", \"arrowhead\": 0, \"arrowwidth\": 1}, \"coloraxis\": {\"colorbar\": {\"outlinewidth\": 0, \"ticks\": \"\"}}, \"colorscale\": {\"diverging\": [[0, \"#8e0152\"], [0.1, \"#c51b7d\"], [0.2, \"#de77ae\"], [0.3, \"#f1b6da\"], [0.4, \"#fde0ef\"], [0.5, \"#f7f7f7\"], [0.6, \"#e6f5d0\"], [0.7, \"#b8e186\"], [0.8, \"#7fbc41\"], [0.9, \"#4d9221\"], [1, \"#276419\"]], \"sequential\": [[0.0, \"#0d0887\"], [0.1111111111111111, \"#46039f\"], [0.2222222222222222, \"#7201a8\"], [0.3333333333333333, \"#9c179e\"], [0.4444444444444444, \"#bd3786\"], [0.5555555555555556, \"#d8576b\"], [0.6666666666666666, \"#ed7953\"], [0.7777777777777778, \"#fb9f3a\"], [0.8888888888888888, \"#fdca26\"], [1.0, \"#f0f921\"]], \"sequentialminus\": [[0.0, \"#0d0887\"], [0.1111111111111111, \"#46039f\"], [0.2222222222222222, \"#7201a8\"], [0.3333333333333333, \"#9c179e\"], [0.4444444444444444, \"#bd3786\"], [0.5555555555555556, \"#d8576b\"], [0.6666666666666666, \"#ed7953\"], [0.7777777777777778, \"#fb9f3a\"], [0.8888888888888888, \"#fdca26\"], [1.0, \"#f0f921\"]]}, \"colorway\": [\"#636efa\", \"#EF553B\", \"#00cc96\", \"#ab63fa\", \"#FFA15A\", \"#19d3f3\", \"#FF6692\", \"#B6E880\", \"#FF97FF\", \"#FECB52\"], \"font\": {\"color\": \"#2a3f5f\"}, \"geo\": {\"bgcolor\": \"white\", \"lakecolor\": \"white\", \"landcolor\": \"#E5ECF6\", \"showlakes\": true, \"showland\": true, \"subunitcolor\": \"white\"}, \"hoverlabel\": {\"align\": \"left\"}, \"hovermode\": \"closest\", \"mapbox\": {\"style\": \"light\"}, \"paper_bgcolor\": \"white\", \"plot_bgcolor\": \"#E5ECF6\", \"polar\": {\"angularaxis\": {\"gridcolor\": \"white\", \"linecolor\": \"white\", \"ticks\": \"\"}, \"bgcolor\": \"#E5ECF6\", \"radialaxis\": {\"gridcolor\": \"white\", \"linecolor\": \"white\", \"ticks\": \"\"}}, \"scene\": {\"xaxis\": {\"backgroundcolor\": \"#E5ECF6\", \"gridcolor\": \"white\", \"gridwidth\": 2, \"linecolor\": \"white\", \"showbackground\": true, \"ticks\": \"\", \"zerolinecolor\": \"white\"}, \"yaxis\": {\"backgroundcolor\": \"#E5ECF6\", \"gridcolor\": \"white\", \"gridwidth\": 2, \"linecolor\": \"white\", \"showbackground\": true, \"ticks\": \"\", \"zerolinecolor\": \"white\"}, \"zaxis\": {\"backgroundcolor\": \"#E5ECF6\", \"gridcolor\": \"white\", \"gridwidth\": 2, \"linecolor\": \"white\", \"showbackground\": true, \"ticks\": \"\", \"zerolinecolor\": \"white\"}}, \"shapedefaults\": {\"line\": {\"color\": \"#2a3f5f\"}}, \"ternary\": {\"aaxis\": {\"gridcolor\": \"white\", \"linecolor\": \"white\", \"ticks\": \"\"}, \"baxis\": {\"gridcolor\": \"white\", \"linecolor\": \"white\", \"ticks\": \"\"}, \"bgcolor\": \"#E5ECF6\", \"caxis\": {\"gridcolor\": \"white\", \"linecolor\": \"white\", \"ticks\": \"\"}}, \"title\": {\"x\": 0.05}, \"xaxis\": {\"automargin\": true, \"gridcolor\": \"white\", \"linecolor\": \"white\", \"ticks\": \"\", \"title\": {\"standoff\": 15}, \"zerolinecolor\": \"white\", \"zerolinewidth\": 2}, \"yaxis\": {\"automargin\": true, \"gridcolor\": \"white\", \"linecolor\": \"white\", \"ticks\": \"\", \"title\": {\"standoff\": 15}, \"zerolinecolor\": \"white\", \"zerolinewidth\": 2}}}, \"xaxis\": {\"anchor\": \"y\", \"domain\": [0.0, 1.0], \"title\": {\"text\": \"IC\"}}, \"yaxis\": {\"anchor\": \"x\", \"domain\": [0.0, 1.0], \"title\": {\"text\": \"T7 + PR772 NR\"}}},\n",
       "                        {\"responsive\": true}\n",
       "                    ).then(function(){\n",
       "                            \n",
       "var gd = document.getElementById('17a11887-8868-487f-a484-45c89e24b21f');\n",
       "var x = new MutationObserver(function (mutations, observer) {{\n",
       "        var display = window.getComputedStyle(gd).display;\n",
       "        if (!display || display === 'none') {{\n",
       "            console.log([gd, 'removed!']);\n",
       "            Plotly.purge(gd);\n",
       "            observer.disconnect();\n",
       "        }}\n",
       "}});\n",
       "\n",
       "// Listen for the removal of the full notebook cells\n",
       "var notebookContainer = gd.closest('#notebook-container');\n",
       "if (notebookContainer) {{\n",
       "    x.observe(notebookContainer, {childList: true});\n",
       "}}\n",
       "\n",
       "// Listen for the clearing of the current output cell\n",
       "var outputEl = gd.closest('.output');\n",
       "if (outputEl) {{\n",
       "    x.observe(outputEl, {childList: true});\n",
       "}}\n",
       "\n",
       "                        })\n",
       "                };\n",
       "                });\n",
       "            </script>\n",
       "        </div>"
      ]
     },
     "metadata": {},
     "output_type": "display_data"
    }
   ],
   "source": [
    "fig = px.box(\n",
    "    merged_recent, y='T7 + PR772 NR (Composition File)',\n",
    "    x='IC', hover_data=['T7 + PR772 NR (Composition File)', 'Accession', 'Sample Name', 'Batch ID', 'Run Date'], points='all',\n",
    "    labels={'T7 + PR772 NR (Composition File)': '(T7 + PR772) NR',\n",
    "            'T7 + PR772 NR (Composition File)': 'T7 + PR772 NR'})\n",
    "fig.update_layout(font=dict(size=18), height=600)\n",
    "fig.show()\n",
    "# fig.write_html('plots/Diluted_Hi_IC_vs_Low_IC.html')"
   ]
  },
  {
   "cell_type": "markdown",
   "metadata": {},
   "source": [
    "Again, just showing difference between first and second diluted Hi-IC runs."
   ]
  },
  {
   "cell_type": "code",
   "execution_count": 78,
   "metadata": {},
   "outputs": [
    {
     "data": {
      "application/vnd.plotly.v1+json": {
       "config": {
        "plotlyServerURL": "https://plot.ly"
       },
       "data": [
        {
         "alignmentgroup": "True",
         "boxpoints": "all",
         "customdata": [
          [
           6024.460948397478,
           "IDBD-D101029",
           "NEW neg2",
           "191210B02",
           "2019-12-11"
          ],
          [
           5675.047209041326,
           "IDBD-D101030",
           "NEW neg3",
           "191210B02",
           "2019-12-11"
          ],
          [
           5403.951340526646,
           "IDBD-D101031",
           "NEW Neg4",
           "191210B02",
           "2019-12-11"
          ],
          [
           5418.6157095621975,
           "IDBD-D101032",
           "NEW Neg5",
           "191210B02",
           "2019-12-11"
          ],
          [
           6652.236668416355,
           "IDBD-D101074",
           "NEW Neg7",
           "191211B02",
           "2019-12-13"
          ],
          [
           4842.589013443285,
           "IDBD-D101075",
           "NEW Neg8",
           "191211B02",
           "2019-12-13"
          ],
          [
           5692.139847158353,
           "IDBD-D101076",
           "NEG Neg9",
           "191211B02",
           "2019-12-13"
          ],
          [
           7851.406422252066,
           "IDBD-D101077",
           "NEW Neg10",
           "191211B02",
           "2019-12-13"
          ],
          [
           5236.962858478826,
           "controlneg",
           null,
           "191220B01",
           "2019-12-20"
          ],
          [
           6335.327851558352,
           "controlneg",
           null,
           "191223B01",
           "2019-12-24"
          ],
          [
           6463.652568748615,
           "controlneg",
           null,
           "191223B04",
           "2019-12-25"
          ],
          [
           7750.54380779208,
           "controlneg",
           null,
           "200114B02",
           "2020-01-17"
          ],
          [
           6847.422828544828,
           "controlneg",
           null,
           "200116B03",
           "2020-01-18"
          ],
          [
           7256.320679560567,
           "controlneg",
           null,
           "200117B01",
           "2020-01-18"
          ],
          [
           4087.081680907999,
           "IDBD-D101325",
           "RespNeg01",
           "200119B01",
           "2020-01-20"
          ],
          [
           4069.388217397553,
           "IDBD-D101326",
           "RespNeg02",
           "200119B01",
           "2020-01-20"
          ],
          [
           4528.987491931303,
           "IDBD-D101327",
           "RespNeg03",
           "200119B01",
           "2020-01-20"
          ],
          [
           3936.474466767371,
           "IDBD-D101328",
           "RespNeg04",
           "200119B01",
           "2020-01-20"
          ],
          [
           4226.835267167544,
           "IDBD-D101329",
           "RespNeg05",
           "200119B01",
           "2020-01-20"
          ],
          [
           6065.263744791783,
           "IDBD-D101330",
           "RespNeg06",
           "200119B01",
           "2020-01-20"
          ],
          [
           6485.633339481331,
           "IDBD-D101331",
           "RespNeg07",
           "200119B01",
           "2020-01-20"
          ],
          [
           5427.159827785494,
           "IDBD-D101332",
           "RespNeg08",
           "200119B01",
           "2020-01-20"
          ],
          [
           5942.472657614007,
           "controlNeg",
           null,
           "200119B01",
           "2020-01-20"
          ],
          [
           5733.678786763884,
           "IDBD-D101333",
           "RespNeg09",
           "200119B02",
           "2020-01-20"
          ],
          [
           5642.290092702827,
           "IDBD-D101334",
           "RespNeg10",
           "200119B02",
           "2020-01-20"
          ],
          [
           6373.47932698333,
           "IDBD-D101335",
           "RespNeg11",
           "200119B02",
           "2020-01-20"
          ],
          [
           5455.027941817089,
           "IDBD-D101336",
           "RespNeg12",
           "200119B02",
           "2020-01-20"
          ],
          [
           5791.7543573630555,
           "IDBD-D101337",
           "RespNeg13",
           "200119B02",
           "2020-01-20"
          ],
          [
           6506.286699523414,
           "IDBD-D101338",
           "RespNeg14",
           "200119B02",
           "2020-01-20"
          ],
          [
           6981.192666955223,
           "IDBD-D101339",
           "RespNeg15",
           "200119B02",
           "2020-01-20"
          ],
          [
           5870.396597770782,
           "IDBD-D101340",
           "RespNeg16",
           "200119B02",
           "2020-01-20"
          ],
          [
           5978.470544211966,
           "controlNeg",
           null,
           "200119B02",
           "2020-01-20"
          ],
          [
           8955.375707983303,
           "IDBD-R101448",
           "ID-1",
           "200127B03",
           "2020-01-28"
          ],
          [
           9003.918887940734,
           "IDBD-R101464",
           "ID-2",
           "200127B03",
           "2020-01-28"
          ],
          [
           9362.52857927214,
           "IDBD-R101466",
           "ID-3",
           "200127B03",
           "2020-01-28"
          ],
          [
           7604.086893581107,
           "IDBD-R101467",
           "ID-4",
           "200127B03",
           "2020-01-28"
          ],
          [
           8106.257078223346,
           "IDBD-R101468",
           "ID-5",
           "200127B03",
           "2020-01-28"
          ],
          [
           5502.492125596582,
           "IDBD-R101469",
           "ID-6",
           "200127B03",
           "2020-01-28"
          ],
          [
           8118.42284235072,
           "IDBD-R101470",
           "ID-7",
           "200127B03",
           "2020-01-28"
          ],
          [
           6959.984494211761,
           "IDBD-R101471",
           "ID-8",
           "200127B03",
           "2020-01-28"
          ],
          [
           8043.150730288117,
           "controlNeg",
           null,
           "200127B03",
           "2020-01-28"
          ],
          [
           9867.003646005964,
           "IDBD-R101472",
           "ID-9",
           "200128B01",
           "2020-01-28"
          ],
          [
           7780.174853996759,
           "IDBD-R101473",
           "ID-10",
           "200128B01",
           "2020-01-28"
          ],
          [
           8521.426982757817,
           "IDBD-R101474",
           "ID-11",
           "200128B01",
           "2020-01-28"
          ],
          [
           5958.7522959715525,
           "IDBD-R101475",
           "ID-12",
           "200128B01",
           "2020-01-28"
          ],
          [
           8639.094481216442,
           "IDBD-R101476",
           "ID-13",
           "200128B01",
           "2020-01-28"
          ],
          [
           7911.348099747171,
           "IDBD-R101477",
           "ID-14",
           "200128B01",
           "2020-01-28"
          ],
          [
           7762.118240228505,
           "IDBD-R101478",
           "ID-15",
           "200128B01",
           "2020-01-28"
          ],
          [
           7303.39768606542,
           "IDBD-R101479",
           "ID-16",
           "200128B01",
           "2020-01-28"
          ],
          [
           6740.423053617196,
           "controlNeg",
           null,
           "200128B01",
           "2020-01-28"
          ]
         ],
         "hoverlabel": {
          "namelength": 0
         },
         "hovertemplate": "IC_2=%{x}<br>T7 + PR772 NR=%{customdata[0]}<br>Accession=%{customdata[1]}<br>Sample Name=%{customdata[2]}<br>Batch ID=%{customdata[3]}<br>Run Date=%{customdata[4]}",
         "legendgroup": "",
         "marker": {
          "color": "#636efa"
         },
         "name": "",
         "notched": false,
         "offsetgroup": "",
         "orientation": "v",
         "showlegend": false,
         "type": "box",
         "x": [
          "Low IC",
          "Low IC",
          "Low IC",
          "Low IC",
          "Low IC",
          "Low IC",
          "Low IC",
          "Low IC",
          "Low IC",
          "Low IC",
          "Low IC",
          "Low IC",
          "Low IC",
          "Low IC",
          "Diluted Hi IC",
          "Diluted Hi IC",
          "Diluted Hi IC",
          "Diluted Hi IC",
          "Diluted Hi IC",
          "Diluted Hi IC",
          "Diluted Hi IC",
          "Diluted Hi IC",
          "Diluted Hi IC",
          "Diluted Hi IC",
          "Diluted Hi IC",
          "Diluted Hi IC",
          "Diluted Hi IC",
          "Diluted Hi IC",
          "Diluted Hi IC",
          "Diluted Hi IC",
          "Diluted Hi IC",
          "Diluted Hi IC",
          "Diluted Hi IC Run 2",
          "Diluted Hi IC Run 2",
          "Diluted Hi IC Run 2",
          "Diluted Hi IC Run 2",
          "Diluted Hi IC Run 2",
          "Diluted Hi IC Run 2",
          "Diluted Hi IC Run 2",
          "Diluted Hi IC Run 2",
          "Diluted Hi IC Run 2",
          "Diluted Hi IC Run 2",
          "Diluted Hi IC Run 2",
          "Diluted Hi IC Run 2",
          "Diluted Hi IC Run 2",
          "Diluted Hi IC Run 2",
          "Diluted Hi IC Run 2",
          "Diluted Hi IC Run 2",
          "Diluted Hi IC Run 2",
          "Diluted Hi IC Run 2"
         ],
         "x0": " ",
         "xaxis": "x",
         "y": [
          6024.460948397478,
          5675.047209041326,
          5403.951340526646,
          5418.6157095621975,
          6652.236668416355,
          4842.589013443285,
          5692.139847158353,
          7851.406422252066,
          5236.962858478826,
          6335.327851558352,
          6463.652568748615,
          7750.54380779208,
          6847.422828544828,
          7256.320679560567,
          4087.081680907999,
          4069.388217397553,
          4528.987491931303,
          3936.474466767371,
          4226.835267167544,
          6065.263744791783,
          6485.633339481331,
          5427.159827785494,
          5942.472657614007,
          5733.678786763884,
          5642.290092702827,
          6373.47932698333,
          5455.027941817089,
          5791.7543573630555,
          6506.286699523414,
          6981.192666955223,
          5870.396597770782,
          5978.470544211966,
          8955.375707983303,
          9003.918887940734,
          9362.52857927214,
          7604.086893581107,
          8106.257078223346,
          5502.492125596582,
          8118.42284235072,
          6959.984494211761,
          8043.150730288117,
          9867.003646005964,
          7780.174853996759,
          8521.426982757817,
          5958.7522959715525,
          8639.094481216442,
          7911.348099747171,
          7762.118240228505,
          7303.39768606542,
          6740.423053617196
         ],
         "y0": " ",
         "yaxis": "y"
        }
       ],
       "layout": {
        "autosize": true,
        "boxmode": "group",
        "font": {
         "size": 18
        },
        "legend": {
         "tracegroupgap": 0
        },
        "margin": {
         "t": 60
        },
        "template": {
         "data": {
          "bar": [
           {
            "error_x": {
             "color": "#2a3f5f"
            },
            "error_y": {
             "color": "#2a3f5f"
            },
            "marker": {
             "line": {
              "color": "#E5ECF6",
              "width": 0.5
             }
            },
            "type": "bar"
           }
          ],
          "barpolar": [
           {
            "marker": {
             "line": {
              "color": "#E5ECF6",
              "width": 0.5
             }
            },
            "type": "barpolar"
           }
          ],
          "carpet": [
           {
            "aaxis": {
             "endlinecolor": "#2a3f5f",
             "gridcolor": "white",
             "linecolor": "white",
             "minorgridcolor": "white",
             "startlinecolor": "#2a3f5f"
            },
            "baxis": {
             "endlinecolor": "#2a3f5f",
             "gridcolor": "white",
             "linecolor": "white",
             "minorgridcolor": "white",
             "startlinecolor": "#2a3f5f"
            },
            "type": "carpet"
           }
          ],
          "choropleth": [
           {
            "colorbar": {
             "outlinewidth": 0,
             "ticks": ""
            },
            "type": "choropleth"
           }
          ],
          "contour": [
           {
            "colorbar": {
             "outlinewidth": 0,
             "ticks": ""
            },
            "colorscale": [
             [
              0,
              "#0d0887"
             ],
             [
              0.1111111111111111,
              "#46039f"
             ],
             [
              0.2222222222222222,
              "#7201a8"
             ],
             [
              0.3333333333333333,
              "#9c179e"
             ],
             [
              0.4444444444444444,
              "#bd3786"
             ],
             [
              0.5555555555555556,
              "#d8576b"
             ],
             [
              0.6666666666666666,
              "#ed7953"
             ],
             [
              0.7777777777777778,
              "#fb9f3a"
             ],
             [
              0.8888888888888888,
              "#fdca26"
             ],
             [
              1,
              "#f0f921"
             ]
            ],
            "type": "contour"
           }
          ],
          "contourcarpet": [
           {
            "colorbar": {
             "outlinewidth": 0,
             "ticks": ""
            },
            "type": "contourcarpet"
           }
          ],
          "heatmap": [
           {
            "colorbar": {
             "outlinewidth": 0,
             "ticks": ""
            },
            "colorscale": [
             [
              0,
              "#0d0887"
             ],
             [
              0.1111111111111111,
              "#46039f"
             ],
             [
              0.2222222222222222,
              "#7201a8"
             ],
             [
              0.3333333333333333,
              "#9c179e"
             ],
             [
              0.4444444444444444,
              "#bd3786"
             ],
             [
              0.5555555555555556,
              "#d8576b"
             ],
             [
              0.6666666666666666,
              "#ed7953"
             ],
             [
              0.7777777777777778,
              "#fb9f3a"
             ],
             [
              0.8888888888888888,
              "#fdca26"
             ],
             [
              1,
              "#f0f921"
             ]
            ],
            "type": "heatmap"
           }
          ],
          "heatmapgl": [
           {
            "colorbar": {
             "outlinewidth": 0,
             "ticks": ""
            },
            "colorscale": [
             [
              0,
              "#0d0887"
             ],
             [
              0.1111111111111111,
              "#46039f"
             ],
             [
              0.2222222222222222,
              "#7201a8"
             ],
             [
              0.3333333333333333,
              "#9c179e"
             ],
             [
              0.4444444444444444,
              "#bd3786"
             ],
             [
              0.5555555555555556,
              "#d8576b"
             ],
             [
              0.6666666666666666,
              "#ed7953"
             ],
             [
              0.7777777777777778,
              "#fb9f3a"
             ],
             [
              0.8888888888888888,
              "#fdca26"
             ],
             [
              1,
              "#f0f921"
             ]
            ],
            "type": "heatmapgl"
           }
          ],
          "histogram": [
           {
            "marker": {
             "colorbar": {
              "outlinewidth": 0,
              "ticks": ""
             }
            },
            "type": "histogram"
           }
          ],
          "histogram2d": [
           {
            "colorbar": {
             "outlinewidth": 0,
             "ticks": ""
            },
            "colorscale": [
             [
              0,
              "#0d0887"
             ],
             [
              0.1111111111111111,
              "#46039f"
             ],
             [
              0.2222222222222222,
              "#7201a8"
             ],
             [
              0.3333333333333333,
              "#9c179e"
             ],
             [
              0.4444444444444444,
              "#bd3786"
             ],
             [
              0.5555555555555556,
              "#d8576b"
             ],
             [
              0.6666666666666666,
              "#ed7953"
             ],
             [
              0.7777777777777778,
              "#fb9f3a"
             ],
             [
              0.8888888888888888,
              "#fdca26"
             ],
             [
              1,
              "#f0f921"
             ]
            ],
            "type": "histogram2d"
           }
          ],
          "histogram2dcontour": [
           {
            "colorbar": {
             "outlinewidth": 0,
             "ticks": ""
            },
            "colorscale": [
             [
              0,
              "#0d0887"
             ],
             [
              0.1111111111111111,
              "#46039f"
             ],
             [
              0.2222222222222222,
              "#7201a8"
             ],
             [
              0.3333333333333333,
              "#9c179e"
             ],
             [
              0.4444444444444444,
              "#bd3786"
             ],
             [
              0.5555555555555556,
              "#d8576b"
             ],
             [
              0.6666666666666666,
              "#ed7953"
             ],
             [
              0.7777777777777778,
              "#fb9f3a"
             ],
             [
              0.8888888888888888,
              "#fdca26"
             ],
             [
              1,
              "#f0f921"
             ]
            ],
            "type": "histogram2dcontour"
           }
          ],
          "mesh3d": [
           {
            "colorbar": {
             "outlinewidth": 0,
             "ticks": ""
            },
            "type": "mesh3d"
           }
          ],
          "parcoords": [
           {
            "line": {
             "colorbar": {
              "outlinewidth": 0,
              "ticks": ""
             }
            },
            "type": "parcoords"
           }
          ],
          "pie": [
           {
            "automargin": true,
            "type": "pie"
           }
          ],
          "scatter": [
           {
            "marker": {
             "colorbar": {
              "outlinewidth": 0,
              "ticks": ""
             }
            },
            "type": "scatter"
           }
          ],
          "scatter3d": [
           {
            "line": {
             "colorbar": {
              "outlinewidth": 0,
              "ticks": ""
             }
            },
            "marker": {
             "colorbar": {
              "outlinewidth": 0,
              "ticks": ""
             }
            },
            "type": "scatter3d"
           }
          ],
          "scattercarpet": [
           {
            "marker": {
             "colorbar": {
              "outlinewidth": 0,
              "ticks": ""
             }
            },
            "type": "scattercarpet"
           }
          ],
          "scattergeo": [
           {
            "marker": {
             "colorbar": {
              "outlinewidth": 0,
              "ticks": ""
             }
            },
            "type": "scattergeo"
           }
          ],
          "scattergl": [
           {
            "marker": {
             "colorbar": {
              "outlinewidth": 0,
              "ticks": ""
             }
            },
            "type": "scattergl"
           }
          ],
          "scattermapbox": [
           {
            "marker": {
             "colorbar": {
              "outlinewidth": 0,
              "ticks": ""
             }
            },
            "type": "scattermapbox"
           }
          ],
          "scatterpolar": [
           {
            "marker": {
             "colorbar": {
              "outlinewidth": 0,
              "ticks": ""
             }
            },
            "type": "scatterpolar"
           }
          ],
          "scatterpolargl": [
           {
            "marker": {
             "colorbar": {
              "outlinewidth": 0,
              "ticks": ""
             }
            },
            "type": "scatterpolargl"
           }
          ],
          "scatterternary": [
           {
            "marker": {
             "colorbar": {
              "outlinewidth": 0,
              "ticks": ""
             }
            },
            "type": "scatterternary"
           }
          ],
          "surface": [
           {
            "colorbar": {
             "outlinewidth": 0,
             "ticks": ""
            },
            "colorscale": [
             [
              0,
              "#0d0887"
             ],
             [
              0.1111111111111111,
              "#46039f"
             ],
             [
              0.2222222222222222,
              "#7201a8"
             ],
             [
              0.3333333333333333,
              "#9c179e"
             ],
             [
              0.4444444444444444,
              "#bd3786"
             ],
             [
              0.5555555555555556,
              "#d8576b"
             ],
             [
              0.6666666666666666,
              "#ed7953"
             ],
             [
              0.7777777777777778,
              "#fb9f3a"
             ],
             [
              0.8888888888888888,
              "#fdca26"
             ],
             [
              1,
              "#f0f921"
             ]
            ],
            "type": "surface"
           }
          ],
          "table": [
           {
            "cells": {
             "fill": {
              "color": "#EBF0F8"
             },
             "line": {
              "color": "white"
             }
            },
            "header": {
             "fill": {
              "color": "#C8D4E3"
             },
             "line": {
              "color": "white"
             }
            },
            "type": "table"
           }
          ]
         },
         "layout": {
          "annotationdefaults": {
           "arrowcolor": "#2a3f5f",
           "arrowhead": 0,
           "arrowwidth": 1
          },
          "coloraxis": {
           "colorbar": {
            "outlinewidth": 0,
            "ticks": ""
           }
          },
          "colorscale": {
           "diverging": [
            [
             0,
             "#8e0152"
            ],
            [
             0.1,
             "#c51b7d"
            ],
            [
             0.2,
             "#de77ae"
            ],
            [
             0.3,
             "#f1b6da"
            ],
            [
             0.4,
             "#fde0ef"
            ],
            [
             0.5,
             "#f7f7f7"
            ],
            [
             0.6,
             "#e6f5d0"
            ],
            [
             0.7,
             "#b8e186"
            ],
            [
             0.8,
             "#7fbc41"
            ],
            [
             0.9,
             "#4d9221"
            ],
            [
             1,
             "#276419"
            ]
           ],
           "sequential": [
            [
             0,
             "#0d0887"
            ],
            [
             0.1111111111111111,
             "#46039f"
            ],
            [
             0.2222222222222222,
             "#7201a8"
            ],
            [
             0.3333333333333333,
             "#9c179e"
            ],
            [
             0.4444444444444444,
             "#bd3786"
            ],
            [
             0.5555555555555556,
             "#d8576b"
            ],
            [
             0.6666666666666666,
             "#ed7953"
            ],
            [
             0.7777777777777778,
             "#fb9f3a"
            ],
            [
             0.8888888888888888,
             "#fdca26"
            ],
            [
             1,
             "#f0f921"
            ]
           ],
           "sequentialminus": [
            [
             0,
             "#0d0887"
            ],
            [
             0.1111111111111111,
             "#46039f"
            ],
            [
             0.2222222222222222,
             "#7201a8"
            ],
            [
             0.3333333333333333,
             "#9c179e"
            ],
            [
             0.4444444444444444,
             "#bd3786"
            ],
            [
             0.5555555555555556,
             "#d8576b"
            ],
            [
             0.6666666666666666,
             "#ed7953"
            ],
            [
             0.7777777777777778,
             "#fb9f3a"
            ],
            [
             0.8888888888888888,
             "#fdca26"
            ],
            [
             1,
             "#f0f921"
            ]
           ]
          },
          "colorway": [
           "#636efa",
           "#EF553B",
           "#00cc96",
           "#ab63fa",
           "#FFA15A",
           "#19d3f3",
           "#FF6692",
           "#B6E880",
           "#FF97FF",
           "#FECB52"
          ],
          "font": {
           "color": "#2a3f5f"
          },
          "geo": {
           "bgcolor": "white",
           "lakecolor": "white",
           "landcolor": "#E5ECF6",
           "showlakes": true,
           "showland": true,
           "subunitcolor": "white"
          },
          "hoverlabel": {
           "align": "left"
          },
          "hovermode": "closest",
          "mapbox": {
           "style": "light"
          },
          "paper_bgcolor": "white",
          "plot_bgcolor": "#E5ECF6",
          "polar": {
           "angularaxis": {
            "gridcolor": "white",
            "linecolor": "white",
            "ticks": ""
           },
           "bgcolor": "#E5ECF6",
           "radialaxis": {
            "gridcolor": "white",
            "linecolor": "white",
            "ticks": ""
           }
          },
          "scene": {
           "xaxis": {
            "backgroundcolor": "#E5ECF6",
            "gridcolor": "white",
            "gridwidth": 2,
            "linecolor": "white",
            "showbackground": true,
            "ticks": "",
            "zerolinecolor": "white"
           },
           "yaxis": {
            "backgroundcolor": "#E5ECF6",
            "gridcolor": "white",
            "gridwidth": 2,
            "linecolor": "white",
            "showbackground": true,
            "ticks": "",
            "zerolinecolor": "white"
           },
           "zaxis": {
            "backgroundcolor": "#E5ECF6",
            "gridcolor": "white",
            "gridwidth": 2,
            "linecolor": "white",
            "showbackground": true,
            "ticks": "",
            "zerolinecolor": "white"
           }
          },
          "shapedefaults": {
           "line": {
            "color": "#2a3f5f"
           }
          },
          "ternary": {
           "aaxis": {
            "gridcolor": "white",
            "linecolor": "white",
            "ticks": ""
           },
           "baxis": {
            "gridcolor": "white",
            "linecolor": "white",
            "ticks": ""
           },
           "bgcolor": "#E5ECF6",
           "caxis": {
            "gridcolor": "white",
            "linecolor": "white",
            "ticks": ""
           }
          },
          "title": {
           "x": 0.05
          },
          "xaxis": {
           "automargin": true,
           "gridcolor": "white",
           "linecolor": "white",
           "ticks": "",
           "title": {
            "standoff": 15
           },
           "zerolinecolor": "white",
           "zerolinewidth": 2
          },
          "yaxis": {
           "automargin": true,
           "gridcolor": "white",
           "linecolor": "white",
           "ticks": "",
           "title": {
            "standoff": 15
           },
           "zerolinecolor": "white",
           "zerolinewidth": 2
          }
         }
        },
        "xaxis": {
         "anchor": "y",
         "autorange": true,
         "domain": [
          0,
          1
         ],
         "range": [
          -0.5090361445783133,
          2.5
         ],
         "title": {
          "text": "IC_2"
         },
         "type": "category"
        },
        "yaxis": {
         "anchor": "x",
         "autorange": true,
         "domain": [
          0,
          1
         ],
         "range": [
          3607.0006234763378,
          10196.477489296996
         ],
         "title": {
          "text": "T7 + PR772 NR"
         },
         "type": "linear"
        }
       }
      },
      "image/png": "[encoded data removed]",
      "text/html": [
       "<div>\n",
       "        \n",
       "        \n",
       "            <div id=\"27cba104-e6af-4698-b0df-c37bb1302c2a\" class=\"plotly-graph-div\" style=\"height:600px; width:100%;\"></div>\n",
       "            <script type=\"text/javascript\">\n",
       "                require([\"plotly\"], function(Plotly) {\n",
       "                    window.PLOTLYENV=window.PLOTLYENV || {};\n",
       "                    \n",
       "                if (document.getElementById(\"27cba104-e6af-4698-b0df-c37bb1302c2a\")) {\n",
       "                    Plotly.newPlot(\n",
       "                        '27cba104-e6af-4698-b0df-c37bb1302c2a',\n",
       "                        [{\"alignmentgroup\": \"True\", \"boxpoints\": \"all\", \"customdata\": [[6024.460948397478, \"IDBD-D101029\", \"NEW neg2\", \"191210B02\", \"2019-12-11\"], [5675.047209041326, \"IDBD-D101030\", \"NEW neg3\", \"191210B02\", \"2019-12-11\"], [5403.951340526646, \"IDBD-D101031\", \"NEW Neg4\", \"191210B02\", \"2019-12-11\"], [5418.6157095621975, \"IDBD-D101032\", \"NEW Neg5\", \"191210B02\", \"2019-12-11\"], [6652.236668416355, \"IDBD-D101074\", \"NEW Neg7\", \"191211B02\", \"2019-12-13\"], [4842.589013443285, \"IDBD-D101075\", \"NEW Neg8\", \"191211B02\", \"2019-12-13\"], [5692.139847158353, \"IDBD-D101076\", \"NEG Neg9\", \"191211B02\", \"2019-12-13\"], [7851.406422252066, \"IDBD-D101077\", \"NEW Neg10\", \"191211B02\", \"2019-12-13\"], [5236.962858478826, \"controlneg\", null, \"191220B01\", \"2019-12-20\"], [6335.327851558352, \"controlneg\", null, \"191223B01\", \"2019-12-24\"], [6463.652568748615, \"controlneg\", null, \"191223B04\", \"2019-12-25\"], [7750.54380779208, \"controlneg\", null, \"200114B02\", \"2020-01-17\"], [6847.422828544828, \"controlneg\", null, \"200116B03\", \"2020-01-18\"], [7256.320679560567, \"controlneg\", null, \"200117B01\", \"2020-01-18\"], [4087.081680907999, \"IDBD-D101325\", \"RespNeg01\", \"200119B01\", \"2020-01-20\"], [4069.388217397553, \"IDBD-D101326\", \"RespNeg02\", \"200119B01\", \"2020-01-20\"], [4528.987491931303, \"IDBD-D101327\", \"RespNeg03\", \"200119B01\", \"2020-01-20\"], [3936.474466767371, \"IDBD-D101328\", \"RespNeg04\", \"200119B01\", \"2020-01-20\"], [4226.835267167544, \"IDBD-D101329\", \"RespNeg05\", \"200119B01\", \"2020-01-20\"], [6065.263744791783, \"IDBD-D101330\", \"RespNeg06\", \"200119B01\", \"2020-01-20\"], [6485.633339481331, \"IDBD-D101331\", \"RespNeg07\", \"200119B01\", \"2020-01-20\"], [5427.159827785494, \"IDBD-D101332\", \"RespNeg08\", \"200119B01\", \"2020-01-20\"], [5942.472657614007, \"controlNeg\", null, \"200119B01\", \"2020-01-20\"], [5733.678786763884, \"IDBD-D101333\", \"RespNeg09\", \"200119B02\", \"2020-01-20\"], [5642.290092702827, \"IDBD-D101334\", \"RespNeg10\", \"200119B02\", \"2020-01-20\"], [6373.47932698333, \"IDBD-D101335\", \"RespNeg11\", \"200119B02\", \"2020-01-20\"], [5455.027941817089, \"IDBD-D101336\", \"RespNeg12\", \"200119B02\", \"2020-01-20\"], [5791.7543573630555, \"IDBD-D101337\", \"RespNeg13\", \"200119B02\", \"2020-01-20\"], [6506.286699523414, \"IDBD-D101338\", \"RespNeg14\", \"200119B02\", \"2020-01-20\"], [6981.192666955223, \"IDBD-D101339\", \"RespNeg15\", \"200119B02\", \"2020-01-20\"], [5870.396597770782, \"IDBD-D101340\", \"RespNeg16\", \"200119B02\", \"2020-01-20\"], [5978.470544211966, \"controlNeg\", null, \"200119B02\", \"2020-01-20\"], [8955.375707983303, \"IDBD-R101448\", \"ID-1\", \"200127B03\", \"2020-01-28\"], [9003.918887940734, \"IDBD-R101464\", \"ID-2\", \"200127B03\", \"2020-01-28\"], [9362.52857927214, \"IDBD-R101466\", \"ID-3\", \"200127B03\", \"2020-01-28\"], [7604.086893581107, \"IDBD-R101467\", \"ID-4\", \"200127B03\", \"2020-01-28\"], [8106.257078223346, \"IDBD-R101468\", \"ID-5\", \"200127B03\", \"2020-01-28\"], [5502.492125596582, \"IDBD-R101469\", \"ID-6\", \"200127B03\", \"2020-01-28\"], [8118.42284235072, \"IDBD-R101470\", \"ID-7\", \"200127B03\", \"2020-01-28\"], [6959.984494211761, \"IDBD-R101471\", \"ID-8\", \"200127B03\", \"2020-01-28\"], [8043.150730288117, \"controlNeg\", null, \"200127B03\", \"2020-01-28\"], [9867.003646005964, \"IDBD-R101472\", \"ID-9\", \"200128B01\", \"2020-01-28\"], [7780.174853996759, \"IDBD-R101473\", \"ID-10\", \"200128B01\", \"2020-01-28\"], [8521.426982757817, \"IDBD-R101474\", \"ID-11\", \"200128B01\", \"2020-01-28\"], [5958.7522959715525, \"IDBD-R101475\", \"ID-12\", \"200128B01\", \"2020-01-28\"], [8639.094481216442, \"IDBD-R101476\", \"ID-13\", \"200128B01\", \"2020-01-28\"], [7911.348099747171, \"IDBD-R101477\", \"ID-14\", \"200128B01\", \"2020-01-28\"], [7762.118240228505, \"IDBD-R101478\", \"ID-15\", \"200128B01\", \"2020-01-28\"], [7303.39768606542, \"IDBD-R101479\", \"ID-16\", \"200128B01\", \"2020-01-28\"], [6740.423053617196, \"controlNeg\", null, \"200128B01\", \"2020-01-28\"]], \"hoverlabel\": {\"namelength\": 0}, \"hovertemplate\": \"IC_2=%{x}<br>T7 + PR772 NR=%{customdata[0]}<br>Accession=%{customdata[1]}<br>Sample Name=%{customdata[2]}<br>Batch ID=%{customdata[3]}<br>Run Date=%{customdata[4]}\", \"legendgroup\": \"\", \"marker\": {\"color\": \"#636efa\"}, \"name\": \"\", \"notched\": false, \"offsetgroup\": \"\", \"orientation\": \"v\", \"showlegend\": false, \"type\": \"box\", \"x\": [\"Low IC\", \"Low IC\", \"Low IC\", \"Low IC\", \"Low IC\", \"Low IC\", \"Low IC\", \"Low IC\", \"Low IC\", \"Low IC\", \"Low IC\", \"Low IC\", \"Low IC\", \"Low IC\", \"Diluted Hi IC\", \"Diluted Hi IC\", \"Diluted Hi IC\", \"Diluted Hi IC\", \"Diluted Hi IC\", \"Diluted Hi IC\", \"Diluted Hi IC\", \"Diluted Hi IC\", \"Diluted Hi IC\", \"Diluted Hi IC\", \"Diluted Hi IC\", \"Diluted Hi IC\", \"Diluted Hi IC\", \"Diluted Hi IC\", \"Diluted Hi IC\", \"Diluted Hi IC\", \"Diluted Hi IC\", \"Diluted Hi IC\", \"Diluted Hi IC Run 2\", \"Diluted Hi IC Run 2\", \"Diluted Hi IC Run 2\", \"Diluted Hi IC Run 2\", \"Diluted Hi IC Run 2\", \"Diluted Hi IC Run 2\", \"Diluted Hi IC Run 2\", \"Diluted Hi IC Run 2\", \"Diluted Hi IC Run 2\", \"Diluted Hi IC Run 2\", \"Diluted Hi IC Run 2\", \"Diluted Hi IC Run 2\", \"Diluted Hi IC Run 2\", \"Diluted Hi IC Run 2\", \"Diluted Hi IC Run 2\", \"Diluted Hi IC Run 2\", \"Diluted Hi IC Run 2\", \"Diluted Hi IC Run 2\"], \"x0\": \" \", \"xaxis\": \"x\", \"y\": [6024.460948397478, 5675.047209041326, 5403.951340526646, 5418.6157095621975, 6652.236668416355, 4842.589013443285, 5692.139847158353, 7851.406422252066, 5236.962858478826, 6335.327851558352, 6463.652568748615, 7750.54380779208, 6847.422828544828, 7256.320679560567, 4087.081680907999, 4069.388217397553, 4528.987491931303, 3936.474466767371, 4226.835267167544, 6065.263744791783, 6485.633339481331, 5427.159827785494, 5942.472657614007, 5733.678786763884, 5642.290092702827, 6373.47932698333, 5455.027941817089, 5791.7543573630555, 6506.286699523414, 6981.192666955223, 5870.396597770782, 5978.470544211966, 8955.375707983303, 9003.918887940734, 9362.52857927214, 7604.086893581107, 8106.257078223346, 5502.492125596582, 8118.42284235072, 6959.984494211761, 8043.150730288117, 9867.003646005964, 7780.174853996759, 8521.426982757817, 5958.7522959715525, 8639.094481216442, 7911.348099747171, 7762.118240228505, 7303.39768606542, 6740.423053617196], \"y0\": \" \", \"yaxis\": \"y\"}],\n",
       "                        {\"boxmode\": \"group\", \"font\": {\"size\": 18}, \"height\": 600, \"legend\": {\"tracegroupgap\": 0}, \"margin\": {\"t\": 60}, \"template\": {\"data\": {\"bar\": [{\"error_x\": {\"color\": \"#2a3f5f\"}, \"error_y\": {\"color\": \"#2a3f5f\"}, \"marker\": {\"line\": {\"color\": \"#E5ECF6\", \"width\": 0.5}}, \"type\": \"bar\"}], \"barpolar\": [{\"marker\": {\"line\": {\"color\": \"#E5ECF6\", \"width\": 0.5}}, \"type\": \"barpolar\"}], \"carpet\": [{\"aaxis\": {\"endlinecolor\": \"#2a3f5f\", \"gridcolor\": \"white\", \"linecolor\": \"white\", \"minorgridcolor\": \"white\", \"startlinecolor\": \"#2a3f5f\"}, \"baxis\": {\"endlinecolor\": \"#2a3f5f\", \"gridcolor\": \"white\", \"linecolor\": \"white\", \"minorgridcolor\": \"white\", \"startlinecolor\": \"#2a3f5f\"}, \"type\": \"carpet\"}], \"choropleth\": [{\"colorbar\": {\"outlinewidth\": 0, \"ticks\": \"\"}, \"type\": \"choropleth\"}], \"contour\": [{\"colorbar\": {\"outlinewidth\": 0, \"ticks\": \"\"}, \"colorscale\": [[0.0, \"#0d0887\"], [0.1111111111111111, \"#46039f\"], [0.2222222222222222, \"#7201a8\"], [0.3333333333333333, \"#9c179e\"], [0.4444444444444444, \"#bd3786\"], [0.5555555555555556, \"#d8576b\"], [0.6666666666666666, \"#ed7953\"], [0.7777777777777778, \"#fb9f3a\"], [0.8888888888888888, \"#fdca26\"], [1.0, \"#f0f921\"]], \"type\": \"contour\"}], \"contourcarpet\": [{\"colorbar\": {\"outlinewidth\": 0, \"ticks\": \"\"}, \"type\": \"contourcarpet\"}], \"heatmap\": [{\"colorbar\": {\"outlinewidth\": 0, \"ticks\": \"\"}, \"colorscale\": [[0.0, \"#0d0887\"], [0.1111111111111111, \"#46039f\"], [0.2222222222222222, \"#7201a8\"], [0.3333333333333333, \"#9c179e\"], [0.4444444444444444, \"#bd3786\"], [0.5555555555555556, \"#d8576b\"], [0.6666666666666666, \"#ed7953\"], [0.7777777777777778, \"#fb9f3a\"], [0.8888888888888888, \"#fdca26\"], [1.0, \"#f0f921\"]], \"type\": \"heatmap\"}], \"heatmapgl\": [{\"colorbar\": {\"outlinewidth\": 0, \"ticks\": \"\"}, \"colorscale\": [[0.0, \"#0d0887\"], [0.1111111111111111, \"#46039f\"], [0.2222222222222222, \"#7201a8\"], [0.3333333333333333, \"#9c179e\"], [0.4444444444444444, \"#bd3786\"], [0.5555555555555556, \"#d8576b\"], [0.6666666666666666, \"#ed7953\"], [0.7777777777777778, \"#fb9f3a\"], [0.8888888888888888, \"#fdca26\"], [1.0, \"#f0f921\"]], \"type\": \"heatmapgl\"}], \"histogram\": [{\"marker\": {\"colorbar\": {\"outlinewidth\": 0, \"ticks\": \"\"}}, \"type\": \"histogram\"}], \"histogram2d\": [{\"colorbar\": {\"outlinewidth\": 0, \"ticks\": \"\"}, \"colorscale\": [[0.0, \"#0d0887\"], [0.1111111111111111, \"#46039f\"], [0.2222222222222222, \"#7201a8\"], [0.3333333333333333, \"#9c179e\"], [0.4444444444444444, \"#bd3786\"], [0.5555555555555556, \"#d8576b\"], [0.6666666666666666, \"#ed7953\"], [0.7777777777777778, \"#fb9f3a\"], [0.8888888888888888, \"#fdca26\"], [1.0, \"#f0f921\"]], \"type\": \"histogram2d\"}], \"histogram2dcontour\": [{\"colorbar\": {\"outlinewidth\": 0, \"ticks\": \"\"}, \"colorscale\": [[0.0, \"#0d0887\"], [0.1111111111111111, \"#46039f\"], [0.2222222222222222, \"#7201a8\"], [0.3333333333333333, \"#9c179e\"], [0.4444444444444444, \"#bd3786\"], [0.5555555555555556, \"#d8576b\"], [0.6666666666666666, \"#ed7953\"], [0.7777777777777778, \"#fb9f3a\"], [0.8888888888888888, \"#fdca26\"], [1.0, \"#f0f921\"]], \"type\": \"histogram2dcontour\"}], \"mesh3d\": [{\"colorbar\": {\"outlinewidth\": 0, \"ticks\": \"\"}, \"type\": \"mesh3d\"}], \"parcoords\": [{\"line\": {\"colorbar\": {\"outlinewidth\": 0, \"ticks\": \"\"}}, \"type\": \"parcoords\"}], \"pie\": [{\"automargin\": true, \"type\": \"pie\"}], \"scatter\": [{\"marker\": {\"colorbar\": {\"outlinewidth\": 0, \"ticks\": \"\"}}, \"type\": \"scatter\"}], \"scatter3d\": [{\"line\": {\"colorbar\": {\"outlinewidth\": 0, \"ticks\": \"\"}}, \"marker\": {\"colorbar\": {\"outlinewidth\": 0, \"ticks\": \"\"}}, \"type\": \"scatter3d\"}], \"scattercarpet\": [{\"marker\": {\"colorbar\": {\"outlinewidth\": 0, \"ticks\": \"\"}}, \"type\": \"scattercarpet\"}], \"scattergeo\": [{\"marker\": {\"colorbar\": {\"outlinewidth\": 0, \"ticks\": \"\"}}, \"type\": \"scattergeo\"}], \"scattergl\": [{\"marker\": {\"colorbar\": {\"outlinewidth\": 0, \"ticks\": \"\"}}, \"type\": \"scattergl\"}], \"scattermapbox\": [{\"marker\": {\"colorbar\": {\"outlinewidth\": 0, \"ticks\": \"\"}}, \"type\": \"scattermapbox\"}], \"scatterpolar\": [{\"marker\": {\"colorbar\": {\"outlinewidth\": 0, \"ticks\": \"\"}}, \"type\": \"scatterpolar\"}], \"scatterpolargl\": [{\"marker\": {\"colorbar\": {\"outlinewidth\": 0, \"ticks\": \"\"}}, \"type\": \"scatterpolargl\"}], \"scatterternary\": [{\"marker\": {\"colorbar\": {\"outlinewidth\": 0, \"ticks\": \"\"}}, \"type\": \"scatterternary\"}], \"surface\": [{\"colorbar\": {\"outlinewidth\": 0, \"ticks\": \"\"}, \"colorscale\": [[0.0, \"#0d0887\"], [0.1111111111111111, \"#46039f\"], [0.2222222222222222, \"#7201a8\"], [0.3333333333333333, \"#9c179e\"], [0.4444444444444444, \"#bd3786\"], [0.5555555555555556, \"#d8576b\"], [0.6666666666666666, \"#ed7953\"], [0.7777777777777778, \"#fb9f3a\"], [0.8888888888888888, \"#fdca26\"], [1.0, \"#f0f921\"]], \"type\": \"surface\"}], \"table\": [{\"cells\": {\"fill\": {\"color\": \"#EBF0F8\"}, \"line\": {\"color\": \"white\"}}, \"header\": {\"fill\": {\"color\": \"#C8D4E3\"}, \"line\": {\"color\": \"white\"}}, \"type\": \"table\"}]}, \"layout\": {\"annotationdefaults\": {\"arrowcolor\": \"#2a3f5f\", \"arrowhead\": 0, \"arrowwidth\": 1}, \"coloraxis\": {\"colorbar\": {\"outlinewidth\": 0, \"ticks\": \"\"}}, \"colorscale\": {\"diverging\": [[0, \"#8e0152\"], [0.1, \"#c51b7d\"], [0.2, \"#de77ae\"], [0.3, \"#f1b6da\"], [0.4, \"#fde0ef\"], [0.5, \"#f7f7f7\"], [0.6, \"#e6f5d0\"], [0.7, \"#b8e186\"], [0.8, \"#7fbc41\"], [0.9, \"#4d9221\"], [1, \"#276419\"]], \"sequential\": [[0.0, \"#0d0887\"], [0.1111111111111111, \"#46039f\"], [0.2222222222222222, \"#7201a8\"], [0.3333333333333333, \"#9c179e\"], [0.4444444444444444, \"#bd3786\"], [0.5555555555555556, \"#d8576b\"], [0.6666666666666666, \"#ed7953\"], [0.7777777777777778, \"#fb9f3a\"], [0.8888888888888888, \"#fdca26\"], [1.0, \"#f0f921\"]], \"sequentialminus\": [[0.0, \"#0d0887\"], [0.1111111111111111, \"#46039f\"], [0.2222222222222222, \"#7201a8\"], [0.3333333333333333, \"#9c179e\"], [0.4444444444444444, \"#bd3786\"], [0.5555555555555556, \"#d8576b\"], [0.6666666666666666, \"#ed7953\"], [0.7777777777777778, \"#fb9f3a\"], [0.8888888888888888, \"#fdca26\"], [1.0, \"#f0f921\"]]}, \"colorway\": [\"#636efa\", \"#EF553B\", \"#00cc96\", \"#ab63fa\", \"#FFA15A\", \"#19d3f3\", \"#FF6692\", \"#B6E880\", \"#FF97FF\", \"#FECB52\"], \"font\": {\"color\": \"#2a3f5f\"}, \"geo\": {\"bgcolor\": \"white\", \"lakecolor\": \"white\", \"landcolor\": \"#E5ECF6\", \"showlakes\": true, \"showland\": true, \"subunitcolor\": \"white\"}, \"hoverlabel\": {\"align\": \"left\"}, \"hovermode\": \"closest\", \"mapbox\": {\"style\": \"light\"}, \"paper_bgcolor\": \"white\", \"plot_bgcolor\": \"#E5ECF6\", \"polar\": {\"angularaxis\": {\"gridcolor\": \"white\", \"linecolor\": \"white\", \"ticks\": \"\"}, \"bgcolor\": \"#E5ECF6\", \"radialaxis\": {\"gridcolor\": \"white\", \"linecolor\": \"white\", \"ticks\": \"\"}}, \"scene\": {\"xaxis\": {\"backgroundcolor\": \"#E5ECF6\", \"gridcolor\": \"white\", \"gridwidth\": 2, \"linecolor\": \"white\", \"showbackground\": true, \"ticks\": \"\", \"zerolinecolor\": \"white\"}, \"yaxis\": {\"backgroundcolor\": \"#E5ECF6\", \"gridcolor\": \"white\", \"gridwidth\": 2, \"linecolor\": \"white\", \"showbackground\": true, \"ticks\": \"\", \"zerolinecolor\": \"white\"}, \"zaxis\": {\"backgroundcolor\": \"#E5ECF6\", \"gridcolor\": \"white\", \"gridwidth\": 2, \"linecolor\": \"white\", \"showbackground\": true, \"ticks\": \"\", \"zerolinecolor\": \"white\"}}, \"shapedefaults\": {\"line\": {\"color\": \"#2a3f5f\"}}, \"ternary\": {\"aaxis\": {\"gridcolor\": \"white\", \"linecolor\": \"white\", \"ticks\": \"\"}, \"baxis\": {\"gridcolor\": \"white\", \"linecolor\": \"white\", \"ticks\": \"\"}, \"bgcolor\": \"#E5ECF6\", \"caxis\": {\"gridcolor\": \"white\", \"linecolor\": \"white\", \"ticks\": \"\"}}, \"title\": {\"x\": 0.05}, \"xaxis\": {\"automargin\": true, \"gridcolor\": \"white\", \"linecolor\": \"white\", \"ticks\": \"\", \"title\": {\"standoff\": 15}, \"zerolinecolor\": \"white\", \"zerolinewidth\": 2}, \"yaxis\": {\"automargin\": true, \"gridcolor\": \"white\", \"linecolor\": \"white\", \"ticks\": \"\", \"title\": {\"standoff\": 15}, \"zerolinecolor\": \"white\", \"zerolinewidth\": 2}}}, \"xaxis\": {\"anchor\": \"y\", \"domain\": [0.0, 1.0], \"title\": {\"text\": \"IC_2\"}}, \"yaxis\": {\"anchor\": \"x\", \"domain\": [0.0, 1.0], \"title\": {\"text\": \"T7 + PR772 NR\"}}},\n",
       "                        {\"responsive\": true}\n",
       "                    ).then(function(){\n",
       "                            \n",
       "var gd = document.getElementById('27cba104-e6af-4698-b0df-c37bb1302c2a');\n",
       "var x = new MutationObserver(function (mutations, observer) {{\n",
       "        var display = window.getComputedStyle(gd).display;\n",
       "        if (!display || display === 'none') {{\n",
       "            console.log([gd, 'removed!']);\n",
       "            Plotly.purge(gd);\n",
       "            observer.disconnect();\n",
       "        }}\n",
       "}});\n",
       "\n",
       "// Listen for the removal of the full notebook cells\n",
       "var notebookContainer = gd.closest('#notebook-container');\n",
       "if (notebookContainer) {{\n",
       "    x.observe(notebookContainer, {childList: true});\n",
       "}}\n",
       "\n",
       "// Listen for the clearing of the current output cell\n",
       "var outputEl = gd.closest('.output');\n",
       "if (outputEl) {{\n",
       "    x.observe(outputEl, {childList: true});\n",
       "}}\n",
       "\n",
       "                        })\n",
       "                };\n",
       "                });\n",
       "            </script>\n",
       "        </div>"
      ]
     },
     "metadata": {},
     "output_type": "display_data"
    }
   ],
   "source": [
    "fig = px.box(\n",
    "    merged_recent, y='T7 + PR772 NR (Composition File)',\n",
    "    x='IC_2', hover_data=['T7 + PR772 NR (Composition File)', 'Accession', 'Sample Name', 'Batch ID', 'Run Date'], points='all',\n",
    "    labels={'T7 + PR772 NR (Composition File)': '(T7 + PR772) NR',\n",
    "            'T7 + PR772 NR (Composition File)': 'T7 + PR772 NR'})\n",
    "fig.update_layout(font=dict(size=18), height=600)\n",
    "fig.show()\n",
    "# fig.write_html('plots/Diluted_Hi_IC_vs_Low_IC.html')"
   ]
  },
  {
   "cell_type": "markdown",
   "metadata": {},
   "source": [
    "### T-test stats in linear space\n",
    "Just to make sure."
   ]
  },
  {
   "cell_type": "code",
   "execution_count": 79,
   "metadata": {},
   "outputs": [
    {
     "name": "stdout",
     "output_type": "stream",
     "text": [
      "P-value for Low-IC vs Diluted High-IC in linear space: 0.32\n"
     ]
    }
   ],
   "source": [
    "low = merged_recent.loc[merged_recent['IC'] == 'Low IC', 'T7 + PR772 NR (Composition File)']\n",
    "hi = merged_recent.loc[merged_recent['IC'] == 'Diluted Hi IC', 'T7 + PR772 NR (Composition File)']\n",
    "_, pval = ttest(low, hi)\n",
    "print(f\"P-value for Low-IC vs Diluted High-IC in linear space: {pval:0.2f}\")"
   ]
  },
  {
   "cell_type": "markdown",
   "metadata": {},
   "source": [
    "### Power analysis"
   ]
  },
  {
   "cell_type": "code",
   "execution_count": 80,
   "metadata": {},
   "outputs": [
    {
     "name": "stdout",
     "output_type": "stream",
     "text": [
      "An effect size of 1408.7956285845064 NR should be discernable with a power of 0.8 and alpha of 0.05\n"
     ]
    }
   ],
   "source": [
    "power = TTestIndPower()\n",
    "effect_size = power.solve_power(nobs1=14, ratio=(36/14), alpha=0.05, power=0.8)\n",
    "print(f\"An effect size of {effect_size * np.std(hi)} NR should be discernable with a power of 0.8 and alpha of 0.05\")"
   ]
  },
  {
   "cell_type": "markdown",
   "metadata": {},
   "source": [
    "### ANOVA"
   ]
  },
  {
   "cell_type": "code",
   "execution_count": 81,
   "metadata": {},
   "outputs": [
    {
     "data": {
      "text/plain": [
       "F_onewayResult(statistic=26.12719615702265, pvalue=2.3479070247961385e-08)"
      ]
     },
     "execution_count": 81,
     "metadata": {},
     "output_type": "execute_result"
    }
   ],
   "source": [
    "low = merged_recent.loc[merged_recent['IC_2'] == 'Low IC', 'T7 + PR772 NR (Composition File)']\n",
    "hi = merged_recent.loc[merged_recent['IC_2'] == 'Diluted Hi IC', 'T7 + PR772 NR (Composition File)']\n",
    "hi_2 = merged_recent.loc[merged_recent['IC_2'] == 'Diluted Hi IC Run 2', 'T7 + PR772 NR (Composition File)']\n",
    "f_oneway(low, hi, hi_2)"
   ]
  },
  {
   "cell_type": "code",
   "execution_count": 82,
   "metadata": {},
   "outputs": [
    {
     "data": {
      "text/plain": [
       "Ttest_indResult(statistic=2.209962970278848, pvalue=0.03487993630585356)"
      ]
     },
     "execution_count": 82,
     "metadata": {},
     "output_type": "execute_result"
    }
   ],
   "source": [
    "ttest(low, hi)"
   ]
  },
  {
   "cell_type": "code",
   "execution_count": 83,
   "metadata": {},
   "outputs": [
    {
     "data": {
      "text/plain": [
       "Ttest_indResult(statistic=-4.407831118485157, pvalue=0.00012320543083974974)"
      ]
     },
     "execution_count": 83,
     "metadata": {},
     "output_type": "execute_result"
    }
   ],
   "source": [
    "ttest(low, hi_2)"
   ]
  },
  {
   "cell_type": "code",
   "execution_count": 84,
   "metadata": {},
   "outputs": [
    {
     "name": "stdout",
     "output_type": "stream",
     "text": [
      "51    6024.460948\n",
      "52    5675.047209\n",
      "53    5403.951341\n",
      "54    5418.615710\n",
      "56    6652.236668\n",
      "57    4842.589013\n",
      "58    5692.139847\n",
      "59    7851.406422\n",
      "45    5236.962858\n",
      "46    6335.327852\n",
      "47    6463.652569\n",
      "48    7750.543808\n",
      "50    6847.422829\n",
      "49    7256.320680\n",
      "Name: T7 + PR772 NR (Composition File), dtype: float64\n"
     ]
    }
   ],
   "source": [
    "print(low)"
   ]
  },
  {
   "cell_type": "code",
   "execution_count": 47,
   "metadata": {},
   "outputs": [
    {
     "data": {
      "application/vnd.plotly.v1+json": {
       "config": {
        "plotlyServerURL": "https://plot.ly"
       },
       "data": [
        {
         "customdata": [
          [
           99264.60795910042,
           "controlneg",
           "2019-11-21"
          ],
          [
           110353.95480036669,
           "controlneg",
           "2019-11-24"
          ],
          [
           113394.30190942615,
           "controlneg",
           "2019-11-26"
          ],
          [
           115592.27838843988,
           "controlneg",
           "2019-11-27"
          ],
          [
           151541.88626024956,
           "controlneg",
           "2019-12-01"
          ],
          [
           119989.69223680561,
           "controlneg",
           "2019-12-04"
          ],
          [
           169023.34782414234,
           "controlneg",
           "2019-12-10"
          ],
          [
           81296.7092805203,
           "controlneg",
           "2019-12-11"
          ],
          [
           6024.460948397478,
           "IDBD-D101029",
           "2019-12-11"
          ],
          [
           5675.047209041326,
           "IDBD-D101030",
           "2019-12-11"
          ],
          [
           5403.951340526646,
           "IDBD-D101031",
           "2019-12-11"
          ],
          [
           5418.6157095621975,
           "IDBD-D101032",
           "2019-12-11"
          ],
          [
           41459.84937098144,
           "controlneg",
           "2019-12-13"
          ],
          [
           6652.236668416355,
           "IDBD-D101074",
           "2019-12-13"
          ],
          [
           4842.589013443285,
           "IDBD-D101075",
           "2019-12-13"
          ],
          [
           5692.139847158353,
           "IDBD-D101076",
           "2019-12-13"
          ],
          [
           7851.406422252066,
           "IDBD-D101077",
           "2019-12-13"
          ],
          [
           5236.962858478826,
           "controlneg",
           "2019-12-20"
          ],
          [
           6335.327851558352,
           "controlneg",
           "2019-12-24"
          ],
          [
           6463.652568748615,
           "controlneg",
           "2019-12-25"
          ],
          [
           7750.54380779208,
           "controlneg",
           "2020-01-17"
          ],
          [
           6847.422828544828,
           "controlneg",
           "2020-01-18"
          ],
          [
           7256.320679560567,
           "controlneg",
           "2020-01-18"
          ],
          [
           4087.081680907999,
           "IDBD-D101325",
           "2020-01-20"
          ],
          [
           4069.388217397553,
           "IDBD-D101326",
           "2020-01-20"
          ],
          [
           4528.987491931303,
           "IDBD-D101327",
           "2020-01-20"
          ],
          [
           3936.474466767371,
           "IDBD-D101328",
           "2020-01-20"
          ],
          [
           4226.835267167544,
           "IDBD-D101329",
           "2020-01-20"
          ],
          [
           6065.263744791783,
           "IDBD-D101330",
           "2020-01-20"
          ],
          [
           6485.633339481331,
           "IDBD-D101331",
           "2020-01-20"
          ],
          [
           5427.159827785494,
           "IDBD-D101332",
           "2020-01-20"
          ],
          [
           5942.472657614007,
           "controlNeg",
           "2020-01-20"
          ],
          [
           5733.678786763884,
           "IDBD-D101333",
           "2020-01-20"
          ],
          [
           5642.290092702827,
           "IDBD-D101334",
           "2020-01-20"
          ],
          [
           6373.47932698333,
           "IDBD-D101335",
           "2020-01-20"
          ],
          [
           5455.027941817089,
           "IDBD-D101336",
           "2020-01-20"
          ],
          [
           5791.7543573630555,
           "IDBD-D101337",
           "2020-01-20"
          ],
          [
           6506.286699523414,
           "IDBD-D101338",
           "2020-01-20"
          ],
          [
           6981.192666955223,
           "IDBD-D101339",
           "2020-01-20"
          ],
          [
           5870.396597770782,
           "IDBD-D101340",
           "2020-01-20"
          ],
          [
           5978.470544211966,
           "controlNeg",
           "2020-01-20"
          ],
          [
           8955.375707983303,
           "IDBD-R101448",
           "2020-01-28"
          ],
          [
           9003.918887940734,
           "IDBD-R101464",
           "2020-01-28"
          ],
          [
           9362.52857927214,
           "IDBD-R101466",
           "2020-01-28"
          ],
          [
           7604.086893581107,
           "IDBD-R101467",
           "2020-01-28"
          ],
          [
           8106.257078223346,
           "IDBD-R101468",
           "2020-01-28"
          ],
          [
           5502.492125596582,
           "IDBD-R101469",
           "2020-01-28"
          ],
          [
           8118.42284235072,
           "IDBD-R101470",
           "2020-01-28"
          ],
          [
           6959.984494211761,
           "IDBD-R101471",
           "2020-01-28"
          ],
          [
           8043.150730288117,
           "controlNeg",
           "2020-01-28"
          ],
          [
           9867.003646005964,
           "IDBD-R101472",
           "2020-01-28"
          ],
          [
           7780.174853996759,
           "IDBD-R101473",
           "2020-01-28"
          ],
          [
           8521.426982757817,
           "IDBD-R101474",
           "2020-01-28"
          ],
          [
           5958.7522959715525,
           "IDBD-R101475",
           "2020-01-28"
          ],
          [
           8639.094481216442,
           "IDBD-R101476",
           "2020-01-28"
          ],
          [
           7911.348099747171,
           "IDBD-R101477",
           "2020-01-28"
          ],
          [
           7762.118240228505,
           "IDBD-R101478",
           "2020-01-28"
          ],
          [
           7303.39768606542,
           "IDBD-R101479",
           "2020-01-28"
          ],
          [
           6740.423053617196,
           "controlNeg",
           "2020-01-28"
          ]
         ],
         "hoverlabel": {
          "namelength": 0
         },
         "hovertemplate": "Batch ID=%{x}<br>log<sub>10</sub>(T7 + PR772) NR=%{y}<br>T7 + PR772 NR=%{customdata[0]}<br>Accession=%{customdata[1]}<br>Run Date=%{customdata[2]}",
         "legendgroup": "",
         "marker": {
          "color": "#636efa",
          "symbol": "circle"
         },
         "mode": "markers",
         "name": "",
         "showlegend": false,
         "type": "scatter",
         "x": [
          "191121B01",
          "191123B01",
          "191126B01",
          "191127B01",
          "191130B01",
          "191203B01",
          "191210B01",
          "191210B02",
          "191210B02",
          "191210B02",
          "191210B02",
          "191210B02",
          "191211B02",
          "191211B02",
          "191211B02",
          "191211B02",
          "191211B02",
          "191220B01",
          "191223B01",
          "191223B04",
          "200114B02",
          "200116B03",
          "200117B01",
          "200119B01",
          "200119B01",
          "200119B01",
          "200119B01",
          "200119B01",
          "200119B01",
          "200119B01",
          "200119B01",
          "200119B01",
          "200119B02",
          "200119B02",
          "200119B02",
          "200119B02",
          "200119B02",
          "200119B02",
          "200119B02",
          "200119B02",
          "200119B02",
          "200127B03",
          "200127B03",
          "200127B03",
          "200127B03",
          "200127B03",
          "200127B03",
          "200127B03",
          "200127B03",
          "200127B03",
          "200128B01",
          "200128B01",
          "200128B01",
          "200128B01",
          "200128B01",
          "200128B01",
          "200128B01",
          "200128B01",
          "200128B01"
         ],
         "xaxis": "x",
         "y": [
          4.996794431699109,
          5.0427879017677215,
          5.054591231704434,
          5.062928824004099,
          5.180532688663176,
          5.079143939406351,
          5.227946699470661,
          4.910072966624383,
          3.7799181935523434,
          3.753969478647692,
          3.732711429795605,
          3.7338883517626065,
          4.617627719912439,
          3.822967691834141,
          3.68507761239413,
          3.7552755614936055,
          3.894947458874375,
          3.719079493814623,
          3.801769094426791,
          3.810478004398575,
          3.8893321753369854,
          3.835527146391352,
          3.8607164673108865,
          3.611413317235241,
          3.609529123284368,
          3.6560011212586434,
          3.5951074388142383,
          3.6260153223607854,
          3.7828496906794666,
          3.8119523925113104,
          3.7345726115745386,
          3.7739671921377567,
          3.7584333591644485,
          3.7514554112098666,
          3.8043765814699584,
          3.7367969794790623,
          3.7628101340758273,
          3.813333196553832,
          3.843929623830897,
          3.768667442713555,
          3.776590093826801,
          3.9520838106742953,
          3.954431573991918,
          3.97139315640058,
          3.8810470710007663,
          3.908820372645673,
          3.7405594297238136,
          3.909471667493365,
          3.842608272069503,
          3.9054262075461335,
          3.994185288680677,
          3.8909893575645733,
          3.9305123270255145,
          3.775155332273481,
          3.936468223680238,
          3.898250493914359,
          3.889980254055589,
          3.863524949574951,
          3.8286871553017283
         ],
         "yaxis": "y"
        }
       ],
       "layout": {
        "autosize": true,
        "font": {
         "size": 18
        },
        "legend": {
         "tracegroupgap": 0
        },
        "margin": {
         "t": 60
        },
        "template": {
         "data": {
          "bar": [
           {
            "error_x": {
             "color": "#2a3f5f"
            },
            "error_y": {
             "color": "#2a3f5f"
            },
            "marker": {
             "line": {
              "color": "#E5ECF6",
              "width": 0.5
             }
            },
            "type": "bar"
           }
          ],
          "barpolar": [
           {
            "marker": {
             "line": {
              "color": "#E5ECF6",
              "width": 0.5
             }
            },
            "type": "barpolar"
           }
          ],
          "carpet": [
           {
            "aaxis": {
             "endlinecolor": "#2a3f5f",
             "gridcolor": "white",
             "linecolor": "white",
             "minorgridcolor": "white",
             "startlinecolor": "#2a3f5f"
            },
            "baxis": {
             "endlinecolor": "#2a3f5f",
             "gridcolor": "white",
             "linecolor": "white",
             "minorgridcolor": "white",
             "startlinecolor": "#2a3f5f"
            },
            "type": "carpet"
           }
          ],
          "choropleth": [
           {
            "colorbar": {
             "outlinewidth": 0,
             "ticks": ""
            },
            "type": "choropleth"
           }
          ],
          "contour": [
           {
            "colorbar": {
             "outlinewidth": 0,
             "ticks": ""
            },
            "colorscale": [
             [
              0,
              "#0d0887"
             ],
             [
              0.1111111111111111,
              "#46039f"
             ],
             [
              0.2222222222222222,
              "#7201a8"
             ],
             [
              0.3333333333333333,
              "#9c179e"
             ],
             [
              0.4444444444444444,
              "#bd3786"
             ],
             [
              0.5555555555555556,
              "#d8576b"
             ],
             [
              0.6666666666666666,
              "#ed7953"
             ],
             [
              0.7777777777777778,
              "#fb9f3a"
             ],
             [
              0.8888888888888888,
              "#fdca26"
             ],
             [
              1,
              "#f0f921"
             ]
            ],
            "type": "contour"
           }
          ],
          "contourcarpet": [
           {
            "colorbar": {
             "outlinewidth": 0,
             "ticks": ""
            },
            "type": "contourcarpet"
           }
          ],
          "heatmap": [
           {
            "colorbar": {
             "outlinewidth": 0,
             "ticks": ""
            },
            "colorscale": [
             [
              0,
              "#0d0887"
             ],
             [
              0.1111111111111111,
              "#46039f"
             ],
             [
              0.2222222222222222,
              "#7201a8"
             ],
             [
              0.3333333333333333,
              "#9c179e"
             ],
             [
              0.4444444444444444,
              "#bd3786"
             ],
             [
              0.5555555555555556,
              "#d8576b"
             ],
             [
              0.6666666666666666,
              "#ed7953"
             ],
             [
              0.7777777777777778,
              "#fb9f3a"
             ],
             [
              0.8888888888888888,
              "#fdca26"
             ],
             [
              1,
              "#f0f921"
             ]
            ],
            "type": "heatmap"
           }
          ],
          "heatmapgl": [
           {
            "colorbar": {
             "outlinewidth": 0,
             "ticks": ""
            },
            "colorscale": [
             [
              0,
              "#0d0887"
             ],
             [
              0.1111111111111111,
              "#46039f"
             ],
             [
              0.2222222222222222,
              "#7201a8"
             ],
             [
              0.3333333333333333,
              "#9c179e"
             ],
             [
              0.4444444444444444,
              "#bd3786"
             ],
             [
              0.5555555555555556,
              "#d8576b"
             ],
             [
              0.6666666666666666,
              "#ed7953"
             ],
             [
              0.7777777777777778,
              "#fb9f3a"
             ],
             [
              0.8888888888888888,
              "#fdca26"
             ],
             [
              1,
              "#f0f921"
             ]
            ],
            "type": "heatmapgl"
           }
          ],
          "histogram": [
           {
            "marker": {
             "colorbar": {
              "outlinewidth": 0,
              "ticks": ""
             }
            },
            "type": "histogram"
           }
          ],
          "histogram2d": [
           {
            "colorbar": {
             "outlinewidth": 0,
             "ticks": ""
            },
            "colorscale": [
             [
              0,
              "#0d0887"
             ],
             [
              0.1111111111111111,
              "#46039f"
             ],
             [
              0.2222222222222222,
              "#7201a8"
             ],
             [
              0.3333333333333333,
              "#9c179e"
             ],
             [
              0.4444444444444444,
              "#bd3786"
             ],
             [
              0.5555555555555556,
              "#d8576b"
             ],
             [
              0.6666666666666666,
              "#ed7953"
             ],
             [
              0.7777777777777778,
              "#fb9f3a"
             ],
             [
              0.8888888888888888,
              "#fdca26"
             ],
             [
              1,
              "#f0f921"
             ]
            ],
            "type": "histogram2d"
           }
          ],
          "histogram2dcontour": [
           {
            "colorbar": {
             "outlinewidth": 0,
             "ticks": ""
            },
            "colorscale": [
             [
              0,
              "#0d0887"
             ],
             [
              0.1111111111111111,
              "#46039f"
             ],
             [
              0.2222222222222222,
              "#7201a8"
             ],
             [
              0.3333333333333333,
              "#9c179e"
             ],
             [
              0.4444444444444444,
              "#bd3786"
             ],
             [
              0.5555555555555556,
              "#d8576b"
             ],
             [
              0.6666666666666666,
              "#ed7953"
             ],
             [
              0.7777777777777778,
              "#fb9f3a"
             ],
             [
              0.8888888888888888,
              "#fdca26"
             ],
             [
              1,
              "#f0f921"
             ]
            ],
            "type": "histogram2dcontour"
           }
          ],
          "mesh3d": [
           {
            "colorbar": {
             "outlinewidth": 0,
             "ticks": ""
            },
            "type": "mesh3d"
           }
          ],
          "parcoords": [
           {
            "line": {
             "colorbar": {
              "outlinewidth": 0,
              "ticks": ""
             }
            },
            "type": "parcoords"
           }
          ],
          "pie": [
           {
            "automargin": true,
            "type": "pie"
           }
          ],
          "scatter": [
           {
            "marker": {
             "colorbar": {
              "outlinewidth": 0,
              "ticks": ""
             }
            },
            "type": "scatter"
           }
          ],
          "scatter3d": [
           {
            "line": {
             "colorbar": {
              "outlinewidth": 0,
              "ticks": ""
             }
            },
            "marker": {
             "colorbar": {
              "outlinewidth": 0,
              "ticks": ""
             }
            },
            "type": "scatter3d"
           }
          ],
          "scattercarpet": [
           {
            "marker": {
             "colorbar": {
              "outlinewidth": 0,
              "ticks": ""
             }
            },
            "type": "scattercarpet"
           }
          ],
          "scattergeo": [
           {
            "marker": {
             "colorbar": {
              "outlinewidth": 0,
              "ticks": ""
             }
            },
            "type": "scattergeo"
           }
          ],
          "scattergl": [
           {
            "marker": {
             "colorbar": {
              "outlinewidth": 0,
              "ticks": ""
             }
            },
            "type": "scattergl"
           }
          ],
          "scattermapbox": [
           {
            "marker": {
             "colorbar": {
              "outlinewidth": 0,
              "ticks": ""
             }
            },
            "type": "scattermapbox"
           }
          ],
          "scatterpolar": [
           {
            "marker": {
             "colorbar": {
              "outlinewidth": 0,
              "ticks": ""
             }
            },
            "type": "scatterpolar"
           }
          ],
          "scatterpolargl": [
           {
            "marker": {
             "colorbar": {
              "outlinewidth": 0,
              "ticks": ""
             }
            },
            "type": "scatterpolargl"
           }
          ],
          "scatterternary": [
           {
            "marker": {
             "colorbar": {
              "outlinewidth": 0,
              "ticks": ""
             }
            },
            "type": "scatterternary"
           }
          ],
          "surface": [
           {
            "colorbar": {
             "outlinewidth": 0,
             "ticks": ""
            },
            "colorscale": [
             [
              0,
              "#0d0887"
             ],
             [
              0.1111111111111111,
              "#46039f"
             ],
             [
              0.2222222222222222,
              "#7201a8"
             ],
             [
              0.3333333333333333,
              "#9c179e"
             ],
             [
              0.4444444444444444,
              "#bd3786"
             ],
             [
              0.5555555555555556,
              "#d8576b"
             ],
             [
              0.6666666666666666,
              "#ed7953"
             ],
             [
              0.7777777777777778,
              "#fb9f3a"
             ],
             [
              0.8888888888888888,
              "#fdca26"
             ],
             [
              1,
              "#f0f921"
             ]
            ],
            "type": "surface"
           }
          ],
          "table": [
           {
            "cells": {
             "fill": {
              "color": "#EBF0F8"
             },
             "line": {
              "color": "white"
             }
            },
            "header": {
             "fill": {
              "color": "#C8D4E3"
             },
             "line": {
              "color": "white"
             }
            },
            "type": "table"
           }
          ]
         },
         "layout": {
          "annotationdefaults": {
           "arrowcolor": "#2a3f5f",
           "arrowhead": 0,
           "arrowwidth": 1
          },
          "coloraxis": {
           "colorbar": {
            "outlinewidth": 0,
            "ticks": ""
           }
          },
          "colorscale": {
           "diverging": [
            [
             0,
             "#8e0152"
            ],
            [
             0.1,
             "#c51b7d"
            ],
            [
             0.2,
             "#de77ae"
            ],
            [
             0.3,
             "#f1b6da"
            ],
            [
             0.4,
             "#fde0ef"
            ],
            [
             0.5,
             "#f7f7f7"
            ],
            [
             0.6,
             "#e6f5d0"
            ],
            [
             0.7,
             "#b8e186"
            ],
            [
             0.8,
             "#7fbc41"
            ],
            [
             0.9,
             "#4d9221"
            ],
            [
             1,
             "#276419"
            ]
           ],
           "sequential": [
            [
             0,
             "#0d0887"
            ],
            [
             0.1111111111111111,
             "#46039f"
            ],
            [
             0.2222222222222222,
             "#7201a8"
            ],
            [
             0.3333333333333333,
             "#9c179e"
            ],
            [
             0.4444444444444444,
             "#bd3786"
            ],
            [
             0.5555555555555556,
             "#d8576b"
            ],
            [
             0.6666666666666666,
             "#ed7953"
            ],
            [
             0.7777777777777778,
             "#fb9f3a"
            ],
            [
             0.8888888888888888,
             "#fdca26"
            ],
            [
             1,
             "#f0f921"
            ]
           ],
           "sequentialminus": [
            [
             0,
             "#0d0887"
            ],
            [
             0.1111111111111111,
             "#46039f"
            ],
            [
             0.2222222222222222,
             "#7201a8"
            ],
            [
             0.3333333333333333,
             "#9c179e"
            ],
            [
             0.4444444444444444,
             "#bd3786"
            ],
            [
             0.5555555555555556,
             "#d8576b"
            ],
            [
             0.6666666666666666,
             "#ed7953"
            ],
            [
             0.7777777777777778,
             "#fb9f3a"
            ],
            [
             0.8888888888888888,
             "#fdca26"
            ],
            [
             1,
             "#f0f921"
            ]
           ]
          },
          "colorway": [
           "#636efa",
           "#EF553B",
           "#00cc96",
           "#ab63fa",
           "#FFA15A",
           "#19d3f3",
           "#FF6692",
           "#B6E880",
           "#FF97FF",
           "#FECB52"
          ],
          "font": {
           "color": "#2a3f5f"
          },
          "geo": {
           "bgcolor": "white",
           "lakecolor": "white",
           "landcolor": "#E5ECF6",
           "showlakes": true,
           "showland": true,
           "subunitcolor": "white"
          },
          "hoverlabel": {
           "align": "left"
          },
          "hovermode": "closest",
          "mapbox": {
           "style": "light"
          },
          "paper_bgcolor": "white",
          "plot_bgcolor": "#E5ECF6",
          "polar": {
           "angularaxis": {
            "gridcolor": "white",
            "linecolor": "white",
            "ticks": ""
           },
           "bgcolor": "#E5ECF6",
           "radialaxis": {
            "gridcolor": "white",
            "linecolor": "white",
            "ticks": ""
           }
          },
          "scene": {
           "xaxis": {
            "backgroundcolor": "#E5ECF6",
            "gridcolor": "white",
            "gridwidth": 2,
            "linecolor": "white",
            "showbackground": true,
            "ticks": "",
            "zerolinecolor": "white"
           },
           "yaxis": {
            "backgroundcolor": "#E5ECF6",
            "gridcolor": "white",
            "gridwidth": 2,
            "linecolor": "white",
            "showbackground": true,
            "ticks": "",
            "zerolinecolor": "white"
           },
           "zaxis": {
            "backgroundcolor": "#E5ECF6",
            "gridcolor": "white",
            "gridwidth": 2,
            "linecolor": "white",
            "showbackground": true,
            "ticks": "",
            "zerolinecolor": "white"
           }
          },
          "shapedefaults": {
           "line": {
            "color": "#2a3f5f"
           }
          },
          "ternary": {
           "aaxis": {
            "gridcolor": "white",
            "linecolor": "white",
            "ticks": ""
           },
           "baxis": {
            "gridcolor": "white",
            "linecolor": "white",
            "ticks": ""
           },
           "bgcolor": "#E5ECF6",
           "caxis": {
            "gridcolor": "white",
            "linecolor": "white",
            "ticks": ""
           }
          },
          "title": {
           "x": 0.05
          },
          "xaxis": {
           "automargin": true,
           "gridcolor": "white",
           "linecolor": "white",
           "ticks": "",
           "title": {
            "standoff": 15
           },
           "zerolinecolor": "white",
           "zerolinewidth": 2
          },
          "yaxis": {
           "automargin": true,
           "gridcolor": "white",
           "linecolor": "white",
           "ticks": "",
           "title": {
            "standoff": 15
           },
           "zerolinecolor": "white",
           "zerolinewidth": 2
          }
         }
        },
        "xaxis": {
         "anchor": "y",
         "autorange": true,
         "domain": [
          0,
          1
         ],
         "range": [
          -1.0841184387617768,
          19.084118438761777
         ],
         "title": {
          "text": "Batch ID"
         },
         "type": "category"
        },
        "yaxis": {
         "anchor": "x",
         "autorange": true,
         "domain": [
          0,
          1
         ],
         "range": [
          3.486381181452552,
          5.336672956832348
         ],
         "title": {
          "text": "log<sub>10</sub>(T7 + PR772) NR"
         },
         "type": "linear"
        }
       }
      },
      "image/png": "[encoded data removed]",
      "text/html": [
       "<div>\n",
       "        \n",
       "        \n",
       "            <div id=\"f4df103b-bbb8-4c4f-922a-27dfc9a9a95b\" class=\"plotly-graph-div\" style=\"height:600px; width:100%;\"></div>\n",
       "            <script type=\"text/javascript\">\n",
       "                require([\"plotly\"], function(Plotly) {\n",
       "                    window.PLOTLYENV=window.PLOTLYENV || {};\n",
       "                    \n",
       "                if (document.getElementById(\"f4df103b-bbb8-4c4f-922a-27dfc9a9a95b\")) {\n",
       "                    Plotly.newPlot(\n",
       "                        'f4df103b-bbb8-4c4f-922a-27dfc9a9a95b',\n",
       "                        [{\"customdata\": [[99264.60795910042, \"controlneg\", \"2019-11-21\"], [110353.95480036669, \"controlneg\", \"2019-11-24\"], [113394.30190942615, \"controlneg\", \"2019-11-26\"], [115592.27838843988, \"controlneg\", \"2019-11-27\"], [151541.88626024956, \"controlneg\", \"2019-12-01\"], [119989.69223680561, \"controlneg\", \"2019-12-04\"], [169023.34782414234, \"controlneg\", \"2019-12-10\"], [81296.7092805203, \"controlneg\", \"2019-12-11\"], [6024.460948397478, \"IDBD-D101029\", \"2019-12-11\"], [5675.047209041326, \"IDBD-D101030\", \"2019-12-11\"], [5403.951340526646, \"IDBD-D101031\", \"2019-12-11\"], [5418.6157095621975, \"IDBD-D101032\", \"2019-12-11\"], [41459.84937098144, \"controlneg\", \"2019-12-13\"], [6652.236668416355, \"IDBD-D101074\", \"2019-12-13\"], [4842.589013443285, \"IDBD-D101075\", \"2019-12-13\"], [5692.139847158353, \"IDBD-D101076\", \"2019-12-13\"], [7851.406422252066, \"IDBD-D101077\", \"2019-12-13\"], [5236.962858478826, \"controlneg\", \"2019-12-20\"], [6335.327851558352, \"controlneg\", \"2019-12-24\"], [6463.652568748615, \"controlneg\", \"2019-12-25\"], [7750.54380779208, \"controlneg\", \"2020-01-17\"], [6847.422828544828, \"controlneg\", \"2020-01-18\"], [7256.320679560567, \"controlneg\", \"2020-01-18\"], [4087.081680907999, \"IDBD-D101325\", \"2020-01-20\"], [4069.388217397553, \"IDBD-D101326\", \"2020-01-20\"], [4528.987491931303, \"IDBD-D101327\", \"2020-01-20\"], [3936.474466767371, \"IDBD-D101328\", \"2020-01-20\"], [4226.835267167544, \"IDBD-D101329\", \"2020-01-20\"], [6065.263744791783, \"IDBD-D101330\", \"2020-01-20\"], [6485.633339481331, \"IDBD-D101331\", \"2020-01-20\"], [5427.159827785494, \"IDBD-D101332\", \"2020-01-20\"], [5942.472657614007, \"controlNeg\", \"2020-01-20\"], [5733.678786763884, \"IDBD-D101333\", \"2020-01-20\"], [5642.290092702827, \"IDBD-D101334\", \"2020-01-20\"], [6373.47932698333, \"IDBD-D101335\", \"2020-01-20\"], [5455.027941817089, \"IDBD-D101336\", \"2020-01-20\"], [5791.7543573630555, \"IDBD-D101337\", \"2020-01-20\"], [6506.286699523414, \"IDBD-D101338\", \"2020-01-20\"], [6981.192666955223, \"IDBD-D101339\", \"2020-01-20\"], [5870.396597770782, \"IDBD-D101340\", \"2020-01-20\"], [5978.470544211966, \"controlNeg\", \"2020-01-20\"], [8955.375707983303, \"IDBD-R101448\", \"2020-01-28\"], [9003.918887940734, \"IDBD-R101464\", \"2020-01-28\"], [9362.52857927214, \"IDBD-R101466\", \"2020-01-28\"], [7604.086893581107, \"IDBD-R101467\", \"2020-01-28\"], [8106.257078223346, \"IDBD-R101468\", \"2020-01-28\"], [5502.492125596582, \"IDBD-R101469\", \"2020-01-28\"], [8118.42284235072, \"IDBD-R101470\", \"2020-01-28\"], [6959.984494211761, \"IDBD-R101471\", \"2020-01-28\"], [8043.150730288117, \"controlNeg\", \"2020-01-28\"], [9867.003646005964, \"IDBD-R101472\", \"2020-01-28\"], [7780.174853996759, \"IDBD-R101473\", \"2020-01-28\"], [8521.426982757817, \"IDBD-R101474\", \"2020-01-28\"], [5958.7522959715525, \"IDBD-R101475\", \"2020-01-28\"], [8639.094481216442, \"IDBD-R101476\", \"2020-01-28\"], [7911.348099747171, \"IDBD-R101477\", \"2020-01-28\"], [7762.118240228505, \"IDBD-R101478\", \"2020-01-28\"], [7303.39768606542, \"IDBD-R101479\", \"2020-01-28\"], [6740.423053617196, \"controlNeg\", \"2020-01-28\"]], \"hoverlabel\": {\"namelength\": 0}, \"hovertemplate\": \"Batch ID=%{x}<br>log<sub>10</sub>(T7 + PR772) NR=%{y}<br>T7 + PR772 NR=%{customdata[0]}<br>Accession=%{customdata[1]}<br>Run Date=%{customdata[2]}\", \"legendgroup\": \"\", \"marker\": {\"color\": \"#636efa\", \"symbol\": \"circle\"}, \"mode\": \"markers\", \"name\": \"\", \"showlegend\": false, \"type\": \"scatter\", \"x\": [\"191121B01\", \"191123B01\", \"191126B01\", \"191127B01\", \"191130B01\", \"191203B01\", \"191210B01\", \"191210B02\", \"191210B02\", \"191210B02\", \"191210B02\", \"191210B02\", \"191211B02\", \"191211B02\", \"191211B02\", \"191211B02\", \"191211B02\", \"191220B01\", \"191223B01\", \"191223B04\", \"200114B02\", \"200116B03\", \"200117B01\", \"200119B01\", \"200119B01\", \"200119B01\", \"200119B01\", \"200119B01\", \"200119B01\", \"200119B01\", \"200119B01\", \"200119B01\", \"200119B02\", \"200119B02\", \"200119B02\", \"200119B02\", \"200119B02\", \"200119B02\", \"200119B02\", \"200119B02\", \"200119B02\", \"200127B03\", \"200127B03\", \"200127B03\", \"200127B03\", \"200127B03\", \"200127B03\", \"200127B03\", \"200127B03\", \"200127B03\", \"200128B01\", \"200128B01\", \"200128B01\", \"200128B01\", \"200128B01\", \"200128B01\", \"200128B01\", \"200128B01\", \"200128B01\"], \"xaxis\": \"x\", \"y\": [4.996794431699109, 5.0427879017677215, 5.054591231704434, 5.062928824004099, 5.180532688663176, 5.079143939406351, 5.227946699470661, 4.910072966624383, 3.7799181935523434, 3.753969478647692, 3.732711429795605, 3.7338883517626065, 4.617627719912439, 3.822967691834141, 3.68507761239413, 3.7552755614936055, 3.894947458874375, 3.719079493814623, 3.801769094426791, 3.810478004398575, 3.8893321753369854, 3.835527146391352, 3.8607164673108865, 3.611413317235241, 3.609529123284368, 3.6560011212586434, 3.5951074388142383, 3.6260153223607854, 3.7828496906794666, 3.8119523925113104, 3.7345726115745386, 3.7739671921377567, 3.7584333591644485, 3.7514554112098666, 3.8043765814699584, 3.7367969794790623, 3.7628101340758273, 3.813333196553832, 3.843929623830897, 3.768667442713555, 3.776590093826801, 3.9520838106742953, 3.954431573991918, 3.97139315640058, 3.8810470710007663, 3.908820372645673, 3.7405594297238136, 3.909471667493365, 3.842608272069503, 3.9054262075461335, 3.994185288680677, 3.8909893575645733, 3.9305123270255145, 3.775155332273481, 3.936468223680238, 3.898250493914359, 3.889980254055589, 3.863524949574951, 3.8286871553017283], \"yaxis\": \"y\"}],\n",
       "                        {\"font\": {\"size\": 18}, \"height\": 600, \"legend\": {\"tracegroupgap\": 0}, \"margin\": {\"t\": 60}, \"template\": {\"data\": {\"bar\": [{\"error_x\": {\"color\": \"#2a3f5f\"}, \"error_y\": {\"color\": \"#2a3f5f\"}, \"marker\": {\"line\": {\"color\": \"#E5ECF6\", \"width\": 0.5}}, \"type\": \"bar\"}], \"barpolar\": [{\"marker\": {\"line\": {\"color\": \"#E5ECF6\", \"width\": 0.5}}, \"type\": \"barpolar\"}], \"carpet\": [{\"aaxis\": {\"endlinecolor\": \"#2a3f5f\", \"gridcolor\": \"white\", \"linecolor\": \"white\", \"minorgridcolor\": \"white\", \"startlinecolor\": \"#2a3f5f\"}, \"baxis\": {\"endlinecolor\": \"#2a3f5f\", \"gridcolor\": \"white\", \"linecolor\": \"white\", \"minorgridcolor\": \"white\", \"startlinecolor\": \"#2a3f5f\"}, \"type\": \"carpet\"}], \"choropleth\": [{\"colorbar\": {\"outlinewidth\": 0, \"ticks\": \"\"}, \"type\": \"choropleth\"}], \"contour\": [{\"colorbar\": {\"outlinewidth\": 0, \"ticks\": \"\"}, \"colorscale\": [[0.0, \"#0d0887\"], [0.1111111111111111, \"#46039f\"], [0.2222222222222222, \"#7201a8\"], [0.3333333333333333, \"#9c179e\"], [0.4444444444444444, \"#bd3786\"], [0.5555555555555556, \"#d8576b\"], [0.6666666666666666, \"#ed7953\"], [0.7777777777777778, \"#fb9f3a\"], [0.8888888888888888, \"#fdca26\"], [1.0, \"#f0f921\"]], \"type\": \"contour\"}], \"contourcarpet\": [{\"colorbar\": {\"outlinewidth\": 0, \"ticks\": \"\"}, \"type\": \"contourcarpet\"}], \"heatmap\": [{\"colorbar\": {\"outlinewidth\": 0, \"ticks\": \"\"}, \"colorscale\": [[0.0, \"#0d0887\"], [0.1111111111111111, \"#46039f\"], [0.2222222222222222, \"#7201a8\"], [0.3333333333333333, \"#9c179e\"], [0.4444444444444444, \"#bd3786\"], [0.5555555555555556, \"#d8576b\"], [0.6666666666666666, \"#ed7953\"], [0.7777777777777778, \"#fb9f3a\"], [0.8888888888888888, \"#fdca26\"], [1.0, \"#f0f921\"]], \"type\": \"heatmap\"}], \"heatmapgl\": [{\"colorbar\": {\"outlinewidth\": 0, \"ticks\": \"\"}, \"colorscale\": [[0.0, \"#0d0887\"], [0.1111111111111111, \"#46039f\"], [0.2222222222222222, \"#7201a8\"], [0.3333333333333333, \"#9c179e\"], [0.4444444444444444, \"#bd3786\"], [0.5555555555555556, \"#d8576b\"], [0.6666666666666666, \"#ed7953\"], [0.7777777777777778, \"#fb9f3a\"], [0.8888888888888888, \"#fdca26\"], [1.0, \"#f0f921\"]], \"type\": \"heatmapgl\"}], \"histogram\": [{\"marker\": {\"colorbar\": {\"outlinewidth\": 0, \"ticks\": \"\"}}, \"type\": \"histogram\"}], \"histogram2d\": [{\"colorbar\": {\"outlinewidth\": 0, \"ticks\": \"\"}, \"colorscale\": [[0.0, \"#0d0887\"], [0.1111111111111111, \"#46039f\"], [0.2222222222222222, \"#7201a8\"], [0.3333333333333333, \"#9c179e\"], [0.4444444444444444, \"#bd3786\"], [0.5555555555555556, \"#d8576b\"], [0.6666666666666666, \"#ed7953\"], [0.7777777777777778, \"#fb9f3a\"], [0.8888888888888888, \"#fdca26\"], [1.0, \"#f0f921\"]], \"type\": \"histogram2d\"}], \"histogram2dcontour\": [{\"colorbar\": {\"outlinewidth\": 0, \"ticks\": \"\"}, \"colorscale\": [[0.0, \"#0d0887\"], [0.1111111111111111, \"#46039f\"], [0.2222222222222222, \"#7201a8\"], [0.3333333333333333, \"#9c179e\"], [0.4444444444444444, \"#bd3786\"], [0.5555555555555556, \"#d8576b\"], [0.6666666666666666, \"#ed7953\"], [0.7777777777777778, \"#fb9f3a\"], [0.8888888888888888, \"#fdca26\"], [1.0, \"#f0f921\"]], \"type\": \"histogram2dcontour\"}], \"mesh3d\": [{\"colorbar\": {\"outlinewidth\": 0, \"ticks\": \"\"}, \"type\": \"mesh3d\"}], \"parcoords\": [{\"line\": {\"colorbar\": {\"outlinewidth\": 0, \"ticks\": \"\"}}, \"type\": \"parcoords\"}], \"pie\": [{\"automargin\": true, \"type\": \"pie\"}], \"scatter\": [{\"marker\": {\"colorbar\": {\"outlinewidth\": 0, \"ticks\": \"\"}}, \"type\": \"scatter\"}], \"scatter3d\": [{\"line\": {\"colorbar\": {\"outlinewidth\": 0, \"ticks\": \"\"}}, \"marker\": {\"colorbar\": {\"outlinewidth\": 0, \"ticks\": \"\"}}, \"type\": \"scatter3d\"}], \"scattercarpet\": [{\"marker\": {\"colorbar\": {\"outlinewidth\": 0, \"ticks\": \"\"}}, \"type\": \"scattercarpet\"}], \"scattergeo\": [{\"marker\": {\"colorbar\": {\"outlinewidth\": 0, \"ticks\": \"\"}}, \"type\": \"scattergeo\"}], \"scattergl\": [{\"marker\": {\"colorbar\": {\"outlinewidth\": 0, \"ticks\": \"\"}}, \"type\": \"scattergl\"}], \"scattermapbox\": [{\"marker\": {\"colorbar\": {\"outlinewidth\": 0, \"ticks\": \"\"}}, \"type\": \"scattermapbox\"}], \"scatterpolar\": [{\"marker\": {\"colorbar\": {\"outlinewidth\": 0, \"ticks\": \"\"}}, \"type\": \"scatterpolar\"}], \"scatterpolargl\": [{\"marker\": {\"colorbar\": {\"outlinewidth\": 0, \"ticks\": \"\"}}, \"type\": \"scatterpolargl\"}], \"scatterternary\": [{\"marker\": {\"colorbar\": {\"outlinewidth\": 0, \"ticks\": \"\"}}, \"type\": \"scatterternary\"}], \"surface\": [{\"colorbar\": {\"outlinewidth\": 0, \"ticks\": \"\"}, \"colorscale\": [[0.0, \"#0d0887\"], [0.1111111111111111, \"#46039f\"], [0.2222222222222222, \"#7201a8\"], [0.3333333333333333, \"#9c179e\"], [0.4444444444444444, \"#bd3786\"], [0.5555555555555556, \"#d8576b\"], [0.6666666666666666, \"#ed7953\"], [0.7777777777777778, \"#fb9f3a\"], [0.8888888888888888, \"#fdca26\"], [1.0, \"#f0f921\"]], \"type\": \"surface\"}], \"table\": [{\"cells\": {\"fill\": {\"color\": \"#EBF0F8\"}, \"line\": {\"color\": \"white\"}}, \"header\": {\"fill\": {\"color\": \"#C8D4E3\"}, \"line\": {\"color\": \"white\"}}, \"type\": \"table\"}]}, \"layout\": {\"annotationdefaults\": {\"arrowcolor\": \"#2a3f5f\", \"arrowhead\": 0, \"arrowwidth\": 1}, \"coloraxis\": {\"colorbar\": {\"outlinewidth\": 0, \"ticks\": \"\"}}, \"colorscale\": {\"diverging\": [[0, \"#8e0152\"], [0.1, \"#c51b7d\"], [0.2, \"#de77ae\"], [0.3, \"#f1b6da\"], [0.4, \"#fde0ef\"], [0.5, \"#f7f7f7\"], [0.6, \"#e6f5d0\"], [0.7, \"#b8e186\"], [0.8, \"#7fbc41\"], [0.9, \"#4d9221\"], [1, \"#276419\"]], \"sequential\": [[0.0, \"#0d0887\"], [0.1111111111111111, \"#46039f\"], [0.2222222222222222, \"#7201a8\"], [0.3333333333333333, \"#9c179e\"], [0.4444444444444444, \"#bd3786\"], [0.5555555555555556, \"#d8576b\"], [0.6666666666666666, \"#ed7953\"], [0.7777777777777778, \"#fb9f3a\"], [0.8888888888888888, \"#fdca26\"], [1.0, \"#f0f921\"]], \"sequentialminus\": [[0.0, \"#0d0887\"], [0.1111111111111111, \"#46039f\"], [0.2222222222222222, \"#7201a8\"], [0.3333333333333333, \"#9c179e\"], [0.4444444444444444, \"#bd3786\"], [0.5555555555555556, \"#d8576b\"], [0.6666666666666666, \"#ed7953\"], [0.7777777777777778, \"#fb9f3a\"], [0.8888888888888888, \"#fdca26\"], [1.0, \"#f0f921\"]]}, \"colorway\": [\"#636efa\", \"#EF553B\", \"#00cc96\", \"#ab63fa\", \"#FFA15A\", \"#19d3f3\", \"#FF6692\", \"#B6E880\", \"#FF97FF\", \"#FECB52\"], \"font\": {\"color\": \"#2a3f5f\"}, \"geo\": {\"bgcolor\": \"white\", \"lakecolor\": \"white\", \"landcolor\": \"#E5ECF6\", \"showlakes\": true, \"showland\": true, \"subunitcolor\": \"white\"}, \"hoverlabel\": {\"align\": \"left\"}, \"hovermode\": \"closest\", \"mapbox\": {\"style\": \"light\"}, \"paper_bgcolor\": \"white\", \"plot_bgcolor\": \"#E5ECF6\", \"polar\": {\"angularaxis\": {\"gridcolor\": \"white\", \"linecolor\": \"white\", \"ticks\": \"\"}, \"bgcolor\": \"#E5ECF6\", \"radialaxis\": {\"gridcolor\": \"white\", \"linecolor\": \"white\", \"ticks\": \"\"}}, \"scene\": {\"xaxis\": {\"backgroundcolor\": \"#E5ECF6\", \"gridcolor\": \"white\", \"gridwidth\": 2, \"linecolor\": \"white\", \"showbackground\": true, \"ticks\": \"\", \"zerolinecolor\": \"white\"}, \"yaxis\": {\"backgroundcolor\": \"#E5ECF6\", \"gridcolor\": \"white\", \"gridwidth\": 2, \"linecolor\": \"white\", \"showbackground\": true, \"ticks\": \"\", \"zerolinecolor\": \"white\"}, \"zaxis\": {\"backgroundcolor\": \"#E5ECF6\", \"gridcolor\": \"white\", \"gridwidth\": 2, \"linecolor\": \"white\", \"showbackground\": true, \"ticks\": \"\", \"zerolinecolor\": \"white\"}}, \"shapedefaults\": {\"line\": {\"color\": \"#2a3f5f\"}}, \"ternary\": {\"aaxis\": {\"gridcolor\": \"white\", \"linecolor\": \"white\", \"ticks\": \"\"}, \"baxis\": {\"gridcolor\": \"white\", \"linecolor\": \"white\", \"ticks\": \"\"}, \"bgcolor\": \"#E5ECF6\", \"caxis\": {\"gridcolor\": \"white\", \"linecolor\": \"white\", \"ticks\": \"\"}}, \"title\": {\"x\": 0.05}, \"xaxis\": {\"automargin\": true, \"gridcolor\": \"white\", \"linecolor\": \"white\", \"ticks\": \"\", \"title\": {\"standoff\": 15}, \"zerolinecolor\": \"white\", \"zerolinewidth\": 2}, \"yaxis\": {\"automargin\": true, \"gridcolor\": \"white\", \"linecolor\": \"white\", \"ticks\": \"\", \"title\": {\"standoff\": 15}, \"zerolinecolor\": \"white\", \"zerolinewidth\": 2}}}, \"xaxis\": {\"anchor\": \"y\", \"domain\": [0.0, 1.0], \"title\": {\"text\": \"Batch ID\"}}, \"yaxis\": {\"anchor\": \"x\", \"domain\": [0.0, 1.0], \"title\": {\"text\": \"log<sub>10</sub>(T7 + PR772) NR\"}}},\n",
       "                        {\"responsive\": true}\n",
       "                    ).then(function(){\n",
       "                            \n",
       "var gd = document.getElementById('f4df103b-bbb8-4c4f-922a-27dfc9a9a95b');\n",
       "var x = new MutationObserver(function (mutations, observer) {{\n",
       "        var display = window.getComputedStyle(gd).display;\n",
       "        if (!display || display === 'none') {{\n",
       "            console.log([gd, 'removed!']);\n",
       "            Plotly.purge(gd);\n",
       "            observer.disconnect();\n",
       "        }}\n",
       "}});\n",
       "\n",
       "// Listen for the removal of the full notebook cells\n",
       "var notebookContainer = gd.closest('#notebook-container');\n",
       "if (notebookContainer) {{\n",
       "    x.observe(notebookContainer, {childList: true});\n",
       "}}\n",
       "\n",
       "// Listen for the clearing of the current output cell\n",
       "var outputEl = gd.closest('.output');\n",
       "if (outputEl) {{\n",
       "    x.observe(outputEl, {childList: true});\n",
       "}}\n",
       "\n",
       "                        })\n",
       "                };\n",
       "                });\n",
       "            </script>\n",
       "        </div>"
      ]
     },
     "metadata": {},
     "output_type": "display_data"
    }
   ],
   "source": [
    "fig = px.scatter(\n",
    "    merged_with_new_neg, y='Log10 T7 + PR772 NR (Composition File)',\n",
    "    x='Batch ID',\n",
    "    labels={'Log10 T7 + PR772 NR (Composition File)': 'log<sub>10</sub>(T7 + PR772) NR',\n",
    "            'T7 + PR772 NR (Composition File)': 'T7 + PR772 NR'},\n",
    "    hover_data=['T7 + PR772 NR (Composition File)', 'Accession', 'Run Date']\n",
    ")\n",
    "fig.update_layout(font=dict(size=18), height=600)\n",
    "fig.show()\n",
    "fig.write_html('plots/Diluted_Hi_IC_vs_Low_IC_by_batch.html')"
   ]
  },
  {
   "cell_type": "code",
   "execution_count": 82,
   "metadata": {},
   "outputs": [
    {
     "data": {
      "application/vnd.plotly.v1+json": {
       "config": {
        "plotlyServerURL": "https://plot.ly"
       },
       "data": [
        {
         "customdata": [
          [
           99264.60795910042,
           "controlneg",
           "2019-11-21"
          ],
          [
           110353.95480036669,
           "controlneg",
           "2019-11-24"
          ],
          [
           113394.30190942615,
           "controlneg",
           "2019-11-26"
          ],
          [
           115592.27838843988,
           "controlneg",
           "2019-11-27"
          ],
          [
           151541.88626024956,
           "controlneg",
           "2019-12-01"
          ],
          [
           119989.69223680561,
           "controlneg",
           "2019-12-04"
          ],
          [
           169023.34782414234,
           "controlneg",
           "2019-12-10"
          ],
          [
           81296.7092805203,
           "controlneg",
           "2019-12-11"
          ],
          [
           6024.460948397478,
           "IDBD-D101029",
           "2019-12-11"
          ],
          [
           5675.047209041326,
           "IDBD-D101030",
           "2019-12-11"
          ],
          [
           5403.951340526646,
           "IDBD-D101031",
           "2019-12-11"
          ],
          [
           5418.6157095621975,
           "IDBD-D101032",
           "2019-12-11"
          ],
          [
           41459.84937098144,
           "controlneg",
           "2019-12-13"
          ],
          [
           6652.236668416355,
           "IDBD-D101074",
           "2019-12-13"
          ],
          [
           4842.589013443285,
           "IDBD-D101075",
           "2019-12-13"
          ],
          [
           5692.139847158353,
           "IDBD-D101076",
           "2019-12-13"
          ],
          [
           7851.406422252066,
           "IDBD-D101077",
           "2019-12-13"
          ],
          [
           5236.962858478826,
           "controlneg",
           "2019-12-20"
          ],
          [
           6335.327851558352,
           "controlneg",
           "2019-12-24"
          ],
          [
           6463.652568748615,
           "controlneg",
           "2019-12-25"
          ],
          [
           7750.54380779208,
           "controlneg",
           "2020-01-17"
          ],
          [
           6847.422828544828,
           "controlneg",
           "2020-01-18"
          ],
          [
           7256.320679560567,
           "controlneg",
           "2020-01-18"
          ],
          [
           4087.081680907999,
           "IDBD-D101325",
           "2020-01-20"
          ],
          [
           4069.388217397553,
           "IDBD-D101326",
           "2020-01-20"
          ],
          [
           4528.987491931303,
           "IDBD-D101327",
           "2020-01-20"
          ],
          [
           3936.474466767371,
           "IDBD-D101328",
           "2020-01-20"
          ],
          [
           4226.835267167544,
           "IDBD-D101329",
           "2020-01-20"
          ],
          [
           6065.263744791783,
           "IDBD-D101330",
           "2020-01-20"
          ],
          [
           6485.633339481331,
           "IDBD-D101331",
           "2020-01-20"
          ],
          [
           5427.159827785494,
           "IDBD-D101332",
           "2020-01-20"
          ],
          [
           5942.472657614007,
           "controlNeg",
           "2020-01-20"
          ],
          [
           5733.678786763884,
           "IDBD-D101333",
           "2020-01-20"
          ],
          [
           5642.290092702827,
           "IDBD-D101334",
           "2020-01-20"
          ],
          [
           6373.47932698333,
           "IDBD-D101335",
           "2020-01-20"
          ],
          [
           5455.027941817089,
           "IDBD-D101336",
           "2020-01-20"
          ],
          [
           5791.7543573630555,
           "IDBD-D101337",
           "2020-01-20"
          ],
          [
           6506.286699523414,
           "IDBD-D101338",
           "2020-01-20"
          ],
          [
           6981.192666955223,
           "IDBD-D101339",
           "2020-01-20"
          ],
          [
           5870.396597770782,
           "IDBD-D101340",
           "2020-01-20"
          ],
          [
           5978.470544211966,
           "controlNeg",
           "2020-01-20"
          ]
         ],
         "hoverlabel": {
          "namelength": 0
         },
         "hovertemplate": "Batch ID=%{x}<br>log<sub>10</sub>(T7 + PR772) NR=%{y}<br>T7 + PR772 NR=%{customdata[0]}<br>Accession=%{customdata[1]}<br>Run Date=%{customdata[2]}",
         "legendgroup": "",
         "marker": {
          "color": "#636efa",
          "symbol": "circle"
         },
         "mode": "markers",
         "name": "",
         "showlegend": false,
         "type": "scatter",
         "x": [
          "191121B01",
          "191123B01",
          "191126B01",
          "191127B01",
          "191130B01",
          "191203B01",
          "191210B01",
          "191210B02",
          "191210B02",
          "191210B02",
          "191210B02",
          "191210B02",
          "191211B02",
          "191211B02",
          "191211B02",
          "191211B02",
          "191211B02",
          "191220B01",
          "191223B01",
          "191223B04",
          "200114B02",
          "200116B03",
          "200117B01",
          "200119B01",
          "200119B01",
          "200119B01",
          "200119B01",
          "200119B01",
          "200119B01",
          "200119B01",
          "200119B01",
          "200119B01",
          "200119B02",
          "200119B02",
          "200119B02",
          "200119B02",
          "200119B02",
          "200119B02",
          "200119B02",
          "200119B02",
          "200119B02"
         ],
         "xaxis": "x",
         "y": [
          4.996794431699109,
          5.0427879017677215,
          5.054591231704434,
          5.062928824004099,
          5.180532688663176,
          5.079143939406351,
          5.227946699470661,
          4.910072966624383,
          3.7799181935523434,
          3.753969478647692,
          3.732711429795605,
          3.7338883517626065,
          4.617627719912439,
          3.822967691834141,
          3.68507761239413,
          3.7552755614936055,
          3.894947458874375,
          3.719079493814623,
          3.801769094426791,
          3.810478004398575,
          3.8893321753369854,
          3.835527146391352,
          3.8607164673108865,
          3.611413317235241,
          3.609529123284368,
          3.6560011212586434,
          3.5951074388142383,
          3.6260153223607854,
          3.7828496906794666,
          3.8119523925113104,
          3.7345726115745386,
          3.7739671921377567,
          3.7584333591644485,
          3.7514554112098666,
          3.8043765814699584,
          3.7367969794790623,
          3.7628101340758273,
          3.813333196553832,
          3.843929623830897,
          3.768667442713555,
          3.776590093826801
         ],
         "yaxis": "y"
        }
       ],
       "layout": {
        "autosize": true,
        "font": {
         "size": 18
        },
        "legend": {
         "tracegroupgap": 0
        },
        "margin": {
         "t": 60
        },
        "template": {
         "data": {
          "bar": [
           {
            "error_x": {
             "color": "#2a3f5f"
            },
            "error_y": {
             "color": "#2a3f5f"
            },
            "marker": {
             "line": {
              "color": "#E5ECF6",
              "width": 0.5
             }
            },
            "type": "bar"
           }
          ],
          "barpolar": [
           {
            "marker": {
             "line": {
              "color": "#E5ECF6",
              "width": 0.5
             }
            },
            "type": "barpolar"
           }
          ],
          "carpet": [
           {
            "aaxis": {
             "endlinecolor": "#2a3f5f",
             "gridcolor": "white",
             "linecolor": "white",
             "minorgridcolor": "white",
             "startlinecolor": "#2a3f5f"
            },
            "baxis": {
             "endlinecolor": "#2a3f5f",
             "gridcolor": "white",
             "linecolor": "white",
             "minorgridcolor": "white",
             "startlinecolor": "#2a3f5f"
            },
            "type": "carpet"
           }
          ],
          "choropleth": [
           {
            "colorbar": {
             "outlinewidth": 0,
             "ticks": ""
            },
            "type": "choropleth"
           }
          ],
          "contour": [
           {
            "colorbar": {
             "outlinewidth": 0,
             "ticks": ""
            },
            "colorscale": [
             [
              0,
              "#0d0887"
             ],
             [
              0.1111111111111111,
              "#46039f"
             ],
             [
              0.2222222222222222,
              "#7201a8"
             ],
             [
              0.3333333333333333,
              "#9c179e"
             ],
             [
              0.4444444444444444,
              "#bd3786"
             ],
             [
              0.5555555555555556,
              "#d8576b"
             ],
             [
              0.6666666666666666,
              "#ed7953"
             ],
             [
              0.7777777777777778,
              "#fb9f3a"
             ],
             [
              0.8888888888888888,
              "#fdca26"
             ],
             [
              1,
              "#f0f921"
             ]
            ],
            "type": "contour"
           }
          ],
          "contourcarpet": [
           {
            "colorbar": {
             "outlinewidth": 0,
             "ticks": ""
            },
            "type": "contourcarpet"
           }
          ],
          "heatmap": [
           {
            "colorbar": {
             "outlinewidth": 0,
             "ticks": ""
            },
            "colorscale": [
             [
              0,
              "#0d0887"
             ],
             [
              0.1111111111111111,
              "#46039f"
             ],
             [
              0.2222222222222222,
              "#7201a8"
             ],
             [
              0.3333333333333333,
              "#9c179e"
             ],
             [
              0.4444444444444444,
              "#bd3786"
             ],
             [
              0.5555555555555556,
              "#d8576b"
             ],
             [
              0.6666666666666666,
              "#ed7953"
             ],
             [
              0.7777777777777778,
              "#fb9f3a"
             ],
             [
              0.8888888888888888,
              "#fdca26"
             ],
             [
              1,
              "#f0f921"
             ]
            ],
            "type": "heatmap"
           }
          ],
          "heatmapgl": [
           {
            "colorbar": {
             "outlinewidth": 0,
             "ticks": ""
            },
            "colorscale": [
             [
              0,
              "#0d0887"
             ],
             [
              0.1111111111111111,
              "#46039f"
             ],
             [
              0.2222222222222222,
              "#7201a8"
             ],
             [
              0.3333333333333333,
              "#9c179e"
             ],
             [
              0.4444444444444444,
              "#bd3786"
             ],
             [
              0.5555555555555556,
              "#d8576b"
             ],
             [
              0.6666666666666666,
              "#ed7953"
             ],
             [
              0.7777777777777778,
              "#fb9f3a"
             ],
             [
              0.8888888888888888,
              "#fdca26"
             ],
             [
              1,
              "#f0f921"
             ]
            ],
            "type": "heatmapgl"
           }
          ],
          "histogram": [
           {
            "marker": {
             "colorbar": {
              "outlinewidth": 0,
              "ticks": ""
             }
            },
            "type": "histogram"
           }
          ],
          "histogram2d": [
           {
            "colorbar": {
             "outlinewidth": 0,
             "ticks": ""
            },
            "colorscale": [
             [
              0,
              "#0d0887"
             ],
             [
              0.1111111111111111,
              "#46039f"
             ],
             [
              0.2222222222222222,
              "#7201a8"
             ],
             [
              0.3333333333333333,
              "#9c179e"
             ],
             [
              0.4444444444444444,
              "#bd3786"
             ],
             [
              0.5555555555555556,
              "#d8576b"
             ],
             [
              0.6666666666666666,
              "#ed7953"
             ],
             [
              0.7777777777777778,
              "#fb9f3a"
             ],
             [
              0.8888888888888888,
              "#fdca26"
             ],
             [
              1,
              "#f0f921"
             ]
            ],
            "type": "histogram2d"
           }
          ],
          "histogram2dcontour": [
           {
            "colorbar": {
             "outlinewidth": 0,
             "ticks": ""
            },
            "colorscale": [
             [
              0,
              "#0d0887"
             ],
             [
              0.1111111111111111,
              "#46039f"
             ],
             [
              0.2222222222222222,
              "#7201a8"
             ],
             [
              0.3333333333333333,
              "#9c179e"
             ],
             [
              0.4444444444444444,
              "#bd3786"
             ],
             [
              0.5555555555555556,
              "#d8576b"
             ],
             [
              0.6666666666666666,
              "#ed7953"
             ],
             [
              0.7777777777777778,
              "#fb9f3a"
             ],
             [
              0.8888888888888888,
              "#fdca26"
             ],
             [
              1,
              "#f0f921"
             ]
            ],
            "type": "histogram2dcontour"
           }
          ],
          "mesh3d": [
           {
            "colorbar": {
             "outlinewidth": 0,
             "ticks": ""
            },
            "type": "mesh3d"
           }
          ],
          "parcoords": [
           {
            "line": {
             "colorbar": {
              "outlinewidth": 0,
              "ticks": ""
             }
            },
            "type": "parcoords"
           }
          ],
          "pie": [
           {
            "automargin": true,
            "type": "pie"
           }
          ],
          "scatter": [
           {
            "marker": {
             "colorbar": {
              "outlinewidth": 0,
              "ticks": ""
             }
            },
            "type": "scatter"
           }
          ],
          "scatter3d": [
           {
            "line": {
             "colorbar": {
              "outlinewidth": 0,
              "ticks": ""
             }
            },
            "marker": {
             "colorbar": {
              "outlinewidth": 0,
              "ticks": ""
             }
            },
            "type": "scatter3d"
           }
          ],
          "scattercarpet": [
           {
            "marker": {
             "colorbar": {
              "outlinewidth": 0,
              "ticks": ""
             }
            },
            "type": "scattercarpet"
           }
          ],
          "scattergeo": [
           {
            "marker": {
             "colorbar": {
              "outlinewidth": 0,
              "ticks": ""
             }
            },
            "type": "scattergeo"
           }
          ],
          "scattergl": [
           {
            "marker": {
             "colorbar": {
              "outlinewidth": 0,
              "ticks": ""
             }
            },
            "type": "scattergl"
           }
          ],
          "scattermapbox": [
           {
            "marker": {
             "colorbar": {
              "outlinewidth": 0,
              "ticks": ""
             }
            },
            "type": "scattermapbox"
           }
          ],
          "scatterpolar": [
           {
            "marker": {
             "colorbar": {
              "outlinewidth": 0,
              "ticks": ""
             }
            },
            "type": "scatterpolar"
           }
          ],
          "scatterpolargl": [
           {
            "marker": {
             "colorbar": {
              "outlinewidth": 0,
              "ticks": ""
             }
            },
            "type": "scatterpolargl"
           }
          ],
          "scatterternary": [
           {
            "marker": {
             "colorbar": {
              "outlinewidth": 0,
              "ticks": ""
             }
            },
            "type": "scatterternary"
           }
          ],
          "surface": [
           {
            "colorbar": {
             "outlinewidth": 0,
             "ticks": ""
            },
            "colorscale": [
             [
              0,
              "#0d0887"
             ],
             [
              0.1111111111111111,
              "#46039f"
             ],
             [
              0.2222222222222222,
              "#7201a8"
             ],
             [
              0.3333333333333333,
              "#9c179e"
             ],
             [
              0.4444444444444444,
              "#bd3786"
             ],
             [
              0.5555555555555556,
              "#d8576b"
             ],
             [
              0.6666666666666666,
              "#ed7953"
             ],
             [
              0.7777777777777778,
              "#fb9f3a"
             ],
             [
              0.8888888888888888,
              "#fdca26"
             ],
             [
              1,
              "#f0f921"
             ]
            ],
            "type": "surface"
           }
          ],
          "table": [
           {
            "cells": {
             "fill": {
              "color": "#EBF0F8"
             },
             "line": {
              "color": "white"
             }
            },
            "header": {
             "fill": {
              "color": "#C8D4E3"
             },
             "line": {
              "color": "white"
             }
            },
            "type": "table"
           }
          ]
         },
         "layout": {
          "annotationdefaults": {
           "arrowcolor": "#2a3f5f",
           "arrowhead": 0,
           "arrowwidth": 1
          },
          "coloraxis": {
           "colorbar": {
            "outlinewidth": 0,
            "ticks": ""
           }
          },
          "colorscale": {
           "diverging": [
            [
             0,
             "#8e0152"
            ],
            [
             0.1,
             "#c51b7d"
            ],
            [
             0.2,
             "#de77ae"
            ],
            [
             0.3,
             "#f1b6da"
            ],
            [
             0.4,
             "#fde0ef"
            ],
            [
             0.5,
             "#f7f7f7"
            ],
            [
             0.6,
             "#e6f5d0"
            ],
            [
             0.7,
             "#b8e186"
            ],
            [
             0.8,
             "#7fbc41"
            ],
            [
             0.9,
             "#4d9221"
            ],
            [
             1,
             "#276419"
            ]
           ],
           "sequential": [
            [
             0,
             "#0d0887"
            ],
            [
             0.1111111111111111,
             "#46039f"
            ],
            [
             0.2222222222222222,
             "#7201a8"
            ],
            [
             0.3333333333333333,
             "#9c179e"
            ],
            [
             0.4444444444444444,
             "#bd3786"
            ],
            [
             0.5555555555555556,
             "#d8576b"
            ],
            [
             0.6666666666666666,
             "#ed7953"
            ],
            [
             0.7777777777777778,
             "#fb9f3a"
            ],
            [
             0.8888888888888888,
             "#fdca26"
            ],
            [
             1,
             "#f0f921"
            ]
           ],
           "sequentialminus": [
            [
             0,
             "#0d0887"
            ],
            [
             0.1111111111111111,
             "#46039f"
            ],
            [
             0.2222222222222222,
             "#7201a8"
            ],
            [
             0.3333333333333333,
             "#9c179e"
            ],
            [
             0.4444444444444444,
             "#bd3786"
            ],
            [
             0.5555555555555556,
             "#d8576b"
            ],
            [
             0.6666666666666666,
             "#ed7953"
            ],
            [
             0.7777777777777778,
             "#fb9f3a"
            ],
            [
             0.8888888888888888,
             "#fdca26"
            ],
            [
             1,
             "#f0f921"
            ]
           ]
          },
          "colorway": [
           "#636efa",
           "#EF553B",
           "#00cc96",
           "#ab63fa",
           "#FFA15A",
           "#19d3f3",
           "#FF6692",
           "#B6E880",
           "#FF97FF",
           "#FECB52"
          ],
          "font": {
           "color": "#2a3f5f"
          },
          "geo": {
           "bgcolor": "white",
           "lakecolor": "white",
           "landcolor": "#E5ECF6",
           "showlakes": true,
           "showland": true,
           "subunitcolor": "white"
          },
          "hoverlabel": {
           "align": "left"
          },
          "hovermode": "closest",
          "mapbox": {
           "style": "light"
          },
          "paper_bgcolor": "white",
          "plot_bgcolor": "#E5ECF6",
          "polar": {
           "angularaxis": {
            "gridcolor": "white",
            "linecolor": "white",
            "ticks": ""
           },
           "bgcolor": "#E5ECF6",
           "radialaxis": {
            "gridcolor": "white",
            "linecolor": "white",
            "ticks": ""
           }
          },
          "scene": {
           "xaxis": {
            "backgroundcolor": "#E5ECF6",
            "gridcolor": "white",
            "gridwidth": 2,
            "linecolor": "white",
            "showbackground": true,
            "ticks": "",
            "zerolinecolor": "white"
           },
           "yaxis": {
            "backgroundcolor": "#E5ECF6",
            "gridcolor": "white",
            "gridwidth": 2,
            "linecolor": "white",
            "showbackground": true,
            "ticks": "",
            "zerolinecolor": "white"
           },
           "zaxis": {
            "backgroundcolor": "#E5ECF6",
            "gridcolor": "white",
            "gridwidth": 2,
            "linecolor": "white",
            "showbackground": true,
            "ticks": "",
            "zerolinecolor": "white"
           }
          },
          "shapedefaults": {
           "line": {
            "color": "#2a3f5f"
           }
          },
          "ternary": {
           "aaxis": {
            "gridcolor": "white",
            "linecolor": "white",
            "ticks": ""
           },
           "baxis": {
            "gridcolor": "white",
            "linecolor": "white",
            "ticks": ""
           },
           "bgcolor": "#E5ECF6",
           "caxis": {
            "gridcolor": "white",
            "linecolor": "white",
            "ticks": ""
           }
          },
          "title": {
           "x": 0.05
          },
          "xaxis": {
           "automargin": true,
           "gridcolor": "white",
           "linecolor": "white",
           "ticks": "",
           "title": {
            "standoff": 15
           },
           "zerolinecolor": "white",
           "zerolinewidth": 2
          },
          "yaxis": {
           "automargin": true,
           "gridcolor": "white",
           "linecolor": "white",
           "ticks": "",
           "title": {
            "standoff": 15
           },
           "zerolinecolor": "white",
           "zerolinewidth": 2
          }
         }
        },
        "xaxis": {
         "anchor": "y",
         "autorange": true,
         "domain": [
          0,
          1
         ],
         "range": [
          -0.9636608344549127,
          16.963660834454913
         ],
         "title": {
          "text": "Batch ID"
         },
         "type": "category"
        },
        "yaxis": {
         "anchor": "x",
         "autorange": true,
         "domain": [
          0,
          1
         ],
         "range": [
          3.486381181452552,
          5.336672956832348
         ],
         "title": {
          "text": "log<sub>10</sub>(T7 + PR772) NR"
         },
         "type": "linear"
        }
       }
      },
      "image/png": "[encoded data removed]",
      "text/html": [
       "<div>\n",
       "        \n",
       "        \n",
       "            <div id=\"da6fb1e9-e0b5-46c7-ad7a-d524e6e86d71\" class=\"plotly-graph-div\" style=\"height:600px; width:100%;\"></div>\n",
       "            <script type=\"text/javascript\">\n",
       "                require([\"plotly\"], function(Plotly) {\n",
       "                    window.PLOTLYENV=window.PLOTLYENV || {};\n",
       "                    \n",
       "                if (document.getElementById(\"da6fb1e9-e0b5-46c7-ad7a-d524e6e86d71\")) {\n",
       "                    Plotly.newPlot(\n",
       "                        'da6fb1e9-e0b5-46c7-ad7a-d524e6e86d71',\n",
       "                        [{\"customdata\": [[99264.60795910042, \"controlneg\", \"2019-11-21\"], [110353.95480036669, \"controlneg\", \"2019-11-24\"], [113394.30190942615, \"controlneg\", \"2019-11-26\"], [115592.27838843988, \"controlneg\", \"2019-11-27\"], [151541.88626024956, \"controlneg\", \"2019-12-01\"], [119989.69223680561, \"controlneg\", \"2019-12-04\"], [169023.34782414234, \"controlneg\", \"2019-12-10\"], [81296.7092805203, \"controlneg\", \"2019-12-11\"], [6024.460948397478, \"IDBD-D101029\", \"2019-12-11\"], [5675.047209041326, \"IDBD-D101030\", \"2019-12-11\"], [5403.951340526646, \"IDBD-D101031\", \"2019-12-11\"], [5418.6157095621975, \"IDBD-D101032\", \"2019-12-11\"], [41459.84937098144, \"controlneg\", \"2019-12-13\"], [6652.236668416355, \"IDBD-D101074\", \"2019-12-13\"], [4842.589013443285, \"IDBD-D101075\", \"2019-12-13\"], [5692.139847158353, \"IDBD-D101076\", \"2019-12-13\"], [7851.406422252066, \"IDBD-D101077\", \"2019-12-13\"], [5236.962858478826, \"controlneg\", \"2019-12-20\"], [6335.327851558352, \"controlneg\", \"2019-12-24\"], [6463.652568748615, \"controlneg\", \"2019-12-25\"], [7750.54380779208, \"controlneg\", \"2020-01-17\"], [6847.422828544828, \"controlneg\", \"2020-01-18\"], [7256.320679560567, \"controlneg\", \"2020-01-18\"], [4087.081680907999, \"IDBD-D101325\", \"2020-01-20\"], [4069.388217397553, \"IDBD-D101326\", \"2020-01-20\"], [4528.987491931303, \"IDBD-D101327\", \"2020-01-20\"], [3936.474466767371, \"IDBD-D101328\", \"2020-01-20\"], [4226.835267167544, \"IDBD-D101329\", \"2020-01-20\"], [6065.263744791783, \"IDBD-D101330\", \"2020-01-20\"], [6485.633339481331, \"IDBD-D101331\", \"2020-01-20\"], [5427.159827785494, \"IDBD-D101332\", \"2020-01-20\"], [5942.472657614007, \"controlNeg\", \"2020-01-20\"], [5733.678786763884, \"IDBD-D101333\", \"2020-01-20\"], [5642.290092702827, \"IDBD-D101334\", \"2020-01-20\"], [6373.47932698333, \"IDBD-D101335\", \"2020-01-20\"], [5455.027941817089, \"IDBD-D101336\", \"2020-01-20\"], [5791.7543573630555, \"IDBD-D101337\", \"2020-01-20\"], [6506.286699523414, \"IDBD-D101338\", \"2020-01-20\"], [6981.192666955223, \"IDBD-D101339\", \"2020-01-20\"], [5870.396597770782, \"IDBD-D101340\", \"2020-01-20\"], [5978.470544211966, \"controlNeg\", \"2020-01-20\"]], \"hoverlabel\": {\"namelength\": 0}, \"hovertemplate\": \"Batch ID=%{x}<br>log<sub>10</sub>(T7 + PR772) NR=%{y}<br>T7 + PR772 NR=%{customdata[0]}<br>Accession=%{customdata[1]}<br>Run Date=%{customdata[2]}\", \"legendgroup\": \"\", \"marker\": {\"color\": \"#636efa\", \"symbol\": \"circle\"}, \"mode\": \"markers\", \"name\": \"\", \"showlegend\": false, \"type\": \"scatter\", \"x\": [\"191121B01\", \"191123B01\", \"191126B01\", \"191127B01\", \"191130B01\", \"191203B01\", \"191210B01\", \"191210B02\", \"191210B02\", \"191210B02\", \"191210B02\", \"191210B02\", \"191211B02\", \"191211B02\", \"191211B02\", \"191211B02\", \"191211B02\", \"191220B01\", \"191223B01\", \"191223B04\", \"200114B02\", \"200116B03\", \"200117B01\", \"200119B01\", \"200119B01\", \"200119B01\", \"200119B01\", \"200119B01\", \"200119B01\", \"200119B01\", \"200119B01\", \"200119B01\", \"200119B02\", \"200119B02\", \"200119B02\", \"200119B02\", \"200119B02\", \"200119B02\", \"200119B02\", \"200119B02\", \"200119B02\"], \"xaxis\": \"x\", \"y\": [4.996794431699109, 5.0427879017677215, 5.054591231704434, 5.062928824004099, 5.180532688663176, 5.079143939406351, 5.227946699470661, 4.910072966624383, 3.7799181935523434, 3.753969478647692, 3.732711429795605, 3.7338883517626065, 4.617627719912439, 3.822967691834141, 3.68507761239413, 3.7552755614936055, 3.894947458874375, 3.719079493814623, 3.801769094426791, 3.810478004398575, 3.8893321753369854, 3.835527146391352, 3.8607164673108865, 3.611413317235241, 3.609529123284368, 3.6560011212586434, 3.5951074388142383, 3.6260153223607854, 3.7828496906794666, 3.8119523925113104, 3.7345726115745386, 3.7739671921377567, 3.7584333591644485, 3.7514554112098666, 3.8043765814699584, 3.7367969794790623, 3.7628101340758273, 3.813333196553832, 3.843929623830897, 3.768667442713555, 3.776590093826801], \"yaxis\": \"y\"}],\n",
       "                        {\"font\": {\"size\": 18}, \"height\": 600, \"legend\": {\"tracegroupgap\": 0}, \"margin\": {\"t\": 60}, \"template\": {\"data\": {\"bar\": [{\"error_x\": {\"color\": \"#2a3f5f\"}, \"error_y\": {\"color\": \"#2a3f5f\"}, \"marker\": {\"line\": {\"color\": \"#E5ECF6\", \"width\": 0.5}}, \"type\": \"bar\"}], \"barpolar\": [{\"marker\": {\"line\": {\"color\": \"#E5ECF6\", \"width\": 0.5}}, \"type\": \"barpolar\"}], \"carpet\": [{\"aaxis\": {\"endlinecolor\": \"#2a3f5f\", \"gridcolor\": \"white\", \"linecolor\": \"white\", \"minorgridcolor\": \"white\", \"startlinecolor\": \"#2a3f5f\"}, \"baxis\": {\"endlinecolor\": \"#2a3f5f\", \"gridcolor\": \"white\", \"linecolor\": \"white\", \"minorgridcolor\": \"white\", \"startlinecolor\": \"#2a3f5f\"}, \"type\": \"carpet\"}], \"choropleth\": [{\"colorbar\": {\"outlinewidth\": 0, \"ticks\": \"\"}, \"type\": \"choropleth\"}], \"contour\": [{\"colorbar\": {\"outlinewidth\": 0, \"ticks\": \"\"}, \"colorscale\": [[0.0, \"#0d0887\"], [0.1111111111111111, \"#46039f\"], [0.2222222222222222, \"#7201a8\"], [0.3333333333333333, \"#9c179e\"], [0.4444444444444444, \"#bd3786\"], [0.5555555555555556, \"#d8576b\"], [0.6666666666666666, \"#ed7953\"], [0.7777777777777778, \"#fb9f3a\"], [0.8888888888888888, \"#fdca26\"], [1.0, \"#f0f921\"]], \"type\": \"contour\"}], \"contourcarpet\": [{\"colorbar\": {\"outlinewidth\": 0, \"ticks\": \"\"}, \"type\": \"contourcarpet\"}], \"heatmap\": [{\"colorbar\": {\"outlinewidth\": 0, \"ticks\": \"\"}, \"colorscale\": [[0.0, \"#0d0887\"], [0.1111111111111111, \"#46039f\"], [0.2222222222222222, \"#7201a8\"], [0.3333333333333333, \"#9c179e\"], [0.4444444444444444, \"#bd3786\"], [0.5555555555555556, \"#d8576b\"], [0.6666666666666666, \"#ed7953\"], [0.7777777777777778, \"#fb9f3a\"], [0.8888888888888888, \"#fdca26\"], [1.0, \"#f0f921\"]], \"type\": \"heatmap\"}], \"heatmapgl\": [{\"colorbar\": {\"outlinewidth\": 0, \"ticks\": \"\"}, \"colorscale\": [[0.0, \"#0d0887\"], [0.1111111111111111, \"#46039f\"], [0.2222222222222222, \"#7201a8\"], [0.3333333333333333, \"#9c179e\"], [0.4444444444444444, \"#bd3786\"], [0.5555555555555556, \"#d8576b\"], [0.6666666666666666, \"#ed7953\"], [0.7777777777777778, \"#fb9f3a\"], [0.8888888888888888, \"#fdca26\"], [1.0, \"#f0f921\"]], \"type\": \"heatmapgl\"}], \"histogram\": [{\"marker\": {\"colorbar\": {\"outlinewidth\": 0, \"ticks\": \"\"}}, \"type\": \"histogram\"}], \"histogram2d\": [{\"colorbar\": {\"outlinewidth\": 0, \"ticks\": \"\"}, \"colorscale\": [[0.0, \"#0d0887\"], [0.1111111111111111, \"#46039f\"], [0.2222222222222222, \"#7201a8\"], [0.3333333333333333, \"#9c179e\"], [0.4444444444444444, \"#bd3786\"], [0.5555555555555556, \"#d8576b\"], [0.6666666666666666, \"#ed7953\"], [0.7777777777777778, \"#fb9f3a\"], [0.8888888888888888, \"#fdca26\"], [1.0, \"#f0f921\"]], \"type\": \"histogram2d\"}], \"histogram2dcontour\": [{\"colorbar\": {\"outlinewidth\": 0, \"ticks\": \"\"}, \"colorscale\": [[0.0, \"#0d0887\"], [0.1111111111111111, \"#46039f\"], [0.2222222222222222, \"#7201a8\"], [0.3333333333333333, \"#9c179e\"], [0.4444444444444444, \"#bd3786\"], [0.5555555555555556, \"#d8576b\"], [0.6666666666666666, \"#ed7953\"], [0.7777777777777778, \"#fb9f3a\"], [0.8888888888888888, \"#fdca26\"], [1.0, \"#f0f921\"]], \"type\": \"histogram2dcontour\"}], \"mesh3d\": [{\"colorbar\": {\"outlinewidth\": 0, \"ticks\": \"\"}, \"type\": \"mesh3d\"}], \"parcoords\": [{\"line\": {\"colorbar\": {\"outlinewidth\": 0, \"ticks\": \"\"}}, \"type\": \"parcoords\"}], \"pie\": [{\"automargin\": true, \"type\": \"pie\"}], \"scatter\": [{\"marker\": {\"colorbar\": {\"outlinewidth\": 0, \"ticks\": \"\"}}, \"type\": \"scatter\"}], \"scatter3d\": [{\"line\": {\"colorbar\": {\"outlinewidth\": 0, \"ticks\": \"\"}}, \"marker\": {\"colorbar\": {\"outlinewidth\": 0, \"ticks\": \"\"}}, \"type\": \"scatter3d\"}], \"scattercarpet\": [{\"marker\": {\"colorbar\": {\"outlinewidth\": 0, \"ticks\": \"\"}}, \"type\": \"scattercarpet\"}], \"scattergeo\": [{\"marker\": {\"colorbar\": {\"outlinewidth\": 0, \"ticks\": \"\"}}, \"type\": \"scattergeo\"}], \"scattergl\": [{\"marker\": {\"colorbar\": {\"outlinewidth\": 0, \"ticks\": \"\"}}, \"type\": \"scattergl\"}], \"scattermapbox\": [{\"marker\": {\"colorbar\": {\"outlinewidth\": 0, \"ticks\": \"\"}}, \"type\": \"scattermapbox\"}], \"scatterpolar\": [{\"marker\": {\"colorbar\": {\"outlinewidth\": 0, \"ticks\": \"\"}}, \"type\": \"scatterpolar\"}], \"scatterpolargl\": [{\"marker\": {\"colorbar\": {\"outlinewidth\": 0, \"ticks\": \"\"}}, \"type\": \"scatterpolargl\"}], \"scatterternary\": [{\"marker\": {\"colorbar\": {\"outlinewidth\": 0, \"ticks\": \"\"}}, \"type\": \"scatterternary\"}], \"surface\": [{\"colorbar\": {\"outlinewidth\": 0, \"ticks\": \"\"}, \"colorscale\": [[0.0, \"#0d0887\"], [0.1111111111111111, \"#46039f\"], [0.2222222222222222, \"#7201a8\"], [0.3333333333333333, \"#9c179e\"], [0.4444444444444444, \"#bd3786\"], [0.5555555555555556, \"#d8576b\"], [0.6666666666666666, \"#ed7953\"], [0.7777777777777778, \"#fb9f3a\"], [0.8888888888888888, \"#fdca26\"], [1.0, \"#f0f921\"]], \"type\": \"surface\"}], \"table\": [{\"cells\": {\"fill\": {\"color\": \"#EBF0F8\"}, \"line\": {\"color\": \"white\"}}, \"header\": {\"fill\": {\"color\": \"#C8D4E3\"}, \"line\": {\"color\": \"white\"}}, \"type\": \"table\"}]}, \"layout\": {\"annotationdefaults\": {\"arrowcolor\": \"#2a3f5f\", \"arrowhead\": 0, \"arrowwidth\": 1}, \"coloraxis\": {\"colorbar\": {\"outlinewidth\": 0, \"ticks\": \"\"}}, \"colorscale\": {\"diverging\": [[0, \"#8e0152\"], [0.1, \"#c51b7d\"], [0.2, \"#de77ae\"], [0.3, \"#f1b6da\"], [0.4, \"#fde0ef\"], [0.5, \"#f7f7f7\"], [0.6, \"#e6f5d0\"], [0.7, \"#b8e186\"], [0.8, \"#7fbc41\"], [0.9, \"#4d9221\"], [1, \"#276419\"]], \"sequential\": [[0.0, \"#0d0887\"], [0.1111111111111111, \"#46039f\"], [0.2222222222222222, \"#7201a8\"], [0.3333333333333333, \"#9c179e\"], [0.4444444444444444, \"#bd3786\"], [0.5555555555555556, \"#d8576b\"], [0.6666666666666666, \"#ed7953\"], [0.7777777777777778, \"#fb9f3a\"], [0.8888888888888888, \"#fdca26\"], [1.0, \"#f0f921\"]], \"sequentialminus\": [[0.0, \"#0d0887\"], [0.1111111111111111, \"#46039f\"], [0.2222222222222222, \"#7201a8\"], [0.3333333333333333, \"#9c179e\"], [0.4444444444444444, \"#bd3786\"], [0.5555555555555556, \"#d8576b\"], [0.6666666666666666, \"#ed7953\"], [0.7777777777777778, \"#fb9f3a\"], [0.8888888888888888, \"#fdca26\"], [1.0, \"#f0f921\"]]}, \"colorway\": [\"#636efa\", \"#EF553B\", \"#00cc96\", \"#ab63fa\", \"#FFA15A\", \"#19d3f3\", \"#FF6692\", \"#B6E880\", \"#FF97FF\", \"#FECB52\"], \"font\": {\"color\": \"#2a3f5f\"}, \"geo\": {\"bgcolor\": \"white\", \"lakecolor\": \"white\", \"landcolor\": \"#E5ECF6\", \"showlakes\": true, \"showland\": true, \"subunitcolor\": \"white\"}, \"hoverlabel\": {\"align\": \"left\"}, \"hovermode\": \"closest\", \"mapbox\": {\"style\": \"light\"}, \"paper_bgcolor\": \"white\", \"plot_bgcolor\": \"#E5ECF6\", \"polar\": {\"angularaxis\": {\"gridcolor\": \"white\", \"linecolor\": \"white\", \"ticks\": \"\"}, \"bgcolor\": \"#E5ECF6\", \"radialaxis\": {\"gridcolor\": \"white\", \"linecolor\": \"white\", \"ticks\": \"\"}}, \"scene\": {\"xaxis\": {\"backgroundcolor\": \"#E5ECF6\", \"gridcolor\": \"white\", \"gridwidth\": 2, \"linecolor\": \"white\", \"showbackground\": true, \"ticks\": \"\", \"zerolinecolor\": \"white\"}, \"yaxis\": {\"backgroundcolor\": \"#E5ECF6\", \"gridcolor\": \"white\", \"gridwidth\": 2, \"linecolor\": \"white\", \"showbackground\": true, \"ticks\": \"\", \"zerolinecolor\": \"white\"}, \"zaxis\": {\"backgroundcolor\": \"#E5ECF6\", \"gridcolor\": \"white\", \"gridwidth\": 2, \"linecolor\": \"white\", \"showbackground\": true, \"ticks\": \"\", \"zerolinecolor\": \"white\"}}, \"shapedefaults\": {\"line\": {\"color\": \"#2a3f5f\"}}, \"ternary\": {\"aaxis\": {\"gridcolor\": \"white\", \"linecolor\": \"white\", \"ticks\": \"\"}, \"baxis\": {\"gridcolor\": \"white\", \"linecolor\": \"white\", \"ticks\": \"\"}, \"bgcolor\": \"#E5ECF6\", \"caxis\": {\"gridcolor\": \"white\", \"linecolor\": \"white\", \"ticks\": \"\"}}, \"title\": {\"x\": 0.05}, \"xaxis\": {\"automargin\": true, \"gridcolor\": \"white\", \"linecolor\": \"white\", \"ticks\": \"\", \"title\": {\"standoff\": 15}, \"zerolinecolor\": \"white\", \"zerolinewidth\": 2}, \"yaxis\": {\"automargin\": true, \"gridcolor\": \"white\", \"linecolor\": \"white\", \"ticks\": \"\", \"title\": {\"standoff\": 15}, \"zerolinecolor\": \"white\", \"zerolinewidth\": 2}}}, \"xaxis\": {\"anchor\": \"y\", \"domain\": [0.0, 1.0], \"title\": {\"text\": \"Batch ID\"}}, \"yaxis\": {\"anchor\": \"x\", \"domain\": [0.0, 1.0], \"title\": {\"text\": \"log<sub>10</sub>(T7 + PR772) NR\"}}},\n",
       "                        {\"responsive\": true}\n",
       "                    ).then(function(){\n",
       "                            \n",
       "var gd = document.getElementById('da6fb1e9-e0b5-46c7-ad7a-d524e6e86d71');\n",
       "var x = new MutationObserver(function (mutations, observer) {{\n",
       "        var display = window.getComputedStyle(gd).display;\n",
       "        if (!display || display === 'none') {{\n",
       "            console.log([gd, 'removed!']);\n",
       "            Plotly.purge(gd);\n",
       "            observer.disconnect();\n",
       "        }}\n",
       "}});\n",
       "\n",
       "// Listen for the removal of the full notebook cells\n",
       "var notebookContainer = gd.closest('#notebook-container');\n",
       "if (notebookContainer) {{\n",
       "    x.observe(notebookContainer, {childList: true});\n",
       "}}\n",
       "\n",
       "// Listen for the clearing of the current output cell\n",
       "var outputEl = gd.closest('.output');\n",
       "if (outputEl) {{\n",
       "    x.observe(outputEl, {childList: true});\n",
       "}}\n",
       "\n",
       "                        })\n",
       "                };\n",
       "                });\n",
       "            </script>\n",
       "        </div>"
      ]
     },
     "metadata": {},
     "output_type": "display_data"
    }
   ],
   "source": [
    "fig = px.scatter(\n",
    "    merged_with_new_neg, y='Log10 T7 + PR772 NR (Composition File)',\n",
    "    x='Batch ID',\n",
    "    labels={'Log10 T7 + PR772 NR (Composition File)': 'log<sub>10</sub>(T7 + PR772) NR',\n",
    "            'T7 + PR772 NR (Composition File)': 'T7 + PR772 NR'},\n",
    "    hover_data=['T7 + PR772 NR (Composition File)', 'Accession', 'Run Date']\n",
    ")\n",
    "fig.update_layout(font=dict(size=18), height=600)\n",
    "fig.show()\n",
    "fig.write_html('plots/Diluted_Hi_IC_vs_Low_IC_by_batch.html')"
   ]
  },
  {
   "cell_type": "code",
   "execution_count": 83,
   "metadata": {},
   "outputs": [
    {
     "data": {
      "text/plain": [
       "Index(['Accession', 'Bacteria', 'Batch ID', 'Composition File', 'Fungus',\n",
       "       'Human', 'IC', 'Library Type', 'Log10 T7 + PR772 NR',\n",
       "       'Log10 T7 + PR772 NR (Composition File)', 'PR772 Normalized Reads',\n",
       "       'PR772 Raw Reads', 'Parasite', 'Run Date', 'Sample Name', 'Seq Sple',\n",
       "       'Summary - Composition (log10)', 'T4 Normalized (Composition File)',\n",
       "       'T4 Raw Reads (Composition File)', 'T7 + PR772 NR',\n",
       "       'T7 + PR772 NR (Composition File)', 'T7 Normalized (Composition File)',\n",
       "       'T7 Normalized Reads', 'T7 Raw Reads',\n",
       "       'T7 Raw Reads (Composition File)', 'Total Reads',\n",
       "       'Total Reads (Composition File)', 'Unclassified', 'Virus'],\n",
       "      dtype='object')"
      ]
     },
     "execution_count": 83,
     "metadata": {},
     "output_type": "execute_result"
    }
   ],
   "source": [
    "merged_with_new_neg.columns"
   ]
  },
  {
   "cell_type": "code",
   "execution_count": 87,
   "metadata": {},
   "outputs": [
    {
     "data": {
      "application/vnd.plotly.v1+json": {
       "config": {
        "plotlyServerURL": "https://plot.ly"
       },
       "data": [
        {
         "alignmentgroup": "True",
         "boxpoints": "all",
         "customdata": [
          [
           "2019-11-21"
          ],
          [
           "2019-11-21"
          ],
          [
           "2019-11-21"
          ],
          [
           "2019-11-21"
          ],
          [
           "2019-11-21"
          ],
          [
           "2019-11-21"
          ],
          [
           "2019-11-24"
          ],
          [
           "2019-11-24"
          ],
          [
           "2019-11-24"
          ],
          [
           "2019-11-24"
          ],
          [
           "2019-11-24"
          ],
          [
           "2019-11-24"
          ],
          [
           "2019-11-26"
          ],
          [
           "2019-11-26"
          ],
          [
           "2019-11-26"
          ],
          [
           "2019-11-26"
          ],
          [
           "2019-11-26"
          ],
          [
           "2019-11-26"
          ],
          [
           "2019-11-27"
          ],
          [
           "2019-11-27"
          ],
          [
           "2019-11-27"
          ],
          [
           "2019-11-27"
          ],
          [
           "2019-11-27"
          ],
          [
           "2019-11-27"
          ],
          [
           "2019-12-01"
          ],
          [
           "2019-12-01"
          ],
          [
           "2019-12-01"
          ],
          [
           "2019-12-01"
          ],
          [
           "2019-12-01"
          ],
          [
           "2019-12-01"
          ],
          [
           "2019-12-04"
          ],
          [
           "2019-12-04"
          ],
          [
           "2019-12-04"
          ],
          [
           "2019-12-04"
          ],
          [
           "2019-12-04"
          ],
          [
           "2019-12-04"
          ],
          [
           "2019-12-10"
          ],
          [
           "2019-12-10"
          ],
          [
           "2019-12-10"
          ],
          [
           "2019-12-10"
          ],
          [
           "2019-12-10"
          ],
          [
           "2019-12-10"
          ]
         ],
         "hoverlabel": {
          "namelength": 0
         },
         "hovertemplate": "Neg Ctrl Matrix=Old<br>Organism=%{x}<br>% Composition=%{y}<br>Run Date=%{customdata[0]}",
         "legendgroup": "Neg Ctrl Matrix=Old",
         "marker": {
          "color": "#636efa"
         },
         "name": "Neg Ctrl Matrix=Old",
         "notched": false,
         "offsetgroup": "Neg Ctrl Matrix=Old",
         "orientation": "v",
         "showlegend": true,
         "type": "box",
         "x": [
          "Human",
          "Virus",
          "Unclassified",
          "Parasite",
          "Fungus",
          "Bacteria",
          "Human",
          "Virus",
          "Unclassified",
          "Bacteria",
          "Parasite",
          "Fungus",
          "Human",
          "Fungus",
          "Parasite",
          "Virus",
          "Bacteria",
          "Unclassified",
          "Fungus",
          "Parasite",
          "Unclassified",
          "Bacteria",
          "Virus",
          "Human",
          "Parasite",
          "Human",
          "Fungus",
          "Bacteria",
          "Virus",
          "Unclassified",
          "Virus",
          "Parasite",
          "Human",
          "Fungus",
          "Bacteria",
          "Unclassified",
          "Bacteria",
          "Fungus",
          "Virus",
          "Human",
          "Parasite",
          "Unclassified"
         ],
         "x0": " ",
         "xaxis": "x",
         "y": [
          0.7930514586857329,
          1.4972034994802401,
          62.34470503099991,
          0.08081509483792526,
          0.10946661099550467,
          35.174758305000694,
          0.8817071325347272,
          1.6360784374588848,
          61.988766934165966,
          35.28999941093952,
          0.08039440949861783,
          0.12305367540228067,
          0.6219610344079578,
          0.1033184583902778,
          0.1110664932043278,
          1.648292458862636,
          35.43027929739824,
          62.085082257736566,
          0.1807737696492336,
          0.17993552427617218,
          62.67684925722081,
          33.657064087200034,
          1.7028808207348376,
          1.6024965409189185,
          0.08727378807261818,
          0.8654987043488971,
          0.11937016115554835,
          35.08228665039362,
          2.1036490382704844,
          61.74192165775883,
          1.7681285346078384,
          0.12909095024110534,
          0.8336343923975765,
          0.2556974187085221,
          34.620391321761886,
          62.39305738228307,
          33.102240490727375,
          0.23745227674830055,
          2.34631591527826,
          1.0271854811332306,
          0.0838726754276304,
          63.20293316068521
         ],
         "y0": " ",
         "yaxis": "y"
        },
        {
         "alignmentgroup": "True",
         "boxpoints": "all",
         "customdata": [
          [
           "2019-12-11"
          ],
          [
           "2019-12-11"
          ],
          [
           "2019-12-11"
          ],
          [
           "2019-12-11"
          ],
          [
           "2019-12-11"
          ],
          [
           "2019-12-11"
          ],
          [
           "2019-12-11"
          ],
          [
           "2019-12-11"
          ],
          [
           "2019-12-11"
          ],
          [
           "2019-12-11"
          ],
          [
           "2019-12-11"
          ],
          [
           "2019-12-11"
          ],
          [
           "2019-12-11"
          ],
          [
           "2019-12-11"
          ],
          [
           "2019-12-11"
          ],
          [
           "2019-12-11"
          ],
          [
           "2019-12-11"
          ],
          [
           "2019-12-11"
          ],
          [
           "2019-12-11"
          ],
          [
           "2019-12-11"
          ],
          [
           "2019-12-11"
          ],
          [
           "2019-12-11"
          ],
          [
           "2019-12-11"
          ],
          [
           "2019-12-11"
          ],
          [
           "2019-12-11"
          ],
          [
           "2019-12-11"
          ],
          [
           "2019-12-11"
          ],
          [
           "2019-12-11"
          ],
          [
           "2019-12-11"
          ],
          [
           "2019-12-11"
          ],
          [
           "2019-12-13"
          ],
          [
           "2019-12-13"
          ],
          [
           "2019-12-13"
          ],
          [
           "2019-12-13"
          ],
          [
           "2019-12-13"
          ],
          [
           "2019-12-13"
          ],
          [
           "2019-12-13"
          ],
          [
           "2019-12-13"
          ],
          [
           "2019-12-13"
          ],
          [
           "2019-12-13"
          ],
          [
           "2019-12-13"
          ],
          [
           "2019-12-13"
          ],
          [
           "2019-12-13"
          ],
          [
           "2019-12-13"
          ],
          [
           "2019-12-13"
          ],
          [
           "2019-12-13"
          ],
          [
           "2019-12-13"
          ],
          [
           "2019-12-13"
          ],
          [
           "2019-12-13"
          ],
          [
           "2019-12-13"
          ],
          [
           "2019-12-13"
          ],
          [
           "2019-12-13"
          ],
          [
           "2019-12-13"
          ],
          [
           "2019-12-13"
          ],
          [
           "2019-12-13"
          ],
          [
           "2019-12-13"
          ],
          [
           "2019-12-13"
          ],
          [
           "2019-12-13"
          ],
          [
           "2019-12-13"
          ],
          [
           "2019-12-13"
          ],
          [
           "2019-12-20"
          ],
          [
           "2019-12-20"
          ],
          [
           "2019-12-20"
          ],
          [
           "2019-12-20"
          ],
          [
           "2019-12-20"
          ],
          [
           "2019-12-20"
          ],
          [
           "2019-12-24"
          ],
          [
           "2019-12-24"
          ],
          [
           "2019-12-24"
          ],
          [
           "2019-12-24"
          ],
          [
           "2019-12-24"
          ],
          [
           "2019-12-24"
          ],
          [
           "2019-12-25"
          ],
          [
           "2019-12-25"
          ],
          [
           "2019-12-25"
          ],
          [
           "2019-12-25"
          ],
          [
           "2019-12-25"
          ],
          [
           "2019-12-25"
          ],
          [
           "2020-01-17"
          ],
          [
           "2020-01-17"
          ],
          [
           "2020-01-17"
          ],
          [
           "2020-01-17"
          ],
          [
           "2020-01-17"
          ],
          [
           "2020-01-17"
          ],
          [
           "2020-01-18"
          ],
          [
           "2020-01-18"
          ],
          [
           "2020-01-18"
          ],
          [
           "2020-01-18"
          ],
          [
           "2020-01-18"
          ],
          [
           "2020-01-18"
          ],
          [
           "2020-01-18"
          ],
          [
           "2020-01-18"
          ],
          [
           "2020-01-18"
          ],
          [
           "2020-01-18"
          ],
          [
           "2020-01-18"
          ],
          [
           "2020-01-18"
          ],
          [
           "2020-01-20"
          ],
          [
           "2020-01-20"
          ],
          [
           "2020-01-20"
          ],
          [
           "2020-01-20"
          ],
          [
           "2020-01-20"
          ],
          [
           "2020-01-20"
          ],
          [
           "2020-01-20"
          ],
          [
           "2020-01-20"
          ],
          [
           "2020-01-20"
          ],
          [
           "2020-01-20"
          ],
          [
           "2020-01-20"
          ],
          [
           "2020-01-20"
          ],
          [
           "2020-01-20"
          ],
          [
           "2020-01-20"
          ],
          [
           "2020-01-20"
          ],
          [
           "2020-01-20"
          ],
          [
           "2020-01-20"
          ],
          [
           "2020-01-20"
          ],
          [
           "2020-01-20"
          ],
          [
           "2020-01-20"
          ],
          [
           "2020-01-20"
          ],
          [
           "2020-01-20"
          ],
          [
           "2020-01-20"
          ],
          [
           "2020-01-20"
          ],
          [
           "2020-01-20"
          ],
          [
           "2020-01-20"
          ],
          [
           "2020-01-20"
          ],
          [
           "2020-01-20"
          ],
          [
           "2020-01-20"
          ],
          [
           "2020-01-20"
          ],
          [
           "2020-01-20"
          ],
          [
           "2020-01-20"
          ],
          [
           "2020-01-20"
          ],
          [
           "2020-01-20"
          ],
          [
           "2020-01-20"
          ],
          [
           "2020-01-20"
          ],
          [
           "2020-01-20"
          ],
          [
           "2020-01-20"
          ],
          [
           "2020-01-20"
          ],
          [
           "2020-01-20"
          ],
          [
           "2020-01-20"
          ],
          [
           "2020-01-20"
          ],
          [
           "2020-01-20"
          ],
          [
           "2020-01-20"
          ],
          [
           "2020-01-20"
          ],
          [
           "2020-01-20"
          ],
          [
           "2020-01-20"
          ],
          [
           "2020-01-20"
          ],
          [
           "2020-01-20"
          ],
          [
           "2020-01-20"
          ],
          [
           "2020-01-20"
          ],
          [
           "2020-01-20"
          ],
          [
           "2020-01-20"
          ],
          [
           "2020-01-20"
          ],
          [
           "2020-01-20"
          ],
          [
           "2020-01-20"
          ],
          [
           "2020-01-20"
          ],
          [
           "2020-01-20"
          ],
          [
           "2020-01-20"
          ],
          [
           "2020-01-20"
          ],
          [
           "2020-01-20"
          ],
          [
           "2020-01-20"
          ],
          [
           "2020-01-20"
          ],
          [
           "2020-01-20"
          ],
          [
           "2020-01-20"
          ],
          [
           "2020-01-20"
          ],
          [
           "2020-01-20"
          ],
          [
           "2020-01-20"
          ],
          [
           "2020-01-20"
          ],
          [
           "2020-01-20"
          ],
          [
           "2020-01-20"
          ],
          [
           "2020-01-20"
          ],
          [
           "2020-01-20"
          ],
          [
           "2020-01-20"
          ],
          [
           "2020-01-20"
          ],
          [
           "2020-01-20"
          ],
          [
           "2020-01-20"
          ],
          [
           "2020-01-20"
          ],
          [
           "2020-01-20"
          ],
          [
           "2020-01-20"
          ],
          [
           "2020-01-20"
          ],
          [
           "2020-01-20"
          ],
          [
           "2020-01-20"
          ],
          [
           "2020-01-20"
          ],
          [
           "2020-01-20"
          ],
          [
           "2020-01-20"
          ],
          [
           "2020-01-20"
          ],
          [
           "2020-01-20"
          ],
          [
           "2020-01-20"
          ],
          [
           "2020-01-20"
          ],
          [
           "2020-01-20"
          ],
          [
           "2020-01-20"
          ],
          [
           "2020-01-20"
          ],
          [
           "2020-01-20"
          ],
          [
           "2020-01-20"
          ],
          [
           "2020-01-20"
          ],
          [
           "2020-01-20"
          ],
          [
           "2020-01-20"
          ],
          [
           "2020-01-20"
          ],
          [
           "2020-01-20"
          ],
          [
           "2020-01-20"
          ],
          [
           "2020-01-20"
          ],
          [
           "2020-01-20"
          ],
          [
           "2020-01-20"
          ],
          [
           "2020-01-20"
          ],
          [
           "2020-01-20"
          ],
          [
           "2020-01-20"
          ],
          [
           "2020-01-20"
          ]
         ],
         "hoverlabel": {
          "namelength": 0
         },
         "hovertemplate": "Neg Ctrl Matrix=New<br>Organism=%{x}<br>% Composition=%{y}<br>Run Date=%{customdata[0]}",
         "legendgroup": "Neg Ctrl Matrix=New",
         "marker": {
          "color": "#EF553B"
         },
         "name": "Neg Ctrl Matrix=New",
         "notched": false,
         "offsetgroup": "Neg Ctrl Matrix=New",
         "orientation": "v",
         "showlegend": true,
         "type": "box",
         "x": [
          "Human",
          "Human",
          "Human",
          "Human",
          "Human",
          "Unclassified",
          "Virus",
          "Virus",
          "Virus",
          "Unclassified",
          "Unclassified",
          "Unclassified",
          "Virus",
          "Virus",
          "Unclassified",
          "Parasite",
          "Fungus",
          "Parasite",
          "Parasite",
          "Parasite",
          "Parasite",
          "Fungus",
          "Fungus",
          "Fungus",
          "Fungus",
          "Bacteria",
          "Bacteria",
          "Bacteria",
          "Bacteria",
          "Bacteria",
          "Human",
          "Parasite",
          "Parasite",
          "Parasite",
          "Parasite",
          "Fungus",
          "Human",
          "Fungus",
          "Fungus",
          "Fungus",
          "Virus",
          "Virus",
          "Virus",
          "Virus",
          "Parasite",
          "Fungus",
          "Virus",
          "Human",
          "Bacteria",
          "Bacteria",
          "Bacteria",
          "Human",
          "Bacteria",
          "Unclassified",
          "Bacteria",
          "Unclassified",
          "Unclassified",
          "Human",
          "Unclassified",
          "Unclassified",
          "Human",
          "Unclassified",
          "Virus",
          "Bacteria",
          "Parasite",
          "Fungus",
          "Bacteria",
          "Fungus",
          "Human",
          "Virus",
          "Parasite",
          "Unclassified",
          "Virus",
          "Fungus",
          "Parasite",
          "Bacteria",
          "Unclassified",
          "Human",
          "Human",
          "Virus",
          "Bacteria",
          "Fungus",
          "Unclassified",
          "Parasite",
          "Human",
          "Unclassified",
          "Unclassified",
          "Fungus",
          "Fungus",
          "Parasite",
          "Parasite",
          "Human",
          "Bacteria",
          "Virus",
          "Virus",
          "Bacteria",
          "Unclassified",
          "Unclassified",
          "Unclassified",
          "Unclassified",
          "Unclassified",
          "Unclassified",
          "Unclassified",
          "Unclassified",
          "Unclassified",
          "Unclassified",
          "Unclassified",
          "Unclassified",
          "Unclassified",
          "Unclassified",
          "Unclassified",
          "Parasite",
          "Parasite",
          "Parasite",
          "Parasite",
          "Parasite",
          "Parasite",
          "Parasite",
          "Parasite",
          "Parasite",
          "Parasite",
          "Parasite",
          "Parasite",
          "Parasite",
          "Parasite",
          "Parasite",
          "Parasite",
          "Parasite",
          "Parasite",
          "Unclassified",
          "Virus",
          "Fungus",
          "Bacteria",
          "Bacteria",
          "Bacteria",
          "Bacteria",
          "Bacteria",
          "Bacteria",
          "Bacteria",
          "Bacteria",
          "Bacteria",
          "Bacteria",
          "Bacteria",
          "Bacteria",
          "Bacteria",
          "Bacteria",
          "Bacteria",
          "Human",
          "Human",
          "Human",
          "Human",
          "Human",
          "Human",
          "Human",
          "Human",
          "Human",
          "Human",
          "Human",
          "Human",
          "Human",
          "Human",
          "Human",
          "Human",
          "Human",
          "Human",
          "Bacteria",
          "Fungus",
          "Bacteria",
          "Virus",
          "Fungus",
          "Fungus",
          "Fungus",
          "Fungus",
          "Fungus",
          "Fungus",
          "Fungus",
          "Fungus",
          "Fungus",
          "Fungus",
          "Fungus",
          "Fungus",
          "Fungus",
          "Fungus",
          "Fungus",
          "Fungus",
          "Unclassified",
          "Virus",
          "Virus",
          "Virus",
          "Virus",
          "Virus",
          "Virus",
          "Virus",
          "Virus",
          "Virus",
          "Virus",
          "Virus",
          "Virus",
          "Virus",
          "Virus",
          "Virus",
          "Virus",
          "Bacteria",
          "Unclassified"
         ],
         "x0": " ",
         "xaxis": "x",
         "y": [
          1.5736610898500714,
          0.041146894661965486,
          0.06032314103557245,
          0.050721822040230735,
          0.10239551260683863,
          62.81356209600201,
          0.07720933278040902,
          0.07164263044566929,
          0.07119586334698269,
          66.21606322034282,
          66.25079953372986,
          66.30835774370841,
          0.07348018147784137,
          1.243541385607959,
          66.49868945032313,
          0.12202154248078095,
          0.06808682547409145,
          0.07210007400984549,
          0.07234654613947357,
          0.07609767761604448,
          0.07569737689500156,
          0.10079874208064513,
          0.058714834948122935,
          0.061435116381970176,
          0.059808111904833074,
          33.475486424761556,
          33.49137699136205,
          33.41740556216461,
          34.14641514397854,
          33.24941913184269,
          2.1730853355583277,
          0.11682496352834525,
          0.08519924594102239,
          0.07630030494352102,
          0.10182849919626913,
          0.0813846971219275,
          4.550462456244858,
          0.17922548437674274,
          0.07857664390327708,
          0.08007351578476611,
          0.60798140054046,
          0.08454251176475205,
          0.06455353691534596,
          0.0994952345239446,
          0.07720649845158663,
          0.2739892399581859,
          0.08651759536028332,
          0.701975637714712,
          59.80310366914246,
          34.9556215884862,
          42.09244942662029,
          0.3382510844822403,
          36.18081079598442,
          63.499151209460756,
          39.272358452433906,
          62.62147780246493,
          57.349869003135325,
          0.06195156445735645,
          59.658094330918075,
          34.6476382705857,
          0.16271097722486544,
          65.08912979320858,
          0.06839040172692885,
          34.53972517295918,
          0.07544264938701985,
          0.06460100549341607,
          35.52790656495151,
          0.06586391389865957,
          0.04866843004853485,
          0.08076666656876767,
          0.12240531754468954,
          64.15438910698785,
          0.08263596965189265,
          0.06683065315755364,
          0.16207098277818902,
          35.5531856023825,
          63.15325752417126,
          0.9820192678586066,
          1.0669868926059185,
          0.09893423065242672,
          36.41324684357248,
          0.2164563154698605,
          62.11692119735466,
          0.08745452034465569,
          0.032552107443433766,
          64.12724429930755,
          64.19662972565054,
          0.0624563472165541,
          0.06510310374846344,
          0.07524202991831236,
          0.07823574521483845,
          0.21426941339875025,
          35.3531065787741,
          0.08699078542050731,
          0.0926554332133083,
          35.61551443069364,
          64.2902527104238,
          64.43313478741418,
          63.894786850992546,
          63.88981989574904,
          64.41525460008185,
          64.17555615662793,
          65.16837402155737,
          64.31154319847658,
          64.24245146743722,
          64.87837028318113,
          64.12182915642789,
          64.46405262227123,
          64.37238731924722,
          64.02000813911016,
          64.10118797451706,
          0.0747816451381778,
          0.07435967503545449,
          0.07802590315659429,
          0.07450775592472418,
          0.07441299390063277,
          0.07841936282269968,
          0.07413435880109022,
          0.07625296773044524,
          0.07524557968036961,
          0.0741647686629716,
          0.07591745622497989,
          0.07559296284022805,
          0.07554059461702632,
          0.07333585455004389,
          0.07570226045785766,
          0.07669702884200431,
          0.07606614597236933,
          0.07298519187813911,
          64.79129225865519,
          0.07541981278481857,
          0.0655078670977507,
          35.64255819023696,
          34.87530713634334,
          35.534313266514296,
          35.389349500325935,
          34.58887663543026,
          35.57550223163668,
          35.28807643889736,
          35.275273003631455,
          35.76864247919571,
          35.27816803617585,
          35.201990520269696,
          35.66313552052737,
          35.529043529167645,
          35.33085903077378,
          35.819577414817545,
          0.2054029593574232,
          0.035227023887730524,
          0.07049009967148502,
          0.0422794988975159,
          0.032367081201082844,
          0.0361749315393255,
          0.025184777065111127,
          0.09710958339499506,
          0.02710433324331601,
          0.06889500617031451,
          0.09818602131184442,
          0.06556002283031383,
          0.1088854542214031,
          0.055336237649915125,
          0.2590292232994632,
          0.10705926653327327,
          0.07625848500118568,
          0.06257516913953401,
          34.910191942905804,
          0.0695022582432405,
          35.72779565446678,
          0.0531682307162368,
          0.07758657333782654,
          0.06844630672280202,
          0.07233074007531498,
          0.06398367474482866,
          0.09364537515814536,
          0.0674597347550436,
          0.07465021839945454,
          0.07285226066384606,
          0.0856792199262281,
          0.09170898702141764,
          0.06447443455117413,
          0.06866274158169315,
          0.07448741464086732,
          0.06548358721603999,
          0.07793906196900433,
          0.07572618037564982,
          64.023548464327,
          0.07493579834258826,
          0.052893093276734963,
          0.05922522104833242,
          0.05157827910397759,
          0.05515922180244682,
          0.07724834112359852,
          0.0823500496951126,
          0.06969228141872126,
          0.07593743820880201,
          0.07450057394096002,
          0.07351695017084646,
          0.08110110276065266,
          0.06972967643779726,
          0.07493849300450557,
          0.08362492022622743,
          0.08818243651602582,
          35.55234860197774,
          64.0225447224986
         ],
         "y0": " ",
         "yaxis": "y"
        }
       ],
       "layout": {
        "autosize": true,
        "boxmode": "group",
        "font": {
         "size": 18
        },
        "legend": {
         "tracegroupgap": 0
        },
        "margin": {
         "t": 60
        },
        "template": {
         "data": {
          "bar": [
           {
            "error_x": {
             "color": "#2a3f5f"
            },
            "error_y": {
             "color": "#2a3f5f"
            },
            "marker": {
             "line": {
              "color": "#E5ECF6",
              "width": 0.5
             }
            },
            "type": "bar"
           }
          ],
          "barpolar": [
           {
            "marker": {
             "line": {
              "color": "#E5ECF6",
              "width": 0.5
             }
            },
            "type": "barpolar"
           }
          ],
          "carpet": [
           {
            "aaxis": {
             "endlinecolor": "#2a3f5f",
             "gridcolor": "white",
             "linecolor": "white",
             "minorgridcolor": "white",
             "startlinecolor": "#2a3f5f"
            },
            "baxis": {
             "endlinecolor": "#2a3f5f",
             "gridcolor": "white",
             "linecolor": "white",
             "minorgridcolor": "white",
             "startlinecolor": "#2a3f5f"
            },
            "type": "carpet"
           }
          ],
          "choropleth": [
           {
            "colorbar": {
             "outlinewidth": 0,
             "ticks": ""
            },
            "type": "choropleth"
           }
          ],
          "contour": [
           {
            "colorbar": {
             "outlinewidth": 0,
             "ticks": ""
            },
            "colorscale": [
             [
              0,
              "#0d0887"
             ],
             [
              0.1111111111111111,
              "#46039f"
             ],
             [
              0.2222222222222222,
              "#7201a8"
             ],
             [
              0.3333333333333333,
              "#9c179e"
             ],
             [
              0.4444444444444444,
              "#bd3786"
             ],
             [
              0.5555555555555556,
              "#d8576b"
             ],
             [
              0.6666666666666666,
              "#ed7953"
             ],
             [
              0.7777777777777778,
              "#fb9f3a"
             ],
             [
              0.8888888888888888,
              "#fdca26"
             ],
             [
              1,
              "#f0f921"
             ]
            ],
            "type": "contour"
           }
          ],
          "contourcarpet": [
           {
            "colorbar": {
             "outlinewidth": 0,
             "ticks": ""
            },
            "type": "contourcarpet"
           }
          ],
          "heatmap": [
           {
            "colorbar": {
             "outlinewidth": 0,
             "ticks": ""
            },
            "colorscale": [
             [
              0,
              "#0d0887"
             ],
             [
              0.1111111111111111,
              "#46039f"
             ],
             [
              0.2222222222222222,
              "#7201a8"
             ],
             [
              0.3333333333333333,
              "#9c179e"
             ],
             [
              0.4444444444444444,
              "#bd3786"
             ],
             [
              0.5555555555555556,
              "#d8576b"
             ],
             [
              0.6666666666666666,
              "#ed7953"
             ],
             [
              0.7777777777777778,
              "#fb9f3a"
             ],
             [
              0.8888888888888888,
              "#fdca26"
             ],
             [
              1,
              "#f0f921"
             ]
            ],
            "type": "heatmap"
           }
          ],
          "heatmapgl": [
           {
            "colorbar": {
             "outlinewidth": 0,
             "ticks": ""
            },
            "colorscale": [
             [
              0,
              "#0d0887"
             ],
             [
              0.1111111111111111,
              "#46039f"
             ],
             [
              0.2222222222222222,
              "#7201a8"
             ],
             [
              0.3333333333333333,
              "#9c179e"
             ],
             [
              0.4444444444444444,
              "#bd3786"
             ],
             [
              0.5555555555555556,
              "#d8576b"
             ],
             [
              0.6666666666666666,
              "#ed7953"
             ],
             [
              0.7777777777777778,
              "#fb9f3a"
             ],
             [
              0.8888888888888888,
              "#fdca26"
             ],
             [
              1,
              "#f0f921"
             ]
            ],
            "type": "heatmapgl"
           }
          ],
          "histogram": [
           {
            "marker": {
             "colorbar": {
              "outlinewidth": 0,
              "ticks": ""
             }
            },
            "type": "histogram"
           }
          ],
          "histogram2d": [
           {
            "colorbar": {
             "outlinewidth": 0,
             "ticks": ""
            },
            "colorscale": [
             [
              0,
              "#0d0887"
             ],
             [
              0.1111111111111111,
              "#46039f"
             ],
             [
              0.2222222222222222,
              "#7201a8"
             ],
             [
              0.3333333333333333,
              "#9c179e"
             ],
             [
              0.4444444444444444,
              "#bd3786"
             ],
             [
              0.5555555555555556,
              "#d8576b"
             ],
             [
              0.6666666666666666,
              "#ed7953"
             ],
             [
              0.7777777777777778,
              "#fb9f3a"
             ],
             [
              0.8888888888888888,
              "#fdca26"
             ],
             [
              1,
              "#f0f921"
             ]
            ],
            "type": "histogram2d"
           }
          ],
          "histogram2dcontour": [
           {
            "colorbar": {
             "outlinewidth": 0,
             "ticks": ""
            },
            "colorscale": [
             [
              0,
              "#0d0887"
             ],
             [
              0.1111111111111111,
              "#46039f"
             ],
             [
              0.2222222222222222,
              "#7201a8"
             ],
             [
              0.3333333333333333,
              "#9c179e"
             ],
             [
              0.4444444444444444,
              "#bd3786"
             ],
             [
              0.5555555555555556,
              "#d8576b"
             ],
             [
              0.6666666666666666,
              "#ed7953"
             ],
             [
              0.7777777777777778,
              "#fb9f3a"
             ],
             [
              0.8888888888888888,
              "#fdca26"
             ],
             [
              1,
              "#f0f921"
             ]
            ],
            "type": "histogram2dcontour"
           }
          ],
          "mesh3d": [
           {
            "colorbar": {
             "outlinewidth": 0,
             "ticks": ""
            },
            "type": "mesh3d"
           }
          ],
          "parcoords": [
           {
            "line": {
             "colorbar": {
              "outlinewidth": 0,
              "ticks": ""
             }
            },
            "type": "parcoords"
           }
          ],
          "pie": [
           {
            "automargin": true,
            "type": "pie"
           }
          ],
          "scatter": [
           {
            "marker": {
             "colorbar": {
              "outlinewidth": 0,
              "ticks": ""
             }
            },
            "type": "scatter"
           }
          ],
          "scatter3d": [
           {
            "line": {
             "colorbar": {
              "outlinewidth": 0,
              "ticks": ""
             }
            },
            "marker": {
             "colorbar": {
              "outlinewidth": 0,
              "ticks": ""
             }
            },
            "type": "scatter3d"
           }
          ],
          "scattercarpet": [
           {
            "marker": {
             "colorbar": {
              "outlinewidth": 0,
              "ticks": ""
             }
            },
            "type": "scattercarpet"
           }
          ],
          "scattergeo": [
           {
            "marker": {
             "colorbar": {
              "outlinewidth": 0,
              "ticks": ""
             }
            },
            "type": "scattergeo"
           }
          ],
          "scattergl": [
           {
            "marker": {
             "colorbar": {
              "outlinewidth": 0,
              "ticks": ""
             }
            },
            "type": "scattergl"
           }
          ],
          "scattermapbox": [
           {
            "marker": {
             "colorbar": {
              "outlinewidth": 0,
              "ticks": ""
             }
            },
            "type": "scattermapbox"
           }
          ],
          "scatterpolar": [
           {
            "marker": {
             "colorbar": {
              "outlinewidth": 0,
              "ticks": ""
             }
            },
            "type": "scatterpolar"
           }
          ],
          "scatterpolargl": [
           {
            "marker": {
             "colorbar": {
              "outlinewidth": 0,
              "ticks": ""
             }
            },
            "type": "scatterpolargl"
           }
          ],
          "scatterternary": [
           {
            "marker": {
             "colorbar": {
              "outlinewidth": 0,
              "ticks": ""
             }
            },
            "type": "scatterternary"
           }
          ],
          "surface": [
           {
            "colorbar": {
             "outlinewidth": 0,
             "ticks": ""
            },
            "colorscale": [
             [
              0,
              "#0d0887"
             ],
             [
              0.1111111111111111,
              "#46039f"
             ],
             [
              0.2222222222222222,
              "#7201a8"
             ],
             [
              0.3333333333333333,
              "#9c179e"
             ],
             [
              0.4444444444444444,
              "#bd3786"
             ],
             [
              0.5555555555555556,
              "#d8576b"
             ],
             [
              0.6666666666666666,
              "#ed7953"
             ],
             [
              0.7777777777777778,
              "#fb9f3a"
             ],
             [
              0.8888888888888888,
              "#fdca26"
             ],
             [
              1,
              "#f0f921"
             ]
            ],
            "type": "surface"
           }
          ],
          "table": [
           {
            "cells": {
             "fill": {
              "color": "#EBF0F8"
             },
             "line": {
              "color": "white"
             }
            },
            "header": {
             "fill": {
              "color": "#C8D4E3"
             },
             "line": {
              "color": "white"
             }
            },
            "type": "table"
           }
          ]
         },
         "layout": {
          "annotationdefaults": {
           "arrowcolor": "#2a3f5f",
           "arrowhead": 0,
           "arrowwidth": 1
          },
          "coloraxis": {
           "colorbar": {
            "outlinewidth": 0,
            "ticks": ""
           }
          },
          "colorscale": {
           "diverging": [
            [
             0,
             "#8e0152"
            ],
            [
             0.1,
             "#c51b7d"
            ],
            [
             0.2,
             "#de77ae"
            ],
            [
             0.3,
             "#f1b6da"
            ],
            [
             0.4,
             "#fde0ef"
            ],
            [
             0.5,
             "#f7f7f7"
            ],
            [
             0.6,
             "#e6f5d0"
            ],
            [
             0.7,
             "#b8e186"
            ],
            [
             0.8,
             "#7fbc41"
            ],
            [
             0.9,
             "#4d9221"
            ],
            [
             1,
             "#276419"
            ]
           ],
           "sequential": [
            [
             0,
             "#0d0887"
            ],
            [
             0.1111111111111111,
             "#46039f"
            ],
            [
             0.2222222222222222,
             "#7201a8"
            ],
            [
             0.3333333333333333,
             "#9c179e"
            ],
            [
             0.4444444444444444,
             "#bd3786"
            ],
            [
             0.5555555555555556,
             "#d8576b"
            ],
            [
             0.6666666666666666,
             "#ed7953"
            ],
            [
             0.7777777777777778,
             "#fb9f3a"
            ],
            [
             0.8888888888888888,
             "#fdca26"
            ],
            [
             1,
             "#f0f921"
            ]
           ],
           "sequentialminus": [
            [
             0,
             "#0d0887"
            ],
            [
             0.1111111111111111,
             "#46039f"
            ],
            [
             0.2222222222222222,
             "#7201a8"
            ],
            [
             0.3333333333333333,
             "#9c179e"
            ],
            [
             0.4444444444444444,
             "#bd3786"
            ],
            [
             0.5555555555555556,
             "#d8576b"
            ],
            [
             0.6666666666666666,
             "#ed7953"
            ],
            [
             0.7777777777777778,
             "#fb9f3a"
            ],
            [
             0.8888888888888888,
             "#fdca26"
            ],
            [
             1,
             "#f0f921"
            ]
           ]
          },
          "colorway": [
           "#636efa",
           "#EF553B",
           "#00cc96",
           "#ab63fa",
           "#FFA15A",
           "#19d3f3",
           "#FF6692",
           "#B6E880",
           "#FF97FF",
           "#FECB52"
          ],
          "font": {
           "color": "#2a3f5f"
          },
          "geo": {
           "bgcolor": "white",
           "lakecolor": "white",
           "landcolor": "#E5ECF6",
           "showlakes": true,
           "showland": true,
           "subunitcolor": "white"
          },
          "hoverlabel": {
           "align": "left"
          },
          "hovermode": "closest",
          "mapbox": {
           "style": "light"
          },
          "paper_bgcolor": "white",
          "plot_bgcolor": "#E5ECF6",
          "polar": {
           "angularaxis": {
            "gridcolor": "white",
            "linecolor": "white",
            "ticks": ""
           },
           "bgcolor": "#E5ECF6",
           "radialaxis": {
            "gridcolor": "white",
            "linecolor": "white",
            "ticks": ""
           }
          },
          "scene": {
           "xaxis": {
            "backgroundcolor": "#E5ECF6",
            "gridcolor": "white",
            "gridwidth": 2,
            "linecolor": "white",
            "showbackground": true,
            "ticks": "",
            "zerolinecolor": "white"
           },
           "yaxis": {
            "backgroundcolor": "#E5ECF6",
            "gridcolor": "white",
            "gridwidth": 2,
            "linecolor": "white",
            "showbackground": true,
            "ticks": "",
            "zerolinecolor": "white"
           },
           "zaxis": {
            "backgroundcolor": "#E5ECF6",
            "gridcolor": "white",
            "gridwidth": 2,
            "linecolor": "white",
            "showbackground": true,
            "ticks": "",
            "zerolinecolor": "white"
           }
          },
          "shapedefaults": {
           "line": {
            "color": "#2a3f5f"
           }
          },
          "ternary": {
           "aaxis": {
            "gridcolor": "white",
            "linecolor": "white",
            "ticks": ""
           },
           "baxis": {
            "gridcolor": "white",
            "linecolor": "white",
            "ticks": ""
           },
           "bgcolor": "#E5ECF6",
           "caxis": {
            "gridcolor": "white",
            "linecolor": "white",
            "ticks": ""
           }
          },
          "title": {
           "x": 0.05
          },
          "xaxis": {
           "automargin": true,
           "gridcolor": "white",
           "linecolor": "white",
           "ticks": "",
           "title": {
            "standoff": 15
           },
           "zerolinecolor": "white",
           "zerolinewidth": 2
          },
          "yaxis": {
           "automargin": true,
           "gridcolor": "white",
           "linecolor": "white",
           "ticks": "",
           "title": {
            "standoff": 15
           },
           "zerolinecolor": "white",
           "zerolinewidth": 2
          }
         }
        },
        "xaxis": {
         "anchor": "y",
         "autorange": true,
         "categoryarray": [
          "Human",
          "Bacteria",
          "Virus",
          "Fungus",
          "Parasite",
          "Unclassified"
         ],
         "categoryorder": "array",
         "domain": [
          0,
          1
         ],
         "range": [
          -0.8964942876344085,
          5.836657594086022
         ],
         "title": {
          "text": "Organism"
         },
         "type": "category"
        },
        "yaxis": {
         "anchor": "x",
         "autorange": true,
         "domain": [
          0,
          1
         ],
         "range": [
          -1.7889549433456733,
          2.0129061405489423
         ],
         "title": {
          "text": "% Composition"
         },
         "type": "log"
        }
       }
      },
      "image/png": "[encoded data removed]",
      "text/html": [
       "<div>\n",
       "        \n",
       "        \n",
       "            <div id=\"d8024439-74a4-4a2a-8e9a-cc715161bbb2\" class=\"plotly-graph-div\" style=\"height:700px; width:100%;\"></div>\n",
       "            <script type=\"text/javascript\">\n",
       "                require([\"plotly\"], function(Plotly) {\n",
       "                    window.PLOTLYENV=window.PLOTLYENV || {};\n",
       "                    \n",
       "                if (document.getElementById(\"d8024439-74a4-4a2a-8e9a-cc715161bbb2\")) {\n",
       "                    Plotly.newPlot(\n",
       "                        'd8024439-74a4-4a2a-8e9a-cc715161bbb2',\n",
       "                        [{\"alignmentgroup\": \"True\", \"boxpoints\": \"all\", \"customdata\": [[\"2019-11-21\"], [\"2019-11-21\"], [\"2019-11-21\"], [\"2019-11-21\"], [\"2019-11-21\"], [\"2019-11-21\"], [\"2019-11-24\"], [\"2019-11-24\"], [\"2019-11-24\"], [\"2019-11-24\"], [\"2019-11-24\"], [\"2019-11-24\"], [\"2019-11-26\"], [\"2019-11-26\"], [\"2019-11-26\"], [\"2019-11-26\"], [\"2019-11-26\"], [\"2019-11-26\"], [\"2019-11-27\"], [\"2019-11-27\"], [\"2019-11-27\"], [\"2019-11-27\"], [\"2019-11-27\"], [\"2019-11-27\"], [\"2019-12-01\"], [\"2019-12-01\"], [\"2019-12-01\"], [\"2019-12-01\"], [\"2019-12-01\"], [\"2019-12-01\"], [\"2019-12-04\"], [\"2019-12-04\"], [\"2019-12-04\"], [\"2019-12-04\"], [\"2019-12-04\"], [\"2019-12-04\"], [\"2019-12-10\"], [\"2019-12-10\"], [\"2019-12-10\"], [\"2019-12-10\"], [\"2019-12-10\"], [\"2019-12-10\"]], \"hoverlabel\": {\"namelength\": 0}, \"hovertemplate\": \"Neg Ctrl Matrix=Old<br>Organism=%{x}<br>% Composition=%{y}<br>Run Date=%{customdata[0]}\", \"legendgroup\": \"Neg Ctrl Matrix=Old\", \"marker\": {\"color\": \"#636efa\"}, \"name\": \"Neg Ctrl Matrix=Old\", \"notched\": false, \"offsetgroup\": \"Neg Ctrl Matrix=Old\", \"orientation\": \"v\", \"showlegend\": true, \"type\": \"box\", \"x\": [\"Human\", \"Virus\", \"Unclassified\", \"Parasite\", \"Fungus\", \"Bacteria\", \"Human\", \"Virus\", \"Unclassified\", \"Bacteria\", \"Parasite\", \"Fungus\", \"Human\", \"Fungus\", \"Parasite\", \"Virus\", \"Bacteria\", \"Unclassified\", \"Fungus\", \"Parasite\", \"Unclassified\", \"Bacteria\", \"Virus\", \"Human\", \"Parasite\", \"Human\", \"Fungus\", \"Bacteria\", \"Virus\", \"Unclassified\", \"Virus\", \"Parasite\", \"Human\", \"Fungus\", \"Bacteria\", \"Unclassified\", \"Bacteria\", \"Fungus\", \"Virus\", \"Human\", \"Parasite\", \"Unclassified\"], \"x0\": \" \", \"xaxis\": \"x\", \"y\": [0.7930514586857329, 1.4972034994802401, 62.34470503099991, 0.08081509483792526, 0.10946661099550467, 35.174758305000694, 0.8817071325347272, 1.6360784374588848, 61.988766934165966, 35.28999941093952, 0.08039440949861783, 0.12305367540228067, 0.6219610344079578, 0.1033184583902778, 0.1110664932043278, 1.648292458862636, 35.43027929739824, 62.085082257736566, 0.1807737696492336, 0.17993552427617218, 62.67684925722081, 33.657064087200034, 1.7028808207348376, 1.6024965409189185, 0.08727378807261818, 0.8654987043488971, 0.11937016115554835, 35.08228665039362, 2.1036490382704844, 61.74192165775883, 1.7681285346078384, 0.12909095024110534, 0.8336343923975765, 0.2556974187085221, 34.620391321761886, 62.39305738228307, 33.102240490727375, 0.23745227674830055, 2.34631591527826, 1.0271854811332306, 0.0838726754276304, 63.20293316068521], \"y0\": \" \", \"yaxis\": \"y\"}, {\"alignmentgroup\": \"True\", \"boxpoints\": \"all\", \"customdata\": [[\"2019-12-11\"], [\"2019-12-11\"], [\"2019-12-11\"], [\"2019-12-11\"], [\"2019-12-11\"], [\"2019-12-11\"], [\"2019-12-11\"], [\"2019-12-11\"], [\"2019-12-11\"], [\"2019-12-11\"], [\"2019-12-11\"], [\"2019-12-11\"], [\"2019-12-11\"], [\"2019-12-11\"], [\"2019-12-11\"], [\"2019-12-11\"], [\"2019-12-11\"], [\"2019-12-11\"], [\"2019-12-11\"], [\"2019-12-11\"], [\"2019-12-11\"], [\"2019-12-11\"], [\"2019-12-11\"], [\"2019-12-11\"], [\"2019-12-11\"], [\"2019-12-11\"], [\"2019-12-11\"], [\"2019-12-11\"], [\"2019-12-11\"], [\"2019-12-11\"], [\"2019-12-13\"], [\"2019-12-13\"], [\"2019-12-13\"], [\"2019-12-13\"], [\"2019-12-13\"], [\"2019-12-13\"], [\"2019-12-13\"], [\"2019-12-13\"], [\"2019-12-13\"], [\"2019-12-13\"], [\"2019-12-13\"], [\"2019-12-13\"], [\"2019-12-13\"], [\"2019-12-13\"], [\"2019-12-13\"], [\"2019-12-13\"], [\"2019-12-13\"], [\"2019-12-13\"], [\"2019-12-13\"], [\"2019-12-13\"], [\"2019-12-13\"], [\"2019-12-13\"], [\"2019-12-13\"], [\"2019-12-13\"], [\"2019-12-13\"], [\"2019-12-13\"], [\"2019-12-13\"], [\"2019-12-13\"], [\"2019-12-13\"], [\"2019-12-13\"], [\"2019-12-20\"], [\"2019-12-20\"], [\"2019-12-20\"], [\"2019-12-20\"], [\"2019-12-20\"], [\"2019-12-20\"], [\"2019-12-24\"], [\"2019-12-24\"], [\"2019-12-24\"], [\"2019-12-24\"], [\"2019-12-24\"], [\"2019-12-24\"], [\"2019-12-25\"], [\"2019-12-25\"], [\"2019-12-25\"], [\"2019-12-25\"], [\"2019-12-25\"], [\"2019-12-25\"], [\"2020-01-17\"], [\"2020-01-17\"], [\"2020-01-17\"], [\"2020-01-17\"], [\"2020-01-17\"], [\"2020-01-17\"], [\"2020-01-18\"], [\"2020-01-18\"], [\"2020-01-18\"], [\"2020-01-18\"], [\"2020-01-18\"], [\"2020-01-18\"], [\"2020-01-18\"], [\"2020-01-18\"], [\"2020-01-18\"], [\"2020-01-18\"], [\"2020-01-18\"], [\"2020-01-18\"], [\"2020-01-20\"], [\"2020-01-20\"], [\"2020-01-20\"], [\"2020-01-20\"], [\"2020-01-20\"], [\"2020-01-20\"], [\"2020-01-20\"], [\"2020-01-20\"], [\"2020-01-20\"], [\"2020-01-20\"], [\"2020-01-20\"], [\"2020-01-20\"], [\"2020-01-20\"], [\"2020-01-20\"], [\"2020-01-20\"], [\"2020-01-20\"], [\"2020-01-20\"], [\"2020-01-20\"], [\"2020-01-20\"], [\"2020-01-20\"], [\"2020-01-20\"], [\"2020-01-20\"], [\"2020-01-20\"], [\"2020-01-20\"], [\"2020-01-20\"], [\"2020-01-20\"], [\"2020-01-20\"], [\"2020-01-20\"], [\"2020-01-20\"], [\"2020-01-20\"], [\"2020-01-20\"], [\"2020-01-20\"], [\"2020-01-20\"], [\"2020-01-20\"], [\"2020-01-20\"], [\"2020-01-20\"], [\"2020-01-20\"], [\"2020-01-20\"], [\"2020-01-20\"], [\"2020-01-20\"], [\"2020-01-20\"], [\"2020-01-20\"], [\"2020-01-20\"], [\"2020-01-20\"], [\"2020-01-20\"], [\"2020-01-20\"], [\"2020-01-20\"], [\"2020-01-20\"], [\"2020-01-20\"], [\"2020-01-20\"], [\"2020-01-20\"], [\"2020-01-20\"], [\"2020-01-20\"], [\"2020-01-20\"], [\"2020-01-20\"], [\"2020-01-20\"], [\"2020-01-20\"], [\"2020-01-20\"], [\"2020-01-20\"], [\"2020-01-20\"], [\"2020-01-20\"], [\"2020-01-20\"], [\"2020-01-20\"], [\"2020-01-20\"], [\"2020-01-20\"], [\"2020-01-20\"], [\"2020-01-20\"], [\"2020-01-20\"], [\"2020-01-20\"], [\"2020-01-20\"], [\"2020-01-20\"], [\"2020-01-20\"], [\"2020-01-20\"], [\"2020-01-20\"], [\"2020-01-20\"], [\"2020-01-20\"], [\"2020-01-20\"], [\"2020-01-20\"], [\"2020-01-20\"], [\"2020-01-20\"], [\"2020-01-20\"], [\"2020-01-20\"], [\"2020-01-20\"], [\"2020-01-20\"], [\"2020-01-20\"], [\"2020-01-20\"], [\"2020-01-20\"], [\"2020-01-20\"], [\"2020-01-20\"], [\"2020-01-20\"], [\"2020-01-20\"], [\"2020-01-20\"], [\"2020-01-20\"], [\"2020-01-20\"], [\"2020-01-20\"], [\"2020-01-20\"], [\"2020-01-20\"], [\"2020-01-20\"], [\"2020-01-20\"], [\"2020-01-20\"], [\"2020-01-20\"], [\"2020-01-20\"], [\"2020-01-20\"], [\"2020-01-20\"], [\"2020-01-20\"], [\"2020-01-20\"], [\"2020-01-20\"], [\"2020-01-20\"]], \"hoverlabel\": {\"namelength\": 0}, \"hovertemplate\": \"Neg Ctrl Matrix=New<br>Organism=%{x}<br>% Composition=%{y}<br>Run Date=%{customdata[0]}\", \"legendgroup\": \"Neg Ctrl Matrix=New\", \"marker\": {\"color\": \"#EF553B\"}, \"name\": \"Neg Ctrl Matrix=New\", \"notched\": false, \"offsetgroup\": \"Neg Ctrl Matrix=New\", \"orientation\": \"v\", \"showlegend\": true, \"type\": \"box\", \"x\": [\"Human\", \"Human\", \"Human\", \"Human\", \"Human\", \"Unclassified\", \"Virus\", \"Virus\", \"Virus\", \"Unclassified\", \"Unclassified\", \"Unclassified\", \"Virus\", \"Virus\", \"Unclassified\", \"Parasite\", \"Fungus\", \"Parasite\", \"Parasite\", \"Parasite\", \"Parasite\", \"Fungus\", \"Fungus\", \"Fungus\", \"Fungus\", \"Bacteria\", \"Bacteria\", \"Bacteria\", \"Bacteria\", \"Bacteria\", \"Human\", \"Parasite\", \"Parasite\", \"Parasite\", \"Parasite\", \"Fungus\", \"Human\", \"Fungus\", \"Fungus\", \"Fungus\", \"Virus\", \"Virus\", \"Virus\", \"Virus\", \"Parasite\", \"Fungus\", \"Virus\", \"Human\", \"Bacteria\", \"Bacteria\", \"Bacteria\", \"Human\", \"Bacteria\", \"Unclassified\", \"Bacteria\", \"Unclassified\", \"Unclassified\", \"Human\", \"Unclassified\", \"Unclassified\", \"Human\", \"Unclassified\", \"Virus\", \"Bacteria\", \"Parasite\", \"Fungus\", \"Bacteria\", \"Fungus\", \"Human\", \"Virus\", \"Parasite\", \"Unclassified\", \"Virus\", \"Fungus\", \"Parasite\", \"Bacteria\", \"Unclassified\", \"Human\", \"Human\", \"Virus\", \"Bacteria\", \"Fungus\", \"Unclassified\", \"Parasite\", \"Human\", \"Unclassified\", \"Unclassified\", \"Fungus\", \"Fungus\", \"Parasite\", \"Parasite\", \"Human\", \"Bacteria\", \"Virus\", \"Virus\", \"Bacteria\", \"Unclassified\", \"Unclassified\", \"Unclassified\", \"Unclassified\", \"Unclassified\", \"Unclassified\", \"Unclassified\", \"Unclassified\", \"Unclassified\", \"Unclassified\", \"Unclassified\", \"Unclassified\", \"Unclassified\", \"Unclassified\", \"Unclassified\", \"Parasite\", \"Parasite\", \"Parasite\", \"Parasite\", \"Parasite\", \"Parasite\", \"Parasite\", \"Parasite\", \"Parasite\", \"Parasite\", \"Parasite\", \"Parasite\", \"Parasite\", \"Parasite\", \"Parasite\", \"Parasite\", \"Parasite\", \"Parasite\", \"Unclassified\", \"Virus\", \"Fungus\", \"Bacteria\", \"Bacteria\", \"Bacteria\", \"Bacteria\", \"Bacteria\", \"Bacteria\", \"Bacteria\", \"Bacteria\", \"Bacteria\", \"Bacteria\", \"Bacteria\", \"Bacteria\", \"Bacteria\", \"Bacteria\", \"Bacteria\", \"Human\", \"Human\", \"Human\", \"Human\", \"Human\", \"Human\", \"Human\", \"Human\", \"Human\", \"Human\", \"Human\", \"Human\", \"Human\", \"Human\", \"Human\", \"Human\", \"Human\", \"Human\", \"Bacteria\", \"Fungus\", \"Bacteria\", \"Virus\", \"Fungus\", \"Fungus\", \"Fungus\", \"Fungus\", \"Fungus\", \"Fungus\", \"Fungus\", \"Fungus\", \"Fungus\", \"Fungus\", \"Fungus\", \"Fungus\", \"Fungus\", \"Fungus\", \"Fungus\", \"Fungus\", \"Unclassified\", \"Virus\", \"Virus\", \"Virus\", \"Virus\", \"Virus\", \"Virus\", \"Virus\", \"Virus\", \"Virus\", \"Virus\", \"Virus\", \"Virus\", \"Virus\", \"Virus\", \"Virus\", \"Virus\", \"Bacteria\", \"Unclassified\"], \"x0\": \" \", \"xaxis\": \"x\", \"y\": [1.5736610898500714, 0.041146894661965486, 0.06032314103557245, 0.050721822040230735, 0.10239551260683863, 62.81356209600201, 0.07720933278040902, 0.07164263044566929, 0.07119586334698269, 66.21606322034282, 66.25079953372986, 66.30835774370841, 0.07348018147784137, 1.243541385607959, 66.49868945032313, 0.12202154248078095, 0.06808682547409145, 0.07210007400984549, 0.07234654613947357, 0.07609767761604448, 0.07569737689500156, 0.10079874208064513, 0.058714834948122935, 0.061435116381970176, 0.059808111904833074, 33.475486424761556, 33.49137699136205, 33.41740556216461, 34.14641514397854, 33.24941913184269, 2.1730853355583277, 0.11682496352834525, 0.08519924594102239, 0.07630030494352102, 0.10182849919626913, 0.0813846971219275, 4.550462456244858, 0.17922548437674274, 0.07857664390327708, 0.08007351578476611, 0.60798140054046, 0.08454251176475205, 0.06455353691534596, 0.0994952345239446, 0.07720649845158663, 0.2739892399581859, 0.08651759536028332, 0.701975637714712, 59.80310366914246, 34.9556215884862, 42.09244942662029, 0.3382510844822403, 36.18081079598442, 63.499151209460756, 39.272358452433906, 62.62147780246493, 57.349869003135325, 0.06195156445735645, 59.658094330918075, 34.6476382705857, 0.16271097722486544, 65.08912979320858, 0.06839040172692885, 34.53972517295918, 0.07544264938701985, 0.06460100549341607, 35.52790656495151, 0.06586391389865957, 0.04866843004853485, 0.08076666656876767, 0.12240531754468954, 64.15438910698785, 0.08263596965189265, 0.06683065315755364, 0.16207098277818902, 35.5531856023825, 63.15325752417126, 0.9820192678586066, 1.0669868926059185, 0.09893423065242672, 36.41324684357248, 0.2164563154698605, 62.11692119735466, 0.08745452034465569, 0.032552107443433766, 64.12724429930755, 64.19662972565054, 0.0624563472165541, 0.06510310374846344, 0.07524202991831236, 0.07823574521483845, 0.21426941339875025, 35.3531065787741, 0.08699078542050731, 0.0926554332133083, 35.61551443069364, 64.2902527104238, 64.43313478741418, 63.894786850992546, 63.88981989574904, 64.41525460008185, 64.17555615662793, 65.16837402155737, 64.31154319847658, 64.24245146743722, 64.87837028318113, 64.12182915642789, 64.46405262227123, 64.37238731924722, 64.02000813911016, 64.10118797451706, 0.0747816451381778, 0.07435967503545449, 0.07802590315659429, 0.07450775592472418, 0.07441299390063277, 0.07841936282269968, 0.07413435880109022, 0.07625296773044524, 0.07524557968036961, 0.0741647686629716, 0.07591745622497989, 0.07559296284022805, 0.07554059461702632, 0.07333585455004389, 0.07570226045785766, 0.07669702884200431, 0.07606614597236933, 0.07298519187813911, 64.79129225865519, 0.07541981278481857, 0.0655078670977507, 35.64255819023696, 34.87530713634334, 35.534313266514296, 35.389349500325935, 34.58887663543026, 35.57550223163668, 35.28807643889736, 35.275273003631455, 35.76864247919571, 35.27816803617585, 35.201990520269696, 35.66313552052737, 35.529043529167645, 35.33085903077378, 35.819577414817545, 0.2054029593574232, 0.035227023887730524, 0.07049009967148502, 0.0422794988975159, 0.032367081201082844, 0.0361749315393255, 0.025184777065111127, 0.09710958339499506, 0.02710433324331601, 0.06889500617031451, 0.09818602131184442, 0.06556002283031383, 0.1088854542214031, 0.055336237649915125, 0.2590292232994632, 0.10705926653327327, 0.07625848500118568, 0.06257516913953401, 34.910191942905804, 0.0695022582432405, 35.72779565446678, 0.0531682307162368, 0.07758657333782654, 0.06844630672280202, 0.07233074007531498, 0.06398367474482866, 0.09364537515814536, 0.0674597347550436, 0.07465021839945454, 0.07285226066384606, 0.0856792199262281, 0.09170898702141764, 0.06447443455117413, 0.06866274158169315, 0.07448741464086732, 0.06548358721603999, 0.07793906196900433, 0.07572618037564982, 64.023548464327, 0.07493579834258826, 0.052893093276734963, 0.05922522104833242, 0.05157827910397759, 0.05515922180244682, 0.07724834112359852, 0.0823500496951126, 0.06969228141872126, 0.07593743820880201, 0.07450057394096002, 0.07351695017084646, 0.08110110276065266, 0.06972967643779726, 0.07493849300450557, 0.08362492022622743, 0.08818243651602582, 35.55234860197774, 64.0225447224986], \"y0\": \" \", \"yaxis\": \"y\"}],\n",
       "                        {\"boxmode\": \"group\", \"font\": {\"size\": 18}, \"height\": 700, \"legend\": {\"tracegroupgap\": 0}, \"margin\": {\"t\": 60}, \"template\": {\"data\": {\"bar\": [{\"error_x\": {\"color\": \"#2a3f5f\"}, \"error_y\": {\"color\": \"#2a3f5f\"}, \"marker\": {\"line\": {\"color\": \"#E5ECF6\", \"width\": 0.5}}, \"type\": \"bar\"}], \"barpolar\": [{\"marker\": {\"line\": {\"color\": \"#E5ECF6\", \"width\": 0.5}}, \"type\": \"barpolar\"}], \"carpet\": [{\"aaxis\": {\"endlinecolor\": \"#2a3f5f\", \"gridcolor\": \"white\", \"linecolor\": \"white\", \"minorgridcolor\": \"white\", \"startlinecolor\": \"#2a3f5f\"}, \"baxis\": {\"endlinecolor\": \"#2a3f5f\", \"gridcolor\": \"white\", \"linecolor\": \"white\", \"minorgridcolor\": \"white\", \"startlinecolor\": \"#2a3f5f\"}, \"type\": \"carpet\"}], \"choropleth\": [{\"colorbar\": {\"outlinewidth\": 0, \"ticks\": \"\"}, \"type\": \"choropleth\"}], \"contour\": [{\"colorbar\": {\"outlinewidth\": 0, \"ticks\": \"\"}, \"colorscale\": [[0.0, \"#0d0887\"], [0.1111111111111111, \"#46039f\"], [0.2222222222222222, \"#7201a8\"], [0.3333333333333333, \"#9c179e\"], [0.4444444444444444, \"#bd3786\"], [0.5555555555555556, \"#d8576b\"], [0.6666666666666666, \"#ed7953\"], [0.7777777777777778, \"#fb9f3a\"], [0.8888888888888888, \"#fdca26\"], [1.0, \"#f0f921\"]], \"type\": \"contour\"}], \"contourcarpet\": [{\"colorbar\": {\"outlinewidth\": 0, \"ticks\": \"\"}, \"type\": \"contourcarpet\"}], \"heatmap\": [{\"colorbar\": {\"outlinewidth\": 0, \"ticks\": \"\"}, \"colorscale\": [[0.0, \"#0d0887\"], [0.1111111111111111, \"#46039f\"], [0.2222222222222222, \"#7201a8\"], [0.3333333333333333, \"#9c179e\"], [0.4444444444444444, \"#bd3786\"], [0.5555555555555556, \"#d8576b\"], [0.6666666666666666, \"#ed7953\"], [0.7777777777777778, \"#fb9f3a\"], [0.8888888888888888, \"#fdca26\"], [1.0, \"#f0f921\"]], \"type\": \"heatmap\"}], \"heatmapgl\": [{\"colorbar\": {\"outlinewidth\": 0, \"ticks\": \"\"}, \"colorscale\": [[0.0, \"#0d0887\"], [0.1111111111111111, \"#46039f\"], [0.2222222222222222, \"#7201a8\"], [0.3333333333333333, \"#9c179e\"], [0.4444444444444444, \"#bd3786\"], [0.5555555555555556, \"#d8576b\"], [0.6666666666666666, \"#ed7953\"], [0.7777777777777778, \"#fb9f3a\"], [0.8888888888888888, \"#fdca26\"], [1.0, \"#f0f921\"]], \"type\": \"heatmapgl\"}], \"histogram\": [{\"marker\": {\"colorbar\": {\"outlinewidth\": 0, \"ticks\": \"\"}}, \"type\": \"histogram\"}], \"histogram2d\": [{\"colorbar\": {\"outlinewidth\": 0, \"ticks\": \"\"}, \"colorscale\": [[0.0, \"#0d0887\"], [0.1111111111111111, \"#46039f\"], [0.2222222222222222, \"#7201a8\"], [0.3333333333333333, \"#9c179e\"], [0.4444444444444444, \"#bd3786\"], [0.5555555555555556, \"#d8576b\"], [0.6666666666666666, \"#ed7953\"], [0.7777777777777778, \"#fb9f3a\"], [0.8888888888888888, \"#fdca26\"], [1.0, \"#f0f921\"]], \"type\": \"histogram2d\"}], \"histogram2dcontour\": [{\"colorbar\": {\"outlinewidth\": 0, \"ticks\": \"\"}, \"colorscale\": [[0.0, \"#0d0887\"], [0.1111111111111111, \"#46039f\"], [0.2222222222222222, \"#7201a8\"], [0.3333333333333333, \"#9c179e\"], [0.4444444444444444, \"#bd3786\"], [0.5555555555555556, \"#d8576b\"], [0.6666666666666666, \"#ed7953\"], [0.7777777777777778, \"#fb9f3a\"], [0.8888888888888888, \"#fdca26\"], [1.0, \"#f0f921\"]], \"type\": \"histogram2dcontour\"}], \"mesh3d\": [{\"colorbar\": {\"outlinewidth\": 0, \"ticks\": \"\"}, \"type\": \"mesh3d\"}], \"parcoords\": [{\"line\": {\"colorbar\": {\"outlinewidth\": 0, \"ticks\": \"\"}}, \"type\": \"parcoords\"}], \"pie\": [{\"automargin\": true, \"type\": \"pie\"}], \"scatter\": [{\"marker\": {\"colorbar\": {\"outlinewidth\": 0, \"ticks\": \"\"}}, \"type\": \"scatter\"}], \"scatter3d\": [{\"line\": {\"colorbar\": {\"outlinewidth\": 0, \"ticks\": \"\"}}, \"marker\": {\"colorbar\": {\"outlinewidth\": 0, \"ticks\": \"\"}}, \"type\": \"scatter3d\"}], \"scattercarpet\": [{\"marker\": {\"colorbar\": {\"outlinewidth\": 0, \"ticks\": \"\"}}, \"type\": \"scattercarpet\"}], \"scattergeo\": [{\"marker\": {\"colorbar\": {\"outlinewidth\": 0, \"ticks\": \"\"}}, \"type\": \"scattergeo\"}], \"scattergl\": [{\"marker\": {\"colorbar\": {\"outlinewidth\": 0, \"ticks\": \"\"}}, \"type\": \"scattergl\"}], \"scattermapbox\": [{\"marker\": {\"colorbar\": {\"outlinewidth\": 0, \"ticks\": \"\"}}, \"type\": \"scattermapbox\"}], \"scatterpolar\": [{\"marker\": {\"colorbar\": {\"outlinewidth\": 0, \"ticks\": \"\"}}, \"type\": \"scatterpolar\"}], \"scatterpolargl\": [{\"marker\": {\"colorbar\": {\"outlinewidth\": 0, \"ticks\": \"\"}}, \"type\": \"scatterpolargl\"}], \"scatterternary\": [{\"marker\": {\"colorbar\": {\"outlinewidth\": 0, \"ticks\": \"\"}}, \"type\": \"scatterternary\"}], \"surface\": [{\"colorbar\": {\"outlinewidth\": 0, \"ticks\": \"\"}, \"colorscale\": [[0.0, \"#0d0887\"], [0.1111111111111111, \"#46039f\"], [0.2222222222222222, \"#7201a8\"], [0.3333333333333333, \"#9c179e\"], [0.4444444444444444, \"#bd3786\"], [0.5555555555555556, \"#d8576b\"], [0.6666666666666666, \"#ed7953\"], [0.7777777777777778, \"#fb9f3a\"], [0.8888888888888888, \"#fdca26\"], [1.0, \"#f0f921\"]], \"type\": \"surface\"}], \"table\": [{\"cells\": {\"fill\": {\"color\": \"#EBF0F8\"}, \"line\": {\"color\": \"white\"}}, \"header\": {\"fill\": {\"color\": \"#C8D4E3\"}, \"line\": {\"color\": \"white\"}}, \"type\": \"table\"}]}, \"layout\": {\"annotationdefaults\": {\"arrowcolor\": \"#2a3f5f\", \"arrowhead\": 0, \"arrowwidth\": 1}, \"coloraxis\": {\"colorbar\": {\"outlinewidth\": 0, \"ticks\": \"\"}}, \"colorscale\": {\"diverging\": [[0, \"#8e0152\"], [0.1, \"#c51b7d\"], [0.2, \"#de77ae\"], [0.3, \"#f1b6da\"], [0.4, \"#fde0ef\"], [0.5, \"#f7f7f7\"], [0.6, \"#e6f5d0\"], [0.7, \"#b8e186\"], [0.8, \"#7fbc41\"], [0.9, \"#4d9221\"], [1, \"#276419\"]], \"sequential\": [[0.0, \"#0d0887\"], [0.1111111111111111, \"#46039f\"], [0.2222222222222222, \"#7201a8\"], [0.3333333333333333, \"#9c179e\"], [0.4444444444444444, \"#bd3786\"], [0.5555555555555556, \"#d8576b\"], [0.6666666666666666, \"#ed7953\"], [0.7777777777777778, \"#fb9f3a\"], [0.8888888888888888, \"#fdca26\"], [1.0, \"#f0f921\"]], \"sequentialminus\": [[0.0, \"#0d0887\"], [0.1111111111111111, \"#46039f\"], [0.2222222222222222, \"#7201a8\"], [0.3333333333333333, \"#9c179e\"], [0.4444444444444444, \"#bd3786\"], [0.5555555555555556, \"#d8576b\"], [0.6666666666666666, \"#ed7953\"], [0.7777777777777778, \"#fb9f3a\"], [0.8888888888888888, \"#fdca26\"], [1.0, \"#f0f921\"]]}, \"colorway\": [\"#636efa\", \"#EF553B\", \"#00cc96\", \"#ab63fa\", \"#FFA15A\", \"#19d3f3\", \"#FF6692\", \"#B6E880\", \"#FF97FF\", \"#FECB52\"], \"font\": {\"color\": \"#2a3f5f\"}, \"geo\": {\"bgcolor\": \"white\", \"lakecolor\": \"white\", \"landcolor\": \"#E5ECF6\", \"showlakes\": true, \"showland\": true, \"subunitcolor\": \"white\"}, \"hoverlabel\": {\"align\": \"left\"}, \"hovermode\": \"closest\", \"mapbox\": {\"style\": \"light\"}, \"paper_bgcolor\": \"white\", \"plot_bgcolor\": \"#E5ECF6\", \"polar\": {\"angularaxis\": {\"gridcolor\": \"white\", \"linecolor\": \"white\", \"ticks\": \"\"}, \"bgcolor\": \"#E5ECF6\", \"radialaxis\": {\"gridcolor\": \"white\", \"linecolor\": \"white\", \"ticks\": \"\"}}, \"scene\": {\"xaxis\": {\"backgroundcolor\": \"#E5ECF6\", \"gridcolor\": \"white\", \"gridwidth\": 2, \"linecolor\": \"white\", \"showbackground\": true, \"ticks\": \"\", \"zerolinecolor\": \"white\"}, \"yaxis\": {\"backgroundcolor\": \"#E5ECF6\", \"gridcolor\": \"white\", \"gridwidth\": 2, \"linecolor\": \"white\", \"showbackground\": true, \"ticks\": \"\", \"zerolinecolor\": \"white\"}, \"zaxis\": {\"backgroundcolor\": \"#E5ECF6\", \"gridcolor\": \"white\", \"gridwidth\": 2, \"linecolor\": \"white\", \"showbackground\": true, \"ticks\": \"\", \"zerolinecolor\": \"white\"}}, \"shapedefaults\": {\"line\": {\"color\": \"#2a3f5f\"}}, \"ternary\": {\"aaxis\": {\"gridcolor\": \"white\", \"linecolor\": \"white\", \"ticks\": \"\"}, \"baxis\": {\"gridcolor\": \"white\", \"linecolor\": \"white\", \"ticks\": \"\"}, \"bgcolor\": \"#E5ECF6\", \"caxis\": {\"gridcolor\": \"white\", \"linecolor\": \"white\", \"ticks\": \"\"}}, \"title\": {\"x\": 0.05}, \"xaxis\": {\"automargin\": true, \"gridcolor\": \"white\", \"linecolor\": \"white\", \"ticks\": \"\", \"title\": {\"standoff\": 15}, \"zerolinecolor\": \"white\", \"zerolinewidth\": 2}, \"yaxis\": {\"automargin\": true, \"gridcolor\": \"white\", \"linecolor\": \"white\", \"ticks\": \"\", \"title\": {\"standoff\": 15}, \"zerolinecolor\": \"white\", \"zerolinewidth\": 2}}}, \"xaxis\": {\"anchor\": \"y\", \"categoryarray\": [\"Human\", \"Bacteria\", \"Virus\", \"Fungus\", \"Parasite\", \"Unclassified\"], \"categoryorder\": \"array\", \"domain\": [0.0, 1.0], \"title\": {\"text\": \"Organism\"}}, \"yaxis\": {\"anchor\": \"x\", \"domain\": [0.0, 1.0], \"title\": {\"text\": \"% Composition\"}, \"type\": \"log\"}},\n",
       "                        {\"responsive\": true}\n",
       "                    ).then(function(){\n",
       "                            \n",
       "var gd = document.getElementById('d8024439-74a4-4a2a-8e9a-cc715161bbb2');\n",
       "var x = new MutationObserver(function (mutations, observer) {{\n",
       "        var display = window.getComputedStyle(gd).display;\n",
       "        if (!display || display === 'none') {{\n",
       "            console.log([gd, 'removed!']);\n",
       "            Plotly.purge(gd);\n",
       "            observer.disconnect();\n",
       "        }}\n",
       "}});\n",
       "\n",
       "// Listen for the removal of the full notebook cells\n",
       "var notebookContainer = gd.closest('#notebook-container');\n",
       "if (notebookContainer) {{\n",
       "    x.observe(notebookContainer, {childList: true});\n",
       "}}\n",
       "\n",
       "// Listen for the clearing of the current output cell\n",
       "var outputEl = gd.closest('.output');\n",
       "if (outputEl) {{\n",
       "    x.observe(outputEl, {childList: true});\n",
       "}}\n",
       "\n",
       "                        })\n",
       "                };\n",
       "                });\n",
       "            </script>\n",
       "        </div>"
      ]
     },
     "metadata": {},
     "output_type": "display_data"
    },
    {
     "name": "stdout",
     "output_type": "stream",
     "text": [
      "DNA    156\n",
      "Name: Library Type, dtype: int64\n"
     ]
    }
   ],
   "source": [
    "merged_melt = pd.melt(\n",
    "    merged_with_new_neg,\n",
    "    id_vars=['Accession', 'Batch ID', 'Run Date', 'Library Type', 'Composition File'],\n",
    "    value_vars=['Human', 'Bacteria', 'Virus', 'Fungus', 'Parasite', 'Unclassified'],\n",
    "    value_name='% Composition',\n",
    "    var_name='Organism'\n",
    ")\n",
    "merged_melt['Neg Ctrl Matrix'] = 'New'\n",
    "merged_melt.loc[merged_melt['Run Date'] < '2019-12-11', 'Neg Ctrl Matrix'] = 'Old'\n",
    "merged_melt.loc[(merged_melt['Batch ID'].isin(['191210B02', '191211B02']))\n",
    "                & (merged_melt['Accession'] == 'controlNeg'), 'Neg Ctrl Matrix'] = 'Old'\n",
    "merged_melt = merged_melt.sort_values('Run Date')\n",
    "fig = px.box(merged_melt, x='Organism', y='% Composition',\n",
    "             color='Neg Ctrl Matrix', log_y=True,\n",
    "             category_orders={'Organism': ['Human', 'Bacteria', 'Virus', 'Fungus', 'Parasite', 'Unclassified']},\n",
    "             points='all', hover_data=['Run Date'])\n",
    "fig.update_layout(height=700, font=dict(size=18))\n",
    "fig.show()\n",
    "print(merged_melt['Library Type'].value_counts())"
   ]
  },
  {
   "cell_type": "code",
   "execution_count": null,
   "metadata": {},
   "outputs": [],
   "source": []
  },
  {
   "cell_type": "code",
   "execution_count": null,
   "metadata": {},
   "outputs": [],
   "source": []
  }
 ],
 "metadata": {
  "kernelspec": {
   "display_name": "Python 3",
   "language": "python",
   "name": "python3"
  },
  "language_info": {
   "codemirror_mode": {
    "name": "ipython",
    "version": 3
   },
   "file_extension": ".py",
   "mimetype": "text/x-python",
   "name": "python",
   "nbconvert_exporter": "python",
   "pygments_lexer": "ipython3",
   "version": "3.6.8"
  }
 },
 "nbformat": 4,
 "nbformat_minor": 4
}
